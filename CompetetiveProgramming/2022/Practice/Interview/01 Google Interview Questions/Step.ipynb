{
 "cells": [
  {
   "cell_type": "code",
   "execution_count": 15,
   "metadata": {},
   "outputs": [],
   "source": [
    "def isSubsequence(s1, s2, k):\n",
    "    s1+= s1*k\n",
    "    # print(s1)\n",
    "    idx= 0\n",
    "    for i in s2:\n",
    "        if not s1.__contains__(i):\n",
    "            return 'NO'\n",
    "        # print(s1)\n",
    "        s1= s1[s1.index(i)+1:]\n",
    "    return 'YES'"
   ]
  },
  {
   "cell_type": "code",
   "execution_count": 16,
   "metadata": {},
   "outputs": [
    {
     "data": {
      "text/plain": [
       "'YES'"
      ]
     },
     "execution_count": 16,
     "metadata": {},
     "output_type": "execute_result"
    }
   ],
   "source": [
    "K= 2\n",
    "str1= 'abcd'\n",
    "str2= 'abbc'\n",
    "isSubsequence(str1, str2, K)"
   ]
  },
  {
   "cell_type": "code",
   "execution_count": 17,
   "metadata": {},
   "outputs": [
    {
     "data": {
      "text/plain": [
       "'NO'"
      ]
     },
     "execution_count": 17,
     "metadata": {},
     "output_type": "execute_result"
    }
   ],
   "source": [
    "K= 1\n",
    "str1= 'abcd'\n",
    "str2= 'abbb'\n",
    "isSubsequence(str1, str2, K)"
   ]
  },
  {
   "cell_type": "code",
   "execution_count": null,
   "metadata": {},
   "outputs": [],
   "source": [
    "def isSubsequence(s1, s2, k):\n",
    "    s1+= s1*k\n",
    "    # print(s1)\n",
    "    idx= 0\n",
    "    for i in s2:\n",
    "        if not s1.__contains__(i):\n",
    "            return 'NO'\n",
    "        # print(s1)\n",
    "        s1= s1[s1.index(i)+1:]\n",
    "    return 'YES'\n",
    "T= int(input())\n",
    "for _ in range(T):\n",
    "    K= int(input())\n",
    "    str1= input()\n",
    "    str2= input()\n",
    "    print(isSubsequence(str1, str2, K))"
   ]
  }
 ],
 "metadata": {
  "kernelspec": {
   "display_name": "Python 3.9.7 64-bit",
   "language": "python",
   "name": "python3"
  },
  "language_info": {
   "codemirror_mode": {
    "name": "ipython",
    "version": 3
   },
   "file_extension": ".py",
   "mimetype": "text/x-python",
   "name": "python",
   "nbconvert_exporter": "python",
   "pygments_lexer": "ipython3",
   "version": "3.9.7"
  },
  "orig_nbformat": 4,
  "vscode": {
   "interpreter": {
    "hash": "2e61b4e68d91170e6a828addbb12c998be56a3b087bfc9988ada4585bf499f3e"
   }
  }
 },
 "nbformat": 4,
 "nbformat_minor": 2
}
