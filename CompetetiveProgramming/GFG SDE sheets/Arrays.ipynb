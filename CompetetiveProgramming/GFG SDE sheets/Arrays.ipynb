{
 "cells": [
  {
   "cell_type": "markdown",
   "metadata": {},
   "source": [
    "## **[Leaders in the Array](https://practice.geeksforgeeks.org/problems/leaders-in-an-array-1587115620/1)**"
   ]
  },
  {
   "cell_type": "code",
   "execution_count": 1,
   "metadata": {},
   "outputs": [],
   "source": [
    "class Solution:\n",
    "    #Back-end complete function Template for Python 3\n",
    "    \n",
    "    #Function to find the leaders in the array.\n",
    "    def leaders(self, A, N):\n",
    "        #Code here\n",
    "        leader= []\n",
    "        for i in range(N):\n",
    "            if max(A[i:])<=A[i]:\n",
    "                leader.append(A[i])\n",
    "        \n",
    "        return leader\n",
    "\n",
    "# Time Complexity: O(N * N)\n",
    "# Auxiliary Space: O(1)"
   ]
  },
  {
   "cell_type": "code",
   "execution_count": 2,
   "metadata": {},
   "outputs": [],
   "source": [
    "# Find Leader by finding suffix maximum:\n",
    "# The idea is to scan all the elements from right to left in an array and keep track of the maximum till now. When the maximum changes its value, print it.\n",
    "\n",
    "class Solution:\n",
    "    #Back-end complete function Template for Python 3\n",
    "    \n",
    "    #Function to find the leaders in the array.\n",
    "    def leaders(self, A, N):\n",
    "        #Code here\n",
    "        A.reverse()\n",
    "        leader= []\n",
    "        max= A[0]\n",
    "        for i in range(0, N):\n",
    "            if A[i]>=max:\n",
    "                max= A[i]\n",
    "                leader.append(max)\n",
    "        leader.reverse()\n",
    "        return leader\n",
    "\n",
    "# Time Complexity: O(N)\n",
    "# Auxiliary Space: O(1)"
   ]
  },
  {
   "cell_type": "markdown",
   "metadata": {},
   "source": [
    "## **[Equilibrium point](https://practice.geeksforgeeks.org/problems/equilibrium-point-1587115620/1)**"
   ]
  },
  {
   "cell_type": "code",
   "execution_count": 3,
   "metadata": {},
   "outputs": [],
   "source": [
    "# User function Template for python3\n",
    "\n",
    "class Solution:\n",
    "    # Complete this function\n",
    "    \n",
    "    #Function to find equilibrium point in the array.\n",
    "    def equilibriumPoint(self,A, N):\n",
    "        # Your code here\n",
    "        lsum= 0 # O(N)\n",
    "        rsum= sum(A[1:])\n",
    "        for i in range(N): # O(N)\n",
    "            if lsum==rsum:\n",
    "                return i+1\n",
    "            lsum+=A[i]\n",
    "            if i!=N-1:\n",
    "                rsum-=A[i+1]\n",
    "        return -1\n",
    "# Time Complexity: O(N)\n",
    "# Auxiliary Space: O(1)"
   ]
  },
  {
   "cell_type": "markdown",
   "metadata": {},
   "source": [
    "## **[Sort an array of 0s, 1s and 2s](https://practice.geeksforgeeks.org/problems/sort-an-array-of-0s-1s-and-2s4231/1)**"
   ]
  },
  {
   "cell_type": "code",
   "execution_count": 4,
   "metadata": {},
   "outputs": [],
   "source": [
    "#User function Template for python3\n",
    "\n",
    "class Solution:\n",
    "    def sort012(self,arr,n):\n",
    "        # code here\n",
    "        arr.sort() # Timsort algorithm O(N log N)\n",
    "        return arr\n",
    "# Time Complexity: O(N log N)\n",
    "# Auxiliary Space: O(1)"
   ]
  },
  {
   "cell_type": "code",
   "execution_count": 5,
   "metadata": {},
   "outputs": [],
   "source": [
    "#User function Template for python3\n",
    "\n",
    "class Solution:\n",
    "    def sort012(self,arr,n):\n",
    "        # code here\n",
    "        _0= 0\n",
    "        _1= 0\n",
    "        _2= 0\n",
    "        idx= 0\n",
    "        arr.sort() # Timsort algorithm O(N log N)\n",
    "        for i in range(n):\n",
    "            if arr[i]==0:\n",
    "                _0+=1\n",
    "            elif arr[i]==1:\n",
    "                _1+=1\n",
    "            elif arr[i]==2:\n",
    "                _2+=1\n",
    "        \n",
    "        while _0>0:\n",
    "            arr[i]= 0\n",
    "            idx+=1\n",
    "            _0-=1\n",
    "        \n",
    "        while _1>0:\n",
    "            arr[i]= 1\n",
    "            idx+=1\n",
    "            _1-=1\n",
    "        \n",
    "        while _2>0:\n",
    "            arr[i]= 2\n",
    "            idx+=1\n",
    "            _2-=1\n",
    "                \n",
    "                \n",
    "        # return arr\n",
    "\n",
    "# Time Complexity: O(N)\n",
    "# Auxiliary Space: O(1)"
   ]
  },
  {
   "cell_type": "markdown",
   "metadata": {},
   "source": [
    "## **[Reverse array in groups](https://practice.geeksforgeeks.org/problems/reverse-array-in-groups0255/1)**"
   ]
  },
  {
   "cell_type": "code",
   "execution_count": 6,
   "metadata": {},
   "outputs": [],
   "source": [
    "#User function template for Python\n",
    "\n",
    "class Solution:\t\n",
    "    #Function to reverse every sub-array group of size k.\n",
    "\tdef reverseInGroups(self, arr, N, K):\n",
    "\t\t# code here\n",
    "\t\tnewAr= []\n",
    "\t\tremAr= arr\n",
    "\t\tans= []\n",
    "\t\tidx= 0\n",
    "\t\twhile idx+ K<=N: # O(N)\n",
    "\t\t\tnewAr= arr[idx: idx+K]\n",
    "\t\t\tremAr = arr[idx+K:]\n",
    "\t\t\tnewAr.reverse()\n",
    "\t\t\tarr[idx: idx+K] = newAr\n",
    "\t\t\tans+=newAr\n",
    "\t\t\tidx+=K\n",
    "\t\t\tremAr.reverse()    \n",
    "\t\t\tarr[idx: ]= remAr\n",
    "\t\t\tans+=remAr\n",
    "\t\tprint(ans)\n",
    "\t\t# return ans\n",
    "\n",
    "# Time Complexity: O(N)\n",
    "# Auxiliary Space: O(N)\n"
   ]
  },
  {
   "cell_type": "code",
   "execution_count": 7,
   "metadata": {},
   "outputs": [
    {
     "name": "stdout",
     "output_type": "stream",
     "text": [
      "[8, 6, 5, 9]\n"
     ]
    }
   ],
   "source": [
    "# N = 4, K = 3\n",
    "# arr[] = {5, 6, 8, 9}\n",
    "# Output: 8 6 5 9\n",
    "\n",
    "s= Solution()\n",
    "arr= [5, 6, 8, 9]\n",
    "N= 4\n",
    "K= 3\n",
    "s.reverseInGroups(arr, N, K)"
   ]
  },
  {
   "cell_type": "markdown",
   "metadata": {},
   "source": [
    "## **[Convert array into Zig-Zag fashion](https://practice.geeksforgeeks.org/problems/convert-array-into-zig-zag-fashion1638/1)**"
   ]
  },
  {
   "cell_type": "code",
   "execution_count": 8,
   "metadata": {},
   "outputs": [],
   "source": [
    "#User function Template for python3\n",
    "class Solution:\n",
    "\n",
    "    def zigZag(self, arr, n):\n",
    "        # code here\n",
    "        m = 1  # < operation\n",
    "        for i in range(n-1):\n",
    "            if m == 1 and arr[i] > arr[i+1]:\n",
    "                arr[i], arr[i+1] = arr[i+1], arr[i]\n",
    "            elif m == -1 and arr[i] < arr[i+1]:\n",
    "                arr[i], arr[i+1] = arr[i+1], arr[i]\n",
    "\n",
    "            m*=-1\n",
    "\n",
    "# Time Complexity: O(N)\n",
    "# Auxiliary Space: O(1)"
   ]
  },
  {
   "cell_type": "markdown",
   "metadata": {},
   "source": [
    "## **[Rearrange Array Alternately](https://practice.geeksforgeeks.org/problems/-rearrange-array-alternately-1587115620/1)**"
   ]
  },
  {
   "cell_type": "code",
   "execution_count": 9,
   "metadata": {},
   "outputs": [],
   "source": [
    "#User function Template for python3\n",
    "class Solution:\n",
    "    ##Complete this function\n",
    "    #Function to rearrange  the array elements alternately.\n",
    "    def rearrange(self,arr, n): \n",
    "        ##Your code here\n",
    "        idx= 0\n",
    "        for i in range(n//2): # O(n)\n",
    "            x= arr.pop() # O(1)\n",
    "            arr.insert(idx, x)  # O(n)\n",
    "            idx+=2\n",
    "        return arr\n",
    "\n",
    "# TLE\n",
    "\n",
    "# Time Complexity: O(N*N)\n",
    "# Auxiliary Space: O(1)\n"
   ]
  },
  {
   "cell_type": "code",
   "execution_count": 10,
   "metadata": {},
   "outputs": [],
   "source": [
    "#User function Template for python3\n",
    "class Solution:\n",
    "    ##Complete this function\n",
    "    #Function to rearrange  the array elements alternately.\n",
    "    def rearrange(self,arr, n): \n",
    "        ##Your code here\n",
    "        arrdash= arr.copy() # O(N)\n",
    "        minidx= 0\n",
    "        maxidx= n-1\n",
    "        for i in range(n): # O(N)\n",
    "            if i%2==0:\n",
    "                arr[i]= arrdash[maxidx]\n",
    "                maxidx-=1\n",
    "            else:\n",
    "                arr[i]= arrdash[minidx]\n",
    "                minidx+=1\n",
    "# Time Complexity: O(N)\n",
    "# Auxiliary Space: O(1)\n"
   ]
  },
  {
   "cell_type": "code",
   "execution_count": 11,
   "metadata": {},
   "outputs": [],
   "source": [
    "# N = 11\n",
    "# arr[] = {10, 20, 30, 40, 50, 60, 70, 80, 90, 100, 110}\n",
    "# Output: 110 10 100 20 90 30 80 40 70 50 60\n",
    "\n",
    "N = 11\n",
    "arr= [10,20,30,40,50,60,70,80,90,100,110]\n",
    "s= Solution()\n",
    "s.rearrange(arr, N)"
   ]
  },
  {
   "cell_type": "markdown",
   "metadata": {},
   "source": [
    "## **[Missing number in array](https://practice.geeksforgeeks.org/problems/missing-number-in-array1416/1)**"
   ]
  },
  {
   "cell_type": "code",
   "execution_count": 12,
   "metadata": {},
   "outputs": [],
   "source": [
    "#User function Template for python3\n",
    "\n",
    "\n",
    "class Solution:\n",
    "    def MissingNumber(self, array, n):\n",
    "        # code here\n",
    "        # array.sort()\n",
    "        for i in range(1, n+1): # O(N)\n",
    "            if i not in array: # O(N)\n",
    "                return i\n",
    "\n",
    "# Time Complexity: O(N*N)\n",
    "# Auxiliary Space: O(1)\n"
   ]
  },
  {
   "cell_type": "code",
   "execution_count": 13,
   "metadata": {},
   "outputs": [],
   "source": [
    "#User function Template for python3\n",
    "\n",
    "\n",
    "class Solution:\n",
    "    def MissingNumber(self, array, n):\n",
    "        # code here\n",
    "        s = sum(array) # O(N)\n",
    "        sn = (n)*(n+1)*0.5  # sum of n natural number\n",
    "        return int(sn-s)\n",
    "        \n",
    "# Time Complexity: O(N)\n",
    "# Auxiliary Space: O(1)"
   ]
  },
  {
   "cell_type": "markdown",
   "metadata": {},
   "source": [
    "## **[K-th element of two sorted Arrays](https://practice.geeksforgeeks.org/problems/k-th-element-of-two-sorted-array1317/1)**"
   ]
  },
  {
   "cell_type": "code",
   "execution_count": 14,
   "metadata": {},
   "outputs": [],
   "source": [
    "#User function Template for python3\n",
    "\n",
    "class Solution:\n",
    "    def kthElement(self,  arr1, arr2, n, m, k):\n",
    "        arr = arr1+arr2  # O(n+m)\n",
    "        arr.sort() # O(N log N)\n",
    "        return arr[k-1]\n",
    "\n",
    "# Time Complexity: O(N log N)\n",
    "# Auxiliary Space: O(1)\n"
   ]
  },
  {
   "cell_type": "markdown",
   "metadata": {},
   "source": [
    "## **[Check if two arrays are equal or not](https://practice.geeksforgeeks.org/problems/check-if-two-arrays-are-equal-or-not3847/1)**"
   ]
  },
  {
   "cell_type": "code",
   "execution_count": 15,
   "metadata": {},
   "outputs": [],
   "source": [
    "#User function Template for python3\n",
    "\n",
    "class Solution:\n",
    "    #Function to check if two arrays are equal or not.\n",
    "    def check(self, A, B, N):\n",
    "        A.sort() # O(N log N)\n",
    "        B.sort() # O(N log N)\n",
    "        for i in range(N):  # O(N)\n",
    "            if A[i]!=B[i]:\n",
    "                return False\n",
    "        return True\n",
    "\n",
    "# Time Complexity: O(N log N)\n",
    "# Auxiliary Space: O(1)\n"
   ]
  },
  {
   "cell_type": "code",
   "execution_count": 16,
   "metadata": {},
   "outputs": [],
   "source": [
    "#User function Template for python3\n",
    "\n",
    "class Solution:\n",
    "    #Function to check if two arrays are equal or not.\n",
    "    def check(self, A, B, N):\n",
    "\n",
    "        d = dict()\n",
    "        for i in A:  # O(N)\n",
    "            if i not in d.keys(): # O(1)\n",
    "                d[i] = 1\n",
    "            else:\n",
    "                d[i] += 1\n",
    "        for i in B:  # O(N)\n",
    "            if i not in d.keys():  # O(1)\n",
    "                d[i] = 1\n",
    "            elif d[i] > 0:\n",
    "                d[i] -= 1\n",
    "\n",
    "        return sum(list(d.values())) == 0  # O(N)\n",
    "# Time Complexity: O(N)\n",
    "# Auxiliary Space: O(N)\n"
   ]
  },
  {
   "cell_type": "code",
   "execution_count": 17,
   "metadata": {},
   "outputs": [
    {
     "data": {
      "text/plain": [
       "False"
      ]
     },
     "execution_count": 17,
     "metadata": {},
     "output_type": "execute_result"
    }
   ],
   "source": [
    "N= 5\n",
    "A= [20, 6, 17, 15, 19]\n",
    "B= [6, 17, 20, 19, 19]\n",
    "s= Solution()\n",
    "s.check(A, B, N)\n"
   ]
  },
  {
   "cell_type": "markdown",
   "metadata": {},
   "source": [
    "## **[Kadane's Algorithm](https://practice.geeksforgeeks.org/problems/kadanes-algorithm/0)**\n",
    "Largest Sum Contiguous Subarray (Kadane’s Algorithm)"
   ]
  },
  {
   "cell_type": "code",
   "execution_count": 18,
   "metadata": {},
   "outputs": [],
   "source": [
    "# Initialize:\n",
    "#     max_so_far = INT_MIN\n",
    "#     max_ending_here = 0\n",
    "\n",
    "# Loop for each element of the array\n",
    "\n",
    "# (a) max_ending_here = max_ending_here + a[i]\n",
    "# (b) if (max_so_far < max_ending_here)\n",
    "#           max_so_far = max_ending_here\n",
    "# (c) if (max_ending_here < 0)\n",
    "#           max_ending_here = 0\n",
    "# return max_so_far\n",
    "\n",
    "\n",
    "#User function Template for python3\n",
    "\n",
    "class Solution:\n",
    "    ##Complete this function\n",
    "    #Function to find the sum of contiguous subarray with maximum sum.\n",
    "    def maxSubArraySum(self, arr, N):\n",
    "        ##Your code here\n",
    "        max_so_far = -100000\n",
    "        max_ending_here = 0\n",
    "        for i in arr: # O(N)\n",
    "            max_ending_here += i\n",
    "\n",
    "            if max_so_far < max_ending_here:\n",
    "                max_so_far = max_ending_here\n",
    "            if max_ending_here < 0:\n",
    "                max_ending_here = 0\n",
    "        return max_so_far\n",
    "\n",
    "\n",
    "# Time Complexity: O(N)\n",
    "# Auxiliary Space: O(1)\n"
   ]
  },
  {
   "cell_type": "markdown",
   "metadata": {},
   "source": [
    "## **[Subarray with given sum](https://practice.geeksforgeeks.org/problems/subarray-with-given-sum/0)**"
   ]
  },
  {
   "cell_type": "code",
   "execution_count": 19,
   "metadata": {},
   "outputs": [],
   "source": [
    "#User function Template for python3\n",
    "\n",
    "#Function to find a continuous sub-array which adds up to a given number.\n",
    "class Solution:\n",
    "    def subArraySum(self, arr, n, s):\n",
    "       #Write your code here\n",
    "        #   s= sum(arr)\n",
    "       sum_init = 0\n",
    "       sum_so_far = 0\n",
    "       for i in range(n): # O(N)\n",
    "           current_sum = 0\n",
    "           for j in range(i, n): # O(N)\n",
    "               current_sum += arr[j]\n",
    "               if current_sum == s:\n",
    "                   return [i+1, j+1]\n",
    "       return [-1]\n",
    "       \n",
    "# TLE\n",
    "# Time Complexity: O(N*N)\n",
    "# Auxiliary Space: O(1)\n"
   ]
  },
  {
   "cell_type": "code",
   "execution_count": 20,
   "metadata": {},
   "outputs": [],
   "source": [
    "#User function Template for python3\n",
    "\n",
    "#Function to find a continuous sub-array which adds up to a given number.\n",
    "class Solution:\n",
    "    def subArraySum(self, arr, n, s):\n",
    "       #Write your code here\n",
    "        #   s= sum(arr)\n",
    "       start = 0  # index of the sliding window\n",
    "       current_sum = arr[0]\n",
    "       sum_so_far = 0\n",
    "       for i in range(1, n):\n",
    "           current_sum += arr[i]\n",
    "           while current_sum > s and start<i:\n",
    "               current_sum -= arr[start]\n",
    "               start += 1\n",
    "            #    print(f'WHILE i= {i}, current_sum= {current_sum}, start= {start}')\n",
    "           if current_sum == s and start<i:\n",
    "               return [start+1, i+1]\n",
    "        #    print(f'i= {i}, current_sum= {current_sum}, start= {start}')\n",
    "\n",
    "       while(start<n and current_sum>s):\n",
    "           current_sum-=arr[start]\n",
    "           start+=1\n",
    "           if current_sum == s and start<n:\n",
    "               return [start+1, n]\n",
    "        #    print(f'while, current_sum= {current_sum}, start= {start}')\n",
    "\n",
    "           \n",
    "       return [-1]\n"
   ]
  },
  {
   "cell_type": "code",
   "execution_count": 25,
   "metadata": {},
   "outputs": [],
   "source": [
    "#User function Template for python3\n",
    "\n",
    "#Function to find a continuous sub-array which adds up to a given number.\n",
    "class Solution:\n",
    "    def subArraySum(self,arr, n, sum_): \n",
    "        # Initialize curr_sum = value of first element\n",
    "        # and starting point as 0 \n",
    "        A = []\n",
    "        curr_sum = arr[0] # current sum\n",
    "        start = 0\n",
    "\n",
    "        # Add elements one by one to curr_sum and if the curr_sum exceeds the sum, then remove starting element \n",
    "        i = 1\n",
    "        while i <= n: # O(N)\n",
    "        \n",
    "            # If curr_sum exceeds the sum, then remove the starting elements\n",
    "            while curr_sum > sum_ and start < i-1:\n",
    "        \n",
    "                curr_sum = curr_sum - arr[start]\n",
    "                start += 1\n",
    "            \n",
    "            # If curr_sum becomes equal to sum, then return true\n",
    "            if curr_sum == sum_:\n",
    "                A.append(start+1)\n",
    "                A.append(i)\n",
    "                return A\n",
    "\n",
    "            # Add this element to curr_sum\n",
    "            if i < n:\n",
    "                curr_sum = curr_sum + arr[i]\n",
    "            i += 1\n",
    "\n",
    "        # If we reach here, then no subarray\n",
    "        A.append(-1)\n",
    "        return A\n",
    "# Time Complexity: O(N*N)\n",
    "# Auxiliary Space: O(1)"
   ]
  },
  {
   "cell_type": "code",
   "execution_count": 26,
   "metadata": {},
   "outputs": [
    {
     "data": {
      "text/plain": [
       "[-1]"
      ]
     },
     "execution_count": 26,
     "metadata": {},
     "output_type": "execute_result"
    }
   ],
   "source": [
    "s= Solution()\n",
    "N= 4 \n",
    "S= 0\n",
    "A= [1, 2, 3, 4]\n",
    "s.subArraySum(A, N, S)\n"
   ]
  },
  {
   "cell_type": "code",
   "execution_count": 22,
   "metadata": {},
   "outputs": [
    {
     "data": {
      "text/plain": [
       "[20, 37]"
      ]
     },
     "execution_count": 22,
     "metadata": {},
     "output_type": "execute_result"
    }
   ],
   "source": [
    "s= Solution()\n",
    "N= 57 \n",
    "S= 1562\n",
    "A= [28, 68, 142, 130, 41, 14, 175, 2, 78, 16, 84, 14, 193, 25, 2, 193, 160, 71, 29, 28, 85, 76, 187, 99, 171, 88, 48, 5, 104, 22, 64, 107, 164, 11, 172, 90, 41, 165, 143, 20, 114, 192, 105 ,19, 33, 151, 6, 176, 140, 104, 23, 99, 48, 185, 49, 172, 65]\n",
    "s.subArraySum(A, N, S)  # ans= [20: 37], start= 19, end= 36\n",
    "# print(sum(A[19:37]))"
   ]
  },
  {
   "cell_type": "code",
   "execution_count": 23,
   "metadata": {},
   "outputs": [
    {
     "data": {
      "text/plain": [
       "[3, 5]"
      ]
     },
     "execution_count": 23,
     "metadata": {},
     "output_type": "execute_result"
    }
   ],
   "source": [
    "s = Solution()\n",
    "# Input:\n",
    "# N = 5, S = 12\n",
    "# A[] = {1, 2, 3, 7, 5}\n",
    "# Output: 2 4\n",
    "# Explanation: The sum of elements is 12.\n",
    "\n",
    "N = 5\n",
    "S = 15\n",
    "A = [1, 2, 3, 7, 5]\n",
    "s.subArraySum(A, N, S)\n"
   ]
  },
  {
   "cell_type": "code",
   "execution_count": 24,
   "metadata": {},
   "outputs": [
    {
     "data": {
      "text/plain": [
       "[38, 42]"
      ]
     },
     "execution_count": 24,
     "metadata": {},
     "output_type": "execute_result"
    }
   ],
   "source": [
    "s= Solution()\n",
    "N= 42 \n",
    "S=468\n",
    "arr= [135, 101, 170, 125, 79, 159, 163, 65, 106, 146, 82, 28, 162, 92, 196, 143, 28, 37, 192, 5, 103, 154, 93, 183, 22, 117, 119, 96, 48, 127, 172 ,139 ,70 ,113, 68 ,100 ,36 ,95 ,104, 12, 123, 134]\n",
    "s.subArraySum(arr, N, S) # ans = [38:42]\n",
    "# print(sum(arr[37:])) "
   ]
  },
  {
   "cell_type": "markdown",
   "metadata": {},
   "source": [
    "## **[Trapping Rain Water](https://practice.geeksforgeeks.org/problems/trapping-rain-water-1587115621/1)**"
   ]
  },
  {
   "cell_type": "code",
   "execution_count": 23,
   "metadata": {},
   "outputs": [],
   "source": [
    "class Solution:\n",
    "    def trappingWater(self, arr, n):\n",
    "        #Code here\n",
    "        waterstored = 0\n",
    "        for i in range(1, n-1):\n",
    "            a = max(arr[:i+1])\n",
    "            b = max(arr[i:])\n",
    "            waterstored += min(a, b) - arr[i]\n",
    "            # print(f'i= {i} , a= {a}, b= {b}, waterstored= {min(a,b)-arr[i]}')\n",
    "        return waterstored\n",
    "# TLE\n",
    "# Time Complexity: O(N*N)\n",
    "# Auxiliary Space: O(1)"
   ]
  },
  {
   "cell_type": "code",
   "execution_count": 20,
   "metadata": {},
   "outputs": [],
   "source": [
    "# Python3 implementation of the approach\n",
    "\n",
    "# Function to return the maximum\n",
    "# water that can be stored\n",
    "def maxWater(arr, n):\n",
    "\n",
    "    # To store the maximum water\n",
    "    # that can be stored\n",
    "    res = 0\n",
    "\n",
    "    # For every element of the array\n",
    "    for i in range(1, n - 1):\n",
    "\n",
    "        # Find the maximum element on its left\n",
    "        left = arr[i]\n",
    "        for j in range(i):\n",
    "            left = max(left, arr[j])\n",
    "\n",
    "        # Find the maximum element on its right\n",
    "        right = arr[i]\n",
    "\n",
    "        for j in range(i + 1, n):\n",
    "            right = max(right, arr[j])\n",
    "\n",
    "        # Update the maximum water\n",
    "        res = res + (min(left, right) - arr[i])\n",
    "        print(f'i= {i} , a= {left}, b= {right}, waterstored= {(min(left, right) - arr[i])}')\n",
    "\n",
    "\n",
    "    return res\n",
    "# Time Complexity: O(N*N)\n",
    "# Auxiliary Space: O(1)\n"
   ]
  },
  {
   "cell_type": "code",
   "execution_count": 28,
   "metadata": {},
   "outputs": [],
   "source": [
    "class Solution:\n",
    "    def trappingWater(self, arr, n):\n",
    "        #Code here\n",
    "        # Precalculation of left and right\n",
    "        left = [0]*n\n",
    "        right = [0]*n\n",
    "        waterstored = 0\n",
    "\n",
    "        _max = 0\n",
    "        for i in range(n): # O(N)\n",
    "            _max = max(arr[i], _max)\n",
    "            left[i] = _max\n",
    "\n",
    "        _max = 0\n",
    "        for i in range(n-1, -1, -1): # O(N)\n",
    "            _max = max(arr[i], _max)\n",
    "            right[i] = _max\n",
    "\n",
    "        for i in range(n): # O(N)\n",
    "            waterstored += min(left[i], right[i]) - arr[i]\n",
    "\n",
    "        return waterstored\n",
    "\n",
    "# Time Complexity: O(N)\n",
    "# Auxiliary Space: O(1)\n"
   ]
  },
  {
   "cell_type": "code",
   "execution_count": 29,
   "metadata": {},
   "outputs": [
    {
     "data": {
      "text/plain": [
       "7"
      ]
     },
     "execution_count": 29,
     "metadata": {},
     "output_type": "execute_result"
    }
   ],
   "source": [
    "s= Solution()\n",
    "n= 10\n",
    "arr= [1, 1, 5, 2, 7, 6, 1, 4, 2, 3]\n",
    "s.trappingWater(arr, n)\n"
   ]
  },
  {
   "cell_type": "code",
   "execution_count": 30,
   "metadata": {},
   "outputs": [
    {
     "name": "stdout",
     "output_type": "stream",
     "text": [
      "i= 1 , a= 1, b= 7, waterstored= 0\n",
      "i= 2 , a= 5, b= 7, waterstored= 0\n",
      "i= 3 , a= 5, b= 7, waterstored= 3\n",
      "i= 4 , a= 7, b= 7, waterstored= 0\n",
      "i= 5 , a= 7, b= 6, waterstored= 0\n",
      "i= 6 , a= 7, b= 4, waterstored= 3\n",
      "i= 7 , a= 7, b= 4, waterstored= 0\n",
      "i= 8 , a= 7, b= 3, waterstored= 1\n"
     ]
    },
    {
     "data": {
      "text/plain": [
       "7"
      ]
     },
     "execution_count": 30,
     "metadata": {},
     "output_type": "execute_result"
    }
   ],
   "source": [
    "maxWater(arr, n)\n"
   ]
  },
  {
   "cell_type": "markdown",
   "metadata": {},
   "source": [
    "## **[Minimum Platforms](https://practice.geeksforgeeks.org/problems/minimum-platforms-1587115620/1)**"
   ]
  },
  {
   "cell_type": "code",
   "execution_count": null,
   "metadata": {},
   "outputs": [],
   "source": [
    "def findPlatform(arr, dep, n):\n",
    "    '''\n",
    "    Accepts two arrays with arrival and departure time\n",
    "    and the size of the array\n",
    "    Returns minimum number of platforms required\n",
    "    '''\n",
    " \n",
    "    # plat_needed indicates number of platforms\n",
    "    # needed at a time\n",
    "    plat_needed = 1\n",
    "    result = 1\n",
    " \n",
    "    # run a nested loop to find overlap\n",
    "    for i in range(n):\n",
    "        # minimum platform needed\n",
    "        plat_needed = 1\n",
    " \n",
    "        for j in range(n):\n",
    "            # check for overlap\n",
    "            if i != j:\n",
    "                if (arr[i] >= arr[j] and dep[j] >= arr[i]):\n",
    "                    plat_needed += 1\n",
    " \n",
    "        # update result\n",
    "        result = max(result, plat_needed)\n",
    " \n",
    "    return result\n",
    "# Time Complexity: O(N*N)\n",
    "# Auxiliary Space: O(1)"
   ]
  },
  {
   "cell_type": "code",
   "execution_count": null,
   "metadata": {},
   "outputs": [],
   "source": [
    "# Program to find minimum number of platforms required on a railway station\n",
    " \n",
    "# Returns minimum number of platforms required\n",
    " \n",
    " \n",
    "def findPlatform(arr, dep, n):\n",
    " \n",
    "    # Sort arrival and departure arrays\n",
    "    arr.sort()\n",
    "    dep.sort()\n",
    " \n",
    "    # plat_needed indicates number of platforms needed at a time\n",
    "    plat_needed = 1\n",
    "    result = 1\n",
    "    i = 1 # arrival of second train\n",
    "    j = 0 # departure of first train\n",
    " \n",
    "    # Similar to merge in merge sort to process all events in sorted order\n",
    "    while (i < n and j < n):\n",
    " \n",
    "        # If next event in sorted order is arrival, increment count of platforms needed\n",
    "        if (arr[i] <= dep[j]): \n",
    "            plat_needed += 1\n",
    "            i += 1\n",
    " \n",
    "        # Else decrement count of platforms needed\n",
    "        elif (arr[i] > dep[j]): \n",
    "            plat_needed -= 1\n",
    "            j += 1\n",
    " \n",
    "        # Update result if needed\n",
    "        result = max(plat_needed, result)\n",
    " \n",
    "    return result\n",
    "# Time Complexity: O(N log N)\n",
    "# Auxiliary Space: O(1)\n"
   ]
  },
  {
   "cell_type": "code",
   "execution_count": 31,
   "metadata": {},
   "outputs": [],
   "source": [
    "#User function Template for python3\n",
    "\n",
    "class Solution:\n",
    "    #Function to find the minimum number of platforms required at the\n",
    "    #railway station such that no train waits.\n",
    "    def minimumPlatform(self, n, arr, dep):\n",
    "        # code here\n",
    "        platform = [0]*2361\n",
    "        countPlatform = 1\n",
    "\n",
    "        for i in range(n):\n",
    "            platform[arr[i]] += 1\n",
    "            platform[dep[i]+1] -= 1\n",
    "\n",
    "        for i in range(1, 2361):\n",
    "            platform[i] = platform[i] + platform[i-1]\n",
    "            countPlatform = max(countPlatform, platform[i])\n",
    "        return countPlatform\n",
    "# Time Complexity: O(N)\n",
    "# Auxiliary Space: O(1)\n"
   ]
  },
  {
   "cell_type": "code",
   "execution_count": null,
   "metadata": {},
   "outputs": [],
   "source": []
  }
 ],
 "metadata": {
  "kernelspec": {
   "display_name": "Python 3.9.7 64-bit",
   "language": "python",
   "name": "python3"
  },
  "language_info": {
   "codemirror_mode": {
    "name": "ipython",
    "version": 3
   },
   "file_extension": ".py",
   "mimetype": "text/x-python",
   "name": "python",
   "nbconvert_exporter": "python",
   "pygments_lexer": "ipython3",
   "version": "3.9.7"
  },
  "orig_nbformat": 4,
  "vscode": {
   "interpreter": {
    "hash": "2e61b4e68d91170e6a828addbb12c998be56a3b087bfc9988ada4585bf499f3e"
   }
  }
 },
 "nbformat": 4,
 "nbformat_minor": 2
}
