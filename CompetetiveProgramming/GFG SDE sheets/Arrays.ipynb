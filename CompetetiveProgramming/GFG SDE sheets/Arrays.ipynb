{
 "cells": [
  {
   "cell_type": "markdown",
   "metadata": {},
   "source": [
    "## **[Leaders in the Array](https://practice.geeksforgeeks.org/problems/leaders-in-an-array-1587115620/1)**"
   ]
  },
  {
   "cell_type": "code",
   "execution_count": 5,
   "metadata": {},
   "outputs": [],
   "source": [
    "class Solution:\n",
    "    #Back-end complete function Template for Python 3\n",
    "    \n",
    "    #Function to find the leaders in the array.\n",
    "    def leaders(self, A, N):\n",
    "        #Code here\n",
    "        leader= []\n",
    "        for i in range(N):\n",
    "            if max(A[i:])<=A[i]:\n",
    "                leader.append(A[i])\n",
    "        \n",
    "        return leader\n",
    "\n",
    "# Time Complexity: O(N * N)\n",
    "# Auxiliary Space: O(1)"
   ]
  },
  {
   "cell_type": "code",
   "execution_count": 6,
   "metadata": {},
   "outputs": [],
   "source": [
    "# Find Leader by finding suffix maximum:\n",
    "# The idea is to scan all the elements from right to left in an array and keep track of the maximum till now. When the maximum changes its value, print it.\n",
    "\n",
    "class Solution:\n",
    "    #Back-end complete function Template for Python 3\n",
    "    \n",
    "    #Function to find the leaders in the array.\n",
    "    def leaders(self, A, N):\n",
    "        #Code here\n",
    "        A.reverse()\n",
    "        leader= []\n",
    "        max= A[0]\n",
    "        for i in range(0, N):\n",
    "            if A[i]>=max:\n",
    "                max= A[i]\n",
    "                leader.append(max)\n",
    "        leader.reverse()\n",
    "        return leader\n",
    "\n",
    "# Time Complexity: O(N)\n",
    "# Auxiliary Space: O(1)"
   ]
  },
  {
   "cell_type": "markdown",
   "metadata": {},
   "source": [
    "## **[Equilibrium point](https://practice.geeksforgeeks.org/problems/equilibrium-point-1587115620/1)**"
   ]
  },
  {
   "cell_type": "code",
   "execution_count": 7,
   "metadata": {},
   "outputs": [],
   "source": [
    "# User function Template for python3\n",
    "\n",
    "class Solution:\n",
    "    # Complete this function\n",
    "    \n",
    "    #Function to find equilibrium point in the array.\n",
    "    def equilibriumPoint(self,A, N):\n",
    "        # Your code here\n",
    "        lsum= 0 # O(N)\n",
    "        rsum= sum(A[1:])\n",
    "        for i in range(N): # O(N)\n",
    "            if lsum==rsum:\n",
    "                return i+1\n",
    "            lsum+=A[i]\n",
    "            if i!=N-1:\n",
    "                rsum-=A[i+1]\n",
    "        return -1\n",
    "# Time Complexity: O(N)\n",
    "# Auxiliary Space: O(1)"
   ]
  },
  {
   "cell_type": "markdown",
   "metadata": {},
   "source": [
    "## **[Sort an array of 0s, 1s and 2s](https://practice.geeksforgeeks.org/problems/sort-an-array-of-0s-1s-and-2s4231/1)**"
   ]
  },
  {
   "cell_type": "code",
   "execution_count": 8,
   "metadata": {},
   "outputs": [],
   "source": [
    "#User function Template for python3\n",
    "\n",
    "class Solution:\n",
    "    def sort012(self,arr,n):\n",
    "        # code here\n",
    "        arr.sort() # Timsort algorithm O(N log N)\n",
    "        return arr\n",
    "# Time Complexity: O(N log N)\n",
    "# Auxiliary Space: O(1)"
   ]
  },
  {
   "cell_type": "code",
   "execution_count": null,
   "metadata": {},
   "outputs": [],
   "source": [
    "#User function Template for python3\n",
    "\n",
    "class Solution:\n",
    "    def sort012(self,arr,n):\n",
    "        # code here\n",
    "        _0= 0\n",
    "        _1= 0\n",
    "        _2= 0\n",
    "        idx= 0\n",
    "        arr.sort() # Timsort algorithm O(N log N)\n",
    "        for i in range(n):\n",
    "            if arr[i]==0:\n",
    "                _0+=1\n",
    "            elif arr[i]==1:\n",
    "                _1+=1\n",
    "            elif arr[i]==2:\n",
    "                _2+=1\n",
    "        \n",
    "        while _0>0:\n",
    "            arr[i]= 0\n",
    "            idx+=1\n",
    "            _0-=1\n",
    "        \n",
    "        while _1>0:\n",
    "            arr[i]= 1\n",
    "            idx+=1\n",
    "            _1-=1\n",
    "        \n",
    "        while _2>0:\n",
    "            arr[i]= 2\n",
    "            idx+=1\n",
    "            _2-=1\n",
    "                \n",
    "                \n",
    "        # return arr\n",
    "\n",
    "# Time Complexity: O(N)\n",
    "# Auxiliary Space: O(1)"
   ]
  },
  {
   "cell_type": "code",
   "execution_count": null,
   "metadata": {},
   "outputs": [],
   "source": []
  }
 ],
 "metadata": {
  "kernelspec": {
   "display_name": "Python 3.9.7 64-bit",
   "language": "python",
   "name": "python3"
  },
  "language_info": {
   "codemirror_mode": {
    "name": "ipython",
    "version": 3
   },
   "file_extension": ".py",
   "mimetype": "text/x-python",
   "name": "python",
   "nbconvert_exporter": "python",
   "pygments_lexer": "ipython3",
   "version": "3.9.7"
  },
  "orig_nbformat": 4,
  "vscode": {
   "interpreter": {
    "hash": "2e61b4e68d91170e6a828addbb12c998be56a3b087bfc9988ada4585bf499f3e"
   }
  }
 },
 "nbformat": 4,
 "nbformat_minor": 2
}
