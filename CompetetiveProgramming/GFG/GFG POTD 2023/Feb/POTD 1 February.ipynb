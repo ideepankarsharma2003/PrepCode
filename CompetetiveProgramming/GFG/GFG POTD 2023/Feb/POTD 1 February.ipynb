{
 "cells": [
  {
   "attachments": {},
   "cell_type": "markdown",
   "metadata": {},
   "source": [
    "# **POTD 1 February**\n",
    "# ***[Distinct Coloring](https://practice.geeksforgeeks.org/problems/844b4fdcd988ac5461324d62d43f7892749a113c/1)***"
   ]
  },
  {
   "cell_type": "code",
   "execution_count": 32,
   "metadata": {},
   "outputs": [],
   "source": [
    "class Solution:\n",
    "    def distinctColoring(self, N, r, g, b):\n",
    "        # code here\n",
    "        \n",
    "        t= [([0]*3)for i in range(N)]\n",
    "        t[0][0]= r[0] # red in first house\n",
    "        t[0][1]= g[0] # green in first house\n",
    "        t[0][2]= b[0] # blue in first house\n",
    "        print(f'{1}  red= {t[0][0]}')\n",
    "        print(f'{1}  green= {t[0][1]}')\n",
    "        print(f'{1}  blue= {t[0][2]}')\n",
    "\n",
    "        print()\n",
    "\n",
    "\n",
    "\n",
    "        for i in range(1, N):\n",
    "            t[i][0] = r[i] + min(t[i-1][1], t[i-1][2])\n",
    "            print(f'{i+1}  red= {t[i][0]}')\n",
    "            t[i][1] = g[i] + min(t[i-1][0], t[i-1][2])\n",
    "            print(f'{i+1}  green= {t[i][1]}')\n",
    "            t[i][2] = b[i] + min(t[i-1][1], t[i-1][0])\n",
    "            print(f'{i+1}  blue= {t[i][2]}')\n",
    "            print()\n",
    "\n",
    "        for i in t:\n",
    "            print(i)\n",
    "        return min(t[-1])\n",
    "\n",
    "\n",
    "\n",
    "s= Solution()"
   ]
  },
  {
   "cell_type": "code",
   "execution_count": 33,
   "metadata": {},
   "outputs": [
    {
     "name": "stdout",
     "output_type": "stream",
     "text": [
      "1  red= 1\n",
      "1  green= 2\n",
      "1  blue= 3\n",
      "\n",
      "2  red= 3\n",
      "2  green= 3\n",
      "2  blue= 4\n",
      "\n",
      "3  red= 4\n",
      "3  green= 5\n",
      "3  blue= 6\n",
      "\n",
      "[1, 2, 3]\n",
      "[3, 3, 4]\n",
      "[4, 5, 6]\n"
     ]
    },
    {
     "data": {
      "text/plain": [
       "4"
      ]
     },
     "execution_count": 33,
     "metadata": {},
     "output_type": "execute_result"
    }
   ],
   "source": [
    "N = 3\n",
    "r= [1, 1, 1]\n",
    "g= [2, 2, 2]\n",
    "b= [3, 3, 3]\n",
    "\n",
    "s.distinctColoring(N, r, g, b)\n"
   ]
  },
  {
   "cell_type": "code",
   "execution_count": 34,
   "metadata": {},
   "outputs": [
    {
     "name": "stdout",
     "output_type": "stream",
     "text": [
      "1  red= 2\n",
      "1  green= 3\n",
      "1  blue= 1\n",
      "\n",
      "2  red= 2\n",
      "2  green= 3\n",
      "2  blue= 5\n",
      "\n",
      "3  red= 6\n",
      "3  green= 3\n",
      "3  blue= 4\n",
      "\n",
      "[2, 3, 1]\n",
      "[2, 3, 5]\n",
      "[6, 3, 4]\n"
     ]
    },
    {
     "data": {
      "text/plain": [
       "3"
      ]
     },
     "execution_count": 34,
     "metadata": {},
     "output_type": "execute_result"
    }
   ],
   "source": [
    "N = 3\n",
    "r = [2, 1, 3]\n",
    "g = [3, 2, 1]\n",
    "b = [1, 3, 2]\n",
    "\n",
    "s.distinctColoring(N, r, g, b)\n"
   ]
  },
  {
   "cell_type": "code",
   "execution_count": null,
   "metadata": {},
   "outputs": [],
   "source": []
  }
 ],
 "metadata": {
  "kernelspec": {
   "display_name": "Python 3",
   "language": "python",
   "name": "python3"
  },
  "language_info": {
   "codemirror_mode": {
    "name": "ipython",
    "version": 3
   },
   "file_extension": ".py",
   "mimetype": "text/x-python",
   "name": "python",
   "nbconvert_exporter": "python",
   "pygments_lexer": "ipython3",
   "version": "3.9.6"
  },
  "orig_nbformat": 4,
  "vscode": {
   "interpreter": {
    "hash": "c0a3c91513ce8330cc510c252bd0d2b8c5edf3f02855cf0373cb264a8e18d0f0"
   }
  }
 },
 "nbformat": 4,
 "nbformat_minor": 2
}
