{
 "cells": [
  {
   "attachments": {},
   "cell_type": "markdown",
   "metadata": {},
   "source": [
    "# **POTD 11 February**\n",
    "# ***[Minimum Days](https://practice.geeksforgeeks.org/problems/f4d22b1f9d62e8bee0ff84e9fa51dc66eb5005ec/1)***"
   ]
  },
  {
   "cell_type": "code",
   "execution_count": 1,
   "metadata": {},
   "outputs": [],
   "source": [
    "from typing import List\n",
    "\n",
    "\n",
    "class Solution:\n",
    "    def getMinimumDays(self, N : int, s : str, P : List[int]) -> int:\n",
    "        # code here\n",
    "        p = {v: i for i, v in enumerate(P)}\n",
    "        \n",
    "        day = 0\n",
    "        for i in range(N-1):\n",
    "            if s[i] != s[i+1] or p[i] <= day or p[i+1] <= day:\n",
    "                continue\n",
    "            day = min(p[i], p[i+1])\n",
    "            \n",
    "        return day if day == 0 else day+1\n",
    "        \n",
    "\n"
   ]
  },
  {
   "cell_type": "code",
   "execution_count": null,
   "metadata": {},
   "outputs": [],
   "source": []
  }
 ],
 "metadata": {
  "kernelspec": {
   "display_name": "Python 3",
   "language": "python",
   "name": "python3"
  },
  "language_info": {
   "codemirror_mode": {
    "name": "ipython",
    "version": 3
   },
   "file_extension": ".py",
   "mimetype": "text/x-python",
   "name": "python",
   "nbconvert_exporter": "python",
   "pygments_lexer": "ipython3",
   "version": "3.9.6"
  },
  "orig_nbformat": 4,
  "vscode": {
   "interpreter": {
    "hash": "c0a3c91513ce8330cc510c252bd0d2b8c5edf3f02855cf0373cb264a8e18d0f0"
   }
  }
 },
 "nbformat": 4,
 "nbformat_minor": 2
}
