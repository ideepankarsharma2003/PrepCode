{
 "cells": [
  {
   "attachments": {},
   "cell_type": "markdown",
   "metadata": {},
   "source": [
    "# **POTD 12 February**\n",
    "# ***[Prime List](https://practice.geeksforgeeks.org/problems/6cb0782855c0f11445b8d70e220f888e6ea8e22a/1)***"
   ]
  },
  {
   "cell_type": "code",
   "execution_count": 1,
   "metadata": {},
   "outputs": [],
   "source": [
    "from typing import Optional\n",
    "\n",
    "\"\"\"\n",
    "\n",
    "Definition for singly Link List Node\n",
    "class Node:\n",
    "    def __init__(self,x):\n",
    "        self.data=x\n",
    "        self.next=None\n",
    "\n",
    "You can also use the following for printing the link list.\n",
    "printList(node)\n",
    "\"\"\"\n",
    "\n",
    "\n",
    "def isprime(n):\n",
    "\n",
    "    if n < 2:\n",
    "        return 0\n",
    "    i = 2\n",
    "    while i*i <= n:\n",
    "        if n % i == 0:  # there is a number divisibe by 2 hence factor present\n",
    "            return 0\n",
    "        i += 1\n",
    "    return 1\n",
    "\n",
    "\n",
    "def nearestprime(n):\n",
    "    # special case\n",
    "    if n == 1:\n",
    "        return 2\n",
    "    if n == 2:\n",
    "        return 3\n",
    "\n",
    "    elif n >= 3:\n",
    "        # for prime smaller than n\n",
    "        i = 1\n",
    "        while 1:\n",
    "            if isprime(n-i):\n",
    "                break\n",
    "            i += 1\n",
    "\n",
    "        # for prime greater than n\n",
    "        j = 1\n",
    "        while 1:\n",
    "            if isprime(n+j):\n",
    "                break\n",
    "            j += 1\n",
    "\n",
    "        if i < j:\n",
    "            return n-i\n",
    "        elif i == j:\n",
    "            return n-i  # more than one prime no. exists choose smallest one\n",
    "        else:\n",
    "            return n+j  # i>j\n",
    "\n",
    "\n",
    "class Solution:\n",
    "    def primeList(self, head: Optional['Node']) -> Optional['Node']:\n",
    "        # code here\n",
    "        # code here\n",
    "\n",
    "        curr = head\n",
    "\n",
    "        while curr is not None:\n",
    "\n",
    "            temp = curr.data\n",
    "\n",
    "            # function to find nearest prime\n",
    "\n",
    "            if isprime(temp):  # if no. itself is prime\n",
    "\n",
    "                curr.data = temp\n",
    "\n",
    "            else:\n",
    "\n",
    "                prime = nearestprime(temp)\n",
    "\n",
    "                curr.data = prime\n",
    "\n",
    "            curr = curr.next\n",
    "\n",
    "        return head\n"
   ]
  },
  {
   "cell_type": "code",
   "execution_count": null,
   "metadata": {},
   "outputs": [],
   "source": []
  }
 ],
 "metadata": {
  "kernelspec": {
   "display_name": "Python 3",
   "language": "python",
   "name": "python3"
  },
  "language_info": {
   "codemirror_mode": {
    "name": "ipython",
    "version": 3
   },
   "file_extension": ".py",
   "mimetype": "text/x-python",
   "name": "python",
   "nbconvert_exporter": "python",
   "pygments_lexer": "ipython3",
   "version": "3.9.6"
  },
  "orig_nbformat": 4,
  "vscode": {
   "interpreter": {
    "hash": "c0a3c91513ce8330cc510c252bd0d2b8c5edf3f02855cf0373cb264a8e18d0f0"
   }
  }
 },
 "nbformat": 4,
 "nbformat_minor": 2
}
