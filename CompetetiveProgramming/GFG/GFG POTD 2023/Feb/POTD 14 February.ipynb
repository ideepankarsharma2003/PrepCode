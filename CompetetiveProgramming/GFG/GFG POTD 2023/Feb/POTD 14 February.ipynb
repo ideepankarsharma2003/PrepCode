{
 "cells": [
  {
   "attachments": {},
   "cell_type": "markdown",
   "metadata": {},
   "source": [
    "# **POTD 14 February**\n",
    "# ***[Walls Coloring](https://practice.geeksforgeeks.org/problems/51b266505221b97522b1d2c86ddad1868a54831b/1)***"
   ]
  },
  {
   "cell_type": "code",
   "execution_count": 1,
   "metadata": {},
   "outputs": [],
   "source": [
    "#User function Template for python3\n",
    "\n",
    "class Solution():\n",
    "    def minCost(self, colors, N):\n",
    "        #your code goes here\n",
    "        a = b = c = 0\n",
    "\n",
    "        for i in range(N - 1, -1, -1):\n",
    "            p = colors[i][0] + min(b, c)\n",
    "            q = colors[i][1] + min(a, c)\n",
    "            r = colors[i][2] + min(a, b)\n",
    "            a, b, c = p, q, r\n",
    "\n",
    "        return min(a, b, c)\n"
   ]
  },
  {
   "cell_type": "code",
   "execution_count": null,
   "metadata": {},
   "outputs": [],
   "source": []
  }
 ],
 "metadata": {
  "kernelspec": {
   "display_name": "Python 3",
   "language": "python",
   "name": "python3"
  },
  "language_info": {
   "codemirror_mode": {
    "name": "ipython",
    "version": 3
   },
   "file_extension": ".py",
   "mimetype": "text/x-python",
   "name": "python",
   "nbconvert_exporter": "python",
   "pygments_lexer": "ipython3",
   "version": "3.9.6"
  },
  "orig_nbformat": 4,
  "vscode": {
   "interpreter": {
    "hash": "c0a3c91513ce8330cc510c252bd0d2b8c5edf3f02855cf0373cb264a8e18d0f0"
   }
  }
 },
 "nbformat": 4,
 "nbformat_minor": 2
}
