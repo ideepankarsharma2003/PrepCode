{
 "cells": [
  {
   "attachments": {},
   "cell_type": "markdown",
   "metadata": {},
   "source": [
    "# **POTD 15 February**\n",
    "# ***[Geeks Island](https://practice.geeksforgeeks.org/problems/234ca3b438298fb04befd5abe7fbd98c006d4884/1)***"
   ]
  },
  {
   "cell_type": "code",
   "execution_count": 1,
   "metadata": {},
   "outputs": [],
   "source": [
    "#User function Template for python3\n",
    "\n",
    "class Solution():\n",
    "    def water_flow(self, mat, p, o):\n",
    "        n = len(mat)\n",
    "        m = len(mat[0])\n",
    "        indian = set()\n",
    "        arabian = set()\n",
    "\n",
    "        def dfs(r, c, visit, height):\n",
    "            if (r, c) in visit or r not in range(n) or c not in range(m) or mat[r][c] < height:\n",
    "                return\n",
    "            visit.add((r, c))\n",
    "            dfs(r-1, c, visit, mat[r][c])\n",
    "            dfs(r, c+1, visit, mat[r][c])\n",
    "            dfs(r, c-1, visit, mat[r][c])\n",
    "            dfs(r+1, c, visit, mat[r][c])\n",
    "        for i in range(m):\n",
    "            dfs(0, i, indian, mat[0][i])\n",
    "            dfs(n-1, i, arabian, mat[n-1][i])\n",
    "        for i in range(n):\n",
    "            dfs(i, 0, indian, mat[i][0])\n",
    "            dfs(i, m-1, arabian, mat[i][m-1])\n",
    "        out = indian.intersection(arabian)\n",
    "        return len(out)\n"
   ]
  },
  {
   "cell_type": "code",
   "execution_count": null,
   "metadata": {},
   "outputs": [],
   "source": []
  }
 ],
 "metadata": {
  "kernelspec": {
   "display_name": "Python 3",
   "language": "python",
   "name": "python3"
  },
  "language_info": {
   "codemirror_mode": {
    "name": "ipython",
    "version": 3
   },
   "file_extension": ".py",
   "mimetype": "text/x-python",
   "name": "python",
   "nbconvert_exporter": "python",
   "pygments_lexer": "ipython3",
   "version": "3.9.6"
  },
  "orig_nbformat": 4,
  "vscode": {
   "interpreter": {
    "hash": "c0a3c91513ce8330cc510c252bd0d2b8c5edf3f02855cf0373cb264a8e18d0f0"
   }
  }
 },
 "nbformat": 4,
 "nbformat_minor": 2
}
