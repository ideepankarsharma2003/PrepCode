{
 "cells": [
  {
   "attachments": {},
   "cell_type": "markdown",
   "metadata": {},
   "source": [
    "# **POTD 16 February**\n",
    "# ***[Good Stones](https://practice.geeksforgeeks.org/problems/e2d156755ca4e0a9b9abf5680191d4b06e52b1a8/1)***"
   ]
  },
  {
   "cell_type": "code",
   "execution_count": 1,
   "metadata": {},
   "outputs": [],
   "source": [
    "#User function Template for python3\n",
    "\n",
    "class Solution:\n",
    "    def goodStones(self, n, arr) -> int:\n",
    "        #code here\n",
    "        visited = [0]*n\n",
    "\n",
    "        def dfs(i):\n",
    "\n",
    "            nonlocal arr, visited, n\n",
    "            if i < 0 or i >= n:\n",
    "                return True\n",
    "\n",
    "            if visited[i] > 0:\n",
    "                return visited[i] == 2\n",
    "\n",
    "            visited[i] = 1\n",
    "            if dfs(i+arr[i]):\n",
    "                visited[i] = 2\n",
    "                return True\n",
    "            return False\n",
    "\n",
    "        return sum(dfs(i) for i in range(n))\n"
   ]
  },
  {
   "cell_type": "code",
   "execution_count": null,
   "metadata": {},
   "outputs": [],
   "source": []
  }
 ],
 "metadata": {
  "kernelspec": {
   "display_name": "Python 3",
   "language": "python",
   "name": "python3"
  },
  "language_info": {
   "codemirror_mode": {
    "name": "ipython",
    "version": 3
   },
   "file_extension": ".py",
   "mimetype": "text/x-python",
   "name": "python",
   "nbconvert_exporter": "python",
   "pygments_lexer": "ipython3",
   "version": "3.9.6"
  },
  "orig_nbformat": 4,
  "vscode": {
   "interpreter": {
    "hash": "c0a3c91513ce8330cc510c252bd0d2b8c5edf3f02855cf0373cb264a8e18d0f0"
   }
  }
 },
 "nbformat": 4,
 "nbformat_minor": 2
}
