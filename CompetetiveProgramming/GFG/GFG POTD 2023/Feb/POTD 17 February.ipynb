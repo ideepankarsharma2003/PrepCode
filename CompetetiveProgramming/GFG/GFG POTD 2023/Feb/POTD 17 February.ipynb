{
 "cells": [
  {
   "attachments": {},
   "cell_type": "markdown",
   "metadata": {},
   "source": [
    "# **POTD 17 February**\n",
    "# ***[Is it Fibonacci](https://practice.geeksforgeeks.org/problems/202d95ecdeec659401edc63dd952b1d37b989ab8/1)***"
   ]
  },
  {
   "cell_type": "code",
   "execution_count": 1,
   "metadata": {},
   "outputs": [],
   "source": [
    "#User function Template for python3\n",
    "\n",
    "class Solution():\n",
    "    def solve(self, N, K, GeekNum):\n",
    "        #your code goes here\n",
    "        li = GeekNum\n",
    "        for i in range(len(GeekNum), N):\n",
    "            #print(li[i-K:])\n",
    "            li.append(sum(li[i-K:]))\n",
    "        return li[-1]\n"
   ]
  },
  {
   "cell_type": "code",
   "execution_count": null,
   "metadata": {},
   "outputs": [],
   "source": []
  }
 ],
 "metadata": {
  "kernelspec": {
   "display_name": "Python 3",
   "language": "python",
   "name": "python3"
  },
  "language_info": {
   "codemirror_mode": {
    "name": "ipython",
    "version": 3
   },
   "file_extension": ".py",
   "mimetype": "text/x-python",
   "name": "python",
   "nbconvert_exporter": "python",
   "pygments_lexer": "ipython3",
   "version": "3.9.6"
  },
  "orig_nbformat": 4,
  "vscode": {
   "interpreter": {
    "hash": "c0a3c91513ce8330cc510c252bd0d2b8c5edf3f02855cf0373cb264a8e18d0f0"
   }
  }
 },
 "nbformat": 4,
 "nbformat_minor": 2
}
