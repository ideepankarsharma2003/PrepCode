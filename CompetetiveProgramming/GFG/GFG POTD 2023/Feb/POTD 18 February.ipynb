{
 "cells": [
  {
   "attachments": {},
   "cell_type": "markdown",
   "metadata": {},
   "source": [
    "# **POTD 18 February**\n",
    "# ***[Apple Sequences](https://practice.geeksforgeeks.org/problems/38f100615d0b2efa755e7b07f905e0f8cd2fe5df/1)***"
   ]
  },
  {
   "cell_type": "code",
   "execution_count": 1,
   "metadata": {},
   "outputs": [],
   "source": [
    "#User function Template for python3\n",
    "\n",
    "class Solution:\n",
    "    def appleSequences(self, n, m, arr):\n",
    "        # code here\n",
    "        res = count = l = r = 0\n",
    "\n",
    "        while r < n:\n",
    "            if arr[r] == 'O':\n",
    "                count += 1\n",
    "\n",
    "            while l < n and count > m:\n",
    "                if arr[l] == 'O':\n",
    "                    count -= 1\n",
    "                l += 1\n",
    "\n",
    "            res = max(res, r - l + 1)\n",
    "\n",
    "            r += 1\n",
    "\n",
    "        return res\n"
   ]
  },
  {
   "cell_type": "code",
   "execution_count": null,
   "metadata": {},
   "outputs": [],
   "source": []
  }
 ],
 "metadata": {
  "kernelspec": {
   "display_name": "Python 3",
   "language": "python",
   "name": "python3"
  },
  "language_info": {
   "codemirror_mode": {
    "name": "ipython",
    "version": 3
   },
   "file_extension": ".py",
   "mimetype": "text/x-python",
   "name": "python",
   "nbconvert_exporter": "python",
   "pygments_lexer": "ipython3",
   "version": "3.9.6"
  },
  "orig_nbformat": 4,
  "vscode": {
   "interpreter": {
    "hash": "c0a3c91513ce8330cc510c252bd0d2b8c5edf3f02855cf0373cb264a8e18d0f0"
   }
  }
 },
 "nbformat": 4,
 "nbformat_minor": 2
}
