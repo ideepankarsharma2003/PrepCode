{
 "cells": [
  {
   "attachments": {},
   "cell_type": "markdown",
   "metadata": {},
   "source": [
    "# **POTD 19 February**\n",
    "# ***[Fixing Two swapped nodes of a BST](https://practice.geeksforgeeks.org/problems/6c4053871794c5e7a0817d7eaf88d71c4bb4c2bc/1)***"
   ]
  },
  {
   "cell_type": "code",
   "execution_count": 1,
   "metadata": {},
   "outputs": [],
   "source": [
    "#User function Template for python3\n",
    "\n",
    "'''\n",
    "# Tree Node\n",
    "class Node:\n",
    "    def __init__(self, val):\n",
    "        self.right = None\n",
    "        self.data = val\n",
    "        self.left = None\n",
    "        \n",
    "'''\n",
    "\n",
    "\n",
    "class Solution:\n",
    "    def correctBST(self, root):\n",
    "        # code here\n",
    "        def _solve(nd):\n",
    "            if not nd:\n",
    "                return\n",
    "            nonlocal first, prev\n",
    "            if _solve(nd.left):\n",
    "                return True\n",
    "            if not first:\n",
    "                if prev and prev.data > nd.data:\n",
    "                    first = prev\n",
    "            elif first.data < nd.data:\n",
    "                first.data, prev.data = prev.data, first.data\n",
    "                return True\n",
    "            prev = nd\n",
    "            if _solve(nd.right):\n",
    "                return True\n",
    "            return False\n",
    "\n",
    "        first, prev = None, None\n",
    "        if not _solve(root):\n",
    "            first.data, prev.data = prev.data, first.data\n",
    "        return root\n"
   ]
  },
  {
   "cell_type": "code",
   "execution_count": null,
   "metadata": {},
   "outputs": [],
   "source": []
  }
 ],
 "metadata": {
  "kernelspec": {
   "display_name": "Python 3",
   "language": "python",
   "name": "python3"
  },
  "language_info": {
   "codemirror_mode": {
    "name": "ipython",
    "version": 3
   },
   "file_extension": ".py",
   "mimetype": "text/x-python",
   "name": "python",
   "nbconvert_exporter": "python",
   "pygments_lexer": "ipython3",
   "version": "3.9.6"
  },
  "orig_nbformat": 4,
  "vscode": {
   "interpreter": {
    "hash": "c0a3c91513ce8330cc510c252bd0d2b8c5edf3f02855cf0373cb264a8e18d0f0"
   }
  }
 },
 "nbformat": 4,
 "nbformat_minor": 2
}
