{
 "cells": [
  {
   "attachments": {},
   "cell_type": "markdown",
   "metadata": {},
   "source": [
    "# **POTD 2 February**\n",
    "# ***[Largest Sum Cycle](https://practice.geeksforgeeks.org/problems/51afa710a708c0681748445b509696dd588d5c40/1)***"
   ]
  },
  {
   "cell_type": "code",
   "execution_count": 3,
   "metadata": {},
   "outputs": [],
   "source": [
    "#User function Template for python3\n",
    "import sys\n",
    "sys.setrecursionlimit(10**6)\n",
    "\n",
    "class Solution():\n",
    "    def dfs(self, arr, visited, i):\n",
    "        \n",
    "        \n",
    "        if visited[i]==2:\n",
    "            return -1\n",
    "            \n",
    "            \n",
    "        elif visited[i]==1:\n",
    "            cur= i\n",
    "            res= i\n",
    "            # res, cur = i, i\n",
    "            while arr[cur]!=i:\n",
    "                cur= arr[cur]\n",
    "                res+=cur\n",
    "            return res\n",
    "        \n",
    "        elif arr[i]!=-1:\n",
    "            visited[i]=1\n",
    "            res= self.dfs(arr, visited, arr[i])\n",
    "            visited[i]=2\n",
    "            return res\n",
    "        \n",
    "        else:\n",
    "            visited[i]=2\n",
    "            return -1\n",
    "            \n",
    "            \n",
    "            \n",
    "    \n",
    "    \n",
    "    \n",
    "    def largestSumCycle(self, N, Edge):\n",
    "        #your code goes here\n",
    "        visited= [0]*N\n",
    "        ans= -1\n",
    "        for i in range(N):\n",
    "            ans= max(ans, self.dfs(Edge, visited, i))\n",
    "        return ans\n",
    "\n",
    "\n",
    "\n",
    "s= Solution()"
   ]
  },
  {
   "cell_type": "code",
   "execution_count": 4,
   "metadata": {},
   "outputs": [
    {
     "data": {
      "text/plain": [
       "3"
      ]
     },
     "execution_count": 4,
     "metadata": {},
     "output_type": "execute_result"
    }
   ],
   "source": [
    "# Input:\n",
    "N = 4\n",
    "Edge = [1, 2, 0, -1]\n",
    "# Output: 3\n",
    "\n",
    "s.largestSumCycle(N, Edge)"
   ]
  },
  {
   "cell_type": "code",
   "execution_count": null,
   "metadata": {},
   "outputs": [],
   "source": []
  }
 ],
 "metadata": {
  "kernelspec": {
   "display_name": "Python 3",
   "language": "python",
   "name": "python3"
  },
  "language_info": {
   "codemirror_mode": {
    "name": "ipython",
    "version": 3
   },
   "file_extension": ".py",
   "mimetype": "text/x-python",
   "name": "python",
   "nbconvert_exporter": "python",
   "pygments_lexer": "ipython3",
   "version": "3.9.6"
  },
  "orig_nbformat": 4,
  "vscode": {
   "interpreter": {
    "hash": "c0a3c91513ce8330cc510c252bd0d2b8c5edf3f02855cf0373cb264a8e18d0f0"
   }
  }
 },
 "nbformat": 4,
 "nbformat_minor": 2
}
