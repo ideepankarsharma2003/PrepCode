{
 "cells": [
  {
   "attachments": {},
   "cell_type": "markdown",
   "metadata": {},
   "source": [
    "# **POTD 21 February**\n",
    "# ***[Fill the Matrix](https://practice.geeksforgeeks.org/problems/2145720aebf8ea0b07f76b17217b3353a0fbea7f/1)***"
   ]
  },
  {
   "cell_type": "code",
   "execution_count": 1,
   "metadata": {},
   "outputs": [],
   "source": [
    "#User function Template for python3\n",
    "\n",
    "class Solution:\n",
    "    def minIteration(self, N, M, x, y):\n",
    "        #code here\n",
    "        distx = max(x-1, N-x)\n",
    "\n",
    "        disty = max(y-1, M-y)\n",
    "\n",
    "        return distx+disty\n"
   ]
  },
  {
   "cell_type": "code",
   "execution_count": null,
   "metadata": {},
   "outputs": [],
   "source": []
  }
 ],
 "metadata": {
  "kernelspec": {
   "display_name": "Python 3",
   "language": "python",
   "name": "python3"
  },
  "language_info": {
   "codemirror_mode": {
    "name": "ipython",
    "version": 3
   },
   "file_extension": ".py",
   "mimetype": "text/x-python",
   "name": "python",
   "nbconvert_exporter": "python",
   "pygments_lexer": "ipython3",
   "version": "3.9.6"
  },
  "orig_nbformat": 4,
  "vscode": {
   "interpreter": {
    "hash": "c0a3c91513ce8330cc510c252bd0d2b8c5edf3f02855cf0373cb264a8e18d0f0"
   }
  }
 },
 "nbformat": 4,
 "nbformat_minor": 2
}
