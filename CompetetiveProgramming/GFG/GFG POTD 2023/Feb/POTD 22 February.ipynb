{
 "cells": [
  {
   "attachments": {},
   "cell_type": "markdown",
   "metadata": {},
   "source": [
    "# **POTD 22 February**\n",
    "# ***[Connect Nodes at Same Level](https://practice.geeksforgeeks.org/problems/95423710beef46bd66f8dbb48c510b2c320dab05/1)***"
   ]
  },
  {
   "cell_type": "code",
   "execution_count": 1,
   "metadata": {},
   "outputs": [],
   "source": [
    "#User function Template for python3\n",
    "\n",
    "\n",
    "'''\n",
    ":param root: root of the given tree\n",
    ":return: none, just connect accordingly.\n",
    "{\n",
    "    # Node Class:\n",
    "    class Node:\n",
    "        def __init__(self,val):\n",
    "            self.data = val\n",
    "            self.left = None\n",
    "            self.right = None\n",
    "            self.nextRight = None\n",
    "}\n",
    "'''\n",
    "\n",
    "\n",
    "class Solution:\n",
    "    def connect(self, root):\n",
    "        # code here\n",
    "        if root.left == None and root.right == None:\n",
    "            return root\n",
    "        q = deque()\n",
    "        q.append(root)\n",
    "        while q:\n",
    "            size = len(q)\n",
    "            while size > 0:\n",
    "                temp = q.popleft()\n",
    "                size = size-1\n",
    "                if size == 0:\n",
    "                    temp.nextRight = None\n",
    "                else:\n",
    "                    temp.nextRight = q[0]\n",
    "                if temp.left:\n",
    "                    q.append(temp.left)\n",
    "                if temp.right:\n",
    "                    q.append(temp.right)\n"
   ]
  },
  {
   "cell_type": "code",
   "execution_count": null,
   "metadata": {},
   "outputs": [],
   "source": []
  }
 ],
 "metadata": {
  "kernelspec": {
   "display_name": "Python 3",
   "language": "python",
   "name": "python3"
  },
  "language_info": {
   "codemirror_mode": {
    "name": "ipython",
    "version": 3
   },
   "file_extension": ".py",
   "mimetype": "text/x-python",
   "name": "python",
   "nbconvert_exporter": "python",
   "pygments_lexer": "ipython3",
   "version": "3.9.6"
  },
  "orig_nbformat": 4,
  "vscode": {
   "interpreter": {
    "hash": "c0a3c91513ce8330cc510c252bd0d2b8c5edf3f02855cf0373cb264a8e18d0f0"
   }
  }
 },
 "nbformat": 4,
 "nbformat_minor": 2
}
