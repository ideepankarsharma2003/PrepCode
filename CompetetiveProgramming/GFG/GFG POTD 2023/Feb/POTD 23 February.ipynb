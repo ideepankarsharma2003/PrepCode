{
 "cells": [
  {
   "attachments": {},
   "cell_type": "markdown",
   "metadata": {},
   "source": [
    "# **POTD 23 February**\n",
    "# ***[Unique Paths in a Grid](https://practice.geeksforgeeks.org/problems/96161dfced02d544fc70c71d09b7a616fe726085/1)***"
   ]
  },
  {
   "cell_type": "code",
   "execution_count": 1,
   "metadata": {},
   "outputs": [],
   "source": [
    "#User function Template for python3\n",
    "\n",
    "class Solution:\n",
    "    def uniquePaths(self, n, m, grid):\n",
    "        # code here\n",
    "        if grid[0][0] == 0 or grid[n-1][m-1] == 0:\n",
    "            return 0\n",
    "        vs = [0]*m\n",
    "        vs[0] = 1\n",
    "        for r in range(n):\n",
    "            vs[0] = 0 if grid[r][0] == 0 else vs[0]\n",
    "            for c in range(1, m):\n",
    "                if grid[r][c]:\n",
    "                    vs[c] += vs[c-1]\n",
    "                else:\n",
    "                    vs[c] = 0\n",
    "        return vs[m-1] % (10**9+7)\n"
   ]
  },
  {
   "cell_type": "code",
   "execution_count": null,
   "metadata": {},
   "outputs": [],
   "source": []
  }
 ],
 "metadata": {
  "kernelspec": {
   "display_name": "Python 3",
   "language": "python",
   "name": "python3"
  },
  "language_info": {
   "codemirror_mode": {
    "name": "ipython",
    "version": 3
   },
   "file_extension": ".py",
   "mimetype": "text/x-python",
   "name": "python",
   "nbconvert_exporter": "python",
   "pygments_lexer": "ipython3",
   "version": "3.9.6"
  },
  "orig_nbformat": 4,
  "vscode": {
   "interpreter": {
    "hash": "c0a3c91513ce8330cc510c252bd0d2b8c5edf3f02855cf0373cb264a8e18d0f0"
   }
  }
 },
 "nbformat": 4,
 "nbformat_minor": 2
}
