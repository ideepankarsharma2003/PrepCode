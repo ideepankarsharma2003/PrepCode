{
 "cells": [
  {
   "attachments": {},
   "cell_type": "markdown",
   "metadata": {},
   "source": [
    "# **POTD 24 February**\n",
    "# ***[Shortest Path Using Atmost One Curved Edge](https://practice.geeksforgeeks.org/problems/e7d81a082cda6bd1e959d943197aa3bc21b88bdb/1)***"
   ]
  },
  {
   "cell_type": "code",
   "execution_count": 1,
   "metadata": {},
   "outputs": [],
   "source": [
    "\n",
    "from heapq import heappop, heappush\n",
    "from math import inf\n",
    "\n",
    "\n",
    "class Solution:\n",
    "    def dijkstra(self, graph, src):\n",
    "        n = len(graph)\n",
    "        dist = [inf]*n\n",
    "        dist[src] = 0\n",
    "        heap = [(dist[src], src)]\n",
    "\n",
    "        while heap:\n",
    "            d, u = heappop(heap)\n",
    "            if dist[u] < d:\n",
    "                continue\n",
    "            for v, wt in graph[u]:\n",
    "                if dist[v] > dist[u] + wt:\n",
    "                    dist[v] = dist[u] + wt\n",
    "                    heappush(heap, (dist[v], v))\n",
    "        return dist\n",
    "\n",
    "    def shortestPath(self, n, m, a, b, edges):\n",
    "        graph = [[] for _ in range(n)]\n",
    "        for u, v, w1, _ in edges:\n",
    "            graph[u-1].append((v-1, w1))\n",
    "            graph[v-1].append((u-1, w1))\n",
    "\n",
    "        dista = self.dijkstra(graph, a-1)\n",
    "        distb = self.dijkstra(graph, b-1)\n",
    "\n",
    "        res = dista[b-1]\n",
    "        for u, v, _, w2 in edges:\n",
    "            res = min(res, dista[u-1] + w2 + distb[v-1])\n",
    "            res = min(res, distb[u-1] + w2 + dista[v-1])\n",
    "\n",
    "        return res if res != inf else -1\n"
   ]
  },
  {
   "cell_type": "code",
   "execution_count": null,
   "metadata": {},
   "outputs": [],
   "source": []
  }
 ],
 "metadata": {
  "kernelspec": {
   "display_name": "Python 3",
   "language": "python",
   "name": "python3"
  },
  "language_info": {
   "codemirror_mode": {
    "name": "ipython",
    "version": 3
   },
   "file_extension": ".py",
   "mimetype": "text/x-python",
   "name": "python",
   "nbconvert_exporter": "python",
   "pygments_lexer": "ipython3",
   "version": "3.9.6"
  },
  "orig_nbformat": 4,
  "vscode": {
   "interpreter": {
    "hash": "c0a3c91513ce8330cc510c252bd0d2b8c5edf3f02855cf0373cb264a8e18d0f0"
   }
  }
 },
 "nbformat": 4,
 "nbformat_minor": 2
}
