{
 "cells": [
  {
   "attachments": {},
   "cell_type": "markdown",
   "metadata": {},
   "source": [
    "# **POTD 25 February**\n",
    "# ***[Valid Compressed String](https://practice.geeksforgeeks.org/problems/13eb74f1c80bc67d526a69b8276f6cad1b8c3401/1)***"
   ]
  },
  {
   "cell_type": "code",
   "execution_count": 1,
   "metadata": {},
   "outputs": [],
   "source": [
    "#User function Template for python3\n",
    "from functools import lru_cache\n",
    "\n",
    "\n",
    "class Solution:\n",
    "    def checkCompressed(self, s, t):\n",
    "        # code here\n",
    "        @lru_cache(None)\n",
    "        def match(i=0, j=0):\n",
    "            nonlocal s, t\n",
    "            if i == len(s) and j == len(t):\n",
    "                return True\n",
    "            if i > len(s) or j > len(t):\n",
    "                return False\n",
    "            if s[i] == t[j] and match(i+1, j+1):\n",
    "                return True\n",
    "\n",
    "            d = 0\n",
    "            while j < len(t) and t[j].isdigit():\n",
    "                d = d*10 + ord(t[j])-ord('0')\n",
    "                #if match(i+d, j+1):\n",
    "                #return True\n",
    "                j += 1\n",
    "            return False if d == 0 else match(i+d, j)\n",
    "\n",
    "        return int(match())\n"
   ]
  },
  {
   "cell_type": "code",
   "execution_count": null,
   "metadata": {},
   "outputs": [],
   "source": []
  }
 ],
 "metadata": {
  "kernelspec": {
   "display_name": "Python 3",
   "language": "python",
   "name": "python3"
  },
  "language_info": {
   "codemirror_mode": {
    "name": "ipython",
    "version": 3
   },
   "file_extension": ".py",
   "mimetype": "text/x-python",
   "name": "python",
   "nbconvert_exporter": "python",
   "pygments_lexer": "ipython3",
   "version": "3.9.6"
  },
  "orig_nbformat": 4,
  "vscode": {
   "interpreter": {
    "hash": "c0a3c91513ce8330cc510c252bd0d2b8c5edf3f02855cf0373cb264a8e18d0f0"
   }
  }
 },
 "nbformat": 4,
 "nbformat_minor": 2
}
