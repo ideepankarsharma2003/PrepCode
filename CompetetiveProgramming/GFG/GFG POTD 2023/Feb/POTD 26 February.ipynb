{
 "cells": [
  {
   "attachments": {},
   "cell_type": "markdown",
   "metadata": {},
   "source": [
    "# **POTD 26 February**\n",
    "# ***[Number of Good Components](https://practice.geeksforgeeks.org/problems/1a4b617b70f0142a5c2b454e6fbe1b9a69ce7861/1)***"
   ]
  },
  {
   "cell_type": "code",
   "execution_count": 1,
   "metadata": {},
   "outputs": [],
   "source": [
    "#User function Template for python3\n",
    "\n",
    "import collections\n",
    "from collections import deque\n",
    "from collections import defaultdict\n",
    "\n",
    "\n",
    "class Solution:\n",
    "    def dfs(self, graph, visited, u):\n",
    "        res = [u]\n",
    "        visited[u] = True\n",
    "        for v in graph[u]:\n",
    "            if not visited[v]:\n",
    "                res.extend(self.dfs(graph, visited, v))\n",
    "        return res\n",
    "\n",
    "    def findNumberOfGoodComponent(self, V, adj):\n",
    "        visited = [False]*(V+1)\n",
    "        res = 0\n",
    "        for u in range(1, V+1):\n",
    "            if not visited[u]:\n",
    "                nodes = self.dfs(adj, visited, u)\n",
    "                if all(len(adj[node]) == len(nodes)-1 for node in nodes):\n",
    "                    res += 1\n",
    "        return res\n"
   ]
  },
  {
   "cell_type": "code",
   "execution_count": null,
   "metadata": {},
   "outputs": [],
   "source": []
  }
 ],
 "metadata": {
  "kernelspec": {
   "display_name": "Python 3",
   "language": "python",
   "name": "python3"
  },
  "language_info": {
   "codemirror_mode": {
    "name": "ipython",
    "version": 3
   },
   "file_extension": ".py",
   "mimetype": "text/x-python",
   "name": "python",
   "nbconvert_exporter": "python",
   "pygments_lexer": "ipython3",
   "version": "3.9.6"
  },
  "orig_nbformat": 4,
  "vscode": {
   "interpreter": {
    "hash": "c0a3c91513ce8330cc510c252bd0d2b8c5edf3f02855cf0373cb264a8e18d0f0"
   }
  }
 },
 "nbformat": 4,
 "nbformat_minor": 2
}
