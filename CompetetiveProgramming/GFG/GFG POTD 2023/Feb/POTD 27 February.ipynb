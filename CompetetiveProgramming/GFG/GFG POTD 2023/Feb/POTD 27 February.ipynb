{
 "cells": [
  {
   "attachments": {},
   "cell_type": "markdown",
   "metadata": {},
   "source": [
    "# **POTD 27 February**\n",
    "# ***[Reverse both parts](https://practice.geeksforgeeks.org/problems/bae68b4d6a2a77fb6bd459cf7447240919ebfbf5/1)***"
   ]
  },
  {
   "cell_type": "code",
   "execution_count": 1,
   "metadata": {},
   "outputs": [],
   "source": [
    "\n",
    "from typing import Optional\n",
    "\n",
    "\"\"\"\n",
    "\n",
    "Definition for singly Link List Node\n",
    "class Node:\n",
    "    def __init__(self,x):\n",
    "        self.data=x\n",
    "        self.next=None\n",
    "\n",
    "You can also use the following for printing the link list.\n",
    "printList(node)\n",
    "\"\"\"\n",
    "\n",
    "\n",
    "class Solution:\n",
    "    def reverse(self, head: Optional['Node'], k: int) -> Optional['Node']:\n",
    "        # code here\n",
    "        cur = head\n",
    "        dummy = Node(0)\n",
    "        while k > 0:\n",
    "            t, cur = cur, cur.next\n",
    "            dummy.next, t.next = t, dummy.next\n",
    "            k -= 1\n",
    "\n",
    "        while cur:\n",
    "            t, cur = cur, cur.next\n",
    "            head.next, t.next = t, head.next\n",
    "\n",
    "        return dummy.next\n"
   ]
  },
  {
   "cell_type": "code",
   "execution_count": null,
   "metadata": {},
   "outputs": [],
   "source": []
  }
 ],
 "metadata": {
  "kernelspec": {
   "display_name": "Python 3",
   "language": "python",
   "name": "python3"
  },
  "language_info": {
   "codemirror_mode": {
    "name": "ipython",
    "version": 3
   },
   "file_extension": ".py",
   "mimetype": "text/x-python",
   "name": "python",
   "nbconvert_exporter": "python",
   "pygments_lexer": "ipython3",
   "version": "3.9.6"
  },
  "orig_nbformat": 4,
  "vscode": {
   "interpreter": {
    "hash": "c0a3c91513ce8330cc510c252bd0d2b8c5edf3f02855cf0373cb264a8e18d0f0"
   }
  }
 },
 "nbformat": 4,
 "nbformat_minor": 2
}
