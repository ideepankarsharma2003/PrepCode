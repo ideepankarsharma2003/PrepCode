{
 "cells": [
  {
   "attachments": {},
   "cell_type": "markdown",
   "metadata": {},
   "source": [
    "# **POTD 3 February**\n",
    "# ***[Coordinates of the last cell in a Matrix on which performing given operations exits from the Matrix](https://practice.geeksforgeeks.org/problems/2e068e2342b9c9f40cfda1ed8e8119542d748fd8/1)***"
   ]
  },
  {
   "cell_type": "code",
   "execution_count": 1,
   "metadata": {},
   "outputs": [],
   "source": [
    "#User function Template for python3\n",
    "\n",
    "class Solution:\n",
    "    def endPoints(self, matrix, m, n):\n",
    "        ##code here\n",
    "        i=0\n",
    "        j=0\n",
    "        d='right'\n",
    "        ls=[]\n",
    "        while True:\n",
    "            if matrix[i][j]==0:\n",
    "                if d=='right':\n",
    "                    j+=1\n",
    "                elif d=='left':\n",
    "                    j-=1\n",
    "                elif d=='up':\n",
    "                    i-=1\n",
    "                else:\n",
    "                    i+=1\n",
    "                    \n",
    "            else:\n",
    "                matrix[i][j]=0\n",
    "                if d=='right':\n",
    "                    i+=1\n",
    "                    d='down'\n",
    "                elif d=='left':\n",
    "                    i-=1\n",
    "                    d='up'\n",
    "                elif d=='up':\n",
    "                    j+=1\n",
    "                    d='right'\n",
    "                else:\n",
    "                    j-=1\n",
    "                    d='left'\n",
    "            if i==m or i<0:\n",
    "                if i==m:\n",
    "                    i-=1\n",
    "                else:\n",
    "                    i=0\n",
    "                break\n",
    "            if j==n or j<0:\n",
    "                if j==n:\n",
    "                    j-=1\n",
    "                else:\n",
    "                    j=0\n",
    "                break\n",
    "        ls.append(i)\n",
    "        ls.append(j)\n",
    "        return ls"
   ]
  },
  {
   "cell_type": "code",
   "execution_count": 2,
   "metadata": {},
   "outputs": [],
   "source": [
    "\n",
    "\n",
    "s= Solution()\n"
   ]
  },
  {
   "cell_type": "code",
   "execution_count": 3,
   "metadata": {},
   "outputs": [
    {
     "data": {
      "text/plain": [
       "[1, 1]"
      ]
     },
     "execution_count": 3,
     "metadata": {},
     "output_type": "execute_result"
    }
   ],
   "source": [
    "matrix= [[0, 1],\n",
    "            [1, 0]]\n",
    "\n",
    "\n",
    "s.endPoints(matrix, len(matrix), len(matrix[0]))"
   ]
  },
  {
   "cell_type": "code",
   "execution_count": 4,
   "metadata": {},
   "outputs": [
    {
     "data": {
      "text/plain": [
       "[2, 0]"
      ]
     },
     "execution_count": 4,
     "metadata": {},
     "output_type": "execute_result"
    }
   ],
   "source": [
    "matrix = [[0, 1, 1, 1, 0],\n",
    "              [1, 0, 1, 0, 1],\n",
    "              [1, 1, 1, 0, 0]]\n",
    "\n",
    "\n",
    "s.endPoints(matrix, len(matrix), len(matrix[0]))\n"
   ]
  },
  {
   "cell_type": "code",
   "execution_count": null,
   "metadata": {},
   "outputs": [],
   "source": [
    "l= [1, 2, 3, 4]\n",
    "l.sort()"
   ]
  }
 ],
 "metadata": {
  "kernelspec": {
   "display_name": "Python 3",
   "language": "python",
   "name": "python3"
  },
  "language_info": {
   "codemirror_mode": {
    "name": "ipython",
    "version": 3
   },
   "file_extension": ".py",
   "mimetype": "text/x-python",
   "name": "python",
   "nbconvert_exporter": "python",
   "pygments_lexer": "ipython3",
   "version": "3.9.6"
  },
  "orig_nbformat": 4,
  "vscode": {
   "interpreter": {
    "hash": "c0a3c91513ce8330cc510c252bd0d2b8c5edf3f02855cf0373cb264a8e18d0f0"
   }
  }
 },
 "nbformat": 4,
 "nbformat_minor": 2
}
