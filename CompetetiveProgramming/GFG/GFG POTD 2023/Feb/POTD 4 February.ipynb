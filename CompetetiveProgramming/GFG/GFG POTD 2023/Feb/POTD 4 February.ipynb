{
 "cells": [
  {
   "attachments": {},
   "cell_type": "markdown",
   "metadata": {},
   "source": [
    "# **POTD 4 February**\n",
    "# ***[Max Sum without Adjacents](https://practice.geeksforgeeks.org/problems/7a33c749a79327b2889d420dd80342fff33aac6d/1)***"
   ]
  },
  {
   "cell_type": "code",
   "execution_count": 5,
   "metadata": {},
   "outputs": [],
   "source": [
    "#User function Template for python3\n",
    "class Solution:\n",
    "    def findMaxSum(self, arr, n):\n",
    "        # code here\n",
    "        t= [-1]*(n+1)\n",
    "        def solve(n):\n",
    "            if n==1:\n",
    "                return arr[0]\n",
    "            if n<1:\n",
    "                return 0\n",
    "            \n",
    "            if t[n]!=-1:\n",
    "                return t[n]\n",
    "            else:\n",
    "                include_n= arr[n-1]+ solve(n-2)\n",
    "                exclude_n= solve(n-1)\n",
    "                t[n]= max(include_n, exclude_n)\n",
    "                return t[n]\n",
    "                \n",
    "        return max(solve(n), solve(n-1))\n",
    "\n",
    "s= Solution()"
   ]
  },
  {
   "cell_type": "code",
   "execution_count": 7,
   "metadata": {},
   "outputs": [],
   "source": [
    "#User function Template for python3\n",
    "class Solution:\n",
    "    def findMaxSum(self, arr, n):\n",
    "        # code here\n",
    "        t= [0]*(n+1)\n",
    "        t[1]= arr[0]\n",
    "        for i in range(2, n+1):\n",
    "            include_i= arr[i-1]+ t[i-2]\n",
    "            exclude_i= t[i-1]\n",
    "            t[i]= max(include_i, exclude_i)\n",
    "\n",
    "        return t[-1]\n",
    "            \n",
    "        \n",
    "\n",
    "s= Solution()"
   ]
  },
  {
   "cell_type": "code",
   "execution_count": 8,
   "metadata": {},
   "outputs": [
    {
     "data": {
      "text/plain": [
       "110"
      ]
     },
     "execution_count": 8,
     "metadata": {},
     "output_type": "execute_result"
    }
   ],
   "source": [
    "N = 6\n",
    "Arr = [5, 5, 10, 100, 10, 5]\n",
    "# Output: 110\n",
    "# Explanation: If you take indices 0, 3 and 5, then Arr[0]+Arr[3]+Arr[5] = 5+100+5 = 110.\n",
    "s.findMaxSum(Arr, N)\n"
   ]
  },
  {
   "cell_type": "code",
   "execution_count": null,
   "metadata": {},
   "outputs": [],
   "source": []
  }
 ],
 "metadata": {
  "kernelspec": {
   "display_name": "Python 3",
   "language": "python",
   "name": "python3"
  },
  "language_info": {
   "codemirror_mode": {
    "name": "ipython",
    "version": 3
   },
   "file_extension": ".py",
   "mimetype": "text/x-python",
   "name": "python",
   "nbconvert_exporter": "python",
   "pygments_lexer": "ipython3",
   "version": "3.9.6"
  },
  "orig_nbformat": 4,
  "vscode": {
   "interpreter": {
    "hash": "c0a3c91513ce8330cc510c252bd0d2b8c5edf3f02855cf0373cb264a8e18d0f0"
   }
  }
 },
 "nbformat": 4,
 "nbformat_minor": 2
}
