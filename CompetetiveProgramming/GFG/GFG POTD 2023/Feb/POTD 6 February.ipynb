{
 "cells": [
  {
   "attachments": {},
   "cell_type": "markdown",
   "metadata": {},
   "source": [
    "# **POTD 6 February**\n",
    "# ***[BST Downward Traversal](https://practice.geeksforgeeks.org/problems/c85e3a573a7de6dfd18398def16d05387852b319/1)***"
   ]
  },
  {
   "cell_type": "code",
   "execution_count": 1,
   "metadata": {},
   "outputs": [],
   "source": [
    "#{\n",
    "# Driver Code Starts\n",
    "#Initial Template for Python 3\n",
    "\n",
    "# } Driver Code Ends\n",
    "#User function Template for python3\n",
    "\n",
    "'''\n",
    "class Node:\n",
    "    def __init__(self,val):\n",
    "        self.data=val\n",
    "        self.left=None\n",
    "        self.right=None\n",
    "'''\n",
    "\n",
    "from sys import stdin, stdout\n",
    "from collections import deque\n",
    "from collections import defaultdict\n",
    "\n",
    "\n",
    "\n",
    "\n",
    "#{\n",
    " # Driver Code Starts.\n",
    "\n",
    "# Tree Node\n",
    "\n",
    "\n",
    "class Node:\n",
    "    def __init__(self, val):\n",
    "        self.right = None\n",
    "        self.data = val\n",
    "        self.left = None\n",
    "\n",
    "# Function to Build Tree\n",
    "\n",
    "\n",
    "def buildTree(s):\n",
    "    #Corner Case\n",
    "    if(len(s) == 0 or s[0] == \"N\"):\n",
    "        return None\n",
    "\n",
    "    # Creating list of strings from input\n",
    "    # string after spliting by space\n",
    "    ip = list(map(str, s.split()))\n",
    "\n",
    "    # Create the root of the tree\n",
    "    root = Node(int(ip[0]))\n",
    "    size = 0\n",
    "    q = deque()\n",
    "\n",
    "    # Push the root to the queue\n",
    "    q.append(root)\n",
    "    size = size+1\n",
    "\n",
    "    # Starting from the second element\n",
    "    i = 1\n",
    "    while(size > 0 and i < len(ip)):\n",
    "        # Get and remove the front of the queue\n",
    "        currNode = q[0]\n",
    "        q.popleft()\n",
    "        size = size-1\n",
    "\n",
    "        # Get the current node's value from the string\n",
    "        currVal = ip[i]\n",
    "\n",
    "        # If the left child is not null\n",
    "        if(currVal != \"N\"):\n",
    "\n",
    "            # Create the left child for the current node\n",
    "            currNode.left = Node(int(currVal))\n",
    "\n",
    "            # Push it to the queue\n",
    "            q.append(currNode.left)\n",
    "            size = size+1\n",
    "        # For the right child\n",
    "        i = i+1\n",
    "        if(i >= len(ip)):\n",
    "            break\n",
    "        currVal = ip[i]\n",
    "\n",
    "        # If the right child is not null\n",
    "        if(currVal != \"N\"):\n",
    "\n",
    "            # Create the right child for the current node\n",
    "            currNode.right = Node(int(currVal))\n",
    "\n",
    "            # Push it to the queue\n",
    "            q.append(currNode.right)\n",
    "            size = size+1\n",
    "        i = i+1\n",
    "    return root\n",
    "\n",
    "\n",
    "\n",
    "# } Driver Code Ends\n"
   ]
  },
  {
   "cell_type": "code",
   "execution_count": 38,
   "metadata": {},
   "outputs": [],
   "source": [
    "\n",
    "class Solution:\n",
    "    def solve(self, root):\n",
    "        if root==None:\n",
    "            return 0\n",
    "        s = 0\n",
    "        left= root.left\n",
    "        right= root.right\n",
    "\n",
    "        if left:\n",
    "            if left.right:\n",
    "                s+=left.right.data\n",
    "        if right:\n",
    "            if right.left:\n",
    "                s+=right.left.data\n",
    "        return s\n",
    "\n",
    "    def verticallyDownBST(self, root, target):\n",
    "        #code here\n",
    "        if root == None:\n",
    "            return -1\n",
    "        if root.data == target:\n",
    "            return self.solve(root)\n",
    "\n",
    "        if target < root.data:\n",
    "            return self.verticallyDownBST(root.left, target)\n",
    "\n",
    "        if target > root.data:\n",
    "            return self.verticallyDownBST(root.right, target)\n"
   ]
  },
  {
   "cell_type": "code",
   "execution_count": 41,
   "metadata": {},
   "outputs": [],
   "source": [
    "def solve(target, N):\n",
    "    # target = int(input())\n",
    "    # N = input()\n",
    "    root = buildTree(N)\n",
    "    res = Solution().verticallyDownBST(root, target)\n",
    "    print(res)\n"
   ]
  },
  {
   "cell_type": "code",
   "execution_count": 47,
   "metadata": {},
   "outputs": [],
   "source": [
    "\n",
    "class Solution:\n",
    "    def solve(self, root, x):\n",
    "        if root == None:\n",
    "            return 0\n",
    "        s = 0\n",
    "        left = root.left\n",
    "        right = root.right\n",
    "\n",
    "        if x==0:\n",
    "            s+=root.data\n",
    "\n",
    "        if left:\n",
    "            s+=self.solve(root.left, x-1)\n",
    "        if right:\n",
    "            s+=self.solve(root.right, x+1)\n",
    "        \n",
    "        return s\n",
    "\n",
    "    def verticallyDownBST(self, root, target):\n",
    "        #code here\n",
    "        if root == None:\n",
    "            return -1\n",
    "        if root.data == target:\n",
    "            return self.solve(root, 0) -target\n",
    "\n",
    "        if target < root.data:\n",
    "            return self.verticallyDownBST(root.left, target)\n",
    "\n",
    "        if target > root.data:\n",
    "            return self.verticallyDownBST(root.right, target)\n"
   ]
  },
  {
   "cell_type": "code",
   "execution_count": 48,
   "metadata": {},
   "outputs": [
    {
     "name": "stdout",
     "output_type": "stream",
     "text": [
      "32\n"
     ]
    }
   ],
   "source": [
    "target= 35\n",
    "N= '25 20 35 15 22 30 45 N N N N N 32 N N'\n",
    "\n",
    "solve(target, N)"
   ]
  },
  {
   "cell_type": "code",
   "execution_count": 49,
   "metadata": {},
   "outputs": [
    {
     "name": "stdout",
     "output_type": "stream",
     "text": [
      "0\n"
     ]
    }
   ],
   "source": [
    "target= 13\n",
    "N= '15 9 16 1 10 N 24 N 4 N 13 21 30 2'\n",
    "\n",
    "solve(target, N)"
   ]
  },
  {
   "cell_type": "code",
   "execution_count": 50,
   "metadata": {},
   "outputs": [
    {
     "name": "stdout",
     "output_type": "stream",
     "text": [
      "69\n"
     ]
    }
   ],
   "source": [
    "target= 29\n",
    "N= '29 3 30 2 24 N N 1 N 10 26 N N 7 20 25'\n",
    "\n",
    "solve(target, N)"
   ]
  },
  {
   "cell_type": "code",
   "execution_count": null,
   "metadata": {},
   "outputs": [],
   "source": []
  }
 ],
 "metadata": {
  "kernelspec": {
   "display_name": "Python 3",
   "language": "python",
   "name": "python3"
  },
  "language_info": {
   "codemirror_mode": {
    "name": "ipython",
    "version": 3
   },
   "file_extension": ".py",
   "mimetype": "text/x-python",
   "name": "python",
   "nbconvert_exporter": "python",
   "pygments_lexer": "ipython3",
   "version": "3.9.6"
  },
  "orig_nbformat": 4,
  "vscode": {
   "interpreter": {
    "hash": "c0a3c91513ce8330cc510c252bd0d2b8c5edf3f02855cf0373cb264a8e18d0f0"
   }
  }
 },
 "nbformat": 4,
 "nbformat_minor": 2
}
