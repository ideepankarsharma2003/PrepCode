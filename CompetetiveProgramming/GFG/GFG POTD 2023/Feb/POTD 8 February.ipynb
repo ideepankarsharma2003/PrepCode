{
 "cells": [
  {
   "attachments": {},
   "cell_type": "markdown",
   "metadata": {},
   "source": [
    "# **POTD 8 February**\n",
    "# ***[Count number of free cell](https://practice.geeksforgeeks.org/problems/90a81c305b1fe939b9230a67824749ceaa493eab/1)***"
   ]
  },
  {
   "cell_type": "code",
   "execution_count": 1,
   "metadata": {},
   "outputs": [],
   "source": [
    "#User function Template for python3\n",
    "\n",
    "class Solution():\n",
    "    def countZero(self, n, k, arr):\n",
    "        #your code here\n",
    "        # matrix= [[0]*n]*n\n",
    "        visited_r = set()\n",
    "        visited_c = set()\n",
    "        ans = []\n",
    "\n",
    "        total = n*n\n",
    "\n",
    "        for i in arr:\n",
    "            r, c = i[0], i[1]\n",
    "            visited_r.add(r)\n",
    "            visited_c.add(c)\n",
    "\n",
    "            lvr = len(visited_r)  # length of visited row\n",
    "            lvc = len(visited_c)  # length of visited column\n",
    "            tot_1 = lvr*n + lvc*(n - lvr)\n",
    "            left_0 = total - tot_1\n",
    "\n",
    "            ans.append(left_0)\n",
    "\n",
    "        return ans\n"
   ]
  },
  {
   "cell_type": "code",
   "execution_count": null,
   "metadata": {},
   "outputs": [],
   "source": []
  }
 ],
 "metadata": {
  "kernelspec": {
   "display_name": "Python 3",
   "language": "python",
   "name": "python3"
  },
  "language_info": {
   "codemirror_mode": {
    "name": "ipython",
    "version": 3
   },
   "file_extension": ".py",
   "mimetype": "text/x-python",
   "name": "python",
   "nbconvert_exporter": "python",
   "pygments_lexer": "ipython3",
   "version": "3.9.6"
  },
  "orig_nbformat": 4,
  "vscode": {
   "interpreter": {
    "hash": "c0a3c91513ce8330cc510c252bd0d2b8c5edf3f02855cf0373cb264a8e18d0f0"
   }
  }
 },
 "nbformat": 4,
 "nbformat_minor": 2
}
