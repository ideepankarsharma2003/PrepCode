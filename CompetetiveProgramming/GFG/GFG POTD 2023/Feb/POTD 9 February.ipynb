{
 "cells": [
  {
   "attachments": {},
   "cell_type": "markdown",
   "metadata": {},
   "source": [
    "# **POTD 9 February**\n",
    "# ***[Maximum Bipartite Matching](https://practice.geeksforgeeks.org/problems/9a88fe7ada1c49c2b3da7a67b43875e4a76aface/1)***"
   ]
  },
  {
   "cell_type": "code",
   "execution_count": 1,
   "metadata": {},
   "outputs": [],
   "source": [
    "#User function Template for python3\n",
    "\n",
    "class Solution:\n",
    "    def maximumMatch(self, G):\n",
    "\t\t#code here\n",
    "        m, n = len(G), len(G[0])        \n",
    "        match = [-1] * n        \n",
    "        visited = [False] * n       \n",
    "        def dfs(i):     \n",
    "            for j in range(n):      \n",
    "                if G[i][j] and not visited[j]:      \n",
    "                    visited[j] = True       \n",
    "                    if match[j] == -1 or dfs(match[j]):     \n",
    "                        match[j] = i        \n",
    "                        return True     \n",
    "            return False        \n",
    "        count = 0       \n",
    "        for i in range(m):      \n",
    "            visited = [False] * n       \n",
    "            if dfs(i):      \n",
    "                count += 1      \n",
    "        return count        "
   ]
  },
  {
   "cell_type": "code",
   "execution_count": null,
   "metadata": {},
   "outputs": [],
   "source": []
  }
 ],
 "metadata": {
  "kernelspec": {
   "display_name": "Python 3",
   "language": "python",
   "name": "python3"
  },
  "language_info": {
   "codemirror_mode": {
    "name": "ipython",
    "version": 3
   },
   "file_extension": ".py",
   "mimetype": "text/x-python",
   "name": "python",
   "nbconvert_exporter": "python",
   "pygments_lexer": "ipython3",
   "version": "3.9.6"
  },
  "orig_nbformat": 4,
  "vscode": {
   "interpreter": {
    "hash": "c0a3c91513ce8330cc510c252bd0d2b8c5edf3f02855cf0373cb264a8e18d0f0"
   }
  }
 },
 "nbformat": 4,
 "nbformat_minor": 2
}
