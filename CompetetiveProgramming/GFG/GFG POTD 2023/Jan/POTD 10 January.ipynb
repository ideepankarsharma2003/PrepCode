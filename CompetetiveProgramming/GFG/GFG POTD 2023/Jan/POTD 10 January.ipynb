{
 "cells": [
  {
   "attachments": {},
   "cell_type": "markdown",
   "metadata": {},
   "source": [
    "# **POTD 10 January**\n",
    "## ***[Transform to Sum Tree](https://practice.geeksforgeeks.org/problems/d7e0ce338b11f0be36877d9c35cc8dfad6636957/1)***"
   ]
  },
  {
   "cell_type": "code",
   "execution_count": null,
   "metadata": {},
   "outputs": [],
   "source": [
    "#User function Template for python3\n",
    "\n",
    "'''\n",
    "# Node Class:\n",
    "class Node:\n",
    "    def __init__(self,val):\n",
    "        self.data = val\n",
    "        self.left = None\n",
    "        self.right = None\n",
    "'''\n",
    "class Solution:\n",
    "    def toSumTree(self, root) :\n",
    "        #code here\n",
    "        if root is None: return 0\n",
    "        temp = root.data\n",
    "        root.data = self.toSumTree(root.left)+self.toSumTree(root.right)\n",
    "        return temp+root.data\n"
   ]
  }
 ],
 "metadata": {
  "kernelspec": {
   "display_name": "Python 3",
   "language": "python",
   "name": "python3"
  },
  "language_info": {
   "name": "python",
   "version": "3.9.6 (tags/v3.9.6:db3ff76, Jun 28 2021, 15:26:21) [MSC v.1929 64 bit (AMD64)]"
  },
  "orig_nbformat": 4,
  "vscode": {
   "interpreter": {
    "hash": "c0a3c91513ce8330cc510c252bd0d2b8c5edf3f02855cf0373cb264a8e18d0f0"
   }
  }
 },
 "nbformat": 4,
 "nbformat_minor": 2
}
