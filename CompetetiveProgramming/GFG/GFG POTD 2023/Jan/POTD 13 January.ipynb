{
 "cells": [
  {
   "attachments": {},
   "cell_type": "markdown",
   "metadata": {},
   "source": [
    "# **POTD 13 January**\n",
    "## ***[Count Lucky Permutations](https://practice.geeksforgeeks.org/problems/e9e2da3de3eb35679ca7e17b752ae877635f1a26/1)***"
   ]
  },
  {
   "cell_type": "code",
   "execution_count": null,
   "metadata": {},
   "outputs": [],
   "source": [
    "#User function Template for python3\n",
    "\n",
    "class Solution: \n",
    "    def luckyPermutations(self, N, M, arr, graph):\n",
    "        # Code here\n",
    "        edges = set()\n",
    "        for [a, b] in graph:\n",
    "            edges.add((a, b))\n",
    "            edges.add((b, a))\n",
    "        dp = dict()\n",
    "        ans = 0\n",
    "        for i in range(N):\n",
    "            state = (i << 16) + (1 << i)\n",
    "            ans += self.backtracking(state, dp, arr, edges)\n",
    "        return ans\n",
    "        \n",
    "    def backtracking(self, state, dp, arr, edges):\n",
    "        if state not in dp:\n",
    "            i = state >> 16\n",
    "            visited = state - (i << 16)\n",
    "            if visited + 1 == 1 << len(arr):\n",
    "                ans = 1\n",
    "            else:\n",
    "                ans = 0\n",
    "                for j in range(len(arr)):\n",
    "                    if i == j \\\n",
    "                    or (arr[i], arr[j]) not in edges \\\n",
    "                    or visited & (1 << j) != 0:\n",
    "                        continue\n",
    "                    state2 = visited + (j << 16) + (1 << j)\n",
    "                    ans += self.backtracking(state2, dp, arr, edges)\n",
    "            dp[state] = ans\n",
    "        return dp[state]"
   ]
  }
 ],
 "metadata": {
  "kernelspec": {
   "display_name": "Python 3",
   "language": "python",
   "name": "python3"
  },
  "language_info": {
   "name": "python",
   "version": "3.9.6 (tags/v3.9.6:db3ff76, Jun 28 2021, 15:26:21) [MSC v.1929 64 bit (AMD64)]"
  },
  "orig_nbformat": 4,
  "vscode": {
   "interpreter": {
    "hash": "c0a3c91513ce8330cc510c252bd0d2b8c5edf3f02855cf0373cb264a8e18d0f0"
   }
  }
 },
 "nbformat": 4,
 "nbformat_minor": 2
}
