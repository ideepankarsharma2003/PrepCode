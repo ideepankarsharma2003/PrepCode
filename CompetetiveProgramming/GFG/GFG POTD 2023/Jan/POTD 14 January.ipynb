{
 "cells": [
  {
   "attachments": {},
   "cell_type": "markdown",
   "metadata": {},
   "source": [
    "# **POTD 14 January**\n",
    "## ***[Maximum Number of Toys](https://practice.geeksforgeeks.org/problems/maximum-number-of-toys/1)***"
   ]
  },
  {
   "cell_type": "code",
   "execution_count": 1,
   "metadata": {},
   "outputs": [],
   "source": [
    "from itertools import accumulate\n",
    "class Solution:\n",
    "    def maximumToys(self,N,A,Q,Queries):\n",
    "        def _count_consecutive():\n",
    "            Con = [1]*N\n",
    "            c = 1\n",
    "            for i in range(1, N):\n",
    "                if S[i] != S[i-1]: c=1; continue\n",
    "                c+=1\n",
    "                Con[i] = c\n",
    "            return Con\n",
    "        \n",
    "        def _calc_cost(m):\n",
    "            sum_cost = Acc[m]\n",
    "            Concnt = Con[m]\n",
    "            mv = S[m]\n",
    "            skip_cnt = same_val_cnt = 0\n",
    "            for skip in skips:\n",
    "                if skip < mv:\n",
    "                    sum_cost -= skip\n",
    "                    skip_cnt += 1\n",
    "                elif skip == mv and same_val_cnt < Concnt:\n",
    "                    sum_cost -= skip\n",
    "                    skip_cnt += 1\n",
    "                    same_val_cnt += 1\n",
    "                else:\n",
    "                    break\n",
    "            return sum_cost, skip_cnt\n",
    "            \n",
    "        S = sorted(A)\n",
    "        Con = _count_consecutive()\n",
    "        Acc = list(accumulate(S))\n",
    "        ans = []\n",
    "        for q in Queries:\n",
    "            C, skips = q[0], sorted([ A[i-1] for i in q[2:] ])\n",
    "            L, R, skip_cnt = 0, N-1, 0\n",
    "            while L<=R:\n",
    "                m = (L+R)//2\n",
    "                v, skip_cnt = _calc_cost(m)\n",
    "                if v <= C: L = m+1\n",
    "                elif v > C: R = m-1\n",
    "            ans.append(R+1-skip_cnt)\n",
    "        return ans"
   ]
  },
  {
   "cell_type": "code",
   "execution_count": null,
   "metadata": {},
   "outputs": [],
   "source": []
  }
 ],
 "metadata": {
  "kernelspec": {
   "display_name": "Python 3",
   "language": "python",
   "name": "python3"
  },
  "language_info": {
   "codemirror_mode": {
    "name": "ipython",
    "version": 3
   },
   "file_extension": ".py",
   "mimetype": "text/x-python",
   "name": "python",
   "nbconvert_exporter": "python",
   "pygments_lexer": "ipython3",
   "version": "3.9.6 (tags/v3.9.6:db3ff76, Jun 28 2021, 15:26:21) [MSC v.1929 64 bit (AMD64)]"
  },
  "orig_nbformat": 4,
  "vscode": {
   "interpreter": {
    "hash": "c0a3c91513ce8330cc510c252bd0d2b8c5edf3f02855cf0373cb264a8e18d0f0"
   }
  }
 },
 "nbformat": 4,
 "nbformat_minor": 2
}
