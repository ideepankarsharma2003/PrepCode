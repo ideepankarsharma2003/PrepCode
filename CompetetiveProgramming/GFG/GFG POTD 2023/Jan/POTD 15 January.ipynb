{
 "cells": [
  {
   "attachments": {},
   "cell_type": "markdown",
   "metadata": {},
   "source": [
    "# **POTD 15 January**\n",
    "## ***[Count the Substring](https://practice.geeksforgeeks.org/problems/f72994353d123b925ff20f0694b662191df03ea2/1)***"
   ]
  },
  {
   "cell_type": "code",
   "execution_count": null,
   "metadata": {},
   "outputs": [],
   "source": [
    "#User function Template for python3\n",
    "\n",
    "from collections import defaultdict\n",
    "class Solution():\n",
    "    def countSubstring(self, S):\n",
    "        #your code here\n",
    "        acc, le, carry = 0, defaultdict(lambda:0), defaultdict(lambda:0)\n",
    "        le[0] = 1; carry[1] = 1\n",
    "        ans = 0\n",
    "        for c in S:\n",
    "            v = 1 if c=='1' else -1\n",
    "            acc += v\n",
    "            le[acc] += 1 + carry[acc]\n",
    "            carry[acc+1] += 1 + carry[acc]\n",
    "            carry[acc] = 0\n",
    "            ans += le[acc-1]\n",
    "        return ans\n"
   ]
  }
 ],
 "metadata": {
  "kernelspec": {
   "display_name": "Python 3",
   "language": "python",
   "name": "python3"
  },
  "language_info": {
   "name": "python",
   "version": "3.9.6 (tags/v3.9.6:db3ff76, Jun 28 2021, 15:26:21) [MSC v.1929 64 bit (AMD64)]"
  },
  "orig_nbformat": 4,
  "vscode": {
   "interpreter": {
    "hash": "c0a3c91513ce8330cc510c252bd0d2b8c5edf3f02855cf0373cb264a8e18d0f0"
   }
  }
 },
 "nbformat": 4,
 "nbformat_minor": 2
}
