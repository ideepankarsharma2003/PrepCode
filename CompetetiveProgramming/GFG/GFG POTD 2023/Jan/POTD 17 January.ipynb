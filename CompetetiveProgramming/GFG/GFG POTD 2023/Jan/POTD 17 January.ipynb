{
 "cells": [
  {
   "attachments": {},
   "cell_type": "markdown",
   "metadata": {},
   "source": [
    "# **POTD 17 January**\n",
    "## ***[Find the maximum GCD of the siblings of a Binary Tree](https://practice.geeksforgeeks.org/problems/6eb51dc638ee1b936f38d1ab4b2f7062d4425463/1)***"
   ]
  },
  {
   "cell_type": "code",
   "execution_count": null,
   "metadata": {},
   "outputs": [],
   "source": [
    "'''\n",
    "# Node Class:\n",
    "class Node:\n",
    "    def _init_(self,val):\n",
    "        self.data = val\n",
    "        self.left = None\n",
    "        self.right = None\n",
    "        '''\n",
    "from math import gcd\n",
    "\n",
    "import queue\n",
    " \n",
    "class Solution:\n",
    "    def maxGCD(self, root):\n",
    "        # code here\n",
    "        qt = queue.Queue()\n",
    "        temp = (0, 0)\n",
    "        qt.put(root)\n",
    "        while not qt.empty():\n",
    "            t = qt.get()\n",
    "            a = 0\n",
    "            b = 0\n",
    "            if t.left:\n",
    "                a = t.left.data\n",
    "                qt.put(t.left)\n",
    "            if t.right:\n",
    "                b = t.right.data\n",
    "                qt.put(t.right)\n",
    "            if a and b:\n",
    "                res = gcd(a, b)\n",
    "                if temp[1] <= res:\n",
    "                    temp = (t.data, res)\n",
    "        return temp[0]\n",
    "        "
   ]
  }
 ],
 "metadata": {
  "kernelspec": {
   "display_name": "Python 3",
   "language": "python",
   "name": "python3"
  },
  "language_info": {
   "name": "python",
   "version": "3.9.6 (tags/v3.9.6:db3ff76, Jun 28 2021, 15:26:21) [MSC v.1929 64 bit (AMD64)]"
  },
  "orig_nbformat": 4,
  "vscode": {
   "interpreter": {
    "hash": "c0a3c91513ce8330cc510c252bd0d2b8c5edf3f02855cf0373cb264a8e18d0f0"
   }
  }
 },
 "nbformat": 4,
 "nbformat_minor": 2
}
