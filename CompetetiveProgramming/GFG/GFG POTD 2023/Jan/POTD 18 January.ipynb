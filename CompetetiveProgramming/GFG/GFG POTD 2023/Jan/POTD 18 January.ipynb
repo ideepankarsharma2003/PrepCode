{
 "cells": [
  {
   "attachments": {},
   "cell_type": "markdown",
   "metadata": {},
   "source": [
    "# **POTD 18 January**\n",
    "## ***[Find the first node of loop in linked list](https://practice.geeksforgeeks.org/problems/44bb5287b98797782162ffe3d2201621f6343a4b/1)***"
   ]
  },
  {
   "cell_type": "code",
   "execution_count": 1,
   "metadata": {},
   "outputs": [],
   "source": [
    "#User function Template for python3\n",
    "\n",
    "\"\"\" Node Class\n",
    "    class Node:\n",
    "        def __init__(self, data):   # data -> value stored in node\n",
    "            self.data = data\n",
    "            self.next = None\n",
    "\"\"\"\n",
    "class Solution:\n",
    "    #Function to find first node if the linked list has a loop.\n",
    "    def findFirstNode(self, head):\n",
    "        #code here\n",
    "        d= {}\n",
    "        current= head\n",
    "        while current:\n",
    "            if current in d.keys():\n",
    "                return current.data\n",
    "            else:\n",
    "                d[current]=1\n",
    "                current= current.next\n",
    "        return -1\n"
   ]
  },
  {
   "cell_type": "code",
   "execution_count": null,
   "metadata": {},
   "outputs": [],
   "source": []
  }
 ],
 "metadata": {
  "kernelspec": {
   "display_name": "Python 3",
   "language": "python",
   "name": "python3"
  },
  "language_info": {
   "codemirror_mode": {
    "name": "ipython",
    "version": 3
   },
   "file_extension": ".py",
   "mimetype": "text/x-python",
   "name": "python",
   "nbconvert_exporter": "python",
   "pygments_lexer": "ipython3",
   "version": "3.9.6 (tags/v3.9.6:db3ff76, Jun 28 2021, 15:26:21) [MSC v.1929 64 bit (AMD64)]"
  },
  "orig_nbformat": 4,
  "vscode": {
   "interpreter": {
    "hash": "c0a3c91513ce8330cc510c252bd0d2b8c5edf3f02855cf0373cb264a8e18d0f0"
   }
  }
 },
 "nbformat": 4,
 "nbformat_minor": 2
}
