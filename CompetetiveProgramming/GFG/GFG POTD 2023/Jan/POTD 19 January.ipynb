{
 "cells": [
  {
   "attachments": {},
   "cell_type": "markdown",
   "metadata": {},
   "source": [
    "# **POTD 19 January**\n",
    "## ***[Carpet into Box](https://practice.geeksforgeeks.org/problems/230d87552a332a2970b2092451334a007f2b0eec/1)***"
   ]
  },
  {
   "cell_type": "code",
   "execution_count": 1,
   "metadata": {},
   "outputs": [],
   "source": [
    "#User function Template for python3\n",
    "\n",
    "\n",
    "class Solution:\n",
    "    def cal(self, carpet, box):\n",
    "        if carpet<=box:\n",
    "            return 0\n",
    "        return 1+ self.cal(carpet//2, box)\n",
    "    def carpetBox(self, A,B,C,D):\n",
    "        #code here\n",
    "        one_flip= self.cal(A, C)+self.cal(B, D)\n",
    "        other_flip= self.cal(A, D)+self.cal(B, C)\n",
    "        return min(one_flip, other_flip)\n"
   ]
  },
  {
   "cell_type": "code",
   "execution_count": null,
   "metadata": {},
   "outputs": [],
   "source": []
  }
 ],
 "metadata": {
  "kernelspec": {
   "display_name": "Python 3",
   "language": "python",
   "name": "python3"
  },
  "language_info": {
   "codemirror_mode": {
    "name": "ipython",
    "version": 3
   },
   "file_extension": ".py",
   "mimetype": "text/x-python",
   "name": "python",
   "nbconvert_exporter": "python",
   "pygments_lexer": "ipython3",
   "version": "3.9.6 (tags/v3.9.6:db3ff76, Jun 28 2021, 15:26:21) [MSC v.1929 64 bit (AMD64)]"
  },
  "orig_nbformat": 4,
  "vscode": {
   "interpreter": {
    "hash": "c0a3c91513ce8330cc510c252bd0d2b8c5edf3f02855cf0373cb264a8e18d0f0"
   }
  }
 },
 "nbformat": 4,
 "nbformat_minor": 2
}
