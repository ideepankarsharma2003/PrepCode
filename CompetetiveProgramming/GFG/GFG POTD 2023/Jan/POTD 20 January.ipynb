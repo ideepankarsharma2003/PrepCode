{
 "cells": [
  {
   "attachments": {},
   "cell_type": "markdown",
   "metadata": {},
   "source": [
    "# **POTD 20 January**\n",
    "## ***[Maximum Weight Node](https://practice.geeksforgeeks.org/problems/b64485d3994958cca8748991bb58668204b3e4c0/1)***"
   ]
  },
  {
   "cell_type": "code",
   "execution_count": 25,
   "metadata": {},
   "outputs": [],
   "source": [
    "#User function Template for python3\n",
    "\n",
    "class Solution():\n",
    "    def maxWeightCell(self, N, Edge):\n",
    "        #your code goes here\n",
    "        weight= [0]*N\n",
    "        print(weight)\n",
    "        for j in range(N):\n",
    "            i= Edge[j]\n",
    "            if i !=-1:\n",
    "                # sum of cell indexes\n",
    "                weight[i]+=j\n",
    "        max_occurance= max(weight)\n",
    "        print(weight)\n",
    "        weight.reverse()\n",
    "\n",
    "        idx= weight.index(max_occurance)\n",
    "        print(f'idx= {idx}')\n",
    "        return N-1-idx\n",
    "        \n",
    "s= Solution()"
   ]
  },
  {
   "cell_type": "code",
   "execution_count": 26,
   "metadata": {},
   "outputs": [
    {
     "name": "stdout",
     "output_type": "stream",
     "text": [
      "[0, 0, 0]\n",
      "[2, 0, 1]\n",
      "idx= 2\n"
     ]
    },
    {
     "data": {
      "text/plain": [
       "0"
      ]
     },
     "execution_count": 26,
     "metadata": {},
     "output_type": "execute_result"
    }
   ],
   "source": [
    "Edge= [2, 2, 0]\n",
    "n= 3\n",
    "s.maxWeightCell(n, Edge)"
   ]
  },
  {
   "cell_type": "code",
   "execution_count": 27,
   "metadata": {},
   "outputs": [
    {
     "name": "stdout",
     "output_type": "stream",
     "text": [
      "[0, 0, 0, 0]\n",
      "[1, 0, 3, 0]\n",
      "idx= 1\n"
     ]
    },
    {
     "data": {
      "text/plain": [
       "2"
      ]
     },
     "execution_count": 27,
     "metadata": {},
     "output_type": "execute_result"
    }
   ],
   "source": [
    "n= 4\n",
    "edge = [2, 0, -1, 2]\n",
    "s.maxWeightCell(n, edge)"
   ]
  },
  {
   "cell_type": "code",
   "execution_count": 19,
   "metadata": {},
   "outputs": [
    {
     "ename": "ValueError",
     "evalue": "2 is not in list",
     "output_type": "error",
     "traceback": [
      "\u001b[1;31m---------------------------------------------------------------------------\u001b[0m",
      "\u001b[1;31mValueError\u001b[0m                                Traceback (most recent call last)",
      "\u001b[1;32mc:\\Deepankar\\Placement-Prep\\CompetetiveProgramming\\GFG\\GFG POTD 2023\\Jan\\POTD 20 January.ipynb Cell 5\u001b[0m in \u001b[0;36m<cell line: 3>\u001b[1;34m()\u001b[0m\n\u001b[0;32m      <a href='vscode-notebook-cell:/c%3A/Deepankar/Placement-Prep/CompetetiveProgramming/GFG/GFG%20POTD%202023/Jan/POTD%2020%20January.ipynb#W3sZmlsZQ%3D%3D?line=0'>1</a>\u001b[0m l\u001b[39m=\u001b[39m[\u001b[39m1\u001b[39m, \u001b[39m2\u001b[39m, \u001b[39m3\u001b[39m, \u001b[39m4\u001b[39m]\n\u001b[1;32m----> <a href='vscode-notebook-cell:/c%3A/Deepankar/Placement-Prep/CompetetiveProgramming/GFG/GFG%20POTD%202023/Jan/POTD%2020%20January.ipynb#W3sZmlsZQ%3D%3D?line=2'>3</a>\u001b[0m l\u001b[39m.\u001b[39mindex(\u001b[39m2\u001b[39m, \u001b[39m-\u001b[39m\u001b[39m1\u001b[39m, \u001b[39m0\u001b[39m)\n",
      "\u001b[1;31mValueError\u001b[0m: 2 is not in list"
     ]
    }
   ],
   "source": [
    "l=[1, 2, 3, 4]\n",
    "\n",
    "l.index(2, -1, 0)"
   ]
  },
  {
   "cell_type": "code",
   "execution_count": null,
   "metadata": {},
   "outputs": [],
   "source": []
  }
 ],
 "metadata": {
  "kernelspec": {
   "display_name": "Python 3",
   "language": "python",
   "name": "python3"
  },
  "language_info": {
   "codemirror_mode": {
    "name": "ipython",
    "version": 3
   },
   "file_extension": ".py",
   "mimetype": "text/x-python",
   "name": "python",
   "nbconvert_exporter": "python",
   "pygments_lexer": "ipython3",
   "version": "3.9.6 (tags/v3.9.6:db3ff76, Jun 28 2021, 15:26:21) [MSC v.1929 64 bit (AMD64)]"
  },
  "orig_nbformat": 4,
  "vscode": {
   "interpreter": {
    "hash": "c0a3c91513ce8330cc510c252bd0d2b8c5edf3f02855cf0373cb264a8e18d0f0"
   }
  }
 },
 "nbformat": 4,
 "nbformat_minor": 2
}
