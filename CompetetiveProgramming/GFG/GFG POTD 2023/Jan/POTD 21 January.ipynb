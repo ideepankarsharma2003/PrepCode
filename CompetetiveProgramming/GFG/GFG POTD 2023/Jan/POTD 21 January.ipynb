{
 "cells": [
  {
   "attachments": {},
   "cell_type": "markdown",
   "metadata": {},
   "source": [
    "# **POTD 21 January**\n",
    "## ***[Minimum X (xor) A](https://practice.geeksforgeeks.org/problems/1fc4278adf2a36780f637c7b4cd06391dd1487e4/1)***"
   ]
  },
  {
   "cell_type": "code",
   "execution_count": null,
   "metadata": {},
   "outputs": [],
   "source": [
    "#User function Template for python3\n",
    "\n",
    "class Solution:\n",
    "    def minVal(self, a, b):\n",
    "        #code here\n",
    "        ones=sum([int(k) for k in bin(b).replace('0b','')])\n",
    "        a=bin(a).replace('0b','')\n",
    "        ans=[]\n",
    "        for i in a:\n",
    "            if i=='0':\n",
    "                ans+=['0']\n",
    "            else:\n",
    "                if ones:\n",
    "                    ans+=['1']\n",
    "                    ones-=1\n",
    "                else:\n",
    "                    ans+=['0']\n",
    "        i=len(ans)-1\n",
    "        while ones and i>=0:\n",
    "            if ans[i]=='0':\n",
    "                ans[i]='1'\n",
    "                ones-=1\n",
    "            i-=1\n",
    "        if ones:\n",
    "            ans=['1']*ones+ans\n",
    "        return int(''.join(ans),2)\n"
   ]
  }
 ],
 "metadata": {
  "kernelspec": {
   "display_name": "Python 3",
   "language": "python",
   "name": "python3"
  },
  "language_info": {
   "name": "python",
   "version": "3.9.6 (tags/v3.9.6:db3ff76, Jun 28 2021, 15:26:21) [MSC v.1929 64 bit (AMD64)]"
  },
  "orig_nbformat": 4,
  "vscode": {
   "interpreter": {
    "hash": "c0a3c91513ce8330cc510c252bd0d2b8c5edf3f02855cf0373cb264a8e18d0f0"
   }
  }
 },
 "nbformat": 4,
 "nbformat_minor": 2
}
