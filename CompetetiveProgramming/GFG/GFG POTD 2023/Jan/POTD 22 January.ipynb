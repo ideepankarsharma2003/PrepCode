{
 "cells": [
  {
   "attachments": {},
   "cell_type": "markdown",
   "metadata": {},
   "source": [
    "# **POTD 22 January**\n",
    "## ***[GCD Array](https://practice.geeksforgeeks.org/problems/2b70d42632a4e207569c6d2d777383e4603d6fe1/1)***"
   ]
  },
  {
   "cell_type": "code",
   "execution_count": null,
   "metadata": {},
   "outputs": [],
   "source": [
    "\n",
    "\n",
    "from typing import List\n",
    "class Solution:\n",
    "    def solve(self, N : int, K : int, arr : List[int]) -> int:\n",
    "        # code here\n",
    "        a = sum(arr)\n",
    "\n",
    "        d = []\n",
    "\n",
    "        m = int(a ** 0.5)\n",
    "\n",
    "        for i in range(1, m+1):\n",
    "\n",
    "            if a % i == 0:\n",
    "\n",
    "                d.append(i)\n",
    "\n",
    "                if i != (a // i):\n",
    "\n",
    "                    d.append(a // i)\n",
    "\n",
    "        \n",
    "\n",
    "        d.sort(reverse = True)\n",
    "\n",
    "        for i in range(1, N):\n",
    "\n",
    "            arr[i] += arr[i-1]\n",
    "\n",
    "        \n",
    "\n",
    "        out = 1\n",
    "\n",
    "        for x in d:\n",
    "\n",
    "            cnt = 0\n",
    "\n",
    "            for y in arr:\n",
    "\n",
    "                if (y % x == 0):\n",
    "\n",
    "                    cnt += 1\n",
    "\n",
    "            \n",
    "\n",
    "            if cnt >= K:\n",
    "\n",
    "                out = x\n",
    "\n",
    "                break\n",
    "\n",
    "        \n",
    "\n",
    "        return out\n",
    "\n"
   ]
  }
 ],
 "metadata": {
  "kernelspec": {
   "display_name": "Python 3",
   "language": "python",
   "name": "python3"
  },
  "language_info": {
   "name": "python",
   "version": "3.9.6 (tags/v3.9.6:db3ff76, Jun 28 2021, 15:26:21) [MSC v.1929 64 bit (AMD64)]"
  },
  "orig_nbformat": 4,
  "vscode": {
   "interpreter": {
    "hash": "c0a3c91513ce8330cc510c252bd0d2b8c5edf3f02855cf0373cb264a8e18d0f0"
   }
  }
 },
 "nbformat": 4,
 "nbformat_minor": 2
}
