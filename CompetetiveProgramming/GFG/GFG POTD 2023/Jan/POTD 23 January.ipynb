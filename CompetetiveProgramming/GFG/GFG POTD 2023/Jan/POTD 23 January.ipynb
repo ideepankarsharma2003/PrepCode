{
 "cells": [
  {
   "attachments": {},
   "cell_type": "markdown",
   "metadata": {},
   "source": [
    "# **POTD 23 January**\n",
    "## ***[Geeks And The String](https://practice.geeksforgeeks.org/problems/466faca80c3e86f13880710491c634d26abd44a7/1)***"
   ]
  },
  {
   "cell_type": "code",
   "execution_count": 1,
   "metadata": {},
   "outputs": [],
   "source": [
    "#User function Template for python3\n",
    "\n",
    "\n",
    "\n",
    "from collections import deque\n",
    "class Solution:\n",
    "    \n",
    "    #Function to remove pair of duplicates from given string using Stack.\n",
    "    def removePair(self,s):\n",
    "        # code here\n",
    "\n",
    "        st = []\n",
    "\n",
    "        char_arr = list(s)\n",
    "\n",
    "        for ch in char_arr:\n",
    "\n",
    "            if not st:\n",
    "\n",
    "                st.append(ch)\n",
    "\n",
    "            elif st[-1] == ch:\n",
    "\n",
    "                st.pop()\n",
    "\n",
    "            else:\n",
    "\n",
    "                st.append(ch)\n",
    "\n",
    "        if not st:\n",
    "\n",
    "            return \"-1\"\n",
    "\n",
    "        else:\n",
    "\n",
    "            final_string = \"\".join(st)\n",
    "\n",
    "            return final_string\n",
    "            \n",
    "            \n",
    "            "
   ]
  },
  {
   "cell_type": "code",
   "execution_count": null,
   "metadata": {},
   "outputs": [],
   "source": []
  }
 ],
 "metadata": {
  "kernelspec": {
   "display_name": "Python 3",
   "language": "python",
   "name": "python3"
  },
  "language_info": {
   "codemirror_mode": {
    "name": "ipython",
    "version": 3
   },
   "file_extension": ".py",
   "mimetype": "text/x-python",
   "name": "python",
   "nbconvert_exporter": "python",
   "pygments_lexer": "ipython3",
   "version": "3.9.6 (tags/v3.9.6:db3ff76, Jun 28 2021, 15:26:21) [MSC v.1929 64 bit (AMD64)]"
  },
  "orig_nbformat": 4,
  "vscode": {
   "interpreter": {
    "hash": "c0a3c91513ce8330cc510c252bd0d2b8c5edf3f02855cf0373cb264a8e18d0f0"
   }
  }
 },
 "nbformat": 4,
 "nbformat_minor": 2
}
