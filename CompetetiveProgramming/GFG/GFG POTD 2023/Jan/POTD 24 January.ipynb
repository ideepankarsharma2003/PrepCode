{
 "cells": [
  {
   "attachments": {},
   "cell_type": "markdown",
   "metadata": {},
   "source": [
    "# **POTD 24 January**\n",
    "## ***[Convert an array to reduced form](https://practice.geeksforgeeks.org/problems/convert-an-array-to-reduced-form1101/1)***"
   ]
  },
  {
   "cell_type": "code",
   "execution_count": null,
   "metadata": {},
   "outputs": [],
   "source": [
    "#User function Template for python3\n",
    "class Solution:\n",
    "    def convert(self,arr, n):\n",
    "\n",
    "         # code here\n",
    "        \n",
    "         h={}\n",
    "        \n",
    "         b=sorted(arr)\n",
    "        \n",
    "         for i in range(n):\n",
    "        \n",
    "             h[b[i]]=i\n",
    "        \n",
    "         for i in range(n):\n",
    "        \n",
    "         \n",
    "        \n",
    "             arr[i]=h[arr[i]]\n"
   ]
  }
 ],
 "metadata": {
  "kernelspec": {
   "display_name": "Python 3",
   "language": "python",
   "name": "python3"
  },
  "language_info": {
   "name": "python",
   "version": "3.9.6 (tags/v3.9.6:db3ff76, Jun 28 2021, 15:26:21) [MSC v.1929 64 bit (AMD64)]"
  },
  "orig_nbformat": 4,
  "vscode": {
   "interpreter": {
    "hash": "c0a3c91513ce8330cc510c252bd0d2b8c5edf3f02855cf0373cb264a8e18d0f0"
   }
  }
 },
 "nbformat": 4,
 "nbformat_minor": 2
}
