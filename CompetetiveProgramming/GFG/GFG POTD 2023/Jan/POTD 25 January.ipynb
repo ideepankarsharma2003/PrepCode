{
 "cells": [
  {
   "attachments": {},
   "cell_type": "markdown",
   "metadata": {},
   "source": [
    "# **POTD 25 January**\n",
    "## ***[Type it!](https://practice.geeksforgeeks.org/problems/95080eb9efbf7cc5cb4851ddf8d7946e3f212a49/1)***"
   ]
  },
  {
   "cell_type": "code",
   "execution_count": null,
   "metadata": {},
   "outputs": [],
   "source": [
    "#User function Template for python3\n",
    "\n",
    "class Solution:\n",
    "    def minOperation(self, s): \n",
    "        #code here\n",
    "        string=\"\"\n",
    "        string+=s[0]\n",
    "        count=1\n",
    "        prev_len=1\n",
    "        i=1\n",
    "        while i<len(s):\n",
    "            if string==s[i:2*i] and len(string)>prev_len:\n",
    "                count-=1\n",
    "                count+=prev_len\n",
    "                count+=1\n",
    "                prev_len=len(s[i:2*i])\n",
    "                #print(prev_len,string,count,123)\n",
    "                string+=s[i:2*i]\n",
    "                i+=len(s[i:2*i])\n",
    "            else:\n",
    "                count+=1\n",
    "                string+=s[i]\n",
    "                i+=1\n",
    "            #print(i,string,count)\n",
    "        return count\n",
    "\n"
   ]
  }
 ],
 "metadata": {
  "kernelspec": {
   "display_name": "Python 3",
   "language": "python",
   "name": "python3"
  },
  "language_info": {
   "name": "python",
   "version": "3.9.6 (tags/v3.9.6:db3ff76, Jun 28 2021, 15:26:21) [MSC v.1929 64 bit (AMD64)]"
  },
  "orig_nbformat": 4,
  "vscode": {
   "interpreter": {
    "hash": "c0a3c91513ce8330cc510c252bd0d2b8c5edf3f02855cf0373cb264a8e18d0f0"
   }
  }
 },
 "nbformat": 4,
 "nbformat_minor": 2
}
