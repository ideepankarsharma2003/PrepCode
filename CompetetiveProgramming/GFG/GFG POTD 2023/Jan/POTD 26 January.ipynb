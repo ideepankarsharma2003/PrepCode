{
 "cells": [
  {
   "attachments": {},
   "cell_type": "markdown",
   "metadata": {},
   "source": [
    "# **POTD 26 January**\n",
    "## ***[Case-specific Sorting of Strings](https://practice.geeksforgeeks.org/problems/case-specific-sorting-of-strings4845/1)***"
   ]
  },
  {
   "cell_type": "code",
   "execution_count": null,
   "metadata": {},
   "outputs": [],
   "source": [
    "#User function Template for python3\n",
    "\n",
    "class Solution:\n",
    "\n",
    "    #Function to perform case-specific sorting of strings.\n",
    "    def caseSort(self,s,n):\n",
    "        #code here\n",
    "        lower = []\n",
    "        upper = []\n",
    "        \n",
    "        for i in range(n):\n",
    "            if s[i].isupper():\n",
    "                upper.append(s[i])\n",
    "            else:\n",
    "                lower.append(s[i])\n",
    "        \n",
    "        lower.sort()\n",
    "        upper.sort()\n",
    "        \n",
    "        ans = \"\"\n",
    "        \n",
    "        lowerCount = 0\n",
    "        upperCount = 0\n",
    "        for i in range(n):\n",
    "            if s[i].islower():\n",
    "                ans += lower[lowerCount]\n",
    "                lowerCount += 1\n",
    "            else:\n",
    "                ans += upper[upperCount]\n",
    "                upperCount += 1\n",
    "        \n",
    "        return ans"
   ]
  }
 ],
 "metadata": {
  "kernelspec": {
   "display_name": "Python 3",
   "language": "python",
   "name": "python3"
  },
  "language_info": {
   "name": "python",
   "version": "3.9.6 (tags/v3.9.6:db3ff76, Jun 28 2021, 15:26:21) [MSC v.1929 64 bit (AMD64)]"
  },
  "orig_nbformat": 4,
  "vscode": {
   "interpreter": {
    "hash": "c0a3c91513ce8330cc510c252bd0d2b8c5edf3f02855cf0373cb264a8e18d0f0"
   }
  }
 },
 "nbformat": 4,
 "nbformat_minor": 2
}
