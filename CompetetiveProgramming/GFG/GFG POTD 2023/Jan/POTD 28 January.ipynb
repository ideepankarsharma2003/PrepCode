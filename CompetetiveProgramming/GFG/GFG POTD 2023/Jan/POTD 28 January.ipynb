{
 "cells": [
  {
   "attachments": {},
   "cell_type": "markdown",
   "metadata": {},
   "source": [
    "# **POTD 28 January**\n",
    "## ***[Scrambled String](https://practice.geeksforgeeks.org/problems/scrambled-string/1)***"
   ]
  },
  {
   "cell_type": "code",
   "execution_count": null,
   "metadata": {},
   "outputs": [],
   "source": [
    "#User function Template for python3\n",
    "\n",
    "from functools import lru_cache\n",
    "class Solution:\n",
    "    \n",
    "    @lru_cache(None)\n",
    "    def isScramble(self, S1: str, S2: str):\n",
    "        ##code here\n",
    "        if S1 == S2: return True\n",
    "        if sorted(S1) != sorted(S2): return False\n",
    "        \n",
    "        for i in range(1, len(S1)):\n",
    "            if (self.isScramble(S1[:i], S2[:i]) and self.isScramble(S1[i:], S2[i:])) or (self.isScramble(S1[:i], S2[-i:]) and self.isScramble(S1[i:], S2[:-i])):\n",
    "                return True\n",
    "        return False"
   ]
  }
 ],
 "metadata": {
  "kernelspec": {
   "display_name": "Python 3",
   "language": "python",
   "name": "python3"
  },
  "language_info": {
   "name": "python",
   "version": "3.9.6 (tags/v3.9.6:db3ff76, Jun 28 2021, 15:26:21) [MSC v.1929 64 bit (AMD64)]"
  },
  "orig_nbformat": 4,
  "vscode": {
   "interpreter": {
    "hash": "c0a3c91513ce8330cc510c252bd0d2b8c5edf3f02855cf0373cb264a8e18d0f0"
   }
  }
 },
 "nbformat": 4,
 "nbformat_minor": 2
}
