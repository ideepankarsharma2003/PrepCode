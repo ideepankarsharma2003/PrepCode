{
 "cells": [
  {
   "attachments": {},
   "cell_type": "markdown",
   "metadata": {},
   "source": [
    "# **POTD 30 January**\n",
    "## ***[Select Nodes](https://practice.geeksforgeeks.org/problems/f7bfa137576243795abb0595962d61b632bbad21/1)***"
   ]
  },
  {
   "cell_type": "code",
   "execution_count": null,
   "metadata": {},
   "outputs": [],
   "source": [
    "#User function Template for python3\n",
    "class Solution:\n",
    "    def dfs(self, graph, u, p):\n",
    "        exc, inc = 0, 1\n",
    "        for v in graph[u]:\n",
    "            if v != p:\n",
    "                cexc, cinc = self.dfs(graph, v, u)\n",
    "                exc += cinc\n",
    "                inc += min(cinc, cexc)\n",
    "        return exc, inc\n",
    "\n",
    "    def countVertex(self, N, edges):\n",
    "        graph = [[] for _ in range(N)]\n",
    "        for u, v in edges:\n",
    "            graph[u-1].append(v-1)\n",
    "            graph[v-1].append(u-1)\n",
    "\n",
    "        return min(self.dfs(graph, 0, -1))\n"
   ]
  },
  {
   "cell_type": "code",
   "execution_count": null,
   "metadata": {},
   "outputs": [],
   "source": []
  }
 ],
 "metadata": {
  "kernelspec": {
   "display_name": "Python 3",
   "language": "python",
   "name": "python3"
  },
  "language_info": {
   "codemirror_mode": {
    "name": "ipython",
    "version": 3
   },
   "file_extension": ".py",
   "mimetype": "text/x-python",
   "name": "python",
   "nbconvert_exporter": "python",
   "pygments_lexer": "ipython3",
   "version": "3.9.6 (tags/v3.9.6:db3ff76, Jun 28 2021, 15:26:21) [MSC v.1929 64 bit (AMD64)]"
  },
  "orig_nbformat": 4,
  "vscode": {
   "interpreter": {
    "hash": "c0a3c91513ce8330cc510c252bd0d2b8c5edf3f02855cf0373cb264a8e18d0f0"
   }
  }
 },
 "nbformat": 4,
 "nbformat_minor": 2
}
