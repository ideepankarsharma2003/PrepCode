{
 "cells": [
  {
   "attachments": {},
   "cell_type": "markdown",
   "metadata": {},
   "source": [
    "# **POTD 31 January**\n",
    "## ***[Minimum times A has to be repeated such that B is a substring of it](https://practice.geeksforgeeks.org/problems/fda70097eb2895ecfff269849b6a8aace441947c/1)***"
   ]
  },
  {
   "cell_type": "code",
   "execution_count": null,
   "metadata": {},
   "outputs": [],
   "source": [
    "#User function Template for python3\n",
    "\n",
    "class Solution:\n",
    "    def minRepeats(self, a, b):\n",
    "        # code here\n",
    "        ans = 0\n",
    "        j = 0\n",
    "        i = 0\n",
    "        for i in range(len(a)):\n",
    "            if(b[0] == a[i]):\n",
    "                break\n",
    "        if(i == len(a)):\n",
    "            return -1\n",
    "        while(j < len(b)):\n",
    "            if(i == len(a)):\n",
    "                ans += 1\n",
    "                i = 0\n",
    "            if(a[i] != b[j]):\n",
    "                return -1\n",
    "            if(a[i] == b[j]):\n",
    "                i += 1\n",
    "                j += 1\n",
    "        return ans+1\n"
   ]
  },
  {
   "cell_type": "code",
   "execution_count": null,
   "metadata": {},
   "outputs": [],
   "source": []
  }
 ],
 "metadata": {
  "kernelspec": {
   "display_name": "Python 3",
   "language": "python",
   "name": "python3"
  },
  "language_info": {
   "codemirror_mode": {
    "name": "ipython",
    "version": 3
   },
   "file_extension": ".py",
   "mimetype": "text/x-python",
   "name": "python",
   "nbconvert_exporter": "python",
   "pygments_lexer": "ipython3",
   "version": "3.9.6 (tags/v3.9.6:db3ff76, Jun 28 2021, 15:26:21) [MSC v.1929 64 bit (AMD64)]"
  },
  "orig_nbformat": 4,
  "vscode": {
   "interpreter": {
    "hash": "c0a3c91513ce8330cc510c252bd0d2b8c5edf3f02855cf0373cb264a8e18d0f0"
   }
  }
 },
 "nbformat": 4,
 "nbformat_minor": 2
}
