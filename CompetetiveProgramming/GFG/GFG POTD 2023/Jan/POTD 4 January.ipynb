{
 "cells": [
  {
   "attachments": {},
   "cell_type": "markdown",
   "metadata": {},
   "source": [
    "# **POTD 4 January**\n",
    "## ***[Maximum Profit By Choosing A Subset Of Intervals](https://practice.geeksforgeeks.org/problems/649205908e04ac00f303626fa845261318adfa8f/1)***"
   ]
  },
  {
   "cell_type": "code",
   "execution_count": null,
   "metadata": {},
   "outputs": [],
   "source": [
    "from typing import List\n",
    "\n",
    "\n",
    "class Solution:\n",
    "    def maximum_profit(self, n : int, intervals : List[List[int]]) -> int:\n",
    "        # code here\n",
    "        intervals.sort( key=lambda x: (x[1], x[0]) )\n",
    "        M = intervals[-1][1]\n",
    "        dp = [0]*(M+1)\n",
    "        \n",
    "        for i in range(n):\n",
    "            s,e,p = intervals[i]\n",
    "            if p+dp[s] > dp[e]:\n",
    "                dp[e] = p+dp[s]\n",
    "            if i < n-1:\n",
    "                _,en,_ = intervals[i+1]\n",
    "                for j in range(e+1, en+1):\n",
    "                    dp[j] = dp[e]\n",
    "                \n",
    "        return dp[M]\n",
    "        \n"
   ]
  },
  {
   "cell_type": "code",
   "execution_count": null,
   "metadata": {},
   "outputs": [],
   "source": []
  }
 ],
 "metadata": {
  "kernelspec": {
   "display_name": "Python 3",
   "language": "python",
   "name": "python3"
  },
  "language_info": {
   "name": "python",
   "version": "3.9.6 (tags/v3.9.6:db3ff76, Jun 28 2021, 15:26:21) [MSC v.1929 64 bit (AMD64)]"
  },
  "orig_nbformat": 4,
  "vscode": {
   "interpreter": {
    "hash": "c0a3c91513ce8330cc510c252bd0d2b8c5edf3f02855cf0373cb264a8e18d0f0"
   }
  }
 },
 "nbformat": 4,
 "nbformat_minor": 2
}
