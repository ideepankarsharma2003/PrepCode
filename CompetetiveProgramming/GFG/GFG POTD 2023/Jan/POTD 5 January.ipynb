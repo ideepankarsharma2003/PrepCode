{
 "cells": [
  {
   "attachments": {},
   "cell_type": "markdown",
   "metadata": {},
   "source": [
    "# **POTD 5 January**\n",
    "## ***[Find the longest string](https://practice.geeksforgeeks.org/problems/8d157f11af5416087251513cfc38ffc4d23be308/1)***"
   ]
  },
  {
   "cell_type": "code",
   "execution_count": 1,
   "metadata": {},
   "outputs": [],
   "source": [
    "\n",
    "\n",
    "class Solution():\n",
    "    def longestString(self, arr, n):\n",
    "        #your code goes here\n",
    "        arr.sort()\n",
    "\n",
    "        mx=\"\"\n",
    "\n",
    "        dct={}\n",
    "\n",
    "        dct[\"\"]=1\n",
    "\n",
    "        for i in range(n):\n",
    "\n",
    "            if arr[i][:-1] in dct:\n",
    "\n",
    "                dct[arr[i]]=1\n",
    "\n",
    "                if len(mx)<len(arr[i]):\n",
    "\n",
    "                    mx=arr[i]\n",
    "\n",
    "        return mx\n"
   ]
  },
  {
   "cell_type": "code",
   "execution_count": null,
   "metadata": {},
   "outputs": [],
   "source": []
  }
 ],
 "metadata": {
  "kernelspec": {
   "display_name": "Python 3",
   "language": "python",
   "name": "python3"
  },
  "language_info": {
   "codemirror_mode": {
    "name": "ipython",
    "version": 3
   },
   "file_extension": ".py",
   "mimetype": "text/x-python",
   "name": "python",
   "nbconvert_exporter": "python",
   "pygments_lexer": "ipython3",
   "version": "3.9.6 (tags/v3.9.6:db3ff76, Jun 28 2021, 15:26:21) [MSC v.1929 64 bit (AMD64)]"
  },
  "orig_nbformat": 4,
  "vscode": {
   "interpreter": {
    "hash": "c0a3c91513ce8330cc510c252bd0d2b8c5edf3f02855cf0373cb264a8e18d0f0"
   }
  }
 },
 "nbformat": 4,
 "nbformat_minor": 2
}
