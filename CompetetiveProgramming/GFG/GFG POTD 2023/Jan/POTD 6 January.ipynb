{
 "cells": [
  {
   "attachments": {},
   "cell_type": "markdown",
   "metadata": {},
   "source": [
    "# **POTD 6 January**\n",
    "## ***[Shortest Prime Path](https://practice.geeksforgeeks.org/problems/1646a9b5169d7571cf672f2a31533af083d1f479/1)***"
   ]
  },
  {
   "cell_type": "code",
   "execution_count": null,
   "metadata": {},
   "outputs": [],
   "source": [
    "#User function Template for python3\n",
    "from math import sqrt, ceil\n",
    "from collections import defaultdict\n",
    "class Solution:\n",
    "    def __init__(self):\n",
    "        # Every index of prime stores zero or one\n",
    "        # If prime[i] is zero means i is not a prime\n",
    "        # If prime[i] is one means i is a prime\n",
    "        self.prime=[1 for i in range(10001)]\n",
    "        N = 10000\n",
    "        self.adjs = defaultdict(set) # { num : set(num) }\n",
    "        self.prime=[1 for i in range(N+1)]\n",
    "        self.prime[0] = self.prime[1] = 0\n",
    "        # prime sieve\n",
    "        for i in range(2, ceil(sqrt(N))+1):\n",
    "            if not self.prime[i]: continue\n",
    "            for j in range(i*i, N+1, i):\n",
    "                self.prime[j] = 0\n",
    "        # adjs \n",
    "        for v in range(1000, N):\n",
    "            if not self.prime[v]: continue\n",
    "            rs = ( v%1000, v//1000*1000+v%100, v//100*100+v%10, v//10*10 )\n",
    "            for d in range(10):\n",
    "                for nv in [ d*m + r for r,m in zip(rs, (1000,100,10,1)) ]:\n",
    "                    if nv != v and nv > 1000 and self.prime[nv]:\n",
    "                        self.adjs[v].add(nv)\n",
    "\n",
    "    def shortestPath(self,Num1,Num2):\n",
    "        # Complete this function using prime list\n",
    "        if Num1==Num2: return 0\n",
    "        g = [10**6] * 10000; g[Num1] = 0\n",
    "        q1, q2 = [], [Num1]\n",
    "        dist = 1\n",
    "        while q2:\n",
    "            q1, q2 = q2, q1\n",
    "            q2.clear()\n",
    "            while q1:\n",
    "                v = q1.pop()\n",
    "                for nv in self.adjs[v]:\n",
    "                    if dist < g[nv]:\n",
    "                        if nv == Num2: return dist\n",
    "                        g[nv] = dist\n",
    "                        q2.append(nv)\n",
    "            dist += 1\n",
    "        return -1\n",
    "\n",
    "\n"
   ]
  },
  {
   "cell_type": "code",
   "execution_count": null,
   "metadata": {},
   "outputs": [],
   "source": []
  }
 ],
 "metadata": {
  "kernelspec": {
   "display_name": "Python 3",
   "language": "python",
   "name": "python3"
  },
  "language_info": {
   "codemirror_mode": {
    "name": "ipython",
    "version": 3
   },
   "file_extension": ".py",
   "mimetype": "text/x-python",
   "name": "python",
   "nbconvert_exporter": "python",
   "pygments_lexer": "ipython3",
   "version": "3.9.6 (tags/v3.9.6:db3ff76, Jun 28 2021, 15:26:21) [MSC v.1929 64 bit (AMD64)]"
  },
  "orig_nbformat": 4,
  "vscode": {
   "interpreter": {
    "hash": "c0a3c91513ce8330cc510c252bd0d2b8c5edf3f02855cf0373cb264a8e18d0f0"
   }
  }
 },
 "nbformat": 4,
 "nbformat_minor": 2
}
