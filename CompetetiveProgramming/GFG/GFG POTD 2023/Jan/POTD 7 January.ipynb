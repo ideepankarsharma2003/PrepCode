{
 "cells": [
  {
   "attachments": {},
   "cell_type": "markdown",
   "metadata": {},
   "source": [
    "# **POTD 7 January**\n",
    "## ***[Flattening a Linked List](https://practice.geeksforgeeks.org/problems/da62a798bca208c7a678c133569c3dc7f5b73500/1)***"
   ]
  },
  {
   "cell_type": "code",
   "execution_count": 1,
   "metadata": {},
   "outputs": [],
   "source": [
    "#User function Template for python3\n",
    "\n",
    "\n",
    "'''\n",
    "\n",
    "class Node:\n",
    "    def __init__(self, d):\n",
    "        self.data=d\n",
    "        self.next=None\n",
    "        self.bottom=None\n",
    "        \n",
    "'''\n",
    "class Solution():\n",
    "    \n",
    "    def flatten(self,root):\n",
    "        #Your code here\n",
    "        def merge(l1, l2):\n",
    "            dummy = head = Node(0)\n",
    "            while l1 or l2:\n",
    "                if l1 and l2:\n",
    "                    if l1.data < l2.data:\n",
    "                        head.bottom = l1\n",
    "                        l1 = l1.bottom\n",
    "                    else:\n",
    "                        head.bottom = l2\n",
    "                        l2 = l2.bottom\n",
    "                elif l1:\n",
    "                    head.bottom = l1\n",
    "                    l1 = l1.bottom\n",
    "                else:\n",
    "                    head.bottom = l2\n",
    "                    l2 = l2.bottom\n",
    "                head = head.bottom\n",
    "            return dummy.bottom\n",
    " \n",
    "        head = None\n",
    "        while root:\n",
    "            t, root = root, root.next\n",
    "            t.next = None\n",
    "            head = merge(head, t)\n",
    "        return head"
   ]
  },
  {
   "cell_type": "code",
   "execution_count": null,
   "metadata": {},
   "outputs": [],
   "source": []
  }
 ],
 "metadata": {
  "kernelspec": {
   "display_name": "Python 3",
   "language": "python",
   "name": "python3"
  },
  "language_info": {
   "codemirror_mode": {
    "name": "ipython",
    "version": 3
   },
   "file_extension": ".py",
   "mimetype": "text/x-python",
   "name": "python",
   "nbconvert_exporter": "python",
   "pygments_lexer": "ipython3",
   "version": "3.9.6 (tags/v3.9.6:db3ff76, Jun 28 2021, 15:26:21) [MSC v.1929 64 bit (AMD64)]"
  },
  "orig_nbformat": 4,
  "vscode": {
   "interpreter": {
    "hash": "c0a3c91513ce8330cc510c252bd0d2b8c5edf3f02855cf0373cb264a8e18d0f0"
   }
  }
 },
 "nbformat": 4,
 "nbformat_minor": 2
}
