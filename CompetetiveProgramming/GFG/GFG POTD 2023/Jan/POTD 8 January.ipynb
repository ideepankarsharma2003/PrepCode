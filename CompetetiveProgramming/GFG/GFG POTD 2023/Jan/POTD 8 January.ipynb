{
 "cells": [
  {
   "attachments": {},
   "cell_type": "markdown",
   "metadata": {},
   "source": [
    "# **POTD 8 January**\n",
    "## ***[Absolute difference divisible by K](https://practice.geeksforgeeks.org/problems/e0059183c88ab680b2f73f7d809fb8056fe9dc43/1)***"
   ]
  },
  {
   "cell_type": "code",
   "execution_count": 1,
   "metadata": {},
   "outputs": [],
   "source": [
    "#User function Template for python3\n",
    "from collections import Counter\n",
    "class Solution:\n",
    "    def countPairs (self, n, arr, k):\n",
    "        # code here\n",
    "        m, ans = Counter(), 0\n",
    "        for e in arr:\n",
    "            r = abs(e)%k*(e//abs(e))\n",
    "            if r in m:\n",
    "                ans += m[r]\n",
    "            elif e+k in m:\n",
    "                ans += m[e+k]\n",
    "            elif e-k in m:\n",
    "                ans += m[e-k]\n",
    "            m[r] += 1\n",
    "        return ans"
   ]
  },
  {
   "cell_type": "code",
   "execution_count": null,
   "metadata": {},
   "outputs": [],
   "source": []
  }
 ],
 "metadata": {
  "kernelspec": {
   "display_name": "Python 3",
   "language": "python",
   "name": "python3"
  },
  "language_info": {
   "codemirror_mode": {
    "name": "ipython",
    "version": 3
   },
   "file_extension": ".py",
   "mimetype": "text/x-python",
   "name": "python",
   "nbconvert_exporter": "python",
   "pygments_lexer": "ipython3",
   "version": "3.9.6 (tags/v3.9.6:db3ff76, Jun 28 2021, 15:26:21) [MSC v.1929 64 bit (AMD64)]"
  },
  "orig_nbformat": 4,
  "vscode": {
   "interpreter": {
    "hash": "c0a3c91513ce8330cc510c252bd0d2b8c5edf3f02855cf0373cb264a8e18d0f0"
   }
  }
 },
 "nbformat": 4,
 "nbformat_minor": 2
}
