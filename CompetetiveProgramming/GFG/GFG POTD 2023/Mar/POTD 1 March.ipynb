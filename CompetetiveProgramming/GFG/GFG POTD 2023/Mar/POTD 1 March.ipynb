{
 "cells": [
  {
   "attachments": {},
   "cell_type": "markdown",
   "metadata": {},
   "source": [
    "# **POTD 1 March**\n",
    "# ***[Update Queries](https://practice.geeksforgeeks.org/problems/a6528c893d4ab645ec6e0690c7982748385099c8/1)***"
   ]
  },
  {
   "cell_type": "code",
   "execution_count": 1,
   "metadata": {},
   "outputs": [],
   "source": [
    "from typing import List\n",
    "\n",
    "\n",
    "\n",
    "\n",
    "class Solution():\n",
    "    def updateQuery(self, N, Q, U):\n",
    "        #your code goes here\n",
    "        count = [[0]*17 for _ in range(N+1)]\n",
    "\n",
    "        for l, r, x in U:\n",
    "\n",
    "            l, r = l-1, r-1\n",
    "\n",
    "            for b in range(17):\n",
    "\n",
    "                if x & (1 << b):\n",
    "\n",
    "                    count[l][b] += 1\n",
    "\n",
    "                    count[r+1][b] -= 1\n",
    "\n",
    "        for i in range(1, N):\n",
    "\n",
    "            for j in range(17):\n",
    "\n",
    "                count[i][j] += count[i-1][j]\n",
    "\n",
    "        res = []\n",
    "\n",
    "        for i in range(N):\n",
    "\n",
    "            cur = 0\n",
    "\n",
    "            for b in range(17):\n",
    "\n",
    "                if count[i][b]:\n",
    "\n",
    "                    cur |= (1 << b)\n",
    "\n",
    "            res.append(cur)\n",
    "\n",
    "        return res(self, n: int, a: List[int]) -> List[int]:\n",
    "        # code here\n",
    "        li = []\n",
    "\n",
    "        li.append(0)\n",
    "\n",
    "        for i in range(1, n):\n",
    "\n",
    "            li.append(li[0]+li[i-1]+abs(a[i]-a[i//2]))\n",
    "\n",
    "        return li\n"
   ]
  },
  {
   "cell_type": "code",
   "execution_count": null,
   "metadata": {},
   "outputs": [],
   "source": []
  }
 ],
 "metadata": {
  "kernelspec": {
   "display_name": "Python 3",
   "language": "python",
   "name": "python3"
  },
  "language_info": {
   "codemirror_mode": {
    "name": "ipython",
    "version": 3
   },
   "file_extension": ".py",
   "mimetype": "text/x-python",
   "name": "python",
   "nbconvert_exporter": "python",
   "pygments_lexer": "ipython3",
   "version": "3.9.6"
  },
  "orig_nbformat": 4,
  "vscode": {
   "interpreter": {
    "hash": "c0a3c91513ce8330cc510c252bd0d2b8c5edf3f02855cf0373cb264a8e18d0f0"
   }
  }
 },
 "nbformat": 4,
 "nbformat_minor": 2
}
