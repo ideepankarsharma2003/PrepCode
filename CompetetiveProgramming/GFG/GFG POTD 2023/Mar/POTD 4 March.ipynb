{
 "cells": [
  {
   "attachments": {},
   "cell_type": "markdown",
   "metadata": {},
   "source": [
    "# **POTD 4 March**\n",
    "# ***[Best Node](https://practice.geeksforgeeks.org/problems/a3493283697b7b69573a840f371a55ccd9332bb0/1)***"
   ]
  },
  {
   "cell_type": "code",
   "execution_count": 1,
   "metadata": {},
   "outputs": [],
   "source": [
    "from typing import List\n",
    "\n",
    "\n",
    "class Solution:\n",
    "    def bestNode(self, N: int, A: List[int], P: List[int]) -> int:\n",
    "        # code here\n",
    "        def _solve(ix):\n",
    "            if cs[ix]:\n",
    "                for c in cs[ix]:\n",
    "                    _solve(c)\n",
    "                dp[ix] = max(A[ix] - A[i] + cmax[i] for i in cs[ix])\n",
    "                cmax[ix] = max(dp[i] for i in cs[ix])\n",
    "            else:\n",
    "                dp[ix] = A[ix]\n",
    "                cmax[ix] = 0\n",
    "\n",
    "        cs = [[] for _ in range(N)]\n",
    "        dp, cmax = [0] * N, [0] * N\n",
    "        for i in range(1, N):\n",
    "            cs[P[i]-1].append(i)\n",
    "        _solve(0)\n",
    "        return max(dp)\n"
   ]
  },
  {
   "cell_type": "code",
   "execution_count": null,
   "metadata": {},
   "outputs": [],
   "source": []
  }
 ],
 "metadata": {
  "kernelspec": {
   "display_name": "Python 3",
   "language": "python",
   "name": "python3"
  },
  "language_info": {
   "codemirror_mode": {
    "name": "ipython",
    "version": 3
   },
   "file_extension": ".py",
   "mimetype": "text/x-python",
   "name": "python",
   "nbconvert_exporter": "python",
   "pygments_lexer": "ipython3",
   "version": "3.9.6"
  },
  "orig_nbformat": 4,
  "vscode": {
   "interpreter": {
    "hash": "c0a3c91513ce8330cc510c252bd0d2b8c5edf3f02855cf0373cb264a8e18d0f0"
   }
  }
 },
 "nbformat": 4,
 "nbformat_minor": 2
}
