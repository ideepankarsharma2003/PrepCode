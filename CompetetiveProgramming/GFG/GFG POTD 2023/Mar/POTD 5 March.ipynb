{
 "cells": [
  {
   "attachments": {},
   "cell_type": "markdown",
   "metadata": {},
   "source": [
    "# **POTD 5 March**\n",
    "# ***[Avoid Explosion](https://practice.geeksforgeeks.org/problems/d3fd6eb758469ab11e1a812220740d1f9819be70/1)***"
   ]
  },
  {
   "cell_type": "code",
   "execution_count": 1,
   "metadata": {},
   "outputs": [],
   "source": [
    "\n",
    "class DisjointSet:\n",
    "    def __init__(self, n):\n",
    "        self.parent = [i for i in range(n+1)]\n",
    "        self.size = [1]*(n+1)\n",
    "\n",
    "    def find(self, x):\n",
    "        if self.parent[x] == x:\n",
    "            return x\n",
    "        self.parent[x] = self.find(self.parent[x])\n",
    "        return self.parent[x]\n",
    "\n",
    "    def union(self, x, y):\n",
    "        ul_x = self.find(x)\n",
    "        ul_y = self.find(y)\n",
    "        if ul_x == ul_y:\n",
    "            return 1\n",
    "        if self.size[ul_x] >= self.size[ul_y]:\n",
    "            self.size[ul_x] += self.size[ul_y]\n",
    "            self.parent[ul_y] = ul_x\n",
    "        else:\n",
    "            self.size[ul_y] += self.size[ul_x]\n",
    "            self.parent[ul_x] = ul_y\n",
    "        return 0\n",
    "\n",
    "\n",
    "class Solution:\n",
    "    def avoidExlosion(self, mix, n, danger, m):\n",
    "        res = []\n",
    "        dsu = DisjointSet(n)\n",
    "        for u, v in mix:\n",
    "            ul_u, ul_v = dsu.find(u), dsu.find(v)\n",
    "            flag = 1\n",
    "            for p, q in danger:\n",
    "                ul_p, ul_q = dsu.find(p), dsu.find(q)\n",
    "                if (ul_u == ul_p and ul_v == ul_q) or (ul_u == ul_q and ul_v == ul_p):\n",
    "                    res.append('No')\n",
    "                    flag = 0\n",
    "                    break\n",
    "            if flag:\n",
    "                res.append('Yes')\n",
    "                dsu.union(u, v)\n",
    "        return res\n"
   ]
  },
  {
   "cell_type": "code",
   "execution_count": null,
   "metadata": {},
   "outputs": [],
   "source": []
  }
 ],
 "metadata": {
  "kernelspec": {
   "display_name": "Python 3",
   "language": "python",
   "name": "python3"
  },
  "language_info": {
   "codemirror_mode": {
    "name": "ipython",
    "version": 3
   },
   "file_extension": ".py",
   "mimetype": "text/x-python",
   "name": "python",
   "nbconvert_exporter": "python",
   "pygments_lexer": "ipython3",
   "version": "3.9.6"
  },
  "orig_nbformat": 4,
  "vscode": {
   "interpreter": {
    "hash": "c0a3c91513ce8330cc510c252bd0d2b8c5edf3f02855cf0373cb264a8e18d0f0"
   }
  }
 },
 "nbformat": 4,
 "nbformat_minor": 2
}
