{
 "cells": [
  {
   "attachments": {},
   "cell_type": "markdown",
   "metadata": {},
   "source": [
    "# **POTD 6 March**\n",
    "# ***[Geek hates too many 1s](https://practice.geeksforgeeks.org/problems/07e45fe40846bc670ad2507d2c649304699768b9/1)***"
   ]
  },
  {
   "cell_type": "code",
   "execution_count": 1,
   "metadata": {},
   "outputs": [],
   "source": [
    "class Solution:\n",
    "    def noConseBits(self, n: int) -> int:\n",
    "        # code here\n",
    "        list1 = list(bin(n)[2:])\n",
    "\n",
    "        count = 0\n",
    "\n",
    "        k = 0\n",
    "\n",
    "        for i in list1:\n",
    "\n",
    "            if i == '1' and count != 2:\n",
    "\n",
    "                count = count+1\n",
    "\n",
    "            elif count == 2:\n",
    "\n",
    "                list1[k] = '0'\n",
    "\n",
    "                count = 0\n",
    "\n",
    "            else:\n",
    "\n",
    "                count = 0\n",
    "\n",
    "            k = k + 1\n",
    "\n",
    "        str1 = \"\"\n",
    "\n",
    "        str1 = str1.join(list1)\n",
    "\n",
    "        return int(str1, 2)\n"
   ]
  },
  {
   "cell_type": "code",
   "execution_count": null,
   "metadata": {},
   "outputs": [],
   "source": []
  }
 ],
 "metadata": {
  "kernelspec": {
   "display_name": "Python 3",
   "language": "python",
   "name": "python3"
  },
  "language_info": {
   "codemirror_mode": {
    "name": "ipython",
    "version": 3
   },
   "file_extension": ".py",
   "mimetype": "text/x-python",
   "name": "python",
   "nbconvert_exporter": "python",
   "pygments_lexer": "ipython3",
   "version": "3.9.6"
  },
  "orig_nbformat": 4,
  "vscode": {
   "interpreter": {
    "hash": "c0a3c91513ce8330cc510c252bd0d2b8c5edf3f02855cf0373cb264a8e18d0f0"
   }
  }
 },
 "nbformat": 4,
 "nbformat_minor": 2
}
