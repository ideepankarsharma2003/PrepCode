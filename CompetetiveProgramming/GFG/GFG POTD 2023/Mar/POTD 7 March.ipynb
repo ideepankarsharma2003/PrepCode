{
 "cells": [
  {
   "attachments": {},
   "cell_type": "markdown",
   "metadata": {},
   "source": [
    "# **POTD 7 March**\n",
    "# ***[Max Level Sum in Binary Tree](https://practice.geeksforgeeks.org/problems/4b7ff87c26ed23b3f63c25c611690213d44fb6aa/1)***"
   ]
  },
  {
   "cell_type": "code",
   "execution_count": 1,
   "metadata": {},
   "outputs": [],
   "source": [
    "# Your task is to complete this function\n",
    "# function should return max sum level in the tree\n",
    "'''\n",
    "class Node:\n",
    "    def __init__(self, value):\n",
    "        self.left = None\n",
    "        self.data = value\n",
    "        self.right = None\n",
    "'''\n",
    "\n",
    "\n",
    "class Solution:\n",
    "    def maxLevelSum(self, root):\n",
    "        # Code here\n",
    "        if root is None:\n",
    "\n",
    "            return 0\n",
    "\n",
    "        q = [root]\n",
    "\n",
    "        max_sum = root.data\n",
    "\n",
    "        while len(q) > 0:\n",
    "\n",
    "            n = len(q)\n",
    "\n",
    "            level_sum = 0\n",
    "\n",
    "            for i in range(n):\n",
    "\n",
    "                node = q.pop(0)\n",
    "\n",
    "                level_sum += node.data\n",
    "\n",
    "                if node.left:\n",
    "\n",
    "                    q.append(node.left)\n",
    "\n",
    "                if node.right:\n",
    "\n",
    "                    q.append(node.right)\n",
    "\n",
    "            max_sum = max(max_sum, level_sum)\n",
    "\n",
    "        return max_sum\n"
   ]
  },
  {
   "cell_type": "code",
   "execution_count": null,
   "metadata": {},
   "outputs": [],
   "source": []
  }
 ],
 "metadata": {
  "kernelspec": {
   "display_name": "Python 3",
   "language": "python",
   "name": "python3"
  },
  "language_info": {
   "codemirror_mode": {
    "name": "ipython",
    "version": 3
   },
   "file_extension": ".py",
   "mimetype": "text/x-python",
   "name": "python",
   "nbconvert_exporter": "python",
   "pygments_lexer": "ipython3",
   "version": "3.9.6"
  },
  "orig_nbformat": 4,
  "vscode": {
   "interpreter": {
    "hash": "c0a3c91513ce8330cc510c252bd0d2b8c5edf3f02855cf0373cb264a8e18d0f0"
   }
  }
 },
 "nbformat": 4,
 "nbformat_minor": 2
}
