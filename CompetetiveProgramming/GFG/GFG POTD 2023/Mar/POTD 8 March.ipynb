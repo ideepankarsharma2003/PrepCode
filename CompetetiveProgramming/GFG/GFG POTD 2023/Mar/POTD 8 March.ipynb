{
 "cells": [
  {
   "attachments": {},
   "cell_type": "markdown",
   "metadata": {},
   "source": [
    "# **POTD 8 March**\n",
    "# ***[Max min Height](https://practice.geeksforgeeks.org/problems/899540d741547e2d75d1c5c03a4161ab53affd13/1)***"
   ]
  },
  {
   "cell_type": "code",
   "execution_count": 1,
   "metadata": {},
   "outputs": [],
   "source": [
    "#User function Template for python3\n",
    "\n",
    "from typing import List\n",
    "\n",
    "\n",
    "class Solution:\n",
    "\n",
    "    def isOK(self, arr: List[int], days: int, cs: int, h: int) -> bool:\n",
    "\n",
    "        n = len(arr)\n",
    "\n",
    "        waterSupply = [0] * n\n",
    "\n",
    "        if arr[0] < h:\n",
    "\n",
    "            waterSupply[0] = h - arr[0]\n",
    "\n",
    "            days -= (h - arr[0])\n",
    "\n",
    "        if days < 0:\n",
    "\n",
    "            return False\n",
    "\n",
    "        for i in range(1, n):\n",
    "\n",
    "            waterSupply[i] = waterSupply[i-1]\n",
    "\n",
    "            actualHeight = arr[i]\n",
    "\n",
    "            if i >= cs:\n",
    "\n",
    "                actualHeight += (waterSupply[i] - waterSupply[i-cs])\n",
    "\n",
    "            else:\n",
    "\n",
    "                actualHeight += waterSupply[i]\n",
    "\n",
    "            if actualHeight < h:\n",
    "\n",
    "                waterSupply[i] += (h - actualHeight)\n",
    "\n",
    "                days -= (h - actualHeight)\n",
    "\n",
    "            if days < 0:\n",
    "\n",
    "                return False\n",
    "\n",
    "        return True\n",
    "\n",
    "    def maximizeMinHeight(self, n: int, k: int, w: int, a: List[int]) -> int:\n",
    "\n",
    "        res = -1\n",
    "\n",
    "        mnHeight = min(a)\n",
    "\n",
    "        mxHeight = (1 << 31) - 1\n",
    "\n",
    "        while mnHeight <= mxHeight:\n",
    "\n",
    "            guessHeight = (mxHeight + mnHeight) // 2\n",
    "\n",
    "            if self.isOK(a, k, w, guessHeight) == True:\n",
    "\n",
    "                res = guessHeight\n",
    "\n",
    "                mnHeight = guessHeight + 1\n",
    "\n",
    "            else:\n",
    "\n",
    "                mxHeight = guessHeight - 1\n",
    "\n",
    "        return res\n"
   ]
  },
  {
   "cell_type": "code",
   "execution_count": null,
   "metadata": {},
   "outputs": [],
   "source": []
  }
 ],
 "metadata": {
  "kernelspec": {
   "display_name": "Python 3",
   "language": "python",
   "name": "python3"
  },
  "language_info": {
   "codemirror_mode": {
    "name": "ipython",
    "version": 3
   },
   "file_extension": ".py",
   "mimetype": "text/x-python",
   "name": "python",
   "nbconvert_exporter": "python",
   "pygments_lexer": "ipython3",
   "version": "3.9.6"
  },
  "orig_nbformat": 4,
  "vscode": {
   "interpreter": {
    "hash": "c0a3c91513ce8330cc510c252bd0d2b8c5edf3f02855cf0373cb264a8e18d0f0"
   }
  }
 },
 "nbformat": 4,
 "nbformat_minor": 2
}
