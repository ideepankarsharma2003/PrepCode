{
 "cells": [
  {
   "attachments": {},
   "cell_type": "markdown",
   "metadata": {},
   "source": [
    "# **POTD 9 March**\n",
    "# ***[Find anagrams in linked list](https://practice.geeksforgeeks.org/problems/de6f6a196aecdfb3e4939ba7729809a5a4bdfe90/1)***"
   ]
  },
  {
   "cell_type": "code",
   "execution_count": 1,
   "metadata": {},
   "outputs": [],
   "source": [
    "#User function Template for python3\n",
    "\n",
    "class Solution:\n",
    "    def findAnagrams(self, head, s):\n",
    "        # code here\n",
    "        N = len(s)\n",
    "        TAR = [0]*26\n",
    "        for c in s: TAR[ord(c)-97]+=1\n",
    "        ans, h, t, F = [], head, head, None\n",
    "        while t:\n",
    "            if F is None:\n",
    "                F = [0]*26\n",
    "                for _ in range(N):\n",
    "                    if t is None: break\n",
    "                    F[ord(t.data)-97]+=1\n",
    "                    t=t.next\n",
    "            else:\n",
    "                F[ord(h.data)-97]-=1\n",
    "                F[ord(t.data)-97]+=1\n",
    "                h, t = h.next, t.next\n",
    "                \n",
    "            if F==TAR: \n",
    "                ans.append(h)\n",
    "                while h.next != t: h = h.next\n",
    "                h.next = None\n",
    "                h = t\n",
    "                F = None\n",
    "                \n",
    "        return ans\n"
   ]
  },
  {
   "cell_type": "code",
   "execution_count": null,
   "metadata": {},
   "outputs": [],
   "source": []
  }
 ],
 "metadata": {
  "kernelspec": {
   "display_name": "Python 3",
   "language": "python",
   "name": "python3"
  },
  "language_info": {
   "codemirror_mode": {
    "name": "ipython",
    "version": 3
   },
   "file_extension": ".py",
   "mimetype": "text/x-python",
   "name": "python",
   "nbconvert_exporter": "python",
   "pygments_lexer": "ipython3",
   "version": "3.9.6"
  },
  "orig_nbformat": 4,
  "vscode": {
   "interpreter": {
    "hash": "c0a3c91513ce8330cc510c252bd0d2b8c5edf3f02855cf0373cb264a8e18d0f0"
   }
  }
 },
 "nbformat": 4,
 "nbformat_minor": 2
}
