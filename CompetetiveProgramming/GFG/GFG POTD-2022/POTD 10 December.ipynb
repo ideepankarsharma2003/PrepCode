{
 "cells": [
  {
   "attachments": {},
   "cell_type": "markdown",
   "metadata": {},
   "source": [
    "# **POTD 10 December**\n",
    "## ***[Build the smallest](https://practice.geeksforgeeks.org/problems/build-the-smallest2841/1)***"
   ]
  },
  {
   "cell_type": "code",
   "execution_count": 2,
   "metadata": {},
   "outputs": [
    {
     "name": "stderr",
     "output_type": "stream",
     "text": [
      "<>:17: SyntaxWarning: \"is not\" with a literal. Did you mean \"!=\"?\n",
      "<>:17: SyntaxWarning: \"is not\" with a literal. Did you mean \"!=\"?\n",
      "C:\\Users\\deepa\\AppData\\Local\\Temp\\ipykernel_19848\\1925569288.py:17: SyntaxWarning: \"is not\" with a literal. Did you mean \"!=\"?\n",
      "  if st or n is not '0': # prevent leading zeros\n"
     ]
    }
   ],
   "source": [
    "#User function Template for python3\n",
    "\n",
    "class Solution:\n",
    "\n",
    "    def buildLowestNumber(self, num,k):\n",
    "        # code here\n",
    "        st = list()\n",
    "\n",
    "        for n in num:\n",
    "\n",
    "            while st and k and st[-1] > n:\n",
    "\n",
    "                st.pop()\n",
    "\n",
    "                k -= 1\n",
    "\n",
    "            if st or n is not '0': # prevent leading zeros\n",
    "\n",
    "                st.append(n)\n",
    "\n",
    "        if k: # not fully spent\n",
    "\n",
    "            st = st[0:-k]\n",
    "\n",
    "        return ''.join(st) or '0'\n",
    "\n",
    "s= Solution()"
   ]
  },
  {
   "cell_type": "code",
   "execution_count": 3,
   "metadata": {},
   "outputs": [
    {
     "data": {
      "text/plain": [
       "'1329'"
      ]
     },
     "execution_count": 3,
     "metadata": {},
     "output_type": "execute_result"
    }
   ],
   "source": [
    "k = 2\n",
    "num = \"143729\"\n",
    "s.buildLowestNumber(num, k)"
   ]
  },
  {
   "cell_type": "code",
   "execution_count": null,
   "metadata": {},
   "outputs": [],
   "source": []
  }
 ],
 "metadata": {
  "kernelspec": {
   "display_name": "Python 3",
   "language": "python",
   "name": "python3"
  },
  "language_info": {
   "codemirror_mode": {
    "name": "ipython",
    "version": 3
   },
   "file_extension": ".py",
   "mimetype": "text/x-python",
   "name": "python",
   "nbconvert_exporter": "python",
   "pygments_lexer": "ipython3",
   "version": "3.9.6"
  },
  "orig_nbformat": 4,
  "vscode": {
   "interpreter": {
    "hash": "c0a3c91513ce8330cc510c252bd0d2b8c5edf3f02855cf0373cb264a8e18d0f0"
   }
  }
 },
 "nbformat": 4,
 "nbformat_minor": 2
}
