{
 "cells": [
  {
   "attachments": {},
   "cell_type": "markdown",
   "metadata": {},
   "source": [
    "# **POTD 11 November**\n",
    "## ***[Primes sum](https://practice.geeksforgeeks.org/problems/primes-sum5827/1)***"
   ]
  },
  {
   "cell_type": "code",
   "execution_count": 29,
   "metadata": {},
   "outputs": [],
   "source": [
    "def is_prime(n):\n",
    "    count=0\n",
    "    i=2\n",
    "    for i in range(2, int(n)+1):\n",
    "        # print(i)\n",
    "        if n%i==0:\n",
    "            count+=1\n",
    "    return count==1\n"
   ]
  },
  {
   "cell_type": "code",
   "execution_count": 30,
   "metadata": {},
   "outputs": [],
   "source": [
    "def is_prime(n):\n",
    "    if n==1:\n",
    "        return False\n",
    "    j=2\n",
    "    while j*j<=n:\n",
    "        if n%j==0:\n",
    "            return False\n",
    "        j+=1\n",
    "    return True"
   ]
  },
  {
   "cell_type": "code",
   "execution_count": 31,
   "metadata": {},
   "outputs": [
    {
     "data": {
      "text/plain": [
       "True"
      ]
     },
     "execution_count": 31,
     "metadata": {},
     "output_type": "execute_result"
    }
   ],
   "source": [
    "is_prime(5)"
   ]
  },
  {
   "cell_type": "code",
   "execution_count": 32,
   "metadata": {},
   "outputs": [
    {
     "name": "stdout",
     "output_type": "stream",
     "text": [
      "0: True\n",
      "1: False\n",
      "2: True\n",
      "3: True\n",
      "4: False\n",
      "5: True\n",
      "6: False\n",
      "7: True\n",
      "8: False\n",
      "9: False\n",
      "10: False\n",
      "11: True\n",
      "12: False\n",
      "13: True\n",
      "14: False\n",
      "15: False\n",
      "16: False\n",
      "17: True\n",
      "18: False\n",
      "19: True\n",
      "20: False\n",
      "21: False\n",
      "22: False\n",
      "23: True\n",
      "24: False\n",
      "25: False\n",
      "26: False\n",
      "27: False\n",
      "28: False\n",
      "29: True\n"
     ]
    }
   ],
   "source": [
    "for i in range(30):\n",
    "    print(f'{i}: {is_prime(i)}')"
   ]
  },
  {
   "cell_type": "code",
   "execution_count": 33,
   "metadata": {},
   "outputs": [],
   "source": [
    "class Solution:\n",
    "    def isSumOfTwo (self, N):\n",
    "        # code here \n",
    "        for i in range(2, N):\n",
    "            if is_prime(i):\n",
    "                for j in range(i, N):\n",
    "                    if is_prime(j) and i+j==N:\n",
    "                        print(f'i= {i}, j= {j}')\n",
    "                        return 'Yes'\n",
    "        return 'No'\n",
    "\n",
    "s= Solution()\n",
    "# Time Limit Exceeded"
   ]
  },
  {
   "cell_type": "code",
   "execution_count": 34,
   "metadata": {},
   "outputs": [
    {
     "name": "stdout",
     "output_type": "stream",
     "text": [
      "i= 3, j= 31\n"
     ]
    },
    {
     "data": {
      "text/plain": [
       "'Yes'"
      ]
     },
     "execution_count": 34,
     "metadata": {},
     "output_type": "execute_result"
    }
   ],
   "source": [
    "s.isSumOfTwo(34)"
   ]
  },
  {
   "cell_type": "code",
   "execution_count": 35,
   "metadata": {},
   "outputs": [
    {
     "data": {
      "text/plain": [
       "'No'"
      ]
     },
     "execution_count": 35,
     "metadata": {},
     "output_type": "execute_result"
    }
   ],
   "source": [
    "s.isSumOfTwo(23)\n"
   ]
  },
  {
   "cell_type": "code",
   "execution_count": 36,
   "metadata": {},
   "outputs": [
    {
     "name": "stdout",
     "output_type": "stream",
     "text": [
      "i= 2, j= 2\n"
     ]
    },
    {
     "data": {
      "text/plain": [
       "'Yes'"
      ]
     },
     "execution_count": 36,
     "metadata": {},
     "output_type": "execute_result"
    }
   ],
   "source": [
    "s.isSumOfTwo(4)\n"
   ]
  },
  {
   "cell_type": "code",
   "execution_count": 37,
   "metadata": {},
   "outputs": [],
   "source": [
    "class Solution:\n",
    "    def isSumOfTwo (self, N):\n",
    "        \n",
    "        if N%2 or N==4:\n",
    "            if is_prime(N-2):\n",
    "                return \"Yes\"\n",
    "            return \"No\"\n",
    "        if N<=3:\n",
    "            return \"No\"\n",
    "        for i in range(3,N,2):\n",
    "            if is_prime(i) and is_prime(N-i):\n",
    "                return \"Yes\"\n",
    "        return \"No\"\n",
    "\n",
    "s= Solution()"
   ]
  },
  {
   "cell_type": "code",
   "execution_count": 38,
   "metadata": {},
   "outputs": [
    {
     "data": {
      "text/plain": [
       "'Yes'"
      ]
     },
     "execution_count": 38,
     "metadata": {},
     "output_type": "execute_result"
    }
   ],
   "source": [
    "s.isSumOfTwo(45)"
   ]
  },
  {
   "cell_type": "code",
   "execution_count": null,
   "metadata": {},
   "outputs": [],
   "source": []
  }
 ],
 "metadata": {
  "kernelspec": {
   "display_name": "Python 3.9.7 64-bit",
   "language": "python",
   "name": "python3"
  },
  "language_info": {
   "codemirror_mode": {
    "name": "ipython",
    "version": 3
   },
   "file_extension": ".py",
   "mimetype": "text/x-python",
   "name": "python",
   "nbconvert_exporter": "python",
   "pygments_lexer": "ipython3",
   "version": "3.9.7"
  },
  "orig_nbformat": 4,
  "vscode": {
   "interpreter": {
    "hash": "2e61b4e68d91170e6a828addbb12c998be56a3b087bfc9988ada4585bf499f3e"
   }
  }
 },
 "nbformat": 4,
 "nbformat_minor": 2
}
