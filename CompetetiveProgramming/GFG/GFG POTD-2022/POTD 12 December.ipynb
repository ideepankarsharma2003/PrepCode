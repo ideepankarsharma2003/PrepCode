{
 "cells": [
  {
   "attachments": {},
   "cell_type": "markdown",
   "metadata": {},
   "source": [
    "# **POTD 12 December**\n",
    "## ***[Articulation Point - I](https://practice.geeksforgeeks.org/problems/articulation-point-1/1)***"
   ]
  },
  {
   "cell_type": "code",
   "execution_count": null,
   "metadata": {},
   "outputs": [],
   "source": [
    "import sys\n",
    "sys.setrecursionlimit(10**6)\n",
    "\n",
    "class Solution:\n",
    "    \n",
    "    #Function to return Breadth First Traversal of given graph.\n",
    "    def articulationPoints(self, V, adj):\n",
    "        # code here\n",
    "        ap = [False]*V\n",
    "        visited = [False]*V\n",
    "        dis = [0]*V\n",
    "        low = [float('inf')]*V \n",
    "        timer = 0\n",
    "        def dfs(v, p=-1):\n",
    "            nonlocal ap, visited, dis, low, timer\n",
    "            visited[v] = True\n",
    "            dis[v] = low[v] = timer\n",
    "            timer += 1\n",
    "            children = 0\n",
    "            for to in adj[v]:\n",
    "                if to == p: #go back to parent directly\n",
    "                    continue\n",
    "                if visited[to]: # back-edge\n",
    "                    low[v] = min(low[v], dis[to])\n",
    "                else:\n",
    "                    children += 1\n",
    "                    dfs(to, v)\n",
    "                    low[v] = min(low[v], low[to])\n",
    "                    if low[to] >= dis[v] and p != -1:\n",
    "                        ap[v] = True\n",
    "            if p == -1 and children > 1:\n",
    "                ap[v] = True\n",
    "        for v in range(V):\n",
    "            if not visited[v]:\n",
    "                dfs(v)\n",
    "        ap = [i for i, v in enumerate(ap) if v]\n",
    "        return ap if ap else [-1]\n"
   ]
  },
  {
   "cell_type": "code",
   "execution_count": null,
   "metadata": {},
   "outputs": [],
   "source": []
  }
 ],
 "metadata": {
  "kernelspec": {
   "display_name": "Python 3",
   "language": "python",
   "name": "python3"
  },
  "language_info": {
   "codemirror_mode": {
    "name": "ipython",
    "version": 3
   },
   "file_extension": ".py",
   "mimetype": "text/x-python",
   "name": "python",
   "nbconvert_exporter": "python",
   "pygments_lexer": "ipython3",
   "version": "3.9.6 (tags/v3.9.6:db3ff76, Jun 28 2021, 15:26:21) [MSC v.1929 64 bit (AMD64)]"
  },
  "orig_nbformat": 4,
  "vscode": {
   "interpreter": {
    "hash": "c0a3c91513ce8330cc510c252bd0d2b8c5edf3f02855cf0373cb264a8e18d0f0"
   }
  }
 },
 "nbformat": 4,
 "nbformat_minor": 2
}
