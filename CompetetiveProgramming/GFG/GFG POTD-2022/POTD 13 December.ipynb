{
 "cells": [
  {
   "attachments": {},
   "cell_type": "markdown",
   "metadata": {},
   "source": [
    "# **POTD 13 December**\n",
    "## ***[Split Array Largest Sum](https://practice.geeksforgeeks.org/problems/f04fd67b26b4828b6180715d8b1700426b637247/1)***"
   ]
  },
  {
   "cell_type": "code",
   "execution_count": 1,
   "metadata": {},
   "outputs": [],
   "source": [
    "\n",
    "class Solution:\n",
    "    # def splitArray(self, arr, N, K):\n",
    "    #     # code here \n",
    "    def splitArray(self, arr, n, k):\n",
    "        \n",
    "        def cansplit(m):\n",
    "            nonlocal k, arr\n",
    "            s = 0\n",
    "            cnt = 1\n",
    "            for e in arr:\n",
    "                s += e\n",
    "                if s > m:\n",
    "                    cnt += 1\n",
    "                    s = e\n",
    "            return cnt <= k\n",
    "        \n",
    "        lo, hi = max(arr), sum(arr)+1\n",
    "        while lo < hi:\n",
    "            mi = lo+(hi-lo)//2\n",
    "            if cansplit(mi):\n",
    "                hi = mi\n",
    "            else:\n",
    "                lo = mi+1\n",
    "        return lo\n"
   ]
  },
  {
   "cell_type": "code",
   "execution_count": null,
   "metadata": {},
   "outputs": [],
   "source": []
  }
 ],
 "metadata": {
  "kernelspec": {
   "display_name": "Python 3",
   "language": "python",
   "name": "python3"
  },
  "language_info": {
   "codemirror_mode": {
    "name": "ipython",
    "version": 3
   },
   "file_extension": ".py",
   "mimetype": "text/x-python",
   "name": "python",
   "nbconvert_exporter": "python",
   "pygments_lexer": "ipython3",
   "version": "3.9.6 (tags/v3.9.6:db3ff76, Jun 28 2021, 15:26:21) [MSC v.1929 64 bit (AMD64)]"
  },
  "orig_nbformat": 4,
  "vscode": {
   "interpreter": {
    "hash": "8a5edab282632443219e051e4ade2d1d5bbc671c781051bf1437897cbdfea0f1"
   }
  }
 },
 "nbformat": 4,
 "nbformat_minor": 2
}
