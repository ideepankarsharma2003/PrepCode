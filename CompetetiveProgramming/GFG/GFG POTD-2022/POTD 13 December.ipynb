{
 "cells": [
  {
   "attachments": {},
   "cell_type": "markdown",
   "metadata": {},
   "source": [
    "# **POTD 14 December**\n",
    "## ***[Split Array Largest Sum](https://practice.geeksforgeeks.org/problems/f04fd67b26b4828b6180715d8b1700426b637247/1)***"
   ]
  },
  {
   "cell_type": "code",
   "execution_count": 1,
   "metadata": {},
   "outputs": [],
   "source": [
    "\n",
    "class Solution:\n",
    "    # def splitArray(self, arr, N, K):\n",
    "    #     # code here \n",
    "    def splitArray(self, arr, n, k):\n",
    "        \n",
    "        def cansplit(m):\n",
    "            nonlocal k, arr\n",
    "            s = 0\n",
    "            cnt = 1\n",
    "            for e in arr:\n",
    "                s += e\n",
    "                if s > m:\n",
    "                    cnt += 1\n",
    "                    s = e\n",
    "            return cnt <= k\n",
    "        \n",
    "        lo, hi = max(arr), sum(arr)+1\n",
    "        while lo < hi:\n",
    "            mi = lo+(hi-lo)//2\n",
    "            if cansplit(mi):\n",
    "                hi = mi\n",
    "            else:\n",
    "                lo = mi+1\n",
    "        return lo\n"
   ]
  },
  {
   "cell_type": "code",
   "execution_count": null,
   "metadata": {},
   "outputs": [],
   "source": []
  }
 ],
 "metadata": {
  "kernelspec": {
   "display_name": "Python 3",
   "language": "python",
   "name": "python3"
  },
  "language_info": {
   "codemirror_mode": {
    "name": "ipython",
    "version": 3
   },
   "file_extension": ".py",
   "mimetype": "text/x-python",
   "name": "python",
   "nbconvert_exporter": "python",
   "pygments_lexer": "ipython3",
   "version": "3.9.6"
  },
  "orig_nbformat": 4,
  "vscode": {
   "interpreter": {
    "hash": "c0a3c91513ce8330cc510c252bd0d2b8c5edf3f02855cf0373cb264a8e18d0f0"
   }
  }
 },
 "nbformat": 4,
 "nbformat_minor": 2
}
