{
 "cells": [
  {
   "attachments": {},
   "cell_type": "markdown",
   "metadata": {},
   "source": [
    "# **POTD 13 November**\n",
    "## ***[Fill up buckets](https://practice.geeksforgeeks.org/problems/fill-up-buckets3500/1)***"
   ]
  },
  {
   "cell_type": "code",
   "execution_count": 1,
   "metadata": {},
   "outputs": [],
   "source": [
    "class Solution:\n",
    "        def totalWays(self, n, capacity):\n",
    "            # code here\n",
    "            \n",
    "            x=1\n",
    "            capacity.sort()\n",
    "            for i in range(n):\n",
    "                x*=((capacity[i]-i))%(10**9+7)\n",
    "            return x%(10**9+7)"
   ]
  },
  {
   "cell_type": "code",
   "execution_count": null,
   "metadata": {},
   "outputs": [],
   "source": [
    "#User function Template for python3\n",
    "\n",
    "class Solution:\n",
    "\tdef totalWays(self, n, capacity):\n",
    "\t\t# code here\n",
    "\t\tx=1\n",
    "\t\tcapacity.sort()\n",
    "\t\tfor i in range(n):\n",
    "\t\t  #  x*=((capacity[i]-i))%(10**9+7)\n",
    "\t\t  #  x*=((capacity[i]-i))%(1000000007)\n",
    "\t\t    x=((capacity[i]-i)*x)%(1000000007)\n",
    "        # return x%(10**9+7)\n",
    "        # return x%(1000000007)\n",
    "\t\treturn x\n"
   ]
  },
  {
   "cell_type": "code",
   "execution_count": null,
   "metadata": {},
   "outputs": [],
   "source": []
  }
 ],
 "metadata": {
  "kernelspec": {
   "display_name": "Python 3.9.7 64-bit",
   "language": "python",
   "name": "python3"
  },
  "language_info": {
   "codemirror_mode": {
    "name": "ipython",
    "version": 3
   },
   "file_extension": ".py",
   "mimetype": "text/x-python",
   "name": "python",
   "nbconvert_exporter": "python",
   "pygments_lexer": "ipython3",
   "version": "3.9.7"
  },
  "orig_nbformat": 4,
  "vscode": {
   "interpreter": {
    "hash": "2e61b4e68d91170e6a828addbb12c998be56a3b087bfc9988ada4585bf499f3e"
   }
  }
 },
 "nbformat": 4,
 "nbformat_minor": 2
}
