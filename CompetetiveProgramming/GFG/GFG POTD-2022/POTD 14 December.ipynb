{
 "cells": [
  {
   "attachments": {},
   "cell_type": "markdown",
   "metadata": {},
   "source": [
    "# **POTD 14 December**\n",
    "## ***[Complement](https://practice.geeksforgeeks.org/problems/complement3911/1)***"
   ]
  },
  {
   "cell_type": "code",
   "execution_count": null,
   "metadata": {},
   "outputs": [],
   "source": [
    "#User function Template for python3\n",
    "class Solution:\n",
    "\n",
    "    def findRange(self,a, size):\n",
    "        # code here\n",
    "        dp = [-1]*(size)        \n",
    "        dp[0] = 1 if a[0]==\"0\" else -1  \n",
    "        for i in range(1,size,1):   \n",
    "            if a[i]==\"0\":   \n",
    "                dp[i] = max(dp[i-1]+1,1)    \n",
    "            else:   \n",
    "                dp[i] = max(dp[i-1]-1,-1)   \n",
    "\n",
    "        start,end = 0,-1    \n",
    "        mx = 0  \n",
    "        s = -1  \n",
    "        for i in range(n):  \n",
    "            if dp[i]==-1:   \n",
    "                start = i+1 \n",
    "            if mx<dp[i]:    \n",
    "                s = start   \n",
    "                mx = dp[i]  \n",
    "                end = i         \n",
    "        if s==-1 and end==-1:\n",
    "        \n",
    "            return [-1]        \n",
    "        return [s+1,end+1]     "
   ]
  }
 ],
 "metadata": {
  "kernelspec": {
   "display_name": "Python 3",
   "language": "python",
   "name": "python3"
  },
  "language_info": {
   "name": "python",
   "version": "3.9.6 (tags/v3.9.6:db3ff76, Jun 28 2021, 15:26:21) [MSC v.1929 64 bit (AMD64)]"
  },
  "orig_nbformat": 4,
  "vscode": {
   "interpreter": {
    "hash": "c0a3c91513ce8330cc510c252bd0d2b8c5edf3f02855cf0373cb264a8e18d0f0"
   }
  }
 },
 "nbformat": 4,
 "nbformat_minor": 2
}
