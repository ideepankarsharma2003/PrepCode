{
 "cells": [
  {
   "attachments": {},
   "cell_type": "markdown",
   "metadata": {},
   "source": [
    "# **POTD 15 December**\n",
    "## ***[Balanced string](https://practice.geeksforgeeks.org/problems/balanced-string1627/1)***"
   ]
  },
  {
   "cell_type": "code",
   "execution_count": 1,
   "metadata": {},
   "outputs": [
    {
     "data": {
      "text/plain": [
       "['a',\n",
       " 'b',\n",
       " 'c',\n",
       " 'd',\n",
       " 'e',\n",
       " 'f',\n",
       " 'g',\n",
       " 'h',\n",
       " 'i',\n",
       " 'j',\n",
       " 'k',\n",
       " 'l',\n",
       " 'm',\n",
       " 'n',\n",
       " 'o',\n",
       " 'p',\n",
       " 'q',\n",
       " 'r',\n",
       " 's',\n",
       " 't',\n",
       " 'u',\n",
       " 'v',\n",
       " 'w',\n",
       " 'x',\n",
       " 'y',\n",
       " 'z']"
      ]
     },
     "execution_count": 1,
     "metadata": {},
     "output_type": "execute_result"
    }
   ],
   "source": [
    "lst= [chr(i) for i in range(ord('a'), ord('a')+26)]\n",
    "lst"
   ]
  },
  {
   "cell_type": "code",
   "execution_count": 2,
   "metadata": {},
   "outputs": [
    {
     "data": {
      "text/plain": [
       "7"
      ]
     },
     "execution_count": 2,
     "metadata": {},
     "output_type": "execute_result"
    }
   ],
   "source": [
    "n= 43\n",
    "sum_of_digits= sum([int(i) for i in str(n)])\n",
    "sum_of_digits"
   ]
  },
  {
   "cell_type": "code",
   "execution_count": 3,
   "metadata": {},
   "outputs": [
    {
     "data": {
      "text/plain": [
       "14"
      ]
     },
     "execution_count": 3,
     "metadata": {},
     "output_type": "execute_result"
    }
   ],
   "source": [
    "n= 95\n",
    "sum_of_digits= sum([int(i) for i in str(n)])\n",
    "sum_of_digits"
   ]
  },
  {
   "cell_type": "code",
   "execution_count": null,
   "metadata": {},
   "outputs": [],
   "source": [
    "\n",
    "class Solution:\n",
    "    def BalancedString(self,N):\n",
    "        #code here\n",
    "        N_u = N\n",
    "        temp = []\n",
    "        alphab = \"\"\n",
    "        if N>26:\n",
    "            # twmp = N//26\n",
    "            N_u = N%26\n",
    "            alphab=\"abcdefghijklmnopqrstuvwxyz\"*(N//26)\n",
    "        \n",
    "        \n",
    "        if(N%2 == 0):\n",
    "            for i in range(N_u//2):\n",
    "                temp.append(chr(97+i))\n",
    "            for i in range(N_u//2,N_u):\n",
    "                temp.append(chr(122-N_u+1+i))\n",
    "        else:\n",
    "            if(sum(list(int(i) for i in str(N)))%2 == 0):\n",
    "                for i in range((N_u+1)//2):\n",
    "                    temp.append(chr(97+i))\n",
    "                for i in range((N_u-1)//2+1,N_u):\n",
    "                    temp.append(chr(122-N_u+1+i))\n",
    "            else:\n",
    "                for i in range((N_u-1)//2):\n",
    "                    temp.append(chr(97+i))\n",
    "                for i in range((N_u+1)//2-1,N_u):\n",
    "                    temp.append(chr(122-N_u+1+i))\n",
    "                    \n",
    "        return alphab+\"\".join(str(i) for i in temp)"
   ]
  },
  {
   "cell_type": "code",
   "execution_count": null,
   "metadata": {},
   "outputs": [],
   "source": []
  }
 ],
 "metadata": {
  "kernelspec": {
   "display_name": "Python 3",
   "language": "python",
   "name": "python3"
  },
  "language_info": {
   "codemirror_mode": {
    "name": "ipython",
    "version": 3
   },
   "file_extension": ".py",
   "mimetype": "text/x-python",
   "name": "python",
   "nbconvert_exporter": "python",
   "pygments_lexer": "ipython3",
   "version": "3.9.6"
  },
  "orig_nbformat": 4,
  "vscode": {
   "interpreter": {
    "hash": "c0a3c91513ce8330cc510c252bd0d2b8c5edf3f02855cf0373cb264a8e18d0f0"
   }
  }
 },
 "nbformat": 4,
 "nbformat_minor": 2
}
