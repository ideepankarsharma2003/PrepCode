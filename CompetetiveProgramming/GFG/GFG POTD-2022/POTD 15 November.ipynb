{
 "cells": [
  {
   "attachments": {},
   "cell_type": "markdown",
   "metadata": {},
   "source": [
    "# **POTD 15 November**\n",
    "## ***[Longest Perfect Piece](https://practice.geeksforgeeks.org/problems/close-to-perfection1525/1)***"
   ]
  },
  {
   "cell_type": "code",
   "execution_count": 1,
   "metadata": {},
   "outputs": [
    {
     "name": "stdout",
     "output_type": "stream",
     "text": [
      "Hello\n"
     ]
    }
   ],
   "source": [
    "print('Hello')"
   ]
  },
  {
   "cell_type": "code",
   "execution_count": 14,
   "metadata": {},
   "outputs": [],
   "source": [
    "class Solution:\n",
    "    def longestPerfectPiece(self, arr, N):\n",
    "        # code here\n",
    "        max_len=0\n",
    "        cur_max=0 \n",
    "        amin=arr[0]\n",
    "        amax=arr[0]\n",
    "        for i in arr:\n",
    "            if i<amin:\n",
    "                amin=i\n",
    "                max_len= max(max_len, cur_max)\n",
    "                cur_max=1\n",
    "            elif i>amax:\n",
    "                amax=i\n",
    "                max_len= max(max_len, cur_max)\n",
    "                cur_max=1\n",
    "\n",
    "            if (amax-amin)<=1:\n",
    "                print(f'i= {i}, maxlen={max_len}')\n",
    "                cur_max+=1\n",
    "            else:\n",
    "                amax=i\n",
    "                amin=i\n",
    "                max_len= max(max_len, cur_max)\n",
    "                cur_max=1\n",
    "\n",
    "\n",
    "\n",
    "        return max(max_len, cur_max)\n",
    "\n",
    "s= Solution()\n"
   ]
  },
  {
   "cell_type": "code",
   "execution_count": 15,
   "metadata": {},
   "outputs": [
    {
     "name": "stdout",
     "output_type": "stream",
     "text": [
      "i= 5, maxlen=0\n",
      "i= 4, maxlen=1\n",
      "i= 5, maxlen=1\n",
      "i= 5, maxlen=1\n",
      "i= 7, maxlen=4\n",
      "i= 8, maxlen=4\n",
      "i= 8, maxlen=4\n",
      "i= 7, maxlen=4\n"
     ]
    },
    {
     "data": {
      "text/plain": [
       "4"
      ]
     },
     "execution_count": 15,
     "metadata": {},
     "output_type": "execute_result"
    }
   ],
   "source": [
    "N = 11\n",
    "arr = [5, 4, 5, 5, 6, 7, 8, 8, 8, 7, 6]\n",
    "s.longestPerfectPiece(arr, N)"
   ]
  },
  {
   "cell_type": "code",
   "execution_count": 20,
   "metadata": {},
   "outputs": [
    {
     "data": {
      "text/plain": [
       "4"
      ]
     },
     "execution_count": 20,
     "metadata": {},
     "output_type": "execute_result"
    }
   ],
   "source": [
    "N = 4\n",
    "arr = [8, 8, 8, 8]\n",
    "s.longestPerfectPiece(arr, N)"
   ]
  },
  {
   "cell_type": "code",
   "execution_count": 16,
   "metadata": {},
   "outputs": [],
   "source": [
    "class Solution:\n",
    "    def longestPerfectPiece(self, arr, N):\n",
    "        # code here \n",
    "        flg,count,f1,f2=0,0,0,0\n",
    "        len=0\n",
    "        for i in range (N):\n",
    "            \n",
    "            for j in range(f1,N):\n",
    "                if arr[i]-arr[j]==1 or arr[i]==arr[j]:\n",
    "                    if len<abs(i-j):\n",
    "                        len=abs(i-j)\n",
    "                else:\n",
    "                    f1=j\n",
    "                    break\n",
    "                \n",
    "            for j in range(f2,N):\n",
    "                if arr[i]-arr[j]==-1 or arr[i]==arr[j]:\n",
    "                    if len<abs(i-j):\n",
    "                        len=abs(i-j)\n",
    "                else:\n",
    "                    f2=j\n",
    "                    break\n",
    "        return len+1\n",
    "\n",
    "s= Solution()"
   ]
  },
  {
   "cell_type": "code",
   "execution_count": null,
   "metadata": {},
   "outputs": [],
   "source": []
  }
 ],
 "metadata": {
  "kernelspec": {
   "display_name": "Python 3.9.7 64-bit",
   "language": "python",
   "name": "python3"
  },
  "language_info": {
   "codemirror_mode": {
    "name": "ipython",
    "version": 3
   },
   "file_extension": ".py",
   "mimetype": "text/x-python",
   "name": "python",
   "nbconvert_exporter": "python",
   "pygments_lexer": "ipython3",
   "version": "3.9.7"
  },
  "orig_nbformat": 4,
  "vscode": {
   "interpreter": {
    "hash": "2e61b4e68d91170e6a828addbb12c998be56a3b087bfc9988ada4585bf499f3e"
   }
  }
 },
 "nbformat": 4,
 "nbformat_minor": 2
}
