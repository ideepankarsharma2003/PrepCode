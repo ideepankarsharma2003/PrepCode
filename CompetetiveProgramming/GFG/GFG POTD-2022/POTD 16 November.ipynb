{
 "cells": [
  {
   "attachments": {},
   "cell_type": "markdown",
   "metadata": {},
   "source": [
    "# **POTD 16 November**\n",
    "## ***[Sum of Beauty of All Substrings](https://practice.geeksforgeeks.org/problems/sum-of-beauty-of-all-substrings-1662962118/1)***"
   ]
  },
  {
   "cell_type": "code",
   "execution_count": 1,
   "metadata": {},
   "outputs": [
    {
     "name": "stdout",
     "output_type": "stream",
     "text": [
      "Hello\n"
     ]
    }
   ],
   "source": [
    "print('Hello')"
   ]
  },
  {
   "cell_type": "code",
   "execution_count": 67,
   "metadata": {},
   "outputs": [],
   "source": [
    "class Solution:\n",
    "    def beautySum(self, s):\n",
    "        # Code here\n",
    "        sum_of_beauty=0\n",
    "        # s= list(s)\n",
    "        l= len(s)\n",
    "        for i in range(l):\n",
    "            # for j in range(i, l):\n",
    "            d= dict()\n",
    "            for k in range(i, l):\n",
    "                if s[k] not in d:\n",
    "                    d[s[k]]=1\n",
    "                else:\n",
    "                    d[s[k]]+=1\n",
    "                freq= list(d.values())\n",
    "                freq.sort()\n",
    "                # sum_of_beauty+=(max(d.values())-min(d.values()))\n",
    "                sum_of_beauty+=(freq[-1]-freq[0])\n",
    "                print(f'i={i}, k= {k}, d={d}')\n",
    "                # print(f'i={i}, k= {k}, result={sum_of_beauty}')\n",
    "\n",
    "        return sum_of_beauty\n",
    "\n",
    "s= Solution()"
   ]
  },
  {
   "cell_type": "code",
   "execution_count": 68,
   "metadata": {},
   "outputs": [
    {
     "name": "stdout",
     "output_type": "stream",
     "text": [
      "i=0, k= 0, d={'a': 1}\n",
      "i=0, k= 1, d={'a': 2}\n",
      "i=0, k= 2, d={'a': 3}\n",
      "i=0, k= 3, d={'a': 3, 'c': 1}\n",
      "i=1, k= 1, d={'a': 1}\n",
      "i=1, k= 2, d={'a': 2}\n",
      "i=1, k= 3, d={'a': 2, 'c': 1}\n",
      "i=2, k= 2, d={'a': 1}\n",
      "i=2, k= 3, d={'a': 1, 'c': 1}\n",
      "i=3, k= 3, d={'c': 1}\n"
     ]
    },
    {
     "data": {
      "text/plain": [
       "3"
      ]
     },
     "execution_count": 68,
     "metadata": {},
     "output_type": "execute_result"
    }
   ],
   "source": [
    "S = \"aaac\"\n",
    "s.beautySum(S)"
   ]
  },
  {
   "cell_type": "code",
   "execution_count": 69,
   "metadata": {},
   "outputs": [
    {
     "name": "stdout",
     "output_type": "stream",
     "text": [
      "i=0, k= 0, d={'g': 1}\n",
      "i=0, k= 1, d={'g': 1, 'e': 1}\n",
      "i=0, k= 2, d={'g': 1, 'e': 2}\n",
      "i=0, k= 3, d={'g': 1, 'e': 2, 'k': 1}\n",
      "i=0, k= 4, d={'g': 1, 'e': 2, 'k': 1, 's': 1}\n",
      "i=0, k= 5, d={'g': 1, 'e': 2, 'k': 1, 's': 1, 'f': 1}\n",
      "i=0, k= 6, d={'g': 1, 'e': 2, 'k': 1, 's': 1, 'f': 1, 'o': 1}\n",
      "i=0, k= 7, d={'g': 1, 'e': 2, 'k': 1, 's': 1, 'f': 1, 'o': 1, 'r': 1}\n",
      "i=0, k= 8, d={'g': 2, 'e': 2, 'k': 1, 's': 1, 'f': 1, 'o': 1, 'r': 1}\n",
      "i=0, k= 9, d={'g': 2, 'e': 3, 'k': 1, 's': 1, 'f': 1, 'o': 1, 'r': 1}\n",
      "i=0, k= 10, d={'g': 2, 'e': 4, 'k': 1, 's': 1, 'f': 1, 'o': 1, 'r': 1}\n",
      "i=0, k= 11, d={'g': 2, 'e': 4, 'k': 2, 's': 1, 'f': 1, 'o': 1, 'r': 1}\n",
      "i=0, k= 12, d={'g': 2, 'e': 4, 'k': 2, 's': 2, 'f': 1, 'o': 1, 'r': 1}\n",
      "i=1, k= 1, d={'e': 1}\n",
      "i=1, k= 2, d={'e': 2}\n",
      "i=1, k= 3, d={'e': 2, 'k': 1}\n",
      "i=1, k= 4, d={'e': 2, 'k': 1, 's': 1}\n",
      "i=1, k= 5, d={'e': 2, 'k': 1, 's': 1, 'f': 1}\n",
      "i=1, k= 6, d={'e': 2, 'k': 1, 's': 1, 'f': 1, 'o': 1}\n",
      "i=1, k= 7, d={'e': 2, 'k': 1, 's': 1, 'f': 1, 'o': 1, 'r': 1}\n",
      "i=1, k= 8, d={'e': 2, 'k': 1, 's': 1, 'f': 1, 'o': 1, 'r': 1, 'g': 1}\n",
      "i=1, k= 9, d={'e': 3, 'k': 1, 's': 1, 'f': 1, 'o': 1, 'r': 1, 'g': 1}\n",
      "i=1, k= 10, d={'e': 4, 'k': 1, 's': 1, 'f': 1, 'o': 1, 'r': 1, 'g': 1}\n",
      "i=1, k= 11, d={'e': 4, 'k': 2, 's': 1, 'f': 1, 'o': 1, 'r': 1, 'g': 1}\n",
      "i=1, k= 12, d={'e': 4, 'k': 2, 's': 2, 'f': 1, 'o': 1, 'r': 1, 'g': 1}\n",
      "i=2, k= 2, d={'e': 1}\n",
      "i=2, k= 3, d={'e': 1, 'k': 1}\n",
      "i=2, k= 4, d={'e': 1, 'k': 1, 's': 1}\n",
      "i=2, k= 5, d={'e': 1, 'k': 1, 's': 1, 'f': 1}\n",
      "i=2, k= 6, d={'e': 1, 'k': 1, 's': 1, 'f': 1, 'o': 1}\n",
      "i=2, k= 7, d={'e': 1, 'k': 1, 's': 1, 'f': 1, 'o': 1, 'r': 1}\n",
      "i=2, k= 8, d={'e': 1, 'k': 1, 's': 1, 'f': 1, 'o': 1, 'r': 1, 'g': 1}\n",
      "i=2, k= 9, d={'e': 2, 'k': 1, 's': 1, 'f': 1, 'o': 1, 'r': 1, 'g': 1}\n",
      "i=2, k= 10, d={'e': 3, 'k': 1, 's': 1, 'f': 1, 'o': 1, 'r': 1, 'g': 1}\n",
      "i=2, k= 11, d={'e': 3, 'k': 2, 's': 1, 'f': 1, 'o': 1, 'r': 1, 'g': 1}\n",
      "i=2, k= 12, d={'e': 3, 'k': 2, 's': 2, 'f': 1, 'o': 1, 'r': 1, 'g': 1}\n",
      "i=3, k= 3, d={'k': 1}\n",
      "i=3, k= 4, d={'k': 1, 's': 1}\n",
      "i=3, k= 5, d={'k': 1, 's': 1, 'f': 1}\n",
      "i=3, k= 6, d={'k': 1, 's': 1, 'f': 1, 'o': 1}\n",
      "i=3, k= 7, d={'k': 1, 's': 1, 'f': 1, 'o': 1, 'r': 1}\n",
      "i=3, k= 8, d={'k': 1, 's': 1, 'f': 1, 'o': 1, 'r': 1, 'g': 1}\n",
      "i=3, k= 9, d={'k': 1, 's': 1, 'f': 1, 'o': 1, 'r': 1, 'g': 1, 'e': 1}\n",
      "i=3, k= 10, d={'k': 1, 's': 1, 'f': 1, 'o': 1, 'r': 1, 'g': 1, 'e': 2}\n",
      "i=3, k= 11, d={'k': 2, 's': 1, 'f': 1, 'o': 1, 'r': 1, 'g': 1, 'e': 2}\n",
      "i=3, k= 12, d={'k': 2, 's': 2, 'f': 1, 'o': 1, 'r': 1, 'g': 1, 'e': 2}\n",
      "i=4, k= 4, d={'s': 1}\n",
      "i=4, k= 5, d={'s': 1, 'f': 1}\n",
      "i=4, k= 6, d={'s': 1, 'f': 1, 'o': 1}\n",
      "i=4, k= 7, d={'s': 1, 'f': 1, 'o': 1, 'r': 1}\n",
      "i=4, k= 8, d={'s': 1, 'f': 1, 'o': 1, 'r': 1, 'g': 1}\n",
      "i=4, k= 9, d={'s': 1, 'f': 1, 'o': 1, 'r': 1, 'g': 1, 'e': 1}\n",
      "i=4, k= 10, d={'s': 1, 'f': 1, 'o': 1, 'r': 1, 'g': 1, 'e': 2}\n",
      "i=4, k= 11, d={'s': 1, 'f': 1, 'o': 1, 'r': 1, 'g': 1, 'e': 2, 'k': 1}\n",
      "i=4, k= 12, d={'s': 2, 'f': 1, 'o': 1, 'r': 1, 'g': 1, 'e': 2, 'k': 1}\n",
      "i=5, k= 5, d={'f': 1}\n",
      "i=5, k= 6, d={'f': 1, 'o': 1}\n",
      "i=5, k= 7, d={'f': 1, 'o': 1, 'r': 1}\n",
      "i=5, k= 8, d={'f': 1, 'o': 1, 'r': 1, 'g': 1}\n",
      "i=5, k= 9, d={'f': 1, 'o': 1, 'r': 1, 'g': 1, 'e': 1}\n",
      "i=5, k= 10, d={'f': 1, 'o': 1, 'r': 1, 'g': 1, 'e': 2}\n",
      "i=5, k= 11, d={'f': 1, 'o': 1, 'r': 1, 'g': 1, 'e': 2, 'k': 1}\n",
      "i=5, k= 12, d={'f': 1, 'o': 1, 'r': 1, 'g': 1, 'e': 2, 'k': 1, 's': 1}\n",
      "i=6, k= 6, d={'o': 1}\n",
      "i=6, k= 7, d={'o': 1, 'r': 1}\n",
      "i=6, k= 8, d={'o': 1, 'r': 1, 'g': 1}\n",
      "i=6, k= 9, d={'o': 1, 'r': 1, 'g': 1, 'e': 1}\n",
      "i=6, k= 10, d={'o': 1, 'r': 1, 'g': 1, 'e': 2}\n",
      "i=6, k= 11, d={'o': 1, 'r': 1, 'g': 1, 'e': 2, 'k': 1}\n",
      "i=6, k= 12, d={'o': 1, 'r': 1, 'g': 1, 'e': 2, 'k': 1, 's': 1}\n",
      "i=7, k= 7, d={'r': 1}\n",
      "i=7, k= 8, d={'r': 1, 'g': 1}\n",
      "i=7, k= 9, d={'r': 1, 'g': 1, 'e': 1}\n",
      "i=7, k= 10, d={'r': 1, 'g': 1, 'e': 2}\n",
      "i=7, k= 11, d={'r': 1, 'g': 1, 'e': 2, 'k': 1}\n",
      "i=7, k= 12, d={'r': 1, 'g': 1, 'e': 2, 'k': 1, 's': 1}\n",
      "i=8, k= 8, d={'g': 1}\n",
      "i=8, k= 9, d={'g': 1, 'e': 1}\n",
      "i=8, k= 10, d={'g': 1, 'e': 2}\n",
      "i=8, k= 11, d={'g': 1, 'e': 2, 'k': 1}\n",
      "i=8, k= 12, d={'g': 1, 'e': 2, 'k': 1, 's': 1}\n",
      "i=9, k= 9, d={'e': 1}\n",
      "i=9, k= 10, d={'e': 2}\n",
      "i=9, k= 11, d={'e': 2, 'k': 1}\n",
      "i=9, k= 12, d={'e': 2, 'k': 1, 's': 1}\n",
      "i=10, k= 10, d={'e': 1}\n",
      "i=10, k= 11, d={'e': 1, 'k': 1}\n",
      "i=10, k= 12, d={'e': 1, 'k': 1, 's': 1}\n",
      "i=11, k= 11, d={'k': 1}\n",
      "i=11, k= 12, d={'k': 1, 's': 1}\n",
      "i=12, k= 12, d={'s': 1}\n"
     ]
    },
    {
     "data": {
      "text/plain": [
       "62"
      ]
     },
     "execution_count": 69,
     "metadata": {},
     "output_type": "execute_result"
    }
   ],
   "source": [
    "S = \"geeksforgeeks\"\n",
    "s.beautySum(S)"
   ]
  },
  {
   "cell_type": "code",
   "execution_count": 61,
   "metadata": {},
   "outputs": [
    {
     "name": "stdout",
     "output_type": "stream",
     "text": [
      "i=0, j= 12, result=18\n",
      "i=1, j= 12, result=35\n",
      "i=2, j= 12, result=42\n",
      "i=3, j= 12, result=45\n",
      "i=4, j= 12, result=48\n",
      "i=5, j= 12, result=51\n",
      "i=6, j= 12, result=54\n",
      "i=7, j= 12, result=57\n",
      "i=8, j= 12, result=60\n",
      "i=9, j= 12, result=62\n",
      "i=10, j= 12, result=62\n",
      "i=11, j= 12, result=62\n",
      "i=12, j= 12, result=62\n"
     ]
    },
    {
     "data": {
      "text/plain": [
       "62"
      ]
     },
     "execution_count": 61,
     "metadata": {},
     "output_type": "execute_result"
    }
   ],
   "source": [
    "S = \"geeksforgeeks\"\n",
    "k.beautySum(S)"
   ]
  },
  {
   "cell_type": "code",
   "execution_count": 62,
   "metadata": {},
   "outputs": [],
   "source": [
    "class Solution:\n",
    "\n",
    "    def beautySum(self, s):\n",
    "\n",
    "        # Code here\n",
    "\n",
    "        result=0\n",
    "\n",
    "        for i in range(len(s)):\n",
    "\n",
    "            S={}\n",
    "\n",
    "            for j in range(i,len(s)):\n",
    "\n",
    "                if s[j] not in S:\n",
    "\n",
    "                    S[s[j]]=1\n",
    "\n",
    "                else:\n",
    "\n",
    "                    S[s[j]]+=1\n",
    "\n",
    "                # mostFrequency,leastFrequency=max(S.values()),min(S.values())\n",
    "                # # print(f'max= {mostFrequency}, min= {leastFrequency}')\n",
    "                # result+=(mostFrequency-leastFrequency)\n",
    "                freq= list(S.values())\n",
    "                freq.sort()\n",
    "            # sum_of_beauty+=(max(d.values())-min(d.values()))\n",
    "                result+=(freq[-1]-freq[0])\n",
    "            print(f'i={i}, j= {j}, result={result}')\n",
    "\n",
    "\n",
    "        return result\n",
    "\n",
    "k= Solution()"
   ]
  },
  {
   "cell_type": "code",
   "execution_count": 63,
   "metadata": {},
   "outputs": [
    {
     "name": "stdout",
     "output_type": "stream",
     "text": [
      "i=0, j= 12, result=18\n",
      "i=1, j= 12, result=35\n",
      "i=2, j= 12, result=42\n",
      "i=3, j= 12, result=45\n",
      "i=4, j= 12, result=48\n",
      "i=5, j= 12, result=51\n",
      "i=6, j= 12, result=54\n",
      "i=7, j= 12, result=57\n",
      "i=8, j= 12, result=60\n",
      "i=9, j= 12, result=62\n",
      "i=10, j= 12, result=62\n",
      "i=11, j= 12, result=62\n",
      "i=12, j= 12, result=62\n"
     ]
    },
    {
     "data": {
      "text/plain": [
       "62"
      ]
     },
     "execution_count": 63,
     "metadata": {},
     "output_type": "execute_result"
    }
   ],
   "source": [
    "S = \"geeksforgeeks\"\n",
    "k.beautySum(S)"
   ]
  },
  {
   "cell_type": "code",
   "execution_count": null,
   "metadata": {},
   "outputs": [],
   "source": []
  }
 ],
 "metadata": {
  "kernelspec": {
   "display_name": "Python 3.9.7 64-bit",
   "language": "python",
   "name": "python3"
  },
  "language_info": {
   "codemirror_mode": {
    "name": "ipython",
    "version": 3
   },
   "file_extension": ".py",
   "mimetype": "text/x-python",
   "name": "python",
   "nbconvert_exporter": "python",
   "pygments_lexer": "ipython3",
   "version": "3.9.7"
  },
  "orig_nbformat": 4,
  "vscode": {
   "interpreter": {
    "hash": "2e61b4e68d91170e6a828addbb12c998be56a3b087bfc9988ada4585bf499f3e"
   }
  }
 },
 "nbformat": 4,
 "nbformat_minor": 2
}
