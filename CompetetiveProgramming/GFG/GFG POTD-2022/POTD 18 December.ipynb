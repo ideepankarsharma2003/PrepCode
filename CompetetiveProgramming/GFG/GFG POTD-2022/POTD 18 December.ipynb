{
 "cells": [
  {
   "attachments": {},
   "cell_type": "markdown",
   "metadata": {},
   "source": [
    "# **POTD 18 December**\n",
    "## ***[A Game of LCM](https://practice.geeksforgeeks.org/problems/a-game-of-lcm2531/1)***"
   ]
  },
  {
   "cell_type": "code",
   "execution_count": null,
   "metadata": {},
   "outputs": [],
   "source": [
    "#User function Template for python3\n",
    "import math\n",
    "\n",
    "def lcm(N):    \n",
    "    if (N == 4):\n",
    "        return 12;\n",
    "    a = N * (N - 1);\n",
    "    b = a;\n",
    "    b *= (N - 2) // math.gcd(b, N - 2);\n",
    "    b *= (N - 3) // math.gcd(b, N - 3);\n",
    "    c = a\n",
    "    f = 0;\n",
    "    for i in range(N - 2, 0, -1):\n",
    "        if (math.gcd(c, i) == 1):\n",
    "            a *= i;\n",
    "            c *= i;\n",
    "            f+=1        \n",
    "        if (f == 2):\n",
    "            break;\n",
    "    return max(a, b);\n",
    "\n",
    "    \n",
    "\n",
    "class Solution:    \n",
    "    def maxGcd(self,n):\n",
    "        #code here\n",
    "        if n==4:\n",
    "            return 12\n",
    "            \n",
    "        return max(lcm(n), lcm(n-1))"
   ]
  }
 ],
 "metadata": {
  "kernelspec": {
   "display_name": "Python 3",
   "language": "python",
   "name": "python3"
  },
  "language_info": {
   "name": "python",
   "version": "3.9.6 (tags/v3.9.6:db3ff76, Jun 28 2021, 15:26:21) [MSC v.1929 64 bit (AMD64)]"
  },
  "orig_nbformat": 4,
  "vscode": {
   "interpreter": {
    "hash": "8a5edab282632443219e051e4ade2d1d5bbc671c781051bf1437897cbdfea0f1"
   }
  }
 },
 "nbformat": 4,
 "nbformat_minor": 2
}
