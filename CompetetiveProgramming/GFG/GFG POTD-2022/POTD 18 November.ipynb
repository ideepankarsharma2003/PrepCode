{
 "cells": [
  {
   "attachments": {},
   "cell_type": "markdown",
   "metadata": {},
   "source": [
    "# **POTD 18 November**\n",
    "## ***[Number Of Open Doors](https://practice.geeksforgeeks.org/problems/number-of-open-doors1552/1)***"
   ]
  },
  {
   "cell_type": "code",
   "execution_count": 1,
   "metadata": {},
   "outputs": [
    {
     "name": "stdout",
     "output_type": "stream",
     "text": [
      "Hello\n"
     ]
    }
   ],
   "source": [
    "print('Hello')"
   ]
  },
  {
   "cell_type": "code",
   "execution_count": 8,
   "metadata": {},
   "outputs": [
    {
     "name": "stdout",
     "output_type": "stream",
     "text": [
      "sqrt(4): 2.0, floor: 2\n",
      "sqrt(3): 1.7320508075688772, floor: 1\n",
      "sqrt(2): 1.4142135623730951, floor: 1\n"
     ]
    }
   ],
   "source": [
    "import math\n",
    "print(f'sqrt(4): {(math.sqrt(4))}, floor: {int(math.sqrt(4))}')\n",
    "print(f'sqrt(3): {(math.sqrt(3))}, floor: {int(math.sqrt(3))}')\n",
    "print(f'sqrt(2): {(math.sqrt(2))}, floor: {int(math.sqrt(2))}')"
   ]
  },
  {
   "cell_type": "code",
   "execution_count": 50,
   "metadata": {},
   "outputs": [],
   "source": [
    "\n",
    "def noOfOpenDoors(N):\n",
    "    # code here\n",
    "    l= [0]*N # 0 means closed, 1 means open\n",
    "    print(f'i= {0},\\tl=\\t{l}')\n",
    "    for i in range(1, N+1):\n",
    "        for j in range(i, N+1, i):\n",
    "            if l[j-1]==0:\n",
    "                l[j-1]+=1\n",
    "            else:\n",
    "                l[j-1]-=1\n",
    "\n",
    "        print(f'i= {i},\\tl=\\t{l}')\n",
    "    print(f'\\nnumber of open doors: {l.count(1)}')\n",
    "    # return l.count(1)\n",
    "\n"
   ]
  },
  {
   "cell_type": "code",
   "execution_count": 45,
   "metadata": {},
   "outputs": [],
   "source": [
    "# 0 ---> closed\n",
    "# 1 ---> open\n",
    "\n",
    "\n",
    "# for N= 5\n",
    "\n",
    "# iteration i= 0, [0, 0, 0, 0, 0]\n",
    "# iteration i= 1, [1, 1, 1, 1, 1]\n",
    "# iteration i= 2, [1, 0, 1, 0, 1]\n",
    "# iteration i= 3, [1, 0, 0, 0, 1]\n",
    "# iteration i= 4, [1, 0, 0, 1, 1]\n",
    "# iteration i= 5, [1, 0, 0, 1, 0]\n",
    "\n",
    "# Open doors= 2"
   ]
  },
  {
   "cell_type": "code",
   "execution_count": 46,
   "metadata": {},
   "outputs": [
    {
     "name": "stdout",
     "output_type": "stream",
     "text": [
      "i= 0,\tl=\t[0, 0, 0, 0, 0]\n",
      "i= 1,\tl=\t[1, 1, 1, 1, 1]\n",
      "i= 2,\tl=\t[1, 0, 1, 0, 1]\n",
      "i= 3,\tl=\t[1, 0, 0, 0, 1]\n",
      "i= 4,\tl=\t[1, 0, 0, 1, 1]\n",
      "i= 5,\tl=\t[1, 0, 0, 1, 0]\n",
      "\n",
      "number of open doors: 2\n"
     ]
    }
   ],
   "source": [
    "noOfOpenDoors(5)"
   ]
  },
  {
   "cell_type": "code",
   "execution_count": 47,
   "metadata": {},
   "outputs": [],
   "source": [
    "# 0 ---> closed\n",
    "# 1 ---> open\n",
    "\n",
    "\n",
    "# for N= 6\n",
    "\n",
    "# iteration i= 0, [0, 0, 0, 0, 0, 0]\n",
    "# iteration i= 1, [1, 1, 1, 1, 1, 1]\n",
    "# iteration i= 2, [1, 0, 1, 0, 1, 0]\n",
    "# iteration i= 3, [1, 0, 0, 0, 1, 1]\n",
    "# iteration i= 4, [1, 0, 0, 1, 1, 1]\n",
    "# iteration i= 5, [1, 0, 0, 1, 0, 1]\n",
    "# iteration i= 6, [1, 0, 0, 1, 0, 0]\n",
    "\n",
    "# Open doors= 2"
   ]
  },
  {
   "cell_type": "code",
   "execution_count": 48,
   "metadata": {},
   "outputs": [
    {
     "name": "stdout",
     "output_type": "stream",
     "text": [
      "i= 0,\tl=\t[0, 0, 0, 0, 0, 0]\n",
      "i= 1,\tl=\t[1, 1, 1, 1, 1, 1]\n",
      "i= 2,\tl=\t[1, 0, 1, 0, 1, 0]\n",
      "i= 3,\tl=\t[1, 0, 0, 0, 1, 1]\n",
      "i= 4,\tl=\t[1, 0, 0, 1, 1, 1]\n",
      "i= 5,\tl=\t[1, 0, 0, 1, 0, 1]\n",
      "i= 6,\tl=\t[1, 0, 0, 1, 0, 0]\n",
      "\n",
      "number of open doors: 2\n"
     ]
    }
   ],
   "source": [
    "noOfOpenDoors(6)"
   ]
  },
  {
   "cell_type": "code",
   "execution_count": 41,
   "metadata": {},
   "outputs": [
    {
     "name": "stdout",
     "output_type": "stream",
     "text": [
      "i= 0,\tl=\t[0, 0, 0, 0, 0]\n",
      "i= 1,\tl=\t[1, 1, 1, 1, 1]\n",
      "i= 2,\tl=\t[1, 0, 1, 0, 1]\n",
      "i= 3,\tl=\t[1, 0, 0, 0, 1]\n",
      "i= 4,\tl=\t[1, 0, 0, 1, 1]\n",
      "i= 5,\tl=\t[1, 0, 0, 1, 0]\n",
      "\n",
      "number of open doors: 2\n"
     ]
    }
   ],
   "source": [
    "noOfOpenDoors(5)"
   ]
  },
  {
   "cell_type": "code",
   "execution_count": 53,
   "metadata": {},
   "outputs": [],
   "source": [
    "\n",
    "def noOfOpenDoors(N):\n",
    "    # code here\n",
    "    l= [0]*N # 0 means closed, 1 means open\n",
    "    # print(f'i= {0},\\tl=\\t{l}')\n",
    "    for i in range(1, N+1):\n",
    "        for j in range(i, N+1, i):\n",
    "            if l[j-1]==0:\n",
    "                l[j-1]+=1\n",
    "            else:\n",
    "                l[j-1]-=1\n",
    "\n",
    "        # print(f'i= {i},\\tl=\\t{l}')\n",
    "    # print(f'\\nnumber of open doors: {l.count(1)}')\n",
    "    return l.count(1)\n",
    "\n"
   ]
  },
  {
   "cell_type": "code",
   "execution_count": 59,
   "metadata": {},
   "outputs": [
    {
     "name": "stdout",
     "output_type": "stream",
     "text": [
      "d[1]:\t3\n",
      "d[2]:\t5\n",
      "d[3]:\t7\n",
      "d[4]:\t9\n",
      "d[5]:\t11\n",
      "d[6]:\t13\n",
      "d[7]:\t15\n",
      "d[8]:\t17\n",
      "d[9]:\t19\n"
     ]
    }
   ],
   "source": [
    "d= dict()\n",
    "for i in range(1, 100):\n",
    "    x= noOfOpenDoors(i)\n",
    "    if x not in d.keys():\n",
    "        d[x]=1\n",
    "    else:\n",
    "        d[x]+=1\n",
    "\n",
    "for i in d.keys():\n",
    "    print(f'd[{i}]:\\t{d[i]}')\n"
   ]
  },
  {
   "attachments": {
    "image.png": {
     "image/png": "[encoded data removed]"
    }
   },
   "cell_type": "markdown",
   "metadata": {},
   "source": [
    "![image.png](attachment:image.png)"
   ]
  },
  {
   "attachments": {
    "image.png": {
     "image/png": "[encoded data removed]"
    }
   },
   "cell_type": "markdown",
   "metadata": {},
   "source": [
    "![image.png](attachment:image.png)"
   ]
  },
  {
   "cell_type": "code",
   "execution_count": 9,
   "metadata": {},
   "outputs": [],
   "source": [
    "class Solution:\n",
    "    def noOfOpenDoors(self, N):\n",
    "        # code here\n",
    "        return int(math.sqrt(N))\n",
    "\n",
    "s= Solution()"
   ]
  },
  {
   "cell_type": "code",
   "execution_count": 12,
   "metadata": {},
   "outputs": [
    {
     "data": {
      "text/plain": [
       "2"
      ]
     },
     "execution_count": 12,
     "metadata": {},
     "output_type": "execute_result"
    }
   ],
   "source": [
    "s.noOfOpenDoors(6)"
   ]
  },
  {
   "cell_type": "code",
   "execution_count": 11,
   "metadata": {},
   "outputs": [
    {
     "data": {
      "text/plain": [
       "3"
      ]
     },
     "execution_count": 11,
     "metadata": {},
     "output_type": "execute_result"
    }
   ],
   "source": [
    "s.noOfOpenDoors(10)"
   ]
  },
  {
   "cell_type": "code",
   "execution_count": 16,
   "metadata": {},
   "outputs": [
    {
     "name": "stdout",
     "output_type": "stream",
     "text": [
      "N= 1,\tNumber of open doors: 1\n",
      "N= 2,\tNumber of open doors: 1\n",
      "N= 3,\tNumber of open doors: 1\n",
      "N= 4,\tNumber of open doors: 2\n",
      "N= 5,\tNumber of open doors: 2\n",
      "N= 6,\tNumber of open doors: 2\n",
      "N= 7,\tNumber of open doors: 2\n",
      "N= 8,\tNumber of open doors: 2\n",
      "N= 9,\tNumber of open doors: 3\n",
      "N= 10,\tNumber of open doors: 3\n",
      "N= 11,\tNumber of open doors: 3\n",
      "N= 12,\tNumber of open doors: 3\n",
      "N= 13,\tNumber of open doors: 3\n",
      "N= 14,\tNumber of open doors: 3\n",
      "N= 15,\tNumber of open doors: 3\n",
      "N= 16,\tNumber of open doors: 4\n",
      "N= 17,\tNumber of open doors: 4\n",
      "N= 18,\tNumber of open doors: 4\n",
      "N= 19,\tNumber of open doors: 4\n",
      "N= 20,\tNumber of open doors: 4\n",
      "N= 21,\tNumber of open doors: 4\n",
      "N= 22,\tNumber of open doors: 4\n",
      "N= 23,\tNumber of open doors: 4\n",
      "N= 24,\tNumber of open doors: 4\n",
      "N= 25,\tNumber of open doors: 5\n",
      "N= 26,\tNumber of open doors: 5\n"
     ]
    }
   ],
   "source": [
    "for i in range(1, 27):\n",
    "    print(f'N= {i},\\tNumber of open doors: {s.noOfOpenDoors(i)}')"
   ]
  },
  {
   "cell_type": "code",
   "execution_count": null,
   "metadata": {},
   "outputs": [],
   "source": []
  }
 ],
 "metadata": {
  "kernelspec": {
   "display_name": "Python 3.9.7 64-bit",
   "language": "python",
   "name": "python3"
  },
  "language_info": {
   "codemirror_mode": {
    "name": "ipython",
    "version": 3
   },
   "file_extension": ".py",
   "mimetype": "text/x-python",
   "name": "python",
   "nbconvert_exporter": "python",
   "pygments_lexer": "ipython3",
   "version": "3.9.7"
  },
  "orig_nbformat": 4,
  "vscode": {
   "interpreter": {
    "hash": "2e61b4e68d91170e6a828addbb12c998be56a3b087bfc9988ada4585bf499f3e"
   }
  }
 },
 "nbformat": 4,
 "nbformat_minor": 2
}
