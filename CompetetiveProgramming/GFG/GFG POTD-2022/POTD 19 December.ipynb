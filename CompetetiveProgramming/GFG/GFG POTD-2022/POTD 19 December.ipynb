{
 "cells": [
  {
   "attachments": {},
   "cell_type": "markdown",
   "metadata": {},
   "source": [
    "# **POTD 19 December**\n",
    "## ***[Alex Travelling](https://practice.geeksforgeeks.org/problems/alex-travelling/1)***"
   ]
  },
  {
   "cell_type": "code",
   "execution_count": null,
   "metadata": {},
   "outputs": [],
   "source": [
    "#User function Template for python3\n",
    "\n",
    "from heapq import *\n",
    "from typing import List\n",
    "class Solution:\n",
    "    def minimumCost(self, flights: List[List[int]], n : int, k : int) -> int:\n",
    "        # initialize graph as adjacency list\n",
    "        graph = {i: [] for i in range(1, n + 1)}\n",
    "        \n",
    "        for flight in flights:\n",
    "            source, target, time = flight\n",
    "            graph[source].append((time, target))\n",
    "        # our result variable\n",
    "        res = 0\n",
    "        \n",
    "        # initialize min heap with time 0, k node to start\n",
    "        min_heap = [(0, k)]\n",
    "        # must keep track of visited\n",
    "        visited = set()\n",
    "        \n",
    "        while min_heap:\n",
    "            min_time, node = heappop(min_heap)\n",
    "            if node in visited:\n",
    "                continue\n",
    "            visited.add(node)\n",
    "          \n",
    "            res = min_time\n",
    "            \n",
    "            # go through neighbors and add to heap if not already visited\n",
    "            neighbors = graph[node]\n",
    "            for neighbor in neighbors:\n",
    "                n_time, n_node = neighbor\n",
    "                if n_node not in visited:\n",
    "                    heappush(min_heap, (n_time + min_time, n_node))\n",
    "        \n",
    "        # at this point, if we did not visit every node it is impossible to send signal, cycle\n",
    "        return res if len(visited) == n else -1"
   ]
  },
  {
   "cell_type": "code",
   "execution_count": null,
   "metadata": {},
   "outputs": [],
   "source": []
  }
 ],
 "metadata": {
  "kernelspec": {
   "display_name": "Python 3",
   "language": "python",
   "name": "python3"
  },
  "language_info": {
   "name": "python",
   "version": "3.9.6 (tags/v3.9.6:db3ff76, Jun 28 2021, 15:26:21) [MSC v.1929 64 bit (AMD64)]"
  },
  "orig_nbformat": 4,
  "vscode": {
   "interpreter": {
    "hash": "c0a3c91513ce8330cc510c252bd0d2b8c5edf3f02855cf0373cb264a8e18d0f0"
   }
  }
 },
 "nbformat": 4,
 "nbformat_minor": 2
}
