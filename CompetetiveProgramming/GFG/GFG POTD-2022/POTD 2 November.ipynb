{
 "cells": [
  {
   "cell_type": "markdown",
   "metadata": {},
   "source": [
    "# **POTD 2 November**\n",
    "## ***[Enemy](https://practice.geeksforgeeks.org/problems/enemy/1)***"
   ]
  },
  {
   "cell_type": "code",
   "execution_count": 19,
   "metadata": {},
   "outputs": [],
   "source": [
    "from typing import List\n",
    "\n",
    "\n",
    "from typing import List\n",
    "\n",
    "\n",
    "def find_largest_continuous(row_column, length):\n",
    "    largest_continuous= 0 # largest continuous free blocks so far\n",
    "    current_continuous= 0\n",
    "    # 0 ----> blocks are free\n",
    "    # 1 ----> enemy present\n",
    "    for i in range(length):\n",
    "        if row_column[i]==0: # block is empty, ONE MORE CONTINUOUS BLOCK\n",
    "            current_continuous+=1\n",
    "        else: # enemy is present, UPDATE VALUES\n",
    "            if current_continuous>largest_continuous:\n",
    "                largest_continuous=current_continuous\n",
    "            current_continuous=0\n",
    "        \n",
    "    if current_continuous>largest_continuous:\n",
    "        largest_continuous= current_continuous\n",
    "    return largest_continuous\n",
    "\n",
    "\n",
    "class Solution:\n",
    "    def largestArea(self,n:int,m:int,k:int, enemy : List[List[int]]) -> int:\n",
    "        # code here\n",
    "        r_zero= [0]*n # rows list with zeroes\n",
    "        c_zero= [0]*m # columns list with zeroes \n",
    "        \n",
    "        for i in enemy:\n",
    "            r_zero[i[0]-1]= 1 # enemy present here\n",
    "            c_zero[i[1]-1]= 1 # enemy present here\n",
    "\n",
    "        # print(f'r_zero= {r_zero}')\n",
    "        # print(f'c_zero= {c_zero}')\n",
    "\n",
    "        return find_largest_continuous(r_zero, n)*find_largest_continuous(c_zero, m)\n",
    "        \n",
    "\n",
    "\n",
    "s= Solution()"
   ]
  },
  {
   "cell_type": "code",
   "execution_count": 20,
   "metadata": {},
   "outputs": [
    {
     "data": {
      "text/plain": [
       "4"
      ]
     },
     "execution_count": 20,
     "metadata": {},
     "output_type": "execute_result"
    }
   ],
   "source": [
    "N = 3\n",
    "M = 3\n",
    "K = 1\n",
    "enemy=[[3,3]]\n",
    "\n",
    "s.largestArea(N, M, K, enemy)"
   ]
  },
  {
   "cell_type": "code",
   "execution_count": 21,
   "metadata": {},
   "outputs": [
    {
     "data": {
      "text/plain": [
       "1"
      ]
     },
     "execution_count": 21,
     "metadata": {},
     "output_type": "execute_result"
    }
   ],
   "source": [
    "N = 2\n",
    "M = 2\n",
    "K = 1\n",
    "enemy= [[2,2]]\n",
    "s.largestArea(N, M, K, enemy)"
   ]
  },
  {
   "cell_type": "code",
   "execution_count": null,
   "metadata": {},
   "outputs": [],
   "source": []
  }
 ],
 "metadata": {
  "kernelspec": {
   "display_name": "Python 3.9.7 64-bit",
   "language": "python",
   "name": "python3"
  },
  "language_info": {
   "codemirror_mode": {
    "name": "ipython",
    "version": 3
   },
   "file_extension": ".py",
   "mimetype": "text/x-python",
   "name": "python",
   "nbconvert_exporter": "python",
   "pygments_lexer": "ipython3",
   "version": "3.9.7"
  },
  "orig_nbformat": 4,
  "vscode": {
   "interpreter": {
    "hash": "2e61b4e68d91170e6a828addbb12c998be56a3b087bfc9988ada4585bf499f3e"
   }
  }
 },
 "nbformat": 4,
 "nbformat_minor": 2
}
