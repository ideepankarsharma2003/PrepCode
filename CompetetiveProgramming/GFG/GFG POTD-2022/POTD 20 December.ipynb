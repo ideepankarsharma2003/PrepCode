{
 "cells": [
  {
   "attachments": {},
   "cell_type": "markdown",
   "metadata": {},
   "source": [
    "# **POTD 20 December**\n",
    "## ***[A difference of values and indexes](https://practice.geeksforgeeks.org/problems/a-difference-of-values-and-indexes0302/1)***"
   ]
  },
  {
   "cell_type": "code",
   "execution_count": 1,
   "metadata": {},
   "outputs": [],
   "source": [
    "class Solution:\n",
    "    def maxDistance (self, arr, n) : \n",
    "        #Complete the function\n",
    "        if n==1:\n",
    "            return 0\n",
    "        mdiff= -1000\n",
    "        for i in range(1, n):\n",
    "            for j in range(i):\n",
    "                diff= abs(arr[i]-arr[j]) + abs(i-j)\n",
    "                mdiff= max(diff, mdiff)\n",
    "        return mdiff\n",
    "                "
   ]
  },
  {
   "cell_type": "code",
   "execution_count": 2,
   "metadata": {},
   "outputs": [],
   "source": [
    "class Solution:\n",
    "    def maxDistance (self, arr, n) : \n",
    "        #Complete the function\n",
    "        max1, min1, max2, min2=arr[0],arr[0],arr[0],arr[0]\n",
    "        for i in range(1, n):\n",
    "            max1=max(max1, arr[i]-i)\n",
    "            min1=min(min1, arr[i]-i)\n",
    "            max2=max(max2, arr[i]+i)\n",
    "            min2=min(min2, arr[i]+i)\n",
    "        return max(max1-min1, max2-min2)"
   ]
  },
  {
   "cell_type": "code",
   "execution_count": null,
   "metadata": {},
   "outputs": [],
   "source": []
  }
 ],
 "metadata": {
  "kernelspec": {
   "display_name": "Python 3",
   "language": "python",
   "name": "python3"
  },
  "language_info": {
   "codemirror_mode": {
    "name": "ipython",
    "version": 3
   },
   "file_extension": ".py",
   "mimetype": "text/x-python",
   "name": "python",
   "nbconvert_exporter": "python",
   "pygments_lexer": "ipython3",
   "version": "3.9.6"
  },
  "orig_nbformat": 4,
  "vscode": {
   "interpreter": {
    "hash": "c0a3c91513ce8330cc510c252bd0d2b8c5edf3f02855cf0373cb264a8e18d0f0"
   }
  }
 },
 "nbformat": 4,
 "nbformat_minor": 2
}
