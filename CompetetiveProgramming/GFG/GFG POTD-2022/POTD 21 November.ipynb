{
 "cells": [
  {
   "attachments": {},
   "cell_type": "markdown",
   "metadata": {},
   "source": [
    "# **POTD 21 November**\n",
    "## ***[Unique partitions](https://practice.geeksforgeeks.org/problems/unique-partitions1041/1)***"
   ]
  },
  {
   "cell_type": "code",
   "execution_count": 1,
   "metadata": {},
   "outputs": [],
   "source": [
    "\n",
    "class Solution:\n",
    "    def UniquePartitions(self, n):\n",
    "        # Code here\n",
    "        \n",
    "        def partitions(num,Sum,res,out):\n",
    "            \n",
    "            if Sum>target or num<=0:\n",
    "                return \n",
    "            \n",
    "            if Sum==target:\n",
    "                out.append(res)\n",
    "                return\n",
    "            \n",
    "            res1 = res[:]\n",
    "            res2 = res[:]\n",
    "            res1 = res1+[num]\n",
    "            partitions(num,Sum+num,res1,out)\n",
    "            partitions(num-1,Sum,res2,out)\n",
    "            \n",
    "            return\n",
    "        \n",
    "        Sum = 0\n",
    "        res = []\n",
    "        out = []\n",
    "        target = n\n",
    "        partitions(n,Sum,res,out)\n",
    "        return out"
   ]
  },
  {
   "cell_type": "code",
   "execution_count": null,
   "metadata": {},
   "outputs": [],
   "source": []
  }
 ],
 "metadata": {
  "kernelspec": {
   "display_name": "Python 3.9.7 64-bit",
   "language": "python",
   "name": "python3"
  },
  "language_info": {
   "codemirror_mode": {
    "name": "ipython",
    "version": 3
   },
   "file_extension": ".py",
   "mimetype": "text/x-python",
   "name": "python",
   "nbconvert_exporter": "python",
   "pygments_lexer": "ipython3",
   "version": "3.9.7"
  },
  "orig_nbformat": 4,
  "vscode": {
   "interpreter": {
    "hash": "2e61b4e68d91170e6a828addbb12c998be56a3b087bfc9988ada4585bf499f3e"
   }
  }
 },
 "nbformat": 4,
 "nbformat_minor": 2
}
