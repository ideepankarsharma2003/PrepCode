{
 "cells": [
  {
   "attachments": {},
   "cell_type": "markdown",
   "metadata": {},
   "source": [
    "# **POTD 22 December**\n",
    "## ***[Zero Sum Subarrays](https://practice.geeksforgeeks.org/problems/zero-sum-subarrays1825/1)***"
   ]
  },
  {
   "cell_type": "code",
   "execution_count": 15,
   "metadata": {},
   "outputs": [],
   "source": [
    "#User function Template for python3\n",
    "\n",
    "class Solution:\n",
    "    #Function to count subarrays with sum equal to 0.\n",
    "    def findSubArrays(self,arr,n):\n",
    "        \n",
    "        #return: count of sub-arrays having their sum equal to 0\n",
    "        d={}\n",
    "        d[0]= 1 # null set\n",
    "        ans=0\n",
    "        cur=0\n",
    "        for el in arr:\n",
    "            print(f'cur= {cur}')\n",
    "            print(f'el= {el}')\n",
    "            cur=cur+el\n",
    "            print(f'cur(new)= {cur}')\n",
    "            if cur in d:\n",
    "                ans=ans+d[cur]\n",
    "                print(f'ans= {ans}')\n",
    "                d[cur]+=1\n",
    "            else:\n",
    "                d[cur]=1\n",
    "            print(f'd= {d}')\n",
    "            print()\n",
    "        return ans\n",
    "\n",
    "s= Solution()"
   ]
  },
  {
   "cell_type": "code",
   "execution_count": 16,
   "metadata": {},
   "outputs": [
    {
     "name": "stdout",
     "output_type": "stream",
     "text": [
      "cur= 0\n",
      "el= 0\n",
      "cur(new)= 0\n",
      "ans= 1\n",
      "d= {0: 2}\n",
      "\n",
      "cur= 0\n",
      "el= 0\n",
      "cur(new)= 0\n",
      "ans= 3\n",
      "d= {0: 3}\n",
      "\n",
      "cur= 0\n",
      "el= 5\n",
      "cur(new)= 5\n",
      "d= {0: 3, 5: 1}\n",
      "\n",
      "cur= 5\n",
      "el= 5\n",
      "cur(new)= 10\n",
      "d= {0: 3, 5: 1, 10: 1}\n",
      "\n",
      "cur= 10\n",
      "el= 0\n",
      "cur(new)= 10\n",
      "ans= 4\n",
      "d= {0: 3, 5: 1, 10: 2}\n",
      "\n",
      "cur= 10\n",
      "el= 0\n",
      "cur(new)= 10\n",
      "ans= 6\n",
      "d= {0: 3, 5: 1, 10: 3}\n",
      "\n"
     ]
    },
    {
     "data": {
      "text/plain": [
       "6"
      ]
     },
     "execution_count": 16,
     "metadata": {},
     "output_type": "execute_result"
    }
   ],
   "source": [
    "n = 6\n",
    "arr= [0,0,5,5,0,0]\n",
    "s.findSubArrays(arr, n)"
   ]
  },
  {
   "cell_type": "code",
   "execution_count": null,
   "metadata": {},
   "outputs": [],
   "source": []
  }
 ],
 "metadata": {
  "kernelspec": {
   "display_name": "Python 3",
   "language": "python",
   "name": "python3"
  },
  "language_info": {
   "codemirror_mode": {
    "name": "ipython",
    "version": 3
   },
   "file_extension": ".py",
   "mimetype": "text/x-python",
   "name": "python",
   "nbconvert_exporter": "python",
   "pygments_lexer": "ipython3",
   "version": "3.9.6 (tags/v3.9.6:db3ff76, Jun 28 2021, 15:26:21) [MSC v.1929 64 bit (AMD64)]"
  },
  "orig_nbformat": 4,
  "vscode": {
   "interpreter": {
    "hash": "c0a3c91513ce8330cc510c252bd0d2b8c5edf3f02855cf0373cb264a8e18d0f0"
   }
  }
 },
 "nbformat": 4,
 "nbformat_minor": 2
}
