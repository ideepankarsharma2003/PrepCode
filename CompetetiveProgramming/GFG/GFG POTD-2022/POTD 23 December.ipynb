{
 "cells": [
  {
   "attachments": {},
   "cell_type": "markdown",
   "metadata": {},
   "source": [
    "# **POTD 23 December**\n",
    "## ***[Burst Balloons](https://practice.geeksforgeeks.org/problems/burst-balloons/1)***"
   ]
  },
  {
   "cell_type": "code",
   "execution_count": 1,
   "metadata": {},
   "outputs": [],
   "source": [
    "\n",
    "from typing import List\n",
    "\n",
    "import sys\n",
    "class Solution:\n",
    "    def maxCoins(self, N : int, arr : List[int]) -> int:\n",
    "        # code here\n",
    "        nums= arr\n",
    "        n= N\n",
    "        nums.insert(0,1)\n",
    "        nums.append(1)\n",
    "        dp=[[0 for i in range(n+2)] for j in range(n+2)]\n",
    "        for i in range(n,0,-1):\n",
    "            for j in range(1,n+1):\n",
    "                if i>j:\n",
    "                    continue\n",
    "                maxi=-sys.maxsize-1\n",
    "                for ind in range(i,j+1):\n",
    "                    cost=nums[i-1]*nums[ind]*nums[j+1]+dp[i][ind-1]+dp[ind+1][j]\n",
    "                    maxi=max(maxi,cost)\n",
    "                    dp[i][j]=maxi\n",
    "        return dp[1][n]"
   ]
  },
  {
   "cell_type": "code",
   "execution_count": null,
   "metadata": {},
   "outputs": [],
   "source": []
  }
 ],
 "metadata": {
  "kernelspec": {
   "display_name": "Python 3",
   "language": "python",
   "name": "python3"
  },
  "language_info": {
   "codemirror_mode": {
    "name": "ipython",
    "version": 3
   },
   "file_extension": ".py",
   "mimetype": "text/x-python",
   "name": "python",
   "nbconvert_exporter": "python",
   "pygments_lexer": "ipython3",
   "version": "3.9.6"
  },
  "orig_nbformat": 4,
  "vscode": {
   "interpreter": {
    "hash": "c0a3c91513ce8330cc510c252bd0d2b8c5edf3f02855cf0373cb264a8e18d0f0"
   }
  }
 },
 "nbformat": 4,
 "nbformat_minor": 2
}
