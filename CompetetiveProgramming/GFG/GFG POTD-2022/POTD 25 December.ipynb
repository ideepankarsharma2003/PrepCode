{
 "cells": [
  {
   "attachments": {},
   "cell_type": "markdown",
   "metadata": {},
   "source": [
    "# **POTD 25 December**\n",
    "## ***[Missing number in matrix](https://practice.geeksforgeeks.org/problems/missing-number-in-matrix5316/1)***"
   ]
  },
  {
   "cell_type": "code",
   "execution_count": null,
   "metadata": {},
   "outputs": [],
   "source": [
    "#User function Template for python3\n",
    "import numpy as np\n",
    "class Solution:\n",
    "    def MissingNo(self, matrix):\n",
    "        # Code here\n",
    "        M = np.array(matrix)\n",
    "        SR = M.sum(axis=0)\n",
    "        SC = M.sum(axis=1)\n",
    "        zr, zc, X = np.argmin(SR), np.argmin(SC), SR.max()\n",
    "        add = X - SR[zr]\n",
    "        SR[zr], SC[zc], M[zr,zc] = SR[zr]+add, SC[zc]+add, M[zr,zc]+add\n",
    "        if add <=0 : return -1\n",
    "        if not np.array_equal(SR, SC): return -1\n",
    "        if M.diagonal().sum() != X: return -1\n",
    "        if np.fliplr(M).diagonal().sum() != X: return -1\n",
    "        return add  "
   ]
  },
  {
   "cell_type": "code",
   "execution_count": null,
   "metadata": {},
   "outputs": [],
   "source": []
  }
 ],
 "metadata": {
  "kernelspec": {
   "display_name": "Python 3",
   "language": "python",
   "name": "python3"
  },
  "language_info": {
   "codemirror_mode": {
    "name": "ipython",
    "version": 3
   },
   "file_extension": ".py",
   "mimetype": "text/x-python",
   "name": "python",
   "nbconvert_exporter": "python",
   "pygments_lexer": "ipython3",
   "version": "3.9.6"
  },
  "orig_nbformat": 4,
  "vscode": {
   "interpreter": {
    "hash": "c0a3c91513ce8330cc510c252bd0d2b8c5edf3f02855cf0373cb264a8e18d0f0"
   }
  }
 },
 "nbformat": 4,
 "nbformat_minor": 2
}
