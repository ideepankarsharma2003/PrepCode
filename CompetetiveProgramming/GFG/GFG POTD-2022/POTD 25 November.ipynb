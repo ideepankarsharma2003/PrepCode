{
 "cells": [
  {
   "attachments": {},
   "cell_type": "markdown",
   "metadata": {},
   "source": [
    "# **POTD 25 November**\n",
    "## ***[Shreyansh and his bits](https://practice.geeksforgeeks.org/problems/shreyansh-and-his-bits1420/1)***"
   ]
  },
  {
   "cell_type": "code",
   "execution_count": 1,
   "metadata": {},
   "outputs": [],
   "source": [
    "class Solution:\n",
    "    def count (self, N):\n",
    "        # code here \n",
    "\n",
    "        dp=[[-1]*(50) for _ in range(50)]\n",
    "        \n",
    "        def solve(spots,ones):\n",
    "            if ones>spots:\n",
    "                return 0\n",
    "            if ones==0 or ones==spots:\n",
    "                return 1\n",
    "            if dp[spots][ones]!=-1:\n",
    "                return dp[spots][ones]\n",
    "                \n",
    "            res=solve(spots-1,ones-1)+solve(spots-1,ones)\n",
    "            dp[spots][ones] = res\n",
    "            return res\n",
    "        \n",
    "        out=0\n",
    "        ones=0\n",
    "        bits=0\n",
    "        while N!=0:\n",
    "            if N&1:\n",
    "                out+=solve(bits,ones+1)\n",
    "                ones+=1\n",
    "            bits+=1\n",
    "            N>>=1\n",
    "        return out"
   ]
  },
  {
   "cell_type": "code",
   "execution_count": null,
   "metadata": {},
   "outputs": [],
   "source": []
  }
 ],
 "metadata": {
  "kernelspec": {
   "display_name": "Python 3.9.7 64-bit",
   "language": "python",
   "name": "python3"
  },
  "language_info": {
   "codemirror_mode": {
    "name": "ipython",
    "version": 3
   },
   "file_extension": ".py",
   "mimetype": "text/x-python",
   "name": "python",
   "nbconvert_exporter": "python",
   "pygments_lexer": "ipython3",
   "version": "3.9.7"
  },
  "orig_nbformat": 4,
  "vscode": {
   "interpreter": {
    "hash": "2e61b4e68d91170e6a828addbb12c998be56a3b087bfc9988ada4585bf499f3e"
   }
  }
 },
 "nbformat": 4,
 "nbformat_minor": 2
}
