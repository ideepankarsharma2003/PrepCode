{
 "cells": [
  {
   "attachments": {},
   "cell_type": "markdown",
   "metadata": {},
   "source": [
    "# **POTD 26 December**\n",
    "## ***[Akku and Binary Numbers](https://practice.geeksforgeeks.org/problems/akku-and-binary-numbers0902/1)***"
   ]
  },
  {
   "cell_type": "code",
   "execution_count": 1,
   "metadata": {},
   "outputs": [],
   "source": [
    "#User function Template for python3\n",
    "\n",
    "class Solution:\n",
    "    def solve (self, L, R):\n",
    "        ans=0\n",
    "\n",
    "        for i in range(0,63):\n",
    "\n",
    "            for j in range(i+1,63):\n",
    "\n",
    "                for k in range(j+1,63):\n",
    "\n",
    "                    curr=0\n",
    "\n",
    "                    #forming all possible permutations where setbit=1\n",
    "\n",
    "                    curr|=(1<<i)#shifting 1 by i positions and then taking or\n",
    "\n",
    "                    curr|=(1<<j)\n",
    "\n",
    "                    curr|=(1<<k)\n",
    "\n",
    "                    if curr>=L and curr<=R:\n",
    "\n",
    "                        ans+=1\n",
    "\n",
    "        return ans\n",
    "        # code here\n",
    "    def precompute (self):\n",
    "        pass\n",
    "        # code here\n",
    "        "
   ]
  },
  {
   "cell_type": "code",
   "execution_count": null,
   "metadata": {},
   "outputs": [],
   "source": []
  }
 ],
 "metadata": {
  "kernelspec": {
   "display_name": "Python 3",
   "language": "python",
   "name": "python3"
  },
  "language_info": {
   "codemirror_mode": {
    "name": "ipython",
    "version": 3
   },
   "file_extension": ".py",
   "mimetype": "text/x-python",
   "name": "python",
   "nbconvert_exporter": "python",
   "pygments_lexer": "ipython3",
   "version": "3.9.6 (tags/v3.9.6:db3ff76, Jun 28 2021, 15:26:21) [MSC v.1929 64 bit (AMD64)]"
  },
  "orig_nbformat": 4,
  "vscode": {
   "interpreter": {
    "hash": "c0a3c91513ce8330cc510c252bd0d2b8c5edf3f02855cf0373cb264a8e18d0f0"
   }
  }
 },
 "nbformat": 4,
 "nbformat_minor": 2
}
