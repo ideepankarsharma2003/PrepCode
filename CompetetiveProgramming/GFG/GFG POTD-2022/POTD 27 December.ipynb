{
 "cells": [
  {
   "attachments": {},
   "cell_type": "markdown",
   "metadata": {},
   "source": [
    "# **POTD 27 December**\n",
    "## ***[Container With Most Water](https://practice.geeksforgeeks.org/problems/container-with-most-water0535/1)***"
   ]
  },
  {
   "cell_type": "code",
   "execution_count": 2,
   "metadata": {},
   "outputs": [],
   "source": [
    "def maxArea(A,le):\n",
    "    #code here\n",
    "    \"\"\"\n",
    "    # Brute force approch\n",
    "   \n",
    "    for i in range(le):\n",
    "        for j in range(i+1, le):\n",
    "            height = min(arr[i], arr[j])\n",
    "            width = j-i\n",
    "            res = max(res, height*width)\n",
    "            \n",
    "    return res\n",
    "    \"\"\"\n",
    "    \n",
    "    # Optimised Approch\n",
    "    \"\"\"\n",
    "    Step- 1 : Use two pointer approch and maintain res variable\n",
    "    Step- 2 : Calculate Area of container and slide either start or end pointer which has small values\n",
    "    \n",
    "    \"\"\"\n",
    "    \n",
    "    arr= A\n",
    "   \n",
    "    start, end = 0, le-1\n",
    "    res = 0\n",
    "    while start < end:\n",
    "        height = min(arr[start], arr[end])\n",
    "        width = end-start\n",
    "        res = max(res, height*width)\n",
    "        \n",
    "        if arr[start] < arr[end]:\n",
    "            start+=1\n",
    "        else:\n",
    "            end-=1\n",
    "    return res\n",
    "\n"
   ]
  },
  {
   "cell_type": "code",
   "execution_count": null,
   "metadata": {},
   "outputs": [],
   "source": []
  }
 ],
 "metadata": {
  "kernelspec": {
   "display_name": "Python 3",
   "language": "python",
   "name": "python3"
  },
  "language_info": {
   "codemirror_mode": {
    "name": "ipython",
    "version": 3
   },
   "file_extension": ".py",
   "mimetype": "text/x-python",
   "name": "python",
   "nbconvert_exporter": "python",
   "pygments_lexer": "ipython3",
   "version": "3.9.6"
  },
  "orig_nbformat": 4,
  "vscode": {
   "interpreter": {
    "hash": "c0a3c91513ce8330cc510c252bd0d2b8c5edf3f02855cf0373cb264a8e18d0f0"
   }
  }
 },
 "nbformat": 4,
 "nbformat_minor": 2
}
