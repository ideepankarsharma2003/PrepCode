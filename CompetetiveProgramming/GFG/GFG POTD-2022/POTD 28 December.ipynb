{
 "cells": [
  {
   "attachments": {},
   "cell_type": "markdown",
   "metadata": {},
   "source": [
    "# **POTD 28 December**\n",
    "## ***[Largest subtree sum in a tree](https://practice.geeksforgeeks.org/problems/largest-subtree-sum-in-a-tree/1)***"
   ]
  },
  {
   "cell_type": "code",
   "execution_count": null,
   "metadata": {},
   "outputs": [],
   "source": [
    "from typing import Optional\n",
    "from collections import deque\n",
    "\"\"\"\n",
    "\n",
    "definition of binary tree node.\n",
    "class Node:\n",
    "    def _init_(self,val):\n",
    "        self.data = val\n",
    "        self.left = None\n",
    "        self.right = None\n",
    "\"\"\"\n",
    "\n",
    "        \n",
    "class Solution:\n",
    "    def findLargestSubtreeSum(self, root : Optional['Node']) -> int:\n",
    "#         # code here\n",
    "#         ans = -10003\n",
    "#         def walk(n):\n",
    "#             nonlocal ans\n",
    "#             if not n:\n",
    "#                 return 0\n",
    "#             s = n.data + walk(n.left) + walk(n.right)\n",
    "#             ans = max(ans, s)\n",
    "#             return s\n",
    "#         walk(root)\n",
    "#         return ans\n",
    "        \n",
    "        \n",
    "        \n",
    "        # 211 test cases\n",
    "        if root is None:\n",
    "            return 0\n",
    "        return self.findLargestSubtreeSum(root.left)+self.findLargestSubtreeSum(root.right)+root.data\n",
    "        \n",
    "            \n",
    "        # 200 test cases\n",
    "        # def dfs(node, s):\n",
    "        #     if node == None:\n",
    "        #         return 0\n",
    "        #     s= node.data + dfs(node.left, 0)+ dfs(node.right, 0)\n",
    "        #     self.ans = max(self.ans, s)\n",
    "        #     return s\n",
    "        # self.ans = 0\n",
    "        # dfs(root, 0)\n",
    "        # return self.ans\n",
    "        \n",
    "        # 190 test cases\n",
    "        # def dfs(node):\n",
    "        #     if node == None:\n",
    "        #         return 0\n",
    "        #     left_sum = dfs(node.left)\n",
    "        #     right_sum = dfs(node.right)\n",
    "        #     self.ans = max(self.ans,left_sum+right_sum+node.data)\n",
    "        #     return left_sum+right_sum+node.data\n",
    "        # self.ans = -10003\n",
    "        # dfs(root)\n",
    "        # return self.ans\n",
    "        \n"
   ]
  }
 ],
 "metadata": {
  "kernelspec": {
   "display_name": "Python 3",
   "language": "python",
   "name": "python3"
  },
  "language_info": {
   "name": "python",
   "version": "3.9.6 (tags/v3.9.6:db3ff76, Jun 28 2021, 15:26:21) [MSC v.1929 64 bit (AMD64)]"
  },
  "orig_nbformat": 4,
  "vscode": {
   "interpreter": {
    "hash": "c0a3c91513ce8330cc510c252bd0d2b8c5edf3f02855cf0373cb264a8e18d0f0"
   }
  }
 },
 "nbformat": 4,
 "nbformat_minor": 2
}
