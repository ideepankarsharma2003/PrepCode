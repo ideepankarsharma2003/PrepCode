{
 "cells": [
  {
   "attachments": {},
   "cell_type": "markdown",
   "metadata": {},
   "source": [
    "# **POTD 29 December**\n",
    "## ***[Asteroid Collision](https://practice.geeksforgeeks.org/problems/asteroid-collision/1)***"
   ]
  },
  {
   "cell_type": "code",
   "execution_count": 1,
   "metadata": {},
   "outputs": [],
   "source": [
    "#User function Template for python3\n",
    "\n",
    "class Solution:\n",
    "    def asteroidCollision(self, N, asteroids):\n",
    "        # Code here\n",
    "        stack = []\n",
    "\n",
    "        for a in asteroids:\n",
    "\n",
    "            while stack and stack[-1] >= 0 and a < 0: # collision happens\n",
    "\n",
    "                collision = stack[-1] + a # collision result\n",
    "\n",
    "                if collision <= 0: stack.pop() # stack top is destroyed\n",
    "\n",
    "                if collision >= 0: break # new astroid is destroyed or both are destroyed\n",
    "\n",
    "            else:\n",
    "\n",
    "                stack.append(a)\n",
    "\n",
    "        return stack\n",
    "\n",
    "                "
   ]
  },
  {
   "cell_type": "code",
   "execution_count": null,
   "metadata": {},
   "outputs": [],
   "source": []
  }
 ],
 "metadata": {
  "kernelspec": {
   "display_name": "Python 3",
   "language": "python",
   "name": "python3"
  },
  "language_info": {
   "codemirror_mode": {
    "name": "ipython",
    "version": 3
   },
   "file_extension": ".py",
   "mimetype": "text/x-python",
   "name": "python",
   "nbconvert_exporter": "python",
   "pygments_lexer": "ipython3",
   "version": "3.9.6 (tags/v3.9.6:db3ff76, Jun 28 2021, 15:26:21) [MSC v.1929 64 bit (AMD64)]"
  },
  "orig_nbformat": 4,
  "vscode": {
   "interpreter": {
    "hash": "c0a3c91513ce8330cc510c252bd0d2b8c5edf3f02855cf0373cb264a8e18d0f0"
   }
  }
 },
 "nbformat": 4,
 "nbformat_minor": 2
}
