{
 "cells": [
  {
   "attachments": {},
   "cell_type": "markdown",
   "metadata": {},
   "source": [
    "# **POTD 30 December**\n",
    "## ***[Single valued subtree](https://practice.geeksforgeeks.org/courses/complete-interview-preparation)***"
   ]
  },
  {
   "cell_type": "code",
   "execution_count": 1,
   "metadata": {},
   "outputs": [],
   "source": [
    "#User function Template for python3\n",
    "\n",
    "'''\n",
    "class Node:\n",
    "    def __init__(self, val):\n",
    "        self.right = None\n",
    "        self.data = val\n",
    "        self.left = None\n",
    "'''\n",
    "\n",
    "class Solution:\n",
    "    def helper(self, root):\n",
    "        \n",
    "        if not root.left and not root.right:\n",
    "            self.count+=1\n",
    "            return True, root.data\n",
    "        \n",
    "        rflag, rval, lflag, lval = True, root.data, True, root.data\n",
    "        \n",
    "        if root.left: lflag, lval = self.helper(root.left)\n",
    "        if root.right: rflag, rval = self.helper(root.right)\n",
    "\n",
    "        if lflag and rflag and lval==rval and root.data==lval and root.data==rval:\n",
    "            self.count+=1\n",
    "            return True, root.data\n",
    "        return False, root.data\n",
    "\n",
    "\n",
    "    def singlevalued(self, root):\n",
    "        #code here\n",
    "        self.count = 0\n",
    "        self.helper(root)\n",
    "        return self.count\n",
    "\n"
   ]
  },
  {
   "cell_type": "code",
   "execution_count": null,
   "metadata": {},
   "outputs": [],
   "source": []
  }
 ],
 "metadata": {
  "kernelspec": {
   "display_name": "Python 3",
   "language": "python",
   "name": "python3"
  },
  "language_info": {
   "codemirror_mode": {
    "name": "ipython",
    "version": 3
   },
   "file_extension": ".py",
   "mimetype": "text/x-python",
   "name": "python",
   "nbconvert_exporter": "python",
   "pygments_lexer": "ipython3",
   "version": "3.9.6 (tags/v3.9.6:db3ff76, Jun 28 2021, 15:26:21) [MSC v.1929 64 bit (AMD64)]"
  },
  "orig_nbformat": 4,
  "vscode": {
   "interpreter": {
    "hash": "c0a3c91513ce8330cc510c252bd0d2b8c5edf3f02855cf0373cb264a8e18d0f0"
   }
  }
 },
 "nbformat": 4,
 "nbformat_minor": 2
}
