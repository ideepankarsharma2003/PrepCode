{
 "cells": [
  {
   "attachments": {},
   "cell_type": "markdown",
   "metadata": {},
   "source": [
    "# **POTD 30 November**\n",
    "## ***[Reorder List](https://practice.geeksforgeeks.org/problems/reorder-list/1)***"
   ]
  },
  {
   "cell_type": "code",
   "execution_count": 1,
   "metadata": {},
   "outputs": [],
   "source": [
    "class node:\n",
    "    def __init__(self, val):\n",
    "        self.data = val\n",
    "        self.next = None\n",
    "\n",
    "# Linked List Class\n",
    "class Linked_List:\n",
    "    def __init__(self):\n",
    "        self.head = None\n",
    "        self.tail = None\n",
    "\n",
    "\n",
    "#Back-end complete function Template for Python 3\n",
    "class Solution:\n",
    "    \n",
    "    def reorderList(self,head):\n",
    "        arr = []\n",
    "        temp = head\n",
    "        count = 0 # no. of nodes\n",
    "        \n",
    "        while temp is not None:\n",
    "            arr.append(temp.data)\n",
    "            temp=temp.next\n",
    "            count+=1\n",
    "\n",
    "        temp=head\n",
    "        pos = 0\n",
    "        while temp is not None:\n",
    "            temp.data = arr[pos]\n",
    "            if not temp.next: break\n",
    "            temp.next.data  = arr[count-1-pos]\n",
    "            pos+=1\n",
    "            temp = temp.next.next\n",
    "        return head"
   ]
  },
  {
   "cell_type": "code",
   "execution_count": null,
   "metadata": {},
   "outputs": [],
   "source": []
  }
 ],
 "metadata": {
  "kernelspec": {
   "display_name": "Python 3.9.7 64-bit",
   "language": "python",
   "name": "python3"
  },
  "language_info": {
   "codemirror_mode": {
    "name": "ipython",
    "version": 3
   },
   "file_extension": ".py",
   "mimetype": "text/x-python",
   "name": "python",
   "nbconvert_exporter": "python",
   "pygments_lexer": "ipython3",
   "version": "3.9.7"
  },
  "orig_nbformat": 4,
  "vscode": {
   "interpreter": {
    "hash": "2e61b4e68d91170e6a828addbb12c998be56a3b087bfc9988ada4585bf499f3e"
   }
  }
 },
 "nbformat": 4,
 "nbformat_minor": 2
}
