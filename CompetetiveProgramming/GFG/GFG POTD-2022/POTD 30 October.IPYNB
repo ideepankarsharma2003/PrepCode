{
 "cells": [
  {
   "cell_type": "markdown",
   "metadata": {},
   "source": [
    "# **POTD 30 October**\n",
    "## ***[Chicks in a Zoo](https://practice.geeksforgeeks.org/problems/chicks-in-a-zoo1159/1)***"
   ]
  },
  {
   "cell_type": "code",
   "execution_count": 29,
   "metadata": {},
   "outputs": [],
   "source": [
    "def NoOfChicks(N):\n",
    "    x= 1 # day 1 ki murgi\n",
    "    deadchicks= 0\n",
    "\n",
    "\n",
    "    lifespanchicks= N%6\n",
    "    print(f'alivedays= {alivedays}')\n",
    "    # if N>0:\n",
    "    #     N-=1\n",
    "    x= 1\n",
    "    for _ in range(1, N+1):\n",
    "        y= x*2\n",
    "        x+=y\n",
    "    return x- deadchicks"
   ]
  },
  {
   "cell_type": "code",
   "execution_count": 93,
   "metadata": {},
   "outputs": [],
   "source": [
    "def NoOfChicks(N):\n",
    "    poultry = [0]*N\n",
    "    x= 1 # day 1 ki murgi\n",
    "    poultry[0]=x\n",
    "\n",
    "    for i in range(2, N+1):\n",
    "\n",
    "        y= x*2\n",
    "        x+=y\n",
    "        poultry[i-1]= x\n",
    "        print(f'Day {i}: poultry= {poultry}')\n",
    "    if N>6:\n",
    "        return poultry[-1]-poultry[-6]\n",
    "    return poultry[-1]\n",
    "    "
   ]
  },
  {
   "cell_type": "code",
   "execution_count": 94,
   "metadata": {},
   "outputs": [
    {
     "name": "stdout",
     "output_type": "stream",
     "text": [
      "Day 2: poultry= [1, 3, 0, 0, 0, 0, 0]\n",
      "Day 3: poultry= [1, 3, 9, 0, 0, 0, 0]\n",
      "Day 4: poultry= [1, 3, 9, 27, 0, 0, 0]\n",
      "Day 5: poultry= [1, 3, 9, 27, 81, 0, 0]\n",
      "Day 6: poultry= [1, 3, 9, 27, 81, 243, 0]\n",
      "Day 7: poultry= [1, 3, 9, 27, 81, 243, 729]\n"
     ]
    },
    {
     "data": {
      "text/plain": [
       "726"
      ]
     },
     "execution_count": 94,
     "metadata": {},
     "output_type": "execute_result"
    }
   ],
   "source": [
    "NoOfChicks(7)"
   ]
  },
  {
   "cell_type": "code",
   "execution_count": 95,
   "metadata": {},
   "outputs": [
    {
     "name": "stdout",
     "output_type": "stream",
     "text": [
      "Day 2: poultry= [1, 3, 0, 0, 0, 0, 0, 0]\n",
      "Day 3: poultry= [1, 3, 9, 0, 0, 0, 0, 0]\n",
      "Day 4: poultry= [1, 3, 9, 27, 0, 0, 0, 0]\n",
      "Day 5: poultry= [1, 3, 9, 27, 81, 0, 0, 0]\n",
      "Day 6: poultry= [1, 3, 9, 27, 81, 243, 0, 0]\n",
      "Day 7: poultry= [1, 3, 9, 27, 81, 243, 729, 0]\n",
      "Day 8: poultry= [1, 3, 9, 27, 81, 243, 729, 2187]\n"
     ]
    },
    {
     "data": {
      "text/plain": [
       "2178"
      ]
     },
     "execution_count": 95,
     "metadata": {},
     "output_type": "execute_result"
    }
   ],
   "source": [
    "NoOfChicks(8)"
   ]
  },
  {
   "cell_type": "code",
   "execution_count": 47,
   "metadata": {},
   "outputs": [
    {
     "name": "stdout",
     "output_type": "stream",
     "text": [
      "Day 2: poultry= [1, 3, 0]\n",
      "Day 3: poultry= [1, 3, 9]\n"
     ]
    },
    {
     "data": {
      "text/plain": [
       "9"
      ]
     },
     "execution_count": 47,
     "metadata": {},
     "output_type": "execute_result"
    }
   ],
   "source": [
    "NoOfChicks(3)"
   ]
  },
  {
   "cell_type": "code",
   "execution_count": 48,
   "metadata": {},
   "outputs": [
    {
     "name": "stdout",
     "output_type": "stream",
     "text": [
      "Day 2: poultry= [1, 3, 0, 0, 0, 0, 0, 0]\n",
      "Day 3: poultry= [1, 3, 9, 0, 0, 0, 0, 0]\n",
      "Day 4: poultry= [1, 3, 9, 27, 0, 0, 0, 0]\n",
      "Day 5: poultry= [1, 3, 9, 27, 81, 0, 0, 0]\n",
      "Day 6: poultry= [1, 3, 9, 27, 81, 243, 0, 0]\n",
      "Day 7: poultry= [1, 3, 9, 27, 81, 243, 729, 0]\n",
      "Day 8: poultry= [1, 3, 9, 27, 81, 243, 729, 2187]\n"
     ]
    },
    {
     "data": {
      "text/plain": [
       "2178"
      ]
     },
     "execution_count": 48,
     "metadata": {},
     "output_type": "execute_result"
    }
   ],
   "source": [
    "NoOfChicks(8)"
   ]
  },
  {
   "cell_type": "code",
   "execution_count": 103,
   "metadata": {},
   "outputs": [],
   "source": [
    "def NoOfChicks(N):\n",
    "    poultry = [0]*N\n",
    "    x= 1 # day 1 ki murgi\n",
    "    poultry[0]=x\n",
    "\n",
    "    for i in range(2, N+1):\n",
    "        if i>6:\n",
    "            x-=poultry[i-7]\n",
    "        print(f'Day {i}')\n",
    "        print(f'alivechicks= {x}', end='  ')\n",
    "        y= x*2\n",
    "        x+=y\n",
    "        poultry[i-1]= x\n",
    "        print(f', Total {poultry[i-1]} chicks   ----> poultry= {poultry}\\n')\n",
    "    return poultry[-1]\n",
    "    "
   ]
  },
  {
   "cell_type": "code",
   "execution_count": 104,
   "metadata": {},
   "outputs": [
    {
     "name": "stdout",
     "output_type": "stream",
     "text": [
      "Day 2\n",
      "alivechicks= 1  , Total 3 chicks   ----> poultry= [1, 3, 0, 0, 0, 0, 0]\n",
      "\n",
      "Day 3\n",
      "alivechicks= 3  , Total 9 chicks   ----> poultry= [1, 3, 9, 0, 0, 0, 0]\n",
      "\n",
      "Day 4\n",
      "alivechicks= 9  , Total 27 chicks   ----> poultry= [1, 3, 9, 27, 0, 0, 0]\n",
      "\n",
      "Day 5\n",
      "alivechicks= 27  , Total 81 chicks   ----> poultry= [1, 3, 9, 27, 81, 0, 0]\n",
      "\n",
      "Day 6\n",
      "alivechicks= 81  , Total 243 chicks   ----> poultry= [1, 3, 9, 27, 81, 243, 0]\n",
      "\n",
      "Day 7\n",
      "alivechicks= 242  , Total 726 chicks   ----> poultry= [1, 3, 9, 27, 81, 243, 726]\n",
      "\n"
     ]
    },
    {
     "data": {
      "text/plain": [
       "726"
      ]
     },
     "execution_count": 104,
     "metadata": {},
     "output_type": "execute_result"
    }
   ],
   "source": [
    "NoOfChicks(7)"
   ]
  },
  {
   "cell_type": "code",
   "execution_count": 105,
   "metadata": {},
   "outputs": [
    {
     "name": "stdout",
     "output_type": "stream",
     "text": [
      "Day 2\n",
      "alivechicks= 1  , Total 3 chicks   ----> poultry= [1, 3, 0, 0, 0, 0, 0, 0]\n",
      "\n",
      "Day 3\n",
      "alivechicks= 3  , Total 9 chicks   ----> poultry= [1, 3, 9, 0, 0, 0, 0, 0]\n",
      "\n",
      "Day 4\n",
      "alivechicks= 9  , Total 27 chicks   ----> poultry= [1, 3, 9, 27, 0, 0, 0, 0]\n",
      "\n",
      "Day 5\n",
      "alivechicks= 27  , Total 81 chicks   ----> poultry= [1, 3, 9, 27, 81, 0, 0, 0]\n",
      "\n",
      "Day 6\n",
      "alivechicks= 81  , Total 243 chicks   ----> poultry= [1, 3, 9, 27, 81, 243, 0, 0]\n",
      "\n",
      "Day 7\n",
      "alivechicks= 242  , Total 726 chicks   ----> poultry= [1, 3, 9, 27, 81, 243, 726, 0]\n",
      "\n",
      "Day 8\n",
      "alivechicks= 723  , Total 2169 chicks   ----> poultry= [1, 3, 9, 27, 81, 243, 726, 2169]\n",
      "\n"
     ]
    },
    {
     "data": {
      "text/plain": [
       "2169"
      ]
     },
     "execution_count": 105,
     "metadata": {},
     "output_type": "execute_result"
    }
   ],
   "source": [
    "NoOfChicks(8)"
   ]
  },
  {
   "cell_type": "code",
   "execution_count": 1,
   "metadata": {},
   "outputs": [],
   "source": [
    "def NoOfChicks(N):\n",
    "    poultry = [0]*(N+1)\n",
    "    x= 1 # day 1 ki murgi\n",
    "    poultry[1]=x\n",
    "\n",
    "    for i in range(2, N+1):\n",
    "        print(f'Day {i}')\n",
    "        if i>6:\n",
    "            diff=(poultry[i-6]-(poultry[i-7]))\n",
    "            x-=diff\n",
    "            print(f'diff= {diff}')\n",
    "        print(f'alivechicks= {x}', end='  ')\n",
    "        y= x*2\n",
    "        x+=y\n",
    "        poultry[i]= x\n",
    "        print(f', Total {poultry[i]} chicks   ----> poultry= {poultry}\\n')\n",
    "    return poultry[-1]\n",
    "    "
   ]
  },
  {
   "cell_type": "code",
   "execution_count": 139,
   "metadata": {},
   "outputs": [
    {
     "name": "stdout",
     "output_type": "stream",
     "text": [
      "Day 2\n",
      "alivechicks= 1  , Total 3 chicks   ----> poultry= [0, 1, 3, 0, 0, 0, 0, 0]\n",
      "\n",
      "Day 3\n",
      "alivechicks= 3  , Total 9 chicks   ----> poultry= [0, 1, 3, 9, 0, 0, 0, 0]\n",
      "\n",
      "Day 4\n",
      "alivechicks= 9  , Total 27 chicks   ----> poultry= [0, 1, 3, 9, 27, 0, 0, 0]\n",
      "\n",
      "Day 5\n",
      "alivechicks= 27  , Total 81 chicks   ----> poultry= [0, 1, 3, 9, 27, 81, 0, 0]\n",
      "\n",
      "Day 6\n",
      "alivechicks= 81  , Total 243 chicks   ----> poultry= [0, 1, 3, 9, 27, 81, 243, 0]\n",
      "\n",
      "Day 7\n",
      "diff= 1\n",
      "alivechicks= 242  , Total 726 chicks   ----> poultry= [0, 1, 3, 9, 27, 81, 243, 726]\n",
      "\n"
     ]
    },
    {
     "data": {
      "text/plain": [
       "726"
      ]
     },
     "execution_count": 139,
     "metadata": {},
     "output_type": "execute_result"
    }
   ],
   "source": [
    "NoOfChicks(7)"
   ]
  },
  {
   "cell_type": "code",
   "execution_count": 140,
   "metadata": {},
   "outputs": [
    {
     "name": "stdout",
     "output_type": "stream",
     "text": [
      "Day 2\n",
      "alivechicks= 1  , Total 3 chicks   ----> poultry= [0, 1, 3, 0, 0, 0, 0, 0, 0]\n",
      "\n",
      "Day 3\n",
      "alivechicks= 3  , Total 9 chicks   ----> poultry= [0, 1, 3, 9, 0, 0, 0, 0, 0]\n",
      "\n",
      "Day 4\n",
      "alivechicks= 9  , Total 27 chicks   ----> poultry= [0, 1, 3, 9, 27, 0, 0, 0, 0]\n",
      "\n",
      "Day 5\n",
      "alivechicks= 27  , Total 81 chicks   ----> poultry= [0, 1, 3, 9, 27, 81, 0, 0, 0]\n",
      "\n",
      "Day 6\n",
      "alivechicks= 81  , Total 243 chicks   ----> poultry= [0, 1, 3, 9, 27, 81, 243, 0, 0]\n",
      "\n",
      "Day 7\n",
      "diff= 1\n",
      "alivechicks= 242  , Total 726 chicks   ----> poultry= [0, 1, 3, 9, 27, 81, 243, 726, 0]\n",
      "\n",
      "Day 8\n",
      "diff= 2\n",
      "alivechicks= 724  , Total 2172 chicks   ----> poultry= [0, 1, 3, 9, 27, 81, 243, 726, 2172]\n",
      "\n"
     ]
    },
    {
     "data": {
      "text/plain": [
       "2172"
      ]
     },
     "execution_count": 140,
     "metadata": {},
     "output_type": "execute_result"
    }
   ],
   "source": [
    "NoOfChicks(8)"
   ]
  },
  {
   "cell_type": "code",
   "execution_count": 2,
   "metadata": {},
   "outputs": [
    {
     "name": "stdout",
     "output_type": "stream",
     "text": [
      "Day 2\n",
      "alivechicks= 1  , Total 3 chicks   ----> poultry= [0, 1, 3, 0, 0, 0, 0, 0, 0, 0]\n",
      "\n",
      "Day 3\n",
      "alivechicks= 3  , Total 9 chicks   ----> poultry= [0, 1, 3, 9, 0, 0, 0, 0, 0, 0]\n",
      "\n",
      "Day 4\n",
      "alivechicks= 9  , Total 27 chicks   ----> poultry= [0, 1, 3, 9, 27, 0, 0, 0, 0, 0]\n",
      "\n",
      "Day 5\n",
      "alivechicks= 27  , Total 81 chicks   ----> poultry= [0, 1, 3, 9, 27, 81, 0, 0, 0, 0]\n",
      "\n",
      "Day 6\n",
      "alivechicks= 81  , Total 243 chicks   ----> poultry= [0, 1, 3, 9, 27, 81, 243, 0, 0, 0]\n",
      "\n",
      "Day 7\n",
      "diff= 1\n",
      "alivechicks= 242  , Total 726 chicks   ----> poultry= [0, 1, 3, 9, 27, 81, 243, 726, 0, 0]\n",
      "\n",
      "Day 8\n",
      "diff= 2\n",
      "alivechicks= 724  , Total 2172 chicks   ----> poultry= [0, 1, 3, 9, 27, 81, 243, 726, 2172, 0]\n",
      "\n",
      "Day 9\n",
      "diff= 6\n",
      "alivechicks= 2166  , Total 6498 chicks   ----> poultry= [0, 1, 3, 9, 27, 81, 243, 726, 2172, 6498]\n",
      "\n"
     ]
    },
    {
     "data": {
      "text/plain": [
       "6498"
      ]
     },
     "execution_count": 2,
     "metadata": {},
     "output_type": "execute_result"
    }
   ],
   "source": [
    "NoOfChicks(9)"
   ]
  },
  {
   "cell_type": "code",
   "execution_count": 4,
   "metadata": {},
   "outputs": [
    {
     "name": "stdout",
     "output_type": "stream",
     "text": [
      "Day 2\n",
      "alivechicks= 1  , Total 3 chicks   ----> poultry= [0, 1, 3, 0, 0, 0, 0, 0, 0, 0, 0, 0, 0, 0]\n",
      "\n",
      "Day 3\n",
      "alivechicks= 3  , Total 9 chicks   ----> poultry= [0, 1, 3, 9, 0, 0, 0, 0, 0, 0, 0, 0, 0, 0]\n",
      "\n",
      "Day 4\n",
      "alivechicks= 9  , Total 27 chicks   ----> poultry= [0, 1, 3, 9, 27, 0, 0, 0, 0, 0, 0, 0, 0, 0]\n",
      "\n",
      "Day 5\n",
      "alivechicks= 27  , Total 81 chicks   ----> poultry= [0, 1, 3, 9, 27, 81, 0, 0, 0, 0, 0, 0, 0, 0]\n",
      "\n",
      "Day 6\n",
      "alivechicks= 81  , Total 243 chicks   ----> poultry= [0, 1, 3, 9, 27, 81, 243, 0, 0, 0, 0, 0, 0, 0]\n",
      "\n",
      "Day 7\n",
      "diff= 1\n",
      "alivechicks= 242  , Total 726 chicks   ----> poultry= [0, 1, 3, 9, 27, 81, 243, 726, 0, 0, 0, 0, 0, 0]\n",
      "\n",
      "Day 8\n",
      "diff= 2\n",
      "alivechicks= 724  , Total 2172 chicks   ----> poultry= [0, 1, 3, 9, 27, 81, 243, 726, 2172, 0, 0, 0, 0, 0]\n",
      "\n",
      "Day 9\n",
      "diff= 6\n",
      "alivechicks= 2166  , Total 6498 chicks   ----> poultry= [0, 1, 3, 9, 27, 81, 243, 726, 2172, 6498, 0, 0, 0, 0]\n",
      "\n",
      "Day 10\n",
      "diff= 18\n",
      "alivechicks= 6480  , Total 19440 chicks   ----> poultry= [0, 1, 3, 9, 27, 81, 243, 726, 2172, 6498, 19440, 0, 0, 0]\n",
      "\n",
      "Day 11\n",
      "diff= 54\n",
      "alivechicks= 19386  , Total 58158 chicks   ----> poultry= [0, 1, 3, 9, 27, 81, 243, 726, 2172, 6498, 19440, 58158, 0, 0]\n",
      "\n",
      "Day 12\n",
      "diff= 162\n",
      "alivechicks= 57996  , Total 173988 chicks   ----> poultry= [0, 1, 3, 9, 27, 81, 243, 726, 2172, 6498, 19440, 58158, 173988, 0]\n",
      "\n",
      "Day 13\n",
      "diff= 483\n",
      "alivechicks= 173505  , Total 520515 chicks   ----> poultry= [0, 1, 3, 9, 27, 81, 243, 726, 2172, 6498, 19440, 58158, 173988, 520515]\n",
      "\n"
     ]
    },
    {
     "data": {
      "text/plain": [
       "520515"
      ]
     },
     "execution_count": 4,
     "metadata": {},
     "output_type": "execute_result"
    }
   ],
   "source": [
    "NoOfChicks(13)"
   ]
  },
  {
   "cell_type": "code",
   "execution_count": 5,
   "metadata": {},
   "outputs": [],
   "source": [
    "def NoOfChicks(N):\n",
    "    poultry = [0]*(N+1)\n",
    "    born = [0]*(N+1)\n",
    "\n",
    "    x= 1 # day 1 ki murgi\n",
    "    poultry[1]=x\n",
    "    born[1]=x\n",
    "\n",
    "    for i in range(2, N+1):\n",
    "        print(f'Day {i}')\n",
    "\n",
    "        x= poultry[i-1]\n",
    "        \n",
    "\n",
    "        if i>6:\n",
    "            x-=born[i-6]\n",
    "\n",
    "        print(f'alivechicks= {x}')\n",
    "        born[i]= x*2\n",
    "        poultry[i]= x+ born[i]\n",
    "\n",
    "        print(f'    Born {born[i]} chicks   ----> born= {born}')\n",
    "        print(f'    Total {poultry[i]} chicks   ----> poultry= {poultry}\\n')\n",
    "    return poultry[-1]\n",
    "    "
   ]
  },
  {
   "cell_type": "code",
   "execution_count": 6,
   "metadata": {},
   "outputs": [
    {
     "name": "stdout",
     "output_type": "stream",
     "text": [
      "Day 2\n",
      "alivechicks= 1\n",
      "    Born 2 chicks   ----> born= [0, 1, 2, 0, 0, 0, 0, 0]\n",
      "    Total 3 chicks   ----> poultry= [0, 1, 3, 0, 0, 0, 0, 0]\n",
      "\n",
      "Day 3\n",
      "alivechicks= 3\n",
      "    Born 6 chicks   ----> born= [0, 1, 2, 6, 0, 0, 0, 0]\n",
      "    Total 9 chicks   ----> poultry= [0, 1, 3, 9, 0, 0, 0, 0]\n",
      "\n",
      "Day 4\n",
      "alivechicks= 9\n",
      "    Born 18 chicks   ----> born= [0, 1, 2, 6, 18, 0, 0, 0]\n",
      "    Total 27 chicks   ----> poultry= [0, 1, 3, 9, 27, 0, 0, 0]\n",
      "\n",
      "Day 5\n",
      "alivechicks= 27\n",
      "    Born 54 chicks   ----> born= [0, 1, 2, 6, 18, 54, 0, 0]\n",
      "    Total 81 chicks   ----> poultry= [0, 1, 3, 9, 27, 81, 0, 0]\n",
      "\n",
      "Day 6\n",
      "alivechicks= 81\n",
      "    Born 162 chicks   ----> born= [0, 1, 2, 6, 18, 54, 162, 0]\n",
      "    Total 243 chicks   ----> poultry= [0, 1, 3, 9, 27, 81, 243, 0]\n",
      "\n",
      "Day 7\n",
      "alivechicks= 242\n",
      "    Born 484 chicks   ----> born= [0, 1, 2, 6, 18, 54, 162, 484]\n",
      "    Total 726 chicks   ----> poultry= [0, 1, 3, 9, 27, 81, 243, 726]\n",
      "\n"
     ]
    },
    {
     "data": {
      "text/plain": [
       "726"
      ]
     },
     "execution_count": 6,
     "metadata": {},
     "output_type": "execute_result"
    }
   ],
   "source": [
    "NoOfChicks(7)"
   ]
  },
  {
   "cell_type": "code",
   "execution_count": 7,
   "metadata": {},
   "outputs": [
    {
     "name": "stdout",
     "output_type": "stream",
     "text": [
      "Day 2\n",
      "alivechicks= 1\n",
      "    Born 2 chicks   ----> born= [0, 1, 2, 0, 0, 0, 0, 0, 0, 0, 0, 0, 0, 0]\n",
      "    Total 3 chicks   ----> poultry= [0, 1, 3, 0, 0, 0, 0, 0, 0, 0, 0, 0, 0, 0]\n",
      "\n",
      "Day 3\n",
      "alivechicks= 3\n",
      "    Born 6 chicks   ----> born= [0, 1, 2, 6, 0, 0, 0, 0, 0, 0, 0, 0, 0, 0]\n",
      "    Total 9 chicks   ----> poultry= [0, 1, 3, 9, 0, 0, 0, 0, 0, 0, 0, 0, 0, 0]\n",
      "\n",
      "Day 4\n",
      "alivechicks= 9\n",
      "    Born 18 chicks   ----> born= [0, 1, 2, 6, 18, 0, 0, 0, 0, 0, 0, 0, 0, 0]\n",
      "    Total 27 chicks   ----> poultry= [0, 1, 3, 9, 27, 0, 0, 0, 0, 0, 0, 0, 0, 0]\n",
      "\n",
      "Day 5\n",
      "alivechicks= 27\n",
      "    Born 54 chicks   ----> born= [0, 1, 2, 6, 18, 54, 0, 0, 0, 0, 0, 0, 0, 0]\n",
      "    Total 81 chicks   ----> poultry= [0, 1, 3, 9, 27, 81, 0, 0, 0, 0, 0, 0, 0, 0]\n",
      "\n",
      "Day 6\n",
      "alivechicks= 81\n",
      "    Born 162 chicks   ----> born= [0, 1, 2, 6, 18, 54, 162, 0, 0, 0, 0, 0, 0, 0]\n",
      "    Total 243 chicks   ----> poultry= [0, 1, 3, 9, 27, 81, 243, 0, 0, 0, 0, 0, 0, 0]\n",
      "\n",
      "Day 7\n",
      "alivechicks= 242\n",
      "    Born 484 chicks   ----> born= [0, 1, 2, 6, 18, 54, 162, 484, 0, 0, 0, 0, 0, 0]\n",
      "    Total 726 chicks   ----> poultry= [0, 1, 3, 9, 27, 81, 243, 726, 0, 0, 0, 0, 0, 0]\n",
      "\n",
      "Day 8\n",
      "alivechicks= 724\n",
      "    Born 1448 chicks   ----> born= [0, 1, 2, 6, 18, 54, 162, 484, 1448, 0, 0, 0, 0, 0]\n",
      "    Total 2172 chicks   ----> poultry= [0, 1, 3, 9, 27, 81, 243, 726, 2172, 0, 0, 0, 0, 0]\n",
      "\n",
      "Day 9\n",
      "alivechicks= 2166\n",
      "    Born 4332 chicks   ----> born= [0, 1, 2, 6, 18, 54, 162, 484, 1448, 4332, 0, 0, 0, 0]\n",
      "    Total 6498 chicks   ----> poultry= [0, 1, 3, 9, 27, 81, 243, 726, 2172, 6498, 0, 0, 0, 0]\n",
      "\n",
      "Day 10\n",
      "alivechicks= 6480\n",
      "    Born 12960 chicks   ----> born= [0, 1, 2, 6, 18, 54, 162, 484, 1448, 4332, 12960, 0, 0, 0]\n",
      "    Total 19440 chicks   ----> poultry= [0, 1, 3, 9, 27, 81, 243, 726, 2172, 6498, 19440, 0, 0, 0]\n",
      "\n",
      "Day 11\n",
      "alivechicks= 19386\n",
      "    Born 38772 chicks   ----> born= [0, 1, 2, 6, 18, 54, 162, 484, 1448, 4332, 12960, 38772, 0, 0]\n",
      "    Total 58158 chicks   ----> poultry= [0, 1, 3, 9, 27, 81, 243, 726, 2172, 6498, 19440, 58158, 0, 0]\n",
      "\n",
      "Day 12\n",
      "alivechicks= 57996\n",
      "    Born 115992 chicks   ----> born= [0, 1, 2, 6, 18, 54, 162, 484, 1448, 4332, 12960, 38772, 115992, 0]\n",
      "    Total 173988 chicks   ----> poultry= [0, 1, 3, 9, 27, 81, 243, 726, 2172, 6498, 19440, 58158, 173988, 0]\n",
      "\n",
      "Day 13\n",
      "alivechicks= 173504\n",
      "    Born 347008 chicks   ----> born= [0, 1, 2, 6, 18, 54, 162, 484, 1448, 4332, 12960, 38772, 115992, 347008]\n",
      "    Total 520512 chicks   ----> poultry= [0, 1, 3, 9, 27, 81, 243, 726, 2172, 6498, 19440, 58158, 173988, 520512]\n",
      "\n"
     ]
    },
    {
     "data": {
      "text/plain": [
       "520512"
      ]
     },
     "execution_count": 7,
     "metadata": {},
     "output_type": "execute_result"
    }
   ],
   "source": [
    "NoOfChicks(13)"
   ]
  },
  {
   "cell_type": "code",
   "execution_count": 8,
   "metadata": {},
   "outputs": [],
   "source": [
    "#User function Template for python3\n",
    "\n",
    "class Solution:\n",
    "\t# def NoOfChicks(self, N):\n",
    "\t# \t# Code here\n",
    "\t# \tx= 1\n",
    "\t# \tfor _ in range(N-1):\n",
    "\t\t    \n",
    "\t# \t    y= x*2\n",
    "\t# \t    x+=y\n",
    "\t# \t  #  N-=1\n",
    "\t# \treturn x\n",
    "    def NoOfChicks(self, N):\n",
    "        poultry = [0]*(N+1)\n",
    "        born = [0]*(N+1)\n",
    "    \n",
    "        x= 1 # day 1 ki murgi\n",
    "        poultry[1]=x\n",
    "        born[1]=x\n",
    "    \n",
    "        for i in range(2, N+1):\n",
    "            # print(f'Day {i}')\n",
    "    \n",
    "            x= poultry[i-1]\n",
    "            \n",
    "    \n",
    "            if i>6:\n",
    "                x-=born[i-6]\n",
    "    \n",
    "            # print(f'alivechicks= {x}')\n",
    "            born[i]= x*2\n",
    "            poultry[i]= x+ born[i]\n",
    "    \n",
    "            # print(f'    Born {born[i]} chicks   ----> born= {born}')\n",
    "            # print(f'    Total {poultry[i]} chicks   ----> poultry= {poultry}\\n')\n",
    "        return poultry[-1]\n",
    "    \n",
    "        \n"
   ]
  }
 ],
 "metadata": {
  "kernelspec": {
   "display_name": "Python 3.9.7 64-bit",
   "language": "python",
   "name": "python3"
  },
  "language_info": {
   "codemirror_mode": {
    "name": "ipython",
    "version": 3
   },
   "file_extension": ".py",
   "mimetype": "text/x-python",
   "name": "python",
   "nbconvert_exporter": "python",
   "pygments_lexer": "ipython3",
   "version": "3.9.7"
  },
  "orig_nbformat": 4,
  "vscode": {
   "interpreter": {
    "hash": "2e61b4e68d91170e6a828addbb12c998be56a3b087bfc9988ada4585bf499f3e"
   }
  }
 },
 "nbformat": 4,
 "nbformat_minor": 2
}
