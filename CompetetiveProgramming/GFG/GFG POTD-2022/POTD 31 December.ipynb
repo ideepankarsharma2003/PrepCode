{
 "cells": [
  {
   "attachments": {},
   "cell_type": "markdown",
   "metadata": {},
   "source": [
    "# **POTD 31 December**\n",
    "## ***[Find minimum number of Laptops required](https://practice.geeksforgeeks.org/courses/complete-interview-preparation)***"
   ]
  },
  {
   "cell_type": "code",
   "execution_count": null,
   "metadata": {},
   "outputs": [],
   "source": [
    "#User function Template for python3\n",
    "import heapq\n",
    "\n",
    "class Solution: \n",
    "    def minLaptops(self, N, start, end):\n",
    "        # Code here\n",
    "        ans = 0\n",
    "        heap = []\n",
    "        for s, e in sorted(zip(start, end)):\n",
    "            while heap and heap[0] <= s:\n",
    "                heapq.heappop(heap)\n",
    "            heapq.heappush(heap, e)\n",
    "            ans = max(ans, len(heap))\n",
    "        return ans"
   ]
  }
 ],
 "metadata": {
  "kernelspec": {
   "display_name": "Python 3",
   "language": "python",
   "name": "python3"
  },
  "language_info": {
   "name": "python",
   "version": "3.9.6 (tags/v3.9.6:db3ff76, Jun 28 2021, 15:26:21) [MSC v.1929 64 bit (AMD64)]"
  },
  "orig_nbformat": 4,
  "vscode": {
   "interpreter": {
    "hash": "c0a3c91513ce8330cc510c252bd0d2b8c5edf3f02855cf0373cb264a8e18d0f0"
   }
  }
 },
 "nbformat": 4,
 "nbformat_minor": 2
}
