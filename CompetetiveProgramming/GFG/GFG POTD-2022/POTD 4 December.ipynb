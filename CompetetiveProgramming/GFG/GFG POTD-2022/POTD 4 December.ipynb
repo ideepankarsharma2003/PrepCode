{
 "cells": [
  {
   "attachments": {},
   "cell_type": "markdown",
   "metadata": {},
   "source": [
    "# **POTD 4 December**\n",
    "## ***[Alternate Vowel and Consonant String](https://practice.geeksforgeeks.org/problems/alternate-vowel-and-consonant-string2939/1)***"
   ]
  },
  {
   "cell_type": "code",
   "execution_count": 1,
   "metadata": {},
   "outputs": [],
   "source": [
    "class Solution:\n",
    "    def rearrange(self, S, N):\n",
    "        # code here\n",
    "        vowels= ['a', 'e', 'i', 'o', 'u']\n",
    "        vs= []\n",
    "        cs= []\n",
    "        for i in S:\n",
    "            if i in vowels:\n",
    "                vs.append(i)\n",
    "            else:\n",
    "                cs.append(i)\n",
    "        vs.sort()\n",
    "        cs.sort()\n",
    "        idx=1\n",
    "        \n",
    "        if vs[0]<cs[0]:\n",
    "            if len(vs)-len(cs) not in [0, 1]:\n",
    "                return '-1'\n",
    "            for i in cs:\n",
    "                vs.insert(idx, i)\n",
    "                idx+=2\n",
    "        else:\n",
    "            if len(cs)-len(vs) not in [0, 1]:\n",
    "                return '-1'\n",
    "            idx=0\n",
    "            for i in cs:\n",
    "                vs.insert(idx, i)\n",
    "                idx+=2\n",
    "                \n",
    "        return ''.join(vs)"
   ]
  },
  {
   "cell_type": "code",
   "execution_count": null,
   "metadata": {},
   "outputs": [],
   "source": [
    "class Solution:\n",
    "  def rearrange(self, S, N):\n",
    "        # code here\n",
    "        if N == 1:\n",
    "            return S\n",
    "            \n",
    "        chars = [0] * 26\n",
    "        for ch in S:\n",
    "            chars[ord(ch) - 97] += 1\n",
    "        vowels = sum([chars[0], chars[4], chars[8], chars[14], chars[20]])\n",
    "        if abs(2 * vowels - sum(chars)) > 1:\n",
    "            #print(vowels, sum(chars))\n",
    "            return -1\n",
    "        vowels_string = \"\"\n",
    "        consonent_string = \"\"\n",
    "        for i in range(26):\n",
    "            if i in [0, 4, 8, 14, 20]:\n",
    "                vowels_string += chr(97+i) * chars[i]\n",
    "            else:\n",
    "                consonent_string += chr(97+i) * chars[i]\n",
    "        \n",
    "        if (vowels_string[0] < consonent_string[0]) and (len(vowels_string) >= len(consonent_string)):\n",
    "            str1 = vowels_string\n",
    "            str2 = consonent_string\n",
    "        else:\n",
    "            str2 = vowels_string\n",
    "            str1 = consonent_string\n",
    "        res = \"\"\n",
    "        for i in range(len(str2)):\n",
    "            res += str1[i] + str2[i]\n",
    "        if i < len(str1)-1:\n",
    "            res += str1[-1]\n",
    "        return res"
   ]
  }
 ],
 "metadata": {
  "kernelspec": {
   "display_name": "Python 3.9.6 64-bit",
   "language": "python",
   "name": "python3"
  },
  "language_info": {
   "codemirror_mode": {
    "name": "ipython",
    "version": 3
   },
   "file_extension": ".py",
   "mimetype": "text/x-python",
   "name": "python",
   "nbconvert_exporter": "python",
   "pygments_lexer": "ipython3",
   "version": "3.9.6"
  },
  "orig_nbformat": 4,
  "vscode": {
   "interpreter": {
    "hash": "c0a3c91513ce8330cc510c252bd0d2b8c5edf3f02855cf0373cb264a8e18d0f0"
   }
  }
 },
 "nbformat": 4,
 "nbformat_minor": 2
}
