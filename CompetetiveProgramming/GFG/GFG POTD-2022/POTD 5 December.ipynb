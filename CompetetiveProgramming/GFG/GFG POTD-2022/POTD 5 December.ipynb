{
 "cells": [
  {
   "attachments": {},
   "cell_type": "markdown",
   "metadata": {},
   "source": [
    "# **POTD 5 December**\n",
    "## ***[Shortest Path by Removing K walls](https://practice.geeksforgeeks.org/problems/shortest-path-by-removing-k-walls/1)***"
   ]
  },
  {
   "cell_type": "code",
   "execution_count": 1,
   "metadata": {},
   "outputs": [],
   "source": [
    "from collections import deque\n",
    "class Solution:\n",
    "    def shotestPath(self, grid, n, m, k):\n",
    "        # code here \n",
    "        if len(grid) == 1 and len(grid[0]) == 1:\n",
    "            return 0\n",
    "        q = deque([(0,0,k,0)])\n",
    "        visited = set([(0,0,k)])\n",
    "        \n",
    "        if (len(grid)-1) + (len(grid[0])-1) < k:\n",
    "            return (len(grid)-1) + (len(grid[0])-1)\n",
    "        \n",
    "        while q:\n",
    "            r, c, e, steps = q.popleft()\n",
    "            for new_r,new_c in [(r-1,c), (r+1,c), (r,c-1), (r,c+1)]:\n",
    "                if (new_r >= 0 and\n",
    "                    new_r < len(grid) and \n",
    "                    new_c >= 0 and\n",
    "                    new_c < len(grid[0])):\n",
    "                    if grid[new_r][new_c] == 1 and e > 0 and (new_r,new_c,e-1) not in visited:\n",
    "                        visited.add((new_r,new_c,e-1))\n",
    "                        q.append((new_r,new_c,e-1,steps+1))\n",
    "                    if grid[new_r][new_c] == 0 and (new_r,new_c,e) not in visited:\n",
    "                        if new_r == len(grid) - 1 and new_c == len(grid[0]) - 1:\n",
    "                            return steps + 1\n",
    "                        visited.add((new_r,new_c,e))\n",
    "                        q.append((new_r,new_c,e,steps+1))\n",
    "        return -1"
   ]
  },
  {
   "cell_type": "code",
   "execution_count": null,
   "metadata": {},
   "outputs": [],
   "source": []
  }
 ],
 "metadata": {
  "kernelspec": {
   "display_name": "Python 3.9.6 64-bit",
   "language": "python",
   "name": "python3"
  },
  "language_info": {
   "codemirror_mode": {
    "name": "ipython",
    "version": 3
   },
   "file_extension": ".py",
   "mimetype": "text/x-python",
   "name": "python",
   "nbconvert_exporter": "python",
   "pygments_lexer": "ipython3",
   "version": "3.9.6"
  },
  "orig_nbformat": 4,
  "vscode": {
   "interpreter": {
    "hash": "c0a3c91513ce8330cc510c252bd0d2b8c5edf3f02855cf0373cb264a8e18d0f0"
   }
  }
 },
 "nbformat": 4,
 "nbformat_minor": 2
}
