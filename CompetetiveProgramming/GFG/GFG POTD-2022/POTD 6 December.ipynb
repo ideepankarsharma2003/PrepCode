{
 "cells": [
  {
   "attachments": {},
   "cell_type": "markdown",
   "metadata": {},
   "source": [
    "# **POTD 6 December**\n",
    "## ***[Distance of nearest cell having 1](https://practice.geeksforgeeks.org/problems/distance-of-nearest-cell-having-1-1587115620/1)***"
   ]
  },
  {
   "cell_type": "code",
   "execution_count": 3,
   "metadata": {},
   "outputs": [],
   "source": [
    "from collections import deque\n",
    "from collections import namedtuple\n",
    "class Solution:\n",
    "\n",
    "    #Function to find distance of nearest 1 in the grid for each cell.\n",
    "    def nearest(self, grid):\n",
    "        #Code here\n",
    "        rows = len(grid)\n",
    "        cols = len(grid[0])\n",
    "\n",
    "        # Default all nodes to as unreachable   \n",
    "        distance = [[float(\"inf\") for _ in range(cols)] for _ in range(rows)]\n",
    "\n",
    "        DistMetric = namedtuple(\"DistanceMetrics\", \"i j distance\")\n",
    "        nodes_to_explore = deque()\n",
    "\n",
    "        for i in range(rows):\n",
    "            for j in range(cols):\n",
    "                if grid[i][j] == 1:\n",
    "                    distance[i][j] = 0\n",
    "                    nodes_to_explore.append(DistMetric(i, j, 0))\n",
    "        # right down left up\n",
    "        displacements = [[0, 1], [1, 0], [0, -1], [-1, 0]]\n",
    "\n",
    "        while nodes_to_explore:\n",
    "            dist = nodes_to_explore.popleft()\n",
    "            # i, j, cur_dist = dist\n",
    "            cur_i, cur_j, cur_dist = dist.i, dist.j, dist.distance\n",
    "\n",
    "        for displacement in displacements:\n",
    "            next_i, next_j = cur_i + displacement[0],  cur_j + displacement[1]\n",
    "            # Add for exploration only if the i, j is valid and we can get a better distance\n",
    "            if next_i >= 0 and next_i < rows and next_j >= 0 and next_j < cols:\n",
    "                if distance[next_i][next_j] != 0 and distance[next_i][next_j] > cur_dist + 1:\n",
    "                    distance[next_i][next_j] = cur_dist + 1 \n",
    "                    nodes_to_explore.append(DistMetric(next_i, next_j, cur_dist+1))\n",
    "\n",
    "        return distance\n",
    "\n",
    "\n",
    "s= Solution()"
   ]
  },
  {
   "cell_type": "code",
   "execution_count": 6,
   "metadata": {},
   "outputs": [
    {
     "data": {
      "text/plain": [
       "[[inf, 0, 0, inf], [0, 0, inf, 1], [inf, inf, 0, 0]]"
      ]
     },
     "execution_count": 6,
     "metadata": {},
     "output_type": "execute_result"
    }
   ],
   "source": [
    "grid = [[0,1,1,0],[1,1,0,0],[0,0,1,1]]\n",
    "s.nearest(grid)"
   ]
  }
 ],
 "metadata": {
  "kernelspec": {
   "display_name": "Python 3.9.6 64-bit",
   "language": "python",
   "name": "python3"
  },
  "language_info": {
   "codemirror_mode": {
    "name": "ipython",
    "version": 3
   },
   "file_extension": ".py",
   "mimetype": "text/x-python",
   "name": "python",
   "nbconvert_exporter": "python",
   "pygments_lexer": "ipython3",
   "version": "3.9.6"
  },
  "orig_nbformat": 4,
  "vscode": {
   "interpreter": {
    "hash": "c0a3c91513ce8330cc510c252bd0d2b8c5edf3f02855cf0373cb264a8e18d0f0"
   }
  }
 },
 "nbformat": 4,
 "nbformat_minor": 2
}
