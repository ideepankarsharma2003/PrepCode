{
 "cells": [
  {
   "attachments": {},
   "cell_type": "markdown",
   "metadata": {},
   "source": [
    "# **POTD 8 December**\n",
    "## ***[3 Divisors](https://practice.geeksforgeeks.org/problems/3-divisors3942/1)***"
   ]
  },
  {
   "cell_type": "code",
   "execution_count": 1,
   "metadata": {},
   "outputs": [],
   "source": [
    "from math import floor, sqrt\n",
    "from bisect import bisect\n",
    "\n",
    "class Solution:\n",
    "    def sieve(self, n):\n",
    "        primes = [1] * (n + 1)\n",
    "        p = 2\n",
    "        while p * p <= n:\n",
    "            if primes[p]:\n",
    "                for i in range(p * p, n+1, p):\n",
    "                    primes[i] = 0\n",
    "            p += 1\n",
    "            \n",
    "        return primes\n",
    "        \n",
    "    def threeDivisors(self, query, q):\n",
    "        # we need to find primed less than sqrt(number) number : max(query)\n",
    "        num = int(sqrt(max(query)))\n",
    "        primes = self.sieve(num)\n",
    "        primes = [i for i in range(len(primes)) if primes[i]][2:] # ignoring 0 and 1\n",
    "        # find number of primes less than sqrt(num) \n",
    "        return [bisect(primes, sqrt(num)) for num in query]"
   ]
  },
  {
   "cell_type": "code",
   "execution_count": null,
   "metadata": {},
   "outputs": [],
   "source": []
  }
 ],
 "metadata": {
  "kernelspec": {
   "display_name": "Python 3.9.6 64-bit",
   "language": "python",
   "name": "python3"
  },
  "language_info": {
   "codemirror_mode": {
    "name": "ipython",
    "version": 3
   },
   "file_extension": ".py",
   "mimetype": "text/x-python",
   "name": "python",
   "nbconvert_exporter": "python",
   "pygments_lexer": "ipython3",
   "version": "3.9.6"
  },
  "orig_nbformat": 4,
  "vscode": {
   "interpreter": {
    "hash": "c0a3c91513ce8330cc510c252bd0d2b8c5edf3f02855cf0373cb264a8e18d0f0"
   }
  }
 },
 "nbformat": 4,
 "nbformat_minor": 2
}
