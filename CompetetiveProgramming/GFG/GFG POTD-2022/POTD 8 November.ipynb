{
 "cells": [
  {
   "cell_type": "markdown",
   "metadata": {},
   "source": [
    "# **POTD 8 November**\n",
    "## ***[Two numbers with odd occurrences](https://practice.geeksforgeeks.org/problems/two-numbers-with-odd-occurrences5846/1)***"
   ]
  },
  {
   "cell_type": "code",
   "execution_count": 1,
   "metadata": {},
   "outputs": [
    {
     "name": "stdout",
     "output_type": "stream",
     "text": [
      "Hello\n"
     ]
    }
   ],
   "source": [
    "print('Hello')"
   ]
  },
  {
   "cell_type": "code",
   "execution_count": 13,
   "metadata": {},
   "outputs": [],
   "source": [
    "def oddOcuurances(arr):\n",
    "    d= dict()\n",
    "    oddOcuur= [] # keys with odd occurances\n",
    "    for i in arr:\n",
    "        if i not in d.keys():\n",
    "            d[i]= 1\n",
    "        else:\n",
    "            d[i]+=1\n",
    "    print(f'd= {d}')\n",
    "\n",
    "\n",
    "    for i in d.keys():\n",
    "        if d[i]%2!=0:\n",
    "            oddOcuur.append(i)\n",
    "\n",
    "    print(f'oddOccur(original)= {oddOcuur}')\n",
    "    oddOcuur.sort()\n",
    "    print(f'oddOccur(sorted)= {oddOcuur}')\n",
    "    return oddOcuur[-1:-3:-1]"
   ]
  },
  {
   "cell_type": "code",
   "execution_count": 14,
   "metadata": {},
   "outputs": [
    {
     "name": "stdout",
     "output_type": "stream",
     "text": [
      "d= {4: 2, 2: 2, 5: 1, 3: 2, 1: 1}\n",
      "oddOccur(original)= [5, 1]\n",
      "oddOccur(sorted)= [1, 5]\n"
     ]
    },
    {
     "data": {
      "text/plain": [
       "[5, 1]"
      ]
     },
     "execution_count": 14,
     "metadata": {},
     "output_type": "execute_result"
    }
   ],
   "source": [
    "N = 8\n",
    "Arr = [4, 2, 4, 5, 2, 3, 3, 1]\n",
    "oddOcuurances(Arr)"
   ]
  },
  {
   "cell_type": "code",
   "execution_count": 15,
   "metadata": {},
   "outputs": [
    {
     "name": "stdout",
     "output_type": "stream",
     "text": [
      "d= {1: 1, 7: 3, 5: 2, 4: 2}\n",
      "oddOccur(original)= [1, 7]\n",
      "oddOccur(sorted)= [1, 7]\n"
     ]
    },
    {
     "data": {
      "text/plain": [
       "[7, 1]"
      ]
     },
     "execution_count": 15,
     "metadata": {},
     "output_type": "execute_result"
    }
   ],
   "source": [
    "N = 6\n",
    "Arr = [1, 7, 5, 7, 5, 4, 7, 4]\n",
    "oddOcuurances(Arr)"
   ]
  },
  {
   "cell_type": "code",
   "execution_count": 16,
   "metadata": {},
   "outputs": [],
   "source": [
    "#User function Template for python3\n",
    "class Solution:\n",
    "    def twoOddNum(self, Arr, N):\n",
    "        # code here\n",
    "        d= dict()\n",
    "        oddOcuur= [] # keys with odd occurances\n",
    "        for i in Arr:\n",
    "            if i not in d.keys():\n",
    "                d[i]= 1\n",
    "            else:\n",
    "                d[i]+=1\n",
    "        # print(f'd= {d}')\n",
    "    \n",
    "    \n",
    "        for i in d.keys():\n",
    "            if d[i]%2!=0:\n",
    "                oddOcuur.append(i)\n",
    "    \n",
    "        # print(f'oddOccur(original)= {oddOcuur}')\n",
    "        oddOcuur.sort()\n",
    "        # print(f'oddOccur(sorted)= {oddOcuur}')\n",
    "        return oddOcuur[-1:-3:-1]\n",
    "\n",
    "\n",
    "\n",
    "s= Solution()"
   ]
  },
  {
   "cell_type": "code",
   "execution_count": 17,
   "metadata": {},
   "outputs": [
    {
     "data": {
      "text/plain": [
       "[7, 1]"
      ]
     },
     "execution_count": 17,
     "metadata": {},
     "output_type": "execute_result"
    }
   ],
   "source": [
    "N = 6\n",
    "Arr = [1, 7, 5, 7, 5, 4, 7, 4]\n",
    "s.twoOddNum(Arr, N)"
   ]
  },
  {
   "cell_type": "code",
   "execution_count": null,
   "metadata": {},
   "outputs": [],
   "source": []
  }
 ],
 "metadata": {
  "kernelspec": {
   "display_name": "Python 3.9.7 64-bit",
   "language": "python",
   "name": "python3"
  },
  "language_info": {
   "codemirror_mode": {
    "name": "ipython",
    "version": 3
   },
   "file_extension": ".py",
   "mimetype": "text/x-python",
   "name": "python",
   "nbconvert_exporter": "python",
   "pygments_lexer": "ipython3",
   "version": "3.9.7"
  },
  "orig_nbformat": 4,
  "vscode": {
   "interpreter": {
    "hash": "2e61b4e68d91170e6a828addbb12c998be56a3b087bfc9988ada4585bf499f3e"
   }
  }
 },
 "nbformat": 4,
 "nbformat_minor": 2
}
