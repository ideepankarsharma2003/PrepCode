{
 "cells": [
  {
   "attachments": {},
   "cell_type": "markdown",
   "metadata": {},
   "source": [
    "# **POTD 9 December**\n",
    "## ***[Black and White](https://practice.geeksforgeeks.org/problems/black-and-white-1587115620/1)***"
   ]
  },
  {
   "cell_type": "code",
   "execution_count": 1,
   "metadata": {},
   "outputs": [],
   "source": [
    "#User function Template for python3\n",
    "\n",
    "\n",
    "#Function to find out the number of ways we can place a black and a white\n",
    "#Knight on this chessboard such that they cannot attack each other.\n",
    "def numOfWays(M, N):\n",
    "    # code here\n",
    "    def isValid(i, j):\n",
    "\n",
    "        return 0<=i<m and 0<=j<n\n",
    "\n",
    "        \n",
    "\n",
    "    totalWays = 0\n",
    "\n",
    "    dn = [(2, 1), (2, -1), (-2, 1), (-2, -1), (1, 2), (-1, 2), (1, -2), (-1, -2)]\n",
    "\n",
    "    for i in range(m):\n",
    "\n",
    "        for j in range(n):\n",
    "\n",
    "            currWays = m*n - 1\n",
    "\n",
    "            inValidWays = 0\n",
    "\n",
    "            for di, dj in dn:\n",
    "\n",
    "                ni, nj = i+di, j+dj\n",
    "\n",
    "                if isValid(ni, nj):\n",
    "\n",
    "                    inValidWays += 1\n",
    "\n",
    "            currWays -= inValidWays\n",
    "\n",
    "            totalWays += currWays\n",
    "\n",
    "    return totalWays % (10**9 + 7)"
   ]
  },
  {
   "cell_type": "code",
   "execution_count": null,
   "metadata": {},
   "outputs": [],
   "source": []
  }
 ],
 "metadata": {
  "kernelspec": {
   "display_name": "Python 3.9.6 64-bit",
   "language": "python",
   "name": "python3"
  },
  "language_info": {
   "codemirror_mode": {
    "name": "ipython",
    "version": 3
   },
   "file_extension": ".py",
   "mimetype": "text/x-python",
   "name": "python",
   "nbconvert_exporter": "python",
   "pygments_lexer": "ipython3",
   "version": "3.9.6 (tags/v3.9.6:db3ff76, Jun 28 2021, 15:26:21) [MSC v.1929 64 bit (AMD64)]"
  },
  "orig_nbformat": 4,
  "vscode": {
   "interpreter": {
    "hash": "c0a3c91513ce8330cc510c252bd0d2b8c5edf3f02855cf0373cb264a8e18d0f0"
   }
  }
 },
 "nbformat": 4,
 "nbformat_minor": 2
}
