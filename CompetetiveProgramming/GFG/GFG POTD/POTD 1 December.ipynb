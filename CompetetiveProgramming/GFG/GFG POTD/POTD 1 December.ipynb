{
 "cells": [
  {
   "attachments": {},
   "cell_type": "markdown",
   "metadata": {},
   "source": [
    "# **POTD 1 December**\n",
    "## ***[Rearrange Array Alternately](https://practice.geeksforgeeks.org/problems/-rearrange-array-alternately-1587115620/1)***"
   ]
  },
  {
   "cell_type": "code",
   "execution_count": 1,
   "metadata": {},
   "outputs": [],
   "source": [
    "#User function Template for python3\n",
    "class Solution:\n",
    "    ##Complete this function\n",
    "    #Function to rearrange  the array elements alternately.\n",
    "    def rearrange(self,arr, n): \n",
    "        ##Your code here\n",
    "        arrdash= arr.copy() # O(N)\n",
    "        minidx= 0\n",
    "        maxidx= n-1\n",
    "        for i in range(n):\n",
    "            if i%2==0:\n",
    "                arr[i]= arrdash[maxidx]\n",
    "                maxidx-=1\n",
    "            else:\n",
    "                arr[i]= arrdash[minidx]\n",
    "                minidx+=1"
   ]
  },
  {
   "cell_type": "code",
   "execution_count": null,
   "metadata": {},
   "outputs": [],
   "source": []
  }
 ],
 "metadata": {
  "kernelspec": {
   "display_name": "Python 3.9.7 64-bit",
   "language": "python",
   "name": "python3"
  },
  "language_info": {
   "codemirror_mode": {
    "name": "ipython",
    "version": 3
   },
   "file_extension": ".py",
   "mimetype": "text/x-python",
   "name": "python",
   "nbconvert_exporter": "python",
   "pygments_lexer": "ipython3",
   "version": "3.9.7"
  },
  "orig_nbformat": 4,
  "vscode": {
   "interpreter": {
    "hash": "2e61b4e68d91170e6a828addbb12c998be56a3b087bfc9988ada4585bf499f3e"
   }
  }
 },
 "nbformat": 4,
 "nbformat_minor": 2
}
