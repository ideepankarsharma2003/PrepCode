{
 "cells": [
  {
   "attachments": {},
   "cell_type": "markdown",
   "metadata": {},
   "source": [
    "# **POTD 10 November**\n",
    "## ***[Jumping Numbers](https://practice.geeksforgeeks.org/problems/jumping-numbers3805/1)***"
   ]
  },
  {
   "cell_type": "code",
   "execution_count": 1,
   "metadata": {},
   "outputs": [],
   "source": [
    "def checkJumping(N):\n",
    "    s= str(N)\n",
    "    l= [int(i) for i in s]\n",
    "    # print(l)\n",
    "    # print(len(l))\n",
    "    for i in range(1, len(l)):\n",
    "        # print(i)\n",
    "        if abs(l[i]-l[i-1])!=1:\n",
    "            return False\n",
    "    return True\n",
    "    \n",
    "    \n",
    "class Solution:\n",
    "    def jumpingNums(self, X):\n",
    "        # code here \n",
    "        for i in range(X, 0, -1):\n",
    "            if checkJumping(i):\n",
    "                return i\n",
    "\n",
    "\n",
    "s= Solution()\n",
    "\n",
    "# TLE memory limit exceeded\n",
    "# Time Complexity O(X)\n"
   ]
  },
  {
   "cell_type": "code",
   "execution_count": 2,
   "metadata": {},
   "outputs": [
    {
     "data": {
      "text/plain": [
       "45"
      ]
     },
     "execution_count": 2,
     "metadata": {},
     "output_type": "execute_result"
    }
   ],
   "source": [
    "s.jumpingNums(50)"
   ]
  },
  {
   "cell_type": "code",
   "execution_count": 18,
   "metadata": {},
   "outputs": [],
   "source": [
    "class Queue:\n",
    "    def __init__(self) -> None:\n",
    "        self.lst=[]\n",
    "    def is_empty(self):\n",
    "        return len(self.lst)==0\n",
    "    def enqueue(self, elem):\n",
    "        self.lst.append(elem)\n",
    "    def dequeue(self):\n",
    "        return self.lst.pop(0)\n",
    "    def printq(self):\n",
    "        print(f'queue= {self.lst}')\n",
    "\n",
    "\n",
    "def bfs(x, num):\n",
    "    q= Queue()\n",
    "    q.enqueue(num)\n",
    "    l=[]\n",
    "    maxnum= num\n",
    "    while(not q.is_empty()):\n",
    "        num= q.dequeue()\n",
    "        if num<=x:\n",
    "            if num>maxnum:\n",
    "                maxnum=num\n",
    "            l.append(num)\n",
    "            last_digit= num%10\n",
    "            if last_digit==0:\n",
    "                q.enqueue((num*10)+1)\n",
    "            elif last_digit==9:\n",
    "                q.enqueue(num*10+8)\n",
    "            else:\n",
    "                q.enqueue(num*10 + (last_digit-1))\n",
    "                q.enqueue(num*10 + (last_digit+1))\n",
    "    print(f'l= {l}', end=', ')\n",
    "    print(f'maxnum= {maxnum}')\n",
    "    \n",
    "        \n",
    "\n",
    "def printJumping(x):\n",
    "\tprint (str(0), end =' ')\n",
    "\tfor i in range(1, 10): # 0 to 9\n",
    "\t\tbfs(x, i)"
   ]
  },
  {
   "cell_type": "code",
   "execution_count": 19,
   "metadata": {},
   "outputs": [
    {
     "name": "stdout",
     "output_type": "stream",
     "text": [
      "0 l= [1, 10, 12], maxnum= 12\n",
      "l= [2, 21, 23], maxnum= 23\n",
      "l= [3, 32, 34], maxnum= 34\n",
      "l= [4, 43, 45], maxnum= 45\n",
      "l= [5], maxnum= 5\n",
      "l= [6], maxnum= 6\n",
      "l= [7], maxnum= 7\n",
      "l= [8], maxnum= 8\n",
      "l= [9], maxnum= 9\n"
     ]
    }
   ],
   "source": [
    "printJumping(50)"
   ]
  },
  {
   "cell_type": "code",
   "execution_count": null,
   "metadata": {},
   "outputs": [],
   "source": [
    "# class Queue:\n",
    "#     def __init__(self) -> None:\n",
    "#         self.lst=[]\n",
    "#     def is_empty(self):\n",
    "#         return len(self.lst)==0\n",
    "#     def enqueue(self, elem):\n",
    "#         self.lst.append(elem)\n",
    "#     def dequeue(self):\n",
    "#         return self.lst.pop(0)\n",
    "#     # def printq(self):\n",
    "#     #     print(f'queue= {self.lst}')\n",
    "\n",
    "\n",
    "def bfs(x, num):\n",
    "    # q= Queue()\n",
    "    q= []\n",
    "    # q.enqueue(num)\n",
    "    q.append(num)\n",
    "    # l=[]\n",
    "    maxnum= num\n",
    "    while(not len(q)==0):\n",
    "        num= q.pop(0)\n",
    "        if num<=x:\n",
    "            if num>maxnum:\n",
    "                maxnum=num\n",
    "            # l.append(num)\n",
    "            last_digit= num%10\n",
    "            if last_digit==0:\n",
    "                q.append((num*10)+1)\n",
    "            elif last_digit==9:\n",
    "                q.append(num*10+8)\n",
    "            else:\n",
    "                q.append(num*10 + (last_digit-1))\n",
    "                q.append(num*10 + (last_digit+1))\n",
    "    # print(f'l= {l}', end=', ')\n",
    "    # print(f'maxnum= {maxnum}')\n",
    "    return maxnum\n",
    "    \n",
    "    \n",
    "class Solution:\n",
    "    def jumpingNums(self, X):\n",
    "        # print (str(0), end =' ')\n",
    "        # l= [0]\n",
    "        maxnum= 0\n",
    "        for i in range(1, 10):\n",
    "            num=bfs(X, i)\n",
    "            if num>maxnum:\n",
    "                maxnum=num\n",
    "        return maxnum\n"
   ]
  },
  {
   "cell_type": "code",
   "execution_count": null,
   "metadata": {},
   "outputs": [],
   "source": []
  },
  {
   "cell_type": "code",
   "execution_count": null,
   "metadata": {},
   "outputs": [],
   "source": [
    "# def jumpingNums(self, X):\n",
    "#     # print (str(0), end =' ')\n",
    "#     # l= [0]\n",
    "#     maxnum= 0\n",
    "#     for i in range(1, 10):\n",
    "#     \tnum=bfs(X, i)\n",
    "#         if num>maxnum:\n",
    "#             maxnum=num\n",
    "#     return maxnum"
   ]
  },
  {
   "cell_type": "code",
   "execution_count": 20,
   "metadata": {},
   "outputs": [],
   "source": [
    "class Queue:\n",
    "\tdef __init__(self):\n",
    "\t\tself.lst = []\n",
    "\n",
    "\tdef is_empty(self):\n",
    "\t\treturn self.lst == []\n",
    "\n",
    "\tdef enqueue(self, elem):\n",
    "\t\tself.lst.append(elem)\n",
    "\n",
    "\tdef dequeue(self):\n",
    "\t\treturn self.lst.pop(0)\n",
    "\n",
    "# \tdef printq(self):\n",
    "# \t\tprint(f'queue= {self.lst}')\n",
    "\n",
    "# Prints all jumping numbers smaller than or equal to\n",
    "# x starting with 'num'. It mainly does BFS starting\n",
    "# from 'num'.\n",
    "def bfs(x, num):\n",
    "\n",
    "\t# Create a queue and enqueue i to it\n",
    "\tq = Queue()\n",
    "\tq.enqueue(num)\n",
    "\tl= []\n",
    "\n",
    "\t# Do BFS starting from 1\n",
    "\twhile (not q.is_empty()):\n",
    "\t\tnum = q.dequeue()\n",
    "\n",
    "\t\tif num<= x:\n",
    "\t\t\t# print(f'Jumping Number: {num}')\n",
    "\t\t\tl.append(num)\n",
    "\t\t\tlast_dig = num % 10\n",
    "\n",
    "\t\t\t# If last digit is 0, append next digit only\n",
    "\t\t\tif last_dig == 0:\n",
    "\t\t\t\tq.enqueue((num * 10) + (last_dig + 1))\n",
    "\n",
    "\t\t\t# If last digit is 9, append previous digit\n",
    "\t\t\t# only\n",
    "\t\t\telif last_dig == 9:\n",
    "\t\t\t\tq.enqueue((num * 10) + (last_dig - 1))\n",
    "\n",
    "\t\t\t# If last digit is neither 0 nor 9, append\n",
    "\t\t\t# both previous digit and next digit\n",
    "\t\t\telse:\n",
    "\t\t\t\tq.enqueue((num * 10) + (last_dig - 1))\n",
    "\t\t\t\tq.enqueue((num * 10) + (last_dig + 1))\n",
    "\n",
    "\t\t\t# q.printq()\n",
    "# \tprint(f'l= {l}')\n",
    "\treturn l\n",
    "    \n",
    "    \n",
    "class Solution:\n",
    "\tdef jumpingNums(self, X):\n",
    "\t\t# print (str(0), end =' ')\n",
    "\t\tl= [0]\n",
    "\t\tfor i in range(1, 10):\n",
    "\t\t\tl+=bfs(X, i)\n",
    "\t\treturn max(l)\n",
    "\n",
    "\n",
    "s= Solution()"
   ]
  },
  {
   "cell_type": "code",
   "execution_count": 21,
   "metadata": {},
   "outputs": [
    {
     "data": {
      "text/plain": [
       "10"
      ]
     },
     "execution_count": 21,
     "metadata": {},
     "output_type": "execute_result"
    }
   ],
   "source": [
    "s.jumpingNums(10)"
   ]
  },
  {
   "cell_type": "code",
   "execution_count": 22,
   "metadata": {},
   "outputs": [
    {
     "data": {
      "text/plain": [
       "45"
      ]
     },
     "execution_count": 22,
     "metadata": {},
     "output_type": "execute_result"
    }
   ],
   "source": [
    "s.jumpingNums(50)"
   ]
  },
  {
   "cell_type": "code",
   "execution_count": 12,
   "metadata": {},
   "outputs": [
    {
     "name": "stdout",
     "output_type": "stream",
     "text": [
      "l= [1, 10, 12]\n",
      "l= [2, 21, 23]\n",
      "l= [3, 32, 34]\n",
      "l= [4, 43, 45]\n",
      "l= [5]\n",
      "l= [6]\n",
      "l= [7]\n",
      "l= [8]\n",
      "l= [9]\n"
     ]
    },
    {
     "data": {
      "text/plain": [
       "45"
      ]
     },
     "execution_count": 12,
     "metadata": {},
     "output_type": "execute_result"
    }
   ],
   "source": [
    "# Class queue for use later\n",
    "class Queue:\n",
    "\tdef __init__(self):\n",
    "\t\tself.lst = []\n",
    "\n",
    "\tdef is_empty(self):\n",
    "\t\treturn self.lst == []\n",
    "\n",
    "\tdef enqueue(self, elem):\n",
    "\t\tself.lst.append(elem)\n",
    "\n",
    "\tdef dequeue(self):\n",
    "\t\treturn self.lst.pop(0)\n",
    "\n",
    "\tdef printq(self):\n",
    "\t\tprint(f'queue= {self.lst}')\n",
    "\n",
    "# Prints all jumping numbers smaller than or equal to\n",
    "# x starting with 'num'. It mainly does BFS starting\n",
    "# from 'num'.\n",
    "def bfs(x, num):\n",
    "\n",
    "\t# Create a queue and enqueue i to it\n",
    "\tq = Queue()\n",
    "\tq.enqueue(num)\n",
    "\tl= []\n",
    "\n",
    "\t# Do BFS starting from 1\n",
    "\twhile (not q.is_empty()):\n",
    "\t\tnum = q.dequeue()\n",
    "\n",
    "\t\tif num<= x:\n",
    "\t\t\t# print(f'Jumping Number: {num}')\n",
    "\t\t\tl.append(num)\n",
    "\t\t\tlast_dig = num % 10\n",
    "\n",
    "\t\t\t# If last digit is 0, append next digit only\n",
    "\t\t\tif last_dig == 0:\n",
    "\t\t\t\tq.enqueue((num * 10) + (last_dig + 1))\n",
    "\n",
    "\t\t\t# If last digit is 9, append previous digit\n",
    "\t\t\t# only\n",
    "\t\t\telif last_dig == 9:\n",
    "\t\t\t\tq.enqueue((num * 10) + (last_dig - 1))\n",
    "\n",
    "\t\t\t# If last digit is neither 0 nor 9, append\n",
    "\t\t\t# both previous digit and next digit\n",
    "\t\t\telse:\n",
    "\t\t\t\tq.enqueue((num * 10) + (last_dig - 1))\n",
    "\t\t\t\tq.enqueue((num * 10) + (last_dig + 1))\n",
    "\n",
    "\t\t\t# q.printq()\n",
    "\tprint(f'l= {l}')\n",
    "\treturn l\n",
    "\n",
    "# Prints all jumping numbers smaller than or equal to\n",
    "# a positive number x\n",
    "def printJumping(x):\n",
    "\t# print (str(0), end =' ')\n",
    "\tl= [0]\n",
    "\tfor i in range(1, 10):\n",
    "\t\tl+=bfs(x, i)\n",
    "\treturn max(l)\n",
    "\n",
    "# Driver Program ( Change value of x as desired )\n",
    "# x = 40\n",
    "x = 50\n",
    "printJumping(x)\n",
    "\n",
    "# This code is contributed by Saket Modi\n"
   ]
  },
  {
   "cell_type": "code",
   "execution_count": null,
   "metadata": {},
   "outputs": [],
   "source": []
  }
 ],
 "metadata": {
  "kernelspec": {
   "display_name": "Python 3.9.7 64-bit",
   "language": "python",
   "name": "python3"
  },
  "language_info": {
   "codemirror_mode": {
    "name": "ipython",
    "version": 3
   },
   "file_extension": ".py",
   "mimetype": "text/x-python",
   "name": "python",
   "nbconvert_exporter": "python",
   "pygments_lexer": "ipython3",
   "version": "3.9.7"
  },
  "orig_nbformat": 4,
  "vscode": {
   "interpreter": {
    "hash": "2e61b4e68d91170e6a828addbb12c998be56a3b087bfc9988ada4585bf499f3e"
   }
  }
 },
 "nbformat": 4,
 "nbformat_minor": 2
}
