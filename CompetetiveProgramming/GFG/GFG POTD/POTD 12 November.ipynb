{
 "cells": [
  {
   "attachments": {},
   "cell_type": "markdown",
   "metadata": {},
   "source": [
    "# **POTD 12 November**\n",
    "## ***[Maximum Sub-String after at most K changes](https://practice.geeksforgeeks.org/problems/maximum-sub-string-after-at-most-k-changes3220/1)***"
   ]
  },
  {
   "cell_type": "code",
   "execution_count": null,
   "metadata": {},
   "outputs": [],
   "source": [
    "#User function Template for python3\n",
    "from collections import defaultdict\n",
    "\n",
    "class Solution:\n",
    "    def characterReplacement(self, s, k):\n",
    "        # Code here\n",
    "        l= [chr(i) for i in range(ord('A'), ord('Z')+1)]\n",
    "        c = defaultdict(int)\n",
    "        res, maxcount = 0, 0\n",
    "        for idx, val in enumerate(s):\n",
    "            c[val] += 1\n",
    "            maxcount = max(maxcount, c[val])\n",
    "            if res - maxcount >= k:\n",
    "                c[s[idx - res]] -= 1\n",
    "            else:\n",
    "                res += 1\n",
    "        return res"
   ]
  },
  {
   "cell_type": "code",
   "execution_count": null,
   "metadata": {},
   "outputs": [],
   "source": []
  }
 ],
 "metadata": {
  "kernelspec": {
   "display_name": "Python 3.9.7 64-bit",
   "language": "python",
   "name": "python3"
  },
  "language_info": {
   "name": "python",
   "version": "3.9.7"
  },
  "orig_nbformat": 4,
  "vscode": {
   "interpreter": {
    "hash": "2e61b4e68d91170e6a828addbb12c998be56a3b087bfc9988ada4585bf499f3e"
   }
  }
 },
 "nbformat": 4,
 "nbformat_minor": 2
}
