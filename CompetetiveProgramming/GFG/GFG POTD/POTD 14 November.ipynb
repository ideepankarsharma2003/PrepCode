{
 "cells": [
  {
   "attachments": {},
   "cell_type": "markdown",
   "metadata": {},
   "source": [
    "# **POTD 14 November**\n",
    "## ***[Find patterns](https://practice.geeksforgeeks.org/problems/find-patterns0606/1)***"
   ]
  },
  {
   "cell_type": "code",
   "execution_count": 1,
   "metadata": {},
   "outputs": [
    {
     "name": "stdout",
     "output_type": "stream",
     "text": [
      "Hello\n"
     ]
    }
   ],
   "source": [
    "print('Hello')"
   ]
  },
  {
   "cell_type": "code",
   "execution_count": 43,
   "metadata": {},
   "outputs": [],
   "source": [
    "class Solution:\n",
    "    def numberOfSubsequences (self,S,W):\n",
    "        # code here \n",
    "        i=0\n",
    "        j=0\n",
    "        k=0\n",
    "        lS= len(S)\n",
    "        lW= len(W)\n",
    "        count= 0\n",
    "        # l= list(S)\n",
    "        l= ''\n",
    "        for i in S:\n",
    "            if i in W:\n",
    "                l+=i\n",
    "        print(f'l= {l}')\n",
    "        return l.count(W)\n",
    "        # while i<lS:\n",
    "        #     if S[i]==W[k]:\n",
    "        #         # l[i]='@'\n",
    "        #         j+=1\n",
    "        #         k+=1\n",
    "                \n",
    "        #     if j==lW:\n",
    "        #         # print(f'Counted, i={i}')\n",
    "        #         j=0\n",
    "        #         k=0\n",
    "        #         count+=1\n",
    "\n",
    "        #     i+=1\n",
    "        \n",
    "        # # print(f'l= {l}')\n",
    "                    \n",
    "\n",
    "        # return count\n",
    "\n",
    "\n",
    "s= Solution()"
   ]
  },
  {
   "cell_type": "code",
   "execution_count": 44,
   "metadata": {},
   "outputs": [
    {
     "name": "stdout",
     "output_type": "stream",
     "text": [
      "l= bcbcb\n"
     ]
    },
    {
     "data": {
      "text/plain": [
       "1"
      ]
     },
     "execution_count": 44,
     "metadata": {},
     "output_type": "execute_result"
    }
   ],
   "source": [
    " S = \"abcrtbwerrcokokokdb\" \n",
    "#  S = \"abcdrtwerrcokokokd\" \n",
    " W = \"bcb\"\n",
    " s.numberOfSubsequences(S, W)"
   ]
  },
  {
   "cell_type": "code",
   "execution_count": 38,
   "metadata": {},
   "outputs": [
    {
     "name": "stdout",
     "output_type": "stream",
     "text": [
      "Counted, i=3\n",
      "Counted, i=18\n",
      "l= ['a', '@', '@', '@', 'r', 't', '@', 'w', 'e', 'r', 'r', '@', 'o', 'k', 'o', 'k', 'o', 'k', '@']\n"
     ]
    },
    {
     "data": {
      "text/plain": [
       "2"
      ]
     },
     "execution_count": 38,
     "metadata": {},
     "output_type": "execute_result"
    }
   ],
   "source": [
    " S = \"abcdrtbwerrcokokokd\" \n",
    "#  S = \"abcdrtwerrcokokokd\" \n",
    " W = \"bcd\"\n",
    " s.numberOfSubsequences(S, W)"
   ]
  },
  {
   "cell_type": "code",
   "execution_count": 41,
   "metadata": {},
   "outputs": [],
   "source": [
    "class Solution:\n",
    "\n",
    "    def numberOfSubsequences (self,S,W):\n",
    "\n",
    "        # code here \n",
    "        l=list(S)\n",
    "        count=0\n",
    "        j=0;i=0\n",
    "        \n",
    "        while i<(len(l)):\n",
    "            if l[i]==W[j]:\n",
    "                l[i]=\"@\"\n",
    "                j+=1\n",
    "            # print(f\"i:  {i}\")\n",
    "            i+=1\n",
    "            if j==len(W):\n",
    "                count+=1\n",
    "                j=0\n",
    "                # print(f\"i:  {i}\")\n",
    "                i=0\n",
    "                # print(\"i:  0\")\n",
    "        # print(j,count)       \n",
    "        # print(f'l={l}')\n",
    "        return count\n",
    "\n",
    "s= Solution()"
   ]
  },
  {
   "cell_type": "code",
   "execution_count": null,
   "metadata": {},
   "outputs": [],
   "source": [
    " S = \"abcdrtbwerrcokokokd\" \n",
    " W = \"bcd\"\n",
    " s.numberOfSubsequences(S, W)"
   ]
  },
  {
   "cell_type": "code",
   "execution_count": 58,
   "metadata": {},
   "outputs": [],
   "source": [
    "class Solution:\n",
    "    def numberOfSubsequences (self,S,W):\n",
    "        # code here \n",
    "        s= ''\n",
    "        for i in S:\n",
    "            if i in W:\n",
    "                s+=i\n",
    "        print(f's= {s}')\n",
    "        i=0\n",
    "        j=0\n",
    "        k=0\n",
    "        lS= len(s)\n",
    "        lW= len(W)\n",
    "        count= 0\n",
    "        l= list(s)\n",
    "        while i<lS:\n",
    "            if l[i]==W[j]:\n",
    "                j+=1\n",
    "                if i+1<lS and j<lW and l[i+1]!=W[j]:\n",
    "                    j=0\n",
    "                l[i]='&'\n",
    "\n",
    "            if j==lW:\n",
    "                count+=1\n",
    "                j=0\n",
    "\n",
    "            i+=1\n",
    "        print(f'l= {l}')\n",
    "        return count\n",
    "\n",
    "s= Solution()"
   ]
  },
  {
   "cell_type": "code",
   "execution_count": 59,
   "metadata": {},
   "outputs": [
    {
     "name": "stdout",
     "output_type": "stream",
     "text": [
      "s= bcdbcd\n",
      "l= ['&', '&', '&', '&', '&', '&']\n"
     ]
    },
    {
     "data": {
      "text/plain": [
       "2"
      ]
     },
     "execution_count": 59,
     "metadata": {},
     "output_type": "execute_result"
    }
   ],
   "source": [
    " S = \"abcdrtbwerrcokokokd\" \n",
    " W = \"bcd\"\n",
    " s.numberOfSubsequences(S, W)"
   ]
  },
  {
   "cell_type": "code",
   "execution_count": null,
   "metadata": {},
   "outputs": [],
   "source": []
  }
 ],
 "metadata": {
  "kernelspec": {
   "display_name": "Python 3.9.7 64-bit",
   "language": "python",
   "name": "python3"
  },
  "language_info": {
   "codemirror_mode": {
    "name": "ipython",
    "version": 3
   },
   "file_extension": ".py",
   "mimetype": "text/x-python",
   "name": "python",
   "nbconvert_exporter": "python",
   "pygments_lexer": "ipython3",
   "version": "3.9.7"
  },
  "orig_nbformat": 4,
  "vscode": {
   "interpreter": {
    "hash": "2e61b4e68d91170e6a828addbb12c998be56a3b087bfc9988ada4585bf499f3e"
   }
  }
 },
 "nbformat": 4,
 "nbformat_minor": 2
}
