{
 "cells": [
  {
   "attachments": {},
   "cell_type": "markdown",
   "metadata": {},
   "source": [
    "# **POTD 17 November**\n",
    "## ***[Count of Subarrays](https://practice.geeksforgeeks.org/problems/count-of-subarrays5922/1)***"
   ]
  },
  {
   "cell_type": "code",
   "execution_count": 1,
   "metadata": {},
   "outputs": [
    {
     "name": "stdout",
     "output_type": "stream",
     "text": [
      "Hello\n"
     ]
    }
   ],
   "source": [
    "print('Hello')"
   ]
  },
  {
   "cell_type": "code",
   "execution_count": 22,
   "metadata": {},
   "outputs": [],
   "source": [
    "class Solution:\n",
    "\n",
    "\n",
    "    def countSubarray(self,arr, n, k):\n",
    "\t    # code here\n",
    "        # arr.sort(reverse= True) # can't do this , contiguous bola hai\n",
    "        count=0\n",
    "        x=1 # maintains count of juniors(bete) ----> Left side ke bachhe\n",
    "        for i in range(n):\n",
    "            if arr[i]>k:\n",
    "                count+=x*(n-i) # left side k bacche*baap(n-i)\n",
    "                print(f'i= {i}, n-i= {n-i}, x= {x}, new_Subarrays={x*(n-i)}, count= {count}')\n",
    "                x=1\n",
    "            else:\n",
    "                x+=1\n",
    "                print(f'i= {i}, x= {x}')\n",
    "        return count\n",
    "s= Solution()"
   ]
  },
  {
   "cell_type": "code",
   "execution_count": 23,
   "metadata": {},
   "outputs": [
    {
     "name": "stdout",
     "output_type": "stream",
     "text": [
      "i= 0, n-i= 3, x= 1, new_Subarrays=3, count= 3\n",
      "i= 1, x= 2\n",
      "i= 2, x= 3\n"
     ]
    },
    {
     "data": {
      "text/plain": [
       "3"
      ]
     },
     "execution_count": 23,
     "metadata": {},
     "output_type": "execute_result"
    }
   ],
   "source": [
    "N = 3\n",
    "K = 2\n",
    "Arr = [3, 2, 1]\n",
    "s.countSubarray(Arr, N, K)"
   ]
  },
  {
   "cell_type": "code",
   "execution_count": 24,
   "metadata": {},
   "outputs": [
    {
     "name": "stdout",
     "output_type": "stream",
     "text": [
      "i= 0, x= 2\n",
      "i= 1, n-i= 3, x= 2, new_Subarrays=6, count= 6\n",
      "i= 2, n-i= 2, x= 1, new_Subarrays=2, count= 8\n",
      "i= 3, n-i= 1, x= 1, new_Subarrays=1, count= 9\n"
     ]
    },
    {
     "data": {
      "text/plain": [
       "9"
      ]
     },
     "execution_count": 24,
     "metadata": {},
     "output_type": "execute_result"
    }
   ],
   "source": [
    "N = 4\n",
    "K = 1\n",
    "Arr = [1, 2, 3, 4]\n",
    "s.countSubarray(Arr, N, K)"
   ]
  },
  {
   "cell_type": "code",
   "execution_count": 25,
   "metadata": {},
   "outputs": [
    {
     "name": "stdout",
     "output_type": "stream",
     "text": [
      "i= 0, n-i= 4, x= 1, new_Subarrays=4, count= 4\n",
      "i= 1, x= 2\n",
      "i= 2, n-i= 2, x= 2, new_Subarrays=4, count= 8\n",
      "i= 3, x= 2\n"
     ]
    },
    {
     "data": {
      "text/plain": [
       "8"
      ]
     },
     "execution_count": 25,
     "metadata": {},
     "output_type": "execute_result"
    }
   ],
   "source": [
    "N = 4\n",
    "K = 16\n",
    "Arr = [30, 4, 23, 6]\n",
    "s.countSubarray(Arr, N, K)\n"
   ]
  },
  {
   "cell_type": "code",
   "execution_count": null,
   "metadata": {},
   "outputs": [],
   "source": []
  }
 ],
 "metadata": {
  "kernelspec": {
   "display_name": "Python 3.9.7 64-bit",
   "language": "python",
   "name": "python3"
  },
  "language_info": {
   "codemirror_mode": {
    "name": "ipython",
    "version": 3
   },
   "file_extension": ".py",
   "mimetype": "text/x-python",
   "name": "python",
   "nbconvert_exporter": "python",
   "pygments_lexer": "ipython3",
   "version": "3.9.7"
  },
  "orig_nbformat": 4,
  "vscode": {
   "interpreter": {
    "hash": "2e61b4e68d91170e6a828addbb12c998be56a3b087bfc9988ada4585bf499f3e"
   }
  }
 },
 "nbformat": 4,
 "nbformat_minor": 2
}
