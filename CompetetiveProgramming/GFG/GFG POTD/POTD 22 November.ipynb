{
 "cells": [
  {
   "attachments": {},
   "cell_type": "markdown",
   "metadata": {},
   "source": [
    "# **POTD 22 November**\n",
    "## ***[Magic Triplets](https://practice.geeksforgeeks.org/problems/magic-triplets4003/1)***"
   ]
  },
  {
   "cell_type": "code",
   "execution_count": 1,
   "metadata": {},
   "outputs": [
    {
     "name": "stdout",
     "output_type": "stream",
     "text": [
      "Hello\n"
     ]
    }
   ],
   "source": [
    "print(\"Hello\")"
   ]
  },
  {
   "cell_type": "code",
   "execution_count": 3,
   "metadata": {},
   "outputs": [],
   "source": [
    "class Solution:\n",
    "    def countTriplets(self, nums):\n",
    "        # Code here\n",
    "        N = len(nums)\n",
    "        if N<3: return 0\n",
    "        rh = [0] * (N-1) # count of right-side numbers which are bigger\n",
    "        rh[N-2] = 1 if nums[N-2]<nums[N-1] else 0\n",
    "        rh[N-3] = (1 if nums[N-3]<nums[N-2] else 0) + (1 if nums[N-3]<nums[N-1] else 0)\n",
    "        ans = 0\t\n",
    "        for i in range(N-3, -1, -1):\n",
    "            rh[i] = 1 if nums[i]<nums[N-1] else 0\n",
    "            for j in range(i+1, N-1):\n",
    "                if nums[i]>=nums[j]: continue\n",
    "                rh[i]+=1\n",
    "                ans += rh[j]\n",
    "        return ans\n",
    "\n",
    "\n",
    "s= Solution()"
   ]
  },
  {
   "cell_type": "code",
   "execution_count": null,
   "metadata": {},
   "outputs": [],
   "source": []
  }
 ],
 "metadata": {
  "kernelspec": {
   "display_name": "Python 3.9.7 64-bit",
   "language": "python",
   "name": "python3"
  },
  "language_info": {
   "codemirror_mode": {
    "name": "ipython",
    "version": 3
   },
   "file_extension": ".py",
   "mimetype": "text/x-python",
   "name": "python",
   "nbconvert_exporter": "python",
   "pygments_lexer": "ipython3",
   "version": "3.9.7"
  },
  "orig_nbformat": 4,
  "vscode": {
   "interpreter": {
    "hash": "2e61b4e68d91170e6a828addbb12c998be56a3b087bfc9988ada4585bf499f3e"
   }
  }
 },
 "nbformat": 4,
 "nbformat_minor": 2
}
