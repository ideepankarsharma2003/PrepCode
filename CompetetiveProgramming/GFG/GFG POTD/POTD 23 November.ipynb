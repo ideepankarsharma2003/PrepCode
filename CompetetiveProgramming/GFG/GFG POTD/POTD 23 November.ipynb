{
 "cells": [
  {
   "attachments": {},
   "cell_type": "markdown",
   "metadata": {},
   "source": [
    "# **POTD 23 November**\n",
    "## ***[Maximum Sum LCM](https://practice.geeksforgeeks.org/problems/maximum-sum-lcm3025/1)***"
   ]
  },
  {
   "cell_type": "code",
   "execution_count": 2,
   "metadata": {},
   "outputs": [],
   "source": [
    "import math\n",
    "class Solution:\n",
    "    def lcm(self,a,b):\n",
    "        return (a*b)//math.gcd(a,b)\n",
    "    def maxSumLCM (self, n):\n",
    "        # code here \n",
    "        ans=0\n",
    "        for i in range(1,int(math.sqrt(n))+1):\n",
    "            if self.lcm(i,n)==n:\n",
    "                ans+=(i+n//i)\n",
    "\n",
    "        # check if n is a perfect square\n",
    "        if int(math.sqrt(n))**2==n:\n",
    "            return ans-int(math.sqrt(n))\n",
    "        return ans\n",
    "\n",
    "\n",
    "s= Solution()"
   ]
  },
  {
   "cell_type": "code",
   "execution_count": 4,
   "metadata": {},
   "outputs": [
    {
     "data": {
      "text/plain": [
       "68"
      ]
     },
     "execution_count": 4,
     "metadata": {},
     "output_type": "execute_result"
    }
   ],
   "source": [
    "s.maxSumLCM(67)"
   ]
  },
  {
   "cell_type": "code",
   "execution_count": null,
   "metadata": {},
   "outputs": [],
   "source": []
  }
 ],
 "metadata": {
  "kernelspec": {
   "display_name": "Python 3.9.7 64-bit",
   "language": "python",
   "name": "python3"
  },
  "language_info": {
   "codemirror_mode": {
    "name": "ipython",
    "version": 3
   },
   "file_extension": ".py",
   "mimetype": "text/x-python",
   "name": "python",
   "nbconvert_exporter": "python",
   "pygments_lexer": "ipython3",
   "version": "3.9.7"
  },
  "orig_nbformat": 4,
  "vscode": {
   "interpreter": {
    "hash": "2e61b4e68d91170e6a828addbb12c998be56a3b087bfc9988ada4585bf499f3e"
   }
  }
 },
 "nbformat": 4,
 "nbformat_minor": 2
}
