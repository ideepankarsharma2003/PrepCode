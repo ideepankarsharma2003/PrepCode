{
 "cells": [
  {
   "attachments": {},
   "cell_type": "markdown",
   "metadata": {},
   "source": [
    "# **POTD 24 November**\n",
    "## ***[Longest Bitonic subsequence](https://practice.geeksforgeeks.org/problems/longest-bitonic-subsequence0824/1)***"
   ]
  },
  {
   "cell_type": "code",
   "execution_count": 1,
   "metadata": {},
   "outputs": [
    {
     "name": "stdout",
     "output_type": "stream",
     "text": [
      "Hello\n"
     ]
    }
   ],
   "source": [
    "print(\"Hello\")"
   ]
  },
  {
   "cell_type": "code",
   "execution_count": 17,
   "metadata": {},
   "outputs": [],
   "source": [
    "class Solution:\n",
    "    def LongestBitonicSequence(self, nums):\n",
    "        # Code here\n",
    "        l= len(nums)\n",
    "        maxlen= 0\n",
    "        for i in range(l):\n",
    "            tempmax=1\n",
    "            prog= 'inc'\n",
    "            for j in range(i, l-1):\n",
    "                if nums[j+1]<nums[j]:\n",
    "                    prog='dec'\n",
    "                if prog=='inc' and nums[j+1]<=nums[j]:\n",
    "                    break\n",
    "                elif prog=='dec' and nums[j+1]>=nums[j]:\n",
    "                    break\n",
    "                tempmax+=1\n",
    "                \n",
    "            \n",
    "            print(f'i={i}, temp= {tempmax}')\n",
    "            maxlen= max(tempmax, maxlen)\n",
    "        return maxlen\n",
    "s= Solution()"
   ]
  },
  {
   "cell_type": "code",
   "execution_count": 18,
   "metadata": {},
   "outputs": [
    {
     "name": "stdout",
     "output_type": "stream",
     "text": [
      "i=0, temp= 5\n",
      "i=1, temp= 4\n",
      "i=2, temp= 3\n",
      "i=3, temp= 2\n",
      "i=4, temp= 1\n"
     ]
    },
    {
     "data": {
      "text/plain": [
       "5"
      ]
     },
     "execution_count": 18,
     "metadata": {},
     "output_type": "execute_result"
    }
   ],
   "source": [
    "nums = [1, 2, 5, 3, 2]\n",
    "s.LongestBitonicSequence(nums)"
   ]
  },
  {
   "cell_type": "code",
   "execution_count": 19,
   "metadata": {},
   "outputs": [
    {
     "name": "stdout",
     "output_type": "stream",
     "text": [
      "i=0, temp= 3\n",
      "i=1, temp= 2\n",
      "i=2, temp= 3\n",
      "i=3, temp= 2\n",
      "i=4, temp= 4\n",
      "i=5, temp= 3\n",
      "i=6, temp= 2\n",
      "i=7, temp= 1\n"
     ]
    },
    {
     "data": {
      "text/plain": [
       "4"
      ]
     },
     "execution_count": 19,
     "metadata": {},
     "output_type": "execute_result"
    }
   ],
   "source": [
    "nums = [1, 11, 2, 10, 4, 5, 2, 1]\n",
    "s.LongestBitonicSequence(nums)"
   ]
  },
  {
   "cell_type": "code",
   "execution_count": 35,
   "metadata": {},
   "outputs": [],
   "source": [
    "class Solution:\n",
    "    def LongestBitonicSequence(self, nums):\n",
    "        # Code here\n",
    "        n = len(nums)\n",
    "        left, right = [0]*n, [0]*n\n",
    "        \n",
    "        for i in range(n):\n",
    "            left[i] = 1\n",
    "            for j in range(i):\n",
    "                if nums[i] > nums[j]:\n",
    "                    left[i] = max(left[i], left[j]+1)\n",
    "            #     print(f'i= {i}, j= {j}, left= {left}')\n",
    "            # print()\n",
    "\n",
    "        for i in range(n-1, -1, -1):\n",
    "            right[i] = 1\n",
    "            for j in range(i+1, n):\n",
    "                if nums[i] > nums[j]:\n",
    "                    right[i] = max(right[i], right[j]+1)\n",
    "            #     print(f'i= {i}, j= {j}, right= {right}')\n",
    "            # print()\n",
    "\n",
    "        print(f'nums= {nums}')\n",
    "        print(f'left(modified)= {left}')\n",
    "        print(f'right(modified)= {right}')\n",
    "                    \n",
    "        ans = 0\n",
    "        for i in range(n):\n",
    "            ans = max(ans, left[i]+right[i]-1)\n",
    "        return ans\n",
    "\n",
    "s= Solution()"
   ]
  },
  {
   "cell_type": "code",
   "execution_count": 36,
   "metadata": {},
   "outputs": [
    {
     "name": "stdout",
     "output_type": "stream",
     "text": [
      "nums= [1, 2, 5, 3, 2]\n",
      "left(modified)= [1, 2, 3, 3, 2]\n",
      "right(modified)= [1, 1, 3, 2, 1]\n"
     ]
    },
    {
     "data": {
      "text/plain": [
       "5"
      ]
     },
     "execution_count": 36,
     "metadata": {},
     "output_type": "execute_result"
    }
   ],
   "source": [
    "nums = [1, 2, 5, 3, 2]\n",
    "s.LongestBitonicSequence(nums)"
   ]
  },
  {
   "cell_type": "code",
   "execution_count": 28,
   "metadata": {},
   "outputs": [
    {
     "name": "stdout",
     "output_type": "stream",
     "text": [
      "nums= [1, 11, 2, 10, 4, 5, 2, 1]\n",
      "left(modified)= [1, 2, 2, 3, 3, 4, 2, 1]\n",
      "right(modified)= [1, 5, 2, 4, 3, 3, 2, 1]\n"
     ]
    },
    {
     "data": {
      "text/plain": [
       "6"
      ]
     },
     "execution_count": 28,
     "metadata": {},
     "output_type": "execute_result"
    }
   ],
   "source": [
    "nums = [1, 11, 2, 10, 4, 5, 2, 1]\n",
    "s.LongestBitonicSequence(nums)"
   ]
  },
  {
   "cell_type": "code",
   "execution_count": 21,
   "metadata": {},
   "outputs": [
    {
     "name": "stdout",
     "output_type": "stream",
     "text": [
      "LIS(initialized): [1, 1, 1, 1, 1, 1, 1, 1, 1, 1, 1, 1, 1, 1, 1, 1, 1]\n",
      "LIS(modified): [1, 2, 2, 3, 2, 3, 3, 4, 2, 4, 3, 5, 3, 5, 4, 6, 1]\n",
      "Length of LBS is 7\n"
     ]
    }
   ],
   "source": [
    "# Dynamic Programming implementation of longest bitonic subsequence problem\n",
    "\"\"\"\n",
    "lbs() returns the length of the Longest Bitonic Subsequence in arr[] of size n. \n",
    "The function mainly creates two temporary arrays:\n",
    "        --> lis[] and lds[] \n",
    "        --> returns the maximum lis[i] + lds[i] - 1.\n",
    "\n",
    "lis[i] ==> Longest Increasing Subsequence ending with arr[i]\n",
    "lds[i] ==> Longest decreasing Subsequence starting with arr[i]\n",
    "\"\"\"\n",
    "\n",
    "def lbs(arr):\n",
    "\tn = len(arr)\n",
    "\n",
    "\n",
    "\t# allocate memory for LIS[] and initialize LIS values as 1 for all indexes\n",
    "\tlis = [1 for i in range(n+1)]\n",
    "\tprint(f'LIS(initialized): {lis}')\n",
    "\n",
    "\t# Compute LIS values from left to right\n",
    "\tfor i in range(1 , n):\n",
    "\t\tfor j in range(0 , i):\n",
    "\t\t\tif ((arr[i] > arr[j]) and (lis[i] < lis[j] +1)):\n",
    "\t\t\t\tlis[i] = lis[j] + 1\n",
    "\t\n",
    "\tprint(f'LIS(modified): {lis}')\n",
    "\n",
    "\t# allocate memory for LDS and initialize LDS values for all indexes\n",
    "\tlds = [1 for i in range(n+1)]\n",
    "\t\n",
    "\t# Compute LDS values from right to left\n",
    "\tfor i in reversed(range(n-1)): #loop from n-2 downto 0\n",
    "\t\tfor j in reversed(range(i-1 ,n)): #loop from n-1 downto i-1\n",
    "\t\t\tif(arr[i] > arr[j] and lds[i] < lds[j] + 1):\n",
    "\t\t\t\tlds[i] = lds[j] + 1\n",
    "\n",
    "\n",
    "\t# Return the maximum value of (lis[i] + lds[i] - 1)\n",
    "\tmaximum = lis[0] + lds[0] - 1\n",
    "\tfor i in range(1 , n):\n",
    "\t\tmaximum = max((lis[i] + lds[i]-1), maximum)\n",
    "\t\n",
    "\treturn maximum\n",
    "\n",
    "# Driver program to test the above function\n",
    "arr = [0 , 8 , 4, 12, 2, 10 , 6 , 14 , 1 , 9 , 5 , 13,\n",
    "\t\t3, 11 , 7 , 15]\n",
    "print (\"Length of LBS is\",lbs(arr))\n",
    "\n",
    "# This code is contributed by Nikhil Kumar Singh(nickzuck_007)\n",
    "# Time Complexity: O(n^2) \n",
    "# Auxiliary Space: O(n)"
   ]
  },
  {
   "cell_type": "code",
   "execution_count": null,
   "metadata": {},
   "outputs": [],
   "source": []
  },
  {
   "cell_type": "code",
   "execution_count": null,
   "metadata": {},
   "outputs": [],
   "source": []
  }
 ],
 "metadata": {
  "kernelspec": {
   "display_name": "Python 3.9.7 64-bit",
   "language": "python",
   "name": "python3"
  },
  "language_info": {
   "codemirror_mode": {
    "name": "ipython",
    "version": 3
   },
   "file_extension": ".py",
   "mimetype": "text/x-python",
   "name": "python",
   "nbconvert_exporter": "python",
   "pygments_lexer": "ipython3",
   "version": "3.9.7"
  },
  "orig_nbformat": 4,
  "vscode": {
   "interpreter": {
    "hash": "2e61b4e68d91170e6a828addbb12c998be56a3b087bfc9988ada4585bf499f3e"
   }
  }
 },
 "nbformat": 4,
 "nbformat_minor": 2
}
