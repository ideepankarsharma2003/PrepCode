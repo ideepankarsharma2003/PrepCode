{
 "cells": [
  {
   "attachments": {},
   "cell_type": "markdown",
   "metadata": {},
   "source": [
    "# **POTD 29 November**\n",
    "## ***[Count the Number of Full Binary Trees](https://practice.geeksforgeeks.org/problems/count-the-number-of-full-binary-trees2525/1)***"
   ]
  },
  {
   "cell_type": "code",
   "execution_count": 1,
   "metadata": {},
   "outputs": [
    {
     "name": "stdout",
     "output_type": "stream",
     "text": [
      "hello world\n"
     ]
    }
   ],
   "source": [
    "print(\"hello world\")"
   ]
  },
  {
   "cell_type": "code",
   "execution_count": 4,
   "metadata": {},
   "outputs": [],
   "source": [
    "\n",
    "class Solution:\n",
    "    def numoffbt(self, arr, n):\n",
    "     # Your code goes here\n",
    "     print(f'arr= {arr}')\n",
    "     d = {x:1 for x in arr}\n",
    "     print(f'd= {d}')\n",
    "     a = sorted(d.keys())\n",
    "     print(f'a= {a}')\n",
    "     ans = 0\n",
    "     mod = 10**9+7\n",
    "     for i in a:\n",
    "         for j in range(2*i, min(i*i+1, a[-1]+1), i):\n",
    "             if j in d and j//i in d:\n",
    "                 temp = d[i] * d[j//i]\n",
    "                 if i * i != j:\n",
    "                     temp = 2 * temp\n",
    "                 d[j] += temp\n",
    "         ans += d[i]\n",
    "     return ans % mod\n",
    "\n",
    "s= Solution()"
   ]
  },
  {
   "cell_type": "code",
   "execution_count": 5,
   "metadata": {},
   "outputs": [
    {
     "name": "stdout",
     "output_type": "stream",
     "text": [
      "arr= [2, 3, 4, 6]\n",
      "d= {2: 1, 3: 1, 4: 1, 6: 1}\n",
      "a= [2, 3, 4, 6]\n"
     ]
    },
    {
     "data": {
      "text/plain": [
       "7"
      ]
     },
     "execution_count": 5,
     "metadata": {},
     "output_type": "execute_result"
    }
   ],
   "source": [
    "n = 4\n",
    "arr= [2, 3, 4, 6]\n",
    "s.numoffbt(arr, n)"
   ]
  },
  {
   "cell_type": "code",
   "execution_count": 6,
   "metadata": {},
   "outputs": [
    {
     "name": "stdout",
     "output_type": "stream",
     "text": [
      "arr= [2, 4, 5]\n",
      "d= {2: 1, 4: 1, 5: 1}\n",
      "a= [2, 4, 5]\n"
     ]
    },
    {
     "data": {
      "text/plain": [
       "4"
      ]
     },
     "execution_count": 6,
     "metadata": {},
     "output_type": "execute_result"
    }
   ],
   "source": [
    "n = 3\n",
    "arr= [2, 4, 5]\n",
    "s.numoffbt(arr, n)"
   ]
  },
  {
   "cell_type": "code",
   "execution_count": null,
   "metadata": {},
   "outputs": [],
   "source": []
  }
 ],
 "metadata": {
  "kernelspec": {
   "display_name": "Python 3.9.7 64-bit",
   "language": "python",
   "name": "python3"
  },
  "language_info": {
   "codemirror_mode": {
    "name": "ipython",
    "version": 3
   },
   "file_extension": ".py",
   "mimetype": "text/x-python",
   "name": "python",
   "nbconvert_exporter": "python",
   "pygments_lexer": "ipython3",
   "version": "3.9.7"
  },
  "orig_nbformat": 4,
  "vscode": {
   "interpreter": {
    "hash": "2e61b4e68d91170e6a828addbb12c998be56a3b087bfc9988ada4585bf499f3e"
   }
  }
 },
 "nbformat": 4,
 "nbformat_minor": 2
}
