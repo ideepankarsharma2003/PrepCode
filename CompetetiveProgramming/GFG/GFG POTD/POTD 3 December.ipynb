{
 "cells": [
  {
   "attachments": {},
   "cell_type": "markdown",
   "metadata": {},
   "source": [
    "# **POTD 3 December**\n",
    "## ***[Aggressive Cows](https://practice.geeksforgeeks.org/problems/aggressive-cows/1)***"
   ]
  },
  {
   "cell_type": "code",
   "execution_count": 1,
   "metadata": {},
   "outputs": [],
   "source": [
    "class Solution:\n",
    "    def solve(self,n,k,stalls):\n",
    "        def check(n, k, cur, stalls):\n",
    "            i = 0\n",
    "            while i < n:\n",
    "                beg = stalls[i]\n",
    "                k -= 1\n",
    "                while i < n and stalls[i] - beg < cur:\n",
    "                    i += 1\n",
    "            return k <= 0\n",
    "        \n",
    "        stalls.sort()\n",
    "        low = 1\n",
    "        high = 10**9\n",
    "        res = 0\n",
    "        while low <= high:\n",
    "            mid = (low + high) // 2\n",
    "            if check(n, k, mid, stalls):\n",
    "                res = mid\n",
    "                low = mid+1\n",
    "            else:\n",
    "                high = mid-1\n",
    "        return res"
   ]
  },
  {
   "cell_type": "code",
   "execution_count": null,
   "metadata": {},
   "outputs": [],
   "source": []
  }
 ],
 "metadata": {
  "kernelspec": {
   "display_name": "Python 3.9.6 64-bit",
   "language": "python",
   "name": "python3"
  },
  "language_info": {
   "codemirror_mode": {
    "name": "ipython",
    "version": 3
   },
   "file_extension": ".py",
   "mimetype": "text/x-python",
   "name": "python",
   "nbconvert_exporter": "python",
   "pygments_lexer": "ipython3",
   "version": "3.9.6"
  },
  "orig_nbformat": 4,
  "vscode": {
   "interpreter": {
    "hash": "c0a3c91513ce8330cc510c252bd0d2b8c5edf3f02855cf0373cb264a8e18d0f0"
   }
  }
 },
 "nbformat": 4,
 "nbformat_minor": 2
}
