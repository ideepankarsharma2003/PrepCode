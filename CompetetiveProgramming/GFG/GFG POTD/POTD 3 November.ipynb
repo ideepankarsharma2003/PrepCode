{
 "cells": [
  {
   "cell_type": "markdown",
   "metadata": {},
   "source": [
    "# **POTD 3 November**\n",
    "## ***[Array Removals](https://practice.geeksforgeeks.org/problems/array-removals/1)***"
   ]
  },
  {
   "cell_type": "code",
   "execution_count": 10,
   "metadata": {},
   "outputs": [],
   "source": [
    "N = 9\n",
    "K = 4  \n",
    "arr = [1,3,4,9,10,11,12,17,20]"
   ]
  },
  {
   "cell_type": "code",
   "execution_count": 11,
   "metadata": {},
   "outputs": [
    {
     "data": {
      "text/plain": [
       "[1, 3, 4, 9, 10, 11, 12, 17, 20]"
      ]
     },
     "execution_count": 11,
     "metadata": {},
     "output_type": "execute_result"
    }
   ],
   "source": [
    "arr.sort()\n",
    "arr"
   ]
  },
  {
   "cell_type": "code",
   "execution_count": 12,
   "metadata": {},
   "outputs": [
    {
     "name": "stdout",
     "output_type": "stream",
     "text": [
      "count= 8\n",
      "arr= [17]\n"
     ]
    }
   ],
   "source": [
    "count= 0\n",
    "while (arr[-1]-arr[0])>K:\n",
    "    if (arr[1]-arr[0])>(arr[-1]-arr[-2]):\n",
    "        arr.pop()\n",
    "    else:\n",
    "        arr.pop(0)\n",
    "    count+=1\n",
    "print(f'count= {count}')\n",
    "print(f'arr= {arr}')"
   ]
  },
  {
   "cell_type": "code",
   "execution_count": 7,
   "metadata": {},
   "outputs": [],
   "source": [
    "def removals(arr, n, k):\n",
    "    arr.sort()\n",
    "    count= 0\n",
    "    while (arr[-1]-arr[0])>K:\n",
    "        arr.pop()\n",
    "        count+=1\n",
    "    print(f'count= {count}')\n",
    "    print(f'arr= {arr}')"
   ]
  },
  {
   "cell_type": "code",
   "execution_count": 8,
   "metadata": {},
   "outputs": [
    {
     "name": "stdout",
     "output_type": "stream",
     "text": [
      "count= 6\n",
      "arr= [1, 3, 4]\n"
     ]
    }
   ],
   "source": [
    "N = 9\n",
    "K = 4  \n",
    "arr = [1,3,4,9,10,11,12,17,20]\n",
    "removals(arr, N, K)"
   ]
  },
  {
   "cell_type": "code",
   "execution_count": 9,
   "metadata": {},
   "outputs": [
    {
     "name": "stdout",
     "output_type": "stream",
     "text": [
      "count= 3\n",
      "arr= [1, 2]\n"
     ]
    }
   ],
   "source": [
    "N = 5\n",
    "K = 2 \n",
    "arr= [1, 5, 6, 2, 8]\n",
    "removals(arr, N, K)"
   ]
  },
  {
   "cell_type": "markdown",
   "metadata": {},
   "source": [
    "**[Editorial](https://www.geeksforgeeks.org/minimum-removals-array-make-max-min-k/)**"
   ]
  },
  {
   "cell_type": "code",
   "execution_count": null,
   "metadata": {},
   "outputs": [],
   "source": [
    "# Python program to find\n",
    "# minimum removals to\n",
    "# make max-min <= K\n",
    "MAX = 100\n",
    "dp = [[0 for i in range(MAX)]\n",
    "\t\tfor i in range(MAX)]\n",
    "for i in range(0, MAX) :\n",
    "\tfor j in range(0, MAX) :\n",
    "\t\tdp[i][j] = -1\n",
    "\n",
    "# function to check all\n",
    "# possible combinations\n",
    "# of removal and return\n",
    "# the minimum one\n",
    "def countRemovals(a, i, j, k) :\n",
    "\n",
    "\tglobal dp\n",
    "\t\n",
    "\t# base case when all\n",
    "\t# elements are removed\n",
    "\tif (i >= j) :\n",
    "\t\treturn 0\n",
    "\n",
    "\t# if condition is satisfied,\n",
    "\t# no more removals are required\n",
    "\telif ((a[j] - a[i]) <= k) :\n",
    "\t\treturn 0\n",
    "\n",
    "\t# if the state has\n",
    "\t# already been visited\n",
    "\telif (dp[i][j] != -1) :\n",
    "\t\treturn dp[i][j]\n",
    "\n",
    "\t# when Amax-Amin>d\n",
    "\telif ((a[j] - a[i]) > k) :\n",
    "\n",
    "\t\t# minimum is taken of\n",
    "\t\t# the removal of minimum\n",
    "\t\t# element or removal of\n",
    "\t\t# the maximum element\n",
    "\t\tdp[i][j] = 1 + min(countRemovals(a, i + 1,\n",
    "\t\t\t\t\t\t\t\t\t\tj, k),\n",
    "\t\t\t\t\t\tcountRemovals(a, i,\n",
    "\t\t\t\t\t\t\t\t\t\tj - 1, k))\n",
    "\treturn dp[i][j]\n",
    "\n",
    "# To sort the array\n",
    "# and return the answer\n",
    "def removals(a, n, k) :\n",
    "\n",
    "\t# sort the array\n",
    "\ta.sort()\n",
    "\n",
    "\t# fill all stated\n",
    "\t# with -1 when only\n",
    "\t# one element\n",
    "\tif (n == 1) :\n",
    "\t\treturn 0\n",
    "\telse :\n",
    "\t\treturn countRemovals(a, 0,\n",
    "\t\t\t\t\t\t\tn - 1, k)\n",
    "\n",
    "# Driver Code\n",
    "a = [1, 3, 4, 9, 10,\n",
    "\t11, 12, 17, 20]\n",
    "n = len(a)\n",
    "k = 4\n",
    "print (removals(a, n, k))\n",
    "\n",
    "# This code is contributed by\n",
    "# Manish Shaw(manishshaw1)\n",
    "# Time Complexity :O(n2) \n",
    "# Auxiliary Space: O(n2)"
   ]
  },
  {
   "cell_type": "code",
   "execution_count": 21,
   "metadata": {},
   "outputs": [
    {
     "name": "stdout",
     "output_type": "stream",
     "text": [
      "5\n"
     ]
    }
   ],
   "source": [
    "# Python program for the above approach\n",
    "def removal(a, n, k):\n",
    "\t# sort the array\n",
    "\ta.sort()\n",
    "\t# to store the max length of\n",
    "\t# array with difference <= k\n",
    "\tmaxLen = 0\n",
    "\t# pointer to keep track of starting of each subarray\n",
    "\ti = 0\n",
    "\tfor j in range(1, n):\n",
    "\t\t# if the subarray from i to j index is valid\n",
    "\t\t# the store it's length\n",
    "\t\tif a[j]-a[i] <= k:\n",
    "\t\t\tmaxLen = max(maxLen, j-i+1)\n",
    "\t\t# if subarray difference exceeds k\n",
    "\t\t# change starting position, i.e. i\n",
    "\t\telse:\n",
    "\t\t\ti = i+1\n",
    "\t\t\t\n",
    "\t\tif i >= n:\n",
    "\t\t\tbreak\n",
    "\tremove = n-maxLen\n",
    "\treturn remove\n",
    "\n",
    "\n",
    "# Driver Code\n",
    "a = [1, 3, 4, 9, 10, 11, 12, 17, 20]\n",
    "n = len(a)\n",
    "k = 4\n",
    "\n",
    "print(removal(a, n, k))\n",
    "# Time Complexity: O(nlogn)\n",
    "# Auxiliary Space: O(1)"
   ]
  },
  {
   "cell_type": "code",
   "execution_count": 3,
   "metadata": {},
   "outputs": [
    {
     "ename": "NameError",
     "evalue": "name 'removal' is not defined",
     "output_type": "error",
     "traceback": [
      "\u001b[1;31m---------------------------------------------------------------------------\u001b[0m",
      "\u001b[1;31mNameError\u001b[0m                                 Traceback (most recent call last)",
      "\u001b[1;32md:\\Placement-Prep\\CompetetiveProgramming\\GFG\\GFG POTD\\POTD 3 November.ipynb Cell 11\u001b[0m in \u001b[0;36m<cell line: 4>\u001b[1;34m()\u001b[0m\n\u001b[0;32m      <a href='vscode-notebook-cell:/d%3A/Placement-Prep/CompetetiveProgramming/GFG/GFG%20POTD/POTD%203%20November.ipynb#X13sZmlsZQ%3D%3D?line=1'>2</a>\u001b[0m K \u001b[39m=\u001b[39m \u001b[39m4\u001b[39m  \n\u001b[0;32m      <a href='vscode-notebook-cell:/d%3A/Placement-Prep/CompetetiveProgramming/GFG/GFG%20POTD/POTD%203%20November.ipynb#X13sZmlsZQ%3D%3D?line=2'>3</a>\u001b[0m arr \u001b[39m=\u001b[39m [\u001b[39m1\u001b[39m,\u001b[39m3\u001b[39m,\u001b[39m4\u001b[39m,\u001b[39m9\u001b[39m,\u001b[39m10\u001b[39m,\u001b[39m11\u001b[39m,\u001b[39m12\u001b[39m,\u001b[39m17\u001b[39m,\u001b[39m20\u001b[39m]\n\u001b[1;32m----> <a href='vscode-notebook-cell:/d%3A/Placement-Prep/CompetetiveProgramming/GFG/GFG%20POTD/POTD%203%20November.ipynb#X13sZmlsZQ%3D%3D?line=3'>4</a>\u001b[0m removal(arr, N, K)\n",
      "\u001b[1;31mNameError\u001b[0m: name 'removal' is not defined"
     ]
    }
   ],
   "source": [
    "N = 9\n",
    "K = 4  \n",
    "arr = [1,3,4,9,10,11,12,17,20]\n",
    "removal(arr, N, K)"
   ]
  },
  {
   "cell_type": "code",
   "execution_count": null,
   "metadata": {},
   "outputs": [
    {
     "data": {
      "text/plain": [
       "2"
      ]
     },
     "execution_count": 23,
     "metadata": {},
     "output_type": "execute_result"
    }
   ],
   "source": [
    "N = 2\n",
    "K = 11\n",
    "arr = [62 ,24]\n",
    "removal(arr, N, K)"
   ]
  },
  {
   "cell_type": "code",
   "execution_count": 13,
   "metadata": {},
   "outputs": [],
   "source": [
    "#User function Template for python3\n",
    "\n",
    "\n",
    "class Solution:\n",
    "\n",
    "    def removals(self, arr, n, k):\n",
    "\t\t# code here\n",
    "        arr.sort()\n",
    "\n",
    "        x= 0 # starting index\n",
    "\n",
    "        maxlen= 0 # maximum length of subarray which satisfies Amax-Amin<=K\n",
    "        for i in range(n): # O(n)\n",
    "            while arr[i]-arr[x]>k: # O(n)\n",
    "                x+=1\n",
    "        maxlen= max(maxlen, i+1-x)\n",
    "        print(f'arr(nex)= {arr[x:]}')        \n",
    "        return n- maxlen\n",
    "\t\t       \n",
    "\t\t        \n",
    "\t\t    \n",
    "# Time Complexity: O(N*N)\n",
    "# Auxiliary Space: O(1)\n",
    "\n",
    "\n",
    "s= Solution()\n",
    "\n",
    "\n"
   ]
  },
  {
   "cell_type": "code",
   "execution_count": 14,
   "metadata": {},
   "outputs": [
    {
     "name": "stdout",
     "output_type": "stream",
     "text": [
      "arr(nex)= [62]\n"
     ]
    },
    {
     "data": {
      "text/plain": [
       "1"
      ]
     },
     "execution_count": 14,
     "metadata": {},
     "output_type": "execute_result"
    }
   ],
   "source": [
    "N = 2\n",
    "K = 11\n",
    "arr = [62 ,24]\n",
    "s.removals(arr, N, K)"
   ]
  },
  {
   "cell_type": "code",
   "execution_count": 15,
   "metadata": {},
   "outputs": [
    {
     "name": "stdout",
     "output_type": "stream",
     "text": [
      "arr(nex)= [17, 20]\n"
     ]
    },
    {
     "data": {
      "text/plain": [
       "7"
      ]
     },
     "execution_count": 15,
     "metadata": {},
     "output_type": "execute_result"
    }
   ],
   "source": [
    "N = 9\n",
    "K = 4  \n",
    "arr = [1,3,4,9,10,11,12,17,20]\n",
    "s.removals(arr, N, K)"
   ]
  },
  {
   "cell_type": "code",
   "execution_count": null,
   "metadata": {},
   "outputs": [],
   "source": []
  }
 ],
 "metadata": {
  "kernelspec": {
   "display_name": "Python 3.9.7 64-bit",
   "language": "python",
   "name": "python3"
  },
  "language_info": {
   "codemirror_mode": {
    "name": "ipython",
    "version": 3
   },
   "file_extension": ".py",
   "mimetype": "text/x-python",
   "name": "python",
   "nbconvert_exporter": "python",
   "pygments_lexer": "ipython3",
   "version": "3.9.7"
  },
  "orig_nbformat": 4,
  "vscode": {
   "interpreter": {
    "hash": "2e61b4e68d91170e6a828addbb12c998be56a3b087bfc9988ada4585bf499f3e"
   }
  }
 },
 "nbformat": 4,
 "nbformat_minor": 2
}
