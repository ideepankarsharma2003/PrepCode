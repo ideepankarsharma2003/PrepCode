{
 "cells": [
  {
   "cell_type": "markdown",
   "metadata": {},
   "source": [
    "# **POTD 31 October**\n",
    "## ***[Satisfy the equation](https://practice.geeksforgeeks.org/problems/satisfy-the-equation5847/1)***"
   ]
  },
  {
   "cell_type": "code",
   "execution_count": 4,
   "metadata": {},
   "outputs": [],
   "source": [
    "#User function Template for python3\n",
    "\n",
    "class Solution:\n",
    "    def __init__(self) -> None:\n",
    "        pass\n",
    "    def satisfyEqn(self, A, N):\n",
    "        # code here \n",
    "        for i in range(N):\n",
    "            for j in range(N):\n",
    "                if j!=i:\n",
    "                    for k in range(N):\n",
    "                        if k!=i and k!=j:\n",
    "                            for l in range(N):\n",
    "                                if l!=k and l!=j and l!=i:\n",
    "                                    if A[i]+A[j]==A[k]+A[l]:\n",
    "                                        return [i, j, k, l]\n",
    "        return [-1, -1, -1, -1]\n",
    "\n",
    "\n",
    "s= Solution()"
   ]
  },
  {
   "cell_type": "code",
   "execution_count": 5,
   "metadata": {},
   "outputs": [
    {
     "data": {
      "text/plain": [
       "[0, 2, 3, 5]"
      ]
     },
     "execution_count": 5,
     "metadata": {},
     "output_type": "execute_result"
    }
   ],
   "source": [
    "N = 7\n",
    "A= [3, 4, 7, 1, 2, 9, 8]\n",
    "\n",
    "\n",
    "s.satisfyEqn(A, N)"
   ]
  },
  {
   "cell_type": "code",
   "execution_count": 6,
   "metadata": {},
   "outputs": [
    {
     "data": {
      "text/plain": [
       "[-1, -1, -1, -1]"
      ]
     },
     "execution_count": 6,
     "metadata": {},
     "output_type": "execute_result"
    }
   ],
   "source": [
    "N = 4\n",
    "A= [424, 12, 31, 7]\n",
    "\n",
    "\n",
    "s.satisfyEqn(A, N)"
   ]
  },
  {
   "cell_type": "code",
   "execution_count": null,
   "metadata": {},
   "outputs": [],
   "source": []
  }
 ],
 "metadata": {
  "kernelspec": {
   "display_name": "Python 3.9.7 64-bit",
   "language": "python",
   "name": "python3"
  },
  "language_info": {
   "codemirror_mode": {
    "name": "ipython",
    "version": 3
   },
   "file_extension": ".py",
   "mimetype": "text/x-python",
   "name": "python",
   "nbconvert_exporter": "python",
   "pygments_lexer": "ipython3",
   "version": "3.9.7"
  },
  "orig_nbformat": 4,
  "vscode": {
   "interpreter": {
    "hash": "2e61b4e68d91170e6a828addbb12c998be56a3b087bfc9988ada4585bf499f3e"
   }
  }
 },
 "nbformat": 4,
 "nbformat_minor": 2
}
