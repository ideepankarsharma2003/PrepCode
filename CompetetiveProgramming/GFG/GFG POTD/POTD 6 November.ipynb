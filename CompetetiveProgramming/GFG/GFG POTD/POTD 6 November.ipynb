{
 "cells": [
  {
   "cell_type": "markdown",
   "metadata": {},
   "source": [
    "# **POTD 6 November**\n",
    "## ***[Minimum number of Coins](https://practice.geeksforgeeks.org/problems/-minimum-number-of-coins4426/1)***"
   ]
  },
  {
   "cell_type": "code",
   "execution_count": 19,
   "metadata": {},
   "outputs": [
    {
     "name": "stdout",
     "output_type": "stream",
     "text": [
      "Hello\n"
     ]
    }
   ],
   "source": [
    "print('Hello')"
   ]
  },
  {
   "cell_type": "code",
   "execution_count": 20,
   "metadata": {},
   "outputs": [],
   "source": [
    "N= 43"
   ]
  },
  {
   "cell_type": "code",
   "execution_count": 21,
   "metadata": {},
   "outputs": [
    {
     "data": {
      "text/plain": [
       "[2000, 500, 200, 100, 50, 20, 10, 5, 2, 1]"
      ]
     },
     "execution_count": 21,
     "metadata": {},
     "output_type": "execute_result"
    }
   ],
   "source": [
    "coins= [1, 2, 5, 10, 20, 50, 100, 200, 500, 2000 ]\n",
    "coins.reverse()\n",
    "coins"
   ]
  },
  {
   "cell_type": "code",
   "execution_count": 27,
   "metadata": {},
   "outputs": [],
   "source": [
    "def countCoins(N):\n",
    "    coins= [1, 2, 5, 10, 20, 50, 100, 200, 500, 2000 ]\n",
    "    coins.reverse()\n",
    "    # count= 0\n",
    "    l= []\n",
    "    for i in coins:\n",
    "        if N>=i:\n",
    "            # count+=N//i\n",
    "            freq=N//i\n",
    "            print(f'{N//i}* {i} Coins')\n",
    "            x= [i]*freq\n",
    "            l+=x\n",
    "            N= N%i\n",
    "            print(f'N(rem)= {N}')\n",
    "    print(f'coins= {l}')"
   ]
  },
  {
   "cell_type": "code",
   "execution_count": 28,
   "metadata": {},
   "outputs": [
    {
     "name": "stdout",
     "output_type": "stream",
     "text": [
      "2* 20 Coins\n",
      "N(rem)= 3\n",
      "1* 2 Coins\n",
      "N(rem)= 1\n",
      "1* 1 Coins\n",
      "N(rem)= 0\n",
      "coins= [20, 20, 2, 1]\n"
     ]
    }
   ],
   "source": [
    "countCoins(43)"
   ]
  },
  {
   "cell_type": "code",
   "execution_count": 29,
   "metadata": {},
   "outputs": [
    {
     "name": "stdout",
     "output_type": "stream",
     "text": [
      "2* 500 Coins\n",
      "N(rem)= 0\n",
      "coins= [500, 500]\n"
     ]
    }
   ],
   "source": [
    "countCoins(1000)"
   ]
  },
  {
   "cell_type": "code",
   "execution_count": 31,
   "metadata": {},
   "outputs": [],
   "source": [
    "class Solution:\n",
    "    def minPartition(self, N):\n",
    "        # code here\n",
    "        coins= [1, 2, 5, 10, 20, 50, 100, 200, 500, 2000 ]\n",
    "        coins.reverse()\n",
    "        l= []\n",
    "        for i in coins:\n",
    "            if N>=i:\n",
    "                # count+=N//i\n",
    "                freq=N//i\n",
    "                # print(f'{N//i}* {i} Coins')\n",
    "                x= [i]*freq\n",
    "                l+=x\n",
    "                N= N%i\n",
    "                # print(f'N(rem)= {N}')\n",
    "        # print(f'coins= {l}')\n",
    "        return l\n",
    "        \n",
    "s= Solution()"
   ]
  },
  {
   "cell_type": "code",
   "execution_count": 32,
   "metadata": {},
   "outputs": [
    {
     "data": {
      "text/plain": [
       "[20, 20, 2, 1]"
      ]
     },
     "execution_count": 32,
     "metadata": {},
     "output_type": "execute_result"
    }
   ],
   "source": [
    "s.minPartition(43)"
   ]
  },
  {
   "cell_type": "code",
   "execution_count": null,
   "metadata": {},
   "outputs": [],
   "source": []
  }
 ],
 "metadata": {
  "kernelspec": {
   "display_name": "Python 3.9.7 64-bit",
   "language": "python",
   "name": "python3"
  },
  "language_info": {
   "codemirror_mode": {
    "name": "ipython",
    "version": 3
   },
   "file_extension": ".py",
   "mimetype": "text/x-python",
   "name": "python",
   "nbconvert_exporter": "python",
   "pygments_lexer": "ipython3",
   "version": "3.9.7"
  },
  "orig_nbformat": 4,
  "vscode": {
   "interpreter": {
    "hash": "2e61b4e68d91170e6a828addbb12c998be56a3b087bfc9988ada4585bf499f3e"
   }
  }
 },
 "nbformat": 4,
 "nbformat_minor": 2
}
