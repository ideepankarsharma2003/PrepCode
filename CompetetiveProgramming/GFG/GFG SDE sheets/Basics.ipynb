{
 "cells": [
  {
   "attachments": {},
   "cell_type": "markdown",
   "metadata": {},
   "source": [
    "# **[Implement strstr](https://practice.geeksforgeeks.org/problems/implement-strstr/1?page=1&difficulty[]=-1&curated[]=1&sortBy=submissions)**"
   ]
  },
  {
   "cell_type": "code",
   "execution_count": null,
   "metadata": {},
   "outputs": [],
   "source": [
    "#Function to locate the occurrence of the string x in the string s.\n",
    "def strstr(s, x):\n",
    "    #code here\n",
    "    ls = len(s)\n",
    "    lx = len(x)\n",
    "\n",
    "    for i in range(ls):\n",
    "        if s[i] == x[0]:\n",
    "            if s[i:i+lx] == x[:lx]:\n",
    "                return i\n",
    "\n",
    "    return -1\n"
   ]
  },
  {
   "attachments": {},
   "cell_type": "markdown",
   "metadata": {},
   "source": [
    "# **[Rotate Bits](https://practice.geeksforgeeks.org/problems/rotate-bits4524/1?page=1&difficulty[]=-1&curated[]=1&sortBy=submissions)**\n"
   ]
  },
  {
   "cell_type": "code",
   "execution_count": 28,
   "metadata": {},
   "outputs": [],
   "source": [
    "#User function Template for python3\n",
    "\n",
    "class Solution:\n",
    "    def rotate(self, N, D):\n",
    "        # code here\n",
    "        if D>16:\n",
    "            D= D%16\n",
    "            \n",
    "        N_bin = bin(N)\n",
    "        N_bin= N_bin[2:]\n",
    "        print(N_bin)\n",
    "        lnb= len(N_bin)\n",
    "        N_bin= '0'*(16-lnb)+N_bin\n",
    "        print(N_bin)\n",
    "\n",
    "        l_N_bin= N_bin[D:]+N_bin[:D]\n",
    "        r_N_bin= N_bin[-1*D:]+N_bin[:-1*D]\n",
    "\n",
    "        print(l_N_bin)\n",
    "        print(r_N_bin)\n",
    "        \n",
    "        return [int(l_N_bin, 2), int(r_N_bin, 2)]\n",
    "\n",
    "s= Solution()"
   ]
  },
  {
   "cell_type": "code",
   "execution_count": 29,
   "metadata": {},
   "outputs": [
    {
     "name": "stdout",
     "output_type": "stream",
     "text": [
      "11100\n",
      "0000000000011100\n",
      "0000000001110000\n",
      "0000000000000111\n"
     ]
    },
    {
     "data": {
      "text/plain": [
       "[112, 7]"
      ]
     },
     "execution_count": 29,
     "metadata": {},
     "output_type": "execute_result"
    }
   ],
   "source": [
    "N = 28\n",
    "D = 2\n",
    "s.rotate(N, D)\n"
   ]
  },
  {
   "cell_type": "code",
   "execution_count": 30,
   "metadata": {},
   "outputs": [
    {
     "name": "stdout",
     "output_type": "stream",
     "text": [
      "101000001\n",
      "0000000101000001\n",
      "0000010100000100\n",
      "0100000001010000\n"
     ]
    },
    {
     "data": {
      "text/plain": [
       "[1284, 16464]"
      ]
     },
     "execution_count": 30,
     "metadata": {},
     "output_type": "execute_result"
    }
   ],
   "source": [
    "N= 321 \n",
    "D= 18\n",
    "s.rotate(N, D)"
   ]
  },
  {
   "cell_type": "code",
   "execution_count": 6,
   "metadata": {},
   "outputs": [
    {
     "data": {
      "text/plain": [
       "'11100'"
      ]
     },
     "execution_count": 6,
     "metadata": {},
     "output_type": "execute_result"
    }
   ],
   "source": [
    "b= bin(N)\n",
    "b= b[2:]\n",
    "b"
   ]
  },
  {
   "cell_type": "code",
   "execution_count": 31,
   "metadata": {},
   "outputs": [
    {
     "data": {
      "text/plain": [
       "3"
      ]
     },
     "execution_count": 31,
     "metadata": {},
     "output_type": "execute_result"
    }
   ],
   "source": [
    "b.count('1')"
   ]
  },
  {
   "attachments": {},
   "cell_type": "markdown",
   "metadata": {},
   "source": [
    "# **[Power of 2](https://practice.geeksforgeeks.org/problems/power-of-2-1587115620/1?page=1&difficulty[]=-1&curated[]=1&sortBy=submissions)**\n"
   ]
  },
  {
   "cell_type": "code",
   "execution_count": 32,
   "metadata": {},
   "outputs": [],
   "source": [
    "#User function Template for python3\n",
    "\n",
    "class Solution:\n",
    "    ##Complete this function\n",
    "    # Function to check if given number n is a power of two.\n",
    "    def isPowerofTwo(self, n):\n",
    "        ##Your code here\n",
    "        bin_n = bin(n)\n",
    "        bin_n = bin_n[2:]\n",
    "\n",
    "        if bin_n.count('1') == 1:\n",
    "            return True\n",
    "        return False\n"
   ]
  },
  {
   "attachments": {},
   "cell_type": "markdown",
   "metadata": {},
   "source": [
    "# **[Bit Difference](https://practice.geeksforgeeks.org/problems/bit-difference-1587115620/1?page=1&difficulty[]=-1&curated[]=1&sortBy=submissions)**\n"
   ]
  },
  {
   "cell_type": "code",
   "execution_count": null,
   "metadata": {},
   "outputs": [],
   "source": [
    "#User function Template for python3\n",
    "\n",
    "class Solution:\n",
    "    ##Complete this function\n",
    "    # Function to find number of bits needed to be flipped to convert A to B\n",
    "    def countBitsFlip(self, a, b):\n",
    "        ##Your code here\n",
    "        ba = bin(a)\n",
    "        ba = ba[2:]\n",
    "        bb = bin(b)\n",
    "        bb = bb[2:]\n",
    "\n",
    "        la, lb = len(ba), len(bb)\n",
    "        ml = max(la, lb)\n",
    "\n",
    "        ba = '0'*(ml-la) + ba\n",
    "        bb = '0'*(ml-lb) + bb\n",
    "\n",
    "        count = 0\n",
    "        for i in range(ml):\n",
    "            if ba[i] != bb[i]:\n",
    "                count += 1\n",
    "\n",
    "        return count\n"
   ]
  },
  {
   "attachments": {},
   "cell_type": "markdown",
   "metadata": {},
   "source": [
    "# **[Number is sparse or not](https://practice.geeksforgeeks.org/problems/number-is-sparse-or-not-1587115620/1?page=1&difficulty[]=-1&curated[]=1&sortBy=submissions)**\n"
   ]
  },
  {
   "cell_type": "code",
   "execution_count": 41,
   "metadata": {},
   "outputs": [],
   "source": [
    "#User function Template for python3\n",
    "# set --> 1\n",
    "# unset -> 0\n",
    "\n",
    "class Solution:\n",
    "\n",
    "    #Function to check if the number is sparse or not.\n",
    "    def isSparse(self, n):\n",
    "        #Your code here\n",
    "        if n & (n>>1):\n",
    "            return False\n",
    "        return True\n",
    "\n",
    "s= Solution()"
   ]
  },
  {
   "cell_type": "code",
   "execution_count": 42,
   "metadata": {},
   "outputs": [
    {
     "data": {
      "text/plain": [
       "True"
      ]
     },
     "execution_count": 42,
     "metadata": {},
     "output_type": "execute_result"
    }
   ],
   "source": [
    "s.isSparse(41)"
   ]
  },
  {
   "cell_type": "code",
   "execution_count": 38,
   "metadata": {},
   "outputs": [
    {
     "name": "stdout",
     "output_type": "stream",
     "text": [
      "1010\n",
      "101\n"
     ]
    }
   ],
   "source": [
    "print(bin(10)[2:])\n",
    "print(bin(10>>1)[2:])"
   ]
  },
  {
   "attachments": {},
   "cell_type": "markdown",
   "metadata": {},
   "source": [
    "# **[Set Kth bit](https://practice.geeksforgeeks.org/problems/set-kth-bit3724/1?page=1&difficulty[]=-1&curated[]=1&sortBy=submissions)**\n"
   ]
  },
  {
   "cell_type": "code",
   "execution_count": 47,
   "metadata": {},
   "outputs": [],
   "source": [
    "#User function Template for python3\n",
    "class Solution:\n",
    "\tdef setKthBit(self, N, K):\n",
    "\t\t# code here\n",
    "\t\tbinN = bin(N)\n",
    "\t\tbinN = binN[2:]\n",
    "\t\tprint(binN)\n",
    "\t\tx = list(binN)\n",
    "\t\tx[-1*K-1] = '1'  # 0th power se start hota hai na, esliye -1 kro\n",
    "\t\tprint(x)\n",
    "\t\tbinN = ''.join(x)\n",
    "\n",
    "\t\treturn int(binN, 2)\n",
    "\n",
    "s= Solution()"
   ]
  },
  {
   "cell_type": "code",
   "execution_count": 48,
   "metadata": {},
   "outputs": [
    {
     "name": "stdout",
     "output_type": "stream",
     "text": [
      "1010\n",
      "['1', '1', '1', '0']\n"
     ]
    },
    {
     "data": {
      "text/plain": [
       "14"
      ]
     },
     "execution_count": 48,
     "metadata": {},
     "output_type": "execute_result"
    }
   ],
   "source": [
    "s.setKthBit(10, 2)\n"
   ]
  },
  {
   "cell_type": "code",
   "execution_count": null,
   "metadata": {},
   "outputs": [],
   "source": []
  }
 ],
 "metadata": {
  "kernelspec": {
   "display_name": "Python 3",
   "language": "python",
   "name": "python3"
  },
  "language_info": {
   "codemirror_mode": {
    "name": "ipython",
    "version": 3
   },
   "file_extension": ".py",
   "mimetype": "text/x-python",
   "name": "python",
   "nbconvert_exporter": "python",
   "pygments_lexer": "ipython3",
   "version": "3.9.6"
  },
  "orig_nbformat": 4,
  "vscode": {
   "interpreter": {
    "hash": "c0a3c91513ce8330cc510c252bd0d2b8c5edf3f02855cf0373cb264a8e18d0f0"
   }
  }
 },
 "nbformat": 4,
 "nbformat_minor": 2
}
