{
 "cells": [
  {
   "cell_type": "code",
   "execution_count": null,
   "metadata": {},
   "outputs": [],
   "source": [
    "a= set()\n",
    "# a.issuperset()"
   ]
  },
  {
   "cell_type": "markdown",
   "metadata": {},
   "source": [
    "## **[Lists](https://www.hackerrank.com/challenges/python-lists/problem?isFullScreen=true)**"
   ]
  },
  {
   "cell_type": "code",
   "execution_count": 2,
   "metadata": {},
   "outputs": [
    {
     "data": {
      "text/plain": [
       "[4, 3, 2, 1]"
      ]
     },
     "execution_count": 2,
     "metadata": {},
     "output_type": "execute_result"
    }
   ],
   "source": [
    "l= [1, 2, 3, 4]\n",
    "l.reverse()\n",
    "l"
   ]
  },
  {
   "cell_type": "code",
   "execution_count": null,
   "metadata": {},
   "outputs": [],
   "source": [
    "if __name__ == '__main__':\n",
    "    N = int(input())\n",
    "    l= []\n",
    "    \n",
    "    for _ in range(N):\n",
    "        x= input()\n",
    "        x= x.split()\n",
    "        \n",
    "        if x[0]=='insert':\n",
    "            l.insert(int(x[1]), int(x[2]))\n",
    "        \n",
    "        elif x[0]=='remove':\n",
    "            l.remove(int(x[1]))\n",
    "        \n",
    "        elif x[0]=='append':\n",
    "            l.append(int(x[1]))\n",
    "        \n",
    "        elif x[0]=='sort':\n",
    "            l.sort()\n",
    "        \n",
    "        elif x[0]=='pop':\n",
    "            l.pop()\n",
    "        \n",
    "        elif x[0]=='reverse':\n",
    "            l.reverse()\n",
    "        \n",
    "        elif x[0]=='print':\n",
    "            print(l)"
   ]
  },
  {
   "cell_type": "markdown",
   "metadata": {},
   "source": [
    "## **[Map and Lambda Function](https://www.hackerrank.com/challenges/map-and-lambda-expression/problem?isFullScreen=true&h_r=next-challenge&h_v=zen)**"
   ]
  },
  {
   "cell_type": "code",
   "execution_count": 5,
   "metadata": {},
   "outputs": [],
   "source": [
    "def fibonacci(n):\n",
    "    # return a list of fibonacci numbers\n",
    "    first= 0\n",
    "    second= 1\n",
    "    third= 1\n",
    "    l= []\n",
    "    if n==1:\n",
    "        l= [first]\n",
    "    elif n==2:\n",
    "        l= [first, second]\n",
    "    else:\n",
    "        l= [first, second]\n",
    "\n",
    "    for i in range(2, n):\n",
    "        third= first+second\n",
    "        l.append(third)\n",
    "        first= second\n",
    "        second= third\n",
    "    return l"
   ]
  },
  {
   "cell_type": "code",
   "execution_count": 7,
   "metadata": {},
   "outputs": [
    {
     "data": {
      "text/plain": [
       "[0, 1, 1, 2, 3, 5, 8]"
      ]
     },
     "execution_count": 7,
     "metadata": {},
     "output_type": "execute_result"
    }
   ],
   "source": [
    "fibonacci(7)"
   ]
  },
  {
   "cell_type": "code",
   "execution_count": 11,
   "metadata": {},
   "outputs": [],
   "source": [
    "def cube(x): return x**3  # complete the lambda function\n",
    "\n",
    "\n",
    "def fibonacci(n):\n",
    "    # return a list of fibonacci numbers\n",
    "    first = 0\n",
    "    second = 1\n",
    "    third = 1\n",
    "    l = []\n",
    "    if n == 0:\n",
    "        return []\n",
    "    elif n == 1:\n",
    "        l = [first]\n",
    "    else:\n",
    "        l = [first, second]\n",
    "    for i in range(2, n):\n",
    "        third = first+second\n",
    "        l.append(third)\n",
    "        first = second\n",
    "        second = third\n",
    "    return l\n",
    "\n",
    "\n",
    "def map_cube_fibonacci(n):\n",
    "    # n = int(input())\n",
    "    print(list(map(cube, fibonacci(n))))"
   ]
  },
  {
   "cell_type": "code",
   "execution_count": 12,
   "metadata": {},
   "outputs": [
    {
     "name": "stdout",
     "output_type": "stream",
     "text": [
      "[0, 1, 1, 2, 3, 5, 8, 13, 21, 34]\n",
      "[0, 1, 1, 8, 27, 125, 512, 2197, 9261, 39304]\n"
     ]
    }
   ],
   "source": [
    "print(fibonacci(10))\n",
    "map_cube_fibonacci(10)"
   ]
  },
  {
   "cell_type": "markdown",
   "metadata": {},
   "source": [
    "## **[Validating Email Addresses With a Filter](https://www.hackerrank.com/challenges/validate-list-of-email-address-with-filter/problem?h_r%5B%5D=next-challenge&h_r%5B%5D=next-challenge&h_v%5B%5D=zen&h_v%5B%5D=zen&isFullScreen=true)**"
   ]
  },
  {
   "cell_type": "code",
   "execution_count": 62,
   "metadata": {},
   "outputs": [
    {
     "data": {
      "text/plain": [
       "'HelloDetective124'"
      ]
     },
     "execution_count": 62,
     "metadata": {},
     "output_type": "execute_result"
    }
   ],
   "source": [
    "s= \"HelloDetective124\"\n",
    "s.isalnum()\n",
    "s.lower()\n",
    "s\n"
   ]
  },
  {
   "cell_type": "code",
   "execution_count": 45,
   "metadata": {},
   "outputs": [],
   "source": [
    "def check_extension(ext):\n",
    "    if len(ext)>3:\n",
    "        return False\n",
    "    ext.lower()\n",
    "    print(f'extension= {ext}')\n",
    "    if not ext.isalpha():\n",
    "        return False\n",
    "    return True\n"
   ]
  },
  {
   "cell_type": "code",
   "execution_count": 54,
   "metadata": {},
   "outputs": [],
   "source": [
    "def check_username(un):\n",
    "    un= un.replace('-', '')\n",
    "    un= un.replace('_', '')\n",
    "    un.lower()\n",
    "    print(f'username= {un}, {un.isalnum()}')\n",
    "    if not un.isalnum():\n",
    "        return False\n",
    "    return True\n"
   ]
  },
  {
   "cell_type": "code",
   "execution_count": 55,
   "metadata": {},
   "outputs": [],
   "source": [
    "def check_website(webs):\n",
    "    # webs.replace('-', '')\n",
    "    # webs.replace('_', '')\n",
    "    webs.lower()\n",
    "    print(f'website= {webs}')\n",
    "    if not webs.isalnum():\n",
    "        return False\n",
    "    return True\n"
   ]
  },
  {
   "cell_type": "code",
   "execution_count": 56,
   "metadata": {},
   "outputs": [],
   "source": [
    "def fun(s):\n",
    "    # return True if s is a valid email, else return False\n",
    "    if not s.__contains__('@'):\n",
    "        return False\n",
    "    x= s.split('@')\n",
    "    un= x[0]\n",
    "    x= x[1]\n",
    "    if not x.__contains__('.'):\n",
    "        return False\n",
    "    x= x.split('.')\n",
    "    webs= x[0]\n",
    "    ext= x[1]\n",
    "    # print(f'username= {un}, website= {webs}, extension= {ext}')\n",
    "    if not (check_extension(ext) and check_username(un) and check_website(webs)):\n",
    "        return False\n",
    "    return True"
   ]
  },
  {
   "cell_type": "code",
   "execution_count": 57,
   "metadata": {},
   "outputs": [
    {
     "name": "stdout",
     "output_type": "stream",
     "text": [
      "extension= com\n",
      "username= iota98, True\n",
      "website= hackerrank\n"
     ]
    },
    {
     "data": {
      "text/plain": [
       "True"
      ]
     },
     "execution_count": 57,
     "metadata": {},
     "output_type": "execute_result"
    }
   ],
   "source": [
    "s= 'username@websitename.extension'\n",
    "s = 'harsh@gmail'\n",
    "s = 'iota_98@hackerrank.com'\n",
    "fun(s)"
   ]
  },
  {
   "cell_type": "code",
   "execution_count": 58,
   "metadata": {},
   "outputs": [],
   "source": [
    "def filter_mail(emails):\n",
    "    return list(filter(fun, emails))\n"
   ]
  },
  {
   "cell_type": "code",
   "execution_count": 60,
   "metadata": {},
   "outputs": [
    {
     "name": "stdout",
     "output_type": "stream",
     "text": [
      "extension= com\n",
      "username= lara, True\n",
      "website= hackerrank\n",
      "extension= com\n",
      "username= brian23, True\n",
      "website= hackerrank\n",
      "extension= com\n",
      "username= britts54, True\n",
      "website= hackerrank\n",
      "['brian-23@hackerrank.com', 'britts_54@hackerrank.com', 'lara@hackerrank.com']\n"
     ]
    }
   ],
   "source": [
    "emails= ['harsh@gmail','iota_98@hackerrank.com']\n",
    "\n",
    "emails= ['lara@hackerrank.com','brian-23@hackerrank.com','britts_54@hackerrank.com']\n",
    "filtered_emails = filter_mail(emails)\n",
    "filtered_emails.sort()\n",
    "print(filtered_emails)"
   ]
  },
  {
   "cell_type": "code",
   "execution_count": 63,
   "metadata": {},
   "outputs": [
    {
     "name": "stdout",
     "output_type": "stream",
     "text": [
      "['brian-23@hackerrank.com', 'britts_54@hackerrank.com', 'lara@hackerrank.com']\n"
     ]
    }
   ],
   "source": [
    "def check_extension(ext):\n",
    "    if len(ext)>3:\n",
    "        return False\n",
    "    ext.lower()\n",
    "    # print(f'extension= {ext}')\n",
    "    if not ext.isalpha():\n",
    "        return False\n",
    "    return True\n",
    "\n",
    "def check_username(un):\n",
    "    un= un.replace('-', '')\n",
    "    un= un.replace('_', '')\n",
    "    un.lower()\n",
    "    # print(f'username= {un}, {un.isalnum()}')\n",
    "    if not un.isalnum():\n",
    "        return False\n",
    "    return True\n",
    "\n",
    "def check_website(webs):\n",
    "    # webs.replace('-', '')\n",
    "    # webs.replace('_', '')\n",
    "    webs.lower()\n",
    "    # print(f'website= {webs}')\n",
    "    if not webs.isalnum():\n",
    "        return False\n",
    "    return True\n",
    "\n",
    "def fun(s):\n",
    "    # return True if s is a valid email, else return False\n",
    "    if not s.__contains__('@'):\n",
    "        return False\n",
    "    x= s.split('@')\n",
    "    un= x[0]\n",
    "    x= x[1]\n",
    "    if not x.__contains__('.'):\n",
    "        return False\n",
    "    x= x.split('.')\n",
    "    webs= x[0]\n",
    "    ext= x[1]\n",
    "    # print(f'username= {un}, website= {webs}, extension= {ext}')\n",
    "    if not (check_extension(ext) and check_username(un) and check_website(webs)):\n",
    "        return False\n",
    "    return True\n",
    "\n",
    "\n",
    "    \n",
    "def filter_mail(emails):\n",
    "    return list(filter(fun, emails))\n",
    "\n",
    "# if __name__ == '__main__':\n",
    "#     n = int(input())\n",
    "#     emails = []\n",
    "#     for _ in range(n):\n",
    "#         emails.append(input())\n",
    "\n",
    "\n",
    "emails = ['lara@hackerrank.com',\n",
    "          'brian-23@hackerrank.com', 'britts_54@hackerrank.com']\n",
    "\n",
    "filtered_emails = filter_mail(emails)\n",
    "filtered_emails.sort()\n",
    "print(filtered_emails)"
   ]
  },
  {
   "cell_type": "markdown",
   "metadata": {},
   "source": [
    "## **[Reduce Function](https://www.hackerrank.com/challenges/reduce-function/problem?h_r=next-challenge&h_r%5B%5D%5B%5D=next-challenge&h_r%5B%5D%5B%5D=next-challenge&h_v=zen&h_v%5B%5D%5B%5D=zen&h_v%5B%5D%5B%5D=zen&isFullScreen=true)**"
   ]
  },
  {
   "cell_type": "markdown",
   "metadata": {},
   "source": [
    "**Concept**</br>\n",
    "The *`reduce()`* function applies a function of two arguments cumulatively on a list of objects in succession from left to right to reduce it to one value. Say you have a list, say [1,2,3] and you have to find its sum."
   ]
  },
  {
   "cell_type": "code",
   "execution_count": 67,
   "metadata": {},
   "outputs": [
    {
     "name": "stdout",
     "output_type": "stream",
     "text": [
      "fracs= [Fraction(1, 2), Fraction(3, 4), Fraction(5, 3)]\n",
      "result=  5 8\n"
     ]
    }
   ],
   "source": [
    "from fractions import Fraction\n",
    "from functools import reduce\n",
    "from unittest import result\n",
    "\n",
    "\n",
    "def product(fracs):\n",
    "    # t = # complete this line with a reduce statement\n",
    "    t = reduce(lambda x, y: x*y, fracs)\n",
    "    return t.numerator, t.denominator\n",
    "\n",
    "\n",
    "# if __name__ == '__main__':\n",
    "#     fracs = []\n",
    "#     for _ in range(int(input())):\n",
    "#         fracs.append(Fraction(*map(int, input().split())))\n",
    "#     result = product(fracs)\n",
    "#     print(*result)\n",
    "l= ['1 2', '3 4', '10 6']\n",
    "fracs= []\n",
    "for i in l:\n",
    "    fracs.append(Fraction(*map(int, i.split())))\n",
    "\n",
    "print(f'fracs= {fracs}')\n",
    "result= product(fracs)\n",
    "print(f'result= ', *result)\n"
   ]
  },
  {
   "cell_type": "markdown",
   "metadata": {},
   "source": [
    "## **[Lists](https://www.hackerrank.com/challenges/python-lists/problem?isFullScreen=true)**"
   ]
  },
  {
   "cell_type": "code",
   "execution_count": null,
   "metadata": {},
   "outputs": [],
   "source": [
    "### "
   ]
  }
 ],
 "metadata": {
  "kernelspec": {
   "display_name": "Python 3.9.7 64-bit",
   "language": "python",
   "name": "python3"
  },
  "language_info": {
   "codemirror_mode": {
    "name": "ipython",
    "version": 3
   },
   "file_extension": ".py",
   "mimetype": "text/x-python",
   "name": "python",
   "nbconvert_exporter": "python",
   "pygments_lexer": "ipython3",
   "version": "3.9.7"
  },
  "orig_nbformat": 4,
  "vscode": {
   "interpreter": {
    "hash": "2e61b4e68d91170e6a828addbb12c998be56a3b087bfc9988ada4585bf499f3e"
   }
  }
 },
 "nbformat": 4,
 "nbformat_minor": 2
}
