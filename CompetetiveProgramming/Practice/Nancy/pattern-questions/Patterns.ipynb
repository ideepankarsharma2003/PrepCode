{
 "cells": [
  {
   "cell_type": "code",
   "execution_count": 3,
   "metadata": {},
   "outputs": [
    {
     "name": "stdout",
     "output_type": "stream",
     "text": [
      "* * * * * \n",
      "* * * * * \n",
      "* * * * * \n",
      "* * * * * \n",
      "* * * * * \n"
     ]
    }
   ],
   "source": [
    "for i in range(5):\n",
    "    for j in range(5):\n",
    "        print('*', end= ' ')\n",
    "    print()"
   ]
  },
  {
   "cell_type": "code",
   "execution_count": 5,
   "metadata": {},
   "outputs": [
    {
     "name": "stdout",
     "output_type": "stream",
     "text": [
      "1 1 1 1 \n",
      "2 2 2 2 \n",
      "3 3 3 3 \n",
      "4 4 4 4 \n"
     ]
    }
   ],
   "source": [
    "for i in range(1, 5):\n",
    "    for j in range(4):\n",
    "        print( i, end=' ')\n",
    "    print()\n"
   ]
  },
  {
   "cell_type": "code",
   "execution_count": 6,
   "metadata": {},
   "outputs": [
    {
     "name": "stdout",
     "output_type": "stream",
     "text": [
      "1 2 3 4 \n",
      "1 2 3 4 \n",
      "1 2 3 4 \n",
      "1 2 3 4 \n"
     ]
    }
   ],
   "source": [
    "for i in range(1, 5):\n",
    "    for j in range(1, 5):\n",
    "        print(j, end=' ')\n",
    "    print()\n"
   ]
  },
  {
   "cell_type": "code",
   "execution_count": 8,
   "metadata": {},
   "outputs": [
    {
     "name": "stdout",
     "output_type": "stream",
     "text": [
      "1 2 3 \n",
      "4 5 6 \n",
      "7 8 9 \n"
     ]
    }
   ],
   "source": [
    "for i in range(1, 10):\n",
    "    # for j in range(3):\n",
    "    print(i, end=' ')\n",
    "    if i%3==0:\n",
    "        print()\n",
    "# linear time complexity O(n^2) -----> O(n)"
   ]
  },
  {
   "cell_type": "code",
   "execution_count": 9,
   "metadata": {},
   "outputs": [
    {
     "name": "stdout",
     "output_type": "stream",
     "text": [
      "* \n",
      "* * \n",
      "* * * \n",
      "* * * * \n",
      "* * * * * \n"
     ]
    }
   ],
   "source": [
    "for i in range(1, 6):\n",
    "    for j in range(i):\n",
    "        print('*', end=' ')\n",
    "    print()"
   ]
  },
  {
   "cell_type": "code",
   "execution_count": 11,
   "metadata": {},
   "outputs": [
    {
     "name": "stdout",
     "output_type": "stream",
     "text": [
      "1 \n",
      "2 3 \n",
      "4 5 6 \n",
      "7 8 9 10 \n"
     ]
    }
   ],
   "source": [
    "x=1\n",
    "for i in range(1, 5):    \n",
    "    for j in range(i):\n",
    "        print(x , end=' ')\n",
    "        x+=1\n",
    "    print()\n"
   ]
  },
  {
   "cell_type": "code",
   "execution_count": 13,
   "metadata": {},
   "outputs": [
    {
     "name": "stdout",
     "output_type": "stream",
     "text": [
      "1 \n",
      "2 1 \n",
      "3 2 1 \n",
      "4 3 2 1 \n",
      "5 4 3 2 1 \n"
     ]
    }
   ],
   "source": [
    "\n",
    "for i in range(1, 6):\n",
    "    m= i\n",
    "    for j in range(i):\n",
    "        print(m, end=' ')\n",
    "        m-= 1\n",
    "    print()\n"
   ]
  },
  {
   "cell_type": "code",
   "execution_count": 14,
   "metadata": {},
   "outputs": [
    {
     "name": "stdout",
     "output_type": "stream",
     "text": [
      "1 \n",
      "2 2 \n",
      "3 3 3 \n",
      "4 4 4 4 \n",
      "5 5 5 5 5 \n"
     ]
    }
   ],
   "source": [
    "\n",
    "for i in range(1, 6):\n",
    "    m = i\n",
    "    for j in range(i):\n",
    "        print(m, end=' ')\n",
    "        # m -= 1\n",
    "    print()\n"
   ]
  },
  {
   "cell_type": "code",
   "execution_count": 15,
   "metadata": {},
   "outputs": [
    {
     "name": "stdout",
     "output_type": "stream",
     "text": [
      "1 \n",
      "1 2 \n",
      "1 2 3 \n",
      "1 2 3 4 \n",
      "1 2 3 4 5 \n"
     ]
    }
   ],
   "source": [
    "\n",
    "for i in range(1, 6):\n",
    "    m = 1\n",
    "    for j in range(i):\n",
    "        print(m, end=' ')\n",
    "        m += 1\n",
    "    print()\n"
   ]
  },
  {
   "cell_type": "code",
   "execution_count": 3,
   "metadata": {},
   "outputs": [
    {
     "name": "stdout",
     "output_type": "stream",
     "text": [
      "1 2 3 4 5 \n",
      "1 2 3 4 \n",
      "1 2 3 \n",
      "1 2 \n",
      "1 \n"
     ]
    }
   ],
   "source": [
    "\n",
    "for i in range(5, 0, -1):\n",
    "    # m = 1\n",
    "    for j in range(1, i+1):\n",
    "        print(j, end=' ')\n",
    "        # m += 1\n",
    "    print()\n"
   ]
  },
  {
   "cell_type": "code",
   "execution_count": 8,
   "metadata": {},
   "outputs": [
    {
     "name": "stdout",
     "output_type": "stream",
     "text": [
      "A A A A A \n",
      "B B B B B \n",
      "C C C C C \n",
      "D D D D D \n",
      "E E E E E \n"
     ]
    }
   ],
   "source": [
    "x= 'A'\n",
    "x_uni= ord(x) # get unicode of x\n",
    "# print(ord(x))\n",
    "for i in range(x_uni, x_uni+5):\n",
    "    for j in range(5):\n",
    "        print(chr(i), end=' ')\n",
    "    print()"
   ]
  },
  {
   "cell_type": "code",
   "execution_count": 10,
   "metadata": {},
   "outputs": [
    {
     "name": "stdout",
     "output_type": "stream",
     "text": [
      "A B C D E \n",
      "A B C D E \n",
      "A B C D E \n",
      "A B C D E \n",
      "A B C D E \n"
     ]
    }
   ],
   "source": [
    "x = 'A'\n",
    "x_uni = ord(x)  # get unicode of x\n",
    "# print(ord(x))\n",
    "for i in range(5):\n",
    "    for j in range(5):\n",
    "        print(chr(x_uni+ j), end=' ')\n",
    "    print()\n"
   ]
  },
  {
   "cell_type": "code",
   "execution_count": 12,
   "metadata": {},
   "outputs": [
    {
     "name": "stdout",
     "output_type": "stream",
     "text": [
      "A B C D E \n",
      "F G H I J \n",
      "K L M N O \n",
      "P Q R S T \n",
      "U V W X Y \n"
     ]
    }
   ],
   "source": [
    "x = 'A'\n",
    "x_uni = ord(x)  # get unicode of x\n",
    "# print(ord(x))\n",
    "for i in range(1, 26):\n",
    "    # for j in range(5):\n",
    "    print(chr(x_uni), end=' ')\n",
    "    if i%5==0:\n",
    "        print()\n",
    "    x_uni+=1\n"
   ]
  },
  {
   "cell_type": "code",
   "execution_count": 13,
   "metadata": {},
   "outputs": [
    {
     "name": "stdout",
     "output_type": "stream",
     "text": [
      "A \n",
      "A B \n",
      "A B C \n",
      "A B C D \n",
      "A B C D E \n"
     ]
    }
   ],
   "source": [
    "x = 'A'\n",
    "x_uni = ord(x)  # get unicode of x\n",
    "# print(ord(x))\n",
    "for i in range(1, 6):\n",
    "    for j in range(i):\n",
    "        print(chr(x_uni+j), end=' ')\n",
    "    print()\n",
    "    \n"
   ]
  },
  {
   "cell_type": "code",
   "execution_count": 14,
   "metadata": {},
   "outputs": [
    {
     "name": "stdout",
     "output_type": "stream",
     "text": [
      "A \n",
      "B C \n",
      "D E F \n",
      "G H I J \n",
      "K L M N O \n"
     ]
    }
   ],
   "source": [
    "x = 'A'\n",
    "x_uni = ord(x)  # get unicode of x\n",
    "# print(ord(x))\n",
    "for i in range(1, 6):\n",
    "    for j in range(i):\n",
    "        print(chr(x_uni), end=' ')\n",
    "        x_uni+=1\n",
    "    print()\n"
   ]
  },
  {
   "cell_type": "code",
   "execution_count": 15,
   "metadata": {},
   "outputs": [
    {
     "name": "stdout",
     "output_type": "stream",
     "text": [
      "A B C D E \n",
      "F G H I J \n",
      "K L M N O \n",
      "P Q R S T \n",
      "U V W X Y \n"
     ]
    }
   ],
   "source": [
    "x = 'A'\n",
    "x_uni = ord(x)  # get unicode of x\n",
    "# print(ord(x))\n",
    "for i in range(1, 26):\n",
    "    # for j in range(5):\n",
    "    print(chr(x_uni), end=' ')\n",
    "    if i % 5 == 0:\n",
    "        print()\n",
    "    x_uni += 1"
   ]
  },
  {
   "cell_type": "code",
   "execution_count": 16,
   "metadata": {},
   "outputs": [
    {
     "name": "stdout",
     "output_type": "stream",
     "text": [
      "E \n",
      "D E \n",
      "C D E \n",
      "B C D E \n",
      "A B C D E \n"
     ]
    }
   ],
   "source": [
    "x = 'E'\n",
    "x_uni = ord(x)  # get unicode of x\n",
    "# print(ord(x))\n",
    "for i in range(5):\n",
    "    for j in range(x_uni-i, x_uni+1):\n",
    "        print(chr(j), end=' ')\n",
    "    print()\n",
    "\n"
   ]
  },
  {
   "cell_type": "code",
   "execution_count": 17,
   "metadata": {},
   "outputs": [
    {
     "name": "stdout",
     "output_type": "stream",
     "text": [
      "A B C D E \n",
      "B C D E F \n",
      "C D E F G \n",
      "D E F G H \n",
      "E F G H I \n"
     ]
    }
   ],
   "source": [
    "x = 'A'\n",
    "x_uni = ord(x)  # get unicode of x\n",
    "# print(ord(x))\n",
    "for i in range(5):\n",
    "    for j in range(5):\n",
    "        print(chr(x_uni+ j), end=' ')\n",
    "    print()\n",
    "    x_uni+=1\n"
   ]
  },
  {
   "cell_type": "code",
   "execution_count": 19,
   "metadata": {},
   "outputs": [
    {
     "name": "stdout",
     "output_type": "stream",
     "text": [
      "        * \n",
      "      * * \n",
      "    * * * \n",
      "  * * * * \n",
      "* * * * * \n"
     ]
    }
   ],
   "source": [
    "for i in range(5):\n",
    "    for j in range(5-i-1):\n",
    "        print(' ', end=' ')\n",
    "    for j in range(5-i-1, 5):\n",
    "        print('*', end=' ')\n",
    "    print()\n"
   ]
  },
  {
   "cell_type": "code",
   "execution_count": 33,
   "metadata": {},
   "outputs": [
    {
     "name": "stdout",
     "output_type": "stream",
     "text": [
      "     * \n",
      "    * * \n",
      "   * * * \n",
      "  * * * * \n",
      " * * * * * \n"
     ]
    }
   ],
   "source": [
    "for i in range(5):\n",
    "    for j in range(5-i):\n",
    "        print(\" \", end='')\n",
    "    for j in range(i+1):\n",
    "        print(\"*\", end=' ')\n",
    "        \n",
    "    print()\n"
   ]
  },
  {
   "cell_type": "code",
   "execution_count": 35,
   "metadata": {},
   "outputs": [
    {
     "name": "stdout",
     "output_type": "stream",
     "text": [
      "* * * * * \n",
      "* * * * \n",
      "* * * \n",
      "* * \n",
      "* \n"
     ]
    }
   ],
   "source": [
    "for i in range(5, 0, -1):\n",
    "    for i in range(i):\n",
    "        print(\"*\", end=' ')\n",
    "    print()"
   ]
  },
  {
   "cell_type": "code",
   "execution_count": 36,
   "metadata": {},
   "outputs": [
    {
     "name": "stdout",
     "output_type": "stream",
     "text": [
      "* * * * * \n",
      "  * * * * \n",
      "    * * * \n",
      "      * * \n",
      "        * \n"
     ]
    }
   ],
   "source": [
    "for i in range(5):\n",
    "    for j in range(i):\n",
    "        print(' ', end=' ')\n",
    "    for j in range(i, 5):\n",
    "        print(\"*\", end=' ')\n",
    "    print()\n"
   ]
  },
  {
   "cell_type": "code",
   "execution_count": 38,
   "metadata": {},
   "outputs": [
    {
     "name": "stdout",
     "output_type": "stream",
     "text": [
      "* * * * * \n",
      " * * * * \n",
      "  * * * \n",
      "   * * \n",
      "    * \n"
     ]
    }
   ],
   "source": [
    "for i in range(5, 0, -1):\n",
    "    for j in range(5-i):\n",
    "        print(' ', end='')\n",
    "    for j in range(i):\n",
    "        print(\"*\", end=' ')\n",
    "    print()\n"
   ]
  },
  {
   "cell_type": "code",
   "execution_count": 3,
   "metadata": {},
   "outputs": [
    {
     "name": "stdout",
     "output_type": "stream",
     "text": [
      "    1\n",
      "   121\n",
      "  12321\n",
      " 1234321\n",
      "123454321\n"
     ]
    }
   ],
   "source": [
    "for i in range(1, 6):\n",
    "    for j in range(1, 5-i+1):\n",
    "        print(end=' ')\n",
    "    j=1\n",
    "    while(j<=i):\n",
    "        print(j, end='')\n",
    "        j+=1\n",
    "    j=i-1\n",
    "    while(j>0):\n",
    "        print(j, end='')\n",
    "        j-=1\n",
    "    \n",
    "    print()"
   ]
  },
  {
   "cell_type": "code",
   "execution_count": 5,
   "metadata": {},
   "outputs": [
    {
     "name": "stdout",
     "output_type": "stream",
     "text": [
      "1234554321\n",
      "1234**4321\n",
      "123****321\n",
      "12******21\n",
      "1********1\n"
     ]
    }
   ],
   "source": [
    "for i in range(5, 0, -1):\n",
    "    for j in range(1, i+1):\n",
    "        print(j, end='')\n",
    "    for j in range(2*(5-i)):\n",
    "        print('*', end='')\n",
    "    for j in range(i, 0, -1):\n",
    "        print(j, end='')\n",
    "    print()"
   ]
  },
  {
   "cell_type": "code",
   "execution_count": 9,
   "metadata": {},
   "outputs": [
    {
     "name": "stdout",
     "output_type": "stream",
     "text": [
      "*****\n",
      "*  *\n",
      "* *\n",
      "**\n",
      "*\n"
     ]
    }
   ],
   "source": [
    "for i in range(5, 0, -1):\n",
    "    if i==5:\n",
    "        for j in range(i):\n",
    "            print(end='*')\n",
    "    else:\n",
    "        for j in range(i):\n",
    "            if j==0 or j== i-1:\n",
    "                print(end='*')\n",
    "            else:\n",
    "                print(end=' ')\n",
    "    print()"
   ]
  },
  {
   "cell_type": "code",
   "execution_count": 26,
   "metadata": {},
   "outputs": [
    {
     "name": "stdout",
     "output_type": "stream",
     "text": [
      "      *\n",
      "     * *\n",
      "    *   *\n",
      "   *     *\n",
      "  *       *\n",
      " * * * * * *\n"
     ]
    }
   ],
   "source": [
    "k=-1\n",
    "for i in range(1, 7):\n",
    "    if i!=6:\n",
    "        for j in range(6-i+1):\n",
    "            print(end=' ')\n",
    "        print(end='*')\n",
    "        print((k)*' ', end='')\n",
    "        k+=2\n",
    "        if i>1:\n",
    "            print(end='*')\n",
    "    else:\n",
    "        for j in range(i):\n",
    "            print(end=' *')       \n",
    "\n",
    "    print()\n",
    "    "
   ]
  },
  {
   "cell_type": "code",
   "execution_count": 6,
   "metadata": {},
   "outputs": [
    {
     "name": "stdout",
     "output_type": "stream",
     "text": [
      "1\n",
      "1 2\n",
      "1   3\n",
      "1     4\n",
      "1 2 3 4 5 \n"
     ]
    }
   ],
   "source": [
    "k=-1\n",
    "for i in range(1, 6):\n",
    "    if i!=5:\n",
    "        print(1, end='')\n",
    "        print((k)*' ', end='')\n",
    "        if i>1:\n",
    "            print(i, end='')\n",
    "        k+=2\n",
    "    else:\n",
    "        for j in range(1, 6):\n",
    "            print(j, end=' ')\n",
    "    \n",
    "    print()"
   ]
  },
  {
   "cell_type": "code",
   "execution_count": 8,
   "metadata": {},
   "outputs": [
    {
     "name": "stdout",
     "output_type": "stream",
     "text": [
      "    1\n",
      "   1 2\n",
      "  1   3\n",
      " 1     4\n",
      "1 2 3 4 5 \n"
     ]
    }
   ],
   "source": [
    "k = -1\n",
    "for i in range(1, 6):\n",
    "    if i != 5:\n",
    "        for j in range(5-i):\n",
    "            print(end=' ')\n",
    "        print(1, end='')\n",
    "        print((k)*' ', end='')\n",
    "        if i > 1:\n",
    "            print(i, end='')\n",
    "        k += 2\n",
    "    else:\n",
    "        for j in range(1, 6):\n",
    "            print(j, end=' ')\n",
    "\n",
    "    print()\n"
   ]
  },
  {
   "cell_type": "raw",
   "metadata": {},
   "source": [
    "int k= 6;\n",
    "int x= 2;\n",
    "for (i=5; i>0; i--){\n",
    "    if(i==5){\n",
    "        for(int j=1; j<6; j++)\n",
    "            sysout(j + ' ');\n",
    "    }\n",
    "}"
   ]
  },
  {
   "cell_type": "code",
   "execution_count": 9,
   "metadata": {},
   "outputs": [
    {
     "name": "stdout",
     "output_type": "stream",
     "text": [
      "1 2 3 4 5 \n",
      "2      5\n",
      "3    5\n",
      "4  5\n",
      "5\n"
     ]
    }
   ],
   "source": [
    "k= 6\n",
    "x= 2\n",
    "for i in range(5, 0, -1):\n",
    "    if i==5:\n",
    "        for j in range(1, 6):\n",
    "            print(j, end=' ')\n",
    "    else:\n",
    "        print(x, end='')\n",
    "        print((k)*' ', end='')\n",
    "        x+=1\n",
    "        k-=2\n",
    "        if i>1:\n",
    "            print(5, end='')\n",
    "    print()"
   ]
  },
  {
   "cell_type": "code",
   "execution_count": 16,
   "metadata": {},
   "outputs": [
    {
     "name": "stdout",
     "output_type": "stream",
     "text": [
      "1\n",
      "121\n",
      "12321\n",
      "1234321\n",
      "123454321\n"
     ]
    }
   ],
   "source": [
    "k=1\n",
    "for i in range(5):\n",
    "    print(k**2)\n",
    "    k= 10*k +1"
   ]
  },
  {
   "cell_type": "code",
   "execution_count": 16,
   "metadata": {},
   "outputs": [
    {
     "name": "stdout",
     "output_type": "stream",
     "text": [
      "1 \n",
      "1 2 1 \n",
      "1 2 3 2 1 \n",
      "1 2 3 4 3 2 1 \n",
      "1 2 3 4 5 4 3 2 1 \n"
     ]
    }
   ],
   "source": [
    "for i in range(1, 6):\n",
    "    k=1\n",
    "    for j in range(1, 2*i):\n",
    "        if j<i:\n",
    "            print(k, end=' ')\n",
    "            k+=1\n",
    "        if j>i:\n",
    "            print(k, end=' ')\n",
    "            k-=1\n",
    "        if i==j:\n",
    "            print(k, end=' ')\n",
    "            k-=1\n",
    "    print()\n"
   ]
  },
  {
   "cell_type": "code",
   "execution_count": 15,
   "metadata": {},
   "outputs": [
    {
     "name": "stdout",
     "output_type": "stream",
     "text": [
      "A \n",
      "A B A \n",
      "A B C B A \n",
      "A B C D C B A \n",
      "A B C D E D C B A \n"
     ]
    }
   ],
   "source": [
    "x= ord('A')\n",
    "\n",
    "\n",
    "for i in range(1, 6):\n",
    "    k = x\n",
    "    for j in range(1, 2*i):\n",
    "        if j < i:\n",
    "            print(chr(k), end=' ')\n",
    "            k += 1\n",
    "        if j > i:\n",
    "            print(chr(k), end=' ')\n",
    "            k -= 1\n",
    "        if i == j:\n",
    "            print(chr(k), end=' ')\n",
    "            k -= 1\n",
    "    print()\n"
   ]
  },
  {
   "cell_type": "code",
   "execution_count": 25,
   "metadata": {},
   "outputs": [
    {
     "name": "stdout",
     "output_type": "stream",
     "text": [
      "    * \n",
      "   * * \n",
      "  * * * \n",
      " * * * * \n",
      "* * * * * \n",
      "* * * * * \n",
      " * * * * \n",
      "  * * * \n",
      "   * * \n",
      "    * \n"
     ]
    }
   ],
   "source": [
    "for i in range(1, 11):\n",
    "    if i<6:\n",
    "        for j in range(1, 5-i+1):\n",
    "            print(end=' ')\n",
    "        for j in range(i):\n",
    "            print('*', end=' ')\n",
    "    else:\n",
    "        for j in range(i-5-1):\n",
    "            print(end=' ')\n",
    "        for j in range(10-i+1):\n",
    "            print('*', end=' ')\n",
    "\n",
    "    print()"
   ]
  },
  {
   "cell_type": "code",
   "execution_count": 27,
   "metadata": {},
   "outputs": [
    {
     "name": "stdout",
     "output_type": "stream",
     "text": [
      "    *\n",
      "   * * \n",
      "  *   * \n",
      " *     * \n",
      "*       * \n",
      "*       * \n",
      " *     * \n",
      "  *   * \n",
      "   * * \n",
      "    *\n"
     ]
    }
   ],
   "source": [
    "k=-1\n",
    "for i in range(1, 11):\n",
    "    if i < 6:\n",
    "        for j in range(1, 5-i+1):\n",
    "            print(end=' ')\n",
    "        # for j in range(i):\n",
    "        print('*', end='')\n",
    "        print(k*' ', end='')\n",
    "        k+=2\n",
    "        if i>1:\n",
    "            print('*', end=' ')\n",
    "    else:\n",
    "        for j in range(i-5-1):\n",
    "            print(end=' ')\n",
    "        print('*', end='')\n",
    "        # for j in range(10-i+1):\n",
    "        k-=2\n",
    "        print(k*' ', end='')\n",
    "        if i<10:\n",
    "            print('*', end=' ')\n",
    "\n",
    "    print()\n"
   ]
  },
  {
   "cell_type": "code",
   "execution_count": 31,
   "metadata": {},
   "outputs": [
    {
     "name": "stdout",
     "output_type": "stream",
     "text": [
      "* \n",
      "* * \n",
      "* * * \n",
      "* * * * \n",
      "* * * * * \n",
      "* * * * \n",
      "* * * \n",
      "* * \n",
      "* \n"
     ]
    }
   ],
   "source": [
    "for i in range(1, 10):\n",
    "    if i<=5:\n",
    "        for j in range(i):\n",
    "            print('*', end=' ')\n",
    "    else:\n",
    "        for i in range(10-i):\n",
    "            print('*', end=' ')\n",
    "    print()"
   ]
  },
  {
   "cell_type": "code",
   "execution_count": 34,
   "metadata": {},
   "outputs": [
    {
     "name": "stdout",
     "output_type": "stream",
     "text": [
      "3\n",
      "44\n",
      "555\n",
      "6666\n",
      "555\n",
      "44\n",
      "3\n"
     ]
    }
   ],
   "source": [
    "for i in range(3, 3+7):\n",
    "    if i<=6:\n",
    "        for j in range(i-3+1):\n",
    "            print(i, end='')\n",
    "    else:\n",
    "        for j in range(10-i):\n",
    "            print(12-i, end='')\n",
    "        # pass\n",
    "    print()\n"
   ]
  },
  {
   "cell_type": "code",
   "execution_count": 54,
   "metadata": {},
   "outputs": [
    {
     "name": "stdout",
     "output_type": "stream",
     "text": [
      "1\n",
      "2*2\n",
      "3*3*3\n",
      "4*4*4*4\n",
      "4*4*4*4\n",
      "3*3*3\n",
      "2*2\n",
      "1\n"
     ]
    }
   ],
   "source": [
    "k= 2\n",
    "for i in range(1, 9):\n",
    "    if i<=4:\n",
    "        for j in range(1, k):\n",
    "            if j%2!=0:\n",
    "                print(i, end='')\n",
    "            else:\n",
    "                print('*', end='')\n",
    "        k+=2\n",
    "\n",
    "    else:\n",
    "        k-=2\n",
    "        for j in range(1, k):\n",
    "            if j % 2 != 0:\n",
    "                print(9-i, end='')\n",
    "            else:\n",
    "                print('*', end='')\n",
    "    print()"
   ]
  },
  {
   "cell_type": "code",
   "execution_count": 70,
   "metadata": {},
   "outputs": [
    {
     "name": "stdout",
     "output_type": "stream",
     "text": [
      "* \n",
      "* 1 * \n",
      "* 1 2 1 * \n",
      "* 1 2 3 2 1 * \n",
      "* 1 2 1 * \n",
      "* 1 * \n",
      "* \n"
     ]
    }
   ],
   "source": [
    "k= -1\n",
    "for i in range(1, 8):\n",
    "    x=1\n",
    "    if i<=4:\n",
    "        print('*', end= ' ')\n",
    "        for j in range(1, k+1):\n",
    "            if j<i-1:\n",
    "                print(x, end= ' ')\n",
    "                x+=1\n",
    "            elif j==i:\n",
    "                print(x, end= ' ')\n",
    "                x-=1\n",
    "            else:\n",
    "                print(x, end=' ')\n",
    "                x -= 1\n",
    "        if i>1:\n",
    "            print('*', end= ' ')\n",
    "        k+=2\n",
    "\n",
    "    else:\n",
    "        print('*', end=' ')\n",
    "        k -=2\n",
    "        for j in range(1, k-1):\n",
    "            if j < 7-i:\n",
    "                print(x, end=' ')\n",
    "                x += 1\n",
    "            elif j == (8-i):\n",
    "                print(x, end=' ')\n",
    "                x -= 1\n",
    "            else:\n",
    "                print(x, end=' ')\n",
    "                x -= 1\n",
    "        if i < 7:\n",
    "            print('*', end=' ')\n",
    "        \n",
    "    print()\n"
   ]
  },
  {
   "cell_type": "code",
   "execution_count": 17,
   "metadata": {},
   "outputs": [
    {
     "name": "stdout",
     "output_type": "stream",
     "text": [
      "**********\n",
      "****  ****\n",
      "***    ***\n",
      "**      **\n",
      "*        *\n",
      "*        *\n",
      "**      **\n",
      "***    ***\n",
      "****  ****\n",
      "**********\n"
     ]
    }
   ],
   "source": [
    "for i in range(1, 11):\n",
    "    \n",
    "    if i<=5:\n",
    "        for j in range(1, 11):\n",
    "            if j <= (5-i+1):\n",
    "                print('*', end= '')\n",
    "            elif j >= (5+i):\n",
    "                print('*', end= '')\n",
    "            else:\n",
    "                print(end=' ')\n",
    "\n",
    "        \n",
    "    else:\n",
    "        k= 0\n",
    "        m= i-5\n",
    "        for j in range(1, 11):\n",
    "            if j <= (m):\n",
    "                print('*', end='')\n",
    "                \n",
    "            elif j > 10-m:\n",
    "                print('*', end='')\n",
    "            else:\n",
    "                print(' ', end='')\n",
    "        \n",
    "    print()"
   ]
  },
  {
   "cell_type": "code",
   "execution_count": 18,
   "metadata": {},
   "outputs": [
    {
     "name": "stdout",
     "output_type": "stream",
     "text": [
      "*        *\n",
      "**      **\n",
      "***    ***\n",
      "****  ****\n",
      "**********\n",
      "**********\n",
      "****  ****\n",
      "***    ***\n",
      "**      **\n",
      "*        *\n"
     ]
    }
   ],
   "source": [
    "for i in range(1, 11):\n",
    "    if i<=5:\n",
    "        for j in range(1, 11):\n",
    "            if j<=i:\n",
    "                print('*', end='')\n",
    "            elif j> 10-i:\n",
    "                print('*', end='')\n",
    "            else:\n",
    "                print(' ', end='')\n",
    "    else:\n",
    "        m= i-5\n",
    "        for j in range(1, 11):\n",
    "            if j <= (5-m+1):\n",
    "                print('*', end='')\n",
    "            elif j >= (5+m):\n",
    "                print('*', end='')\n",
    "            else:\n",
    "                print(end=' ')\n",
    "    print()"
   ]
  },
  {
   "cell_type": "code",
   "execution_count": null,
   "metadata": {},
   "outputs": [],
   "source": []
  }
 ],
 "metadata": {
  "interpreter": {
   "hash": "77f5994a4f4792d583b9cbc73831833bb02c0cfbb77bcb905ea66f174f635c79"
  },
  "kernelspec": {
   "display_name": "Python 3.9.9 64-bit",
   "language": "python",
   "name": "python3"
  },
  "language_info": {
   "codemirror_mode": {
    "name": "ipython",
    "version": 3
   },
   "file_extension": ".py",
   "mimetype": "text/x-python",
   "name": "python",
   "nbconvert_exporter": "python",
   "pygments_lexer": "ipython3",
   "version": "3.9.9"
  },
  "orig_nbformat": 4
 },
 "nbformat": 4,
 "nbformat_minor": 2
}
