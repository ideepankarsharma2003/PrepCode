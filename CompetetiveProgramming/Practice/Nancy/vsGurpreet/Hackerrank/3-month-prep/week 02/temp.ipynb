{
 "cells": [
  {
   "cell_type": "code",
   "execution_count": 1,
   "metadata": {},
   "outputs": [],
   "source": [
    "d= {}\n",
    "\n"
   ]
  },
  {
   "cell_type": "code",
   "execution_count": 2,
   "metadata": {},
   "outputs": [
    {
     "data": {
      "text/plain": [
       "4294967296"
      ]
     },
     "execution_count": 2,
     "metadata": {},
     "output_type": "execute_result"
    }
   ],
   "source": [
    "2**32"
   ]
  },
  {
   "cell_type": "code",
   "execution_count": 1,
   "metadata": {},
   "outputs": [
    {
     "data": {
      "text/plain": [
       "'0b0'"
      ]
     },
     "execution_count": 1,
     "metadata": {},
     "output_type": "execute_result"
    }
   ],
   "source": [
    "b = bin(0)\n",
    "b"
   ]
  },
  {
   "cell_type": "code",
   "execution_count": 4,
   "metadata": {},
   "outputs": [
    {
     "data": {
      "text/plain": [
       "'0'"
      ]
     },
     "execution_count": 4,
     "metadata": {},
     "output_type": "execute_result"
    }
   ],
   "source": [
    "b = b[2:]\n",
    "b"
   ]
  },
  {
   "cell_type": "code",
   "execution_count": 5,
   "metadata": {},
   "outputs": [
    {
     "data": {
      "text/plain": [
       "'00000000000000000000000000000000'"
      ]
     },
     "execution_count": 5,
     "metadata": {},
     "output_type": "execute_result"
    }
   ],
   "source": [
    "length= len(b)\n",
    "diff= 32-length\n",
    "b= '0'*diff + b\n",
    "b"
   ]
  },
  {
   "cell_type": "code",
   "execution_count": 6,
   "metadata": {},
   "outputs": [
    {
     "data": {
      "text/plain": [
       "'0b11111111111111111111111111111111'"
      ]
     },
     "execution_count": 6,
     "metadata": {},
     "output_type": "execute_result"
    }
   ],
   "source": [
    "x= '0b'\n",
    "for i in b:\n",
    "        if i=='1':\n",
    "            x+='0'\n",
    "        elif i=='0':\n",
    "            x+='1'\n",
    "x"
   ]
  },
  {
   "cell_type": "code",
   "execution_count": 7,
   "metadata": {},
   "outputs": [
    {
     "data": {
      "text/plain": [
       "4294967295"
      ]
     },
     "execution_count": 7,
     "metadata": {},
     "output_type": "execute_result"
    }
   ],
   "source": [
    "x= int(x, 2)\n",
    "x"
   ]
  },
  {
   "cell_type": "code",
   "execution_count": 8,
   "metadata": {},
   "outputs": [
    {
     "data": {
      "text/plain": [
       "97"
      ]
     },
     "execution_count": 8,
     "metadata": {},
     "output_type": "execute_result"
    }
   ],
   "source": [
    "a= 'a'\n",
    "ord(a)"
   ]
  },
  {
   "cell_type": "code",
   "execution_count": 9,
   "metadata": {},
   "outputs": [],
   "source": [
    "def pangrams(s):\n",
    "    # Write your code here\n",
    "    s = s.lower()\n",
    "    print(s)\n",
    "    l = [chr(x) for x in range(ord('a'), ord('z')+1)]\n",
    "\n",
    "    for i in l:\n",
    "        if i not in s:\n",
    "            return 'not pangram'\n",
    "\n",
    "    return 'pangram'\n"
   ]
  },
  {
   "cell_type": "code",
   "execution_count": 13,
   "metadata": {},
   "outputs": [
    {
     "name": "stdout",
     "output_type": "stream",
     "text": [
      "we promptly judged antique ivory buckles for the next prize\n"
     ]
    },
    {
     "data": {
      "text/plain": [
       "'pangram'"
      ]
     },
     "execution_count": 13,
     "metadata": {},
     "output_type": "execute_result"
    }
   ],
   "source": [
    "str= \"We promptly judged antique ivory buckles for the next prize\"\n",
    "pangrams(str)\n"
   ]
  },
  {
   "cell_type": "code",
   "execution_count": 14,
   "metadata": {},
   "outputs": [
    {
     "data": {
      "text/plain": [
       "[3, 2, 1]"
      ]
     },
     "execution_count": 14,
     "metadata": {},
     "output_type": "execute_result"
    }
   ],
   "source": [
    "a= [1, 2, 3]\n",
    "a.reverse()\n",
    "a"
   ]
  },
  {
   "cell_type": "markdown",
   "metadata": {},
   "source": [
    "# Mock Test"
   ]
  },
  {
   "cell_type": "code",
   "execution_count": 1,
   "metadata": {},
   "outputs": [
    {
     "name": "stdout",
     "output_type": "stream",
     "text": [
      "[107, 54, 128, 15]\n",
      "[12, 75, 110, 138]\n",
      "[100, 96, 34, 85]\n",
      "[75, 15, 28, 112]\n"
     ]
    }
   ],
   "source": [
    "arr= [[107,  54,  128,  15 ],\n",
    "    [12,  75,  110,  138 ],\n",
    "   [ 100,  96,  34,  85 ],\n",
    "   [ 75,  15,  28,  112 ]]\n",
    "\n",
    "for i in arr:\n",
    "    print(i)\n",
    "      \n"
   ]
  },
  {
   "cell_type": "code",
   "execution_count": 4,
   "metadata": {},
   "outputs": [],
   "source": [
    "def flippingMatrix(matrix):\n",
    "    # Write your code here\n",
    "    maxSum = 0\n",
    "    n = len(matrix[1])//2\n",
    "    for i in range(n):\n",
    "        for j in range(n):\n",
    "            l = []\n",
    "            l.append(matrix[i][j])  # current matrix\n",
    "            l.append(matrix[2 * n - 1 - i][j])  # bottom left\n",
    "            l.append(matrix[i][2 * n - 1 - j])  # top right\n",
    "            l.append(matrix[2 * n - 1 - i][2 * n - 1 - j])  # bottom right\n",
    "\n",
    "            maxv = max(l)\n",
    "            print(l)\n",
    "            print(max(l))\n",
    "\n",
    "            maxSum += maxv\n",
    "\n",
    "    return maxSum"
   ]
  },
  {
   "cell_type": "code",
   "execution_count": null,
   "metadata": {},
   "outputs": [],
   "source": [
    "for i "
   ]
  },
  {
   "cell_type": "code",
   "execution_count": 5,
   "metadata": {},
   "outputs": [
    {
     "name": "stdout",
     "output_type": "stream",
     "text": [
      "[107, 75, 15, 112]\n",
      "112\n",
      "[54, 15, 128, 28]\n",
      "128\n",
      "[12, 100, 138, 85]\n",
      "138\n",
      "[75, 96, 110, 34]\n",
      "110\n"
     ]
    },
    {
     "data": {
      "text/plain": [
       "488"
      ]
     },
     "execution_count": 5,
     "metadata": {},
     "output_type": "execute_result"
    }
   ],
   "source": [
    "flippingMatrix(arr)"
   ]
  },
  {
   "cell_type": "code",
   "execution_count": null,
   "metadata": {},
   "outputs": [],
   "source": []
  }
 ],
 "metadata": {
  "interpreter": {
   "hash": "2de7a550c8703f0832775f874bc3af5823a8bb93047a291348bf91f81b8d769e"
  },
  "kernelspec": {
   "display_name": "Python 3.9.9 64-bit",
   "language": "python",
   "name": "python3"
  },
  "language_info": {
   "codemirror_mode": {
    "name": "ipython",
    "version": 3
   },
   "file_extension": ".py",
   "mimetype": "text/x-python",
   "name": "python",
   "nbconvert_exporter": "python",
   "pygments_lexer": "ipython3",
   "version": "3.9.9"
  },
  "orig_nbformat": 4
 },
 "nbformat": 4,
 "nbformat_minor": 2
}
