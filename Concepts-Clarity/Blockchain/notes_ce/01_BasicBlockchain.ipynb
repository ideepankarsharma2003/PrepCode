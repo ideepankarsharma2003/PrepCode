{
 "cells": [
  {
   "attachments": {},
   "cell_type": "markdown",
   "metadata": {},
   "source": [
    "# **Basic Blockchain**"
   ]
  },
  {
   "cell_type": "code",
   "execution_count": 5,
   "metadata": {},
   "outputs": [],
   "source": [
    "import hashlib\n",
    "def hash_generator(data):\n",
    "    result= hashlib.sha256(data.encode())\n",
    "    return result.hexdigest()"
   ]
  },
  {
   "cell_type": "code",
   "execution_count": 6,
   "metadata": {},
   "outputs": [
    {
     "data": {
      "text/plain": [
       "'edbb15588efba3a537127a1e484bead52ca02ca87cc19f50ae38ef6b23c6c927'"
      ]
     },
     "execution_count": 6,
     "metadata": {},
     "output_type": "execute_result"
    }
   ],
   "source": [
    "hash_generator('5647')"
   ]
  },
  {
   "cell_type": "code",
   "execution_count": 8,
   "metadata": {},
   "outputs": [
    {
     "data": {
      "text/plain": [
       "'3cd7367499a7ed6b7409efecc6504e1c76a6ac23a7b69ebe92d86de63e2dd056'"
      ]
     },
     "execution_count": 8,
     "metadata": {},
     "output_type": "execute_result"
    }
   ],
   "source": [
    "hash_generator('5648')"
   ]
  },
  {
   "cell_type": "code",
   "execution_count": 9,
   "metadata": {},
   "outputs": [],
   "source": [
    "class Block:\n",
    "    def __init__(self, data, prev_hash, hash) -> None:\n",
    "        self.data= data\n",
    "        self.prev_hash= prev_hash\n",
    "        self.hash= hash"
   ]
  },
  {
   "cell_type": "code",
   "execution_count": 13,
   "metadata": {},
   "outputs": [],
   "source": [
    "class BlockChain:\n",
    "    def __init__(self) -> None:\n",
    "        hash_cur= hash_generator('genesis')\n",
    "        hash_prev= hash_generator('0')\n",
    "        genesis= Block('genesis', hash_prev, hash_cur)\n",
    "        self.chain= [genesis]\n",
    "\n",
    "    def add_block(self, data):\n",
    "        prev_hash= self.chain[-1].hash\n",
    "        current_hash= hash_generator(data+prev_hash)\n",
    "        block= Block(data, prev_hash, current_hash)\n",
    "        self.chain.append(block)\n",
    "\n",
    "    def print_ledger(self):\n",
    "        l= len(self.chain)\n",
    "        for i in range(l-1):\n",
    "            print(self.chain[i].data, ' -----> ', end='')\n",
    "        print(self.chain[-1].data)\n",
    "\n",
    "    "
   ]
  },
  {
   "cell_type": "code",
   "execution_count": 14,
   "metadata": {},
   "outputs": [
    {
     "name": "stdout",
     "output_type": "stream",
     "text": [
      "genesis  -----> Deepankar  -----> Sooraj  -----> Subham\n"
     ]
    }
   ],
   "source": [
    "bc= BlockChain()\n",
    "bc.add_block('Deepankar')\n",
    "bc.add_block('Sooraj')\n",
    "bc.add_block('Subham')\n",
    "bc.print_ledger()"
   ]
  },
  {
   "cell_type": "code",
   "execution_count": 10,
   "metadata": {},
   "outputs": [
    {
     "ename": "ModuleNotFoundError",
     "evalue": "No module named 'speech_recognition'",
     "output_type": "error",
     "traceback": [
      "\u001b[1;31m---------------------------------------------------------------------------\u001b[0m",
      "\u001b[1;31mModuleNotFoundError\u001b[0m                       Traceback (most recent call last)",
      "\u001b[1;32mc:\\Deepankar\\Placement-Prep\\Concepts-Clarity\\Blockchain\\01_BasicBlockchain.ipynb Cell 7\u001b[0m in \u001b[0;36m<cell line: 2>\u001b[1;34m()\u001b[0m\n\u001b[0;32m      <a href='vscode-notebook-cell:/c%3A/Deepankar/Placement-Prep/Concepts-Clarity/Blockchain/01_BasicBlockchain.ipynb#X11sZmlsZQ%3D%3D?line=0'>1</a>\u001b[0m \u001b[39mimport\u001b[39;00m \u001b[39msmtplib\u001b[39;00m\n\u001b[1;32m----> <a href='vscode-notebook-cell:/c%3A/Deepankar/Placement-Prep/Concepts-Clarity/Blockchain/01_BasicBlockchain.ipynb#X11sZmlsZQ%3D%3D?line=1'>2</a>\u001b[0m \u001b[39mimport\u001b[39;00m \u001b[39mspeech_recognition\u001b[39;00m \u001b[39mas\u001b[39;00m \u001b[39msr\u001b[39;00m\n\u001b[0;32m      <a href='vscode-notebook-cell:/c%3A/Deepankar/Placement-Prep/Concepts-Clarity/Blockchain/01_BasicBlockchain.ipynb#X11sZmlsZQ%3D%3D?line=2'>3</a>\u001b[0m \u001b[39mimport\u001b[39;00m \u001b[39mpyttsx3\u001b[39;00m\n\u001b[0;32m      <a href='vscode-notebook-cell:/c%3A/Deepankar/Placement-Prep/Concepts-Clarity/Blockchain/01_BasicBlockchain.ipynb#X11sZmlsZQ%3D%3D?line=3'>4</a>\u001b[0m \u001b[39mfrom\u001b[39;00m \u001b[39memail\u001b[39;00m\u001b[39m.\u001b[39;00m\u001b[39mmessage\u001b[39;00m \u001b[39mimport\u001b[39;00m EmailMessage\n",
      "\u001b[1;31mModuleNotFoundError\u001b[0m: No module named 'speech_recognition'"
     ]
    }
   ],
   "source": [
    "# import smtplib\n",
    "# import speech_recognition as sr\n",
    "# import pyttsx3\n",
    "# from email.message import EmailMessage\n",
    "\n",
    "# listener = sr.Recognizer()\n",
    "# engine = pyttsx3.init()\n",
    "\n",
    "\n",
    "# def talk(text):\n",
    "#     engine.say(text)\n",
    "#     engine.runAndWait()\n",
    "\n",
    "\n",
    "# def get_info():\n",
    "#     try:\n",
    "#         with sr.Microphone() as source:\n",
    "#             print('listening...')\n",
    "#             voice = listener.listen(source)\n",
    "#             info = listener.recognize_google(voice)\n",
    "#             print(info)\n",
    "#             return info.lower()\n",
    "#     except:\n",
    "#         pass\n",
    "\n",
    "\n",
    "# def send_email(receiver, subject, message):\n",
    "#     server = smtplib.SMTP('smtp.gmail.com', 587)\n",
    "#     server.starttls()\n",
    "\n",
    "#     server.login('appbanana2701@gmail.com', '****')\n",
    "#     email = EmailMessage()\n",
    "#     email['From'] = 'Sender_Email'\n",
    "#     email['To'] = receiver\n",
    "#     email['Subject'] = subject\n",
    "#     email.set_content(message)\n",
    "#     server.send_message(email)\n",
    "\n",
    "\n",
    "# email_list = {\n",
    "#     'pratyush': '*******',\n",
    "#     'guru': '*****',\n",
    "\n",
    "# }\n",
    "\n",
    "\n",
    "# def get_email_info():\n",
    "#     talk('Hi Sir I am your assistant for today, To Whom you want to send email')\n",
    "#     name = get_info()\n",
    "#     receiver = email_list[name]\n",
    "#     print(receiver)\n",
    "#     talk('What is the subject of your email?')\n",
    "#     subject = get_info()\n",
    "#     talk('Tell me the text in your email')\n",
    "#     message = get_info()\n",
    "#     send_email(receiver, subject, message)\n",
    "#     talk('Thankyou sir for using me. Your email has been send')\n",
    "#     talk('Do you want to send more email?')\n",
    "#     send_more = get_info()\n",
    "#     if 'yes' in send_more:\n",
    "#         get_email_info()\n",
    "\n",
    "\n",
    "# get_email_info()"
   ]
  },
  {
   "cell_type": "code",
   "execution_count": null,
   "metadata": {},
   "outputs": [],
   "source": []
  }
 ],
 "metadata": {
  "kernelspec": {
   "display_name": "Python 3",
   "language": "python",
   "name": "python3"
  },
  "language_info": {
   "codemirror_mode": {
    "name": "ipython",
    "version": 3
   },
   "file_extension": ".py",
   "mimetype": "text/x-python",
   "name": "python",
   "nbconvert_exporter": "python",
   "pygments_lexer": "ipython3",
   "version": "3.9.6 (tags/v3.9.6:db3ff76, Jun 28 2021, 15:26:21) [MSC v.1929 64 bit (AMD64)]"
  },
  "orig_nbformat": 4,
  "vscode": {
   "interpreter": {
    "hash": "c0a3c91513ce8330cc510c252bd0d2b8c5edf3f02855cf0373cb264a8e18d0f0"
   }
  }
 },
 "nbformat": 4,
 "nbformat_minor": 2
}
