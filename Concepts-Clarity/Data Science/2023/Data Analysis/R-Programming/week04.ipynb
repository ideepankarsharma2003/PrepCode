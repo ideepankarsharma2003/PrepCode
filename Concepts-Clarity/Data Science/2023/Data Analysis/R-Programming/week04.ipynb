{
 "cells": [
  {
   "attachments": {},
   "cell_type": "markdown",
   "metadata": {},
   "source": [
    "# **Week 04**"
   ]
  },
  {
   "cell_type": "code",
   "execution_count": null,
   "metadata": {},
   "outputs": [],
   "source": [
    "# Vizualizations in R\n",
    "\n",
    "\n",
    "'''\n",
    "    ggplot2\n",
    "    1. Aesthetic(R)-> A visual property of an object in your plot\n",
    "    2. Geom(R)-> A geometric object used to represent your data\n",
    "    3. Facets(R)-> Let you display smaller groups, or subsets, of your data\n",
    "    4. Labels and Annotations(R)-> Let you customize your plot.\n",
    "'''\n"
   ]
  }
 ],
 "metadata": {
  "language_info": {
   "name": "python"
  },
  "orig_nbformat": 4
 },
 "nbformat": 4,
 "nbformat_minor": 2
}
