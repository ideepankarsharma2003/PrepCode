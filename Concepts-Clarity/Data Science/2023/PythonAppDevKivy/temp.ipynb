{
 "cells": [
  {
   "cell_type": "code",
   "execution_count": 3,
   "metadata": {},
   "outputs": [
    {
     "ename": "AttributeError",
     "evalue": "partially initialized module 'kivy' has no attribute 'deps' (most likely due to a circular import)",
     "output_type": "error",
     "traceback": [
      "\u001b[1;31m---------------------------------------------------------------------------\u001b[0m",
      "\u001b[1;31mAttributeError\u001b[0m                            Traceback (most recent call last)",
      "\u001b[1;32mc:\\Deepankar\\Placement-Prep\\Concepts-Clarity\\Data Science\\2023\\PythonAppDevKivy\\temp.ipynb Cell 1\u001b[0m in \u001b[0;36m<cell line: 1>\u001b[1;34m()\u001b[0m\n\u001b[1;32m----> <a href='vscode-notebook-cell:/c%3A/Deepankar/Placement-Prep/Concepts-Clarity/Data%20Science/2023/PythonAppDevKivy/temp.ipynb#W0sZmlsZQ%3D%3D?line=0'>1</a>\u001b[0m \u001b[39mimport\u001b[39;00m \u001b[39mkivy\u001b[39;00m\n",
      "File \u001b[1;32mc:\\Users\\deepa\\AppData\\Local\\Programs\\Python\\Python39\\lib\\site-packages\\kivy\\__init__.py:340\u001b[0m, in \u001b[0;36m<module>\u001b[1;34m\u001b[0m\n\u001b[0;32m    338\u001b[0m \u001b[39mimport\u001b[39;00m \u001b[39mkivy\u001b[39;00m\u001b[39m.\u001b[39;00m\u001b[39mdeps\u001b[39;00m\n\u001b[0;32m    339\u001b[0m _packages \u001b[39m=\u001b[39m []\n\u001b[1;32m--> 340\u001b[0m \u001b[39mfor\u001b[39;00m importer, modname, ispkg \u001b[39min\u001b[39;00m pkgutil\u001b[39m.\u001b[39miter_modules(kivy\u001b[39m.\u001b[39;49mdeps\u001b[39m.\u001b[39m__path__):\n\u001b[0;32m    341\u001b[0m     \u001b[39mif\u001b[39;00m \u001b[39mnot\u001b[39;00m ispkg:\n\u001b[0;32m    342\u001b[0m         \u001b[39mcontinue\u001b[39;00m\n",
      "\u001b[1;31mAttributeError\u001b[0m: partially initialized module 'kivy' has no attribute 'deps' (most likely due to a circular import)"
     ]
    }
   ],
   "source": [
    "import kivy"
   ]
  },
  {
   "cell_type": "code",
   "execution_count": null,
   "metadata": {},
   "outputs": [],
   "source": []
  }
 ],
 "metadata": {
  "kernelspec": {
   "display_name": "Python 3",
   "language": "python",
   "name": "python3"
  },
  "language_info": {
   "codemirror_mode": {
    "name": "ipython",
    "version": 3
   },
   "file_extension": ".py",
   "mimetype": "text/x-python",
   "name": "python",
   "nbconvert_exporter": "python",
   "pygments_lexer": "ipython3",
   "version": "3.9.6"
  },
  "orig_nbformat": 4
 },
 "nbformat": 4,
 "nbformat_minor": 2
}
