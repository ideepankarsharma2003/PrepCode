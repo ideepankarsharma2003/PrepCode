{
 "cells": [
  {
   "cell_type": "code",
   "execution_count": 1,
   "metadata": {},
   "outputs": [
    {
     "name": "stdout",
     "output_type": "stream",
     "text": [
      "Phone number found: 415-555-4242\n"
     ]
    }
   ],
   "source": [
    "# check phone numbers with python\n",
    "import re\n",
    "us_phone_number_regex= re.compile(r'\\d\\d\\d-\\d\\d\\d-\\d\\d\\d\\d')\n",
    "mo= us_phone_number_regex.search('My number is 415-555-4242.')\n",
    "print('Phone number found: ' + mo.group())\n"
   ]
  },
  {
   "cell_type": "code",
   "execution_count": 12,
   "metadata": {},
   "outputs": [
    {
     "name": "stdout",
     "output_type": "stream",
     "text": [
      "Phone number found: +91 96391 02301\n",
      "Phone number found:  96391 02301\n",
      "Phone number found:  96391 02301\n"
     ]
    }
   ],
   "source": [
    "# check phone numbers with python\n",
    "import re\n",
    "indian_phone_number_regex= re.compile(r'(\\+91)? \\d\\d\\d\\d\\d \\d\\d\\d\\d\\d')\n",
    "mo= indian_phone_number_regex.search('My number is +91 96391 02301.')\n",
    "print('Phone number found: ' + mo.group())\n",
    "mo= indian_phone_number_regex.search('My number is 96391 02301.')\n",
    "print('Phone number found: ' + mo.group())\n",
    "mo= indian_phone_number_regex.search('My number is 96391 02301.')\n",
    "print('Phone number found: ' + mo.group())\n"
   ]
  },
  {
   "cell_type": "code",
   "execution_count": 1,
   "metadata": {},
   "outputs": [
    {
     "ename": "ModuleNotFoundError",
     "evalue": "No module named 'pyperclip'",
     "output_type": "error",
     "traceback": [
      "\u001b[1;31m---------------------------------------------------------------------------\u001b[0m",
      "\u001b[1;31mModuleNotFoundError\u001b[0m                       Traceback (most recent call last)",
      "\u001b[1;32mc:\\Deepankar\\Placement-Prep\\Concepts-Clarity\\Data Science\\2023\\Books\\Automating Boring Stuffs with Python\\temp.ipynb Cell 3\u001b[0m in \u001b[0;36m<cell line: 1>\u001b[1;34m()\u001b[0m\n\u001b[1;32m----> <a href='vscode-notebook-cell:/c%3A/Deepankar/Placement-Prep/Concepts-Clarity/Data%20Science/2023/Books/Automating%20Boring%20Stuffs%20with%20Python/temp.ipynb#W2sZmlsZQ%3D%3D?line=0'>1</a>\u001b[0m \u001b[39mimport\u001b[39;00m \u001b[39mpyperclip\u001b[39;00m\n",
      "\u001b[1;31mModuleNotFoundError\u001b[0m: No module named 'pyperclip'"
     ]
    }
   ],
   "source": [
    "import pyperclip"
   ]
  },
  {
   "cell_type": "code",
   "execution_count": null,
   "metadata": {},
   "outputs": [],
   "source": []
  }
 ],
 "metadata": {
  "kernelspec": {
   "display_name": "Python 3",
   "language": "python",
   "name": "python3"
  },
  "language_info": {
   "codemirror_mode": {
    "name": "ipython",
    "version": 3
   },
   "file_extension": ".py",
   "mimetype": "text/x-python",
   "name": "python",
   "nbconvert_exporter": "python",
   "pygments_lexer": "ipython3",
   "version": "3.9.6"
  },
  "orig_nbformat": 4
 },
 "nbformat": 4,
 "nbformat_minor": 2
}
