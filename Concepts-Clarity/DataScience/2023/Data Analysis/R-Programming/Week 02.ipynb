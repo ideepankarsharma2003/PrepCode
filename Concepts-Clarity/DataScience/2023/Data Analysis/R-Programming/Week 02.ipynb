{
 "cells": [
  {
   "attachments": {},
   "cell_type": "markdown",
   "metadata": {},
   "source": [
    "# **Week 02**"
   ]
  },
  {
   "cell_type": "code",
   "execution_count": 1,
   "metadata": {
    "vscode": {
     "languageId": "r"
    }
   },
   "outputs": [],
   "source": [
    "# pipes ---> makes the sequence of code easier to work\n",
    "# Tidyverse ---> collection of packages\n",
    "#       -> ggplot"
   ]
  },
  {
   "attachments": {},
   "cell_type": "markdown",
   "metadata": {},
   "source": [
    "**Basic Components of R**\n",
    "1. Functions-> body of resuable code which perform specific tasks\n",
    "2. Comments-> ignored\n",
    "3. Variables-> a representation of a value that can be stored for later use during programming(objects) \n",
    "- (case sensitive)(starts with letters , can contain letters+numbers+ underscore'_')<br>\n",
    " '**`<-`**'     (assignment operator)<br>\n",
    "\n",
    "4. Data Types\n",
    "5. Vectors-> a group of data elements of the same type stored in sequence. `c()` -combined function is used to create vectors\n",
    "6. Pipes-> a tool in R for expressing a sequence of multiple operations, represented with `%>%`<br>\n",
    "`ToothGrowth %>% filter(dose==0.5) %>% arrange(len)` --> arrages and filters the data"
   ]
  },
  {
   "cell_type": "code",
   "execution_count": 2,
   "metadata": {
    "vscode": {
     "languageId": "r"
    }
   },
   "outputs": [
    {
     "name": "stdout",
     "output_type": "stream",
     "text": [
      "[1] \"Hello World\"\n"
     ]
    }
   ],
   "source": [
    "print('Hello World')"
   ]
  },
  {
   "cell_type": "code",
   "execution_count": 5,
   "metadata": {
    "vscode": {
     "languageId": "r"
    }
   },
   "outputs": [
    {
     "name": "stdout",
     "output_type": "stream",
     "text": [
      "print                   package:base                   R Documentation\n",
      "\n",
      "_\bP_\br_\bi_\bn_\bt _\bV_\ba_\bl_\bu_\be_\bs\n",
      "\n",
      "_\bD_\be_\bs_\bc_\br_\bi_\bp_\bt_\bi_\bo_\bn:\n",
      "\n",
      "     'print' prints its argument and returns it _invisibly_ (via\n",
      "     'invisible(x)').  It is a generic function which means that new\n",
      "     printing methods can be easily added for new 'class'es.\n",
      "\n",
      "_\bU_\bs_\ba_\bg_\be:\n",
      "\n",
      "     print(x, ...)\n",
      "     \n",
      "     ## S3 method for class 'factor'\n",
      "     print(x, quote = FALSE, max.levels = NULL,\n",
      "           width = getOption(\"width\"), ...)\n",
      "     \n",
      "     ## S3 method for class 'table'\n",
      "     print(x, digits = getOption(\"digits\"), quote = FALSE,\n",
      "           na.print = \"\", zero.print = \"0\",\n",
      "           right = is.numeric(x) || is.complex(x),\n",
      "           justify = \"none\", ...)\n",
      "     \n",
      "     ## S3 method for class 'function'\n",
      "     print(x, useSource = TRUE, ...)\n",
      "     \n",
      "_\bA_\br_\bg_\bu_\bm_\be_\bn_\bt_\bs:\n",
      "\n",
      "       x: an object used to select a method.\n",
      "\n",
      "     ...: further arguments passed to or from other methods.\n",
      "\n",
      "   quote: logical, indicating whether or not strings should be printed\n",
      "          with surrounding quotes.\n",
      "\n",
      "max.levels: integer, indicating how many levels should be printed for a\n",
      "          factor; if '0', no extra \"Levels\" line will be printed.  The\n",
      "          default, 'NULL', entails choosing 'max.levels' such that the\n",
      "          levels print on one line of width 'width'.\n",
      "\n",
      "   width: only used when 'max.levels' is NULL, see above.\n",
      "\n",
      "  digits: minimal number of _significant_ digits, see 'print.default'.\n",
      "\n",
      "na.print: character string (or 'NULL') indicating 'NA' values in\n",
      "          printed output, see 'print.default'.\n",
      "\n",
      "zero.print: character specifying how zeros ('0') should be printed; for\n",
      "          sparse tables, using '\".\"' can produce more readable results,\n",
      "          similar to printing sparse matrices in 'Matrix'.\n",
      "\n",
      "   right: logical, indicating whether or not strings should be right\n",
      "          aligned.\n",
      "\n",
      " justify: character indicating if strings should left- or\n",
      "          right-justified or left alone, passed to 'format'.\n",
      "\n",
      "useSource: logical indicating if internally stored source should be\n",
      "          used for printing when present, e.g., if 'options(keep.source\n",
      "          = TRUE)' has been in use.\n",
      "\n",
      "_\bD_\be_\bt_\ba_\bi_\bl_\bs:\n",
      "\n",
      "     The default method, 'print.default' has its own help page.  Use\n",
      "     'methods(\"print\")' to get all the methods for the 'print' generic.\n",
      "\n",
      "     'print.factor' allows some customization and is used for printing\n",
      "     'ordered' factors as well.\n",
      "\n",
      "     'print.table' for printing 'table's allows other customization.\n",
      "     As of R 3.0.0, it only prints a description in case of a table\n",
      "     with 0-extents (this can happen if a classifier has no valid\n",
      "     data).\n",
      "\n",
      "     See 'noquote' as an example of a class whose main purpose is a\n",
      "     specific 'print' method.\n",
      "\n",
      "_\bR_\be_\bf_\be_\br_\be_\bn_\bc_\be_\bs:\n",
      "\n",
      "     Chambers, J. M. and Hastie, T. J. (1992) _Statistical Models in\n",
      "     S._ Wadsworth & Brooks/Cole.\n",
      "\n",
      "_\bS_\be_\be _\bA_\bl_\bs_\bo:\n",
      "\n",
      "     The default method 'print.default', and help for the methods\n",
      "     above; further 'options', 'noquote'.\n",
      "\n",
      "     For more customizable (but cumbersome) printing, see 'cat',\n",
      "     'format' or also 'write'.  For a simple prototypical print method,\n",
      "     see '.print.via.format' in package 'tools'.\n",
      "\n",
      "_\bE_\bx_\ba_\bm_\bp_\bl_\be_\bs:\n",
      "\n",
      "     require(stats)\n",
      "     \n",
      "     ts(1:20)  #-- print is the \"Default function\" --> print.ts(.) is called\n",
      "     for(i in 1:3) print(1:i)\n",
      "     \n",
      "     ## Printing of factors\n",
      "     attenu$station ## 117 levels -> 'max.levels' depending on width\n",
      "     \n",
      "     ## ordered factors: levels  \"l1 < l2 < ..\"\n",
      "     esoph$agegp[1:12]\n",
      "     esoph$alcgp[1:12]\n",
      "     \n",
      "     ## Printing of sparse (contingency) tables\n",
      "     set.seed(521)\n",
      "     t1 <- round(abs(rt(200, df = 1.8)))\n",
      "     t2 <- round(abs(rt(200, df = 1.4)))\n",
      "     table(t1, t2) # simple\n",
      "     print(table(t1, t2), zero.print = \".\") # nicer to read\n",
      "     \n",
      "     ## same for non-integer \"table\":\n",
      "     T <- table(t2,t1)\n",
      "     T <- T * (1+round(rlnorm(length(T)))/4)\n",
      "     print(T, zero.print = \".\") # quite nicer,\n",
      "     print.table(T[,2:8] * 1e9, digits=3, zero.print = \".\")\n",
      "     ## still slightly inferior to  Matrix::Matrix(T)  for larger T\n",
      "     \n",
      "     ## Corner cases with empty extents:\n",
      "     table(1, NA) # < table of extent 1 x 0 >\n",
      "     "
     ]
    }
   ],
   "source": [
    "?print() # tells about the function"
   ]
  },
  {
   "cell_type": "code",
   "execution_count": 6,
   "metadata": {
    "vscode": {
     "languageId": "r"
    }
   },
   "outputs": [
    {
     "data": {
      "text/html": [
       "'This is a variable'"
      ],
      "text/latex": [
       "'This is a variable'"
      ],
      "text/markdown": [
       "'This is a variable'"
      ],
      "text/plain": [
       "[1] \"This is a variable\""
      ]
     },
     "metadata": {},
     "output_type": "display_data"
    }
   ],
   "source": [
    "var <- \"This is a variable\"\n",
    "var"
   ]
  },
  {
   "cell_type": "code",
   "execution_count": 7,
   "metadata": {
    "vscode": {
     "languageId": "r"
    }
   },
   "outputs": [
    {
     "data": {
      "text/html": [
       "125.56"
      ],
      "text/latex": [
       "125.56"
      ],
      "text/markdown": [
       "125.56"
      ],
      "text/plain": [
       "[1] 125.56"
      ]
     },
     "metadata": {},
     "output_type": "display_data"
    }
   ],
   "source": [
    "var <- 125.56\n",
    "var"
   ]
  },
  {
   "cell_type": "code",
   "execution_count": 9,
   "metadata": {
    "vscode": {
     "languageId": "r"
    }
   },
   "outputs": [
    {
     "data": {
      "text/html": [
       "<style>\n",
       ".list-inline {list-style: none; margin:0; padding: 0}\n",
       ".list-inline>li {display: inline-block}\n",
       ".list-inline>li:not(:last-child)::after {content: \"\\00b7\"; padding: 0 .5ex}\n",
       "</style>\n",
       "<ol class=list-inline><li>1</li><li>12</li><li>14.5</li><li>34</li></ol>\n"
      ],
      "text/latex": [
       "\\begin{enumerate*}\n",
       "\\item 1\n",
       "\\item 12\n",
       "\\item 14.5\n",
       "\\item 34\n",
       "\\end{enumerate*}\n"
      ],
      "text/markdown": [
       "1. 1\n",
       "2. 12\n",
       "3. 14.5\n",
       "4. 34\n",
       "\n",
       "\n"
      ],
      "text/plain": [
       "[1]  1.0 12.0 14.5 34.0"
      ]
     },
     "metadata": {},
     "output_type": "display_data"
    }
   ],
   "source": [
    "vec_1 <- c(1, 12, 14.5, 34)\n",
    "vec_1"
   ]
  },
  {
   "cell_type": "code",
   "execution_count": 25,
   "metadata": {
    "vscode": {
     "languageId": "r"
    }
   },
   "outputs": [
    {
     "data": {
      "text/html": [
       "'logical'"
      ],
      "text/latex": [
       "'logical'"
      ],
      "text/markdown": [
       "'logical'"
      ],
      "text/plain": [
       "[1] \"logical\""
      ]
     },
     "metadata": {},
     "output_type": "display_data"
    },
    {
     "data": {
      "text/html": [
       "'character'"
      ],
      "text/latex": [
       "'character'"
      ],
      "text/markdown": [
       "'character'"
      ],
      "text/plain": [
       "[1] \"character\""
      ]
     },
     "metadata": {},
     "output_type": "display_data"
    },
    {
     "data": {
      "text/html": [
       "'character'"
      ],
      "text/latex": [
       "'character'"
      ],
      "text/markdown": [
       "'character'"
      ],
      "text/plain": [
       "[1] \"character\""
      ]
     },
     "metadata": {},
     "output_type": "display_data"
    },
    {
     "data": {
      "text/html": [
       "'integer'"
      ],
      "text/latex": [
       "'integer'"
      ],
      "text/markdown": [
       "'integer'"
      ],
      "text/plain": [
       "[1] \"integer\""
      ]
     },
     "metadata": {},
     "output_type": "display_data"
    },
    {
     "data": {
      "text/html": [
       "'double'"
      ],
      "text/latex": [
       "'double'"
      ],
      "text/markdown": [
       "'double'"
      ],
      "text/plain": [
       "[1] \"double\""
      ]
     },
     "metadata": {},
     "output_type": "display_data"
    }
   ],
   "source": [
    "# Atomic Vectors\n",
    "\n",
    "typeof(c(TRUE, FALSE))\n",
    "# typeof(c(1, FALSE, 3, 56, 45.6, \"hello\")) # this is giving character !\n",
    "typeof(c(\"Ram\", 'Lakshman'))\n",
    "typeof(c(1L, 2L, 4L, 5L, 6L)) # L should be added for integers\n",
    "typeof(c(1, 2, 4.2, 5.1, 6.0))"
   ]
  },
  {
   "cell_type": "code",
   "execution_count": 17,
   "metadata": {
    "vscode": {
     "languageId": "r"
    }
   },
   "outputs": [
    {
     "data": {
      "text/html": [
       "5"
      ],
      "text/latex": [
       "5"
      ],
      "text/markdown": [
       "5"
      ],
      "text/plain": [
       "[1] 5"
      ]
     },
     "metadata": {},
     "output_type": "display_data"
    }
   ],
   "source": [
    "length(c(1, 2, 4.2, 5.1, 6.0))"
   ]
  },
  {
   "cell_type": "code",
   "execution_count": 20,
   "metadata": {
    "vscode": {
     "languageId": "r"
    }
   },
   "outputs": [
    {
     "data": {
      "text/html": [
       "TRUE"
      ],
      "text/latex": [
       "TRUE"
      ],
      "text/markdown": [
       "TRUE"
      ],
      "text/plain": [
       "[1] TRUE"
      ]
     },
     "metadata": {},
     "output_type": "display_data"
    },
    {
     "data": {
      "text/html": [
       "FALSE"
      ],
      "text/latex": [
       "FALSE"
      ],
      "text/markdown": [
       "FALSE"
      ],
      "text/plain": [
       "[1] FALSE"
      ]
     },
     "metadata": {},
     "output_type": "display_data"
    },
    {
     "data": {
      "text/html": [
       "FALSE"
      ],
      "text/latex": [
       "FALSE"
      ],
      "text/markdown": [
       "FALSE"
      ],
      "text/plain": [
       "[1] FALSE"
      ]
     },
     "metadata": {},
     "output_type": "display_data"
    }
   ],
   "source": [
    "is.integer(c(1L, 2L, 3L))\n",
    "is.character(c(1L, 2L, 3L))\n",
    "is.double(c(1L, 2L, 3L))"
   ]
  },
  {
   "cell_type": "code",
   "execution_count": 23,
   "metadata": {
    "vscode": {
     "languageId": "r"
    }
   },
   "outputs": [
    {
     "data": {
      "text/html": [
       "<style>\n",
       ".dl-inline {width: auto; margin:0; padding: 0}\n",
       ".dl-inline>dt, .dl-inline>dd {float: none; width: auto; display: inline-block}\n",
       ".dl-inline>dt::after {content: \":\\0020\"; padding-right: .5ex}\n",
       ".dl-inline>dt:not(:first-of-type) {padding-left: .5ex}\n",
       "</style><dl class=dl-inline><dt>var1</dt><dd>1</dd><dt>var2</dt><dd>3</dd><dt>var3</dt><dd>5</dd></dl>\n"
      ],
      "text/latex": [
       "\\begin{description*}\n",
       "\\item[var1] 1\n",
       "\\item[var2] 3\n",
       "\\item[var3] 5\n",
       "\\end{description*}\n"
      ],
      "text/markdown": [
       "var1\n",
       ":   1var2\n",
       ":   3var3\n",
       ":   5\n",
       "\n"
      ],
      "text/plain": [
       "var1 var2 var3 \n",
       "   1    3    5 "
      ]
     },
     "metadata": {},
     "output_type": "display_data"
    }
   ],
   "source": [
    "# Naming Vectors\n",
    "\n",
    "x <- c(1, 3, 5)\n",
    "names(x) <- c('var1', 'var2', 'var3') # assigning names to each element of x\n",
    "x"
   ]
  },
  {
   "cell_type": "code",
   "execution_count": 26,
   "metadata": {
    "vscode": {
     "languageId": "r"
    }
   },
   "outputs": [
    {
     "data": {
      "text/html": [
       "<ol>\n",
       "\t<li>'a'</li>\n",
       "\t<li>1</li>\n",
       "\t<li>45.4</li>\n",
       "</ol>\n"
      ],
      "text/latex": [
       "\\begin{enumerate}\n",
       "\\item 'a'\n",
       "\\item 1\n",
       "\\item 45.4\n",
       "\\end{enumerate}\n"
      ],
      "text/markdown": [
       "1. 'a'\n",
       "2. 1\n",
       "3. 45.4\n",
       "\n",
       "\n"
      ],
      "text/plain": [
       "[[1]]\n",
       "[1] \"a\"\n",
       "\n",
       "[[2]]\n",
       "[1] 1\n",
       "\n",
       "[[3]]\n",
       "[1] 45.4\n"
      ]
     },
     "metadata": {},
     "output_type": "display_data"
    }
   ],
   "source": [
    "list(\"a\", 1L, 45.4)"
   ]
  },
  {
   "cell_type": "code",
   "execution_count": 27,
   "metadata": {
    "vscode": {
     "languageId": "r"
    }
   },
   "outputs": [
    {
     "data": {
      "text/html": [
       "<ol>\n",
       "\t<li><ol>\n",
       "\t<li><ol>\n",
       "\t<li>1</li>\n",
       "\t<li>3</li>\n",
       "\t<li>4</li>\n",
       "</ol>\n",
       "</li>\n",
       "</ol>\n",
       "</li>\n",
       "</ol>\n"
      ],
      "text/latex": [
       "\\begin{enumerate}\n",
       "\\item \\begin{enumerate}\n",
       "\\item \\begin{enumerate}\n",
       "\\item 1\n",
       "\\item 3\n",
       "\\item 4\n",
       "\\end{enumerate}\n",
       "\n",
       "\\end{enumerate}\n",
       "\n",
       "\\end{enumerate}\n"
      ],
      "text/markdown": [
       "1. 1. 1. 1\n",
       "2. 3\n",
       "3. 4\n",
       "\n",
       "\n",
       "\n",
       "\n",
       "\n",
       "\n",
       "\n",
       "\n"
      ],
      "text/plain": [
       "[[1]]\n",
       "[[1]][[1]]\n",
       "[[1]][[1]][[1]]\n",
       "[1] 1\n",
       "\n",
       "[[1]][[1]][[2]]\n",
       "[1] 3\n",
       "\n",
       "[[1]][[1]][[3]]\n",
       "[1] 4\n",
       "\n",
       "\n"
      ]
     },
     "metadata": {},
     "output_type": "display_data"
    }
   ],
   "source": [
    "list(list(list(1, 3, 4)))"
   ]
  },
  {
   "cell_type": "code",
   "execution_count": 28,
   "metadata": {
    "vscode": {
     "languageId": "r"
    }
   },
   "outputs": [
    {
     "name": "stdout",
     "output_type": "stream",
     "text": [
      "List of 4\n",
      " $ : chr \"a\"\n",
      " $ : int 1\n",
      " $ : num 1.5\n",
      " $ : logi TRUE\n"
     ]
    }
   ],
   "source": [
    "# determining the structure of list\n",
    "str(list(\"a\", 1L, 1.5, TRUE))"
   ]
  },
  {
   "cell_type": "code",
   "execution_count": 29,
   "metadata": {
    "vscode": {
     "languageId": "r"
    }
   },
   "outputs": [
    {
     "name": "stdout",
     "output_type": "stream",
     "text": [
      "List of 1\n",
      " $ :List of 1\n",
      "  ..$ :List of 4\n",
      "  .. ..$ : num 1\n",
      "  .. ..$ : num 3\n",
      "  .. ..$ : num 4\n",
      "  .. ..$ : num 5\n"
     ]
    }
   ],
   "source": [
    "z<-list(list(list(1, 3, 4, 5)))\n",
    "str(z)"
   ]
  },
  {
   "cell_type": "code",
   "execution_count": 30,
   "metadata": {
    "vscode": {
     "languageId": "r"
    }
   },
   "outputs": [
    {
     "data": {
      "text/html": [
       "<dl>\n",
       "\t<dt>$Chicago</dt>\n",
       "\t\t<dd>1</dd>\n",
       "\t<dt>$`New York`</dt>\n",
       "\t\t<dd>2</dd>\n",
       "\t<dt>$`Los Angles`</dt>\n",
       "\t\t<dd>3</dd>\n",
       "</dl>\n"
      ],
      "text/latex": [
       "\\begin{description}\n",
       "\\item[\\$Chicago] 1\n",
       "\\item[\\$`New York`] 2\n",
       "\\item[\\$`Los Angles`] 3\n",
       "\\end{description}\n"
      ],
      "text/markdown": [
       "$Chicago\n",
       ":   1\n",
       "$`New York`\n",
       ":   2\n",
       "$`Los Angles`\n",
       ":   3\n",
       "\n",
       "\n"
      ],
      "text/plain": [
       "$Chicago\n",
       "[1] 1\n",
       "\n",
       "$`New York`\n",
       "[1] 2\n",
       "\n",
       "$`Los Angles`\n",
       "[1] 3\n"
      ]
     },
     "metadata": {},
     "output_type": "display_data"
    }
   ],
   "source": [
    "# Naming Lists\n",
    "list('Chicago'=1, 'New York'=2, 'Los Angles'= 3)"
   ]
  },
  {
   "cell_type": "code",
   "execution_count": 1,
   "metadata": {
    "vscode": {
     "languageId": "r"
    }
   },
   "outputs": [
    {
     "name": "stderr",
     "output_type": "stream",
     "text": [
      "-- \u001b[1mAttaching packages\u001b[22m --------------------------------------- tidyverse 1.3.2 --\n",
      "\u001b[32mv\u001b[39m \u001b[34mggplot2\u001b[39m 3.4.1     \u001b[32mv\u001b[39m \u001b[34mpurrr  \u001b[39m 1.0.1\n",
      "\u001b[32mv\u001b[39m \u001b[34mtibble \u001b[39m 3.1.8     \u001b[32mv\u001b[39m \u001b[34mdplyr  \u001b[39m 1.1.0\n",
      "\u001b[32mv\u001b[39m \u001b[34mtidyr  \u001b[39m 1.3.0     \u001b[32mv\u001b[39m \u001b[34mstringr\u001b[39m 1.5.0\n",
      "\u001b[32mv\u001b[39m \u001b[34mreadr  \u001b[39m 2.1.4     \u001b[32mv\u001b[39m \u001b[34mforcats\u001b[39m 1.0.0\n",
      "-- \u001b[1mConflicts\u001b[22m ------------------------------------------ tidyverse_conflicts() --\n",
      "\u001b[31mx\u001b[39m \u001b[34mdplyr\u001b[39m::\u001b[32mfilter()\u001b[39m masks \u001b[34mstats\u001b[39m::filter()\n",
      "\u001b[31mx\u001b[39m \u001b[34mdplyr\u001b[39m::\u001b[32mlag()\u001b[39m    masks \u001b[34mstats\u001b[39m::lag()\n",
      "\n",
      "Attaching package: 'lubridate'\n",
      "\n",
      "\n",
      "The following objects are masked from 'package:base':\n",
      "\n",
      "    date, intersect, setdiff, union\n",
      "\n",
      "\n"
     ]
    }
   ],
   "source": [
    "# Dates and Time\n",
    "\n",
    "# install.packages('tidyverse')\n",
    "library(tidyverse)\n",
    "library(lubridate)"
   ]
  },
  {
   "cell_type": "code",
   "execution_count": 2,
   "metadata": {
    "vscode": {
     "languageId": "r"
    }
   },
   "outputs": [
    {
     "data": {
      "text/html": [
       "<time datetime=\"2023-02-26\">2023-02-26</time>"
      ],
      "text/latex": [
       "2023-02-26"
      ],
      "text/markdown": [
       "2023-02-26"
      ],
      "text/plain": [
       "[1] \"2023-02-26\""
      ]
     },
     "metadata": {},
     "output_type": "display_data"
    }
   ],
   "source": [
    "today()"
   ]
  },
  {
   "cell_type": "code",
   "execution_count": 3,
   "metadata": {
    "vscode": {
     "languageId": "r"
    }
   },
   "outputs": [
    {
     "data": {
      "text/plain": [
       "[1] \"2023-02-26 07:39:29 IST\""
      ]
     },
     "metadata": {},
     "output_type": "display_data"
    }
   ],
   "source": [
    "now()"
   ]
  },
  {
   "cell_type": "code",
   "execution_count": 4,
   "metadata": {
    "vscode": {
     "languageId": "r"
    }
   },
   "outputs": [
    {
     "data": {
      "text/html": [
       "<time datetime=\"2022-02-26\">2022-02-26</time>"
      ],
      "text/latex": [
       "2022-02-26"
      ],
      "text/markdown": [
       "2022-02-26"
      ],
      "text/plain": [
       "[1] \"2022-02-26\""
      ]
     },
     "metadata": {},
     "output_type": "display_data"
    }
   ],
   "source": [
    "ymd(\"2022-02-26\") # YYYY-MM-DD"
   ]
  },
  {
   "cell_type": "code",
   "execution_count": 5,
   "metadata": {
    "vscode": {
     "languageId": "r"
    }
   },
   "outputs": [
    {
     "data": {
      "text/html": [
       "<time datetime=\"2023-02-26\">2023-02-26</time>"
      ],
      "text/latex": [
       "2023-02-26"
      ],
      "text/markdown": [
       "2023-02-26"
      ],
      "text/plain": [
       "[1] \"2023-02-26\""
      ]
     },
     "metadata": {},
     "output_type": "display_data"
    }
   ],
   "source": [
    "mdy('February 26th 2023')"
   ]
  },
  {
   "cell_type": "code",
   "execution_count": 6,
   "metadata": {
    "vscode": {
     "languageId": "r"
    }
   },
   "outputs": [
    {
     "data": {
      "text/html": [
       "<time datetime=\"2023-02-20\">2023-02-20</time>"
      ],
      "text/latex": [
       "2023-02-20"
      ],
      "text/markdown": [
       "2023-02-20"
      ],
      "text/plain": [
       "[1] \"2023-02-20\""
      ]
     },
     "metadata": {},
     "output_type": "display_data"
    }
   ],
   "source": [
    "dmy('20 Feb 2023')"
   ]
  },
  {
   "cell_type": "code",
   "execution_count": 7,
   "metadata": {
    "vscode": {
     "languageId": "r"
    }
   },
   "outputs": [
    {
     "data": {
      "text/html": [
       "<time datetime=\"2023-01-23\">2023-01-23</time>"
      ],
      "text/latex": [
       "2023-01-23"
      ],
      "text/markdown": [
       "2023-01-23"
      ],
      "text/plain": [
       "[1] \"2023-01-23\""
      ]
     },
     "metadata": {},
     "output_type": "display_data"
    }
   ],
   "source": [
    "ymd('20230123')"
   ]
  },
  {
   "attachments": {},
   "cell_type": "markdown",
   "metadata": {},
   "source": [
    "operators and calculations"
   ]
  },
  {
   "cell_type": "code",
   "execution_count": 2,
   "metadata": {
    "vscode": {
     "languageId": "r"
    }
   },
   "outputs": [
    {
     "name": "stdout",
     "output_type": "stream",
     "text": [
      "[1] 110\n",
      "[1] 20\n"
     ]
    }
   ],
   "source": [
    "# operators ---> a symbol that names the type of operation/calculation\n",
    "a<- 10\n",
    "b<- 100\n",
    "print(a+b)\n",
    "print(a*2)"
   ]
  },
  {
   "cell_type": "code",
   "execution_count": 3,
   "metadata": {
    "vscode": {
     "languageId": "r"
    }
   },
   "outputs": [
    {
     "data": {
      "text/html": [
       "<table class=\"dataframe\">\n",
       "<caption>A matrix: 152 × 16 of type chr</caption>\n",
       "<thead>\n",
       "\t<tr><th></th><th scope=col>Package</th><th scope=col>LibPath</th><th scope=col>Version</th><th scope=col>Priority</th><th scope=col>Depends</th><th scope=col>Imports</th><th scope=col>LinkingTo</th><th scope=col>Suggests</th><th scope=col>Enhances</th><th scope=col>License</th><th scope=col>License_is_FOSS</th><th scope=col>License_restricts_use</th><th scope=col>OS_type</th><th scope=col>MD5sum</th><th scope=col>NeedsCompilation</th><th scope=col>Built</th></tr>\n",
       "</thead>\n",
       "<tbody>\n",
       "\t<tr><th scope=row>askpass</th><td><span style=white-space:pre-wrap>askpass    </span></td><td>C:/Deepankar/INSTALLS/R-4.1.3/library</td><td><span style=white-space:pre-wrap>1.1   </span></td><td><span style=white-space:pre-wrap>NA         </span></td><td><span style=white-space:pre-wrap>NA                                                 </span></td><td><span style=white-space:pre-wrap>sys (&gt;= 2.1)                                                                                                                          </span></td><td>NA</td><td><span style=white-space:pre-wrap>testthat                                                                                                                                                                                                                                                                                                                                                                                                                                                                                                                                                                                                                                                                                                                                                                             </span></td><td>NA </td><td><span style=white-space:pre-wrap>MIT + file LICENSE         </span></td><td>NA</td><td>NA</td><td>NA</td><td>NA</td><td>yes</td><td>4.1.3</td></tr>\n",
       "\t<tr><th scope=row>assertthat</th><td>assertthat </td><td>C:/Deepankar/INSTALLS/R-4.1.3/library</td><td>0.2.1 </td><td>NA         </td><td>NA                                                 </td><td>tools                                                                                                                                 </td><td>NA</td><td>testthat, covr                                                                                                                                                                                                                                                                                                                                                                                                                                                                                                                                                                                                                                                                                                                                                                       </td><td>NA </td><td>GPL-3                      </td><td>NA</td><td>NA</td><td>NA</td><td>NA</td><td>no </td><td>4.1.3</td></tr>\n",
       "\t<tr><th scope=row>backports</th><td><span style=white-space:pre-wrap>backports  </span></td><td>C:/Deepankar/INSTALLS/R-4.1.3/library</td><td>1.4.1 </td><td><span style=white-space:pre-wrap>NA         </span></td><td><span style=white-space:pre-wrap>R (&gt;= 3.0.0)                                       </span></td><td><span style=white-space:pre-wrap>NA                                                                                                                                    </span></td><td>NA</td><td><span style=white-space:pre-wrap>NA                                                                                                                                                                                                                                                                                                                                                                                                                                                                                                                                                                                                                                                                                                                                                                                   </span></td><td>NA </td><td><span style=white-space:pre-wrap>GPL-2 | GPL-3              </span></td><td>NA</td><td>NA</td><td>NA</td><td>NA</td><td>yes</td><td>4.1.2</td></tr>\n",
       "\t<tr><th scope=row>base</th><td>base       </td><td>C:/Deepankar/INSTALLS/R-4.1.3/library</td><td>4.1.3 </td><td>base       </td><td>NA                                                 </td><td>NA                                                                                                                                    </td><td>NA</td><td>methods                                                                                                                                                                                                                                                                                                                                                                                                                                                                                                                                                                                                                                                                                                                                                                              </td><td>NA </td><td>Part of R 4.1.3            </td><td>NA</td><td>NA</td><td>NA</td><td>NA</td><td>NA </td><td>4.1.3</td></tr>\n",
       "\t<tr><th scope=row>base64enc</th><td><span style=white-space:pre-wrap>base64enc  </span></td><td>C:/Deepankar/INSTALLS/R-4.1.3/library</td><td>0.1-3 </td><td><span style=white-space:pre-wrap>NA         </span></td><td><span style=white-space:pre-wrap>R (&gt;= 2.9.0)                                       </span></td><td><span style=white-space:pre-wrap>NA                                                                                                                                    </span></td><td>NA</td><td><span style=white-space:pre-wrap>NA                                                                                                                                                                                                                                                                                                                                                                                                                                                                                                                                                                                                                                                                                                                                                                                   </span></td><td>png</td><td><span style=white-space:pre-wrap>GPL-2 | GPL-3              </span></td><td>NA</td><td>NA</td><td>NA</td><td>NA</td><td>yes</td><td>4.1.1</td></tr>\n",
       "\t<tr><th scope=row>bit</th><td><span style=white-space:pre-wrap>bit        </span></td><td>C:/Deepankar/INSTALLS/R-4.1.3/library</td><td>4.0.5 </td><td><span style=white-space:pre-wrap>NA         </span></td><td><span style=white-space:pre-wrap>R (&gt;= 2.9.2)                                       </span></td><td><span style=white-space:pre-wrap>NA                                                                                                                                    </span></td><td>NA</td><td><span style=white-space:pre-wrap>testthat (&gt;= 0.11.0), roxygen2, knitr, rmarkdown,\n",
       "microbenchmark, bit64 (&gt;= 4.0.0), ff (&gt;= 4.0.0)                                                                                                                                                                                                                                                                                                                                                                                                                                                                                                                                                                                                                                                                                   </span></td><td>NA </td><td><span style=white-space:pre-wrap>GPL-2 | GPL-3              </span></td><td>NA</td><td>NA</td><td>NA</td><td>NA</td><td>yes</td><td>4.1.3</td></tr>\n",
       "\t<tr><th scope=row>bit64</th><td><span style=white-space:pre-wrap>bit64      </span></td><td>C:/Deepankar/INSTALLS/R-4.1.3/library</td><td>4.0.5 </td><td><span style=white-space:pre-wrap>NA         </span></td><td>R (&gt;= 3.0.1), bit (&gt;= 4.0.0), utils, methods, stats</td><td><span style=white-space:pre-wrap>NA                                                                                                                                    </span></td><td>NA</td><td><span style=white-space:pre-wrap>NA                                                                                                                                                                                                                                                                                                                                                                                                                                                                                                                                                                                                                                                                                                                                                                                   </span></td><td>NA </td><td><span style=white-space:pre-wrap>GPL-2 | GPL-3              </span></td><td>NA</td><td>NA</td><td>NA</td><td>NA</td><td>yes</td><td>4.1.3</td></tr>\n",
       "\t<tr><th scope=row>blob</th><td><span style=white-space:pre-wrap>blob       </span></td><td>C:/Deepankar/INSTALLS/R-4.1.3/library</td><td>1.2.3 </td><td><span style=white-space:pre-wrap>NA         </span></td><td><span style=white-space:pre-wrap>NA                                                 </span></td><td><span style=white-space:pre-wrap>methods, rlang, vctrs (&gt;= 0.2.1)                                                                                                      </span></td><td>NA</td><td><span style=white-space:pre-wrap>covr, crayon, pillar (&gt;= 1.2.1), testthat                                                                                                                                                                                                                                                                                                                                                                                                                                                                                                                                                                                                                                                                                                                                            </span></td><td>NA </td><td><span style=white-space:pre-wrap>MIT + file LICENSE         </span></td><td>NA</td><td>NA</td><td>NA</td><td>NA</td><td>no </td><td>4.1.3</td></tr>\n",
       "\t<tr><th scope=row>boot</th><td><span style=white-space:pre-wrap>boot       </span></td><td>C:/Deepankar/INSTALLS/R-4.1.3/library</td><td>1.3-28</td><td>recommended</td><td><span style=white-space:pre-wrap>R (&gt;= 3.0.0), graphics, stats                      </span></td><td><span style=white-space:pre-wrap>NA                                                                                                                                    </span></td><td>NA</td><td><span style=white-space:pre-wrap>MASS, survival                                                                                                                                                                                                                                                                                                                                                                                                                                                                                                                                                                                                                                                                                                                                                                       </span></td><td>NA </td><td><span style=white-space:pre-wrap>Unlimited                  </span></td><td>NA</td><td>NA</td><td>NA</td><td>NA</td><td>no </td><td>4.1.3</td></tr>\n",
       "\t<tr><th scope=row>brew</th><td><span style=white-space:pre-wrap>brew       </span></td><td>C:/Deepankar/INSTALLS/R-4.1.3/library</td><td>1.0-8 </td><td><span style=white-space:pre-wrap>NA         </span></td><td><span style=white-space:pre-wrap>NA                                                 </span></td><td><span style=white-space:pre-wrap>NA                                                                                                                                    </span></td><td>NA</td><td><span style=white-space:pre-wrap>testthat (&gt;= 3.0.0)                                                                                                                                                                                                                                                                                                                                                                                                                                                                                                                                                                                                                                                                                                                                                                  </span></td><td>NA </td><td><span style=white-space:pre-wrap>GPL-2                      </span></td><td>NA</td><td>NA</td><td>NA</td><td>NA</td><td>no </td><td>4.1.3</td></tr>\n",
       "\t<tr><th scope=row>broom</th><td><span style=white-space:pre-wrap>broom      </span></td><td>C:/Deepankar/INSTALLS/R-4.1.3/library</td><td>1.0.3 </td><td><span style=white-space:pre-wrap>NA         </span></td><td><span style=white-space:pre-wrap>R (&gt;= 3.1)                                         </span></td><td><span style=white-space:pre-wrap>backports, dplyr (&gt;= 1.0.0), ellipsis, generics (&gt;= 0.0.2),\n",
       "glue, purrr, rlang, stringr, tibble (&gt;= 3.0.0), tidyr (&gt;=\n",
       "1.0.0)        </span></td><td>NA</td><td>AER, AUC, bbmle, betareg, biglm, binGroup, boot, btergm (&gt;=\n",
       "1.10.6), car, carData, caret, cluster, cmprsk, coda, covr, drc,\n",
       "e1071, emmeans, epiR, ergm (&gt;= 3.10.4), fixest (&gt;= 0.9.0), gam\n",
       "(&gt;= 1.15), gee, geepack, ggplot2, glmnet, glmnetUtils, gmm,\n",
       "Hmisc, irlba, interp, joineRML, Kendall, knitr, ks, Lahman,\n",
       "lavaan, leaps, lfe, lm.beta, lme4, lmodel2, lmtest (&gt;= 0.9.38),\n",
       "lsmeans, maps, maptools, margins, MASS, mclust, mediation,\n",
       "metafor, mfx, mgcv, mlogit, modeldata, modeltests, muhaz,\n",
       "multcomp, network, nnet, orcutt (&gt;= 2.2), ordinal, plm, poLCA,\n",
       "psych, quantreg, rgeos, rmarkdown, robust, robustbase, rsample,\n",
       "sandwich, sp, spdep (&gt;= 1.1), spatialreg, speedglm, spelling,\n",
       "survey, survival, systemfit, testthat (&gt;= 2.1.0), tseries,\n",
       "vars, zoo</td><td>NA </td><td><span style=white-space:pre-wrap>MIT + file LICENSE         </span></td><td>NA</td><td>NA</td><td>NA</td><td>NA</td><td>no </td><td>4.1.3</td></tr>\n",
       "\t<tr><th scope=row>bslib</th><td><span style=white-space:pre-wrap>bslib      </span></td><td>C:/Deepankar/INSTALLS/R-4.1.3/library</td><td>0.4.2 </td><td><span style=white-space:pre-wrap>NA         </span></td><td><span style=white-space:pre-wrap>R (&gt;= 2.10)                                        </span></td><td>grDevices, htmltools (&gt;= 0.5.4), jsonlite, sass (&gt;= 0.4.0),\n",
       "jquerylib (&gt;= 0.1.3), rlang, cachem, memoise (&gt;= 2.0.1),\n",
       "base64enc, mime</td><td>NA</td><td><span style=white-space:pre-wrap>shiny (&gt;= 1.6.0), rmarkdown (&gt;= 2.7), thematic, knitr,\n",
       "testthat, withr, rappdirs, curl, magrittr, fontawesome, bsicons                                                                                                                                                                                                                                                                                                                                                                                                                                                                                                                                                                                                                                                              </span></td><td>NA </td><td><span style=white-space:pre-wrap>MIT + file LICENSE         </span></td><td>NA</td><td>NA</td><td>NA</td><td>NA</td><td>no </td><td>4.1.3</td></tr>\n",
       "\t<tr><th scope=row>cachem</th><td>cachem     </td><td>C:/Deepankar/INSTALLS/R-4.1.3/library</td><td>1.0.6 </td><td>NA         </td><td>NA                                                 </td><td>rlang, fastmap                                                                                                                        </td><td>NA</td><td>testthat                                                                                                                                                                                                                                                                                                                                                                                                                                                                                                                                                                                                                                                                                                                                                                             </td><td>NA </td><td>MIT + file LICENSE         </td><td>NA</td><td>NA</td><td>NA</td><td>NA</td><td>yes</td><td>4.1.3</td></tr>\n",
       "\t<tr><th scope=row>callr</th><td><span style=white-space:pre-wrap>callr      </span></td><td>C:/Deepankar/INSTALLS/R-4.1.3/library</td><td>3.7.3 </td><td><span style=white-space:pre-wrap>NA         </span></td><td><span style=white-space:pre-wrap>R (&gt;= 3.4)                                         </span></td><td><span style=white-space:pre-wrap>processx (&gt;= 3.6.1), R6, utils                                                                                                        </span></td><td>NA</td><td><span style=white-space:pre-wrap>asciicast, cli (&gt;= 1.1.0), covr, mockery, ps, rprojroot,\n",
       "spelling, testthat (&gt;= 3.0.0), withr (&gt;= 2.3.0)                                                                                                                                                                                                                                                                                                                                                                                                                                                                                                                                                                                                                                                                            </span></td><td>NA </td><td><span style=white-space:pre-wrap>MIT + file LICENSE         </span></td><td>NA</td><td>NA</td><td>NA</td><td>NA</td><td>no </td><td>4.1.3</td></tr>\n",
       "\t<tr><th scope=row>cellranger</th><td>cellranger </td><td>C:/Deepankar/INSTALLS/R-4.1.3/library</td><td>1.1.0 </td><td><span style=white-space:pre-wrap>NA         </span></td><td><span style=white-space:pre-wrap>R (&gt;= 3.0.0)                                       </span></td><td><span style=white-space:pre-wrap>rematch, tibble                                                                                                                       </span></td><td>NA</td><td><span style=white-space:pre-wrap>covr, testthat (&gt;= 1.0.0), knitr, rmarkdown                                                                                                                                                                                                                                                                                                                                                                                                                                                                                                                                                                                                                                                                                                                                          </span></td><td>NA </td><td><span style=white-space:pre-wrap>MIT + file LICENSE         </span></td><td>NA</td><td>NA</td><td>NA</td><td>NA</td><td>no </td><td>4.1.3</td></tr>\n",
       "\t<tr><th scope=row>class</th><td><span style=white-space:pre-wrap>class      </span></td><td>C:/Deepankar/INSTALLS/R-4.1.3/library</td><td>7.3-20</td><td>recommended</td><td><span style=white-space:pre-wrap>R (&gt;= 3.0.0), stats, utils                         </span></td><td><span style=white-space:pre-wrap>MASS                                                                                                                                  </span></td><td>NA</td><td><span style=white-space:pre-wrap>NA                                                                                                                                                                                                                                                                                                                                                                                                                                                                                                                                                                                                                                                                                                                                                                                   </span></td><td>NA </td><td><span style=white-space:pre-wrap>GPL-2 | GPL-3              </span></td><td>NA</td><td>NA</td><td>NA</td><td>NA</td><td>yes</td><td>4.1.3</td></tr>\n",
       "\t<tr><th scope=row>cli</th><td><span style=white-space:pre-wrap>cli        </span></td><td>C:/Deepankar/INSTALLS/R-4.1.3/library</td><td>3.6.0 </td><td><span style=white-space:pre-wrap>NA         </span></td><td><span style=white-space:pre-wrap>R (&gt;= 3.4)                                         </span></td><td><span style=white-space:pre-wrap>utils                                                                                                                                 </span></td><td>NA</td><td><span style=white-space:pre-wrap>callr, covr, crayon, digest, glue (&gt;= 1.6.0), grDevices,\n",
       "htmltools, htmlwidgets, knitr, methods, mockery, processx, ps\n",
       "(&gt;= 1.3.4.9000), rlang (&gt;= 1.0.2.9003), rmarkdown, rprojroot,\n",
       "rstudioapi, testthat, tibble, whoami, withr                                                                                                                                                                                                                                                                                                                                                                                                                                                                                                                                                  </span></td><td>NA </td><td><span style=white-space:pre-wrap>MIT + file LICENSE         </span></td><td>NA</td><td>NA</td><td>NA</td><td>NA</td><td>yes</td><td>4.1.3</td></tr>\n",
       "\t<tr><th scope=row>clipr</th><td><span style=white-space:pre-wrap>clipr      </span></td><td>C:/Deepankar/INSTALLS/R-4.1.3/library</td><td>0.8.0 </td><td><span style=white-space:pre-wrap>NA         </span></td><td><span style=white-space:pre-wrap>NA                                                 </span></td><td><span style=white-space:pre-wrap>utils                                                                                                                                 </span></td><td>NA</td><td><span style=white-space:pre-wrap>covr, knitr, rmarkdown, rstudioapi (&gt;= 0.5), testthat (&gt;=\n",
       "2.0.0)                                                                                                                                                                                                                                                                                                                                                                                                                                                                                                                                                                                                                                                                                                                    </span></td><td>NA </td><td><span style=white-space:pre-wrap>GPL-3                      </span></td><td>NA</td><td>NA</td><td>NA</td><td>NA</td><td>no </td><td>4.1.3</td></tr>\n",
       "\t<tr><th scope=row>cluster</th><td><span style=white-space:pre-wrap>cluster    </span></td><td>C:/Deepankar/INSTALLS/R-4.1.3/library</td><td>2.1.2 </td><td>recommended</td><td><span style=white-space:pre-wrap>R (&gt;= 3.4.0)                                       </span></td><td><span style=white-space:pre-wrap>graphics, grDevices, stats, utils                                                                                                     </span></td><td>NA</td><td><span style=white-space:pre-wrap>MASS, Matrix                                                                                                                                                                                                                                                                                                                                                                                                                                                                                                                                                                                                                                                                                                                                                                         </span></td><td>NA </td><td><span style=white-space:pre-wrap>GPL (&gt;= 2)                 </span></td><td>NA</td><td>NA</td><td>NA</td><td>NA</td><td>yes</td><td>4.1.3</td></tr>\n",
       "\t<tr><th scope=row>codetools</th><td><span style=white-space:pre-wrap>codetools  </span></td><td>C:/Deepankar/INSTALLS/R-4.1.3/library</td><td>0.2-18</td><td>recommended</td><td><span style=white-space:pre-wrap>R (&gt;= 2.1)                                         </span></td><td><span style=white-space:pre-wrap>NA                                                                                                                                    </span></td><td>NA</td><td><span style=white-space:pre-wrap>NA                                                                                                                                                                                                                                                                                                                                                                                                                                                                                                                                                                                                                                                                                                                                                                                   </span></td><td>NA </td><td><span style=white-space:pre-wrap>GPL                        </span></td><td>NA</td><td>NA</td><td>NA</td><td>NA</td><td>no </td><td>4.1.3</td></tr>\n",
       "\t<tr><th scope=row>collections</th><td>collections</td><td>C:/Deepankar/INSTALLS/R-4.1.3/library</td><td>0.3.7 </td><td><span style=white-space:pre-wrap>NA         </span></td><td><span style=white-space:pre-wrap>NA                                                 </span></td><td><span style=white-space:pre-wrap>NA                                                                                                                                    </span></td><td>NA</td><td><span style=white-space:pre-wrap>testthat (&gt;= 2.3.1)                                                                                                                                                                                                                                                                                                                                                                                                                                                                                                                                                                                                                                                                                                                                                                  </span></td><td>NA </td><td><span style=white-space:pre-wrap>MIT + file LICENSE         </span></td><td>NA</td><td>NA</td><td>NA</td><td>NA</td><td>yes</td><td>4.1.3</td></tr>\n",
       "\t<tr><th scope=row>colorspace</th><td>colorspace </td><td>C:/Deepankar/INSTALLS/R-4.1.3/library</td><td>2.1-0 </td><td><span style=white-space:pre-wrap>NA         </span></td><td><span style=white-space:pre-wrap>R (&gt;= 3.0.0), methods                              </span></td><td><span style=white-space:pre-wrap>graphics, grDevices, stats                                                                                                            </span></td><td>NA</td><td><span style=white-space:pre-wrap>datasets, utils, KernSmooth, MASS, kernlab, mvtnorm, vcd,\n",
       "tcltk, shiny, shinyjs, ggplot2, dplyr, scales, grid, png, jpeg,\n",
       "knitr, rmarkdown, RColorBrewer, rcartocolor, scico, viridis,\n",
       "wesanderson                                                                                                                                                                                                                                                                                                                                                                                                                                                                                                                                                                                </span></td><td>NA </td><td>BSD_3_clause + file LICENSE</td><td>NA</td><td>NA</td><td>NA</td><td>NA</td><td>yes</td><td>4.1.3</td></tr>\n",
       "\t<tr><th scope=row>commonmark</th><td>commonmark </td><td>C:/Deepankar/INSTALLS/R-4.1.3/library</td><td>1.8.1 </td><td>NA         </td><td>NA                                                 </td><td>NA                                                                                                                                    </td><td>NA</td><td>curl, testthat, xml2                                                                                                                                                                                                                                                                                                                                                                                                                                                                                                                                                                                                                                                                                                                                                                 </td><td>NA </td><td>BSD_2_clause + file LICENSE</td><td>NA</td><td>NA</td><td>NA</td><td>NA</td><td>yes</td><td>4.1.3</td></tr>\n",
       "\t<tr><th scope=row>compiler</th><td>compiler   </td><td>C:/Deepankar/INSTALLS/R-4.1.3/library</td><td>4.1.3 </td><td>base       </td><td>NA                                                 </td><td>NA                                                                                                                                    </td><td>NA</td><td>NA                                                                                                                                                                                                                                                                                                                                                                                                                                                                                                                                                                                                                                                                                                                                                                                   </td><td>NA </td><td>Part of R 4.1.3            </td><td>NA</td><td>NA</td><td>NA</td><td>NA</td><td>NA </td><td>4.1.3</td></tr>\n",
       "\t<tr><th scope=row>cpp11</th><td>cpp11      </td><td>C:/Deepankar/INSTALLS/R-4.1.3/library</td><td>0.4.3 </td><td>NA         </td><td>NA                                                 </td><td>NA                                                                                                                                    </td><td>NA</td><td>bench, brio, callr, cli, covr, decor, desc, ggplot2, glue,\n",
       "knitr, lobstr, mockery, progress, rmarkdown, scales, Rcpp,\n",
       "testthat, tibble, utils, vctrs, withr                                                                                                                                                                                                                                                                                                                                                                                                                                                                                                                                                                                                                        </td><td>NA </td><td>MIT + file LICENSE         </td><td>NA</td><td>NA</td><td>NA</td><td>NA</td><td>no </td><td>4.1.3</td></tr>\n",
       "\t<tr><th scope=row>crayon</th><td>crayon     </td><td>C:/Deepankar/INSTALLS/R-4.1.3/library</td><td>1.5.2 </td><td>NA         </td><td>NA                                                 </td><td>grDevices, methods, utils                                                                                                             </td><td>NA</td><td>mockery, rstudioapi, testthat, withr                                                                                                                                                                                                                                                                                                                                                                                                                                                                                                                                                                                                                                                                                                                                                 </td><td>NA </td><td>MIT + file LICENSE         </td><td>NA</td><td>NA</td><td>NA</td><td>NA</td><td>no </td><td>4.1.3</td></tr>\n",
       "\t<tr><th scope=row>curl</th><td><span style=white-space:pre-wrap>curl       </span></td><td>C:/Deepankar/INSTALLS/R-4.1.3/library</td><td>5.0.0 </td><td><span style=white-space:pre-wrap>NA         </span></td><td><span style=white-space:pre-wrap>R (&gt;= 3.0.0)                                       </span></td><td><span style=white-space:pre-wrap>NA                                                                                                                                    </span></td><td>NA</td><td><span style=white-space:pre-wrap>spelling, testthat (&gt;= 1.0.0), knitr, jsonlite, rmarkdown,\n",
       "magrittr, httpuv (&gt;= 1.4.4), webutils                                                                                                                                                                                                                                                                                                                                                                                                                                                                                                                                                                                                                                                                                    </span></td><td>NA </td><td><span style=white-space:pre-wrap>MIT + file LICENSE         </span></td><td>NA</td><td>NA</td><td>NA</td><td>NA</td><td>yes</td><td>4.1.3</td></tr>\n",
       "\t<tr><th scope=row>cyclocomp</th><td>cyclocomp  </td><td>C:/Deepankar/INSTALLS/R-4.1.3/library</td><td>1.1.0 </td><td>NA         </td><td>NA                                                 </td><td>callr, crayon, desc, remotes, withr                                                                                                   </td><td>NA</td><td>testthat                                                                                                                                                                                                                                                                                                                                                                                                                                                                                                                                                                                                                                                                                                                                                                             </td><td>NA </td><td>MIT + file LICENSE         </td><td>NA</td><td>NA</td><td>NA</td><td>NA</td><td>no </td><td>4.1.3</td></tr>\n",
       "\t<tr><th scope=row>data.table</th><td>data.table </td><td>C:/Deepankar/INSTALLS/R-4.1.3/library</td><td>1.14.8</td><td><span style=white-space:pre-wrap>NA         </span></td><td><span style=white-space:pre-wrap>R (&gt;= 3.1.0)                                       </span></td><td><span style=white-space:pre-wrap>methods                                                                                                                               </span></td><td>NA</td><td><span style=white-space:pre-wrap>bit64 (&gt;= 4.0.0), bit (&gt;= 4.0.4), curl, R.utils, xts,\n",
       "nanotime, zoo (&gt;= 1.8-1), yaml, knitr, rmarkdown                                                                                                                                                                                                                                                                                                                                                                                                                                                                                                                                                                                                                                                                              </span></td><td>NA </td><td><span style=white-space:pre-wrap>MPL-2.0 | file LICENSE     </span></td><td>NA</td><td>NA</td><td>NA</td><td>NA</td><td>yes</td><td>4.1.3</td></tr>\n",
       "\t<tr><th scope=row>datasets</th><td>datasets   </td><td>C:/Deepankar/INSTALLS/R-4.1.3/library</td><td>4.1.3 </td><td>base       </td><td>NA                                                 </td><td>NA                                                                                                                                    </td><td>NA</td><td>NA                                                                                                                                                                                                                                                                                                                                                                                                                                                                                                                                                                                                                                                                                                                                                                                   </td><td>NA </td><td>Part of R 4.1.3            </td><td>NA</td><td>NA</td><td>NA</td><td>NA</td><td>NA </td><td>4.1.3</td></tr>\n",
       "\t<tr><th scope=row>...</th><td>...</td><td>...</td><td>...</td><td>...</td><td>...</td><td>...</td><td>...</td><td>...</td><td>...</td><td>...</td><td>...</td><td>...</td><td>...</td><td>...</td><td>...</td><td>...</td></tr>\n",
       "\t<tr><th scope=row>spatial</th><td><span style=white-space:pre-wrap>spatial     </span></td><td>C:/Deepankar/INSTALLS/R-4.1.3/library</td><td>7.3-15</td><td>recommended</td><td>R (&gt;= 3.0.0), graphics, stats, utils</td><td><span style=white-space:pre-wrap>NA                                                                                                                                                                                                                                                                                                                                                                                                                                                                                                                                                                                     </span></td><td><span style=white-space:pre-wrap>NA                                                    </span></td><td><span style=white-space:pre-wrap>MASS                                                                                                                                                                                                                                                        </span></td><td>NA</td><td><span style=white-space:pre-wrap>GPL-2 | GPL-3                         </span></td><td>NA </td><td>NA</td><td>NA</td><td>NA</td><td>yes</td><td>4.1.3</td></tr>\n",
       "\t<tr><th scope=row>splines</th><td>splines     </td><td>C:/Deepankar/INSTALLS/R-4.1.3/library</td><td>4.1.3 </td><td>base       </td><td>NA                                  </td><td>graphics, stats                                                                                                                                                                                                                                                                                                                                                                                                                                                                                                                                                                        </td><td>NA                                                    </td><td>Matrix, methods                                                                                                                                                                                                                                             </td><td>NA</td><td>Part of R 4.1.3                       </td><td>NA </td><td>NA</td><td>NA</td><td>NA</td><td>yes</td><td>4.1.3</td></tr>\n",
       "\t<tr><th scope=row>stats</th><td>stats       </td><td>C:/Deepankar/INSTALLS/R-4.1.3/library</td><td>4.1.3 </td><td>base       </td><td>NA                                  </td><td>utils, grDevices, graphics                                                                                                                                                                                                                                                                                                                                                                                                                                                                                                                                                             </td><td>NA                                                    </td><td>MASS, Matrix, SuppDists, methods, stats4                                                                                                                                                                                                                    </td><td>NA</td><td>Part of R 4.1.3                       </td><td>NA </td><td>NA</td><td>NA</td><td>NA</td><td>yes</td><td>4.1.3</td></tr>\n",
       "\t<tr><th scope=row>stats4</th><td>stats4      </td><td>C:/Deepankar/INSTALLS/R-4.1.3/library</td><td>4.1.3 </td><td>base       </td><td>NA                                  </td><td>graphics, methods, stats                                                                                                                                                                                                                                                                                                                                                                                                                                                                                                                                                               </td><td>NA                                                    </td><td>NA                                                                                                                                                                                                                                                          </td><td>NA</td><td>Part of R 4.1.3                       </td><td>NA </td><td>NA</td><td>NA</td><td>NA</td><td>NA </td><td>4.1.3</td></tr>\n",
       "\t<tr><th scope=row>stringi</th><td><span style=white-space:pre-wrap>stringi     </span></td><td>C:/Deepankar/INSTALLS/R-4.1.3/library</td><td>1.7.12</td><td><span style=white-space:pre-wrap>NA         </span></td><td><span style=white-space:pre-wrap>R (&gt;= 3.1)                          </span></td><td><span style=white-space:pre-wrap>tools, utils, stats                                                                                                                                                                                                                                                                                                                                                                                                                                                                                                                                                                    </span></td><td><span style=white-space:pre-wrap>NA                                                    </span></td><td><span style=white-space:pre-wrap>NA                                                                                                                                                                                                                                                          </span></td><td>NA</td><td><span style=white-space:pre-wrap>file LICENSE                          </span></td><td>yes</td><td>NA</td><td>NA</td><td>NA</td><td>yes</td><td>4.1.3</td></tr>\n",
       "\t<tr><th scope=row>stringr</th><td><span style=white-space:pre-wrap>stringr     </span></td><td>C:/Deepankar/INSTALLS/R-4.1.3/library</td><td>1.5.0 </td><td><span style=white-space:pre-wrap>NA         </span></td><td><span style=white-space:pre-wrap>R (&gt;= 3.3)                          </span></td><td><span style=white-space:pre-wrap>cli, glue (&gt;= 1.6.1), lifecycle (&gt;= 1.0.3), magrittr, rlang\n",
       "(&gt;= 1.0.0), stringi (&gt;= 1.5.3), vctrs                                                                                                                                                                                                                                                                                                                                                                                                                                                                                     </span></td><td><span style=white-space:pre-wrap>NA                                                    </span></td><td><span style=white-space:pre-wrap>covr, htmltools, htmlwidgets, knitr, rmarkdown, testthat (&gt;=\n",
       "3.0.0)                                                                                                                                                                                        </span></td><td>NA</td><td><span style=white-space:pre-wrap>MIT + file LICENSE                    </span></td><td>NA </td><td>NA</td><td>NA</td><td>NA</td><td>no </td><td>4.1.3</td></tr>\n",
       "\t<tr><th scope=row>styler</th><td><span style=white-space:pre-wrap>styler      </span></td><td>C:/Deepankar/INSTALLS/R-4.1.3/library</td><td>1.9.0 </td><td><span style=white-space:pre-wrap>NA         </span></td><td><span style=white-space:pre-wrap>R (&gt;= 3.5.0)                        </span></td><td><span style=white-space:pre-wrap>cli (&gt;= 3.1.1), magrittr (&gt;= 2.0.0), purrr (&gt;= 0.2.3), R.cache\n",
       "(&gt;= 0.15.0), rlang (&gt;= 0.1.1), rprojroot (&gt;= 1.1), tools, vctrs\n",
       "(&gt;= 0.4.1), withr (&gt;= 2.3.0),                                                                                                                                                                                                                                                                                                                                                                                                                         </span></td><td><span style=white-space:pre-wrap>NA                                                    </span></td><td><span style=white-space:pre-wrap>data.tree (&gt;= 0.1.6), digest, dplyr, here, knitr, prettycode,\n",
       "rmarkdown, roxygen2, rstudioapi (&gt;= 0.7), tibble (&gt;= 1.4.2),\n",
       "testthat (&gt;= 3.0.0)                                                                                                            </span></td><td>NA</td><td><span style=white-space:pre-wrap>MIT + file LICENSE                    </span></td><td>NA </td><td>NA</td><td>NA</td><td>NA</td><td>no </td><td>4.1.3</td></tr>\n",
       "\t<tr><th scope=row>survival</th><td><span style=white-space:pre-wrap>survival    </span></td><td>C:/Deepankar/INSTALLS/R-4.1.3/library</td><td>3.2-13</td><td>recommended</td><td><span style=white-space:pre-wrap>R (&gt;= 3.5.0)                        </span></td><td><span style=white-space:pre-wrap>graphics, Matrix, methods, splines, stats, utils                                                                                                                                                                                                                                                                                                                                                                                                                                                                                                                                       </span></td><td><span style=white-space:pre-wrap>NA                                                    </span></td><td><span style=white-space:pre-wrap>NA                                                                                                                                                                                                                                                          </span></td><td>NA</td><td><span style=white-space:pre-wrap>LGPL (&gt;= 2)                           </span></td><td>NA </td><td>NA</td><td>NA</td><td>NA</td><td>yes</td><td>4.1.3</td></tr>\n",
       "\t<tr><th scope=row>sys</th><td><span style=white-space:pre-wrap>sys         </span></td><td>C:/Deepankar/INSTALLS/R-4.1.3/library</td><td>3.4.1 </td><td><span style=white-space:pre-wrap>NA         </span></td><td><span style=white-space:pre-wrap>NA                                  </span></td><td><span style=white-space:pre-wrap>NA                                                                                                                                                                                                                                                                                                                                                                                                                                                                                                                                                                                     </span></td><td><span style=white-space:pre-wrap>NA                                                    </span></td><td><span style=white-space:pre-wrap>unix (&gt;= 1.4), spelling, testthat                                                                                                                                                                                                                           </span></td><td>NA</td><td><span style=white-space:pre-wrap>MIT + file LICENSE                    </span></td><td>NA </td><td>NA</td><td>NA</td><td>NA</td><td>yes</td><td>4.1.3</td></tr>\n",
       "\t<tr><th scope=row>tcltk</th><td>tcltk       </td><td>C:/Deepankar/INSTALLS/R-4.1.3/library</td><td>4.1.3 </td><td>base       </td><td>NA                                  </td><td>utils                                                                                                                                                                                                                                                                                                                                                                                                                                                                                                                                                                                  </td><td>NA                                                    </td><td>NA                                                                                                                                                                                                                                                          </td><td>NA</td><td>Part of R 4.1.3                       </td><td>NA </td><td>NA</td><td>NA</td><td>NA</td><td>yes</td><td>4.1.3</td></tr>\n",
       "\t<tr><th scope=row>tibble</th><td><span style=white-space:pre-wrap>tibble      </span></td><td>C:/Deepankar/INSTALLS/R-4.1.3/library</td><td>3.1.8 </td><td><span style=white-space:pre-wrap>NA         </span></td><td><span style=white-space:pre-wrap>R (&gt;= 3.1.0)                        </span></td><td><span style=white-space:pre-wrap>fansi (&gt;= 0.4.0), lifecycle (&gt;= 1.0.0), magrittr, methods,\n",
       "pillar (&gt;= 1.7.0), pkgconfig, rlang (&gt;= 1.0.2), utils, vctrs\n",
       "(&gt;= 0.3.8)                                                                                                                                                                                                                                                                                                                                                                                                                                                   </span></td><td><span style=white-space:pre-wrap>NA                                                    </span></td><td>bench, bit64, blob, brio, callr, cli, covr, crayon (&gt;=\n",
       "1.3.4), DiagrammeR, dplyr, evaluate, formattable, ggplot2, hms,\n",
       "htmltools, knitr, lubridate, mockr, nycflights13, pkgbuild,\n",
       "pkgload, purrr, rmarkdown, stringi, testthat (&gt;= 3.0.2), tidyr,\n",
       "withr</td><td>NA</td><td><span style=white-space:pre-wrap>MIT + file LICENSE                    </span></td><td>NA </td><td>NA</td><td>NA</td><td>NA</td><td>yes</td><td>4.1.3</td></tr>\n",
       "\t<tr><th scope=row>tidyr</th><td><span style=white-space:pre-wrap>tidyr       </span></td><td>C:/Deepankar/INSTALLS/R-4.1.3/library</td><td>1.3.0 </td><td><span style=white-space:pre-wrap>NA         </span></td><td><span style=white-space:pre-wrap>R (&gt;= 3.4.0)                        </span></td><td><span style=white-space:pre-wrap>cli (&gt;= 3.4.1), dplyr (&gt;= 1.0.10), glue, lifecycle (&gt;= 1.0.3),\n",
       "magrittr, purrr (&gt;= 1.0.1), rlang (&gt;= 1.0.4), stringr (&gt;=\n",
       "1.5.0), tibble (&gt;= 2.1.1), tidyselect (&gt;= 1.2.0), utils, vctrs\n",
       "(&gt;= 0.5.2)                                                                                                                                                                                                                                                                                                                                                                                  </span></td><td><span style=white-space:pre-wrap>cpp11 (&gt;= 0.4.0)                                      </span></td><td><span style=white-space:pre-wrap>covr, data.table, knitr, readr, repurrrsive (&gt;= 1.1.0),\n",
       "rmarkdown, testthat (&gt;= 3.0.0)                                                                                                                                                                     </span></td><td>NA</td><td><span style=white-space:pre-wrap>MIT + file LICENSE                    </span></td><td>NA </td><td>NA</td><td>NA</td><td>NA</td><td>yes</td><td>4.1.3</td></tr>\n",
       "\t<tr><th scope=row>tidyselect</th><td><span style=white-space:pre-wrap>tidyselect  </span></td><td>C:/Deepankar/INSTALLS/R-4.1.3/library</td><td>1.2.0 </td><td><span style=white-space:pre-wrap>NA         </span></td><td><span style=white-space:pre-wrap>R (&gt;= 3.4)                          </span></td><td><span style=white-space:pre-wrap>cli (&gt;= 3.3.0), glue (&gt;= 1.3.0), lifecycle (&gt;= 1.0.3), rlang\n",
       "(&gt;= 1.0.4), vctrs (&gt;= 0.4.1), withr                                                                                                                                                                                                                                                                                                                                                                                                                                                                                      </span></td><td><span style=white-space:pre-wrap>NA                                                    </span></td><td><span style=white-space:pre-wrap>covr, crayon, dplyr, knitr, magrittr, rmarkdown, stringr,\n",
       "testthat (&gt;= 3.1.1), tibble (&gt;= 2.1.3)                                                                                                                                                           </span></td><td>NA</td><td><span style=white-space:pre-wrap>MIT + file LICENSE                    </span></td><td>NA </td><td>NA</td><td>NA</td><td>NA</td><td>no </td><td>4.1.3</td></tr>\n",
       "\t<tr><th scope=row>tidyverse</th><td><span style=white-space:pre-wrap>tidyverse   </span></td><td>C:/Deepankar/INSTALLS/R-4.1.3/library</td><td>1.3.2 </td><td><span style=white-space:pre-wrap>NA         </span></td><td><span style=white-space:pre-wrap>R (&gt;= 3.3)                          </span></td><td>broom (&gt;= 0.7.10), cli (&gt;= 3.1.0), crayon (&gt;= 1.4.2), dbplyr\n",
       "(&gt;= 2.1.1), dplyr (&gt;= 1.0.7), dtplyr (&gt;= 1.2.0), forcats (&gt;=\n",
       "0.5.1), ggplot2 (&gt;= 3.3.5), googledrive (&gt;= 2.0.0),\n",
       "googlesheets4 (&gt;= 1.0.0), haven (&gt;= 2.4.3), hms (&gt;= 1.1.1),\n",
       "httr (&gt;= 1.4.2), jsonlite (&gt;= 1.7.2), lubridate (&gt;= 1.8.0),\n",
       "magrittr (&gt;= 2.0.1), modelr (&gt;= 0.1.8), pillar (&gt;= 1.6.4),\n",
       "purrr (&gt;= 0.3.4), readr (&gt;= 2.1.1), readxl (&gt;= 1.3.1), reprex\n",
       "(&gt;= 2.0.1), rlang (&gt;= 0.4.12), rstudioapi (&gt;= 0.13), rvest (&gt;=\n",
       "1.0.2), stringr (&gt;= 1.4.0), tibble (&gt;= 3.1.6), tidyr (&gt;=\n",
       "1.1.4), xml2 (&gt;= 1.3.3)</td><td><span style=white-space:pre-wrap>NA                                                    </span></td><td><span style=white-space:pre-wrap>covr, feather, glue, knitr, rmarkdown, testthat                                                                                                                                                                                                             </span></td><td>NA</td><td><span style=white-space:pre-wrap>MIT + file LICENSE                    </span></td><td>NA </td><td>NA</td><td>NA</td><td>NA</td><td>no </td><td>4.1.3</td></tr>\n",
       "\t<tr><th scope=row>timechange</th><td><span style=white-space:pre-wrap>timechange  </span></td><td>C:/Deepankar/INSTALLS/R-4.1.3/library</td><td>0.2.0 </td><td><span style=white-space:pre-wrap>NA         </span></td><td><span style=white-space:pre-wrap>R (&gt;= 3.3)                          </span></td><td><span style=white-space:pre-wrap>NA                                                                                                                                                                                                                                                                                                                                                                                                                                                                                                                                                                                     </span></td><td><span style=white-space:pre-wrap>cpp11 (&gt;= 0.2.7)                                      </span></td><td><span style=white-space:pre-wrap>testthat (&gt;= 0.7.1.99), knitr                                                                                                                                                                                                                               </span></td><td>NA</td><td><span style=white-space:pre-wrap>GPL-3                                 </span></td><td>NA </td><td>NA</td><td>NA</td><td>NA</td><td>yes</td><td>4.1.3</td></tr>\n",
       "\t<tr><th scope=row>tinytex</th><td><span style=white-space:pre-wrap>tinytex     </span></td><td>C:/Deepankar/INSTALLS/R-4.1.3/library</td><td><span style=white-space:pre-wrap>0.44  </span></td><td><span style=white-space:pre-wrap>NA         </span></td><td><span style=white-space:pre-wrap>NA                                  </span></td><td><span style=white-space:pre-wrap>xfun (&gt;= 0.29)                                                                                                                                                                                                                                                                                                                                                                                                                                                                                                                                                                         </span></td><td><span style=white-space:pre-wrap>NA                                                    </span></td><td><span style=white-space:pre-wrap>testit, rstudioapi                                                                                                                                                                                                                                          </span></td><td>NA</td><td><span style=white-space:pre-wrap>MIT + file LICENSE                    </span></td><td>NA </td><td>NA</td><td>NA</td><td>NA</td><td>no </td><td>4.1.3</td></tr>\n",
       "\t<tr><th scope=row>tools</th><td>tools       </td><td>C:/Deepankar/INSTALLS/R-4.1.3/library</td><td>4.1.3 </td><td>base       </td><td>NA                                  </td><td>NA                                                                                                                                                                                                                                                                                                                                                                                                                                                                                                                                                                                     </td><td>NA                                                    </td><td>codetools, methods, xml2, curl, commonmark                                                                                                                                                                                                                  </td><td>NA</td><td>Part of R 4.1.3                       </td><td>NA </td><td>NA</td><td>NA</td><td>NA</td><td>yes</td><td>4.1.3</td></tr>\n",
       "\t<tr><th scope=row>translations</th><td>translations</td><td>C:/Deepankar/INSTALLS/R-4.1.3/library</td><td>4.1.3 </td><td>NA         </td><td>NA                                  </td><td>NA                                                                                                                                                                                                                                                                                                                                                                                                                                                                                                                                                                                     </td><td>NA                                                    </td><td>NA                                                                                                                                                                                                                                                          </td><td>NA</td><td>Part of R 4.1.3                       </td><td>NA </td><td>NA</td><td>NA</td><td>NA</td><td>NA </td><td>4.1.3</td></tr>\n",
       "\t<tr><th scope=row>tzdb</th><td><span style=white-space:pre-wrap>tzdb        </span></td><td>C:/Deepankar/INSTALLS/R-4.1.3/library</td><td>0.3.0 </td><td><span style=white-space:pre-wrap>NA         </span></td><td><span style=white-space:pre-wrap>R (&gt;= 3.4.0)                        </span></td><td><span style=white-space:pre-wrap>NA                                                                                                                                                                                                                                                                                                                                                                                                                                                                                                                                                                                     </span></td><td><span style=white-space:pre-wrap>cpp11 (&gt;= 0.4.2)                                      </span></td><td><span style=white-space:pre-wrap>covr, testthat (&gt;= 3.0.0)                                                                                                                                                                                                                                   </span></td><td>NA</td><td><span style=white-space:pre-wrap>MIT + file LICENSE                    </span></td><td>NA </td><td>NA</td><td>NA</td><td>NA</td><td>yes</td><td>4.1.3</td></tr>\n",
       "\t<tr><th scope=row>utf8</th><td><span style=white-space:pre-wrap>utf8        </span></td><td>C:/Deepankar/INSTALLS/R-4.1.3/library</td><td>1.2.3 </td><td><span style=white-space:pre-wrap>NA         </span></td><td><span style=white-space:pre-wrap>R (&gt;= 2.10)                         </span></td><td><span style=white-space:pre-wrap>NA                                                                                                                                                                                                                                                                                                                                                                                                                                                                                                                                                                                     </span></td><td><span style=white-space:pre-wrap>NA                                                    </span></td><td><span style=white-space:pre-wrap>cli, covr, knitr, rlang, rmarkdown, testthat (&gt;= 3.0.0),\n",
       "withr                                                                                                                                                                                             </span></td><td>NA</td><td>Apache License (== 2.0) | file LICENSE</td><td>NA </td><td>NA</td><td>NA</td><td>NA</td><td>yes</td><td>4.1.3</td></tr>\n",
       "\t<tr><th scope=row>utils</th><td>utils       </td><td>C:/Deepankar/INSTALLS/R-4.1.3/library</td><td>4.1.3 </td><td>base       </td><td>NA                                  </td><td>NA                                                                                                                                                                                                                                                                                                                                                                                                                                                                                                                                                                                     </td><td>NA                                                    </td><td>methods, xml2, commonmark                                                                                                                                                                                                                                   </td><td>NA</td><td>Part of R 4.1.3                       </td><td>NA </td><td>NA</td><td>NA</td><td>NA</td><td>yes</td><td>4.1.3</td></tr>\n",
       "\t<tr><th scope=row>uuid</th><td><span style=white-space:pre-wrap>uuid        </span></td><td>C:/Deepankar/INSTALLS/R-4.1.3/library</td><td>1.1-0 </td><td><span style=white-space:pre-wrap>NA         </span></td><td><span style=white-space:pre-wrap>R (&gt;= 2.9.0)                        </span></td><td><span style=white-space:pre-wrap>NA                                                                                                                                                                                                                                                                                                                                                                                                                                                                                                                                                                                     </span></td><td><span style=white-space:pre-wrap>NA                                                    </span></td><td><span style=white-space:pre-wrap>NA                                                                                                                                                                                                                                                          </span></td><td>NA</td><td><span style=white-space:pre-wrap>MIT + file LICENSE                    </span></td><td>NA </td><td>NA</td><td>NA</td><td>NA</td><td>yes</td><td>4.1.3</td></tr>\n",
       "\t<tr><th scope=row>vctrs</th><td><span style=white-space:pre-wrap>vctrs       </span></td><td>C:/Deepankar/INSTALLS/R-4.1.3/library</td><td>0.5.2 </td><td><span style=white-space:pre-wrap>NA         </span></td><td><span style=white-space:pre-wrap>R (&gt;= 3.3)                          </span></td><td><span style=white-space:pre-wrap>cli (&gt;= 3.4.0), glue, lifecycle (&gt;= 1.0.3), rlang (&gt;= 1.0.6)                                                                                                                                                                                                                                                                                                                                                                                                                                                                                                                           </span></td><td><span style=white-space:pre-wrap>NA                                                    </span></td><td><span style=white-space:pre-wrap>bit64, covr, crayon, dplyr (&gt;= 0.8.5), generics, knitr,\n",
       "pillar (&gt;= 1.4.4), pkgdown (&gt;= 2.0.1), rmarkdown, testthat (&gt;=\n",
       "3.0.0), tibble (&gt;= 3.1.3), withr, xml2, waldo (&gt;= 0.2.0),\n",
       "zeallot                                                                 </span></td><td>NA</td><td><span style=white-space:pre-wrap>MIT + file LICENSE                    </span></td><td>NA </td><td>NA</td><td>NA</td><td>NA</td><td>yes</td><td>4.1.3</td></tr>\n",
       "\t<tr><th scope=row>viridisLite</th><td>viridisLite </td><td>C:/Deepankar/INSTALLS/R-4.1.3/library</td><td>0.4.1 </td><td><span style=white-space:pre-wrap>NA         </span></td><td><span style=white-space:pre-wrap>R (&gt;= 2.10)                         </span></td><td><span style=white-space:pre-wrap>NA                                                                                                                                                                                                                                                                                                                                                                                                                                                                                                                                                                                     </span></td><td><span style=white-space:pre-wrap>NA                                                    </span></td><td><span style=white-space:pre-wrap>hexbin (&gt;= 1.27.0), ggplot2 (&gt;= 1.0.1), testthat, covr                                                                                                                                                                                                      </span></td><td>NA</td><td><span style=white-space:pre-wrap>MIT + file LICENSE                    </span></td><td>NA </td><td>NA</td><td>NA</td><td>NA</td><td>no </td><td>4.1.3</td></tr>\n",
       "\t<tr><th scope=row>vroom</th><td><span style=white-space:pre-wrap>vroom       </span></td><td>C:/Deepankar/INSTALLS/R-4.1.3/library</td><td>1.6.1 </td><td><span style=white-space:pre-wrap>NA         </span></td><td><span style=white-space:pre-wrap>R (&gt;= 3.4)                          </span></td><td><span style=white-space:pre-wrap>bit64, cli (&gt;= 3.2.0), crayon, glue, hms, lifecycle (&gt;=\n",
       "1.0.3), methods, rlang (&gt;= 0.4.2), stats, tibble (&gt;= 2.0.0),\n",
       "tidyselect, tzdb (&gt;= 0.1.1), vctrs (&gt;= 0.2.0), withr                                                                                                                                                                                                                                                                                                                                                                                                            </span></td><td>cpp11 (&gt;= 0.2.0), progress (&gt;= 1.2.1), tzdb (&gt;= 0.1.1)</td><td><span style=white-space:pre-wrap>archive, bench (&gt;= 1.1.0), covr, curl, dplyr, forcats, fs,\n",
       "ggplot2, knitr, patchwork, prettyunits, purrr, rmarkdown,\n",
       "rstudioapi, scales, spelling, testthat (&gt;= 2.1.0), tidyr,\n",
       "utils, waldo, xml2                                                        </span></td><td>NA</td><td><span style=white-space:pre-wrap>MIT + file LICENSE                    </span></td><td>NA </td><td>NA</td><td>NA</td><td>NA</td><td>yes</td><td>4.1.3</td></tr>\n",
       "\t<tr><th scope=row>withr</th><td><span style=white-space:pre-wrap>withr       </span></td><td>C:/Deepankar/INSTALLS/R-4.1.3/library</td><td>2.5.0 </td><td><span style=white-space:pre-wrap>NA         </span></td><td><span style=white-space:pre-wrap>R (&gt;= 3.2.0)                        </span></td><td><span style=white-space:pre-wrap>graphics, grDevices, stats                                                                                                                                                                                                                                                                                                                                                                                                                                                                                                                                                             </span></td><td><span style=white-space:pre-wrap>NA                                                    </span></td><td><span style=white-space:pre-wrap>callr, covr, DBI, knitr, lattice, methods, rlang, rmarkdown\n",
       "(&gt;= 2.12), RSQLite, testthat (&gt;= 3.0.0)                                                                                                                                                        </span></td><td>NA</td><td><span style=white-space:pre-wrap>MIT + file LICENSE                    </span></td><td>NA </td><td>NA</td><td>NA</td><td>NA</td><td>no </td><td>4.1.3</td></tr>\n",
       "\t<tr><th scope=row>xfun</th><td><span style=white-space:pre-wrap>xfun        </span></td><td>C:/Deepankar/INSTALLS/R-4.1.3/library</td><td><span style=white-space:pre-wrap>0.37  </span></td><td><span style=white-space:pre-wrap>NA         </span></td><td><span style=white-space:pre-wrap>NA                                  </span></td><td><span style=white-space:pre-wrap>stats, tools                                                                                                                                                                                                                                                                                                                                                                                                                                                                                                                                                                           </span></td><td><span style=white-space:pre-wrap>NA                                                    </span></td><td><span style=white-space:pre-wrap>testit, parallel, codetools, rstudioapi, tinytex (&gt;= 0.30),\n",
       "mime, markdown (&gt;= 1.5), knitr (&gt;= 1.42), htmltools, remotes,\n",
       "pak, rhub, renv, curl, jsonlite, magick, rmarkdown                                                                              </span></td><td>NA</td><td><span style=white-space:pre-wrap>MIT + file LICENSE                    </span></td><td>NA </td><td>NA</td><td>NA</td><td>NA</td><td>yes</td><td>4.1.3</td></tr>\n",
       "\t<tr><th scope=row>xml2</th><td><span style=white-space:pre-wrap>xml2        </span></td><td>C:/Deepankar/INSTALLS/R-4.1.3/library</td><td>1.3.3 </td><td><span style=white-space:pre-wrap>NA         </span></td><td><span style=white-space:pre-wrap>R (&gt;= 3.1.0)                        </span></td><td><span style=white-space:pre-wrap>methods                                                                                                                                                                                                                                                                                                                                                                                                                                                                                                                                                                                </span></td><td><span style=white-space:pre-wrap>NA                                                    </span></td><td><span style=white-space:pre-wrap>covr, curl, httr, knitr, magrittr, mockery, rmarkdown,\n",
       "testthat (&gt;= 2.1.0)                                                                                                                                                                                 </span></td><td>NA</td><td><span style=white-space:pre-wrap>MIT + file LICENSE                    </span></td><td>NA </td><td>NA</td><td>NA</td><td>NA</td><td>yes</td><td>4.1.3</td></tr>\n",
       "\t<tr><th scope=row>xmlparsedata</th><td>xmlparsedata</td><td>C:/Deepankar/INSTALLS/R-4.1.3/library</td><td>1.0.5 </td><td><span style=white-space:pre-wrap>NA         </span></td><td><span style=white-space:pre-wrap>R (&gt;= 3.0.0)                        </span></td><td><span style=white-space:pre-wrap>NA                                                                                                                                                                                                                                                                                                                                                                                                                                                                                                                                                                                     </span></td><td><span style=white-space:pre-wrap>NA                                                    </span></td><td><span style=white-space:pre-wrap>covr, testthat, xml2                                                                                                                                                                                                                                        </span></td><td>NA</td><td><span style=white-space:pre-wrap>MIT + file LICENSE                    </span></td><td>NA </td><td>NA</td><td>NA</td><td>NA</td><td>no </td><td>4.1.3</td></tr>\n",
       "\t<tr><th scope=row>yaml</th><td>yaml        </td><td>C:/Deepankar/INSTALLS/R-4.1.3/library</td><td>2.3.7 </td><td>NA         </td><td>NA                                  </td><td>NA                                                                                                                                                                                                                                                                                                                                                                                                                                                                                                                                                                                     </td><td>NA                                                    </td><td>RUnit                                                                                                                                                                                                                                                       </td><td>NA</td><td>BSD_3_clause + file LICENSE           </td><td>NA </td><td>NA</td><td>NA</td><td>NA</td><td>yes</td><td>4.1.3</td></tr>\n",
       "</tbody>\n",
       "</table>\n"
      ],
      "text/latex": [
       "A matrix: 152 × 16 of type chr\n",
       "\\begin{tabular}{r|llllllllllllllll}\n",
       "  & Package & LibPath & Version & Priority & Depends & Imports & LinkingTo & Suggests & Enhances & License & License\\_is\\_FOSS & License\\_restricts\\_use & OS\\_type & MD5sum & NeedsCompilation & Built\\\\\n",
       "\\hline\n",
       "\taskpass & askpass     & C:/Deepankar/INSTALLS/R-4.1.3/library & 1.1    & NA          & NA                                                  & sys (>= 2.1)                                                                                                                           & NA & testthat                                                                                                                                                                                                                                                                                                                                                                                                                                                                                                                                                                                                                                                                                                                                                                              & NA  & MIT + file LICENSE          & NA & NA & NA & NA & yes & 4.1.3\\\\\n",
       "\tassertthat & assertthat  & C:/Deepankar/INSTALLS/R-4.1.3/library & 0.2.1  & NA          & NA                                                  & tools                                                                                                                                  & NA & testthat, covr                                                                                                                                                                                                                                                                                                                                                                                                                                                                                                                                                                                                                                                                                                                                                                        & NA  & GPL-3                       & NA & NA & NA & NA & no  & 4.1.3\\\\\n",
       "\tbackports & backports   & C:/Deepankar/INSTALLS/R-4.1.3/library & 1.4.1  & NA          & R (>= 3.0.0)                                        & NA                                                                                                                                     & NA & NA                                                                                                                                                                                                                                                                                                                                                                                                                                                                                                                                                                                                                                                                                                                                                                                    & NA  & GPL-2 \\textbar{} GPL-3               & NA & NA & NA & NA & yes & 4.1.2\\\\\n",
       "\tbase & base        & C:/Deepankar/INSTALLS/R-4.1.3/library & 4.1.3  & base        & NA                                                  & NA                                                                                                                                     & NA & methods                                                                                                                                                                                                                                                                                                                                                                                                                                                                                                                                                                                                                                                                                                                                                                               & NA  & Part of R 4.1.3             & NA & NA & NA & NA & NA  & 4.1.3\\\\\n",
       "\tbase64enc & base64enc   & C:/Deepankar/INSTALLS/R-4.1.3/library & 0.1-3  & NA          & R (>= 2.9.0)                                        & NA                                                                                                                                     & NA & NA                                                                                                                                                                                                                                                                                                                                                                                                                                                                                                                                                                                                                                                                                                                                                                                    & png & GPL-2 \\textbar{} GPL-3               & NA & NA & NA & NA & yes & 4.1.1\\\\\n",
       "\tbit & bit         & C:/Deepankar/INSTALLS/R-4.1.3/library & 4.0.5  & NA          & R (>= 2.9.2)                                        & NA                                                                                                                                     & NA & testthat (>= 0.11.0), roxygen2, knitr, rmarkdown,\n",
       "microbenchmark, bit64 (>= 4.0.0), ff (>= 4.0.0)                                                                                                                                                                                                                                                                                                                                                                                                                                                                                                                                                                                                                                                                                    & NA  & GPL-2 \\textbar{} GPL-3               & NA & NA & NA & NA & yes & 4.1.3\\\\\n",
       "\tbit64 & bit64       & C:/Deepankar/INSTALLS/R-4.1.3/library & 4.0.5  & NA          & R (>= 3.0.1), bit (>= 4.0.0), utils, methods, stats & NA                                                                                                                                     & NA & NA                                                                                                                                                                                                                                                                                                                                                                                                                                                                                                                                                                                                                                                                                                                                                                                    & NA  & GPL-2 \\textbar{} GPL-3               & NA & NA & NA & NA & yes & 4.1.3\\\\\n",
       "\tblob & blob        & C:/Deepankar/INSTALLS/R-4.1.3/library & 1.2.3  & NA          & NA                                                  & methods, rlang, vctrs (>= 0.2.1)                                                                                                       & NA & covr, crayon, pillar (>= 1.2.1), testthat                                                                                                                                                                                                                                                                                                                                                                                                                                                                                                                                                                                                                                                                                                                                             & NA  & MIT + file LICENSE          & NA & NA & NA & NA & no  & 4.1.3\\\\\n",
       "\tboot & boot        & C:/Deepankar/INSTALLS/R-4.1.3/library & 1.3-28 & recommended & R (>= 3.0.0), graphics, stats                       & NA                                                                                                                                     & NA & MASS, survival                                                                                                                                                                                                                                                                                                                                                                                                                                                                                                                                                                                                                                                                                                                                                                        & NA  & Unlimited                   & NA & NA & NA & NA & no  & 4.1.3\\\\\n",
       "\tbrew & brew        & C:/Deepankar/INSTALLS/R-4.1.3/library & 1.0-8  & NA          & NA                                                  & NA                                                                                                                                     & NA & testthat (>= 3.0.0)                                                                                                                                                                                                                                                                                                                                                                                                                                                                                                                                                                                                                                                                                                                                                                   & NA  & GPL-2                       & NA & NA & NA & NA & no  & 4.1.3\\\\\n",
       "\tbroom & broom       & C:/Deepankar/INSTALLS/R-4.1.3/library & 1.0.3  & NA          & R (>= 3.1)                                          & backports, dplyr (>= 1.0.0), ellipsis, generics (>= 0.0.2),\n",
       "glue, purrr, rlang, stringr, tibble (>= 3.0.0), tidyr (>=\n",
       "1.0.0)         & NA & AER, AUC, bbmle, betareg, biglm, binGroup, boot, btergm (>=\n",
       "1.10.6), car, carData, caret, cluster, cmprsk, coda, covr, drc,\n",
       "e1071, emmeans, epiR, ergm (>= 3.10.4), fixest (>= 0.9.0), gam\n",
       "(>= 1.15), gee, geepack, ggplot2, glmnet, glmnetUtils, gmm,\n",
       "Hmisc, irlba, interp, joineRML, Kendall, knitr, ks, Lahman,\n",
       "lavaan, leaps, lfe, lm.beta, lme4, lmodel2, lmtest (>= 0.9.38),\n",
       "lsmeans, maps, maptools, margins, MASS, mclust, mediation,\n",
       "metafor, mfx, mgcv, mlogit, modeldata, modeltests, muhaz,\n",
       "multcomp, network, nnet, orcutt (>= 2.2), ordinal, plm, poLCA,\n",
       "psych, quantreg, rgeos, rmarkdown, robust, robustbase, rsample,\n",
       "sandwich, sp, spdep (>= 1.1), spatialreg, speedglm, spelling,\n",
       "survey, survival, systemfit, testthat (>= 2.1.0), tseries,\n",
       "vars, zoo & NA  & MIT + file LICENSE          & NA & NA & NA & NA & no  & 4.1.3\\\\\n",
       "\tbslib & bslib       & C:/Deepankar/INSTALLS/R-4.1.3/library & 0.4.2  & NA          & R (>= 2.10)                                         & grDevices, htmltools (>= 0.5.4), jsonlite, sass (>= 0.4.0),\n",
       "jquerylib (>= 0.1.3), rlang, cachem, memoise (>= 2.0.1),\n",
       "base64enc, mime & NA & shiny (>= 1.6.0), rmarkdown (>= 2.7), thematic, knitr,\n",
       "testthat, withr, rappdirs, curl, magrittr, fontawesome, bsicons                                                                                                                                                                                                                                                                                                                                                                                                                                                                                                                                                                                                                                                               & NA  & MIT + file LICENSE          & NA & NA & NA & NA & no  & 4.1.3\\\\\n",
       "\tcachem & cachem      & C:/Deepankar/INSTALLS/R-4.1.3/library & 1.0.6  & NA          & NA                                                  & rlang, fastmap                                                                                                                         & NA & testthat                                                                                                                                                                                                                                                                                                                                                                                                                                                                                                                                                                                                                                                                                                                                                                              & NA  & MIT + file LICENSE          & NA & NA & NA & NA & yes & 4.1.3\\\\\n",
       "\tcallr & callr       & C:/Deepankar/INSTALLS/R-4.1.3/library & 3.7.3  & NA          & R (>= 3.4)                                          & processx (>= 3.6.1), R6, utils                                                                                                         & NA & asciicast, cli (>= 1.1.0), covr, mockery, ps, rprojroot,\n",
       "spelling, testthat (>= 3.0.0), withr (>= 2.3.0)                                                                                                                                                                                                                                                                                                                                                                                                                                                                                                                                                                                                                                                                             & NA  & MIT + file LICENSE          & NA & NA & NA & NA & no  & 4.1.3\\\\\n",
       "\tcellranger & cellranger  & C:/Deepankar/INSTALLS/R-4.1.3/library & 1.1.0  & NA          & R (>= 3.0.0)                                        & rematch, tibble                                                                                                                        & NA & covr, testthat (>= 1.0.0), knitr, rmarkdown                                                                                                                                                                                                                                                                                                                                                                                                                                                                                                                                                                                                                                                                                                                                           & NA  & MIT + file LICENSE          & NA & NA & NA & NA & no  & 4.1.3\\\\\n",
       "\tclass & class       & C:/Deepankar/INSTALLS/R-4.1.3/library & 7.3-20 & recommended & R (>= 3.0.0), stats, utils                          & MASS                                                                                                                                   & NA & NA                                                                                                                                                                                                                                                                                                                                                                                                                                                                                                                                                                                                                                                                                                                                                                                    & NA  & GPL-2 \\textbar{} GPL-3               & NA & NA & NA & NA & yes & 4.1.3\\\\\n",
       "\tcli & cli         & C:/Deepankar/INSTALLS/R-4.1.3/library & 3.6.0  & NA          & R (>= 3.4)                                          & utils                                                                                                                                  & NA & callr, covr, crayon, digest, glue (>= 1.6.0), grDevices,\n",
       "htmltools, htmlwidgets, knitr, methods, mockery, processx, ps\n",
       "(>= 1.3.4.9000), rlang (>= 1.0.2.9003), rmarkdown, rprojroot,\n",
       "rstudioapi, testthat, tibble, whoami, withr                                                                                                                                                                                                                                                                                                                                                                                                                                                                                                                                                   & NA  & MIT + file LICENSE          & NA & NA & NA & NA & yes & 4.1.3\\\\\n",
       "\tclipr & clipr       & C:/Deepankar/INSTALLS/R-4.1.3/library & 0.8.0  & NA          & NA                                                  & utils                                                                                                                                  & NA & covr, knitr, rmarkdown, rstudioapi (>= 0.5), testthat (>=\n",
       "2.0.0)                                                                                                                                                                                                                                                                                                                                                                                                                                                                                                                                                                                                                                                                                                                     & NA  & GPL-3                       & NA & NA & NA & NA & no  & 4.1.3\\\\\n",
       "\tcluster & cluster     & C:/Deepankar/INSTALLS/R-4.1.3/library & 2.1.2  & recommended & R (>= 3.4.0)                                        & graphics, grDevices, stats, utils                                                                                                      & NA & MASS, Matrix                                                                                                                                                                                                                                                                                                                                                                                                                                                                                                                                                                                                                                                                                                                                                                          & NA  & GPL (>= 2)                  & NA & NA & NA & NA & yes & 4.1.3\\\\\n",
       "\tcodetools & codetools   & C:/Deepankar/INSTALLS/R-4.1.3/library & 0.2-18 & recommended & R (>= 2.1)                                          & NA                                                                                                                                     & NA & NA                                                                                                                                                                                                                                                                                                                                                                                                                                                                                                                                                                                                                                                                                                                                                                                    & NA  & GPL                         & NA & NA & NA & NA & no  & 4.1.3\\\\\n",
       "\tcollections & collections & C:/Deepankar/INSTALLS/R-4.1.3/library & 0.3.7  & NA          & NA                                                  & NA                                                                                                                                     & NA & testthat (>= 2.3.1)                                                                                                                                                                                                                                                                                                                                                                                                                                                                                                                                                                                                                                                                                                                                                                   & NA  & MIT + file LICENSE          & NA & NA & NA & NA & yes & 4.1.3\\\\\n",
       "\tcolorspace & colorspace  & C:/Deepankar/INSTALLS/R-4.1.3/library & 2.1-0  & NA          & R (>= 3.0.0), methods                               & graphics, grDevices, stats                                                                                                             & NA & datasets, utils, KernSmooth, MASS, kernlab, mvtnorm, vcd,\n",
       "tcltk, shiny, shinyjs, ggplot2, dplyr, scales, grid, png, jpeg,\n",
       "knitr, rmarkdown, RColorBrewer, rcartocolor, scico, viridis,\n",
       "wesanderson                                                                                                                                                                                                                                                                                                                                                                                                                                                                                                                                                                                 & NA  & BSD\\_3\\_clause + file LICENSE & NA & NA & NA & NA & yes & 4.1.3\\\\\n",
       "\tcommonmark & commonmark  & C:/Deepankar/INSTALLS/R-4.1.3/library & 1.8.1  & NA          & NA                                                  & NA                                                                                                                                     & NA & curl, testthat, xml2                                                                                                                                                                                                                                                                                                                                                                                                                                                                                                                                                                                                                                                                                                                                                                  & NA  & BSD\\_2\\_clause + file LICENSE & NA & NA & NA & NA & yes & 4.1.3\\\\\n",
       "\tcompiler & compiler    & C:/Deepankar/INSTALLS/R-4.1.3/library & 4.1.3  & base        & NA                                                  & NA                                                                                                                                     & NA & NA                                                                                                                                                                                                                                                                                                                                                                                                                                                                                                                                                                                                                                                                                                                                                                                    & NA  & Part of R 4.1.3             & NA & NA & NA & NA & NA  & 4.1.3\\\\\n",
       "\tcpp11 & cpp11       & C:/Deepankar/INSTALLS/R-4.1.3/library & 0.4.3  & NA          & NA                                                  & NA                                                                                                                                     & NA & bench, brio, callr, cli, covr, decor, desc, ggplot2, glue,\n",
       "knitr, lobstr, mockery, progress, rmarkdown, scales, Rcpp,\n",
       "testthat, tibble, utils, vctrs, withr                                                                                                                                                                                                                                                                                                                                                                                                                                                                                                                                                                                                                         & NA  & MIT + file LICENSE          & NA & NA & NA & NA & no  & 4.1.3\\\\\n",
       "\tcrayon & crayon      & C:/Deepankar/INSTALLS/R-4.1.3/library & 1.5.2  & NA          & NA                                                  & grDevices, methods, utils                                                                                                              & NA & mockery, rstudioapi, testthat, withr                                                                                                                                                                                                                                                                                                                                                                                                                                                                                                                                                                                                                                                                                                                                                  & NA  & MIT + file LICENSE          & NA & NA & NA & NA & no  & 4.1.3\\\\\n",
       "\tcurl & curl        & C:/Deepankar/INSTALLS/R-4.1.3/library & 5.0.0  & NA          & R (>= 3.0.0)                                        & NA                                                                                                                                     & NA & spelling, testthat (>= 1.0.0), knitr, jsonlite, rmarkdown,\n",
       "magrittr, httpuv (>= 1.4.4), webutils                                                                                                                                                                                                                                                                                                                                                                                                                                                                                                                                                                                                                                                                                     & NA  & MIT + file LICENSE          & NA & NA & NA & NA & yes & 4.1.3\\\\\n",
       "\tcyclocomp & cyclocomp   & C:/Deepankar/INSTALLS/R-4.1.3/library & 1.1.0  & NA          & NA                                                  & callr, crayon, desc, remotes, withr                                                                                                    & NA & testthat                                                                                                                                                                                                                                                                                                                                                                                                                                                                                                                                                                                                                                                                                                                                                                              & NA  & MIT + file LICENSE          & NA & NA & NA & NA & no  & 4.1.3\\\\\n",
       "\tdata.table & data.table  & C:/Deepankar/INSTALLS/R-4.1.3/library & 1.14.8 & NA          & R (>= 3.1.0)                                        & methods                                                                                                                                & NA & bit64 (>= 4.0.0), bit (>= 4.0.4), curl, R.utils, xts,\n",
       "nanotime, zoo (>= 1.8-1), yaml, knitr, rmarkdown                                                                                                                                                                                                                                                                                                                                                                                                                                                                                                                                                                                                                                                                               & NA  & MPL-2.0 \\textbar{} file LICENSE      & NA & NA & NA & NA & yes & 4.1.3\\\\\n",
       "\tdatasets & datasets    & C:/Deepankar/INSTALLS/R-4.1.3/library & 4.1.3  & base        & NA                                                  & NA                                                                                                                                     & NA & NA                                                                                                                                                                                                                                                                                                                                                                                                                                                                                                                                                                                                                                                                                                                                                                                    & NA  & Part of R 4.1.3             & NA & NA & NA & NA & NA  & 4.1.3\\\\\n",
       "\t... & ... & ... & ... & ... & ... & ... & ... & ... & ... & ... & ... & ... & ... & ... & ... & ...\\\\\n",
       "\tspatial & spatial      & C:/Deepankar/INSTALLS/R-4.1.3/library & 7.3-15 & recommended & R (>= 3.0.0), graphics, stats, utils & NA                                                                                                                                                                                                                                                                                                                                                                                                                                                                                                                                                                                      & NA                                                     & MASS                                                                                                                                                                                                                                                         & NA & GPL-2 \\textbar{} GPL-3                          & NA  & NA & NA & NA & yes & 4.1.3\\\\\n",
       "\tsplines & splines      & C:/Deepankar/INSTALLS/R-4.1.3/library & 4.1.3  & base        & NA                                   & graphics, stats                                                                                                                                                                                                                                                                                                                                                                                                                                                                                                                                                                         & NA                                                     & Matrix, methods                                                                                                                                                                                                                                              & NA & Part of R 4.1.3                        & NA  & NA & NA & NA & yes & 4.1.3\\\\\n",
       "\tstats & stats        & C:/Deepankar/INSTALLS/R-4.1.3/library & 4.1.3  & base        & NA                                   & utils, grDevices, graphics                                                                                                                                                                                                                                                                                                                                                                                                                                                                                                                                                              & NA                                                     & MASS, Matrix, SuppDists, methods, stats4                                                                                                                                                                                                                     & NA & Part of R 4.1.3                        & NA  & NA & NA & NA & yes & 4.1.3\\\\\n",
       "\tstats4 & stats4       & C:/Deepankar/INSTALLS/R-4.1.3/library & 4.1.3  & base        & NA                                   & graphics, methods, stats                                                                                                                                                                                                                                                                                                                                                                                                                                                                                                                                                                & NA                                                     & NA                                                                                                                                                                                                                                                           & NA & Part of R 4.1.3                        & NA  & NA & NA & NA & NA  & 4.1.3\\\\\n",
       "\tstringi & stringi      & C:/Deepankar/INSTALLS/R-4.1.3/library & 1.7.12 & NA          & R (>= 3.1)                           & tools, utils, stats                                                                                                                                                                                                                                                                                                                                                                                                                                                                                                                                                                     & NA                                                     & NA                                                                                                                                                                                                                                                           & NA & file LICENSE                           & yes & NA & NA & NA & yes & 4.1.3\\\\\n",
       "\tstringr & stringr      & C:/Deepankar/INSTALLS/R-4.1.3/library & 1.5.0  & NA          & R (>= 3.3)                           & cli, glue (>= 1.6.1), lifecycle (>= 1.0.3), magrittr, rlang\n",
       "(>= 1.0.0), stringi (>= 1.5.3), vctrs                                                                                                                                                                                                                                                                                                                                                                                                                                                                                      & NA                                                     & covr, htmltools, htmlwidgets, knitr, rmarkdown, testthat (>=\n",
       "3.0.0)                                                                                                                                                                                         & NA & MIT + file LICENSE                     & NA  & NA & NA & NA & no  & 4.1.3\\\\\n",
       "\tstyler & styler       & C:/Deepankar/INSTALLS/R-4.1.3/library & 1.9.0  & NA          & R (>= 3.5.0)                         & cli (>= 3.1.1), magrittr (>= 2.0.0), purrr (>= 0.2.3), R.cache\n",
       "(>= 0.15.0), rlang (>= 0.1.1), rprojroot (>= 1.1), tools, vctrs\n",
       "(>= 0.4.1), withr (>= 2.3.0),                                                                                                                                                                                                                                                                                                                                                                                                                          & NA                                                     & data.tree (>= 0.1.6), digest, dplyr, here, knitr, prettycode,\n",
       "rmarkdown, roxygen2, rstudioapi (>= 0.7), tibble (>= 1.4.2),\n",
       "testthat (>= 3.0.0)                                                                                                             & NA & MIT + file LICENSE                     & NA  & NA & NA & NA & no  & 4.1.3\\\\\n",
       "\tsurvival & survival     & C:/Deepankar/INSTALLS/R-4.1.3/library & 3.2-13 & recommended & R (>= 3.5.0)                         & graphics, Matrix, methods, splines, stats, utils                                                                                                                                                                                                                                                                                                                                                                                                                                                                                                                                        & NA                                                     & NA                                                                                                                                                                                                                                                           & NA & LGPL (>= 2)                            & NA  & NA & NA & NA & yes & 4.1.3\\\\\n",
       "\tsys & sys          & C:/Deepankar/INSTALLS/R-4.1.3/library & 3.4.1  & NA          & NA                                   & NA                                                                                                                                                                                                                                                                                                                                                                                                                                                                                                                                                                                      & NA                                                     & unix (>= 1.4), spelling, testthat                                                                                                                                                                                                                            & NA & MIT + file LICENSE                     & NA  & NA & NA & NA & yes & 4.1.3\\\\\n",
       "\ttcltk & tcltk        & C:/Deepankar/INSTALLS/R-4.1.3/library & 4.1.3  & base        & NA                                   & utils                                                                                                                                                                                                                                                                                                                                                                                                                                                                                                                                                                                   & NA                                                     & NA                                                                                                                                                                                                                                                           & NA & Part of R 4.1.3                        & NA  & NA & NA & NA & yes & 4.1.3\\\\\n",
       "\ttibble & tibble       & C:/Deepankar/INSTALLS/R-4.1.3/library & 3.1.8  & NA          & R (>= 3.1.0)                         & fansi (>= 0.4.0), lifecycle (>= 1.0.0), magrittr, methods,\n",
       "pillar (>= 1.7.0), pkgconfig, rlang (>= 1.0.2), utils, vctrs\n",
       "(>= 0.3.8)                                                                                                                                                                                                                                                                                                                                                                                                                                                    & NA                                                     & bench, bit64, blob, brio, callr, cli, covr, crayon (>=\n",
       "1.3.4), DiagrammeR, dplyr, evaluate, formattable, ggplot2, hms,\n",
       "htmltools, knitr, lubridate, mockr, nycflights13, pkgbuild,\n",
       "pkgload, purrr, rmarkdown, stringi, testthat (>= 3.0.2), tidyr,\n",
       "withr & NA & MIT + file LICENSE                     & NA  & NA & NA & NA & yes & 4.1.3\\\\\n",
       "\ttidyr & tidyr        & C:/Deepankar/INSTALLS/R-4.1.3/library & 1.3.0  & NA          & R (>= 3.4.0)                         & cli (>= 3.4.1), dplyr (>= 1.0.10), glue, lifecycle (>= 1.0.3),\n",
       "magrittr, purrr (>= 1.0.1), rlang (>= 1.0.4), stringr (>=\n",
       "1.5.0), tibble (>= 2.1.1), tidyselect (>= 1.2.0), utils, vctrs\n",
       "(>= 0.5.2)                                                                                                                                                                                                                                                                                                                                                                                   & cpp11 (>= 0.4.0)                                       & covr, data.table, knitr, readr, repurrrsive (>= 1.1.0),\n",
       "rmarkdown, testthat (>= 3.0.0)                                                                                                                                                                      & NA & MIT + file LICENSE                     & NA  & NA & NA & NA & yes & 4.1.3\\\\\n",
       "\ttidyselect & tidyselect   & C:/Deepankar/INSTALLS/R-4.1.3/library & 1.2.0  & NA          & R (>= 3.4)                           & cli (>= 3.3.0), glue (>= 1.3.0), lifecycle (>= 1.0.3), rlang\n",
       "(>= 1.0.4), vctrs (>= 0.4.1), withr                                                                                                                                                                                                                                                                                                                                                                                                                                                                                       & NA                                                     & covr, crayon, dplyr, knitr, magrittr, rmarkdown, stringr,\n",
       "testthat (>= 3.1.1), tibble (>= 2.1.3)                                                                                                                                                            & NA & MIT + file LICENSE                     & NA  & NA & NA & NA & no  & 4.1.3\\\\\n",
       "\ttidyverse & tidyverse    & C:/Deepankar/INSTALLS/R-4.1.3/library & 1.3.2  & NA          & R (>= 3.3)                           & broom (>= 0.7.10), cli (>= 3.1.0), crayon (>= 1.4.2), dbplyr\n",
       "(>= 2.1.1), dplyr (>= 1.0.7), dtplyr (>= 1.2.0), forcats (>=\n",
       "0.5.1), ggplot2 (>= 3.3.5), googledrive (>= 2.0.0),\n",
       "googlesheets4 (>= 1.0.0), haven (>= 2.4.3), hms (>= 1.1.1),\n",
       "httr (>= 1.4.2), jsonlite (>= 1.7.2), lubridate (>= 1.8.0),\n",
       "magrittr (>= 2.0.1), modelr (>= 0.1.8), pillar (>= 1.6.4),\n",
       "purrr (>= 0.3.4), readr (>= 2.1.1), readxl (>= 1.3.1), reprex\n",
       "(>= 2.0.1), rlang (>= 0.4.12), rstudioapi (>= 0.13), rvest (>=\n",
       "1.0.2), stringr (>= 1.4.0), tibble (>= 3.1.6), tidyr (>=\n",
       "1.1.4), xml2 (>= 1.3.3) & NA                                                     & covr, feather, glue, knitr, rmarkdown, testthat                                                                                                                                                                                                              & NA & MIT + file LICENSE                     & NA  & NA & NA & NA & no  & 4.1.3\\\\\n",
       "\ttimechange & timechange   & C:/Deepankar/INSTALLS/R-4.1.3/library & 0.2.0  & NA          & R (>= 3.3)                           & NA                                                                                                                                                                                                                                                                                                                                                                                                                                                                                                                                                                                      & cpp11 (>= 0.2.7)                                       & testthat (>= 0.7.1.99), knitr                                                                                                                                                                                                                                & NA & GPL-3                                  & NA  & NA & NA & NA & yes & 4.1.3\\\\\n",
       "\ttinytex & tinytex      & C:/Deepankar/INSTALLS/R-4.1.3/library & 0.44   & NA          & NA                                   & xfun (>= 0.29)                                                                                                                                                                                                                                                                                                                                                                                                                                                                                                                                                                          & NA                                                     & testit, rstudioapi                                                                                                                                                                                                                                           & NA & MIT + file LICENSE                     & NA  & NA & NA & NA & no  & 4.1.3\\\\\n",
       "\ttools & tools        & C:/Deepankar/INSTALLS/R-4.1.3/library & 4.1.3  & base        & NA                                   & NA                                                                                                                                                                                                                                                                                                                                                                                                                                                                                                                                                                                      & NA                                                     & codetools, methods, xml2, curl, commonmark                                                                                                                                                                                                                   & NA & Part of R 4.1.3                        & NA  & NA & NA & NA & yes & 4.1.3\\\\\n",
       "\ttranslations & translations & C:/Deepankar/INSTALLS/R-4.1.3/library & 4.1.3  & NA          & NA                                   & NA                                                                                                                                                                                                                                                                                                                                                                                                                                                                                                                                                                                      & NA                                                     & NA                                                                                                                                                                                                                                                           & NA & Part of R 4.1.3                        & NA  & NA & NA & NA & NA  & 4.1.3\\\\\n",
       "\ttzdb & tzdb         & C:/Deepankar/INSTALLS/R-4.1.3/library & 0.3.0  & NA          & R (>= 3.4.0)                         & NA                                                                                                                                                                                                                                                                                                                                                                                                                                                                                                                                                                                      & cpp11 (>= 0.4.2)                                       & covr, testthat (>= 3.0.0)                                                                                                                                                                                                                                    & NA & MIT + file LICENSE                     & NA  & NA & NA & NA & yes & 4.1.3\\\\\n",
       "\tutf8 & utf8         & C:/Deepankar/INSTALLS/R-4.1.3/library & 1.2.3  & NA          & R (>= 2.10)                          & NA                                                                                                                                                                                                                                                                                                                                                                                                                                                                                                                                                                                      & NA                                                     & cli, covr, knitr, rlang, rmarkdown, testthat (>= 3.0.0),\n",
       "withr                                                                                                                                                                                              & NA & Apache License (== 2.0) \\textbar{} file LICENSE & NA  & NA & NA & NA & yes & 4.1.3\\\\\n",
       "\tutils & utils        & C:/Deepankar/INSTALLS/R-4.1.3/library & 4.1.3  & base        & NA                                   & NA                                                                                                                                                                                                                                                                                                                                                                                                                                                                                                                                                                                      & NA                                                     & methods, xml2, commonmark                                                                                                                                                                                                                                    & NA & Part of R 4.1.3                        & NA  & NA & NA & NA & yes & 4.1.3\\\\\n",
       "\tuuid & uuid         & C:/Deepankar/INSTALLS/R-4.1.3/library & 1.1-0  & NA          & R (>= 2.9.0)                         & NA                                                                                                                                                                                                                                                                                                                                                                                                                                                                                                                                                                                      & NA                                                     & NA                                                                                                                                                                                                                                                           & NA & MIT + file LICENSE                     & NA  & NA & NA & NA & yes & 4.1.3\\\\\n",
       "\tvctrs & vctrs        & C:/Deepankar/INSTALLS/R-4.1.3/library & 0.5.2  & NA          & R (>= 3.3)                           & cli (>= 3.4.0), glue, lifecycle (>= 1.0.3), rlang (>= 1.0.6)                                                                                                                                                                                                                                                                                                                                                                                                                                                                                                                            & NA                                                     & bit64, covr, crayon, dplyr (>= 0.8.5), generics, knitr,\n",
       "pillar (>= 1.4.4), pkgdown (>= 2.0.1), rmarkdown, testthat (>=\n",
       "3.0.0), tibble (>= 3.1.3), withr, xml2, waldo (>= 0.2.0),\n",
       "zeallot                                                                  & NA & MIT + file LICENSE                     & NA  & NA & NA & NA & yes & 4.1.3\\\\\n",
       "\tviridisLite & viridisLite  & C:/Deepankar/INSTALLS/R-4.1.3/library & 0.4.1  & NA          & R (>= 2.10)                          & NA                                                                                                                                                                                                                                                                                                                                                                                                                                                                                                                                                                                      & NA                                                     & hexbin (>= 1.27.0), ggplot2 (>= 1.0.1), testthat, covr                                                                                                                                                                                                       & NA & MIT + file LICENSE                     & NA  & NA & NA & NA & no  & 4.1.3\\\\\n",
       "\tvroom & vroom        & C:/Deepankar/INSTALLS/R-4.1.3/library & 1.6.1  & NA          & R (>= 3.4)                           & bit64, cli (>= 3.2.0), crayon, glue, hms, lifecycle (>=\n",
       "1.0.3), methods, rlang (>= 0.4.2), stats, tibble (>= 2.0.0),\n",
       "tidyselect, tzdb (>= 0.1.1), vctrs (>= 0.2.0), withr                                                                                                                                                                                                                                                                                                                                                                                                             & cpp11 (>= 0.2.0), progress (>= 1.2.1), tzdb (>= 0.1.1) & archive, bench (>= 1.1.0), covr, curl, dplyr, forcats, fs,\n",
       "ggplot2, knitr, patchwork, prettyunits, purrr, rmarkdown,\n",
       "rstudioapi, scales, spelling, testthat (>= 2.1.0), tidyr,\n",
       "utils, waldo, xml2                                                         & NA & MIT + file LICENSE                     & NA  & NA & NA & NA & yes & 4.1.3\\\\\n",
       "\twithr & withr        & C:/Deepankar/INSTALLS/R-4.1.3/library & 2.5.0  & NA          & R (>= 3.2.0)                         & graphics, grDevices, stats                                                                                                                                                                                                                                                                                                                                                                                                                                                                                                                                                              & NA                                                     & callr, covr, DBI, knitr, lattice, methods, rlang, rmarkdown\n",
       "(>= 2.12), RSQLite, testthat (>= 3.0.0)                                                                                                                                                         & NA & MIT + file LICENSE                     & NA  & NA & NA & NA & no  & 4.1.3\\\\\n",
       "\txfun & xfun         & C:/Deepankar/INSTALLS/R-4.1.3/library & 0.37   & NA          & NA                                   & stats, tools                                                                                                                                                                                                                                                                                                                                                                                                                                                                                                                                                                            & NA                                                     & testit, parallel, codetools, rstudioapi, tinytex (>= 0.30),\n",
       "mime, markdown (>= 1.5), knitr (>= 1.42), htmltools, remotes,\n",
       "pak, rhub, renv, curl, jsonlite, magick, rmarkdown                                                                               & NA & MIT + file LICENSE                     & NA  & NA & NA & NA & yes & 4.1.3\\\\\n",
       "\txml2 & xml2         & C:/Deepankar/INSTALLS/R-4.1.3/library & 1.3.3  & NA          & R (>= 3.1.0)                         & methods                                                                                                                                                                                                                                                                                                                                                                                                                                                                                                                                                                                 & NA                                                     & covr, curl, httr, knitr, magrittr, mockery, rmarkdown,\n",
       "testthat (>= 2.1.0)                                                                                                                                                                                  & NA & MIT + file LICENSE                     & NA  & NA & NA & NA & yes & 4.1.3\\\\\n",
       "\txmlparsedata & xmlparsedata & C:/Deepankar/INSTALLS/R-4.1.3/library & 1.0.5  & NA          & R (>= 3.0.0)                         & NA                                                                                                                                                                                                                                                                                                                                                                                                                                                                                                                                                                                      & NA                                                     & covr, testthat, xml2                                                                                                                                                                                                                                         & NA & MIT + file LICENSE                     & NA  & NA & NA & NA & no  & 4.1.3\\\\\n",
       "\tyaml & yaml         & C:/Deepankar/INSTALLS/R-4.1.3/library & 2.3.7  & NA          & NA                                   & NA                                                                                                                                                                                                                                                                                                                                                                                                                                                                                                                                                                                      & NA                                                     & RUnit                                                                                                                                                                                                                                                        & NA & BSD\\_3\\_clause + file LICENSE            & NA  & NA & NA & NA & yes & 4.1.3\\\\\n",
       "\\end{tabular}\n"
      ],
      "text/markdown": [
       "\n",
       "A matrix: 152 × 16 of type chr\n",
       "\n",
       "| <!--/--> | Package | LibPath | Version | Priority | Depends | Imports | LinkingTo | Suggests | Enhances | License | License_is_FOSS | License_restricts_use | OS_type | MD5sum | NeedsCompilation | Built |\n",
       "|---|---|---|---|---|---|---|---|---|---|---|---|---|---|---|---|---|\n",
       "| askpass | askpass     | C:/Deepankar/INSTALLS/R-4.1.3/library | 1.1    | NA          | NA                                                  | sys (&gt;= 2.1)                                                                                                                           | NA | testthat                                                                                                                                                                                                                                                                                                                                                                                                                                                                                                                                                                                                                                                                                                                                                                              | NA  | MIT + file LICENSE          | NA | NA | NA | NA | yes | 4.1.3 |\n",
       "| assertthat | assertthat  | C:/Deepankar/INSTALLS/R-4.1.3/library | 0.2.1  | NA          | NA                                                  | tools                                                                                                                                  | NA | testthat, covr                                                                                                                                                                                                                                                                                                                                                                                                                                                                                                                                                                                                                                                                                                                                                                        | NA  | GPL-3                       | NA | NA | NA | NA | no  | 4.1.3 |\n",
       "| backports | backports   | C:/Deepankar/INSTALLS/R-4.1.3/library | 1.4.1  | NA          | R (&gt;= 3.0.0)                                        | NA                                                                                                                                     | NA | NA                                                                                                                                                                                                                                                                                                                                                                                                                                                                                                                                                                                                                                                                                                                                                                                    | NA  | GPL-2 | GPL-3               | NA | NA | NA | NA | yes | 4.1.2 |\n",
       "| base | base        | C:/Deepankar/INSTALLS/R-4.1.3/library | 4.1.3  | base        | NA                                                  | NA                                                                                                                                     | NA | methods                                                                                                                                                                                                                                                                                                                                                                                                                                                                                                                                                                                                                                                                                                                                                                               | NA  | Part of R 4.1.3             | NA | NA | NA | NA | NA  | 4.1.3 |\n",
       "| base64enc | base64enc   | C:/Deepankar/INSTALLS/R-4.1.3/library | 0.1-3  | NA          | R (&gt;= 2.9.0)                                        | NA                                                                                                                                     | NA | NA                                                                                                                                                                                                                                                                                                                                                                                                                                                                                                                                                                                                                                                                                                                                                                                    | png | GPL-2 | GPL-3               | NA | NA | NA | NA | yes | 4.1.1 |\n",
       "| bit | bit         | C:/Deepankar/INSTALLS/R-4.1.3/library | 4.0.5  | NA          | R (&gt;= 2.9.2)                                        | NA                                                                                                                                     | NA | testthat (&gt;= 0.11.0), roxygen2, knitr, rmarkdown,\n",
       "microbenchmark, bit64 (&gt;= 4.0.0), ff (&gt;= 4.0.0)                                                                                                                                                                                                                                                                                                                                                                                                                                                                                                                                                                                                                                                                                    | NA  | GPL-2 | GPL-3               | NA | NA | NA | NA | yes | 4.1.3 |\n",
       "| bit64 | bit64       | C:/Deepankar/INSTALLS/R-4.1.3/library | 4.0.5  | NA          | R (&gt;= 3.0.1), bit (&gt;= 4.0.0), utils, methods, stats | NA                                                                                                                                     | NA | NA                                                                                                                                                                                                                                                                                                                                                                                                                                                                                                                                                                                                                                                                                                                                                                                    | NA  | GPL-2 | GPL-3               | NA | NA | NA | NA | yes | 4.1.3 |\n",
       "| blob | blob        | C:/Deepankar/INSTALLS/R-4.1.3/library | 1.2.3  | NA          | NA                                                  | methods, rlang, vctrs (&gt;= 0.2.1)                                                                                                       | NA | covr, crayon, pillar (&gt;= 1.2.1), testthat                                                                                                                                                                                                                                                                                                                                                                                                                                                                                                                                                                                                                                                                                                                                             | NA  | MIT + file LICENSE          | NA | NA | NA | NA | no  | 4.1.3 |\n",
       "| boot | boot        | C:/Deepankar/INSTALLS/R-4.1.3/library | 1.3-28 | recommended | R (&gt;= 3.0.0), graphics, stats                       | NA                                                                                                                                     | NA | MASS, survival                                                                                                                                                                                                                                                                                                                                                                                                                                                                                                                                                                                                                                                                                                                                                                        | NA  | Unlimited                   | NA | NA | NA | NA | no  | 4.1.3 |\n",
       "| brew | brew        | C:/Deepankar/INSTALLS/R-4.1.3/library | 1.0-8  | NA          | NA                                                  | NA                                                                                                                                     | NA | testthat (&gt;= 3.0.0)                                                                                                                                                                                                                                                                                                                                                                                                                                                                                                                                                                                                                                                                                                                                                                   | NA  | GPL-2                       | NA | NA | NA | NA | no  | 4.1.3 |\n",
       "| broom | broom       | C:/Deepankar/INSTALLS/R-4.1.3/library | 1.0.3  | NA          | R (&gt;= 3.1)                                          | backports, dplyr (&gt;= 1.0.0), ellipsis, generics (&gt;= 0.0.2),\n",
       "glue, purrr, rlang, stringr, tibble (&gt;= 3.0.0), tidyr (&gt;=\n",
       "1.0.0)         | NA | AER, AUC, bbmle, betareg, biglm, binGroup, boot, btergm (&gt;=\n",
       "1.10.6), car, carData, caret, cluster, cmprsk, coda, covr, drc,\n",
       "e1071, emmeans, epiR, ergm (&gt;= 3.10.4), fixest (&gt;= 0.9.0), gam\n",
       "(&gt;= 1.15), gee, geepack, ggplot2, glmnet, glmnetUtils, gmm,\n",
       "Hmisc, irlba, interp, joineRML, Kendall, knitr, ks, Lahman,\n",
       "lavaan, leaps, lfe, lm.beta, lme4, lmodel2, lmtest (&gt;= 0.9.38),\n",
       "lsmeans, maps, maptools, margins, MASS, mclust, mediation,\n",
       "metafor, mfx, mgcv, mlogit, modeldata, modeltests, muhaz,\n",
       "multcomp, network, nnet, orcutt (&gt;= 2.2), ordinal, plm, poLCA,\n",
       "psych, quantreg, rgeos, rmarkdown, robust, robustbase, rsample,\n",
       "sandwich, sp, spdep (&gt;= 1.1), spatialreg, speedglm, spelling,\n",
       "survey, survival, systemfit, testthat (&gt;= 2.1.0), tseries,\n",
       "vars, zoo | NA  | MIT + file LICENSE          | NA | NA | NA | NA | no  | 4.1.3 |\n",
       "| bslib | bslib       | C:/Deepankar/INSTALLS/R-4.1.3/library | 0.4.2  | NA          | R (&gt;= 2.10)                                         | grDevices, htmltools (&gt;= 0.5.4), jsonlite, sass (&gt;= 0.4.0),\n",
       "jquerylib (&gt;= 0.1.3), rlang, cachem, memoise (&gt;= 2.0.1),\n",
       "base64enc, mime | NA | shiny (&gt;= 1.6.0), rmarkdown (&gt;= 2.7), thematic, knitr,\n",
       "testthat, withr, rappdirs, curl, magrittr, fontawesome, bsicons                                                                                                                                                                                                                                                                                                                                                                                                                                                                                                                                                                                                                                                               | NA  | MIT + file LICENSE          | NA | NA | NA | NA | no  | 4.1.3 |\n",
       "| cachem | cachem      | C:/Deepankar/INSTALLS/R-4.1.3/library | 1.0.6  | NA          | NA                                                  | rlang, fastmap                                                                                                                         | NA | testthat                                                                                                                                                                                                                                                                                                                                                                                                                                                                                                                                                                                                                                                                                                                                                                              | NA  | MIT + file LICENSE          | NA | NA | NA | NA | yes | 4.1.3 |\n",
       "| callr | callr       | C:/Deepankar/INSTALLS/R-4.1.3/library | 3.7.3  | NA          | R (&gt;= 3.4)                                          | processx (&gt;= 3.6.1), R6, utils                                                                                                         | NA | asciicast, cli (&gt;= 1.1.0), covr, mockery, ps, rprojroot,\n",
       "spelling, testthat (&gt;= 3.0.0), withr (&gt;= 2.3.0)                                                                                                                                                                                                                                                                                                                                                                                                                                                                                                                                                                                                                                                                             | NA  | MIT + file LICENSE          | NA | NA | NA | NA | no  | 4.1.3 |\n",
       "| cellranger | cellranger  | C:/Deepankar/INSTALLS/R-4.1.3/library | 1.1.0  | NA          | R (&gt;= 3.0.0)                                        | rematch, tibble                                                                                                                        | NA | covr, testthat (&gt;= 1.0.0), knitr, rmarkdown                                                                                                                                                                                                                                                                                                                                                                                                                                                                                                                                                                                                                                                                                                                                           | NA  | MIT + file LICENSE          | NA | NA | NA | NA | no  | 4.1.3 |\n",
       "| class | class       | C:/Deepankar/INSTALLS/R-4.1.3/library | 7.3-20 | recommended | R (&gt;= 3.0.0), stats, utils                          | MASS                                                                                                                                   | NA | NA                                                                                                                                                                                                                                                                                                                                                                                                                                                                                                                                                                                                                                                                                                                                                                                    | NA  | GPL-2 | GPL-3               | NA | NA | NA | NA | yes | 4.1.3 |\n",
       "| cli | cli         | C:/Deepankar/INSTALLS/R-4.1.3/library | 3.6.0  | NA          | R (&gt;= 3.4)                                          | utils                                                                                                                                  | NA | callr, covr, crayon, digest, glue (&gt;= 1.6.0), grDevices,\n",
       "htmltools, htmlwidgets, knitr, methods, mockery, processx, ps\n",
       "(&gt;= 1.3.4.9000), rlang (&gt;= 1.0.2.9003), rmarkdown, rprojroot,\n",
       "rstudioapi, testthat, tibble, whoami, withr                                                                                                                                                                                                                                                                                                                                                                                                                                                                                                                                                   | NA  | MIT + file LICENSE          | NA | NA | NA | NA | yes | 4.1.3 |\n",
       "| clipr | clipr       | C:/Deepankar/INSTALLS/R-4.1.3/library | 0.8.0  | NA          | NA                                                  | utils                                                                                                                                  | NA | covr, knitr, rmarkdown, rstudioapi (&gt;= 0.5), testthat (&gt;=\n",
       "2.0.0)                                                                                                                                                                                                                                                                                                                                                                                                                                                                                                                                                                                                                                                                                                                     | NA  | GPL-3                       | NA | NA | NA | NA | no  | 4.1.3 |\n",
       "| cluster | cluster     | C:/Deepankar/INSTALLS/R-4.1.3/library | 2.1.2  | recommended | R (&gt;= 3.4.0)                                        | graphics, grDevices, stats, utils                                                                                                      | NA | MASS, Matrix                                                                                                                                                                                                                                                                                                                                                                                                                                                                                                                                                                                                                                                                                                                                                                          | NA  | GPL (&gt;= 2)                  | NA | NA | NA | NA | yes | 4.1.3 |\n",
       "| codetools | codetools   | C:/Deepankar/INSTALLS/R-4.1.3/library | 0.2-18 | recommended | R (&gt;= 2.1)                                          | NA                                                                                                                                     | NA | NA                                                                                                                                                                                                                                                                                                                                                                                                                                                                                                                                                                                                                                                                                                                                                                                    | NA  | GPL                         | NA | NA | NA | NA | no  | 4.1.3 |\n",
       "| collections | collections | C:/Deepankar/INSTALLS/R-4.1.3/library | 0.3.7  | NA          | NA                                                  | NA                                                                                                                                     | NA | testthat (&gt;= 2.3.1)                                                                                                                                                                                                                                                                                                                                                                                                                                                                                                                                                                                                                                                                                                                                                                   | NA  | MIT + file LICENSE          | NA | NA | NA | NA | yes | 4.1.3 |\n",
       "| colorspace | colorspace  | C:/Deepankar/INSTALLS/R-4.1.3/library | 2.1-0  | NA          | R (&gt;= 3.0.0), methods                               | graphics, grDevices, stats                                                                                                             | NA | datasets, utils, KernSmooth, MASS, kernlab, mvtnorm, vcd,\n",
       "tcltk, shiny, shinyjs, ggplot2, dplyr, scales, grid, png, jpeg,\n",
       "knitr, rmarkdown, RColorBrewer, rcartocolor, scico, viridis,\n",
       "wesanderson                                                                                                                                                                                                                                                                                                                                                                                                                                                                                                                                                                                 | NA  | BSD_3_clause + file LICENSE | NA | NA | NA | NA | yes | 4.1.3 |\n",
       "| commonmark | commonmark  | C:/Deepankar/INSTALLS/R-4.1.3/library | 1.8.1  | NA          | NA                                                  | NA                                                                                                                                     | NA | curl, testthat, xml2                                                                                                                                                                                                                                                                                                                                                                                                                                                                                                                                                                                                                                                                                                                                                                  | NA  | BSD_2_clause + file LICENSE | NA | NA | NA | NA | yes | 4.1.3 |\n",
       "| compiler | compiler    | C:/Deepankar/INSTALLS/R-4.1.3/library | 4.1.3  | base        | NA                                                  | NA                                                                                                                                     | NA | NA                                                                                                                                                                                                                                                                                                                                                                                                                                                                                                                                                                                                                                                                                                                                                                                    | NA  | Part of R 4.1.3             | NA | NA | NA | NA | NA  | 4.1.3 |\n",
       "| cpp11 | cpp11       | C:/Deepankar/INSTALLS/R-4.1.3/library | 0.4.3  | NA          | NA                                                  | NA                                                                                                                                     | NA | bench, brio, callr, cli, covr, decor, desc, ggplot2, glue,\n",
       "knitr, lobstr, mockery, progress, rmarkdown, scales, Rcpp,\n",
       "testthat, tibble, utils, vctrs, withr                                                                                                                                                                                                                                                                                                                                                                                                                                                                                                                                                                                                                         | NA  | MIT + file LICENSE          | NA | NA | NA | NA | no  | 4.1.3 |\n",
       "| crayon | crayon      | C:/Deepankar/INSTALLS/R-4.1.3/library | 1.5.2  | NA          | NA                                                  | grDevices, methods, utils                                                                                                              | NA | mockery, rstudioapi, testthat, withr                                                                                                                                                                                                                                                                                                                                                                                                                                                                                                                                                                                                                                                                                                                                                  | NA  | MIT + file LICENSE          | NA | NA | NA | NA | no  | 4.1.3 |\n",
       "| curl | curl        | C:/Deepankar/INSTALLS/R-4.1.3/library | 5.0.0  | NA          | R (&gt;= 3.0.0)                                        | NA                                                                                                                                     | NA | spelling, testthat (&gt;= 1.0.0), knitr, jsonlite, rmarkdown,\n",
       "magrittr, httpuv (&gt;= 1.4.4), webutils                                                                                                                                                                                                                                                                                                                                                                                                                                                                                                                                                                                                                                                                                     | NA  | MIT + file LICENSE          | NA | NA | NA | NA | yes | 4.1.3 |\n",
       "| cyclocomp | cyclocomp   | C:/Deepankar/INSTALLS/R-4.1.3/library | 1.1.0  | NA          | NA                                                  | callr, crayon, desc, remotes, withr                                                                                                    | NA | testthat                                                                                                                                                                                                                                                                                                                                                                                                                                                                                                                                                                                                                                                                                                                                                                              | NA  | MIT + file LICENSE          | NA | NA | NA | NA | no  | 4.1.3 |\n",
       "| data.table | data.table  | C:/Deepankar/INSTALLS/R-4.1.3/library | 1.14.8 | NA          | R (&gt;= 3.1.0)                                        | methods                                                                                                                                | NA | bit64 (&gt;= 4.0.0), bit (&gt;= 4.0.4), curl, R.utils, xts,\n",
       "nanotime, zoo (&gt;= 1.8-1), yaml, knitr, rmarkdown                                                                                                                                                                                                                                                                                                                                                                                                                                                                                                                                                                                                                                                                               | NA  | MPL-2.0 | file LICENSE      | NA | NA | NA | NA | yes | 4.1.3 |\n",
       "| datasets | datasets    | C:/Deepankar/INSTALLS/R-4.1.3/library | 4.1.3  | base        | NA                                                  | NA                                                                                                                                     | NA | NA                                                                                                                                                                                                                                                                                                                                                                                                                                                                                                                                                                                                                                                                                                                                                                                    | NA  | Part of R 4.1.3             | NA | NA | NA | NA | NA  | 4.1.3 |\n",
       "| ... | ... | ... | ... | ... | ... | ... | ... | ... | ... | ... | ... | ... | ... | ... | ... | ... |\n",
       "| spatial | spatial      | C:/Deepankar/INSTALLS/R-4.1.3/library | 7.3-15 | recommended | R (&gt;= 3.0.0), graphics, stats, utils | NA                                                                                                                                                                                                                                                                                                                                                                                                                                                                                                                                                                                      | NA                                                     | MASS                                                                                                                                                                                                                                                         | NA | GPL-2 | GPL-3                          | NA  | NA | NA | NA | yes | 4.1.3 |\n",
       "| splines | splines      | C:/Deepankar/INSTALLS/R-4.1.3/library | 4.1.3  | base        | NA                                   | graphics, stats                                                                                                                                                                                                                                                                                                                                                                                                                                                                                                                                                                         | NA                                                     | Matrix, methods                                                                                                                                                                                                                                              | NA | Part of R 4.1.3                        | NA  | NA | NA | NA | yes | 4.1.3 |\n",
       "| stats | stats        | C:/Deepankar/INSTALLS/R-4.1.3/library | 4.1.3  | base        | NA                                   | utils, grDevices, graphics                                                                                                                                                                                                                                                                                                                                                                                                                                                                                                                                                              | NA                                                     | MASS, Matrix, SuppDists, methods, stats4                                                                                                                                                                                                                     | NA | Part of R 4.1.3                        | NA  | NA | NA | NA | yes | 4.1.3 |\n",
       "| stats4 | stats4       | C:/Deepankar/INSTALLS/R-4.1.3/library | 4.1.3  | base        | NA                                   | graphics, methods, stats                                                                                                                                                                                                                                                                                                                                                                                                                                                                                                                                                                | NA                                                     | NA                                                                                                                                                                                                                                                           | NA | Part of R 4.1.3                        | NA  | NA | NA | NA | NA  | 4.1.3 |\n",
       "| stringi | stringi      | C:/Deepankar/INSTALLS/R-4.1.3/library | 1.7.12 | NA          | R (&gt;= 3.1)                           | tools, utils, stats                                                                                                                                                                                                                                                                                                                                                                                                                                                                                                                                                                     | NA                                                     | NA                                                                                                                                                                                                                                                           | NA | file LICENSE                           | yes | NA | NA | NA | yes | 4.1.3 |\n",
       "| stringr | stringr      | C:/Deepankar/INSTALLS/R-4.1.3/library | 1.5.0  | NA          | R (&gt;= 3.3)                           | cli, glue (&gt;= 1.6.1), lifecycle (&gt;= 1.0.3), magrittr, rlang\n",
       "(&gt;= 1.0.0), stringi (&gt;= 1.5.3), vctrs                                                                                                                                                                                                                                                                                                                                                                                                                                                                                      | NA                                                     | covr, htmltools, htmlwidgets, knitr, rmarkdown, testthat (&gt;=\n",
       "3.0.0)                                                                                                                                                                                         | NA | MIT + file LICENSE                     | NA  | NA | NA | NA | no  | 4.1.3 |\n",
       "| styler | styler       | C:/Deepankar/INSTALLS/R-4.1.3/library | 1.9.0  | NA          | R (&gt;= 3.5.0)                         | cli (&gt;= 3.1.1), magrittr (&gt;= 2.0.0), purrr (&gt;= 0.2.3), R.cache\n",
       "(&gt;= 0.15.0), rlang (&gt;= 0.1.1), rprojroot (&gt;= 1.1), tools, vctrs\n",
       "(&gt;= 0.4.1), withr (&gt;= 2.3.0),                                                                                                                                                                                                                                                                                                                                                                                                                          | NA                                                     | data.tree (&gt;= 0.1.6), digest, dplyr, here, knitr, prettycode,\n",
       "rmarkdown, roxygen2, rstudioapi (&gt;= 0.7), tibble (&gt;= 1.4.2),\n",
       "testthat (&gt;= 3.0.0)                                                                                                             | NA | MIT + file LICENSE                     | NA  | NA | NA | NA | no  | 4.1.3 |\n",
       "| survival | survival     | C:/Deepankar/INSTALLS/R-4.1.3/library | 3.2-13 | recommended | R (&gt;= 3.5.0)                         | graphics, Matrix, methods, splines, stats, utils                                                                                                                                                                                                                                                                                                                                                                                                                                                                                                                                        | NA                                                     | NA                                                                                                                                                                                                                                                           | NA | LGPL (&gt;= 2)                            | NA  | NA | NA | NA | yes | 4.1.3 |\n",
       "| sys | sys          | C:/Deepankar/INSTALLS/R-4.1.3/library | 3.4.1  | NA          | NA                                   | NA                                                                                                                                                                                                                                                                                                                                                                                                                                                                                                                                                                                      | NA                                                     | unix (&gt;= 1.4), spelling, testthat                                                                                                                                                                                                                            | NA | MIT + file LICENSE                     | NA  | NA | NA | NA | yes | 4.1.3 |\n",
       "| tcltk | tcltk        | C:/Deepankar/INSTALLS/R-4.1.3/library | 4.1.3  | base        | NA                                   | utils                                                                                                                                                                                                                                                                                                                                                                                                                                                                                                                                                                                   | NA                                                     | NA                                                                                                                                                                                                                                                           | NA | Part of R 4.1.3                        | NA  | NA | NA | NA | yes | 4.1.3 |\n",
       "| tibble | tibble       | C:/Deepankar/INSTALLS/R-4.1.3/library | 3.1.8  | NA          | R (&gt;= 3.1.0)                         | fansi (&gt;= 0.4.0), lifecycle (&gt;= 1.0.0), magrittr, methods,\n",
       "pillar (&gt;= 1.7.0), pkgconfig, rlang (&gt;= 1.0.2), utils, vctrs\n",
       "(&gt;= 0.3.8)                                                                                                                                                                                                                                                                                                                                                                                                                                                    | NA                                                     | bench, bit64, blob, brio, callr, cli, covr, crayon (&gt;=\n",
       "1.3.4), DiagrammeR, dplyr, evaluate, formattable, ggplot2, hms,\n",
       "htmltools, knitr, lubridate, mockr, nycflights13, pkgbuild,\n",
       "pkgload, purrr, rmarkdown, stringi, testthat (&gt;= 3.0.2), tidyr,\n",
       "withr | NA | MIT + file LICENSE                     | NA  | NA | NA | NA | yes | 4.1.3 |\n",
       "| tidyr | tidyr        | C:/Deepankar/INSTALLS/R-4.1.3/library | 1.3.0  | NA          | R (&gt;= 3.4.0)                         | cli (&gt;= 3.4.1), dplyr (&gt;= 1.0.10), glue, lifecycle (&gt;= 1.0.3),\n",
       "magrittr, purrr (&gt;= 1.0.1), rlang (&gt;= 1.0.4), stringr (&gt;=\n",
       "1.5.0), tibble (&gt;= 2.1.1), tidyselect (&gt;= 1.2.0), utils, vctrs\n",
       "(&gt;= 0.5.2)                                                                                                                                                                                                                                                                                                                                                                                   | cpp11 (&gt;= 0.4.0)                                       | covr, data.table, knitr, readr, repurrrsive (&gt;= 1.1.0),\n",
       "rmarkdown, testthat (&gt;= 3.0.0)                                                                                                                                                                      | NA | MIT + file LICENSE                     | NA  | NA | NA | NA | yes | 4.1.3 |\n",
       "| tidyselect | tidyselect   | C:/Deepankar/INSTALLS/R-4.1.3/library | 1.2.0  | NA          | R (&gt;= 3.4)                           | cli (&gt;= 3.3.0), glue (&gt;= 1.3.0), lifecycle (&gt;= 1.0.3), rlang\n",
       "(&gt;= 1.0.4), vctrs (&gt;= 0.4.1), withr                                                                                                                                                                                                                                                                                                                                                                                                                                                                                       | NA                                                     | covr, crayon, dplyr, knitr, magrittr, rmarkdown, stringr,\n",
       "testthat (&gt;= 3.1.1), tibble (&gt;= 2.1.3)                                                                                                                                                            | NA | MIT + file LICENSE                     | NA  | NA | NA | NA | no  | 4.1.3 |\n",
       "| tidyverse | tidyverse    | C:/Deepankar/INSTALLS/R-4.1.3/library | 1.3.2  | NA          | R (&gt;= 3.3)                           | broom (&gt;= 0.7.10), cli (&gt;= 3.1.0), crayon (&gt;= 1.4.2), dbplyr\n",
       "(&gt;= 2.1.1), dplyr (&gt;= 1.0.7), dtplyr (&gt;= 1.2.0), forcats (&gt;=\n",
       "0.5.1), ggplot2 (&gt;= 3.3.5), googledrive (&gt;= 2.0.0),\n",
       "googlesheets4 (&gt;= 1.0.0), haven (&gt;= 2.4.3), hms (&gt;= 1.1.1),\n",
       "httr (&gt;= 1.4.2), jsonlite (&gt;= 1.7.2), lubridate (&gt;= 1.8.0),\n",
       "magrittr (&gt;= 2.0.1), modelr (&gt;= 0.1.8), pillar (&gt;= 1.6.4),\n",
       "purrr (&gt;= 0.3.4), readr (&gt;= 2.1.1), readxl (&gt;= 1.3.1), reprex\n",
       "(&gt;= 2.0.1), rlang (&gt;= 0.4.12), rstudioapi (&gt;= 0.13), rvest (&gt;=\n",
       "1.0.2), stringr (&gt;= 1.4.0), tibble (&gt;= 3.1.6), tidyr (&gt;=\n",
       "1.1.4), xml2 (&gt;= 1.3.3) | NA                                                     | covr, feather, glue, knitr, rmarkdown, testthat                                                                                                                                                                                                              | NA | MIT + file LICENSE                     | NA  | NA | NA | NA | no  | 4.1.3 |\n",
       "| timechange | timechange   | C:/Deepankar/INSTALLS/R-4.1.3/library | 0.2.0  | NA          | R (&gt;= 3.3)                           | NA                                                                                                                                                                                                                                                                                                                                                                                                                                                                                                                                                                                      | cpp11 (&gt;= 0.2.7)                                       | testthat (&gt;= 0.7.1.99), knitr                                                                                                                                                                                                                                | NA | GPL-3                                  | NA  | NA | NA | NA | yes | 4.1.3 |\n",
       "| tinytex | tinytex      | C:/Deepankar/INSTALLS/R-4.1.3/library | 0.44   | NA          | NA                                   | xfun (&gt;= 0.29)                                                                                                                                                                                                                                                                                                                                                                                                                                                                                                                                                                          | NA                                                     | testit, rstudioapi                                                                                                                                                                                                                                           | NA | MIT + file LICENSE                     | NA  | NA | NA | NA | no  | 4.1.3 |\n",
       "| tools | tools        | C:/Deepankar/INSTALLS/R-4.1.3/library | 4.1.3  | base        | NA                                   | NA                                                                                                                                                                                                                                                                                                                                                                                                                                                                                                                                                                                      | NA                                                     | codetools, methods, xml2, curl, commonmark                                                                                                                                                                                                                   | NA | Part of R 4.1.3                        | NA  | NA | NA | NA | yes | 4.1.3 |\n",
       "| translations | translations | C:/Deepankar/INSTALLS/R-4.1.3/library | 4.1.3  | NA          | NA                                   | NA                                                                                                                                                                                                                                                                                                                                                                                                                                                                                                                                                                                      | NA                                                     | NA                                                                                                                                                                                                                                                           | NA | Part of R 4.1.3                        | NA  | NA | NA | NA | NA  | 4.1.3 |\n",
       "| tzdb | tzdb         | C:/Deepankar/INSTALLS/R-4.1.3/library | 0.3.0  | NA          | R (&gt;= 3.4.0)                         | NA                                                                                                                                                                                                                                                                                                                                                                                                                                                                                                                                                                                      | cpp11 (&gt;= 0.4.2)                                       | covr, testthat (&gt;= 3.0.0)                                                                                                                                                                                                                                    | NA | MIT + file LICENSE                     | NA  | NA | NA | NA | yes | 4.1.3 |\n",
       "| utf8 | utf8         | C:/Deepankar/INSTALLS/R-4.1.3/library | 1.2.3  | NA          | R (&gt;= 2.10)                          | NA                                                                                                                                                                                                                                                                                                                                                                                                                                                                                                                                                                                      | NA                                                     | cli, covr, knitr, rlang, rmarkdown, testthat (&gt;= 3.0.0),\n",
       "withr                                                                                                                                                                                              | NA | Apache License (== 2.0) | file LICENSE | NA  | NA | NA | NA | yes | 4.1.3 |\n",
       "| utils | utils        | C:/Deepankar/INSTALLS/R-4.1.3/library | 4.1.3  | base        | NA                                   | NA                                                                                                                                                                                                                                                                                                                                                                                                                                                                                                                                                                                      | NA                                                     | methods, xml2, commonmark                                                                                                                                                                                                                                    | NA | Part of R 4.1.3                        | NA  | NA | NA | NA | yes | 4.1.3 |\n",
       "| uuid | uuid         | C:/Deepankar/INSTALLS/R-4.1.3/library | 1.1-0  | NA          | R (&gt;= 2.9.0)                         | NA                                                                                                                                                                                                                                                                                                                                                                                                                                                                                                                                                                                      | NA                                                     | NA                                                                                                                                                                                                                                                           | NA | MIT + file LICENSE                     | NA  | NA | NA | NA | yes | 4.1.3 |\n",
       "| vctrs | vctrs        | C:/Deepankar/INSTALLS/R-4.1.3/library | 0.5.2  | NA          | R (&gt;= 3.3)                           | cli (&gt;= 3.4.0), glue, lifecycle (&gt;= 1.0.3), rlang (&gt;= 1.0.6)                                                                                                                                                                                                                                                                                                                                                                                                                                                                                                                            | NA                                                     | bit64, covr, crayon, dplyr (&gt;= 0.8.5), generics, knitr,\n",
       "pillar (&gt;= 1.4.4), pkgdown (&gt;= 2.0.1), rmarkdown, testthat (&gt;=\n",
       "3.0.0), tibble (&gt;= 3.1.3), withr, xml2, waldo (&gt;= 0.2.0),\n",
       "zeallot                                                                  | NA | MIT + file LICENSE                     | NA  | NA | NA | NA | yes | 4.1.3 |\n",
       "| viridisLite | viridisLite  | C:/Deepankar/INSTALLS/R-4.1.3/library | 0.4.1  | NA          | R (&gt;= 2.10)                          | NA                                                                                                                                                                                                                                                                                                                                                                                                                                                                                                                                                                                      | NA                                                     | hexbin (&gt;= 1.27.0), ggplot2 (&gt;= 1.0.1), testthat, covr                                                                                                                                                                                                       | NA | MIT + file LICENSE                     | NA  | NA | NA | NA | no  | 4.1.3 |\n",
       "| vroom | vroom        | C:/Deepankar/INSTALLS/R-4.1.3/library | 1.6.1  | NA          | R (&gt;= 3.4)                           | bit64, cli (&gt;= 3.2.0), crayon, glue, hms, lifecycle (&gt;=\n",
       "1.0.3), methods, rlang (&gt;= 0.4.2), stats, tibble (&gt;= 2.0.0),\n",
       "tidyselect, tzdb (&gt;= 0.1.1), vctrs (&gt;= 0.2.0), withr                                                                                                                                                                                                                                                                                                                                                                                                             | cpp11 (&gt;= 0.2.0), progress (&gt;= 1.2.1), tzdb (&gt;= 0.1.1) | archive, bench (&gt;= 1.1.0), covr, curl, dplyr, forcats, fs,\n",
       "ggplot2, knitr, patchwork, prettyunits, purrr, rmarkdown,\n",
       "rstudioapi, scales, spelling, testthat (&gt;= 2.1.0), tidyr,\n",
       "utils, waldo, xml2                                                         | NA | MIT + file LICENSE                     | NA  | NA | NA | NA | yes | 4.1.3 |\n",
       "| withr | withr        | C:/Deepankar/INSTALLS/R-4.1.3/library | 2.5.0  | NA          | R (&gt;= 3.2.0)                         | graphics, grDevices, stats                                                                                                                                                                                                                                                                                                                                                                                                                                                                                                                                                              | NA                                                     | callr, covr, DBI, knitr, lattice, methods, rlang, rmarkdown\n",
       "(&gt;= 2.12), RSQLite, testthat (&gt;= 3.0.0)                                                                                                                                                         | NA | MIT + file LICENSE                     | NA  | NA | NA | NA | no  | 4.1.3 |\n",
       "| xfun | xfun         | C:/Deepankar/INSTALLS/R-4.1.3/library | 0.37   | NA          | NA                                   | stats, tools                                                                                                                                                                                                                                                                                                                                                                                                                                                                                                                                                                            | NA                                                     | testit, parallel, codetools, rstudioapi, tinytex (&gt;= 0.30),\n",
       "mime, markdown (&gt;= 1.5), knitr (&gt;= 1.42), htmltools, remotes,\n",
       "pak, rhub, renv, curl, jsonlite, magick, rmarkdown                                                                               | NA | MIT + file LICENSE                     | NA  | NA | NA | NA | yes | 4.1.3 |\n",
       "| xml2 | xml2         | C:/Deepankar/INSTALLS/R-4.1.3/library | 1.3.3  | NA          | R (&gt;= 3.1.0)                         | methods                                                                                                                                                                                                                                                                                                                                                                                                                                                                                                                                                                                 | NA                                                     | covr, curl, httr, knitr, magrittr, mockery, rmarkdown,\n",
       "testthat (&gt;= 2.1.0)                                                                                                                                                                                  | NA | MIT + file LICENSE                     | NA  | NA | NA | NA | yes | 4.1.3 |\n",
       "| xmlparsedata | xmlparsedata | C:/Deepankar/INSTALLS/R-4.1.3/library | 1.0.5  | NA          | R (&gt;= 3.0.0)                         | NA                                                                                                                                                                                                                                                                                                                                                                                                                                                                                                                                                                                      | NA                                                     | covr, testthat, xml2                                                                                                                                                                                                                                         | NA | MIT + file LICENSE                     | NA  | NA | NA | NA | no  | 4.1.3 |\n",
       "| yaml | yaml         | C:/Deepankar/INSTALLS/R-4.1.3/library | 2.3.7  | NA          | NA                                   | NA                                                                                                                                                                                                                                                                                                                                                                                                                                                                                                                                                                                      | NA                                                     | RUnit                                                                                                                                                                                                                                                        | NA | BSD_3_clause + file LICENSE            | NA  | NA | NA | NA | yes | 4.1.3 |\n",
       "\n"
      ],
      "text/plain": [
       "             Package      LibPath                               Version\n",
       "askpass      askpass      C:/Deepankar/INSTALLS/R-4.1.3/library 1.1    \n",
       "assertthat   assertthat   C:/Deepankar/INSTALLS/R-4.1.3/library 0.2.1  \n",
       "backports    backports    C:/Deepankar/INSTALLS/R-4.1.3/library 1.4.1  \n",
       "base         base         C:/Deepankar/INSTALLS/R-4.1.3/library 4.1.3  \n",
       "base64enc    base64enc    C:/Deepankar/INSTALLS/R-4.1.3/library 0.1-3  \n",
       "bit          bit          C:/Deepankar/INSTALLS/R-4.1.3/library 4.0.5  \n",
       "bit64        bit64        C:/Deepankar/INSTALLS/R-4.1.3/library 4.0.5  \n",
       "blob         blob         C:/Deepankar/INSTALLS/R-4.1.3/library 1.2.3  \n",
       "boot         boot         C:/Deepankar/INSTALLS/R-4.1.3/library 1.3-28 \n",
       "brew         brew         C:/Deepankar/INSTALLS/R-4.1.3/library 1.0-8  \n",
       "broom        broom        C:/Deepankar/INSTALLS/R-4.1.3/library 1.0.3  \n",
       "bslib        bslib        C:/Deepankar/INSTALLS/R-4.1.3/library 0.4.2  \n",
       "cachem       cachem       C:/Deepankar/INSTALLS/R-4.1.3/library 1.0.6  \n",
       "callr        callr        C:/Deepankar/INSTALLS/R-4.1.3/library 3.7.3  \n",
       "cellranger   cellranger   C:/Deepankar/INSTALLS/R-4.1.3/library 1.1.0  \n",
       "class        class        C:/Deepankar/INSTALLS/R-4.1.3/library 7.3-20 \n",
       "cli          cli          C:/Deepankar/INSTALLS/R-4.1.3/library 3.6.0  \n",
       "clipr        clipr        C:/Deepankar/INSTALLS/R-4.1.3/library 0.8.0  \n",
       "cluster      cluster      C:/Deepankar/INSTALLS/R-4.1.3/library 2.1.2  \n",
       "codetools    codetools    C:/Deepankar/INSTALLS/R-4.1.3/library 0.2-18 \n",
       "collections  collections  C:/Deepankar/INSTALLS/R-4.1.3/library 0.3.7  \n",
       "colorspace   colorspace   C:/Deepankar/INSTALLS/R-4.1.3/library 2.1-0  \n",
       "commonmark   commonmark   C:/Deepankar/INSTALLS/R-4.1.3/library 1.8.1  \n",
       "compiler     compiler     C:/Deepankar/INSTALLS/R-4.1.3/library 4.1.3  \n",
       "cpp11        cpp11        C:/Deepankar/INSTALLS/R-4.1.3/library 0.4.3  \n",
       "crayon       crayon       C:/Deepankar/INSTALLS/R-4.1.3/library 1.5.2  \n",
       "curl         curl         C:/Deepankar/INSTALLS/R-4.1.3/library 5.0.0  \n",
       "cyclocomp    cyclocomp    C:/Deepankar/INSTALLS/R-4.1.3/library 1.1.0  \n",
       "data.table   data.table   C:/Deepankar/INSTALLS/R-4.1.3/library 1.14.8 \n",
       "datasets     datasets     C:/Deepankar/INSTALLS/R-4.1.3/library 4.1.3  \n",
       "...          ...          ...                                   ...    \n",
       "spatial      spatial      C:/Deepankar/INSTALLS/R-4.1.3/library 7.3-15 \n",
       "splines      splines      C:/Deepankar/INSTALLS/R-4.1.3/library 4.1.3  \n",
       "stats        stats        C:/Deepankar/INSTALLS/R-4.1.3/library 4.1.3  \n",
       "stats4       stats4       C:/Deepankar/INSTALLS/R-4.1.3/library 4.1.3  \n",
       "stringi      stringi      C:/Deepankar/INSTALLS/R-4.1.3/library 1.7.12 \n",
       "stringr      stringr      C:/Deepankar/INSTALLS/R-4.1.3/library 1.5.0  \n",
       "styler       styler       C:/Deepankar/INSTALLS/R-4.1.3/library 1.9.0  \n",
       "survival     survival     C:/Deepankar/INSTALLS/R-4.1.3/library 3.2-13 \n",
       "sys          sys          C:/Deepankar/INSTALLS/R-4.1.3/library 3.4.1  \n",
       "tcltk        tcltk        C:/Deepankar/INSTALLS/R-4.1.3/library 4.1.3  \n",
       "tibble       tibble       C:/Deepankar/INSTALLS/R-4.1.3/library 3.1.8  \n",
       "tidyr        tidyr        C:/Deepankar/INSTALLS/R-4.1.3/library 1.3.0  \n",
       "tidyselect   tidyselect   C:/Deepankar/INSTALLS/R-4.1.3/library 1.2.0  \n",
       "tidyverse    tidyverse    C:/Deepankar/INSTALLS/R-4.1.3/library 1.3.2  \n",
       "timechange   timechange   C:/Deepankar/INSTALLS/R-4.1.3/library 0.2.0  \n",
       "tinytex      tinytex      C:/Deepankar/INSTALLS/R-4.1.3/library 0.44   \n",
       "tools        tools        C:/Deepankar/INSTALLS/R-4.1.3/library 4.1.3  \n",
       "translations translations C:/Deepankar/INSTALLS/R-4.1.3/library 4.1.3  \n",
       "tzdb         tzdb         C:/Deepankar/INSTALLS/R-4.1.3/library 0.3.0  \n",
       "utf8         utf8         C:/Deepankar/INSTALLS/R-4.1.3/library 1.2.3  \n",
       "utils        utils        C:/Deepankar/INSTALLS/R-4.1.3/library 4.1.3  \n",
       "uuid         uuid         C:/Deepankar/INSTALLS/R-4.1.3/library 1.1-0  \n",
       "vctrs        vctrs        C:/Deepankar/INSTALLS/R-4.1.3/library 0.5.2  \n",
       "viridisLite  viridisLite  C:/Deepankar/INSTALLS/R-4.1.3/library 0.4.1  \n",
       "vroom        vroom        C:/Deepankar/INSTALLS/R-4.1.3/library 1.6.1  \n",
       "withr        withr        C:/Deepankar/INSTALLS/R-4.1.3/library 2.5.0  \n",
       "xfun         xfun         C:/Deepankar/INSTALLS/R-4.1.3/library 0.37   \n",
       "xml2         xml2         C:/Deepankar/INSTALLS/R-4.1.3/library 1.3.3  \n",
       "xmlparsedata xmlparsedata C:/Deepankar/INSTALLS/R-4.1.3/library 1.0.5  \n",
       "yaml         yaml         C:/Deepankar/INSTALLS/R-4.1.3/library 2.3.7  \n",
       "             Priority    Depends                                            \n",
       "askpass      NA          NA                                                 \n",
       "assertthat   NA          NA                                                 \n",
       "backports    NA          R (>= 3.0.0)                                       \n",
       "base         base        NA                                                 \n",
       "base64enc    NA          R (>= 2.9.0)                                       \n",
       "bit          NA          R (>= 2.9.2)                                       \n",
       "bit64        NA          R (>= 3.0.1), bit (>= 4.0.0), utils, methods, stats\n",
       "blob         NA          NA                                                 \n",
       "boot         recommended R (>= 3.0.0), graphics, stats                      \n",
       "brew         NA          NA                                                 \n",
       "broom        NA          R (>= 3.1)                                         \n",
       "bslib        NA          R (>= 2.10)                                        \n",
       "cachem       NA          NA                                                 \n",
       "callr        NA          R (>= 3.4)                                         \n",
       "cellranger   NA          R (>= 3.0.0)                                       \n",
       "class        recommended R (>= 3.0.0), stats, utils                         \n",
       "cli          NA          R (>= 3.4)                                         \n",
       "clipr        NA          NA                                                 \n",
       "cluster      recommended R (>= 3.4.0)                                       \n",
       "codetools    recommended R (>= 2.1)                                         \n",
       "collections  NA          NA                                                 \n",
       "colorspace   NA          R (>= 3.0.0), methods                              \n",
       "commonmark   NA          NA                                                 \n",
       "compiler     base        NA                                                 \n",
       "cpp11        NA          NA                                                 \n",
       "crayon       NA          NA                                                 \n",
       "curl         NA          R (>= 3.0.0)                                       \n",
       "cyclocomp    NA          NA                                                 \n",
       "data.table   NA          R (>= 3.1.0)                                       \n",
       "datasets     base        NA                                                 \n",
       "...          ...         ...                                                \n",
       "spatial      recommended R (>= 3.0.0), graphics, stats, utils               \n",
       "splines      base        NA                                                 \n",
       "stats        base        NA                                                 \n",
       "stats4       base        NA                                                 \n",
       "stringi      NA          R (>= 3.1)                                         \n",
       "stringr      NA          R (>= 3.3)                                         \n",
       "styler       NA          R (>= 3.5.0)                                       \n",
       "survival     recommended R (>= 3.5.0)                                       \n",
       "sys          NA          NA                                                 \n",
       "tcltk        base        NA                                                 \n",
       "tibble       NA          R (>= 3.1.0)                                       \n",
       "tidyr        NA          R (>= 3.4.0)                                       \n",
       "tidyselect   NA          R (>= 3.4)                                         \n",
       "tidyverse    NA          R (>= 3.3)                                         \n",
       "timechange   NA          R (>= 3.3)                                         \n",
       "tinytex      NA          NA                                                 \n",
       "tools        base        NA                                                 \n",
       "translations NA          NA                                                 \n",
       "tzdb         NA          R (>= 3.4.0)                                       \n",
       "utf8         NA          R (>= 2.10)                                        \n",
       "utils        base        NA                                                 \n",
       "uuid         NA          R (>= 2.9.0)                                       \n",
       "vctrs        NA          R (>= 3.3)                                         \n",
       "viridisLite  NA          R (>= 2.10)                                        \n",
       "vroom        NA          R (>= 3.4)                                         \n",
       "withr        NA          R (>= 3.2.0)                                       \n",
       "xfun         NA          NA                                                 \n",
       "xml2         NA          R (>= 3.1.0)                                       \n",
       "xmlparsedata NA          R (>= 3.0.0)                                       \n",
       "yaml         NA          NA                                                 \n",
       "             Imports                                                                                                                                                                                                                                                                                                                                                                                                                                                                                                                                                                                \n",
       "askpass      sys (>= 2.1)                                                                                                                                                                                                                                                                                                                                                                                                                                                                                                                                                                           \n",
       "assertthat   tools                                                                                                                                                                                                                                                                                                                                                                                                                                                                                                                                                                                  \n",
       "backports    NA                                                                                                                                                                                                                                                                                                                                                                                                                                                                                                                                                                                     \n",
       "base         NA                                                                                                                                                                                                                                                                                                                                                                                                                                                                                                                                                                                     \n",
       "base64enc    NA                                                                                                                                                                                                                                                                                                                                                                                                                                                                                                                                                                                     \n",
       "bit          NA                                                                                                                                                                                                                                                                                                                                                                                                                                                                                                                                                                                     \n",
       "bit64        NA                                                                                                                                                                                                                                                                                                                                                                                                                                                                                                                                                                                     \n",
       "blob         methods, rlang, vctrs (>= 0.2.1)                                                                                                                                                                                                                                                                                                                                                                                                                                                                                                                                                       \n",
       "boot         NA                                                                                                                                                                                                                                                                                                                                                                                                                                                                                                                                                                                     \n",
       "brew         NA                                                                                                                                                                                                                                                                                                                                                                                                                                                                                                                                                                                     \n",
       "broom        backports, dplyr (>= 1.0.0), ellipsis, generics (>= 0.0.2),\\nglue, purrr, rlang, stringr, tibble (>= 3.0.0), tidyr (>=\\n1.0.0)                                                                                                                                                                                                                                                                                                                                                                                                                                                         \n",
       "bslib        grDevices, htmltools (>= 0.5.4), jsonlite, sass (>= 0.4.0),\\njquerylib (>= 0.1.3), rlang, cachem, memoise (>= 2.0.1),\\nbase64enc, mime                                                                                                                                                                                                                                                                                                                                                                                                                                                 \n",
       "cachem       rlang, fastmap                                                                                                                                                                                                                                                                                                                                                                                                                                                                                                                                                                         \n",
       "callr        processx (>= 3.6.1), R6, utils                                                                                                                                                                                                                                                                                                                                                                                                                                                                                                                                                         \n",
       "cellranger   rematch, tibble                                                                                                                                                                                                                                                                                                                                                                                                                                                                                                                                                                        \n",
       "class        MASS                                                                                                                                                                                                                                                                                                                                                                                                                                                                                                                                                                                   \n",
       "cli          utils                                                                                                                                                                                                                                                                                                                                                                                                                                                                                                                                                                                  \n",
       "clipr        utils                                                                                                                                                                                                                                                                                                                                                                                                                                                                                                                                                                                  \n",
       "cluster      graphics, grDevices, stats, utils                                                                                                                                                                                                                                                                                                                                                                                                                                                                                                                                                      \n",
       "codetools    NA                                                                                                                                                                                                                                                                                                                                                                                                                                                                                                                                                                                     \n",
       "collections  NA                                                                                                                                                                                                                                                                                                                                                                                                                                                                                                                                                                                     \n",
       "colorspace   graphics, grDevices, stats                                                                                                                                                                                                                                                                                                                                                                                                                                                                                                                                                             \n",
       "commonmark   NA                                                                                                                                                                                                                                                                                                                                                                                                                                                                                                                                                                                     \n",
       "compiler     NA                                                                                                                                                                                                                                                                                                                                                                                                                                                                                                                                                                                     \n",
       "cpp11        NA                                                                                                                                                                                                                                                                                                                                                                                                                                                                                                                                                                                     \n",
       "crayon       grDevices, methods, utils                                                                                                                                                                                                                                                                                                                                                                                                                                                                                                                                                              \n",
       "curl         NA                                                                                                                                                                                                                                                                                                                                                                                                                                                                                                                                                                                     \n",
       "cyclocomp    callr, crayon, desc, remotes, withr                                                                                                                                                                                                                                                                                                                                                                                                                                                                                                                                                    \n",
       "data.table   methods                                                                                                                                                                                                                                                                                                                                                                                                                                                                                                                                                                                \n",
       "datasets     NA                                                                                                                                                                                                                                                                                                                                                                                                                                                                                                                                                                                     \n",
       "...          ...                                                                                                                                                                                                                                                                                                                                                                                                                                                                                                                                                                                    \n",
       "spatial      NA                                                                                                                                                                                                                                                                                                                                                                                                                                                                                                                                                                                     \n",
       "splines      graphics, stats                                                                                                                                                                                                                                                                                                                                                                                                                                                                                                                                                                        \n",
       "stats        utils, grDevices, graphics                                                                                                                                                                                                                                                                                                                                                                                                                                                                                                                                                             \n",
       "stats4       graphics, methods, stats                                                                                                                                                                                                                                                                                                                                                                                                                                                                                                                                                               \n",
       "stringi      tools, utils, stats                                                                                                                                                                                                                                                                                                                                                                                                                                                                                                                                                                    \n",
       "stringr      cli, glue (>= 1.6.1), lifecycle (>= 1.0.3), magrittr, rlang\\n(>= 1.0.0), stringi (>= 1.5.3), vctrs                                                                                                                                                                                                                                                                                                                                                                                                                                                                                     \n",
       "styler       cli (>= 3.1.1), magrittr (>= 2.0.0), purrr (>= 0.2.3), R.cache\\n(>= 0.15.0), rlang (>= 0.1.1), rprojroot (>= 1.1), tools, vctrs\\n(>= 0.4.1), withr (>= 2.3.0),                                                                                                                                                                                                                                                                                                                                                                                                                         \n",
       "survival     graphics, Matrix, methods, splines, stats, utils                                                                                                                                                                                                                                                                                                                                                                                                                                                                                                                                       \n",
       "sys          NA                                                                                                                                                                                                                                                                                                                                                                                                                                                                                                                                                                                     \n",
       "tcltk        utils                                                                                                                                                                                                                                                                                                                                                                                                                                                                                                                                                                                  \n",
       "tibble       fansi (>= 0.4.0), lifecycle (>= 1.0.0), magrittr, methods,\\npillar (>= 1.7.0), pkgconfig, rlang (>= 1.0.2), utils, vctrs\\n(>= 0.3.8)                                                                                                                                                                                                                                                                                                                                                                                                                                                   \n",
       "tidyr        cli (>= 3.4.1), dplyr (>= 1.0.10), glue, lifecycle (>= 1.0.3),\\nmagrittr, purrr (>= 1.0.1), rlang (>= 1.0.4), stringr (>=\\n1.5.0), tibble (>= 2.1.1), tidyselect (>= 1.2.0), utils, vctrs\\n(>= 0.5.2)                                                                                                                                                                                                                                                                                                                                                                                  \n",
       "tidyselect   cli (>= 3.3.0), glue (>= 1.3.0), lifecycle (>= 1.0.3), rlang\\n(>= 1.0.4), vctrs (>= 0.4.1), withr                                                                                                                                                                                                                                                                                                                                                                                                                                                                                      \n",
       "tidyverse    broom (>= 0.7.10), cli (>= 3.1.0), crayon (>= 1.4.2), dbplyr\\n(>= 2.1.1), dplyr (>= 1.0.7), dtplyr (>= 1.2.0), forcats (>=\\n0.5.1), ggplot2 (>= 3.3.5), googledrive (>= 2.0.0),\\ngooglesheets4 (>= 1.0.0), haven (>= 2.4.3), hms (>= 1.1.1),\\nhttr (>= 1.4.2), jsonlite (>= 1.7.2), lubridate (>= 1.8.0),\\nmagrittr (>= 2.0.1), modelr (>= 0.1.8), pillar (>= 1.6.4),\\npurrr (>= 0.3.4), readr (>= 2.1.1), readxl (>= 1.3.1), reprex\\n(>= 2.0.1), rlang (>= 0.4.12), rstudioapi (>= 0.13), rvest (>=\\n1.0.2), stringr (>= 1.4.0), tibble (>= 3.1.6), tidyr (>=\\n1.1.4), xml2 (>= 1.3.3)\n",
       "timechange   NA                                                                                                                                                                                                                                                                                                                                                                                                                                                                                                                                                                                     \n",
       "tinytex      xfun (>= 0.29)                                                                                                                                                                                                                                                                                                                                                                                                                                                                                                                                                                         \n",
       "tools        NA                                                                                                                                                                                                                                                                                                                                                                                                                                                                                                                                                                                     \n",
       "translations NA                                                                                                                                                                                                                                                                                                                                                                                                                                                                                                                                                                                     \n",
       "tzdb         NA                                                                                                                                                                                                                                                                                                                                                                                                                                                                                                                                                                                     \n",
       "utf8         NA                                                                                                                                                                                                                                                                                                                                                                                                                                                                                                                                                                                     \n",
       "utils        NA                                                                                                                                                                                                                                                                                                                                                                                                                                                                                                                                                                                     \n",
       "uuid         NA                                                                                                                                                                                                                                                                                                                                                                                                                                                                                                                                                                                     \n",
       "vctrs        cli (>= 3.4.0), glue, lifecycle (>= 1.0.3), rlang (>= 1.0.6)                                                                                                                                                                                                                                                                                                                                                                                                                                                                                                                           \n",
       "viridisLite  NA                                                                                                                                                                                                                                                                                                                                                                                                                                                                                                                                                                                     \n",
       "vroom        bit64, cli (>= 3.2.0), crayon, glue, hms, lifecycle (>=\\n1.0.3), methods, rlang (>= 0.4.2), stats, tibble (>= 2.0.0),\\ntidyselect, tzdb (>= 0.1.1), vctrs (>= 0.2.0), withr                                                                                                                                                                                                                                                                                                                                                                                                            \n",
       "withr        graphics, grDevices, stats                                                                                                                                                                                                                                                                                                                                                                                                                                                                                                                                                             \n",
       "xfun         stats, tools                                                                                                                                                                                                                                                                                                                                                                                                                                                                                                                                                                           \n",
       "xml2         methods                                                                                                                                                                                                                                                                                                                                                                                                                                                                                                                                                                                \n",
       "xmlparsedata NA                                                                                                                                                                                                                                                                                                                                                                                                                                                                                                                                                                                     \n",
       "yaml         NA                                                                                                                                                                                                                                                                                                                                                                                                                                                                                                                                                                                     \n",
       "             LinkingTo                                             \n",
       "askpass      NA                                                    \n",
       "assertthat   NA                                                    \n",
       "backports    NA                                                    \n",
       "base         NA                                                    \n",
       "base64enc    NA                                                    \n",
       "bit          NA                                                    \n",
       "bit64        NA                                                    \n",
       "blob         NA                                                    \n",
       "boot         NA                                                    \n",
       "brew         NA                                                    \n",
       "broom        NA                                                    \n",
       "bslib        NA                                                    \n",
       "cachem       NA                                                    \n",
       "callr        NA                                                    \n",
       "cellranger   NA                                                    \n",
       "class        NA                                                    \n",
       "cli          NA                                                    \n",
       "clipr        NA                                                    \n",
       "cluster      NA                                                    \n",
       "codetools    NA                                                    \n",
       "collections  NA                                                    \n",
       "colorspace   NA                                                    \n",
       "commonmark   NA                                                    \n",
       "compiler     NA                                                    \n",
       "cpp11        NA                                                    \n",
       "crayon       NA                                                    \n",
       "curl         NA                                                    \n",
       "cyclocomp    NA                                                    \n",
       "data.table   NA                                                    \n",
       "datasets     NA                                                    \n",
       "...          ...                                                   \n",
       "spatial      NA                                                    \n",
       "splines      NA                                                    \n",
       "stats        NA                                                    \n",
       "stats4       NA                                                    \n",
       "stringi      NA                                                    \n",
       "stringr      NA                                                    \n",
       "styler       NA                                                    \n",
       "survival     NA                                                    \n",
       "sys          NA                                                    \n",
       "tcltk        NA                                                    \n",
       "tibble       NA                                                    \n",
       "tidyr        cpp11 (>= 0.4.0)                                      \n",
       "tidyselect   NA                                                    \n",
       "tidyverse    NA                                                    \n",
       "timechange   cpp11 (>= 0.2.7)                                      \n",
       "tinytex      NA                                                    \n",
       "tools        NA                                                    \n",
       "translations NA                                                    \n",
       "tzdb         cpp11 (>= 0.4.2)                                      \n",
       "utf8         NA                                                    \n",
       "utils        NA                                                    \n",
       "uuid         NA                                                    \n",
       "vctrs        NA                                                    \n",
       "viridisLite  NA                                                    \n",
       "vroom        cpp11 (>= 0.2.0), progress (>= 1.2.1), tzdb (>= 0.1.1)\n",
       "withr        NA                                                    \n",
       "xfun         NA                                                    \n",
       "xml2         NA                                                    \n",
       "xmlparsedata NA                                                    \n",
       "yaml         NA                                                    \n",
       "             Suggests                                                                                                                                                                                                                                                                                                                                                                                                                                                                                                                                                                                                                                                                                                                                                                             \n",
       "askpass      testthat                                                                                                                                                                                                                                                                                                                                                                                                                                                                                                                                                                                                                                                                                                                                                                             \n",
       "assertthat   testthat, covr                                                                                                                                                                                                                                                                                                                                                                                                                                                                                                                                                                                                                                                                                                                                                                       \n",
       "backports    NA                                                                                                                                                                                                                                                                                                                                                                                                                                                                                                                                                                                                                                                                                                                                                                                   \n",
       "base         methods                                                                                                                                                                                                                                                                                                                                                                                                                                                                                                                                                                                                                                                                                                                                                                              \n",
       "base64enc    NA                                                                                                                                                                                                                                                                                                                                                                                                                                                                                                                                                                                                                                                                                                                                                                                   \n",
       "bit          testthat (>= 0.11.0), roxygen2, knitr, rmarkdown,\\nmicrobenchmark, bit64 (>= 4.0.0), ff (>= 4.0.0)                                                                                                                                                                                                                                                                                                                                                                                                                                                                                                                                                                                                                                                                                   \n",
       "bit64        NA                                                                                                                                                                                                                                                                                                                                                                                                                                                                                                                                                                                                                                                                                                                                                                                   \n",
       "blob         covr, crayon, pillar (>= 1.2.1), testthat                                                                                                                                                                                                                                                                                                                                                                                                                                                                                                                                                                                                                                                                                                                                            \n",
       "boot         MASS, survival                                                                                                                                                                                                                                                                                                                                                                                                                                                                                                                                                                                                                                                                                                                                                                       \n",
       "brew         testthat (>= 3.0.0)                                                                                                                                                                                                                                                                                                                                                                                                                                                                                                                                                                                                                                                                                                                                                                  \n",
       "broom        AER, AUC, bbmle, betareg, biglm, binGroup, boot, btergm (>=\\n1.10.6), car, carData, caret, cluster, cmprsk, coda, covr, drc,\\ne1071, emmeans, epiR, ergm (>= 3.10.4), fixest (>= 0.9.0), gam\\n(>= 1.15), gee, geepack, ggplot2, glmnet, glmnetUtils, gmm,\\nHmisc, irlba, interp, joineRML, Kendall, knitr, ks, Lahman,\\nlavaan, leaps, lfe, lm.beta, lme4, lmodel2, lmtest (>= 0.9.38),\\nlsmeans, maps, maptools, margins, MASS, mclust, mediation,\\nmetafor, mfx, mgcv, mlogit, modeldata, modeltests, muhaz,\\nmultcomp, network, nnet, orcutt (>= 2.2), ordinal, plm, poLCA,\\npsych, quantreg, rgeos, rmarkdown, robust, robustbase, rsample,\\nsandwich, sp, spdep (>= 1.1), spatialreg, speedglm, spelling,\\nsurvey, survival, systemfit, testthat (>= 2.1.0), tseries,\\nvars, zoo\n",
       "bslib        shiny (>= 1.6.0), rmarkdown (>= 2.7), thematic, knitr,\\ntestthat, withr, rappdirs, curl, magrittr, fontawesome, bsicons                                                                                                                                                                                                                                                                                                                                                                                                                                                                                                                                                                                                                                                              \n",
       "cachem       testthat                                                                                                                                                                                                                                                                                                                                                                                                                                                                                                                                                                                                                                                                                                                                                                             \n",
       "callr        asciicast, cli (>= 1.1.0), covr, mockery, ps, rprojroot,\\nspelling, testthat (>= 3.0.0), withr (>= 2.3.0)                                                                                                                                                                                                                                                                                                                                                                                                                                                                                                                                                                                                                                                                            \n",
       "cellranger   covr, testthat (>= 1.0.0), knitr, rmarkdown                                                                                                                                                                                                                                                                                                                                                                                                                                                                                                                                                                                                                                                                                                                                          \n",
       "class        NA                                                                                                                                                                                                                                                                                                                                                                                                                                                                                                                                                                                                                                                                                                                                                                                   \n",
       "cli          callr, covr, crayon, digest, glue (>= 1.6.0), grDevices,\\nhtmltools, htmlwidgets, knitr, methods, mockery, processx, ps\\n(>= 1.3.4.9000), rlang (>= 1.0.2.9003), rmarkdown, rprojroot,\\nrstudioapi, testthat, tibble, whoami, withr                                                                                                                                                                                                                                                                                                                                                                                                                                                                                                                                                  \n",
       "clipr        covr, knitr, rmarkdown, rstudioapi (>= 0.5), testthat (>=\\n2.0.0)                                                                                                                                                                                                                                                                                                                                                                                                                                                                                                                                                                                                                                                                                                                    \n",
       "cluster      MASS, Matrix                                                                                                                                                                                                                                                                                                                                                                                                                                                                                                                                                                                                                                                                                                                                                                         \n",
       "codetools    NA                                                                                                                                                                                                                                                                                                                                                                                                                                                                                                                                                                                                                                                                                                                                                                                   \n",
       "collections  testthat (>= 2.3.1)                                                                                                                                                                                                                                                                                                                                                                                                                                                                                                                                                                                                                                                                                                                                                                  \n",
       "colorspace   datasets, utils, KernSmooth, MASS, kernlab, mvtnorm, vcd,\\ntcltk, shiny, shinyjs, ggplot2, dplyr, scales, grid, png, jpeg,\\nknitr, rmarkdown, RColorBrewer, rcartocolor, scico, viridis,\\nwesanderson                                                                                                                                                                                                                                                                                                                                                                                                                                                                                                                                                                                \n",
       "commonmark   curl, testthat, xml2                                                                                                                                                                                                                                                                                                                                                                                                                                                                                                                                                                                                                                                                                                                                                                 \n",
       "compiler     NA                                                                                                                                                                                                                                                                                                                                                                                                                                                                                                                                                                                                                                                                                                                                                                                   \n",
       "cpp11        bench, brio, callr, cli, covr, decor, desc, ggplot2, glue,\\nknitr, lobstr, mockery, progress, rmarkdown, scales, Rcpp,\\ntestthat, tibble, utils, vctrs, withr                                                                                                                                                                                                                                                                                                                                                                                                                                                                                                                                                                                                                        \n",
       "crayon       mockery, rstudioapi, testthat, withr                                                                                                                                                                                                                                                                                                                                                                                                                                                                                                                                                                                                                                                                                                                                                 \n",
       "curl         spelling, testthat (>= 1.0.0), knitr, jsonlite, rmarkdown,\\nmagrittr, httpuv (>= 1.4.4), webutils                                                                                                                                                                                                                                                                                                                                                                                                                                                                                                                                                                                                                                                                                    \n",
       "cyclocomp    testthat                                                                                                                                                                                                                                                                                                                                                                                                                                                                                                                                                                                                                                                                                                                                                                             \n",
       "data.table   bit64 (>= 4.0.0), bit (>= 4.0.4), curl, R.utils, xts,\\nnanotime, zoo (>= 1.8-1), yaml, knitr, rmarkdown                                                                                                                                                                                                                                                                                                                                                                                                                                                                                                                                                                                                                                                                              \n",
       "datasets     NA                                                                                                                                                                                                                                                                                                                                                                                                                                                                                                                                                                                                                                                                                                                                                                                   \n",
       "...          ...                                                                                                                                                                                                                                                                                                                                                                                                                                                                                                                                                                                                                                                                                                                                                                                  \n",
       "spatial      MASS                                                                                                                                                                                                                                                                                                                                                                                                                                                                                                                                                                                                                                                                                                                                                                                 \n",
       "splines      Matrix, methods                                                                                                                                                                                                                                                                                                                                                                                                                                                                                                                                                                                                                                                                                                                                                                      \n",
       "stats        MASS, Matrix, SuppDists, methods, stats4                                                                                                                                                                                                                                                                                                                                                                                                                                                                                                                                                                                                                                                                                                                                             \n",
       "stats4       NA                                                                                                                                                                                                                                                                                                                                                                                                                                                                                                                                                                                                                                                                                                                                                                                   \n",
       "stringi      NA                                                                                                                                                                                                                                                                                                                                                                                                                                                                                                                                                                                                                                                                                                                                                                                   \n",
       "stringr      covr, htmltools, htmlwidgets, knitr, rmarkdown, testthat (>=\\n3.0.0)                                                                                                                                                                                                                                                                                                                                                                                                                                                                                                                                                                                                                                                                                                                 \n",
       "styler       data.tree (>= 0.1.6), digest, dplyr, here, knitr, prettycode,\\nrmarkdown, roxygen2, rstudioapi (>= 0.7), tibble (>= 1.4.2),\\ntestthat (>= 3.0.0)                                                                                                                                                                                                                                                                                                                                                                                                                                                                                                                                                                                                                                     \n",
       "survival     NA                                                                                                                                                                                                                                                                                                                                                                                                                                                                                                                                                                                                                                                                                                                                                                                   \n",
       "sys          unix (>= 1.4), spelling, testthat                                                                                                                                                                                                                                                                                                                                                                                                                                                                                                                                                                                                                                                                                                                                                    \n",
       "tcltk        NA                                                                                                                                                                                                                                                                                                                                                                                                                                                                                                                                                                                                                                                                                                                                                                                   \n",
       "tibble       bench, bit64, blob, brio, callr, cli, covr, crayon (>=\\n1.3.4), DiagrammeR, dplyr, evaluate, formattable, ggplot2, hms,\\nhtmltools, knitr, lubridate, mockr, nycflights13, pkgbuild,\\npkgload, purrr, rmarkdown, stringi, testthat (>= 3.0.2), tidyr,\\nwithr                                                                                                                                                                                                                                                                                                                                                                                                                                                                                                                         \n",
       "tidyr        covr, data.table, knitr, readr, repurrrsive (>= 1.1.0),\\nrmarkdown, testthat (>= 3.0.0)                                                                                                                                                                                                                                                                                                                                                                                                                                                                                                                                                                                                                                                                                              \n",
       "tidyselect   covr, crayon, dplyr, knitr, magrittr, rmarkdown, stringr,\\ntestthat (>= 3.1.1), tibble (>= 2.1.3)                                                                                                                                                                                                                                                                                                                                                                                                                                                                                                                                                                                                                                                                                    \n",
       "tidyverse    covr, feather, glue, knitr, rmarkdown, testthat                                                                                                                                                                                                                                                                                                                                                                                                                                                                                                                                                                                                                                                                                                                                      \n",
       "timechange   testthat (>= 0.7.1.99), knitr                                                                                                                                                                                                                                                                                                                                                                                                                                                                                                                                                                                                                                                                                                                                                        \n",
       "tinytex      testit, rstudioapi                                                                                                                                                                                                                                                                                                                                                                                                                                                                                                                                                                                                                                                                                                                                                                   \n",
       "tools        codetools, methods, xml2, curl, commonmark                                                                                                                                                                                                                                                                                                                                                                                                                                                                                                                                                                                                                                                                                                                                           \n",
       "translations NA                                                                                                                                                                                                                                                                                                                                                                                                                                                                                                                                                                                                                                                                                                                                                                                   \n",
       "tzdb         covr, testthat (>= 3.0.0)                                                                                                                                                                                                                                                                                                                                                                                                                                                                                                                                                                                                                                                                                                                                                            \n",
       "utf8         cli, covr, knitr, rlang, rmarkdown, testthat (>= 3.0.0),\\nwithr                                                                                                                                                                                                                                                                                                                                                                                                                                                                                                                                                                                                                                                                                                                      \n",
       "utils        methods, xml2, commonmark                                                                                                                                                                                                                                                                                                                                                                                                                                                                                                                                                                                                                                                                                                                                                            \n",
       "uuid         NA                                                                                                                                                                                                                                                                                                                                                                                                                                                                                                                                                                                                                                                                                                                                                                                   \n",
       "vctrs        bit64, covr, crayon, dplyr (>= 0.8.5), generics, knitr,\\npillar (>= 1.4.4), pkgdown (>= 2.0.1), rmarkdown, testthat (>=\\n3.0.0), tibble (>= 3.1.3), withr, xml2, waldo (>= 0.2.0),\\nzeallot                                                                                                                                                                                                                                                                                                                                                                                                                                                                                                                                                                                          \n",
       "viridisLite  hexbin (>= 1.27.0), ggplot2 (>= 1.0.1), testthat, covr                                                                                                                                                                                                                                                                                                                                                                                                                                                                                                                                                                                                                                                                                                                               \n",
       "vroom        archive, bench (>= 1.1.0), covr, curl, dplyr, forcats, fs,\\nggplot2, knitr, patchwork, prettyunits, purrr, rmarkdown,\\nrstudioapi, scales, spelling, testthat (>= 2.1.0), tidyr,\\nutils, waldo, xml2                                                                                                                                                                                                                                                                                                                                                                                                                                                                                                                                                                                 \n",
       "withr        callr, covr, DBI, knitr, lattice, methods, rlang, rmarkdown\\n(>= 2.12), RSQLite, testthat (>= 3.0.0)                                                                                                                                                                                                                                                                                                                                                                                                                                                                                                                                                                                                                                                                                 \n",
       "xfun         testit, parallel, codetools, rstudioapi, tinytex (>= 0.30),\\nmime, markdown (>= 1.5), knitr (>= 1.42), htmltools, remotes,\\npak, rhub, renv, curl, jsonlite, magick, rmarkdown                                                                                                                                                                                                                                                                                                                                                                                                                                                                                                                                                                                                       \n",
       "xml2         covr, curl, httr, knitr, magrittr, mockery, rmarkdown,\\ntestthat (>= 2.1.0)                                                                                                                                                                                                                                                                                                                                                                                                                                                                                                                                                                                                                                                                                                          \n",
       "xmlparsedata covr, testthat, xml2                                                                                                                                                                                                                                                                                                                                                                                                                                                                                                                                                                                                                                                                                                                                                                 \n",
       "yaml         RUnit                                                                                                                                                                                                                                                                                                                                                                                                                                                                                                                                                                                                                                                                                                                                                                                \n",
       "             Enhances License                                License_is_FOSS\n",
       "askpass      NA       MIT + file LICENSE                     NA             \n",
       "assertthat   NA       GPL-3                                  NA             \n",
       "backports    NA       GPL-2 | GPL-3                          NA             \n",
       "base         NA       Part of R 4.1.3                        NA             \n",
       "base64enc    png      GPL-2 | GPL-3                          NA             \n",
       "bit          NA       GPL-2 | GPL-3                          NA             \n",
       "bit64        NA       GPL-2 | GPL-3                          NA             \n",
       "blob         NA       MIT + file LICENSE                     NA             \n",
       "boot         NA       Unlimited                              NA             \n",
       "brew         NA       GPL-2                                  NA             \n",
       "broom        NA       MIT + file LICENSE                     NA             \n",
       "bslib        NA       MIT + file LICENSE                     NA             \n",
       "cachem       NA       MIT + file LICENSE                     NA             \n",
       "callr        NA       MIT + file LICENSE                     NA             \n",
       "cellranger   NA       MIT + file LICENSE                     NA             \n",
       "class        NA       GPL-2 | GPL-3                          NA             \n",
       "cli          NA       MIT + file LICENSE                     NA             \n",
       "clipr        NA       GPL-3                                  NA             \n",
       "cluster      NA       GPL (>= 2)                             NA             \n",
       "codetools    NA       GPL                                    NA             \n",
       "collections  NA       MIT + file LICENSE                     NA             \n",
       "colorspace   NA       BSD_3_clause + file LICENSE            NA             \n",
       "commonmark   NA       BSD_2_clause + file LICENSE            NA             \n",
       "compiler     NA       Part of R 4.1.3                        NA             \n",
       "cpp11        NA       MIT + file LICENSE                     NA             \n",
       "crayon       NA       MIT + file LICENSE                     NA             \n",
       "curl         NA       MIT + file LICENSE                     NA             \n",
       "cyclocomp    NA       MIT + file LICENSE                     NA             \n",
       "data.table   NA       MPL-2.0 | file LICENSE                 NA             \n",
       "datasets     NA       Part of R 4.1.3                        NA             \n",
       "...          ...      ...                                    ...            \n",
       "spatial      NA       GPL-2 | GPL-3                          NA             \n",
       "splines      NA       Part of R 4.1.3                        NA             \n",
       "stats        NA       Part of R 4.1.3                        NA             \n",
       "stats4       NA       Part of R 4.1.3                        NA             \n",
       "stringi      NA       file LICENSE                           yes            \n",
       "stringr      NA       MIT + file LICENSE                     NA             \n",
       "styler       NA       MIT + file LICENSE                     NA             \n",
       "survival     NA       LGPL (>= 2)                            NA             \n",
       "sys          NA       MIT + file LICENSE                     NA             \n",
       "tcltk        NA       Part of R 4.1.3                        NA             \n",
       "tibble       NA       MIT + file LICENSE                     NA             \n",
       "tidyr        NA       MIT + file LICENSE                     NA             \n",
       "tidyselect   NA       MIT + file LICENSE                     NA             \n",
       "tidyverse    NA       MIT + file LICENSE                     NA             \n",
       "timechange   NA       GPL-3                                  NA             \n",
       "tinytex      NA       MIT + file LICENSE                     NA             \n",
       "tools        NA       Part of R 4.1.3                        NA             \n",
       "translations NA       Part of R 4.1.3                        NA             \n",
       "tzdb         NA       MIT + file LICENSE                     NA             \n",
       "utf8         NA       Apache License (== 2.0) | file LICENSE NA             \n",
       "utils        NA       Part of R 4.1.3                        NA             \n",
       "uuid         NA       MIT + file LICENSE                     NA             \n",
       "vctrs        NA       MIT + file LICENSE                     NA             \n",
       "viridisLite  NA       MIT + file LICENSE                     NA             \n",
       "vroom        NA       MIT + file LICENSE                     NA             \n",
       "withr        NA       MIT + file LICENSE                     NA             \n",
       "xfun         NA       MIT + file LICENSE                     NA             \n",
       "xml2         NA       MIT + file LICENSE                     NA             \n",
       "xmlparsedata NA       MIT + file LICENSE                     NA             \n",
       "yaml         NA       BSD_3_clause + file LICENSE            NA             \n",
       "             License_restricts_use OS_type MD5sum NeedsCompilation Built\n",
       "askpass      NA                    NA      NA     yes              4.1.3\n",
       "assertthat   NA                    NA      NA     no               4.1.3\n",
       "backports    NA                    NA      NA     yes              4.1.2\n",
       "base         NA                    NA      NA     NA               4.1.3\n",
       "base64enc    NA                    NA      NA     yes              4.1.1\n",
       "bit          NA                    NA      NA     yes              4.1.3\n",
       "bit64        NA                    NA      NA     yes              4.1.3\n",
       "blob         NA                    NA      NA     no               4.1.3\n",
       "boot         NA                    NA      NA     no               4.1.3\n",
       "brew         NA                    NA      NA     no               4.1.3\n",
       "broom        NA                    NA      NA     no               4.1.3\n",
       "bslib        NA                    NA      NA     no               4.1.3\n",
       "cachem       NA                    NA      NA     yes              4.1.3\n",
       "callr        NA                    NA      NA     no               4.1.3\n",
       "cellranger   NA                    NA      NA     no               4.1.3\n",
       "class        NA                    NA      NA     yes              4.1.3\n",
       "cli          NA                    NA      NA     yes              4.1.3\n",
       "clipr        NA                    NA      NA     no               4.1.3\n",
       "cluster      NA                    NA      NA     yes              4.1.3\n",
       "codetools    NA                    NA      NA     no               4.1.3\n",
       "collections  NA                    NA      NA     yes              4.1.3\n",
       "colorspace   NA                    NA      NA     yes              4.1.3\n",
       "commonmark   NA                    NA      NA     yes              4.1.3\n",
       "compiler     NA                    NA      NA     NA               4.1.3\n",
       "cpp11        NA                    NA      NA     no               4.1.3\n",
       "crayon       NA                    NA      NA     no               4.1.3\n",
       "curl         NA                    NA      NA     yes              4.1.3\n",
       "cyclocomp    NA                    NA      NA     no               4.1.3\n",
       "data.table   NA                    NA      NA     yes              4.1.3\n",
       "datasets     NA                    NA      NA     NA               4.1.3\n",
       "...          ...                   ...     ...    ...              ...  \n",
       "spatial      NA                    NA      NA     yes              4.1.3\n",
       "splines      NA                    NA      NA     yes              4.1.3\n",
       "stats        NA                    NA      NA     yes              4.1.3\n",
       "stats4       NA                    NA      NA     NA               4.1.3\n",
       "stringi      NA                    NA      NA     yes              4.1.3\n",
       "stringr      NA                    NA      NA     no               4.1.3\n",
       "styler       NA                    NA      NA     no               4.1.3\n",
       "survival     NA                    NA      NA     yes              4.1.3\n",
       "sys          NA                    NA      NA     yes              4.1.3\n",
       "tcltk        NA                    NA      NA     yes              4.1.3\n",
       "tibble       NA                    NA      NA     yes              4.1.3\n",
       "tidyr        NA                    NA      NA     yes              4.1.3\n",
       "tidyselect   NA                    NA      NA     no               4.1.3\n",
       "tidyverse    NA                    NA      NA     no               4.1.3\n",
       "timechange   NA                    NA      NA     yes              4.1.3\n",
       "tinytex      NA                    NA      NA     no               4.1.3\n",
       "tools        NA                    NA      NA     yes              4.1.3\n",
       "translations NA                    NA      NA     NA               4.1.3\n",
       "tzdb         NA                    NA      NA     yes              4.1.3\n",
       "utf8         NA                    NA      NA     yes              4.1.3\n",
       "utils        NA                    NA      NA     yes              4.1.3\n",
       "uuid         NA                    NA      NA     yes              4.1.3\n",
       "vctrs        NA                    NA      NA     yes              4.1.3\n",
       "viridisLite  NA                    NA      NA     no               4.1.3\n",
       "vroom        NA                    NA      NA     yes              4.1.3\n",
       "withr        NA                    NA      NA     no               4.1.3\n",
       "xfun         NA                    NA      NA     yes              4.1.3\n",
       "xml2         NA                    NA      NA     yes              4.1.3\n",
       "xmlparsedata NA                    NA      NA     no               4.1.3\n",
       "yaml         NA                    NA      NA     yes              4.1.3"
      ]
     },
     "metadata": {},
     "output_type": "display_data"
    }
   ],
   "source": [
    "# packages ---> units of reproducible R code\n",
    "installed.packages()\n"
   ]
  },
  {
   "cell_type": "code",
   "execution_count": null,
   "metadata": {
    "vscode": {
     "languageId": "r"
    }
   },
   "outputs": [],
   "source": [
    "# CRAN ---> Comprehensive R Archive Network\n",
    "# An online archive with R packages, source code, manuals, and documentation."
   ]
  },
  {
   "cell_type": "code",
   "execution_count": 4,
   "metadata": {
    "vscode": {
     "languageId": "r"
    }
   },
   "outputs": [
    {
     "name": "stderr",
     "output_type": "stream",
     "text": [
      "-- \u001b[1mAttaching packages\u001b[22m --------------------------------------- tidyverse 1.3.2 --\n",
      "\u001b[32mv\u001b[39m \u001b[34mggplot2\u001b[39m 3.4.1     \u001b[32mv\u001b[39m \u001b[34mpurrr  \u001b[39m 1.0.1\n",
      "\u001b[32mv\u001b[39m \u001b[34mtibble \u001b[39m 3.1.8     \u001b[32mv\u001b[39m \u001b[34mdplyr  \u001b[39m 1.1.0\n",
      "\u001b[32mv\u001b[39m \u001b[34mtidyr  \u001b[39m 1.3.0     \u001b[32mv\u001b[39m \u001b[34mstringr\u001b[39m 1.5.0\n",
      "\u001b[32mv\u001b[39m \u001b[34mreadr  \u001b[39m 2.1.4     \u001b[32mv\u001b[39m \u001b[34mforcats\u001b[39m 1.0.0\n",
      "-- \u001b[1mConflicts\u001b[22m ------------------------------------------ tidyverse_conflicts() --\n",
      "\u001b[31mx\u001b[39m \u001b[34mdplyr\u001b[39m::\u001b[32mfilter()\u001b[39m masks \u001b[34mstats\u001b[39m::filter()\n",
      "\u001b[31mx\u001b[39m \u001b[34mdplyr\u001b[39m::\u001b[32mlag()\u001b[39m    masks \u001b[34mstats\u001b[39m::lag()\n"
     ]
    }
   ],
   "source": [
    "library(tidyverse)"
   ]
  },
  {
   "cell_type": "code",
   "execution_count": 5,
   "metadata": {
    "vscode": {
     "languageId": "r"
    }
   },
   "outputs": [],
   "source": [
    "# Conflicts happen when packages have functions with the same name as the other functions.\n",
    "\n",
    "# Factors(R): store categorical values in R where the data values are limited and usually based on a finite group like country or year.\n",
    "\n",
    "# 8 core R packages:\n",
    "    # ggplot2 --> data viz.\n",
    "    # purrr   --> vectors and functions get easier\n",
    "    # tibble  --> dataframes\n",
    "    # dplyr   --> data manipulation tasks\n",
    "    # tidyr   --> data cleaning\n",
    "    # stringr --> strings\n",
    "    # readr   --> importing data\n",
    "    # forcats --> common problems with factors\n",
    "\n",
    "# tidyverse_update() ----> to update the tidyverse\n",
    "# update.packages()  ----> update all of your packages"
   ]
  },
  {
   "cell_type": "code",
   "execution_count": 7,
   "metadata": {
    "vscode": {
     "languageId": "r"
    }
   },
   "outputs": [],
   "source": [
    "library(palmerpenguins)\n",
    "# penguins"
   ]
  },
  {
   "cell_type": "code",
   "execution_count": 9,
   "metadata": {
    "vscode": {
     "languageId": "r"
    }
   },
   "outputs": [
    {
     "name": "stderr",
     "output_type": "stream",
     "text": [
      "Warning message:\n",
      "\"\u001b[1m\u001b[22mRemoved 2 rows containing missing values (`geom_point()`).\"\n"
     ]
    },
    {
     "data": {
      "image/png": "[encoded data removed]",
      "text/plain": [
       "plot without title"
      ]
     },
     "metadata": {
      "image/png": {
       "height": 420,
       "width": 420
      }
     },
     "output_type": "display_data"
    }
   ],
   "source": [
    "library(palmerpenguins)\n",
    "library(ggplot2)\n",
    "\n",
    "ggplot(data = penguins, aes(x = flipper_length_mm, y= body_mass_g)) + geom_point()\n",
    "# ggplot()"
   ]
  },
  {
   "cell_type": "code",
   "execution_count": 15,
   "metadata": {
    "vscode": {
     "languageId": "r"
    }
   },
   "outputs": [
    {
     "data": {
      "text/html": [
       "<table class=\"dataframe\">\n",
       "<caption>A data.frame: 60 × 3</caption>\n",
       "<thead>\n",
       "\t<tr><th scope=col>len</th><th scope=col>supp</th><th scope=col>dose</th></tr>\n",
       "\t<tr><th scope=col>&lt;dbl&gt;</th><th scope=col>&lt;fct&gt;</th><th scope=col>&lt;dbl&gt;</th></tr>\n",
       "</thead>\n",
       "<tbody>\n",
       "\t<tr><td> 4.2</td><td>VC</td><td>0.5</td></tr>\n",
       "\t<tr><td>11.5</td><td>VC</td><td>0.5</td></tr>\n",
       "\t<tr><td> 7.3</td><td>VC</td><td>0.5</td></tr>\n",
       "\t<tr><td> 5.8</td><td>VC</td><td>0.5</td></tr>\n",
       "\t<tr><td> 6.4</td><td>VC</td><td>0.5</td></tr>\n",
       "\t<tr><td>10.0</td><td>VC</td><td>0.5</td></tr>\n",
       "\t<tr><td>11.2</td><td>VC</td><td>0.5</td></tr>\n",
       "\t<tr><td>11.2</td><td>VC</td><td>0.5</td></tr>\n",
       "\t<tr><td> 5.2</td><td>VC</td><td>0.5</td></tr>\n",
       "\t<tr><td> 7.0</td><td>VC</td><td>0.5</td></tr>\n",
       "\t<tr><td>16.5</td><td>VC</td><td>1.0</td></tr>\n",
       "\t<tr><td>16.5</td><td>VC</td><td>1.0</td></tr>\n",
       "\t<tr><td>15.2</td><td>VC</td><td>1.0</td></tr>\n",
       "\t<tr><td>17.3</td><td>VC</td><td>1.0</td></tr>\n",
       "\t<tr><td>22.5</td><td>VC</td><td>1.0</td></tr>\n",
       "\t<tr><td>17.3</td><td>VC</td><td>1.0</td></tr>\n",
       "\t<tr><td>13.6</td><td>VC</td><td>1.0</td></tr>\n",
       "\t<tr><td>14.5</td><td>VC</td><td>1.0</td></tr>\n",
       "\t<tr><td>18.8</td><td>VC</td><td>1.0</td></tr>\n",
       "\t<tr><td>15.5</td><td>VC</td><td>1.0</td></tr>\n",
       "\t<tr><td>23.6</td><td>VC</td><td>2.0</td></tr>\n",
       "\t<tr><td>18.5</td><td>VC</td><td>2.0</td></tr>\n",
       "\t<tr><td>33.9</td><td>VC</td><td>2.0</td></tr>\n",
       "\t<tr><td>25.5</td><td>VC</td><td>2.0</td></tr>\n",
       "\t<tr><td>26.4</td><td>VC</td><td>2.0</td></tr>\n",
       "\t<tr><td>32.5</td><td>VC</td><td>2.0</td></tr>\n",
       "\t<tr><td>26.7</td><td>VC</td><td>2.0</td></tr>\n",
       "\t<tr><td>21.5</td><td>VC</td><td>2.0</td></tr>\n",
       "\t<tr><td>23.3</td><td>VC</td><td>2.0</td></tr>\n",
       "\t<tr><td>29.5</td><td>VC</td><td>2.0</td></tr>\n",
       "\t<tr><td>15.2</td><td>OJ</td><td>0.5</td></tr>\n",
       "\t<tr><td>21.5</td><td>OJ</td><td>0.5</td></tr>\n",
       "\t<tr><td>17.6</td><td>OJ</td><td>0.5</td></tr>\n",
       "\t<tr><td> 9.7</td><td>OJ</td><td>0.5</td></tr>\n",
       "\t<tr><td>14.5</td><td>OJ</td><td>0.5</td></tr>\n",
       "\t<tr><td>10.0</td><td>OJ</td><td>0.5</td></tr>\n",
       "\t<tr><td> 8.2</td><td>OJ</td><td>0.5</td></tr>\n",
       "\t<tr><td> 9.4</td><td>OJ</td><td>0.5</td></tr>\n",
       "\t<tr><td>16.5</td><td>OJ</td><td>0.5</td></tr>\n",
       "\t<tr><td> 9.7</td><td>OJ</td><td>0.5</td></tr>\n",
       "\t<tr><td>19.7</td><td>OJ</td><td>1.0</td></tr>\n",
       "\t<tr><td>23.3</td><td>OJ</td><td>1.0</td></tr>\n",
       "\t<tr><td>23.6</td><td>OJ</td><td>1.0</td></tr>\n",
       "\t<tr><td>26.4</td><td>OJ</td><td>1.0</td></tr>\n",
       "\t<tr><td>20.0</td><td>OJ</td><td>1.0</td></tr>\n",
       "\t<tr><td>25.2</td><td>OJ</td><td>1.0</td></tr>\n",
       "\t<tr><td>25.8</td><td>OJ</td><td>1.0</td></tr>\n",
       "\t<tr><td>21.2</td><td>OJ</td><td>1.0</td></tr>\n",
       "\t<tr><td>14.5</td><td>OJ</td><td>1.0</td></tr>\n",
       "\t<tr><td>27.3</td><td>OJ</td><td>1.0</td></tr>\n",
       "\t<tr><td>25.5</td><td>OJ</td><td>2.0</td></tr>\n",
       "\t<tr><td>26.4</td><td>OJ</td><td>2.0</td></tr>\n",
       "\t<tr><td>22.4</td><td>OJ</td><td>2.0</td></tr>\n",
       "\t<tr><td>24.5</td><td>OJ</td><td>2.0</td></tr>\n",
       "\t<tr><td>24.8</td><td>OJ</td><td>2.0</td></tr>\n",
       "\t<tr><td>30.9</td><td>OJ</td><td>2.0</td></tr>\n",
       "\t<tr><td>26.4</td><td>OJ</td><td>2.0</td></tr>\n",
       "\t<tr><td>27.3</td><td>OJ</td><td>2.0</td></tr>\n",
       "\t<tr><td>29.4</td><td>OJ</td><td>2.0</td></tr>\n",
       "\t<tr><td>23.0</td><td>OJ</td><td>2.0</td></tr>\n",
       "</tbody>\n",
       "</table>\n"
      ],
      "text/latex": [
       "A data.frame: 60 × 3\n",
       "\\begin{tabular}{lll}\n",
       " len & supp & dose\\\\\n",
       " <dbl> & <fct> & <dbl>\\\\\n",
       "\\hline\n",
       "\t  4.2 & VC & 0.5\\\\\n",
       "\t 11.5 & VC & 0.5\\\\\n",
       "\t  7.3 & VC & 0.5\\\\\n",
       "\t  5.8 & VC & 0.5\\\\\n",
       "\t  6.4 & VC & 0.5\\\\\n",
       "\t 10.0 & VC & 0.5\\\\\n",
       "\t 11.2 & VC & 0.5\\\\\n",
       "\t 11.2 & VC & 0.5\\\\\n",
       "\t  5.2 & VC & 0.5\\\\\n",
       "\t  7.0 & VC & 0.5\\\\\n",
       "\t 16.5 & VC & 1.0\\\\\n",
       "\t 16.5 & VC & 1.0\\\\\n",
       "\t 15.2 & VC & 1.0\\\\\n",
       "\t 17.3 & VC & 1.0\\\\\n",
       "\t 22.5 & VC & 1.0\\\\\n",
       "\t 17.3 & VC & 1.0\\\\\n",
       "\t 13.6 & VC & 1.0\\\\\n",
       "\t 14.5 & VC & 1.0\\\\\n",
       "\t 18.8 & VC & 1.0\\\\\n",
       "\t 15.5 & VC & 1.0\\\\\n",
       "\t 23.6 & VC & 2.0\\\\\n",
       "\t 18.5 & VC & 2.0\\\\\n",
       "\t 33.9 & VC & 2.0\\\\\n",
       "\t 25.5 & VC & 2.0\\\\\n",
       "\t 26.4 & VC & 2.0\\\\\n",
       "\t 32.5 & VC & 2.0\\\\\n",
       "\t 26.7 & VC & 2.0\\\\\n",
       "\t 21.5 & VC & 2.0\\\\\n",
       "\t 23.3 & VC & 2.0\\\\\n",
       "\t 29.5 & VC & 2.0\\\\\n",
       "\t 15.2 & OJ & 0.5\\\\\n",
       "\t 21.5 & OJ & 0.5\\\\\n",
       "\t 17.6 & OJ & 0.5\\\\\n",
       "\t  9.7 & OJ & 0.5\\\\\n",
       "\t 14.5 & OJ & 0.5\\\\\n",
       "\t 10.0 & OJ & 0.5\\\\\n",
       "\t  8.2 & OJ & 0.5\\\\\n",
       "\t  9.4 & OJ & 0.5\\\\\n",
       "\t 16.5 & OJ & 0.5\\\\\n",
       "\t  9.7 & OJ & 0.5\\\\\n",
       "\t 19.7 & OJ & 1.0\\\\\n",
       "\t 23.3 & OJ & 1.0\\\\\n",
       "\t 23.6 & OJ & 1.0\\\\\n",
       "\t 26.4 & OJ & 1.0\\\\\n",
       "\t 20.0 & OJ & 1.0\\\\\n",
       "\t 25.2 & OJ & 1.0\\\\\n",
       "\t 25.8 & OJ & 1.0\\\\\n",
       "\t 21.2 & OJ & 1.0\\\\\n",
       "\t 14.5 & OJ & 1.0\\\\\n",
       "\t 27.3 & OJ & 1.0\\\\\n",
       "\t 25.5 & OJ & 2.0\\\\\n",
       "\t 26.4 & OJ & 2.0\\\\\n",
       "\t 22.4 & OJ & 2.0\\\\\n",
       "\t 24.5 & OJ & 2.0\\\\\n",
       "\t 24.8 & OJ & 2.0\\\\\n",
       "\t 30.9 & OJ & 2.0\\\\\n",
       "\t 26.4 & OJ & 2.0\\\\\n",
       "\t 27.3 & OJ & 2.0\\\\\n",
       "\t 29.4 & OJ & 2.0\\\\\n",
       "\t 23.0 & OJ & 2.0\\\\\n",
       "\\end{tabular}\n"
      ],
      "text/markdown": [
       "\n",
       "A data.frame: 60 × 3\n",
       "\n",
       "| len &lt;dbl&gt; | supp &lt;fct&gt; | dose &lt;dbl&gt; |\n",
       "|---|---|---|\n",
       "|  4.2 | VC | 0.5 |\n",
       "| 11.5 | VC | 0.5 |\n",
       "|  7.3 | VC | 0.5 |\n",
       "|  5.8 | VC | 0.5 |\n",
       "|  6.4 | VC | 0.5 |\n",
       "| 10.0 | VC | 0.5 |\n",
       "| 11.2 | VC | 0.5 |\n",
       "| 11.2 | VC | 0.5 |\n",
       "|  5.2 | VC | 0.5 |\n",
       "|  7.0 | VC | 0.5 |\n",
       "| 16.5 | VC | 1.0 |\n",
       "| 16.5 | VC | 1.0 |\n",
       "| 15.2 | VC | 1.0 |\n",
       "| 17.3 | VC | 1.0 |\n",
       "| 22.5 | VC | 1.0 |\n",
       "| 17.3 | VC | 1.0 |\n",
       "| 13.6 | VC | 1.0 |\n",
       "| 14.5 | VC | 1.0 |\n",
       "| 18.8 | VC | 1.0 |\n",
       "| 15.5 | VC | 1.0 |\n",
       "| 23.6 | VC | 2.0 |\n",
       "| 18.5 | VC | 2.0 |\n",
       "| 33.9 | VC | 2.0 |\n",
       "| 25.5 | VC | 2.0 |\n",
       "| 26.4 | VC | 2.0 |\n",
       "| 32.5 | VC | 2.0 |\n",
       "| 26.7 | VC | 2.0 |\n",
       "| 21.5 | VC | 2.0 |\n",
       "| 23.3 | VC | 2.0 |\n",
       "| 29.5 | VC | 2.0 |\n",
       "| 15.2 | OJ | 0.5 |\n",
       "| 21.5 | OJ | 0.5 |\n",
       "| 17.6 | OJ | 0.5 |\n",
       "|  9.7 | OJ | 0.5 |\n",
       "| 14.5 | OJ | 0.5 |\n",
       "| 10.0 | OJ | 0.5 |\n",
       "|  8.2 | OJ | 0.5 |\n",
       "|  9.4 | OJ | 0.5 |\n",
       "| 16.5 | OJ | 0.5 |\n",
       "|  9.7 | OJ | 0.5 |\n",
       "| 19.7 | OJ | 1.0 |\n",
       "| 23.3 | OJ | 1.0 |\n",
       "| 23.6 | OJ | 1.0 |\n",
       "| 26.4 | OJ | 1.0 |\n",
       "| 20.0 | OJ | 1.0 |\n",
       "| 25.2 | OJ | 1.0 |\n",
       "| 25.8 | OJ | 1.0 |\n",
       "| 21.2 | OJ | 1.0 |\n",
       "| 14.5 | OJ | 1.0 |\n",
       "| 27.3 | OJ | 1.0 |\n",
       "| 25.5 | OJ | 2.0 |\n",
       "| 26.4 | OJ | 2.0 |\n",
       "| 22.4 | OJ | 2.0 |\n",
       "| 24.5 | OJ | 2.0 |\n",
       "| 24.8 | OJ | 2.0 |\n",
       "| 30.9 | OJ | 2.0 |\n",
       "| 26.4 | OJ | 2.0 |\n",
       "| 27.3 | OJ | 2.0 |\n",
       "| 29.4 | OJ | 2.0 |\n",
       "| 23.0 | OJ | 2.0 |\n",
       "\n"
      ],
      "text/plain": [
       "   len  supp dose\n",
       "1   4.2 VC   0.5 \n",
       "2  11.5 VC   0.5 \n",
       "3   7.3 VC   0.5 \n",
       "4   5.8 VC   0.5 \n",
       "5   6.4 VC   0.5 \n",
       "6  10.0 VC   0.5 \n",
       "7  11.2 VC   0.5 \n",
       "8  11.2 VC   0.5 \n",
       "9   5.2 VC   0.5 \n",
       "10  7.0 VC   0.5 \n",
       "11 16.5 VC   1.0 \n",
       "12 16.5 VC   1.0 \n",
       "13 15.2 VC   1.0 \n",
       "14 17.3 VC   1.0 \n",
       "15 22.5 VC   1.0 \n",
       "16 17.3 VC   1.0 \n",
       "17 13.6 VC   1.0 \n",
       "18 14.5 VC   1.0 \n",
       "19 18.8 VC   1.0 \n",
       "20 15.5 VC   1.0 \n",
       "21 23.6 VC   2.0 \n",
       "22 18.5 VC   2.0 \n",
       "23 33.9 VC   2.0 \n",
       "24 25.5 VC   2.0 \n",
       "25 26.4 VC   2.0 \n",
       "26 32.5 VC   2.0 \n",
       "27 26.7 VC   2.0 \n",
       "28 21.5 VC   2.0 \n",
       "29 23.3 VC   2.0 \n",
       "30 29.5 VC   2.0 \n",
       "31 15.2 OJ   0.5 \n",
       "32 21.5 OJ   0.5 \n",
       "33 17.6 OJ   0.5 \n",
       "34  9.7 OJ   0.5 \n",
       "35 14.5 OJ   0.5 \n",
       "36 10.0 OJ   0.5 \n",
       "37  8.2 OJ   0.5 \n",
       "38  9.4 OJ   0.5 \n",
       "39 16.5 OJ   0.5 \n",
       "40  9.7 OJ   0.5 \n",
       "41 19.7 OJ   1.0 \n",
       "42 23.3 OJ   1.0 \n",
       "43 23.6 OJ   1.0 \n",
       "44 26.4 OJ   1.0 \n",
       "45 20.0 OJ   1.0 \n",
       "46 25.2 OJ   1.0 \n",
       "47 25.8 OJ   1.0 \n",
       "48 21.2 OJ   1.0 \n",
       "49 14.5 OJ   1.0 \n",
       "50 27.3 OJ   1.0 \n",
       "51 25.5 OJ   2.0 \n",
       "52 26.4 OJ   2.0 \n",
       "53 22.4 OJ   2.0 \n",
       "54 24.5 OJ   2.0 \n",
       "55 24.8 OJ   2.0 \n",
       "56 30.9 OJ   2.0 \n",
       "57 26.4 OJ   2.0 \n",
       "58 27.3 OJ   2.0 \n",
       "59 29.4 OJ   2.0 \n",
       "60 23.0 OJ   2.0 "
      ]
     },
     "metadata": {},
     "output_type": "display_data"
    }
   ],
   "source": [
    "data(ToothGrowth)\n",
    "View(ToothGrowth)"
   ]
  },
  {
   "cell_type": "code",
   "execution_count": 17,
   "metadata": {
    "vscode": {
     "languageId": "r"
    }
   },
   "outputs": [
    {
     "data": {
      "text/html": [
       "<table class=\"dataframe\">\n",
       "<caption>A data.frame: 20 × 3</caption>\n",
       "<thead>\n",
       "\t<tr><th scope=col>len</th><th scope=col>supp</th><th scope=col>dose</th></tr>\n",
       "\t<tr><th scope=col>&lt;dbl&gt;</th><th scope=col>&lt;fct&gt;</th><th scope=col>&lt;dbl&gt;</th></tr>\n",
       "</thead>\n",
       "<tbody>\n",
       "\t<tr><td> 4.2</td><td>VC</td><td>0.5</td></tr>\n",
       "\t<tr><td>11.5</td><td>VC</td><td>0.5</td></tr>\n",
       "\t<tr><td> 7.3</td><td>VC</td><td>0.5</td></tr>\n",
       "\t<tr><td> 5.8</td><td>VC</td><td>0.5</td></tr>\n",
       "\t<tr><td> 6.4</td><td>VC</td><td>0.5</td></tr>\n",
       "\t<tr><td>10.0</td><td>VC</td><td>0.5</td></tr>\n",
       "\t<tr><td>11.2</td><td>VC</td><td>0.5</td></tr>\n",
       "\t<tr><td>11.2</td><td>VC</td><td>0.5</td></tr>\n",
       "\t<tr><td> 5.2</td><td>VC</td><td>0.5</td></tr>\n",
       "\t<tr><td> 7.0</td><td>VC</td><td>0.5</td></tr>\n",
       "\t<tr><td>15.2</td><td>OJ</td><td>0.5</td></tr>\n",
       "\t<tr><td>21.5</td><td>OJ</td><td>0.5</td></tr>\n",
       "\t<tr><td>17.6</td><td>OJ</td><td>0.5</td></tr>\n",
       "\t<tr><td> 9.7</td><td>OJ</td><td>0.5</td></tr>\n",
       "\t<tr><td>14.5</td><td>OJ</td><td>0.5</td></tr>\n",
       "\t<tr><td>10.0</td><td>OJ</td><td>0.5</td></tr>\n",
       "\t<tr><td> 8.2</td><td>OJ</td><td>0.5</td></tr>\n",
       "\t<tr><td> 9.4</td><td>OJ</td><td>0.5</td></tr>\n",
       "\t<tr><td>16.5</td><td>OJ</td><td>0.5</td></tr>\n",
       "\t<tr><td> 9.7</td><td>OJ</td><td>0.5</td></tr>\n",
       "</tbody>\n",
       "</table>\n"
      ],
      "text/latex": [
       "A data.frame: 20 × 3\n",
       "\\begin{tabular}{lll}\n",
       " len & supp & dose\\\\\n",
       " <dbl> & <fct> & <dbl>\\\\\n",
       "\\hline\n",
       "\t  4.2 & VC & 0.5\\\\\n",
       "\t 11.5 & VC & 0.5\\\\\n",
       "\t  7.3 & VC & 0.5\\\\\n",
       "\t  5.8 & VC & 0.5\\\\\n",
       "\t  6.4 & VC & 0.5\\\\\n",
       "\t 10.0 & VC & 0.5\\\\\n",
       "\t 11.2 & VC & 0.5\\\\\n",
       "\t 11.2 & VC & 0.5\\\\\n",
       "\t  5.2 & VC & 0.5\\\\\n",
       "\t  7.0 & VC & 0.5\\\\\n",
       "\t 15.2 & OJ & 0.5\\\\\n",
       "\t 21.5 & OJ & 0.5\\\\\n",
       "\t 17.6 & OJ & 0.5\\\\\n",
       "\t  9.7 & OJ & 0.5\\\\\n",
       "\t 14.5 & OJ & 0.5\\\\\n",
       "\t 10.0 & OJ & 0.5\\\\\n",
       "\t  8.2 & OJ & 0.5\\\\\n",
       "\t  9.4 & OJ & 0.5\\\\\n",
       "\t 16.5 & OJ & 0.5\\\\\n",
       "\t  9.7 & OJ & 0.5\\\\\n",
       "\\end{tabular}\n"
      ],
      "text/markdown": [
       "\n",
       "A data.frame: 20 × 3\n",
       "\n",
       "| len &lt;dbl&gt; | supp &lt;fct&gt; | dose &lt;dbl&gt; |\n",
       "|---|---|---|\n",
       "|  4.2 | VC | 0.5 |\n",
       "| 11.5 | VC | 0.5 |\n",
       "|  7.3 | VC | 0.5 |\n",
       "|  5.8 | VC | 0.5 |\n",
       "|  6.4 | VC | 0.5 |\n",
       "| 10.0 | VC | 0.5 |\n",
       "| 11.2 | VC | 0.5 |\n",
       "| 11.2 | VC | 0.5 |\n",
       "|  5.2 | VC | 0.5 |\n",
       "|  7.0 | VC | 0.5 |\n",
       "| 15.2 | OJ | 0.5 |\n",
       "| 21.5 | OJ | 0.5 |\n",
       "| 17.6 | OJ | 0.5 |\n",
       "|  9.7 | OJ | 0.5 |\n",
       "| 14.5 | OJ | 0.5 |\n",
       "| 10.0 | OJ | 0.5 |\n",
       "|  8.2 | OJ | 0.5 |\n",
       "|  9.4 | OJ | 0.5 |\n",
       "| 16.5 | OJ | 0.5 |\n",
       "|  9.7 | OJ | 0.5 |\n",
       "\n"
      ],
      "text/plain": [
       "   len  supp dose\n",
       "1   4.2 VC   0.5 \n",
       "2  11.5 VC   0.5 \n",
       "3   7.3 VC   0.5 \n",
       "4   5.8 VC   0.5 \n",
       "5   6.4 VC   0.5 \n",
       "6  10.0 VC   0.5 \n",
       "7  11.2 VC   0.5 \n",
       "8  11.2 VC   0.5 \n",
       "9   5.2 VC   0.5 \n",
       "10  7.0 VC   0.5 \n",
       "11 15.2 OJ   0.5 \n",
       "12 21.5 OJ   0.5 \n",
       "13 17.6 OJ   0.5 \n",
       "14  9.7 OJ   0.5 \n",
       "15 14.5 OJ   0.5 \n",
       "16 10.0 OJ   0.5 \n",
       "17  8.2 OJ   0.5 \n",
       "18  9.4 OJ   0.5 \n",
       "19 16.5 OJ   0.5 \n",
       "20  9.7 OJ   0.5 "
      ]
     },
     "metadata": {},
     "output_type": "display_data"
    }
   ],
   "source": [
    "library(dplyr)\n",
    "filtered_tg <- filter(ToothGrowth, dose==0.5)\n",
    "View(filtered_tg)"
   ]
  },
  {
   "cell_type": "code",
   "execution_count": 18,
   "metadata": {
    "vscode": {
     "languageId": "r"
    }
   },
   "outputs": [
    {
     "data": {
      "text/html": [
       "<table class=\"dataframe\">\n",
       "<caption>A data.frame: 20 × 3</caption>\n",
       "<thead>\n",
       "\t<tr><th scope=col>len</th><th scope=col>supp</th><th scope=col>dose</th></tr>\n",
       "\t<tr><th scope=col>&lt;dbl&gt;</th><th scope=col>&lt;fct&gt;</th><th scope=col>&lt;dbl&gt;</th></tr>\n",
       "</thead>\n",
       "<tbody>\n",
       "\t<tr><td> 4.2</td><td>VC</td><td>0.5</td></tr>\n",
       "\t<tr><td> 5.2</td><td>VC</td><td>0.5</td></tr>\n",
       "\t<tr><td> 5.8</td><td>VC</td><td>0.5</td></tr>\n",
       "\t<tr><td> 6.4</td><td>VC</td><td>0.5</td></tr>\n",
       "\t<tr><td> 7.0</td><td>VC</td><td>0.5</td></tr>\n",
       "\t<tr><td> 7.3</td><td>VC</td><td>0.5</td></tr>\n",
       "\t<tr><td> 8.2</td><td>OJ</td><td>0.5</td></tr>\n",
       "\t<tr><td> 9.4</td><td>OJ</td><td>0.5</td></tr>\n",
       "\t<tr><td> 9.7</td><td>OJ</td><td>0.5</td></tr>\n",
       "\t<tr><td> 9.7</td><td>OJ</td><td>0.5</td></tr>\n",
       "\t<tr><td>10.0</td><td>VC</td><td>0.5</td></tr>\n",
       "\t<tr><td>10.0</td><td>OJ</td><td>0.5</td></tr>\n",
       "\t<tr><td>11.2</td><td>VC</td><td>0.5</td></tr>\n",
       "\t<tr><td>11.2</td><td>VC</td><td>0.5</td></tr>\n",
       "\t<tr><td>11.5</td><td>VC</td><td>0.5</td></tr>\n",
       "\t<tr><td>14.5</td><td>OJ</td><td>0.5</td></tr>\n",
       "\t<tr><td>15.2</td><td>OJ</td><td>0.5</td></tr>\n",
       "\t<tr><td>16.5</td><td>OJ</td><td>0.5</td></tr>\n",
       "\t<tr><td>17.6</td><td>OJ</td><td>0.5</td></tr>\n",
       "\t<tr><td>21.5</td><td>OJ</td><td>0.5</td></tr>\n",
       "</tbody>\n",
       "</table>\n"
      ],
      "text/latex": [
       "A data.frame: 20 × 3\n",
       "\\begin{tabular}{lll}\n",
       " len & supp & dose\\\\\n",
       " <dbl> & <fct> & <dbl>\\\\\n",
       "\\hline\n",
       "\t  4.2 & VC & 0.5\\\\\n",
       "\t  5.2 & VC & 0.5\\\\\n",
       "\t  5.8 & VC & 0.5\\\\\n",
       "\t  6.4 & VC & 0.5\\\\\n",
       "\t  7.0 & VC & 0.5\\\\\n",
       "\t  7.3 & VC & 0.5\\\\\n",
       "\t  8.2 & OJ & 0.5\\\\\n",
       "\t  9.4 & OJ & 0.5\\\\\n",
       "\t  9.7 & OJ & 0.5\\\\\n",
       "\t  9.7 & OJ & 0.5\\\\\n",
       "\t 10.0 & VC & 0.5\\\\\n",
       "\t 10.0 & OJ & 0.5\\\\\n",
       "\t 11.2 & VC & 0.5\\\\\n",
       "\t 11.2 & VC & 0.5\\\\\n",
       "\t 11.5 & VC & 0.5\\\\\n",
       "\t 14.5 & OJ & 0.5\\\\\n",
       "\t 15.2 & OJ & 0.5\\\\\n",
       "\t 16.5 & OJ & 0.5\\\\\n",
       "\t 17.6 & OJ & 0.5\\\\\n",
       "\t 21.5 & OJ & 0.5\\\\\n",
       "\\end{tabular}\n"
      ],
      "text/markdown": [
       "\n",
       "A data.frame: 20 × 3\n",
       "\n",
       "| len &lt;dbl&gt; | supp &lt;fct&gt; | dose &lt;dbl&gt; |\n",
       "|---|---|---|\n",
       "|  4.2 | VC | 0.5 |\n",
       "|  5.2 | VC | 0.5 |\n",
       "|  5.8 | VC | 0.5 |\n",
       "|  6.4 | VC | 0.5 |\n",
       "|  7.0 | VC | 0.5 |\n",
       "|  7.3 | VC | 0.5 |\n",
       "|  8.2 | OJ | 0.5 |\n",
       "|  9.4 | OJ | 0.5 |\n",
       "|  9.7 | OJ | 0.5 |\n",
       "|  9.7 | OJ | 0.5 |\n",
       "| 10.0 | VC | 0.5 |\n",
       "| 10.0 | OJ | 0.5 |\n",
       "| 11.2 | VC | 0.5 |\n",
       "| 11.2 | VC | 0.5 |\n",
       "| 11.5 | VC | 0.5 |\n",
       "| 14.5 | OJ | 0.5 |\n",
       "| 15.2 | OJ | 0.5 |\n",
       "| 16.5 | OJ | 0.5 |\n",
       "| 17.6 | OJ | 0.5 |\n",
       "| 21.5 | OJ | 0.5 |\n",
       "\n"
      ],
      "text/plain": [
       "   len  supp dose\n",
       "1   4.2 VC   0.5 \n",
       "2   5.2 VC   0.5 \n",
       "3   5.8 VC   0.5 \n",
       "4   6.4 VC   0.5 \n",
       "5   7.0 VC   0.5 \n",
       "6   7.3 VC   0.5 \n",
       "7   8.2 OJ   0.5 \n",
       "8   9.4 OJ   0.5 \n",
       "9   9.7 OJ   0.5 \n",
       "10  9.7 OJ   0.5 \n",
       "11 10.0 VC   0.5 \n",
       "12 10.0 OJ   0.5 \n",
       "13 11.2 VC   0.5 \n",
       "14 11.2 VC   0.5 \n",
       "15 11.5 VC   0.5 \n",
       "16 14.5 OJ   0.5 \n",
       "17 15.2 OJ   0.5 \n",
       "18 16.5 OJ   0.5 \n",
       "19 17.6 OJ   0.5 \n",
       "20 21.5 OJ   0.5 "
      ]
     },
     "metadata": {},
     "output_type": "display_data"
    }
   ],
   "source": [
    "arrange(filtered_tg, len)"
   ]
  },
  {
   "cell_type": "code",
   "execution_count": 19,
   "metadata": {
    "vscode": {
     "languageId": "r"
    }
   },
   "outputs": [
    {
     "data": {
      "text/html": [
       "<table class=\"dataframe\">\n",
       "<caption>A data.frame: 20 × 3</caption>\n",
       "<thead>\n",
       "\t<tr><th scope=col>len</th><th scope=col>supp</th><th scope=col>dose</th></tr>\n",
       "\t<tr><th scope=col>&lt;dbl&gt;</th><th scope=col>&lt;fct&gt;</th><th scope=col>&lt;dbl&gt;</th></tr>\n",
       "</thead>\n",
       "<tbody>\n",
       "\t<tr><td> 4.2</td><td>VC</td><td>0.5</td></tr>\n",
       "\t<tr><td> 5.2</td><td>VC</td><td>0.5</td></tr>\n",
       "\t<tr><td> 5.8</td><td>VC</td><td>0.5</td></tr>\n",
       "\t<tr><td> 6.4</td><td>VC</td><td>0.5</td></tr>\n",
       "\t<tr><td> 7.0</td><td>VC</td><td>0.5</td></tr>\n",
       "\t<tr><td> 7.3</td><td>VC</td><td>0.5</td></tr>\n",
       "\t<tr><td> 8.2</td><td>OJ</td><td>0.5</td></tr>\n",
       "\t<tr><td> 9.4</td><td>OJ</td><td>0.5</td></tr>\n",
       "\t<tr><td> 9.7</td><td>OJ</td><td>0.5</td></tr>\n",
       "\t<tr><td> 9.7</td><td>OJ</td><td>0.5</td></tr>\n",
       "\t<tr><td>10.0</td><td>VC</td><td>0.5</td></tr>\n",
       "\t<tr><td>10.0</td><td>OJ</td><td>0.5</td></tr>\n",
       "\t<tr><td>11.2</td><td>VC</td><td>0.5</td></tr>\n",
       "\t<tr><td>11.2</td><td>VC</td><td>0.5</td></tr>\n",
       "\t<tr><td>11.5</td><td>VC</td><td>0.5</td></tr>\n",
       "\t<tr><td>14.5</td><td>OJ</td><td>0.5</td></tr>\n",
       "\t<tr><td>15.2</td><td>OJ</td><td>0.5</td></tr>\n",
       "\t<tr><td>16.5</td><td>OJ</td><td>0.5</td></tr>\n",
       "\t<tr><td>17.6</td><td>OJ</td><td>0.5</td></tr>\n",
       "\t<tr><td>21.5</td><td>OJ</td><td>0.5</td></tr>\n",
       "</tbody>\n",
       "</table>\n"
      ],
      "text/latex": [
       "A data.frame: 20 × 3\n",
       "\\begin{tabular}{lll}\n",
       " len & supp & dose\\\\\n",
       " <dbl> & <fct> & <dbl>\\\\\n",
       "\\hline\n",
       "\t  4.2 & VC & 0.5\\\\\n",
       "\t  5.2 & VC & 0.5\\\\\n",
       "\t  5.8 & VC & 0.5\\\\\n",
       "\t  6.4 & VC & 0.5\\\\\n",
       "\t  7.0 & VC & 0.5\\\\\n",
       "\t  7.3 & VC & 0.5\\\\\n",
       "\t  8.2 & OJ & 0.5\\\\\n",
       "\t  9.4 & OJ & 0.5\\\\\n",
       "\t  9.7 & OJ & 0.5\\\\\n",
       "\t  9.7 & OJ & 0.5\\\\\n",
       "\t 10.0 & VC & 0.5\\\\\n",
       "\t 10.0 & OJ & 0.5\\\\\n",
       "\t 11.2 & VC & 0.5\\\\\n",
       "\t 11.2 & VC & 0.5\\\\\n",
       "\t 11.5 & VC & 0.5\\\\\n",
       "\t 14.5 & OJ & 0.5\\\\\n",
       "\t 15.2 & OJ & 0.5\\\\\n",
       "\t 16.5 & OJ & 0.5\\\\\n",
       "\t 17.6 & OJ & 0.5\\\\\n",
       "\t 21.5 & OJ & 0.5\\\\\n",
       "\\end{tabular}\n"
      ],
      "text/markdown": [
       "\n",
       "A data.frame: 20 × 3\n",
       "\n",
       "| len &lt;dbl&gt; | supp &lt;fct&gt; | dose &lt;dbl&gt; |\n",
       "|---|---|---|\n",
       "|  4.2 | VC | 0.5 |\n",
       "|  5.2 | VC | 0.5 |\n",
       "|  5.8 | VC | 0.5 |\n",
       "|  6.4 | VC | 0.5 |\n",
       "|  7.0 | VC | 0.5 |\n",
       "|  7.3 | VC | 0.5 |\n",
       "|  8.2 | OJ | 0.5 |\n",
       "|  9.4 | OJ | 0.5 |\n",
       "|  9.7 | OJ | 0.5 |\n",
       "|  9.7 | OJ | 0.5 |\n",
       "| 10.0 | VC | 0.5 |\n",
       "| 10.0 | OJ | 0.5 |\n",
       "| 11.2 | VC | 0.5 |\n",
       "| 11.2 | VC | 0.5 |\n",
       "| 11.5 | VC | 0.5 |\n",
       "| 14.5 | OJ | 0.5 |\n",
       "| 15.2 | OJ | 0.5 |\n",
       "| 16.5 | OJ | 0.5 |\n",
       "| 17.6 | OJ | 0.5 |\n",
       "| 21.5 | OJ | 0.5 |\n",
       "\n"
      ],
      "text/plain": [
       "   len  supp dose\n",
       "1   4.2 VC   0.5 \n",
       "2   5.2 VC   0.5 \n",
       "3   5.8 VC   0.5 \n",
       "4   6.4 VC   0.5 \n",
       "5   7.0 VC   0.5 \n",
       "6   7.3 VC   0.5 \n",
       "7   8.2 OJ   0.5 \n",
       "8   9.4 OJ   0.5 \n",
       "9   9.7 OJ   0.5 \n",
       "10  9.7 OJ   0.5 \n",
       "11 10.0 VC   0.5 \n",
       "12 10.0 OJ   0.5 \n",
       "13 11.2 VC   0.5 \n",
       "14 11.2 VC   0.5 \n",
       "15 11.5 VC   0.5 \n",
       "16 14.5 OJ   0.5 \n",
       "17 15.2 OJ   0.5 \n",
       "18 16.5 OJ   0.5 \n",
       "19 17.6 OJ   0.5 \n",
       "20 21.5 OJ   0.5 "
      ]
     },
     "metadata": {},
     "output_type": "display_data"
    }
   ],
   "source": [
    "arrange(filter(ToothGrowth, dose==0.5), len)"
   ]
  },
  {
   "cell_type": "code",
   "execution_count": 21,
   "metadata": {
    "vscode": {
     "languageId": "r"
    }
   },
   "outputs": [
    {
     "data": {
      "text/html": [
       "<table class=\"dataframe\">\n",
       "<caption>A data.frame: 20 × 3</caption>\n",
       "<thead>\n",
       "\t<tr><th scope=col>len</th><th scope=col>supp</th><th scope=col>dose</th></tr>\n",
       "\t<tr><th scope=col>&lt;dbl&gt;</th><th scope=col>&lt;fct&gt;</th><th scope=col>&lt;dbl&gt;</th></tr>\n",
       "</thead>\n",
       "<tbody>\n",
       "\t<tr><td> 4.2</td><td>VC</td><td>0.5</td></tr>\n",
       "\t<tr><td> 5.2</td><td>VC</td><td>0.5</td></tr>\n",
       "\t<tr><td> 5.8</td><td>VC</td><td>0.5</td></tr>\n",
       "\t<tr><td> 6.4</td><td>VC</td><td>0.5</td></tr>\n",
       "\t<tr><td> 7.0</td><td>VC</td><td>0.5</td></tr>\n",
       "\t<tr><td> 7.3</td><td>VC</td><td>0.5</td></tr>\n",
       "\t<tr><td> 8.2</td><td>OJ</td><td>0.5</td></tr>\n",
       "\t<tr><td> 9.4</td><td>OJ</td><td>0.5</td></tr>\n",
       "\t<tr><td> 9.7</td><td>OJ</td><td>0.5</td></tr>\n",
       "\t<tr><td> 9.7</td><td>OJ</td><td>0.5</td></tr>\n",
       "\t<tr><td>10.0</td><td>VC</td><td>0.5</td></tr>\n",
       "\t<tr><td>10.0</td><td>OJ</td><td>0.5</td></tr>\n",
       "\t<tr><td>11.2</td><td>VC</td><td>0.5</td></tr>\n",
       "\t<tr><td>11.2</td><td>VC</td><td>0.5</td></tr>\n",
       "\t<tr><td>11.5</td><td>VC</td><td>0.5</td></tr>\n",
       "\t<tr><td>14.5</td><td>OJ</td><td>0.5</td></tr>\n",
       "\t<tr><td>15.2</td><td>OJ</td><td>0.5</td></tr>\n",
       "\t<tr><td>16.5</td><td>OJ</td><td>0.5</td></tr>\n",
       "\t<tr><td>17.6</td><td>OJ</td><td>0.5</td></tr>\n",
       "\t<tr><td>21.5</td><td>OJ</td><td>0.5</td></tr>\n",
       "</tbody>\n",
       "</table>\n"
      ],
      "text/latex": [
       "A data.frame: 20 × 3\n",
       "\\begin{tabular}{lll}\n",
       " len & supp & dose\\\\\n",
       " <dbl> & <fct> & <dbl>\\\\\n",
       "\\hline\n",
       "\t  4.2 & VC & 0.5\\\\\n",
       "\t  5.2 & VC & 0.5\\\\\n",
       "\t  5.8 & VC & 0.5\\\\\n",
       "\t  6.4 & VC & 0.5\\\\\n",
       "\t  7.0 & VC & 0.5\\\\\n",
       "\t  7.3 & VC & 0.5\\\\\n",
       "\t  8.2 & OJ & 0.5\\\\\n",
       "\t  9.4 & OJ & 0.5\\\\\n",
       "\t  9.7 & OJ & 0.5\\\\\n",
       "\t  9.7 & OJ & 0.5\\\\\n",
       "\t 10.0 & VC & 0.5\\\\\n",
       "\t 10.0 & OJ & 0.5\\\\\n",
       "\t 11.2 & VC & 0.5\\\\\n",
       "\t 11.2 & VC & 0.5\\\\\n",
       "\t 11.5 & VC & 0.5\\\\\n",
       "\t 14.5 & OJ & 0.5\\\\\n",
       "\t 15.2 & OJ & 0.5\\\\\n",
       "\t 16.5 & OJ & 0.5\\\\\n",
       "\t 17.6 & OJ & 0.5\\\\\n",
       "\t 21.5 & OJ & 0.5\\\\\n",
       "\\end{tabular}\n"
      ],
      "text/markdown": [
       "\n",
       "A data.frame: 20 × 3\n",
       "\n",
       "| len &lt;dbl&gt; | supp &lt;fct&gt; | dose &lt;dbl&gt; |\n",
       "|---|---|---|\n",
       "|  4.2 | VC | 0.5 |\n",
       "|  5.2 | VC | 0.5 |\n",
       "|  5.8 | VC | 0.5 |\n",
       "|  6.4 | VC | 0.5 |\n",
       "|  7.0 | VC | 0.5 |\n",
       "|  7.3 | VC | 0.5 |\n",
       "|  8.2 | OJ | 0.5 |\n",
       "|  9.4 | OJ | 0.5 |\n",
       "|  9.7 | OJ | 0.5 |\n",
       "|  9.7 | OJ | 0.5 |\n",
       "| 10.0 | VC | 0.5 |\n",
       "| 10.0 | OJ | 0.5 |\n",
       "| 11.2 | VC | 0.5 |\n",
       "| 11.2 | VC | 0.5 |\n",
       "| 11.5 | VC | 0.5 |\n",
       "| 14.5 | OJ | 0.5 |\n",
       "| 15.2 | OJ | 0.5 |\n",
       "| 16.5 | OJ | 0.5 |\n",
       "| 17.6 | OJ | 0.5 |\n",
       "| 21.5 | OJ | 0.5 |\n",
       "\n"
      ],
      "text/plain": [
       "   len  supp dose\n",
       "1   4.2 VC   0.5 \n",
       "2   5.2 VC   0.5 \n",
       "3   5.8 VC   0.5 \n",
       "4   6.4 VC   0.5 \n",
       "5   7.0 VC   0.5 \n",
       "6   7.3 VC   0.5 \n",
       "7   8.2 OJ   0.5 \n",
       "8   9.4 OJ   0.5 \n",
       "9   9.7 OJ   0.5 \n",
       "10  9.7 OJ   0.5 \n",
       "11 10.0 VC   0.5 \n",
       "12 10.0 OJ   0.5 \n",
       "13 11.2 VC   0.5 \n",
       "14 11.2 VC   0.5 \n",
       "15 11.5 VC   0.5 \n",
       "16 14.5 OJ   0.5 \n",
       "17 15.2 OJ   0.5 \n",
       "18 16.5 OJ   0.5 \n",
       "19 17.6 OJ   0.5 \n",
       "20 21.5 OJ   0.5 "
      ]
     },
     "metadata": {},
     "output_type": "display_data"
    }
   ],
   "source": [
    "filtered_toothgrowth<- ToothGrowth%>%filter(dose==0.5)%>%arrange(len) # using pipes\n",
    "filtered_toothgrowth"
   ]
  },
  {
   "cell_type": "code",
   "execution_count": 22,
   "metadata": {
    "vscode": {
     "languageId": "r"
    }
   },
   "outputs": [
    {
     "data": {
      "text/html": [
       "<table class=\"dataframe\">\n",
       "<caption>A tibble: 2 × 3</caption>\n",
       "<thead>\n",
       "\t<tr><th scope=col>supp</th><th scope=col>mean_len</th><th scope=col>.group</th></tr>\n",
       "\t<tr><th scope=col>&lt;fct&gt;</th><th scope=col>&lt;dbl&gt;</th><th scope=col>&lt;chr&gt;</th></tr>\n",
       "</thead>\n",
       "<tbody>\n",
       "\t<tr><td>OJ</td><td>13.23</td><td>drop</td></tr>\n",
       "\t<tr><td>VC</td><td> 7.98</td><td>drop</td></tr>\n",
       "</tbody>\n",
       "</table>\n"
      ],
      "text/latex": [
       "A tibble: 2 × 3\n",
       "\\begin{tabular}{lll}\n",
       " supp & mean\\_len & .group\\\\\n",
       " <fct> & <dbl> & <chr>\\\\\n",
       "\\hline\n",
       "\t OJ & 13.23 & drop\\\\\n",
       "\t VC &  7.98 & drop\\\\\n",
       "\\end{tabular}\n"
      ],
      "text/markdown": [
       "\n",
       "A tibble: 2 × 3\n",
       "\n",
       "| supp &lt;fct&gt; | mean_len &lt;dbl&gt; | .group &lt;chr&gt; |\n",
       "|---|---|---|\n",
       "| OJ | 13.23 | drop |\n",
       "| VC |  7.98 | drop |\n",
       "\n"
      ],
      "text/plain": [
       "  supp mean_len .group\n",
       "1 OJ   13.23    drop  \n",
       "2 VC    7.98    drop  "
      ]
     },
     "metadata": {},
     "output_type": "display_data"
    }
   ],
   "source": [
    "filtered_toothgrowth <- ToothGrowth %>%\n",
    "    filter(dose == 0.5) %>%\n",
    "    group_by(supp) %>%\n",
    "    summarize(mean_len= mean(len, na.rm=T), .group= 'drop') # using pipes\n",
    "filtered_toothgrowth"
   ]
  },
  {
   "cell_type": "code",
   "execution_count": null,
   "metadata": {
    "vscode": {
     "languageId": "r"
    }
   },
   "outputs": [],
   "source": []
  }
 ],
 "metadata": {
  "kernelspec": {
   "display_name": "R",
   "language": "R",
   "name": "ir"
  },
  "language_info": {
   "codemirror_mode": "r",
   "file_extension": ".r",
   "mimetype": "text/x-r-source",
   "name": "R",
   "pygments_lexer": "r",
   "version": "4.1.3"
  },
  "orig_nbformat": 4
 },
 "nbformat": 4,
 "nbformat_minor": 2
}
