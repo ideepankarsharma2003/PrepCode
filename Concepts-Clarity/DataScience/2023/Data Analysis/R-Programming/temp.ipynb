{
 "cells": [
  {
   "cell_type": "markdown",
   "metadata": {},
   "source": []
  },
  {
   "cell_type": "code",
   "execution_count": 3,
   "metadata": {
    "vscode": {
     "languageId": "r"
    }
   },
   "outputs": [
    {
     "data": {
      "text/html": [
       "'hello'"
      ],
      "text/latex": [
       "'hello'"
      ],
      "text/markdown": [
       "'hello'"
      ],
      "text/plain": [
       "[1] \"hello\""
      ]
     },
     "metadata": {},
     "output_type": "display_data"
    }
   ],
   "source": [
    "a <- \"hello\"\n",
    "a"
   ]
  },
  {
   "cell_type": "code",
   "execution_count": 4,
   "metadata": {
    "vscode": {
     "languageId": "r"
    }
   },
   "outputs": [],
   "source": [
    "library('palmerpenguins')"
   ]
  },
  {
   "cell_type": "code",
   "execution_count": 5,
   "metadata": {
    "vscode": {
     "languageId": "r"
    }
   },
   "outputs": [
    {
     "data": {
      "text/plain": [
       "      species          island    bill_length_mm  bill_depth_mm  \n",
       " Adelie   :152   Biscoe   :168   Min.   :32.10   Min.   :13.10  \n",
       " Chinstrap: 68   Dream    :124   1st Qu.:39.23   1st Qu.:15.60  \n",
       " Gentoo   :124   Torgersen: 52   Median :44.45   Median :17.30  \n",
       "                                 Mean   :43.92   Mean   :17.15  \n",
       "                                 3rd Qu.:48.50   3rd Qu.:18.70  \n",
       "                                 Max.   :59.60   Max.   :21.50  \n",
       "                                 NA's   :2       NA's   :2      \n",
       " flipper_length_mm  body_mass_g       sex           year     \n",
       " Min.   :172.0     Min.   :2700   female:165   Min.   :2007  \n",
       " 1st Qu.:190.0     1st Qu.:3550   male  :168   1st Qu.:2007  \n",
       " Median :197.0     Median :4050   NA's  : 11   Median :2008  \n",
       " Mean   :200.9     Mean   :4202                Mean   :2008  \n",
       " 3rd Qu.:213.0     3rd Qu.:4750                3rd Qu.:2009  \n",
       " Max.   :231.0     Max.   :6300                Max.   :2009  \n",
       " NA's   :2         NA's   :2                                 "
      ]
     },
     "metadata": {},
     "output_type": "display_data"
    }
   ],
   "source": [
    "summary(penguins)"
   ]
  },
  {
   "cell_type": "code",
   "execution_count": 6,
   "metadata": {
    "vscode": {
     "languageId": "r"
    }
   },
   "outputs": [
    {
     "data": {
      "text/html": [
       "<table class=\"dataframe\">\n",
       "<caption>A data.frame: 344 × 8</caption>\n",
       "<thead>\n",
       "\t<tr><th scope=col>species</th><th scope=col>island</th><th scope=col>bill_length_mm</th><th scope=col>bill_depth_mm</th><th scope=col>flipper_length_mm</th><th scope=col>body_mass_g</th><th scope=col>sex</th><th scope=col>year</th></tr>\n",
       "\t<tr><th scope=col>&lt;fct&gt;</th><th scope=col>&lt;fct&gt;</th><th scope=col>&lt;dbl&gt;</th><th scope=col>&lt;dbl&gt;</th><th scope=col>&lt;int&gt;</th><th scope=col>&lt;int&gt;</th><th scope=col>&lt;fct&gt;</th><th scope=col>&lt;int&gt;</th></tr>\n",
       "</thead>\n",
       "<tbody>\n",
       "\t<tr><td>Adelie</td><td>Torgersen</td><td>39.1</td><td>18.7</td><td>181</td><td>3750</td><td>male  </td><td>2007</td></tr>\n",
       "\t<tr><td>Adelie</td><td>Torgersen</td><td>39.5</td><td>17.4</td><td>186</td><td>3800</td><td>female</td><td>2007</td></tr>\n",
       "\t<tr><td>Adelie</td><td>Torgersen</td><td>40.3</td><td>18.0</td><td>195</td><td>3250</td><td>female</td><td>2007</td></tr>\n",
       "\t<tr><td>Adelie</td><td>Torgersen</td><td>  NA</td><td>  NA</td><td> NA</td><td>  NA</td><td>NA    </td><td>2007</td></tr>\n",
       "\t<tr><td>Adelie</td><td>Torgersen</td><td>36.7</td><td>19.3</td><td>193</td><td>3450</td><td>female</td><td>2007</td></tr>\n",
       "\t<tr><td>Adelie</td><td>Torgersen</td><td>39.3</td><td>20.6</td><td>190</td><td>3650</td><td>male  </td><td>2007</td></tr>\n",
       "\t<tr><td>Adelie</td><td>Torgersen</td><td>38.9</td><td>17.8</td><td>181</td><td>3625</td><td>female</td><td>2007</td></tr>\n",
       "\t<tr><td>Adelie</td><td>Torgersen</td><td>39.2</td><td>19.6</td><td>195</td><td>4675</td><td>male  </td><td>2007</td></tr>\n",
       "\t<tr><td>Adelie</td><td>Torgersen</td><td>34.1</td><td>18.1</td><td>193</td><td>3475</td><td>NA    </td><td>2007</td></tr>\n",
       "\t<tr><td>Adelie</td><td>Torgersen</td><td>42.0</td><td>20.2</td><td>190</td><td>4250</td><td>NA    </td><td>2007</td></tr>\n",
       "\t<tr><td>Adelie</td><td>Torgersen</td><td>37.8</td><td>17.1</td><td>186</td><td>3300</td><td>NA    </td><td>2007</td></tr>\n",
       "\t<tr><td>Adelie</td><td>Torgersen</td><td>37.8</td><td>17.3</td><td>180</td><td>3700</td><td>NA    </td><td>2007</td></tr>\n",
       "\t<tr><td>Adelie</td><td>Torgersen</td><td>41.1</td><td>17.6</td><td>182</td><td>3200</td><td>female</td><td>2007</td></tr>\n",
       "\t<tr><td>Adelie</td><td>Torgersen</td><td>38.6</td><td>21.2</td><td>191</td><td>3800</td><td>male  </td><td>2007</td></tr>\n",
       "\t<tr><td>Adelie</td><td>Torgersen</td><td>34.6</td><td>21.1</td><td>198</td><td>4400</td><td>male  </td><td>2007</td></tr>\n",
       "\t<tr><td>Adelie</td><td>Torgersen</td><td>36.6</td><td>17.8</td><td>185</td><td>3700</td><td>female</td><td>2007</td></tr>\n",
       "\t<tr><td>Adelie</td><td>Torgersen</td><td>38.7</td><td>19.0</td><td>195</td><td>3450</td><td>female</td><td>2007</td></tr>\n",
       "\t<tr><td>Adelie</td><td>Torgersen</td><td>42.5</td><td>20.7</td><td>197</td><td>4500</td><td>male  </td><td>2007</td></tr>\n",
       "\t<tr><td>Adelie</td><td>Torgersen</td><td>34.4</td><td>18.4</td><td>184</td><td>3325</td><td>female</td><td>2007</td></tr>\n",
       "\t<tr><td>Adelie</td><td>Torgersen</td><td>46.0</td><td>21.5</td><td>194</td><td>4200</td><td>male  </td><td>2007</td></tr>\n",
       "\t<tr><td>Adelie</td><td>Biscoe   </td><td>37.8</td><td>18.3</td><td>174</td><td>3400</td><td>female</td><td>2007</td></tr>\n",
       "\t<tr><td>Adelie</td><td>Biscoe   </td><td>37.7</td><td>18.7</td><td>180</td><td>3600</td><td>male  </td><td>2007</td></tr>\n",
       "\t<tr><td>Adelie</td><td>Biscoe   </td><td>35.9</td><td>19.2</td><td>189</td><td>3800</td><td>female</td><td>2007</td></tr>\n",
       "\t<tr><td>Adelie</td><td>Biscoe   </td><td>38.2</td><td>18.1</td><td>185</td><td>3950</td><td>male  </td><td>2007</td></tr>\n",
       "\t<tr><td>Adelie</td><td>Biscoe   </td><td>38.8</td><td>17.2</td><td>180</td><td>3800</td><td>male  </td><td>2007</td></tr>\n",
       "\t<tr><td>Adelie</td><td>Biscoe   </td><td>35.3</td><td>18.9</td><td>187</td><td>3800</td><td>female</td><td>2007</td></tr>\n",
       "\t<tr><td>Adelie</td><td>Biscoe   </td><td>40.6</td><td>18.6</td><td>183</td><td>3550</td><td>male  </td><td>2007</td></tr>\n",
       "\t<tr><td>Adelie</td><td>Biscoe   </td><td>40.5</td><td>17.9</td><td>187</td><td>3200</td><td>female</td><td>2007</td></tr>\n",
       "\t<tr><td>Adelie</td><td>Biscoe   </td><td>37.9</td><td>18.6</td><td>172</td><td>3150</td><td>female</td><td>2007</td></tr>\n",
       "\t<tr><td>Adelie</td><td>Biscoe   </td><td>40.5</td><td>18.9</td><td>180</td><td>3950</td><td>male  </td><td>2007</td></tr>\n",
       "\t<tr><td>...</td><td>...</td><td>...</td><td>...</td><td>...</td><td>...</td><td>...</td><td>...</td></tr>\n",
       "\t<tr><td>Chinstrap</td><td>Dream</td><td>46.9</td><td>16.6</td><td>192</td><td>2700</td><td>female</td><td>2008</td></tr>\n",
       "\t<tr><td>Chinstrap</td><td>Dream</td><td>53.5</td><td>19.9</td><td>205</td><td>4500</td><td>male  </td><td>2008</td></tr>\n",
       "\t<tr><td>Chinstrap</td><td>Dream</td><td>49.0</td><td>19.5</td><td>210</td><td>3950</td><td>male  </td><td>2008</td></tr>\n",
       "\t<tr><td>Chinstrap</td><td>Dream</td><td>46.2</td><td>17.5</td><td>187</td><td>3650</td><td>female</td><td>2008</td></tr>\n",
       "\t<tr><td>Chinstrap</td><td>Dream</td><td>50.9</td><td>19.1</td><td>196</td><td>3550</td><td>male  </td><td>2008</td></tr>\n",
       "\t<tr><td>Chinstrap</td><td>Dream</td><td>45.5</td><td>17.0</td><td>196</td><td>3500</td><td>female</td><td>2008</td></tr>\n",
       "\t<tr><td>Chinstrap</td><td>Dream</td><td>50.9</td><td>17.9</td><td>196</td><td>3675</td><td>female</td><td>2009</td></tr>\n",
       "\t<tr><td>Chinstrap</td><td>Dream</td><td>50.8</td><td>18.5</td><td>201</td><td>4450</td><td>male  </td><td>2009</td></tr>\n",
       "\t<tr><td>Chinstrap</td><td>Dream</td><td>50.1</td><td>17.9</td><td>190</td><td>3400</td><td>female</td><td>2009</td></tr>\n",
       "\t<tr><td>Chinstrap</td><td>Dream</td><td>49.0</td><td>19.6</td><td>212</td><td>4300</td><td>male  </td><td>2009</td></tr>\n",
       "\t<tr><td>Chinstrap</td><td>Dream</td><td>51.5</td><td>18.7</td><td>187</td><td>3250</td><td>male  </td><td>2009</td></tr>\n",
       "\t<tr><td>Chinstrap</td><td>Dream</td><td>49.8</td><td>17.3</td><td>198</td><td>3675</td><td>female</td><td>2009</td></tr>\n",
       "\t<tr><td>Chinstrap</td><td>Dream</td><td>48.1</td><td>16.4</td><td>199</td><td>3325</td><td>female</td><td>2009</td></tr>\n",
       "\t<tr><td>Chinstrap</td><td>Dream</td><td>51.4</td><td>19.0</td><td>201</td><td>3950</td><td>male  </td><td>2009</td></tr>\n",
       "\t<tr><td>Chinstrap</td><td>Dream</td><td>45.7</td><td>17.3</td><td>193</td><td>3600</td><td>female</td><td>2009</td></tr>\n",
       "\t<tr><td>Chinstrap</td><td>Dream</td><td>50.7</td><td>19.7</td><td>203</td><td>4050</td><td>male  </td><td>2009</td></tr>\n",
       "\t<tr><td>Chinstrap</td><td>Dream</td><td>42.5</td><td>17.3</td><td>187</td><td>3350</td><td>female</td><td>2009</td></tr>\n",
       "\t<tr><td>Chinstrap</td><td>Dream</td><td>52.2</td><td>18.8</td><td>197</td><td>3450</td><td>male  </td><td>2009</td></tr>\n",
       "\t<tr><td>Chinstrap</td><td>Dream</td><td>45.2</td><td>16.6</td><td>191</td><td>3250</td><td>female</td><td>2009</td></tr>\n",
       "\t<tr><td>Chinstrap</td><td>Dream</td><td>49.3</td><td>19.9</td><td>203</td><td>4050</td><td>male  </td><td>2009</td></tr>\n",
       "\t<tr><td>Chinstrap</td><td>Dream</td><td>50.2</td><td>18.8</td><td>202</td><td>3800</td><td>male  </td><td>2009</td></tr>\n",
       "\t<tr><td>Chinstrap</td><td>Dream</td><td>45.6</td><td>19.4</td><td>194</td><td>3525</td><td>female</td><td>2009</td></tr>\n",
       "\t<tr><td>Chinstrap</td><td>Dream</td><td>51.9</td><td>19.5</td><td>206</td><td>3950</td><td>male  </td><td>2009</td></tr>\n",
       "\t<tr><td>Chinstrap</td><td>Dream</td><td>46.8</td><td>16.5</td><td>189</td><td>3650</td><td>female</td><td>2009</td></tr>\n",
       "\t<tr><td>Chinstrap</td><td>Dream</td><td>45.7</td><td>17.0</td><td>195</td><td>3650</td><td>female</td><td>2009</td></tr>\n",
       "\t<tr><td>Chinstrap</td><td>Dream</td><td>55.8</td><td>19.8</td><td>207</td><td>4000</td><td>male  </td><td>2009</td></tr>\n",
       "\t<tr><td>Chinstrap</td><td>Dream</td><td>43.5</td><td>18.1</td><td>202</td><td>3400</td><td>female</td><td>2009</td></tr>\n",
       "\t<tr><td>Chinstrap</td><td>Dream</td><td>49.6</td><td>18.2</td><td>193</td><td>3775</td><td>male  </td><td>2009</td></tr>\n",
       "\t<tr><td>Chinstrap</td><td>Dream</td><td>50.8</td><td>19.0</td><td>210</td><td>4100</td><td>male  </td><td>2009</td></tr>\n",
       "\t<tr><td>Chinstrap</td><td>Dream</td><td>50.2</td><td>18.7</td><td>198</td><td>3775</td><td>female</td><td>2009</td></tr>\n",
       "</tbody>\n",
       "</table>\n"
      ],
      "text/latex": [
       "A data.frame: 344 × 8\n",
       "\\begin{tabular}{llllllll}\n",
       " species & island & bill\\_length\\_mm & bill\\_depth\\_mm & flipper\\_length\\_mm & body\\_mass\\_g & sex & year\\\\\n",
       " <fct> & <fct> & <dbl> & <dbl> & <int> & <int> & <fct> & <int>\\\\\n",
       "\\hline\n",
       "\t Adelie & Torgersen & 39.1 & 18.7 & 181 & 3750 & male   & 2007\\\\\n",
       "\t Adelie & Torgersen & 39.5 & 17.4 & 186 & 3800 & female & 2007\\\\\n",
       "\t Adelie & Torgersen & 40.3 & 18.0 & 195 & 3250 & female & 2007\\\\\n",
       "\t Adelie & Torgersen &   NA &   NA &  NA &   NA & NA     & 2007\\\\\n",
       "\t Adelie & Torgersen & 36.7 & 19.3 & 193 & 3450 & female & 2007\\\\\n",
       "\t Adelie & Torgersen & 39.3 & 20.6 & 190 & 3650 & male   & 2007\\\\\n",
       "\t Adelie & Torgersen & 38.9 & 17.8 & 181 & 3625 & female & 2007\\\\\n",
       "\t Adelie & Torgersen & 39.2 & 19.6 & 195 & 4675 & male   & 2007\\\\\n",
       "\t Adelie & Torgersen & 34.1 & 18.1 & 193 & 3475 & NA     & 2007\\\\\n",
       "\t Adelie & Torgersen & 42.0 & 20.2 & 190 & 4250 & NA     & 2007\\\\\n",
       "\t Adelie & Torgersen & 37.8 & 17.1 & 186 & 3300 & NA     & 2007\\\\\n",
       "\t Adelie & Torgersen & 37.8 & 17.3 & 180 & 3700 & NA     & 2007\\\\\n",
       "\t Adelie & Torgersen & 41.1 & 17.6 & 182 & 3200 & female & 2007\\\\\n",
       "\t Adelie & Torgersen & 38.6 & 21.2 & 191 & 3800 & male   & 2007\\\\\n",
       "\t Adelie & Torgersen & 34.6 & 21.1 & 198 & 4400 & male   & 2007\\\\\n",
       "\t Adelie & Torgersen & 36.6 & 17.8 & 185 & 3700 & female & 2007\\\\\n",
       "\t Adelie & Torgersen & 38.7 & 19.0 & 195 & 3450 & female & 2007\\\\\n",
       "\t Adelie & Torgersen & 42.5 & 20.7 & 197 & 4500 & male   & 2007\\\\\n",
       "\t Adelie & Torgersen & 34.4 & 18.4 & 184 & 3325 & female & 2007\\\\\n",
       "\t Adelie & Torgersen & 46.0 & 21.5 & 194 & 4200 & male   & 2007\\\\\n",
       "\t Adelie & Biscoe    & 37.8 & 18.3 & 174 & 3400 & female & 2007\\\\\n",
       "\t Adelie & Biscoe    & 37.7 & 18.7 & 180 & 3600 & male   & 2007\\\\\n",
       "\t Adelie & Biscoe    & 35.9 & 19.2 & 189 & 3800 & female & 2007\\\\\n",
       "\t Adelie & Biscoe    & 38.2 & 18.1 & 185 & 3950 & male   & 2007\\\\\n",
       "\t Adelie & Biscoe    & 38.8 & 17.2 & 180 & 3800 & male   & 2007\\\\\n",
       "\t Adelie & Biscoe    & 35.3 & 18.9 & 187 & 3800 & female & 2007\\\\\n",
       "\t Adelie & Biscoe    & 40.6 & 18.6 & 183 & 3550 & male   & 2007\\\\\n",
       "\t Adelie & Biscoe    & 40.5 & 17.9 & 187 & 3200 & female & 2007\\\\\n",
       "\t Adelie & Biscoe    & 37.9 & 18.6 & 172 & 3150 & female & 2007\\\\\n",
       "\t Adelie & Biscoe    & 40.5 & 18.9 & 180 & 3950 & male   & 2007\\\\\n",
       "\t ... & ... & ... & ... & ... & ... & ... & ...\\\\\n",
       "\t Chinstrap & Dream & 46.9 & 16.6 & 192 & 2700 & female & 2008\\\\\n",
       "\t Chinstrap & Dream & 53.5 & 19.9 & 205 & 4500 & male   & 2008\\\\\n",
       "\t Chinstrap & Dream & 49.0 & 19.5 & 210 & 3950 & male   & 2008\\\\\n",
       "\t Chinstrap & Dream & 46.2 & 17.5 & 187 & 3650 & female & 2008\\\\\n",
       "\t Chinstrap & Dream & 50.9 & 19.1 & 196 & 3550 & male   & 2008\\\\\n",
       "\t Chinstrap & Dream & 45.5 & 17.0 & 196 & 3500 & female & 2008\\\\\n",
       "\t Chinstrap & Dream & 50.9 & 17.9 & 196 & 3675 & female & 2009\\\\\n",
       "\t Chinstrap & Dream & 50.8 & 18.5 & 201 & 4450 & male   & 2009\\\\\n",
       "\t Chinstrap & Dream & 50.1 & 17.9 & 190 & 3400 & female & 2009\\\\\n",
       "\t Chinstrap & Dream & 49.0 & 19.6 & 212 & 4300 & male   & 2009\\\\\n",
       "\t Chinstrap & Dream & 51.5 & 18.7 & 187 & 3250 & male   & 2009\\\\\n",
       "\t Chinstrap & Dream & 49.8 & 17.3 & 198 & 3675 & female & 2009\\\\\n",
       "\t Chinstrap & Dream & 48.1 & 16.4 & 199 & 3325 & female & 2009\\\\\n",
       "\t Chinstrap & Dream & 51.4 & 19.0 & 201 & 3950 & male   & 2009\\\\\n",
       "\t Chinstrap & Dream & 45.7 & 17.3 & 193 & 3600 & female & 2009\\\\\n",
       "\t Chinstrap & Dream & 50.7 & 19.7 & 203 & 4050 & male   & 2009\\\\\n",
       "\t Chinstrap & Dream & 42.5 & 17.3 & 187 & 3350 & female & 2009\\\\\n",
       "\t Chinstrap & Dream & 52.2 & 18.8 & 197 & 3450 & male   & 2009\\\\\n",
       "\t Chinstrap & Dream & 45.2 & 16.6 & 191 & 3250 & female & 2009\\\\\n",
       "\t Chinstrap & Dream & 49.3 & 19.9 & 203 & 4050 & male   & 2009\\\\\n",
       "\t Chinstrap & Dream & 50.2 & 18.8 & 202 & 3800 & male   & 2009\\\\\n",
       "\t Chinstrap & Dream & 45.6 & 19.4 & 194 & 3525 & female & 2009\\\\\n",
       "\t Chinstrap & Dream & 51.9 & 19.5 & 206 & 3950 & male   & 2009\\\\\n",
       "\t Chinstrap & Dream & 46.8 & 16.5 & 189 & 3650 & female & 2009\\\\\n",
       "\t Chinstrap & Dream & 45.7 & 17.0 & 195 & 3650 & female & 2009\\\\\n",
       "\t Chinstrap & Dream & 55.8 & 19.8 & 207 & 4000 & male   & 2009\\\\\n",
       "\t Chinstrap & Dream & 43.5 & 18.1 & 202 & 3400 & female & 2009\\\\\n",
       "\t Chinstrap & Dream & 49.6 & 18.2 & 193 & 3775 & male   & 2009\\\\\n",
       "\t Chinstrap & Dream & 50.8 & 19.0 & 210 & 4100 & male   & 2009\\\\\n",
       "\t Chinstrap & Dream & 50.2 & 18.7 & 198 & 3775 & female & 2009\\\\\n",
       "\\end{tabular}\n"
      ],
      "text/markdown": [
       "\n",
       "A data.frame: 344 × 8\n",
       "\n",
       "| species &lt;fct&gt; | island &lt;fct&gt; | bill_length_mm &lt;dbl&gt; | bill_depth_mm &lt;dbl&gt; | flipper_length_mm &lt;int&gt; | body_mass_g &lt;int&gt; | sex &lt;fct&gt; | year &lt;int&gt; |\n",
       "|---|---|---|---|---|---|---|---|\n",
       "| Adelie | Torgersen | 39.1 | 18.7 | 181 | 3750 | male   | 2007 |\n",
       "| Adelie | Torgersen | 39.5 | 17.4 | 186 | 3800 | female | 2007 |\n",
       "| Adelie | Torgersen | 40.3 | 18.0 | 195 | 3250 | female | 2007 |\n",
       "| Adelie | Torgersen |   NA |   NA |  NA |   NA | NA     | 2007 |\n",
       "| Adelie | Torgersen | 36.7 | 19.3 | 193 | 3450 | female | 2007 |\n",
       "| Adelie | Torgersen | 39.3 | 20.6 | 190 | 3650 | male   | 2007 |\n",
       "| Adelie | Torgersen | 38.9 | 17.8 | 181 | 3625 | female | 2007 |\n",
       "| Adelie | Torgersen | 39.2 | 19.6 | 195 | 4675 | male   | 2007 |\n",
       "| Adelie | Torgersen | 34.1 | 18.1 | 193 | 3475 | NA     | 2007 |\n",
       "| Adelie | Torgersen | 42.0 | 20.2 | 190 | 4250 | NA     | 2007 |\n",
       "| Adelie | Torgersen | 37.8 | 17.1 | 186 | 3300 | NA     | 2007 |\n",
       "| Adelie | Torgersen | 37.8 | 17.3 | 180 | 3700 | NA     | 2007 |\n",
       "| Adelie | Torgersen | 41.1 | 17.6 | 182 | 3200 | female | 2007 |\n",
       "| Adelie | Torgersen | 38.6 | 21.2 | 191 | 3800 | male   | 2007 |\n",
       "| Adelie | Torgersen | 34.6 | 21.1 | 198 | 4400 | male   | 2007 |\n",
       "| Adelie | Torgersen | 36.6 | 17.8 | 185 | 3700 | female | 2007 |\n",
       "| Adelie | Torgersen | 38.7 | 19.0 | 195 | 3450 | female | 2007 |\n",
       "| Adelie | Torgersen | 42.5 | 20.7 | 197 | 4500 | male   | 2007 |\n",
       "| Adelie | Torgersen | 34.4 | 18.4 | 184 | 3325 | female | 2007 |\n",
       "| Adelie | Torgersen | 46.0 | 21.5 | 194 | 4200 | male   | 2007 |\n",
       "| Adelie | Biscoe    | 37.8 | 18.3 | 174 | 3400 | female | 2007 |\n",
       "| Adelie | Biscoe    | 37.7 | 18.7 | 180 | 3600 | male   | 2007 |\n",
       "| Adelie | Biscoe    | 35.9 | 19.2 | 189 | 3800 | female | 2007 |\n",
       "| Adelie | Biscoe    | 38.2 | 18.1 | 185 | 3950 | male   | 2007 |\n",
       "| Adelie | Biscoe    | 38.8 | 17.2 | 180 | 3800 | male   | 2007 |\n",
       "| Adelie | Biscoe    | 35.3 | 18.9 | 187 | 3800 | female | 2007 |\n",
       "| Adelie | Biscoe    | 40.6 | 18.6 | 183 | 3550 | male   | 2007 |\n",
       "| Adelie | Biscoe    | 40.5 | 17.9 | 187 | 3200 | female | 2007 |\n",
       "| Adelie | Biscoe    | 37.9 | 18.6 | 172 | 3150 | female | 2007 |\n",
       "| Adelie | Biscoe    | 40.5 | 18.9 | 180 | 3950 | male   | 2007 |\n",
       "| ... | ... | ... | ... | ... | ... | ... | ... |\n",
       "| Chinstrap | Dream | 46.9 | 16.6 | 192 | 2700 | female | 2008 |\n",
       "| Chinstrap | Dream | 53.5 | 19.9 | 205 | 4500 | male   | 2008 |\n",
       "| Chinstrap | Dream | 49.0 | 19.5 | 210 | 3950 | male   | 2008 |\n",
       "| Chinstrap | Dream | 46.2 | 17.5 | 187 | 3650 | female | 2008 |\n",
       "| Chinstrap | Dream | 50.9 | 19.1 | 196 | 3550 | male   | 2008 |\n",
       "| Chinstrap | Dream | 45.5 | 17.0 | 196 | 3500 | female | 2008 |\n",
       "| Chinstrap | Dream | 50.9 | 17.9 | 196 | 3675 | female | 2009 |\n",
       "| Chinstrap | Dream | 50.8 | 18.5 | 201 | 4450 | male   | 2009 |\n",
       "| Chinstrap | Dream | 50.1 | 17.9 | 190 | 3400 | female | 2009 |\n",
       "| Chinstrap | Dream | 49.0 | 19.6 | 212 | 4300 | male   | 2009 |\n",
       "| Chinstrap | Dream | 51.5 | 18.7 | 187 | 3250 | male   | 2009 |\n",
       "| Chinstrap | Dream | 49.8 | 17.3 | 198 | 3675 | female | 2009 |\n",
       "| Chinstrap | Dream | 48.1 | 16.4 | 199 | 3325 | female | 2009 |\n",
       "| Chinstrap | Dream | 51.4 | 19.0 | 201 | 3950 | male   | 2009 |\n",
       "| Chinstrap | Dream | 45.7 | 17.3 | 193 | 3600 | female | 2009 |\n",
       "| Chinstrap | Dream | 50.7 | 19.7 | 203 | 4050 | male   | 2009 |\n",
       "| Chinstrap | Dream | 42.5 | 17.3 | 187 | 3350 | female | 2009 |\n",
       "| Chinstrap | Dream | 52.2 | 18.8 | 197 | 3450 | male   | 2009 |\n",
       "| Chinstrap | Dream | 45.2 | 16.6 | 191 | 3250 | female | 2009 |\n",
       "| Chinstrap | Dream | 49.3 | 19.9 | 203 | 4050 | male   | 2009 |\n",
       "| Chinstrap | Dream | 50.2 | 18.8 | 202 | 3800 | male   | 2009 |\n",
       "| Chinstrap | Dream | 45.6 | 19.4 | 194 | 3525 | female | 2009 |\n",
       "| Chinstrap | Dream | 51.9 | 19.5 | 206 | 3950 | male   | 2009 |\n",
       "| Chinstrap | Dream | 46.8 | 16.5 | 189 | 3650 | female | 2009 |\n",
       "| Chinstrap | Dream | 45.7 | 17.0 | 195 | 3650 | female | 2009 |\n",
       "| Chinstrap | Dream | 55.8 | 19.8 | 207 | 4000 | male   | 2009 |\n",
       "| Chinstrap | Dream | 43.5 | 18.1 | 202 | 3400 | female | 2009 |\n",
       "| Chinstrap | Dream | 49.6 | 18.2 | 193 | 3775 | male   | 2009 |\n",
       "| Chinstrap | Dream | 50.8 | 19.0 | 210 | 4100 | male   | 2009 |\n",
       "| Chinstrap | Dream | 50.2 | 18.7 | 198 | 3775 | female | 2009 |\n",
       "\n"
      ],
      "text/plain": [
       "    species   island    bill_length_mm bill_depth_mm flipper_length_mm\n",
       "1   Adelie    Torgersen 39.1           18.7          181              \n",
       "2   Adelie    Torgersen 39.5           17.4          186              \n",
       "3   Adelie    Torgersen 40.3           18.0          195              \n",
       "4   Adelie    Torgersen   NA             NA           NA              \n",
       "5   Adelie    Torgersen 36.7           19.3          193              \n",
       "6   Adelie    Torgersen 39.3           20.6          190              \n",
       "7   Adelie    Torgersen 38.9           17.8          181              \n",
       "8   Adelie    Torgersen 39.2           19.6          195              \n",
       "9   Adelie    Torgersen 34.1           18.1          193              \n",
       "10  Adelie    Torgersen 42.0           20.2          190              \n",
       "11  Adelie    Torgersen 37.8           17.1          186              \n",
       "12  Adelie    Torgersen 37.8           17.3          180              \n",
       "13  Adelie    Torgersen 41.1           17.6          182              \n",
       "14  Adelie    Torgersen 38.6           21.2          191              \n",
       "15  Adelie    Torgersen 34.6           21.1          198              \n",
       "16  Adelie    Torgersen 36.6           17.8          185              \n",
       "17  Adelie    Torgersen 38.7           19.0          195              \n",
       "18  Adelie    Torgersen 42.5           20.7          197              \n",
       "19  Adelie    Torgersen 34.4           18.4          184              \n",
       "20  Adelie    Torgersen 46.0           21.5          194              \n",
       "21  Adelie    Biscoe    37.8           18.3          174              \n",
       "22  Adelie    Biscoe    37.7           18.7          180              \n",
       "23  Adelie    Biscoe    35.9           19.2          189              \n",
       "24  Adelie    Biscoe    38.2           18.1          185              \n",
       "25  Adelie    Biscoe    38.8           17.2          180              \n",
       "26  Adelie    Biscoe    35.3           18.9          187              \n",
       "27  Adelie    Biscoe    40.6           18.6          183              \n",
       "28  Adelie    Biscoe    40.5           17.9          187              \n",
       "29  Adelie    Biscoe    37.9           18.6          172              \n",
       "30  Adelie    Biscoe    40.5           18.9          180              \n",
       "... ...       ...       ...            ...           ...              \n",
       "315 Chinstrap Dream     46.9           16.6          192              \n",
       "316 Chinstrap Dream     53.5           19.9          205              \n",
       "317 Chinstrap Dream     49.0           19.5          210              \n",
       "318 Chinstrap Dream     46.2           17.5          187              \n",
       "319 Chinstrap Dream     50.9           19.1          196              \n",
       "320 Chinstrap Dream     45.5           17.0          196              \n",
       "321 Chinstrap Dream     50.9           17.9          196              \n",
       "322 Chinstrap Dream     50.8           18.5          201              \n",
       "323 Chinstrap Dream     50.1           17.9          190              \n",
       "324 Chinstrap Dream     49.0           19.6          212              \n",
       "325 Chinstrap Dream     51.5           18.7          187              \n",
       "326 Chinstrap Dream     49.8           17.3          198              \n",
       "327 Chinstrap Dream     48.1           16.4          199              \n",
       "328 Chinstrap Dream     51.4           19.0          201              \n",
       "329 Chinstrap Dream     45.7           17.3          193              \n",
       "330 Chinstrap Dream     50.7           19.7          203              \n",
       "331 Chinstrap Dream     42.5           17.3          187              \n",
       "332 Chinstrap Dream     52.2           18.8          197              \n",
       "333 Chinstrap Dream     45.2           16.6          191              \n",
       "334 Chinstrap Dream     49.3           19.9          203              \n",
       "335 Chinstrap Dream     50.2           18.8          202              \n",
       "336 Chinstrap Dream     45.6           19.4          194              \n",
       "337 Chinstrap Dream     51.9           19.5          206              \n",
       "338 Chinstrap Dream     46.8           16.5          189              \n",
       "339 Chinstrap Dream     45.7           17.0          195              \n",
       "340 Chinstrap Dream     55.8           19.8          207              \n",
       "341 Chinstrap Dream     43.5           18.1          202              \n",
       "342 Chinstrap Dream     49.6           18.2          193              \n",
       "343 Chinstrap Dream     50.8           19.0          210              \n",
       "344 Chinstrap Dream     50.2           18.7          198              \n",
       "    body_mass_g sex    year\n",
       "1   3750        male   2007\n",
       "2   3800        female 2007\n",
       "3   3250        female 2007\n",
       "4     NA        NA     2007\n",
       "5   3450        female 2007\n",
       "6   3650        male   2007\n",
       "7   3625        female 2007\n",
       "8   4675        male   2007\n",
       "9   3475        NA     2007\n",
       "10  4250        NA     2007\n",
       "11  3300        NA     2007\n",
       "12  3700        NA     2007\n",
       "13  3200        female 2007\n",
       "14  3800        male   2007\n",
       "15  4400        male   2007\n",
       "16  3700        female 2007\n",
       "17  3450        female 2007\n",
       "18  4500        male   2007\n",
       "19  3325        female 2007\n",
       "20  4200        male   2007\n",
       "21  3400        female 2007\n",
       "22  3600        male   2007\n",
       "23  3800        female 2007\n",
       "24  3950        male   2007\n",
       "25  3800        male   2007\n",
       "26  3800        female 2007\n",
       "27  3550        male   2007\n",
       "28  3200        female 2007\n",
       "29  3150        female 2007\n",
       "30  3950        male   2007\n",
       "... ...         ...    ... \n",
       "315 2700        female 2008\n",
       "316 4500        male   2008\n",
       "317 3950        male   2008\n",
       "318 3650        female 2008\n",
       "319 3550        male   2008\n",
       "320 3500        female 2008\n",
       "321 3675        female 2009\n",
       "322 4450        male   2009\n",
       "323 3400        female 2009\n",
       "324 4300        male   2009\n",
       "325 3250        male   2009\n",
       "326 3675        female 2009\n",
       "327 3325        female 2009\n",
       "328 3950        male   2009\n",
       "329 3600        female 2009\n",
       "330 4050        male   2009\n",
       "331 3350        female 2009\n",
       "332 3450        male   2009\n",
       "333 3250        female 2009\n",
       "334 4050        male   2009\n",
       "335 3800        male   2009\n",
       "336 3525        female 2009\n",
       "337 3950        male   2009\n",
       "338 3650        female 2009\n",
       "339 3650        female 2009\n",
       "340 4000        male   2009\n",
       "341 3400        female 2009\n",
       "342 3775        male   2009\n",
       "343 4100        male   2009\n",
       "344 3775        female 2009"
      ]
     },
     "metadata": {},
     "output_type": "display_data"
    }
   ],
   "source": [
    "View(penguins)"
   ]
  },
  {
   "cell_type": "code",
   "execution_count": 7,
   "metadata": {
    "vscode": {
     "languageId": "r"
    }
   },
   "outputs": [
    {
     "name": "stderr",
     "output_type": "stream",
     "text": [
      "also installing the dependencies 'colorspace', 'farver', 'labeling', 'munsell', 'RColorBrewer', 'viridisLite', 'pkgconfig', 'gtable', 'isoband', 'scales', 'tibble'\n",
      "\n",
      "\n"
     ]
    },
    {
     "name": "stdout",
     "output_type": "stream",
     "text": [
      "package 'colorspace' successfully unpacked and MD5 sums checked\n",
      "package 'farver' successfully unpacked and MD5 sums checked\n",
      "package 'labeling' successfully unpacked and MD5 sums checked\n",
      "package 'munsell' successfully unpacked and MD5 sums checked\n",
      "package 'RColorBrewer' successfully unpacked and MD5 sums checked\n",
      "package 'viridisLite' successfully unpacked and MD5 sums checked\n",
      "package 'pkgconfig' successfully unpacked and MD5 sums checked\n",
      "package 'gtable' successfully unpacked and MD5 sums checked\n",
      "package 'isoband' successfully unpacked and MD5 sums checked\n",
      "package 'scales' successfully unpacked and MD5 sums checked\n",
      "package 'tibble' successfully unpacked and MD5 sums checked\n",
      "package 'ggplot2' successfully unpacked and MD5 sums checked\n",
      "\n",
      "The downloaded binary packages are in\n",
      "\tC:\\Users\\deepa\\AppData\\Local\\Temp\\RtmpmAwCaT\\downloaded_packages\n"
     ]
    }
   ],
   "source": [
    "install.packages('ggplot2')"
   ]
  },
  {
   "cell_type": "code",
   "execution_count": 9,
   "metadata": {
    "vscode": {
     "languageId": "r"
    }
   },
   "outputs": [],
   "source": [
    "library(ggplot2)"
   ]
  },
  {
   "cell_type": "code",
   "execution_count": 14,
   "metadata": {
    "vscode": {
     "languageId": "r"
    }
   },
   "outputs": [
    {
     "data": {
      "text/plain": [
       "      species          island    bill_length_mm  bill_depth_mm  \n",
       " Adelie   :152   Biscoe   :168   Min.   :32.10   Min.   :13.10  \n",
       " Chinstrap: 68   Dream    :124   1st Qu.:39.23   1st Qu.:15.60  \n",
       " Gentoo   :124   Torgersen: 52   Median :44.45   Median :17.30  \n",
       "                                 Mean   :43.92   Mean   :17.15  \n",
       "                                 3rd Qu.:48.50   3rd Qu.:18.70  \n",
       "                                 Max.   :59.60   Max.   :21.50  \n",
       "                                 NA's   :2       NA's   :2      \n",
       " flipper_length_mm  body_mass_g       sex           year     \n",
       " Min.   :172.0     Min.   :2700   female:165   Min.   :2007  \n",
       " 1st Qu.:190.0     1st Qu.:3550   male  :168   1st Qu.:2007  \n",
       " Median :197.0     Median :4050   NA's  : 11   Median :2008  \n",
       " Mean   :200.9     Mean   :4202                Mean   :2008  \n",
       " 3rd Qu.:213.0     3rd Qu.:4750                3rd Qu.:2009  \n",
       " Max.   :231.0     Max.   :6300                Max.   :2009  \n",
       " NA's   :2         NA's   :2                                 "
      ]
     },
     "metadata": {},
     "output_type": "display_data"
    }
   ],
   "source": [
    "summary(penguins)"
   ]
  },
  {
   "cell_type": "code",
   "execution_count": 17,
   "metadata": {
    "vscode": {
     "languageId": "r"
    }
   },
   "outputs": [
    {
     "ename": "ERROR",
     "evalue": "Error in list2(na.rm = na.rm, ...): object 'flipper_length_mm' not found\n",
     "output_type": "error",
     "traceback": [
      "Error in list2(na.rm = na.rm, ...): object 'flipper_length_mm' not found\nTraceback:\n",
      "1. geom_point(x = flipper_length_mm, y = body_mass_g)",
      "2. layer(data = data, mapping = mapping, stat = stat, geom = GeomPoint, \n .     position = position, show.legend = show.legend, inherit.aes = inherit.aes, \n .     params = list2(na.rm = na.rm, ...))",
      "3. list2(na.rm = na.rm, ...)"
     ]
    }
   ],
   "source": [
    "ggplot(data = penguins, aes(x = flipper_length_mm, y = body_mass_g)) +\n",
    "    geom_point(x = flipper_length_mm, y = body_mass_g) +\n",
    "    geom_point(aes(color = species))\n"
   ]
  },
  {
   "cell_type": "code",
   "execution_count": 2,
   "metadata": {
    "vscode": {
     "languageId": "r"
    }
   },
   "outputs": [
    {
     "data": {
      "text/html": [
       "<style>\n",
       ".list-inline {list-style: none; margin:0; padding: 0}\n",
       ".list-inline>li {display: inline-block}\n",
       ".list-inline>li:not(:last-child)::after {content: \"\\00b7\"; padding: 0 .5ex}\n",
       "</style>\n",
       "<ol class=list-inline><li>1</li><li>2</li><li>3</li></ol>\n"
      ],
      "text/latex": [
       "\\begin{enumerate*}\n",
       "\\item 1\n",
       "\\item 2\n",
       "\\item 3\n",
       "\\end{enumerate*}\n"
      ],
      "text/markdown": [
       "1. 1\n",
       "2. 2\n",
       "3. 3\n",
       "\n",
       "\n"
      ],
      "text/plain": [
       "[1] 1 2 3"
      ]
     },
     "metadata": {},
     "output_type": "display_data"
    }
   ],
   "source": [
    "c(1, 2, 3)"
   ]
  },
  {
   "cell_type": "code",
   "execution_count": null,
   "metadata": {
    "vscode": {
     "languageId": "r"
    }
   },
   "outputs": [],
   "source": []
  }
 ],
 "metadata": {
  "kernelspec": {
   "display_name": "R",
   "language": "R",
   "name": "ir"
  },
  "language_info": {
   "codemirror_mode": "r",
   "file_extension": ".r",
   "mimetype": "text/x-r-source",
   "name": "R",
   "pygments_lexer": "r",
   "version": "4.1.3"
  },
  "orig_nbformat": 4,
  "vscode": {
   "interpreter": {
    "hash": "c0a3c91513ce8330cc510c252bd0d2b8c5edf3f02855cf0373cb264a8e18d0f0"
   }
  }
 },
 "nbformat": 4,
 "nbformat_minor": 2
}
