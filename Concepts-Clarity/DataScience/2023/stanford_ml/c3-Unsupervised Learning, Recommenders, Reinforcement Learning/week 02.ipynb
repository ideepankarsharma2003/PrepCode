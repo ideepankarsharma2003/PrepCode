{
 "cells": [
  {
   "cell_type": "code",
   "execution_count": 2,
   "metadata": {},
   "outputs": [
    {
     "data": {
      "text/plain": [
       "'2.10.1'"
      ]
     },
     "execution_count": 2,
     "metadata": {},
     "output_type": "execute_result"
    }
   ],
   "source": [
    "import tensorflow as tf\n",
    "tf.__version__"
   ]
  },
  {
   "cell_type": "code",
   "execution_count": 7,
   "metadata": {},
   "outputs": [
    {
     "name": "stdout",
     "output_type": "stream",
     "text": [
      "costJ: 4.0\n",
      "dJ_dw: 4.0\n",
      "\n",
      "costJ: 2.559999704360962\n",
      "dJ_dw: 3.1999998092651367\n",
      "\n",
      "costJ: 1.6383999586105347\n",
      "dJ_dw: 2.559999942779541\n",
      "\n",
      "costJ: 1.0485758781433105\n",
      "dJ_dw: 2.047999858856201\n",
      "\n",
      "costJ: 0.6710885167121887\n",
      "dJ_dw: 1.6383998394012451\n",
      "\n",
      "costJ: 0.429496705532074\n",
      "dJ_dw: 1.3107199668884277\n",
      "\n",
      "costJ: 0.2748778462409973\n",
      "dJ_dw: 1.0485758781433105\n",
      "\n",
      "costJ: 0.17592184245586395\n",
      "dJ_dw: 0.8388607501983643\n",
      "\n",
      "costJ: 0.1125900149345398\n",
      "dJ_dw: 0.671088695526123\n",
      "\n",
      "costJ: 0.07205760478973389\n",
      "dJ_dw: 0.5368710160255432\n",
      "\n",
      "costJ: 0.046116869896650314\n",
      "dJ_dw: 0.42949676513671875\n",
      "\n",
      "costJ: 0.029514793306589127\n",
      "dJ_dw: 0.343597412109375\n",
      "\n",
      "costJ: 0.01888948306441307\n",
      "dJ_dw: 0.27487799525260925\n",
      "\n",
      "costJ: 0.012089278548955917\n",
      "dJ_dw: 0.21990250051021576\n",
      "\n",
      "costJ: 0.0077371299266815186\n",
      "dJ_dw: 0.17592191696166992\n",
      "\n",
      "costJ: 0.004951763432472944\n",
      "dJ_dw: 0.14073753356933594\n",
      "\n",
      "costJ: 0.0031691312324255705\n",
      "dJ_dw: 0.11259007453918457\n",
      "\n",
      "costJ: 0.0020282482728362083\n",
      "dJ_dw: 0.0900721549987793\n",
      "\n",
      "costJ: 0.0012980789178982377\n",
      "dJ_dw: 0.07205772399902344\n",
      "\n",
      "costJ: 0.0008307732059620321\n",
      "dJ_dw: 0.05764627084136009\n",
      "\n",
      "costJ: 0.0005316959577612579\n",
      "dJ_dw: 0.04611706733703613\n",
      "\n",
      "costJ: 0.00034028448862954974\n",
      "dJ_dw: 0.036893606185913086\n",
      "\n",
      "costJ: 0.00021778070367872715\n",
      "dJ_dw: 0.029514789581298828\n",
      "\n",
      "costJ: 0.00013937908806838095\n",
      "dJ_dw: 0.023611783981323242\n",
      "\n",
      "costJ: 8.920260734157637e-05\n",
      "dJ_dw: 0.018889425322413445\n",
      "\n",
      "costJ: 5.708894968847744e-05\n",
      "dJ_dw: 0.01511144544929266\n",
      "\n",
      "costJ: 3.6537505366140977e-05\n",
      "dJ_dw: 0.012089252471923828\n",
      "\n",
      "costJ: 2.338423473702278e-05\n",
      "dJ_dw: 0.009671449661254883\n",
      "\n",
      "costJ: 1.4965909940656275e-05\n",
      "dJ_dw: 0.007737159729003906\n",
      "\n",
      "costJ: 9.578478056937456e-06\n",
      "dJ_dw: 0.006189823150634766\n",
      "\n"
     ]
    }
   ],
   "source": [
    "# custom training loop\n",
    "\n",
    "# f(x)= wx + b\n",
    "# b= 0\n",
    "# J= (wx - 1)**2\n",
    "\n",
    "w= tf.Variable(3.0)\n",
    "\n",
    "x= 1.0\n",
    "y= 1.0 # target value\n",
    "\n",
    "alpha= 0.1\n",
    "\n",
    "iterations= 30\n",
    "for iter in range(iterations):\n",
    "    # Use tensorflow's Gradient tape to record the tape to record the steps used to compute the cost J, to enable auto differentiation\n",
    "    with tf.GradientTape() as tape:\n",
    "        fwb= w*x\n",
    "        costJ= (fwb-y)**2\n",
    "        print(f'costJ: {costJ}')\n",
    "\n",
    "    # Use the gradient tape to calculate the gradients of the cost with respect to the parameter w\n",
    "    [dJ_dw]= tape.gradient(costJ, [w])\n",
    "    print(f'dJ_dw: {dJ_dw}\\n')\n",
    "\n",
    "    # Run one step of gradient descent by updating the value of w to reduce the cost\n",
    "    w.assign_add(-alpha*dJ_dw)\n",
    "\n"
   ]
  },
  {
   "cell_type": "code",
   "execution_count": null,
   "metadata": {},
   "outputs": [],
   "source": [
    "# Instantiate the optimizer \n",
    "optimizer= tf.keras.optimizers.Adam(learning_rate=1e-1)\n",
    "\n",
    "iterations= 200\n",
    "for iter in range(iterations):\n",
    "    # Use tensorflow's Gradient tape to record the tape to record the steps used to compute the cost J, to enable auto differentiation\n",
    "    with tf.GradientTape() as tape:\n",
    "        costJ = (fwb-y)**2\n",
    "\n",
    "    # Use the gradient tape to calculate the gradients of the cost with respect to the parameter variables\n",
    "    grads = tape.gradient(costJ, [X, W, b])\n",
    "\n",
    "    # Run one step of gradient descent by updating the value of variables to reduce the cost\n",
    "    optimizer.apply_gradients(zip(grads, [X, W, b]))\n"
   ]
  },
  {
   "cell_type": "code",
   "execution_count": 4,
   "metadata": {},
   "outputs": [],
   "source": [
    "# Content Based Filtering\n",
    "\n",
    "user_NN= tf.keras.models.Sequential([\n",
    "    tf.keras.layers.Dense(256, activation='relu'),\n",
    "    tf.keras.layers.Dense(128, activation='relu'),\n",
    "    tf.keras.layers.Dense(32),\n",
    "])\n",
    "\n",
    "item_NN= tf.keras.models.Sequential([\n",
    "    tf.keras.layers.Dense(256, activation='relu'),\n",
    "    tf.keras.layers.Dense(128, activation='relu'),\n",
    "    tf.keras.layers.Dense(32),\n",
    "])"
   ]
  },
  {
   "cell_type": "code",
   "execution_count": null,
   "metadata": {},
   "outputs": [],
   "source": [
    "# create the user-input and point to the base network\n",
    "input_user= tf.keras.layers.Input(shape=(num_user_features))\n",
    "vu= user_NN(input_user)\n",
    "vu= tf.linalg.l2_normalize(vu, axis= 1)\n",
    "\n",
    "# create the item-input and point to the base network\n",
    "input_item= tf.keras.layers.Input(shape=(num_item_features))\n",
    "vm= user_NN(input_item)\n",
    "vm= tf.linalg.l2_normalize(vm, axis= 1)\n",
    "\n",
    "# measure the similarity of two vector outputs\n",
    "output= tf.keras.layers.Dot(axes=1)([vu, vm])\n",
    "\n",
    "# specify the inputs and outputs of the model\n",
    "model= tf.keras.Model([input_user, input_item], output)\n",
    "\n",
    "# specify the cost function\n",
    "cost_fn= tf.keras.losses.mean_squared_error()"
   ]
  },
  {
   "cell_type": "code",
   "execution_count": null,
   "metadata": {},
   "outputs": [],
   "source": []
  },
  {
   "cell_type": "code",
   "execution_count": null,
   "metadata": {},
   "outputs": [],
   "source": [
    "# PCA in scikit-learn\n",
    "# Optional pre-preocessing: feature scaling\n",
    "# 1. \"fit\" the data to obtain 2(or 3) new axes (principal components)\n",
    "'fit()-> includes mean normalization'\n",
    "# 2. Optionally examine how much variance is explained by each principal component.\n",
    "'explained_variance_ratio()'\n",
    "# 3. Transform(project) the data onto the new axes.\n",
    "'transform()'\n",
    "\n"
   ]
  },
  {
   "cell_type": "code",
   "execution_count": 6,
   "metadata": {},
   "outputs": [],
   "source": [
    "import matplotlib.pyplot as plt"
   ]
  },
  {
   "cell_type": "code",
   "execution_count": 11,
   "metadata": {},
   "outputs": [],
   "source": [
    "import numpy as np\n",
    "X= np.array([(1,1), (2, 1), (3, 2), (-1, -1), (-2, -1), (-3, -2)])\n"
   ]
  },
  {
   "cell_type": "code",
   "execution_count": 16,
   "metadata": {},
   "outputs": [
    {
     "name": "stdout",
     "output_type": "stream",
     "text": [
      "[ 1  2  3 -1 -2 -3]\n",
      "[ 1  1  2 -1 -1 -2]\n"
     ]
    }
   ],
   "source": [
    "print(X[:, 0])\n",
    "print(X[:, 1])"
   ]
  },
  {
   "cell_type": "code",
   "execution_count": 23,
   "metadata": {},
   "outputs": [
    {
     "data": {
      "image/png": "[encoded data removed]",
      "text/plain": [
       "<Figure size 432x288 with 1 Axes>"
      ]
     },
     "metadata": {},
     "output_type": "display_data"
    }
   ],
   "source": [
    "plt.scatter(X[:, 0], X[:, 1])\n",
    "plt.show()"
   ]
  },
  {
   "cell_type": "code",
   "execution_count": 30,
   "metadata": {},
   "outputs": [
    {
     "name": "stdout",
     "output_type": "stream",
     "text": [
      "[[ 1.15997501  0.75383654]\n",
      " [ 1.86304424  1.21074232]\n",
      " [ 3.02301925  1.96457886]\n",
      " [-1.15997501 -0.75383654]\n",
      " [-1.86304424 -1.21074232]\n",
      " [-3.02301925 -1.96457886]]\n"
     ]
    },
    {
     "data": {
      "image/png": "[encoded data removed]",
      "text/plain": [
       "<Figure size 432x288 with 1 Axes>"
      ]
     },
     "metadata": {},
     "output_type": "display_data"
    }
   ],
   "source": [
    "from sklearn.decomposition import PCA\n",
    "pca_1= PCA(n_components=1)\n",
    "pca_1.fit(X)\n",
    "pca_1.explained_variance_ratio_  # array([0.99244289])\n",
    "X_transformed_1= pca_1.transform(X)\n",
    "X_reduced_1= pca_1.inverse_transform(X_transformed_1)\n",
    "print(X_reduced_1)\n",
    "plt.scatter(X_reduced_1[:, 0], X_reduced_1[:, 1])\n",
    "plt.show()"
   ]
  },
  {
   "cell_type": "code",
   "execution_count": 32,
   "metadata": {},
   "outputs": [
    {
     "name": "stdout",
     "output_type": "stream",
     "text": [
      "[[ 1.  1.]\n",
      " [ 2.  1.]\n",
      " [ 3.  2.]\n",
      " [-1. -1.]\n",
      " [-2. -1.]\n",
      " [-3. -2.]]\n"
     ]
    },
    {
     "data": {
      "image/png": "[encoded data removed]",
      "text/plain": [
       "<Figure size 432x288 with 1 Axes>"
      ]
     },
     "metadata": {},
     "output_type": "display_data"
    }
   ],
   "source": [
    "from sklearn.decomposition import PCA\n",
    "pca_1 = PCA(n_components=2)\n",
    "pca_1.fit(X)\n",
    "pca_1.explained_variance_ratio_ \n",
    "X_transformed_1 = pca_1.transform(X)\n",
    "X_reduced_1 = pca_1.inverse_transform(X_transformed_1)\n",
    "print(X_reduced_1)\n",
    "plt.scatter(X_reduced_1[:, 0], X_reduced_1[:, 1])\n",
    "plt.show()\n"
   ]
  },
  {
   "cell_type": "code",
   "execution_count": null,
   "metadata": {},
   "outputs": [],
   "source": []
  }
 ],
 "metadata": {
  "kernelspec": {
   "display_name": "Python 3",
   "language": "python",
   "name": "python3"
  },
  "language_info": {
   "codemirror_mode": {
    "name": "ipython",
    "version": 3
   },
   "file_extension": ".py",
   "mimetype": "text/x-python",
   "name": "python",
   "nbconvert_exporter": "python",
   "pygments_lexer": "ipython3",
   "version": "3.9.6"
  },
  "orig_nbformat": 4
 },
 "nbformat": 4,
 "nbformat_minor": 2
}
