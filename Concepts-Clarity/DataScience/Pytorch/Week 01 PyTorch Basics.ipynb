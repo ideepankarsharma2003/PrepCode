{
 "cells": [
  {
   "attachments": {},
   "cell_type": "markdown",
   "metadata": {},
   "source": [
    "# **Week 01**"
   ]
  },
  {
   "cell_type": "code",
   "execution_count": 2,
   "metadata": {},
   "outputs": [
    {
     "data": {
      "text/plain": [
       "'1.13.1+cu117'"
      ]
     },
     "execution_count": 2,
     "metadata": {},
     "output_type": "execute_result"
    }
   ],
   "source": [
    "import torch\n",
    "torch.__version__"
   ]
  },
  {
   "attachments": {},
   "cell_type": "markdown",
   "metadata": {},
   "source": [
    "### `Tensors`"
   ]
  },
  {
   "attachments": {},
   "cell_type": "markdown",
   "metadata": {},
   "source": [
    "# 1-D Tensors"
   ]
  },
  {
   "cell_type": "code",
   "execution_count": 1,
   "metadata": {},
   "outputs": [],
   "source": [
    "# 0-D Tensor ----> just numbers \n",
    "# 1-D Tensor ----> array of numbers {\n",
    "#                                       1. row of a database\n",
    "#                                       2. vector\n",
    "#                                       3. time series}\n",
    "\n",
    "# unsigned int tensors ----> images {no negative values}"
   ]
  },
  {
   "cell_type": "code",
   "execution_count": 16,
   "metadata": {},
   "outputs": [
    {
     "name": "stdout",
     "output_type": "stream",
     "text": [
      "a.dtype:    torch.int64\n",
      "a.type():   torch.LongTensor\n"
     ]
    }
   ],
   "source": [
    "a= torch.tensor([7, 4, 3, 8, 10])\n",
    "print(f'a.dtype:    {a.dtype}')\n",
    "print(f'a.type():   {a.type()}')"
   ]
  },
  {
   "cell_type": "code",
   "execution_count": 17,
   "metadata": {},
   "outputs": [
    {
     "name": "stdout",
     "output_type": "stream",
     "text": [
      "a.dtype:    torch.float32\n",
      "a.type():   torch.FloatTensor\n"
     ]
    }
   ],
   "source": [
    "a= torch.tensor([7.0, 4.0, 3.0, 8.0, 10])\n",
    "print(f'a.dtype:    {a.dtype}')\n",
    "print(f'a.type():   {a.type()}')"
   ]
  },
  {
   "cell_type": "code",
   "execution_count": 18,
   "metadata": {},
   "outputs": [
    {
     "name": "stdout",
     "output_type": "stream",
     "text": [
      "a.dtype:   torch.int32\n",
      "a.type():  torch.IntTensor\n"
     ]
    },
    {
     "name": "stderr",
     "output_type": "stream",
     "text": [
      "C:\\Users\\deepa\\AppData\\Local\\Temp\\ipykernel_20004\\1598741581.py:1: DeprecationWarning: an integer is required (got type float).  Implicit conversion to integers using __int__ is deprecated, and may be removed in a future version of Python.\n",
      "  a= torch.tensor([7.0, 4.0, 3.0, 8.0, 10.567], dtype=torch.int32) # implicit conversion of data types is deprecated\n"
     ]
    },
    {
     "data": {
      "text/plain": [
       "tensor([ 7,  4,  3,  8, 10], dtype=torch.int32)"
      ]
     },
     "execution_count": 18,
     "metadata": {},
     "output_type": "execute_result"
    }
   ],
   "source": [
    "a= torch.tensor([7.0, 4.0, 3.0, 8.0, 10.567], dtype=torch.int32) # implicit conversion of data types is deprecated\n",
    "print(f'a.dtype:   {a.dtype}')\n",
    "print(f'a.type():  {a.type()}')\n",
    "a"
   ]
  },
  {
   "cell_type": "code",
   "execution_count": 19,
   "metadata": {},
   "outputs": [
    {
     "name": "stdout",
     "output_type": "stream",
     "text": [
      "a.dtype:  torch.float32\n",
      "a.type(): torch.FloatTensor\n"
     ]
    },
    {
     "data": {
      "text/plain": [
       "tensor([ 7.,  4.,  3.,  8., 10.])"
      ]
     },
     "execution_count": 19,
     "metadata": {},
     "output_type": "execute_result"
    }
   ],
   "source": [
    "a= torch.FloatTensor([7, 4, 3, 8, 10])\n",
    "print(f'a.dtype:  {a.dtype}')\n",
    "print(f'a.type(): {a.type()}')\n",
    "a"
   ]
  },
  {
   "cell_type": "code",
   "execution_count": 23,
   "metadata": {},
   "outputs": [
    {
     "name": "stdout",
     "output_type": "stream",
     "text": [
      "a.dtype:  torch.int64\n",
      "a.type(): torch.LongTensor\n",
      "tensor([ 7,  4,  3,  8, 10])\n",
      "a.dtype:  torch.float32\n",
      "a.type(): torch.FloatTensor\n"
     ]
    }
   ],
   "source": [
    "a= torch.tensor([7, 4, 3, 8, 10])\n",
    "print(f'a.dtype:  {a.dtype}')\n",
    "print(f'a.type(): {a.type()}')\n",
    "print(a)\n",
    "a= a.type(torch.FloatTensor)\n",
    "print(f'a.dtype:  {a.dtype}')\n",
    "print(f'a.type(): {a.type()}')"
   ]
  },
  {
   "cell_type": "code",
   "execution_count": 24,
   "metadata": {},
   "outputs": [
    {
     "data": {
      "text/plain": [
       "torch.Size([5])"
      ]
     },
     "execution_count": 24,
     "metadata": {},
     "output_type": "execute_result"
    }
   ],
   "source": [
    "a.size()"
   ]
  },
  {
   "cell_type": "code",
   "execution_count": 25,
   "metadata": {},
   "outputs": [
    {
     "data": {
      "text/plain": [
       "1"
      ]
     },
     "execution_count": 25,
     "metadata": {},
     "output_type": "execute_result"
    }
   ],
   "source": [
    "a.ndim"
   ]
  },
  {
   "cell_type": "code",
   "execution_count": 26,
   "metadata": {},
   "outputs": [
    {
     "data": {
      "text/plain": [
       "1"
      ]
     },
     "execution_count": 26,
     "metadata": {},
     "output_type": "execute_result"
    }
   ],
   "source": [
    "a.ndimension()"
   ]
  },
  {
   "cell_type": "code",
   "execution_count": 28,
   "metadata": {},
   "outputs": [
    {
     "data": {
      "text/plain": [
       "tensor([[1],\n",
       "        [2],\n",
       "        [3],\n",
       "        [4],\n",
       "        [5]])"
      ]
     },
     "execution_count": 28,
     "metadata": {},
     "output_type": "execute_result"
    }
   ],
   "source": [
    "a= torch.tensor([1, 2, 3, 4, 5]) # Rank 1 Tensor\n",
    "a_col= a.view(5, 1) # Column matrix with 5 row and 1 column\n",
    "a_col"
   ]
  },
  {
   "cell_type": "code",
   "execution_count": 30,
   "metadata": {},
   "outputs": [
    {
     "data": {
      "text/plain": [
       "2"
      ]
     },
     "execution_count": 30,
     "metadata": {},
     "output_type": "execute_result"
    }
   ],
   "source": [
    "a_col.ndimension()"
   ]
  },
  {
   "cell_type": "code",
   "execution_count": 33,
   "metadata": {},
   "outputs": [
    {
     "name": "stdout",
     "output_type": "stream",
     "text": [
      "type:  <class 'torch.Tensor'>\n",
      "type:  <class 'numpy.ndarray'>\n"
     ]
    }
   ],
   "source": [
    "import numpy as np\n",
    "arr= np.array([1, 2, 3, 4, 5])\n",
    "a= torch.from_numpy(arr)\n",
    "print('type: ', type(a))\n",
    "a= a.numpy()\n",
    "print('type: ', type(a))"
   ]
  },
  {
   "cell_type": "code",
   "execution_count": 34,
   "metadata": {},
   "outputs": [
    {
     "name": "stdout",
     "output_type": "stream",
     "text": [
      "type:  <class 'torch.Tensor'>\n",
      "type:  <class 'list'>\n"
     ]
    }
   ],
   "source": [
    "import numpy as np\n",
    "arr= np.array([1, 2, 3, 4, 5])\n",
    "a= torch.from_numpy(arr)\n",
    "print('type: ', type(a))\n",
    "a= a.tolist()\n",
    "print('type: ', type(a))"
   ]
  },
  {
   "cell_type": "code",
   "execution_count": 36,
   "metadata": {},
   "outputs": [
    {
     "name": "stdout",
     "output_type": "stream",
     "text": [
      "type:  <class 'torch.Tensor'>\n",
      "type{z}:  <class 'torch.Tensor'>\n",
      "type{z}:  <class 'torch.Tensor'>\n"
     ]
    },
    {
     "data": {
      "text/plain": [
       "tensor(5, dtype=torch.int32)"
      ]
     },
     "execution_count": 36,
     "metadata": {},
     "output_type": "execute_result"
    }
   ],
   "source": [
    "# indexing and slicing\n",
    "import numpy as np\n",
    "arr= np.array([1, 2, 3, 4, 5])\n",
    "a= torch.from_numpy(arr)\n",
    "print('type: ', type(a))\n",
    "z= a[2:-1]\n",
    "print('type{z}: ', type(z))\n",
    "z= a[4]\n",
    "print('type{z}: ', type(z))\n",
    "z"
   ]
  },
  {
   "cell_type": "code",
   "execution_count": 40,
   "metadata": {},
   "outputs": [],
   "source": [
    "u= torch.tensor([1.0, 2.0])\n",
    "v= torch.tensor([5.0, 7.0])"
   ]
  },
  {
   "cell_type": "code",
   "execution_count": 41,
   "metadata": {},
   "outputs": [
    {
     "name": "stdout",
     "output_type": "stream",
     "text": [
      "tensor([6., 9.])\n",
      "tensor([-4., -5.])\n"
     ]
    }
   ],
   "source": [
    "# Vector addition and subtraction\n",
    "\n",
    "# add two column matrix\n",
    "print(u+v)\n",
    "# subtract two column matrix\n",
    "print(u-v)\n"
   ]
  },
  {
   "cell_type": "code",
   "execution_count": 42,
   "metadata": {},
   "outputs": [
    {
     "name": "stdout",
     "output_type": "stream",
     "text": [
      "tensor([1., 2.])\n",
      "tensor([2., 4.])\n"
     ]
    }
   ],
   "source": [
    "# multiplication by scalar\n",
    "print(u)\n",
    "print(2*u)"
   ]
  },
  {
   "cell_type": "code",
   "execution_count": 43,
   "metadata": {},
   "outputs": [
    {
     "data": {
      "text/plain": [
       "tensor([2., 3.])"
      ]
     },
     "execution_count": 43,
     "metadata": {},
     "output_type": "execute_result"
    }
   ],
   "source": [
    "# Broadcasting\n",
    "z= u+1\n",
    "z"
   ]
  },
  {
   "cell_type": "code",
   "execution_count": 47,
   "metadata": {},
   "outputs": [
    {
     "name": "stdout",
     "output_type": "stream",
     "text": [
      "u=    tensor([1., 2.])\n",
      "v=    tensor([5., 7.])\n",
      "u*v=  tensor([ 5., 14.])\n"
     ]
    }
   ],
   "source": [
    "# product ----> element wise product\n",
    "print('u=   ', u)\n",
    "print('v=   ', v)\n",
    "print('u*v= ', u*v)"
   ]
  },
  {
   "cell_type": "code",
   "execution_count": 48,
   "metadata": {},
   "outputs": [
    {
     "name": "stdout",
     "output_type": "stream",
     "text": [
      "u=    tensor([1., 2.])\n",
      "v=    tensor([5., 7.])\n",
      "u.v=  tensor(19.)\n"
     ]
    }
   ],
   "source": [
    "# dot product \n",
    "print('u=   ', u)\n",
    "print('v=   ', v)\n",
    "print('u.v= ', torch.dot(u, v))"
   ]
  },
  {
   "cell_type": "code",
   "execution_count": 50,
   "metadata": {},
   "outputs": [
    {
     "name": "stdout",
     "output_type": "stream",
     "text": [
      "tensor([1., 2.])\n",
      "tensor(1.5000)\n"
     ]
    }
   ],
   "source": [
    "print(u)\n",
    "print(u.mean()) # mean of all elements of u"
   ]
  },
  {
   "cell_type": "code",
   "execution_count": 52,
   "metadata": {},
   "outputs": [
    {
     "name": "stdout",
     "output_type": "stream",
     "text": [
      "x=  tensor([0.0000, 1.5708, 3.1416])\n",
      "tensor([ 0.0000e+00,  1.0000e+00, -8.7423e-08])\n"
     ]
    }
   ],
   "source": [
    "import numpy as np\n",
    "x= torch.tensor([0, np.pi/2, np.pi])\n",
    "print('x= ', x)\n",
    "# sin(0)= 0\n",
    "# sin(90)= 1\n",
    "# sin(180)= 0\n",
    "print(torch.sin(x))"
   ]
  },
  {
   "cell_type": "code",
   "execution_count": 54,
   "metadata": {},
   "outputs": [
    {
     "data": {
      "text/plain": [
       "tensor([-2.0000, -1.5000, -1.0000, -0.5000,  0.0000,  0.5000,  1.0000,  1.5000,\n",
       "         2.0000])"
      ]
     },
     "execution_count": 54,
     "metadata": {},
     "output_type": "execute_result"
    }
   ],
   "source": [
    "x= torch.linspace(-2, 2, steps=9) # 9 evenly spaced numbers between -2 and 2\n",
    "x"
   ]
  },
  {
   "cell_type": "code",
   "execution_count": 56,
   "metadata": {},
   "outputs": [],
   "source": [
    "import matplotlib.pyplot as plt"
   ]
  },
  {
   "cell_type": "code",
   "execution_count": 57,
   "metadata": {},
   "outputs": [
    {
     "name": "stdout",
     "output_type": "stream",
     "text": [
      "x=  tensor([0.0000, 0.0635, 0.1269, 0.1904, 0.2539, 0.3173, 0.3808, 0.4443, 0.5077,\n",
      "        0.5712, 0.6347, 0.6981, 0.7616, 0.8251, 0.8885, 0.9520, 1.0155, 1.0789,\n",
      "        1.1424, 1.2059, 1.2693, 1.3328, 1.3963, 1.4597, 1.5232, 1.5867, 1.6501,\n",
      "        1.7136, 1.7771, 1.8405, 1.9040, 1.9675, 2.0309, 2.0944, 2.1579, 2.2213,\n",
      "        2.2848, 2.3483, 2.4117, 2.4752, 2.5387, 2.6021, 2.6656, 2.7291, 2.7925,\n",
      "        2.8560, 2.9195, 2.9829, 3.0464, 3.1099, 3.1733, 3.2368, 3.3003, 3.3637,\n",
      "        3.4272, 3.4907, 3.5541, 3.6176, 3.6811, 3.7445, 3.8080, 3.8715, 3.9349,\n",
      "        3.9984, 4.0619, 4.1253, 4.1888, 4.2523, 4.3157, 4.3792, 4.4427, 4.5061,\n",
      "        4.5696, 4.6331, 4.6965, 4.7600, 4.8235, 4.8869, 4.9504, 5.0139, 5.0773,\n",
      "        5.1408, 5.2043, 5.2677, 5.3312, 5.3947, 5.4581, 5.5216, 5.5851, 5.6485,\n",
      "        5.7120, 5.7755, 5.8389, 5.9024, 5.9659, 6.0293, 6.0928, 6.1563, 6.2197,\n",
      "        6.2832])\n"
     ]
    },
    {
     "data": {
      "text/plain": [
       "[<matplotlib.lines.Line2D at 0x1d26ff83fa0>]"
      ]
     },
     "execution_count": 57,
     "metadata": {},
     "output_type": "execute_result"
    },
    {
     "data": {
      "image/png": "[encoded data removed]",
      "text/plain": [
       "<Figure size 432x288 with 1 Axes>"
      ]
     },
     "metadata": {},
     "output_type": "display_data"
    }
   ],
   "source": [
    "x= torch.linspace(0, 2*np.pi, 100) # 100 evenly spaced numbers between 0 and 2(pi)=360 degree\n",
    "print('x= ', x)\n",
    "y= torch.sin(x)\n",
    "\n",
    "plt.plot(x.numpy(), y.numpy())"
   ]
  },
  {
   "cell_type": "markdown",
   "metadata": {},
   "source": [
    "# 2-D Tensors"
   ]
  },
  {
   "cell_type": "code",
   "execution_count": 65,
   "metadata": {},
   "outputs": [
    {
     "name": "stdout",
     "output_type": "stream",
     "text": [
      "Type(a):\n",
      "[[1, 2, 3], [1, 2, 3]] <class 'list'>\n",
      "\n",
      "Type(a):\n",
      "tensor([[1, 2, 3],\n",
      "        [1, 2, 3]]) <class 'torch.Tensor'>\n",
      "\n",
      "a.ndim: \n",
      "2\n",
      "\n",
      "a.shape:\n",
      "torch.Size([2, 3])\n",
      "\n",
      "a.numel(): \n",
      "6\n",
      "\n",
      "a.size(): \n",
      "torch.Size([2, 3])\n",
      "\n",
      "\n"
     ]
    }
   ],
   "source": [
    "a= [[1, 2, 3]]*2\n",
    "print('Type(a):')\n",
    "print(a, type(a), end='\\n\\n')\n",
    "a= torch.tensor(a)\n",
    "print('Type(a):')\n",
    "print(a, type(a), end='\\n\\n')\n",
    "print('a.ndim: ')\n",
    "print(a.ndim, end='\\n\\n') # Rank 2 Tensor \n",
    "print('a.shape:')\n",
    "print(a.shape, end='\\n\\n')\n",
    "print('a.numel(): ')\n",
    "print(a.numel(), end='\\n\\n') # number of elements\n",
    "print('a.size(): ')\n",
    "print(a.size(), end='\\n\\n') # same as shape\n",
    "print()"
   ]
  },
  {
   "cell_type": "code",
   "execution_count": 74,
   "metadata": {},
   "outputs": [],
   "source": [
    "a= torch.tensor([[1, 0], [0, 1]])\n",
    "b= torch.tensor([[2, 1], [1, 1]])\n"
   ]
  },
  {
   "cell_type": "code",
   "execution_count": 75,
   "metadata": {},
   "outputs": [
    {
     "name": "stdout",
     "output_type": "stream",
     "text": [
      "tensor([[1, 0],\n",
      "        [0, 1]])\n",
      "tensor([[2, 1],\n",
      "        [1, 1]])\n",
      "\n",
      "tensor([[3, 1],\n",
      "        [1, 2]])\n"
     ]
    }
   ],
   "source": [
    "print(a)\n",
    "print(b)\n",
    "print()\n",
    "print(a+b)"
   ]
  },
  {
   "cell_type": "code",
   "execution_count": 76,
   "metadata": {},
   "outputs": [
    {
     "name": "stdout",
     "output_type": "stream",
     "text": [
      "tensor([[1, 0],\n",
      "        [0, 1]])\n",
      "tensor([[2, 1],\n",
      "        [1, 1]])\n",
      "\n",
      "tensor([[2, 0],\n",
      "        [0, 1]])\n"
     ]
    }
   ],
   "source": [
    "print(a)\n",
    "print(b)\n",
    "print()\n",
    "print(a*b) # elementwise product"
   ]
  },
  {
   "cell_type": "code",
   "execution_count": 78,
   "metadata": {},
   "outputs": [],
   "source": [
    "x= torch.tensor([[0, 1, 1], [1, 0, 1]])\n",
    "y= torch.tensor([[1, 1], [1, 1], [-1, 1]])"
   ]
  },
  {
   "cell_type": "code",
   "execution_count": 79,
   "metadata": {},
   "outputs": [
    {
     "name": "stdout",
     "output_type": "stream",
     "text": [
      "tensor([[0, 1, 1],\n",
      "        [1, 0, 1]])\n",
      "tensor([[ 1,  1],\n",
      "        [ 1,  1],\n",
      "        [-1,  1]])\n",
      "\n",
      "tensor([[0, 2],\n",
      "        [0, 2]])\n"
     ]
    }
   ],
   "source": [
    "print(x)\n",
    "print(y)\n",
    "print()\n",
    "print(torch.mm(x, y)) # matrix multiplication"
   ]
  },
  {
   "cell_type": "code",
   "execution_count": 80,
   "metadata": {},
   "outputs": [
    {
     "name": "stdout",
     "output_type": "stream",
     "text": [
      "tensor([[1, 0],\n",
      "        [0, 1]])\n",
      "tensor([[2, 1],\n",
      "        [1, 1]])\n",
      "\n",
      "tensor([[2, 1],\n",
      "        [1, 1]])\n"
     ]
    }
   ],
   "source": [
    "print(a)\n",
    "print(b)\n",
    "print()\n",
    "print(torch.mm(a, b)) # dot product"
   ]
  },
  {
   "cell_type": "code",
   "execution_count": 70,
   "metadata": {},
   "outputs": [
    {
     "name": "stdout",
     "output_type": "stream",
     "text": [
      "tensor([[1, 0],\n",
      "        [0, 1]])\n",
      "\n",
      "tensor([[3, 0],\n",
      "        [0, 3]])\n"
     ]
    }
   ],
   "source": [
    "print(a)\n",
    "print()\n",
    "print(a*3) # scalar product"
   ]
  },
  {
   "attachments": {},
   "cell_type": "markdown",
   "metadata": {},
   "source": [
    "# Derivatives in PyTorch"
   ]
  },
  {
   "attachments": {
    "image-2.png": {
     "image/png": "[encoded data removed]"
    }
   },
   "cell_type": "markdown",
   "metadata": {},
   "source": [
    "![image.png](attachment:image-2.png)"
   ]
  },
  {
   "cell_type": "code",
   "execution_count": 89,
   "metadata": {},
   "outputs": [
    {
     "name": "stdout",
     "output_type": "stream",
     "text": [
      "x=  tensor(3., dtype=torch.float64, requires_grad=True)\n",
      "y=  tensor(9., dtype=torch.float64, grad_fn=<PowBackward0>)\n"
     ]
    }
   ],
   "source": [
    "# y= f(x)= x**2\n",
    "# dy/dx= 2x\n",
    "\n",
    "# x= 3, y=9\n",
    "# dy/dx (x=3)= 6\n",
    "\n",
    "x= torch.tensor(3, dtype=float, requires_grad=True)\n",
    "print('x= ', x)\n",
    "y= x**2\n",
    "print('y= ', y)"
   ]
  },
  {
   "cell_type": "code",
   "execution_count": 90,
   "metadata": {},
   "outputs": [],
   "source": [
    "y.backward() # to calculate the derivative of y wrt x, first calculates derivative of y \n",
    "# and then evaluates it for value of x=3"
   ]
  },
  {
   "cell_type": "code",
   "execution_count": 91,
   "metadata": {},
   "outputs": [
    {
     "data": {
      "text/plain": [
       "tensor(6., dtype=torch.float64)"
      ]
     },
     "execution_count": 91,
     "metadata": {},
     "output_type": "execute_result"
    }
   ],
   "source": [
    "x.grad"
   ]
  },
  {
   "attachments": {
    "image.png": {
     "image/png": "[encoded data removed]"
    }
   },
   "cell_type": "markdown",
   "metadata": {},
   "source": [
    "![image.png](attachment:image.png)"
   ]
  },
  {
   "cell_type": "code",
   "execution_count": 93,
   "metadata": {},
   "outputs": [
    {
     "name": "stdout",
     "output_type": "stream",
     "text": [
      "x=  tensor(3., dtype=torch.float64, requires_grad=True)\n",
      "y=  tensor(16., dtype=torch.float64, grad_fn=<AddBackward0>)\n"
     ]
    },
    {
     "data": {
      "text/plain": [
       "tensor(8., dtype=torch.float64)"
      ]
     },
     "execution_count": 93,
     "metadata": {},
     "output_type": "execute_result"
    }
   ],
   "source": [
    "x= torch.tensor(3, dtype=float, requires_grad=True)\n",
    "print('x= ', x)\n",
    "y= x**2 + 2*x + 1\n",
    "print('y= ', y)\n",
    "\n",
    "y.backward()\n",
    "x.grad"
   ]
  },
  {
   "attachments": {
    "image.png": {
     "image/png": "[encoded data removed]"
    }
   },
   "cell_type": "markdown",
   "metadata": {},
   "source": [
    "![image.png](attachment:image.png)"
   ]
  },
  {
   "cell_type": "code",
   "execution_count": 95,
   "metadata": {},
   "outputs": [
    {
     "name": "stdout",
     "output_type": "stream",
     "text": [
      "u.grad:  tensor(4., dtype=torch.float64)\n",
      "v.grad:  tensor(1., dtype=torch.float64)\n"
     ]
    }
   ],
   "source": [
    "u= torch.tensor(1, dtype=float, requires_grad=True)\n",
    "v= torch.tensor(2, dtype=float, requires_grad=True)\n",
    "\n",
    "f= u*v + u**2\n",
    "\n",
    "f.backward()\n",
    "\n",
    "print('u.grad: ', u.grad)\n",
    "print('v.grad: ', v.grad)"
   ]
  },
  {
   "attachments": {},
   "cell_type": "markdown",
   "metadata": {},
   "source": [
    "# Dataset"
   ]
  },
  {
   "cell_type": "code",
   "execution_count": 96,
   "metadata": {},
   "outputs": [],
   "source": [
    "from torch.utils.data import Dataset"
   ]
  },
  {
   "cell_type": "code",
   "execution_count": 98,
   "metadata": {},
   "outputs": [],
   "source": [
    "# creating your own dataset\n",
    "class ToySet(Dataset):\n",
    "    def __init__(self) -> None:\n",
    "        super().__init__()\n",
    "    def __getitem__(self, index):\n",
    "        return super().__getitem__(index)"
   ]
  },
  {
   "cell_type": "code",
   "execution_count": null,
   "metadata": {},
   "outputs": [],
   "source": []
  }
 ],
 "metadata": {
  "kernelspec": {
   "display_name": "Python 3",
   "language": "python",
   "name": "python3"
  },
  "language_info": {
   "codemirror_mode": {
    "name": "ipython",
    "version": 3
   },
   "file_extension": ".py",
   "mimetype": "text/x-python",
   "name": "python",
   "nbconvert_exporter": "python",
   "pygments_lexer": "ipython3",
   "version": "3.9.6"
  },
  "orig_nbformat": 4,
  "vscode": {
   "interpreter": {
    "hash": "c0a3c91513ce8330cc510c252bd0d2b8c5edf3f02855cf0373cb264a8e18d0f0"
   }
  }
 },
 "nbformat": 4,
 "nbformat_minor": 2
}
