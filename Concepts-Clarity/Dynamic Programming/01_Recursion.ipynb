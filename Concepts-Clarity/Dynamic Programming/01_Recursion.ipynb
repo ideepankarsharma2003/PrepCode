{
 "cells": [
  {
   "attachments": {},
   "cell_type": "markdown",
   "metadata": {},
   "source": [
    "# **RECURSION**"
   ]
  },
  {
   "attachments": {},
   "cell_type": "markdown",
   "metadata": {},
   "source": [
    "## ***[0 - 1 Knapsack Problem](https://practice.geeksforgeeks.org/problems/0-1-knapsack-problem0945/1?page=1&sortBy=submissions)***"
   ]
  },
  {
   "cell_type": "code",
   "execution_count": 24,
   "metadata": {},
   "outputs": [],
   "source": [
    "class Solution:\n",
    "    \n",
    "    #Function to return max value that can be put in knapsack of capacity W.\n",
    "    def knapSack(self,W, wt, val, n):\n",
    "        # code here\n",
    "        print(f'n= {n}')\n",
    "        if n==0 or W==0:\n",
    "            print('RETURN\\n')\n",
    "            return 0\n",
    "\n",
    "        print(f'val= {val}, wt= {wt}')\n",
    "\n",
    "        current_val= val[n-1]\n",
    "        current_wt= wt[n-1]\n",
    "\n",
    "        if current_wt>W:\n",
    "            return self.knapSack(W, wt, val, n-1)\n",
    "\n",
    "        current_item_included= current_val+ self.knapSack(W-current_wt, wt, val, n-1)\n",
    "        current_item_excluded= self.knapSack(W, wt, val, n-1)\n",
    "        return max(current_item_included, current_item_excluded)\n",
    "\n",
    "\n",
    "        \n",
    "s= Solution()\n"
   ]
  },
  {
   "cell_type": "code",
   "execution_count": 25,
   "metadata": {},
   "outputs": [
    {
     "name": "stdout",
     "output_type": "stream",
     "text": [
      "n= 3\n",
      "val= [1, 2, 3], wt= [4, 5, 1]\n",
      "n= 2\n",
      "val= [1, 2, 3], wt= [4, 5, 1]\n",
      "n= 1\n",
      "val= [1, 2, 3], wt= [4, 5, 1]\n",
      "n= 0\n",
      "RETURN\n",
      "\n",
      "n= 2\n",
      "val= [1, 2, 3], wt= [4, 5, 1]\n",
      "n= 1\n",
      "val= [1, 2, 3], wt= [4, 5, 1]\n",
      "n= 0\n",
      "RETURN\n",
      "\n",
      "n= 0\n",
      "RETURN\n",
      "\n"
     ]
    },
    {
     "data": {
      "text/plain": [
       "3"
      ]
     },
     "execution_count": 25,
     "metadata": {},
     "output_type": "execute_result"
    }
   ],
   "source": [
    "N = 3\n",
    "W = 4\n",
    "values= [1, 2, 3]\n",
    "weight= [4, 5, 1]\n",
    "s.knapSack(W, weight, values, N)"
   ]
  },
  {
   "cell_type": "code",
   "execution_count": 26,
   "metadata": {},
   "outputs": [
    {
     "name": "stdout",
     "output_type": "stream",
     "text": [
      "n= 3\n",
      "val= [1, 2, 3], wt= [4, 5, 6]\n",
      "n= 2\n",
      "val= [1, 2, 3], wt= [4, 5, 6]\n",
      "n= 1\n",
      "val= [1, 2, 3], wt= [4, 5, 6]\n",
      "n= 0\n",
      "RETURN\n",
      "\n"
     ]
    },
    {
     "data": {
      "text/plain": [
       "0"
      ]
     },
     "execution_count": 26,
     "metadata": {},
     "output_type": "execute_result"
    }
   ],
   "source": [
    "N = 3\n",
    "W = 3\n",
    "values = [1,2,3]\n",
    "weight = [4,5,6]\n",
    "s.knapSack(W, weight, values, N)"
   ]
  },
  {
   "cell_type": "code",
   "execution_count": null,
   "metadata": {},
   "outputs": [],
   "source": []
  }
 ],
 "metadata": {
  "kernelspec": {
   "display_name": "Python 3.9.7 64-bit",
   "language": "python",
   "name": "python3"
  },
  "language_info": {
   "codemirror_mode": {
    "name": "ipython",
    "version": 3
   },
   "file_extension": ".py",
   "mimetype": "text/x-python",
   "name": "python",
   "nbconvert_exporter": "python",
   "pygments_lexer": "ipython3",
   "version": "3.9.7"
  },
  "orig_nbformat": 4,
  "vscode": {
   "interpreter": {
    "hash": "2e61b4e68d91170e6a828addbb12c998be56a3b087bfc9988ada4585bf499f3e"
   }
  }
 },
 "nbformat": 4,
 "nbformat_minor": 2
}
