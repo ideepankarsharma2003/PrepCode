{
 "cells": [
  {
   "cell_type": "markdown",
   "metadata": {},
   "source": [
    "# **Big O**"
   ]
  },
  {
   "cell_type": "markdown",
   "metadata": {},
   "source": [
    "size(arr) ---> 100 ---> 0.22 milliseconds<br /> \n",
    "size(arr) ---> 1000 ---> 0.23 milliseconds\n",
    "\n",
    "`time = O(a)` **Drop Constants**<br/>\n",
    "`time = O(1)`"
   ]
  },
  {
   "cell_type": "code",
   "execution_count": null,
   "metadata": {},
   "outputs": [],
   "source": [
    "def find_fp(prices, eps, index):\n",
    "    pe= prices[index]/eps[index] \n",
    "    return pe "
   ]
  }
 ],
 "metadata": {
  "kernelspec": {
   "display_name": "Python 3.9.7 64-bit",
   "language": "python",
   "name": "python3"
  },
  "language_info": {
   "name": "python",
   "version": "3.9.7"
  },
  "orig_nbformat": 4,
  "vscode": {
   "interpreter": {
    "hash": "2e61b4e68d91170e6a828addbb12c998be56a3b087bfc9988ada4585bf499f3e"
   }
  }
 },
 "nbformat": 4,
 "nbformat_minor": 2
}
