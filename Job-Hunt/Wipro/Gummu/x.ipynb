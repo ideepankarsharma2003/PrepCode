{
 "cells": [
  {
   "cell_type": "code",
   "execution_count": 1,
   "metadata": {},
   "outputs": [
    {
     "name": "stdout",
     "output_type": "stream",
     "text": [
      "hello world\n"
     ]
    }
   ],
   "source": [
    "print(\"hello world\")"
   ]
  },
  {
   "cell_type": "code",
   "execution_count": 10,
   "metadata": {},
   "outputs": [],
   "source": [
    "from asyncio import shield\n",
    "\n",
    "\n",
    "def findPassword(input1, input2):\n",
    "    d= dict()\n",
    "    for i in input1:\n",
    "        if i not in d.keys():\n",
    "            d[i]=1\n",
    "        else:\n",
    "            d[i]+=1\n",
    "    # print(d) # print the dictionary\n",
    "\n",
    "    highest= []\n",
    "    second_highest= []\n",
    "\n",
    "    val= list(d.values())\n",
    "    val.sort()\n",
    "    # print(f'Values of dictionary: {val}')\n",
    "    for i in d.keys():\n",
    "        if d[i]==val[-1]:\n",
    "            highest.append(i)\n",
    "    highest.sort()\n",
    "    for i in d.keys():\n",
    "        if d[i]==val[-2]:\n",
    "            second_highest.append(i)\n",
    "    second_highest.sort()\n",
    "\n",
    "    # print(highest)\n",
    "    # print(second_highest)\n",
    "    return str(second_highest[-1])+str(highest[-1])"
   ]
  },
  {
   "cell_type": "code",
   "execution_count": 11,
   "metadata": {},
   "outputs": [
    {
     "data": {
      "text/plain": [
       "'8912'"
      ]
     },
     "execution_count": 11,
     "metadata": {},
     "output_type": "execute_result"
    }
   ],
   "source": [
    "input2= 16\n",
    "input1= [5, 123, 12, 45, 62, 77, 89, 23, 12, 14, 11, 14, 12, 90, 89, 12]\n",
    "findPassword(input1, input2)"
   ]
  },
  {
   "cell_type": "code",
   "execution_count": null,
   "metadata": {},
   "outputs": [],
   "source": []
  }
 ],
 "metadata": {
  "kernelspec": {
   "display_name": "Python 3.9.7 64-bit",
   "language": "python",
   "name": "python3"
  },
  "language_info": {
   "codemirror_mode": {
    "name": "ipython",
    "version": 3
   },
   "file_extension": ".py",
   "mimetype": "text/x-python",
   "name": "python",
   "nbconvert_exporter": "python",
   "pygments_lexer": "ipython3",
   "version": "3.9.7"
  },
  "orig_nbformat": 4,
  "vscode": {
   "interpreter": {
    "hash": "2e61b4e68d91170e6a828addbb12c998be56a3b087bfc9988ada4585bf499f3e"
   }
  }
 },
 "nbformat": 4,
 "nbformat_minor": 2
}
