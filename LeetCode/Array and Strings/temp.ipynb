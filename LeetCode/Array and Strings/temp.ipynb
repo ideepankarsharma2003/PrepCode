{
 "cells": [
  {
   "cell_type": "code",
   "execution_count": 1,
   "metadata": {},
   "outputs": [
    {
     "name": "stdout",
     "output_type": "stream",
     "text": [
      "2\n"
     ]
    }
   ],
   "source": [
    "s= 'ansnsnsn'\n",
    "print(s.index('sn'))"
   ]
  },
  {
   "cell_type": "markdown",
   "metadata": {},
   "source": [
    "##### Diagonal Traverse\n",
    "###### Approach 1: Diagonal Iteration and Reversal"
   ]
  },
  {
   "cell_type": "code",
   "execution_count": 1,
   "metadata": {},
   "outputs": [
    {
     "ename": "NameError",
     "evalue": "name 'List' is not defined",
     "output_type": "error",
     "traceback": [
      "\u001b[1;31m---------------------------------------------------------------------------\u001b[0m",
      "\u001b[1;31mNameError\u001b[0m                                 Traceback (most recent call last)",
      "\u001b[1;32md:\\Placement-Prep\\LeetCode\\Array and Strings\\temp.ipynb Cell 3'\u001b[0m in \u001b[0;36m<cell line: 1>\u001b[1;34m()\u001b[0m\n\u001b[1;32m----> <a href='vscode-notebook-cell:/d%3A/Placement-Prep/LeetCode/Array%20and%20Strings/temp.ipynb#ch0000001?line=0'>1</a>\u001b[0m \u001b[39mclass\u001b[39;00m \u001b[39mSolution\u001b[39;00m:\n\u001b[0;32m      <a href='vscode-notebook-cell:/d%3A/Placement-Prep/LeetCode/Array%20and%20Strings/temp.ipynb#ch0000001?line=2'>3</a>\u001b[0m     \u001b[39mdef\u001b[39;00m \u001b[39mfindDiagonalOrder\u001b[39m(\u001b[39mself\u001b[39m, matrix: List[List[\u001b[39mint\u001b[39m]]) \u001b[39m-\u001b[39m\u001b[39m>\u001b[39m List[\u001b[39mint\u001b[39m]:\n\u001b[0;32m      <a href='vscode-notebook-cell:/d%3A/Placement-Prep/LeetCode/Array%20and%20Strings/temp.ipynb#ch0000001?line=3'>4</a>\u001b[0m         \n\u001b[0;32m      <a href='vscode-notebook-cell:/d%3A/Placement-Prep/LeetCode/Array%20and%20Strings/temp.ipynb#ch0000001?line=4'>5</a>\u001b[0m         \u001b[39m# Check for empty matrices\u001b[39;00m\n\u001b[0;32m      <a href='vscode-notebook-cell:/d%3A/Placement-Prep/LeetCode/Array%20and%20Strings/temp.ipynb#ch0000001?line=5'>6</a>\u001b[0m         \u001b[39mif\u001b[39;00m \u001b[39mnot\u001b[39;00m matrix \u001b[39mor\u001b[39;00m \u001b[39mnot\u001b[39;00m matrix[\u001b[39m0\u001b[39m]:\n",
      "\u001b[1;32md:\\Placement-Prep\\LeetCode\\Array and Strings\\temp.ipynb Cell 3'\u001b[0m in \u001b[0;36mSolution\u001b[1;34m()\u001b[0m\n\u001b[0;32m      <a href='vscode-notebook-cell:/d%3A/Placement-Prep/LeetCode/Array%20and%20Strings/temp.ipynb#ch0000001?line=0'>1</a>\u001b[0m \u001b[39mclass\u001b[39;00m \u001b[39mSolution\u001b[39;00m:\n\u001b[1;32m----> <a href='vscode-notebook-cell:/d%3A/Placement-Prep/LeetCode/Array%20and%20Strings/temp.ipynb#ch0000001?line=2'>3</a>\u001b[0m     \u001b[39mdef\u001b[39;00m \u001b[39mfindDiagonalOrder\u001b[39m(\u001b[39mself\u001b[39m, matrix: List[List[\u001b[39mint\u001b[39m]]) \u001b[39m-\u001b[39m\u001b[39m>\u001b[39m List[\u001b[39mint\u001b[39m]:\n\u001b[0;32m      <a href='vscode-notebook-cell:/d%3A/Placement-Prep/LeetCode/Array%20and%20Strings/temp.ipynb#ch0000001?line=3'>4</a>\u001b[0m         \n\u001b[0;32m      <a href='vscode-notebook-cell:/d%3A/Placement-Prep/LeetCode/Array%20and%20Strings/temp.ipynb#ch0000001?line=4'>5</a>\u001b[0m         \u001b[39m# Check for empty matrices\u001b[39;00m\n\u001b[0;32m      <a href='vscode-notebook-cell:/d%3A/Placement-Prep/LeetCode/Array%20and%20Strings/temp.ipynb#ch0000001?line=5'>6</a>\u001b[0m         \u001b[39mif\u001b[39;00m \u001b[39mnot\u001b[39;00m matrix \u001b[39mor\u001b[39;00m \u001b[39mnot\u001b[39;00m matrix[\u001b[39m0\u001b[39m]:\n\u001b[0;32m      <a href='vscode-notebook-cell:/d%3A/Placement-Prep/LeetCode/Array%20and%20Strings/temp.ipynb#ch0000001?line=6'>7</a>\u001b[0m             \u001b[39mreturn\u001b[39;00m []\n",
      "\u001b[1;31mNameError\u001b[0m: name 'List' is not defined"
     ]
    }
   ],
   "source": [
    "class Solution:\n",
    "    \n",
    "    def findDiagonalOrder(self, matrix: List[List[int]]) -> List[int]:\n",
    "        \n",
    "        # Check for empty matrices\n",
    "        if not matrix or not matrix[0]:\n",
    "            return []\n",
    "        \n",
    "        # Variables to track the size of the matrix\n",
    "        N, M = len(matrix), len(matrix[0])\n",
    "        \n",
    "        # The two arrays as explained in the algorithm\n",
    "        result, intermediate = [], []\n",
    "        \n",
    "        # We have to go over all the elements in the first\n",
    "        # row and the last column to cover all possible diagonals\n",
    "        for d in range(N + M - 1):\n",
    "            \n",
    "            # Clear the intermediate array everytime we start\n",
    "            # to process another diagonal\n",
    "            intermediate.clear()\n",
    "            \n",
    "            # We need to figure out the \"head\" of this diagonal\n",
    "            # The elements in the first row and the last column\n",
    "            # are the respective heads.\n",
    "            r, c = 0 if d < M else d - M + 1, d if d < M else M - 1\n",
    "            \n",
    "            # Iterate until one of the indices goes out of scope\n",
    "            # Take note of the index math to go down the diagonal\n",
    "            while r < N and c > -1:\n",
    "                intermediate.append(matrix[r][c])\n",
    "                r += 1\n",
    "                c -= 1\n",
    "            \n",
    "            # Reverse even numbered diagonals. The\n",
    "            # article says we have to reverse odd \n",
    "            # numbered articles but here, the numbering\n",
    "            # is starting from 0 :P\n",
    "            if d % 2 == 0:\n",
    "                result.extend(intermediate[::-1])\n",
    "            else:\n",
    "                result.extend(intermediate)\n",
    "        return result        "
   ]
  },
  {
   "cell_type": "code",
   "execution_count": null,
   "metadata": {},
   "outputs": [],
   "source": []
  }
 ],
 "metadata": {
  "interpreter": {
   "hash": "2e61b4e68d91170e6a828addbb12c998be56a3b087bfc9988ada4585bf499f3e"
  },
  "kernelspec": {
   "display_name": "Python 3.9.7 64-bit",
   "language": "python",
   "name": "python3"
  },
  "language_info": {
   "codemirror_mode": {
    "name": "ipython",
    "version": 3
   },
   "file_extension": ".py",
   "mimetype": "text/x-python",
   "name": "python",
   "nbconvert_exporter": "python",
   "pygments_lexer": "ipython3",
   "version": "3.9.7"
  },
  "orig_nbformat": 4,
  "vscode": {
   "interpreter": {
    "hash": "2de7a550c8703f0832775f874bc3af5823a8bb93047a291348bf91f81b8d769e"
   }
  }
 },
 "nbformat": 4,
 "nbformat_minor": 2
}
