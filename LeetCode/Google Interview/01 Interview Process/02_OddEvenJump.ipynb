{
 "cells": [
  {
   "cell_type": "code",
   "execution_count": 1,
   "source": [
    "arr = [5, 1, 3, 4, 2]\r\n"
   ],
   "outputs": [],
   "metadata": {}
  },
  {
   "cell_type": "code",
   "execution_count": 2,
   "source": [
    "def largest(arr):\r\n",
    "    l1 = arr\r\n",
    "    l1.sort()\r\n",
    "    return (l1[-1])\r\n",
    "\r\n",
    "\r\n",
    "def smallest(arr):\r\n",
    "    l1 = arr\r\n",
    "    l1.sort()\r\n",
    "    return (l1[0])\r\n"
   ],
   "outputs": [],
   "metadata": {}
  },
  {
   "cell_type": "code",
   "execution_count": 3,
   "source": [
    "jumps = 0\r\n",
    "for m in range(len(arr)):\r\n",
    "    io = m  # odd jumps\r\n",
    "    ie = m  # even jumps\r\n",
    "    for j in range(m+1, len(arr)):\r\n",
    "        if (j) % 2 != 0 and arr[j] <= arr[io]:\r\n",
    "            print(\"odd: \",io, \"i=\", m)\r\n",
    "            io = j\r\n",
    "            print(\"Jumping to: \", io)\r\n",
    "        if arr[io] == arr[-1]:\r\n",
    "                # print(arr[io])\r\n",
    "            jumps += 1\r\n",
    "\r\n",
    "        if (j) %2 == 0 and arr[j]>=arr[ie]:\r\n",
    "            print(\"even: \", ie, \"i=\", m)\r\n",
    "            ie = j\r\n",
    "            print(\"Jumping to: \", ie)\r\n",
    "        if arr[ie] == arr[-1]:\r\n",
    "            # print(arr[ie])\r\n",
    "            jumps += 1\r\n",
    "print(jumps)\r\n"
   ],
   "outputs": [
    {
     "output_type": "stream",
     "name": "stdout",
     "text": [
      "odd:  0 i= 0\n",
      "Jumping to:  1\n",
      "even:  1 i= 1\n",
      "Jumping to:  2\n",
      "0\n"
     ]
    }
   ],
   "metadata": {}
  },
  {
   "cell_type": "markdown",
   "source": [
    "# Solution with bad Complexity"
   ],
   "metadata": {}
  },
  {
   "cell_type": "code",
   "execution_count": 4,
   "source": [
    "arr = [5, 1, 3, 4, 2]"
   ],
   "outputs": [],
   "metadata": {}
  },
  {
   "cell_type": "code",
   "execution_count": 5,
   "source": [
    "n = len(arr)  # length of the list\r\n",
    "odd = [-1] * n  # [-1, -1, -1, ........ n times]\r\n",
    "even = [-1] * n  # [-1, -1, -1, ........ n times]\r\n",
    "print(odd)"
   ],
   "outputs": [
    {
     "output_type": "stream",
     "name": "stdout",
     "text": [
      "[-1, -1, -1, -1, -1]\n"
     ]
    }
   ],
   "metadata": {}
  },
  {
   "cell_type": "code",
   "execution_count": 6,
   "source": [
    "dp = [[0, 0] for _ in range(n)]  # [[0, 0], [0, 0], [0, 0], ...... n times]\r\n",
    "print(dp)\r\n"
   ],
   "outputs": [
    {
     "output_type": "stream",
     "name": "stdout",
     "text": [
      "[[0, 0], [0, 0], [0, 0], [0, 0], [0, 0]]\n"
     ]
    }
   ],
   "metadata": {}
  },
  {
   "cell_type": "code",
   "execution_count": 7,
   "source": [
    "dp[-1] = [1, 1]\r\n",
    "print(dp)"
   ],
   "outputs": [
    {
     "output_type": "stream",
     "name": "stdout",
     "text": [
      "[[0, 0], [0, 0], [0, 0], [0, 0], [1, 1]]\n"
     ]
    }
   ],
   "metadata": {}
  },
  {
   "cell_type": "code",
   "execution_count": 10,
   "source": [
    "# print(\"n=\",n)\r\n",
    "print(\"arr= \", arr)\r\n",
    "for i in range(n - 2, -1, -1): # backward loop (n-2), (n-3), (n-4), ......(0)\r\n",
    "    print(\"\\niteration i=\", i)\r\n",
    "\r\n",
    "    max_val = min(arr[i + 1:])-1  # subtracting 1 from minimum value\r\n",
    "    print('arr[i + 1:]=', arr[i + 1:]) \r\n",
    "    print('max_val=', max_val, '----> min(arr[i + 1:])-1')\r\n",
    "    max_idx = -1 \r\n",
    "    min_val = max(arr[i + 1:]) + 1 # add 1 to maximum value\r\n",
    "    print('arr[i + 1:]=', arr[i + 1:])\r\n",
    "    print('min_val=', min_val, '----->max(arr[i + 1:]) + 1')\r\n",
    "    min_idx = -1\r\n",
    "\r\n",
    "    for j in range(i + 1, n):\r\n",
    "        print('j= ', j)\r\n",
    "        print('arr[j]= ', arr[j])\r\n",
    "        if arr[i] >= arr[j] and arr[j] > max_val:\r\n",
    "            max_idx = j\r\n",
    "            max_val = arr[j]\r\n",
    "        if arr[i] <= arr[j] and arr[j] < min_val:\r\n",
    "            min_idx = j\r\n",
    "            min_val = arr[j]\r\n",
    "    odd[i] = min_idx\r\n",
    "    even[i] = max_idx\r\n",
    "\r\n",
    "    print(\"odd= \",odd)\r\n",
    "    print(\"even= \",even)"
   ],
   "outputs": [
    {
     "output_type": "stream",
     "name": "stdout",
     "text": [
      "arr=  [5, 1, 3, 4, 2]\n",
      "\n",
      "iteration i= 3\n",
      "arr[i + 1:]= [2]\n",
      "max_val= 1 ----> min(arr[i + 1:])-1\n",
      "arr[i + 1:]= [2]\n",
      "min_val= 3 ----->max(arr[i + 1:]) + 1\n",
      "j=  4\n",
      "arr[j]=  2\n",
      "odd=  [-1, 4, 3, -1, -1]\n",
      "even=  [3, -1, 4, 4, -1]\n",
      "\n",
      "iteration i= 2\n",
      "arr[i + 1:]= [4, 2]\n",
      "max_val= 1 ----> min(arr[i + 1:])-1\n",
      "arr[i + 1:]= [4, 2]\n",
      "min_val= 5 ----->max(arr[i + 1:]) + 1\n",
      "j=  3\n",
      "arr[j]=  4\n",
      "j=  4\n",
      "arr[j]=  2\n",
      "odd=  [-1, 4, 3, -1, -1]\n",
      "even=  [3, -1, 4, 4, -1]\n",
      "\n",
      "iteration i= 1\n",
      "arr[i + 1:]= [3, 4, 2]\n",
      "max_val= 1 ----> min(arr[i + 1:])-1\n",
      "arr[i + 1:]= [3, 4, 2]\n",
      "min_val= 5 ----->max(arr[i + 1:]) + 1\n",
      "j=  2\n",
      "arr[j]=  3\n",
      "j=  3\n",
      "arr[j]=  4\n",
      "j=  4\n",
      "arr[j]=  2\n",
      "odd=  [-1, 4, 3, -1, -1]\n",
      "even=  [3, -1, 4, 4, -1]\n",
      "\n",
      "iteration i= 0\n",
      "arr[i + 1:]= [1, 3, 4, 2]\n",
      "max_val= 0 ----> min(arr[i + 1:])-1\n",
      "arr[i + 1:]= [1, 3, 4, 2]\n",
      "min_val= 5 ----->max(arr[i + 1:]) + 1\n",
      "j=  1\n",
      "arr[j]=  1\n",
      "j=  2\n",
      "arr[j]=  3\n",
      "j=  3\n",
      "arr[j]=  4\n",
      "j=  4\n",
      "arr[j]=  2\n",
      "odd=  [-1, 4, 3, -1, -1]\n",
      "even=  [3, -1, 4, 4, -1]\n"
     ]
    }
   ],
   "metadata": {}
  },
  {
   "cell_type": "code",
   "execution_count": 9,
   "source": [
    "ans = 1\r\n",
    "for k in range(n - 2, -1, -1):\r\n",
    "    if even[k] != -1:\r\n",
    "        dp[k][0] = dp[even[k]][1]  # even -> odd\r\n",
    "    if odd[k] != -1:\r\n",
    "        dp[k][1] = dp[odd[k]][0]  # odd -> even\r\n",
    "    ans += dp[k][1]\r\n",
    "\r\n",
    "print (ans)\r\n"
   ],
   "outputs": [
    {
     "output_type": "stream",
     "name": "stdout",
     "text": [
      "3\n"
     ]
    }
   ],
   "metadata": {}
  },
  {
   "cell_type": "code",
   "execution_count": null,
   "source": [],
   "outputs": [],
   "metadata": {}
  }
 ],
 "metadata": {
  "orig_nbformat": 4,
  "language_info": {
   "name": "python",
   "version": "3.9.6",
   "mimetype": "text/x-python",
   "codemirror_mode": {
    "name": "ipython",
    "version": 3
   },
   "pygments_lexer": "ipython3",
   "nbconvert_exporter": "python",
   "file_extension": ".py"
  },
  "kernelspec": {
   "name": "python3",
   "display_name": "Python 3.9.6 64-bit"
  },
  "interpreter": {
   "hash": "6bea1d8ff66504a0e6b074007282c7755a91039a5750500feedce32a0acf9d3a"
  }
 },
 "nbformat": 4,
 "nbformat_minor": 2
}