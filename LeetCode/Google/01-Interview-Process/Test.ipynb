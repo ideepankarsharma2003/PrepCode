{
 "cells": [
  {
   "cell_type": "markdown",
   "source": [
    "# Unique Email Addresses"
   ],
   "metadata": {}
  },
  {
   "cell_type": "code",
   "execution_count": 22,
   "source": [
    "s=set()\r\n",
    "type(s)"
   ],
   "outputs": [
    {
     "output_type": "execute_result",
     "data": {
      "text/plain": [
       "set"
      ]
     },
     "metadata": {},
     "execution_count": 22
    }
   ],
   "metadata": {}
  },
  {
   "cell_type": "code",
   "execution_count": 23,
   "source": [
    "emails = [\"test.email+alex@leetcode.com\",\"test.e.mail+bob.cathy@leetcode.com\", \"testemail+david@lee.tcode.com\"]\r\n",
    "for email in emails:\r\n",
    "    ind= email.index('@')\r\n",
    "    name = email[:ind]\r\n",
    "    domain = email[ind:]\r\n",
    "    name= name.replace('.', '')\r\n",
    "    if '+' in name:\r\n",
    "        pInd= name.index('+')\r\n",
    "        name= name[:pInd]\r\n",
    "    name.removesuffix('+')\r\n",
    "    email=name+domain\r\n",
    "    if email not in s:\r\n",
    "        s.add(email)\r\n",
    "        print(email)"
   ],
   "outputs": [],
   "metadata": {}
  },
  {
   "cell_type": "code",
   "execution_count": 24,
   "source": [
    "type(s)"
   ],
   "outputs": [
    {
     "output_type": "execute_result",
     "data": {
      "text/plain": [
       "set"
      ]
     },
     "metadata": {},
     "execution_count": 24
    }
   ],
   "metadata": {}
  },
  {
   "cell_type": "code",
   "execution_count": 25,
   "source": [
    "class Solution(object):\r\n",
    "    def numUniqueEmails(self, emails):\r\n",
    "        \"\"\"\r\n",
    "        :type emails: List[str]\r\n",
    "        :rtype: int\r\n",
    "        \"\"\"\r\n",
    "\r\n",
    "        s = set()\r\n",
    "        count = 0\r\n",
    "        for email in emails:\r\n",
    "            ind = email.index('@')\r\n",
    "            name = email[:ind]\r\n",
    "            domain = email[ind:]\r\n",
    "            name = name.replace('.', '')\r\n",
    "            if '+' in name:\r\n",
    "                pInd = name.index('+')\r\n",
    "                name = name[:pInd]\r\n",
    "            email = name+domain\r\n",
    "            if email not in s:\r\n",
    "                s.add(email)\r\n",
    "                # print(email)\r\n",
    "                count+=1\r\n",
    "        # print(count)\r\n",
    "        return count\r\n"
   ],
   "outputs": [],
   "metadata": {}
  },
  {
   "cell_type": "code",
   "execution_count": 26,
   "source": [
    "emails = [\"test.email+alex@leetcode.com\",\"test.e.mail+bob.cathy@leetcode.com\", \"testemail+david@lee.tcode.com\"]\r\n",
    "obj = Solution()\r\n",
    "obj.numUniqueEmails(emails)"
   ],
   "outputs": [
    {
     "output_type": "execute_result",
     "data": {
      "text/plain": [
       "2"
      ]
     },
     "metadata": {},
     "execution_count": 26
    }
   ],
   "metadata": {}
  },
  {
   "cell_type": "code",
   "execution_count": null,
   "source": [],
   "outputs": [],
   "metadata": {}
  }
 ],
 "metadata": {
  "interpreter": {
   "hash": "6bea1d8ff66504a0e6b074007282c7755a91039a5750500feedce32a0acf9d3a"
  },
  "kernelspec": {
   "name": "python3",
   "display_name": "Python 3.9.7 64-bit"
  },
  "language_info": {
   "codemirror_mode": {
    "name": "ipython",
    "version": 3
   },
   "file_extension": ".py",
   "mimetype": "text/x-python",
   "name": "python",
   "nbconvert_exporter": "python",
   "pygments_lexer": "ipython3",
   "version": "3.9.7"
  },
  "orig_nbformat": 4
 },
 "nbformat": 4,
 "nbformat_minor": 2
}