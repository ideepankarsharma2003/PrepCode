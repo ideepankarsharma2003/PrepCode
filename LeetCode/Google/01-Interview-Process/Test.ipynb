{
 "cells": [
  {
   "cell_type": "markdown",
   "metadata": {},
   "source": [
    "# Unique Email Addresses"
   ]
  },
  {
   "cell_type": "code",
   "execution_count": 5,
   "metadata": {},
   "outputs": [
    {
     "name": "stdout",
     "output_type": "stream",
     "text": [
      "testemail@leetcode.com\n",
      "testemail@lee.tcode.com\n"
     ]
    }
   ],
   "source": [
    "s = set()\n",
    "type(s)\n",
    "emails = [\"test.email+alex@leetcode.com\",\"test.e.mail+bob.cathy@leetcode.com\", \"testemail+david@lee.tcode.com\"]\n",
    "for email in emails:\n",
    "    ind= email.index('@')\n",
    "    name = email[:ind]\n",
    "    domain = email[ind:]\n",
    "    name= name.replace('.', '')\n",
    "    if '+' in name:\n",
    "        pInd= name.index('+')\n",
    "        name= name[:pInd]\n",
    "    name.removesuffix('+')\n",
    "    email=name+domain\n",
    "    if email not in s:\n",
    "        s.add(email)\n",
    "        print(email)\n"
   ]
  },
  {
   "cell_type": "code",
   "execution_count": 6,
   "metadata": {},
   "outputs": [
    {
     "data": {
      "text/plain": [
       "set"
      ]
     },
     "execution_count": 6,
     "metadata": {},
     "output_type": "execute_result"
    }
   ],
   "source": [
    "type(s)"
   ]
  },
  {
   "cell_type": "code",
   "execution_count": 7,
   "metadata": {},
   "outputs": [],
   "source": [
    "class Solution(object):\n",
    "    def numUniqueEmails(self, emails):\n",
    "        \"\"\"\n",
    "        :type emails: List[str]\n",
    "        :rtype: int\n",
    "        \"\"\"\n",
    "\n",
    "        s = set()\n",
    "        count = 0\n",
    "        for email in emails:\n",
    "            ind = email.index('@')\n",
    "            name = email[:ind]\n",
    "            domain = email[ind:]\n",
    "            name = name.replace('.', '')\n",
    "            if '+' in name:\n",
    "                pInd = name.index('+')\n",
    "                name = name[:pInd]\n",
    "            email = name+domain\n",
    "            if email not in s:\n",
    "                s.add(email)\n",
    "                # print(email)\n",
    "                count+=1\n",
    "        # print(count)\n",
    "        return count\n"
   ]
  },
  {
   "cell_type": "code",
   "execution_count": 8,
   "metadata": {},
   "outputs": [
    {
     "data": {
      "text/plain": [
       "2"
      ]
     },
     "execution_count": 8,
     "metadata": {},
     "output_type": "execute_result"
    }
   ],
   "source": [
    "emails = [\"test.email+alex@leetcode.com\",\"test.e.mail+bob.cathy@leetcode.com\", \"testemail+david@lee.tcode.com\"]\n",
    "obj = Solution()\n",
    "obj.numUniqueEmails(emails)"
   ]
  },
  {
   "cell_type": "markdown",
   "metadata": {},
   "source": []
  },
  {
   "cell_type": "code",
   "execution_count": 2,
   "metadata": {},
   "outputs": [
    {
     "data": {
      "text/plain": [
       "[[0, 0], [0, 0], [0, 0], [0, 0]]"
      ]
     },
     "execution_count": 2,
     "metadata": {},
     "output_type": "execute_result"
    }
   ],
   "source": [
    "dp = [[0, 0] for _ in range(4)]\n",
    "dp"
   ]
  },
  {
   "cell_type": "code",
   "execution_count": 3,
   "metadata": {},
   "outputs": [
    {
     "data": {
      "text/plain": [
       "[[0, 0], [0, 0], [0, 0], [1, 1]]"
      ]
     },
     "execution_count": 3,
     "metadata": {},
     "output_type": "execute_result"
    }
   ],
   "source": [
    "dp[-1] = [1, 1]\n",
    "dp"
   ]
  },
  {
   "cell_type": "code",
   "execution_count": null,
   "metadata": {},
   "outputs": [],
   "source": []
  }
 ],
 "metadata": {
  "interpreter": {
   "hash": "6bea1d8ff66504a0e6b074007282c7755a91039a5750500feedce32a0acf9d3a"
  },
  "kernelspec": {
   "display_name": "Python 3.9.7 64-bit",
   "name": "python3"
  },
  "language_info": {
   "codemirror_mode": {
    "name": "ipython",
    "version": 3
   },
   "file_extension": ".py",
   "mimetype": "text/x-python",
   "name": "python",
   "nbconvert_exporter": "python",
   "pygments_lexer": "ipython3",
   "version": "3.9.7"
  },
  "orig_nbformat": 4
 },
 "nbformat": 4,
 "nbformat_minor": 2
}
