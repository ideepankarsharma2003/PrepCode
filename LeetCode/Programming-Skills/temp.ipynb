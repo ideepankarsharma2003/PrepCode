{
 "cells": [
  {
   "cell_type": "code",
   "execution_count": 7,
   "metadata": {},
   "outputs": [
    {
     "name": "stdout",
     "output_type": "stream",
     "text": [
      "True\n"
     ]
    }
   ],
   "source": [
    "s1 = \"kelb\"\n",
    "s2 = \"kelb\"\n",
    "\n",
    "\n",
    "count = 0\n",
    "st1 = set()\n",
    "st2 = set()\n",
    "l= len(s1)\n",
    "for i in range(l):\n",
    "    if s1[i]!=s2[i]:\n",
    "        count+=1\n",
    "        st1.add(s1[i])\n",
    "        st2.add(s2[i])\n",
    "\n",
    "if count==0 or count==2:\n",
    "    if st1== st2:\n",
    "        print(True)\n",
    "else:\n",
    "    print(False)\n",
    "\n"
   ]
  },
  {
   "cell_type": "code",
   "execution_count": 11,
   "metadata": {},
   "outputs": [],
   "source": [
    "def isHappy(n):\n",
    "    l = [int(i) for i in str(n)]\n",
    "    s = sum([i**2 for i in l])\n",
    "    if len(l)>1:\n",
    "        while(len(l) > 1):\n",
    "            s = sum([i**2 for i in l])\n",
    "            l = [int(i) for i in str(s)]\n",
    "            # print(l)\n",
    "        if s == 1:\n",
    "            return True\n",
    "        else:\n",
    "            return False\n",
    "    else:\n",
    "        i=100\n",
    "        m= []\n",
    "        while i > 0:\n",
    "            i -= 1\n",
    "            s = sum([i**2 for i in l])\n",
    "            if s in m:\n",
    "                if 1 in m:\n",
    "                    return True\n",
    "                else:\n",
    "                    return False\n",
    "            m.append(s)\n",
    "            l = [int(i) for i in str(s)]\n",
    "            # print(s)\n"
   ]
  },
  {
   "cell_type": "code",
   "execution_count": 14,
   "metadata": {},
   "outputs": [
    {
     "name": "stdout",
     "output_type": "stream",
     "text": [
      "[7]\n"
     ]
    },
    {
     "data": {
      "text/plain": [
       "False"
      ]
     },
     "execution_count": 14,
     "metadata": {},
     "output_type": "execute_result"
    }
   ],
   "source": [
    "isHappy(1111111)\n"
   ]
  },
  {
   "cell_type": "code",
   "execution_count": 10,
   "metadata": {},
   "outputs": [
    {
     "name": "stdout",
     "output_type": "stream",
     "text": [
      "4\n",
      "16\n",
      "37\n",
      "58\n",
      "89\n",
      "145\n",
      "42\n",
      "20\n",
      "4\n",
      "16\n",
      "37\n",
      "58\n",
      "89\n",
      "145\n",
      "42\n",
      "20\n",
      "4\n",
      "16\n",
      "37\n",
      "58\n",
      "89\n",
      "145\n",
      "42\n",
      "20\n",
      "4\n",
      "16\n",
      "37\n",
      "58\n",
      "89\n",
      "145\n",
      "42\n",
      "20\n",
      "4\n",
      "16\n",
      "37\n",
      "58\n",
      "89\n",
      "145\n",
      "42\n",
      "20\n",
      "4\n",
      "16\n",
      "37\n",
      "58\n",
      "89\n",
      "145\n",
      "42\n",
      "20\n",
      "4\n",
      "16\n",
      "37\n",
      "58\n",
      "89\n",
      "145\n",
      "42\n",
      "20\n",
      "4\n",
      "16\n",
      "37\n",
      "58\n",
      "89\n",
      "145\n",
      "42\n",
      "20\n",
      "4\n",
      "16\n",
      "37\n",
      "58\n",
      "89\n",
      "145\n",
      "42\n",
      "20\n",
      "4\n",
      "16\n",
      "37\n",
      "58\n",
      "89\n",
      "145\n",
      "42\n",
      "20\n",
      "4\n",
      "16\n",
      "37\n",
      "58\n",
      "89\n",
      "145\n",
      "42\n",
      "20\n",
      "4\n",
      "16\n",
      "37\n",
      "58\n",
      "89\n",
      "145\n",
      "42\n",
      "20\n",
      "4\n",
      "16\n",
      "37\n",
      "58\n"
     ]
    }
   ],
   "source": [
    "i= 100\n",
    "l= [int(i) for i in str(2)]\n",
    "# s = sum([i**2 for i in l])\n",
    "while i>0:\n",
    "    i-=1\n",
    "    s = sum([i**2 for i in l])\n",
    "    l = [int(i) for i in str(s)]\n",
    "    print(s)\n",
    "    "
   ]
  },
  {
   "cell_type": "code",
   "execution_count": 15,
   "metadata": {},
   "outputs": [],
   "source": [
    "def isHappy(n):\n",
    "    l = [int(i) for i in str(n)]\n",
    "    s = sum([i**2 for i in l])\n",
    "    while(len(l) > 1):\n",
    "        s = sum([i**2 for i in l])\n",
    "        l = [int(i) for i in str(s)]\n",
    "        # print(l)\n",
    "    if s==1:\n",
    "        return True\n",
    "    i = 100\n",
    "    m = []\n",
    "    while i > 0:\n",
    "        i -= 1\n",
    "        s = sum([i**2 for i in l])\n",
    "        if s in m:\n",
    "            if 1 in m:\n",
    "                return True\n",
    "            else:\n",
    "                return False\n",
    "        m.append(s)\n",
    "        l = [int(i) for i in str(s)]\n",
    "        # print(s)\n"
   ]
  },
  {
   "cell_type": "code",
   "execution_count": 13,
   "metadata": {},
   "outputs": [],
   "source": [
    "def sumOddLengthSubarrays(arr):\n",
    "    s = 0\n",
    "    k = 1\n",
    "    l = len(arr)\n",
    "    if l%2!=0:\n",
    "        s+=sum(arr)\n",
    "\n",
    "    while k < l:\n",
    "        for i in range(0, l-k+1):\n",
    "            s += sum(arr[i:i+k])\n",
    "            print(f'arr= {(arr[i:i+k])}')\n",
    "        k += 2\n",
    "\n",
    "    return s\n"
   ]
  },
  {
   "cell_type": "code",
   "execution_count": 14,
   "metadata": {},
   "outputs": [
    {
     "name": "stdout",
     "output_type": "stream",
     "text": [
      "arr= [1]\n",
      "arr= [4]\n",
      "arr= [2]\n",
      "arr= [5]\n",
      "arr= [3]\n",
      "arr= [1, 4, 2]\n",
      "arr= [4, 2, 5]\n",
      "arr= [2, 5, 3]\n"
     ]
    },
    {
     "data": {
      "text/plain": [
       "58"
      ]
     },
     "execution_count": 14,
     "metadata": {},
     "output_type": "execute_result"
    }
   ],
   "source": [
    "arr = [1,4,2,5,3]\n",
    "sumOddLengthSubarrays(arr)"
   ]
  },
  {
   "cell_type": "code",
   "execution_count": 32,
   "metadata": {},
   "outputs": [
    {
     "name": "stdout",
     "output_type": "stream",
     "text": [
      "l= [1, 2, 3, 4]\n"
     ]
    },
    {
     "data": {
      "text/plain": [
       "[]"
      ]
     },
     "execution_count": 32,
     "metadata": {},
     "output_type": "execute_result"
    }
   ],
   "source": [
    "mat = [[1,2],[3,4]]\n",
    "l= [j for i in mat for j in i]\n",
    "print(f'l= {l}')\n",
    "\n",
    "r = 2\n",
    "c = 2\n",
    "# lDash= [[]]*r\n",
    "\n",
    "\n",
    "# lDash[0].append(1)\n",
    "lDash=[]\n",
    "lDash\n",
    "\n",
    "\n"
   ]
  },
  {
   "cell_type": "code",
   "execution_count": 33,
   "metadata": {},
   "outputs": [
    {
     "name": "stdout",
     "output_type": "stream",
     "text": [
      "[1]\n",
      "[1, 2]\n",
      "[3]\n",
      "[3, 4]\n"
     ]
    },
    {
     "data": {
      "text/plain": [
       "[[1, 2], [3, 4]]"
      ]
     },
     "execution_count": 33,
     "metadata": {},
     "output_type": "execute_result"
    }
   ],
   "source": [
    "rc = 0\n",
    "cc = 0\n",
    "temp=[]\n",
    "for i in range(len(l)):\n",
    "    if cc >= c:\n",
    "        cc=0\n",
    "        lDash.append(temp)\n",
    "        temp = []\n",
    "\n",
    "    temp.append(l[i])\n",
    "    print(temp)\n",
    "    cc+=1\n",
    "    \n",
    "lDash.append(temp)\n",
    "\n",
    "lDash\n"
   ]
  },
  {
   "cell_type": "code",
   "execution_count": 5,
   "metadata": {},
   "outputs": [
    {
     "name": "stdout",
     "output_type": "stream",
     "text": [
      "32\n"
     ]
    }
   ],
   "source": [
    "print(ord('a')-ord('A'))"
   ]
  },
  {
   "cell_type": "code",
   "execution_count": 6,
   "metadata": {},
   "outputs": [
    {
     "data": {
      "text/plain": [
       "False"
      ]
     },
     "execution_count": 6,
     "metadata": {},
     "output_type": "execute_result"
    }
   ],
   "source": [
    "'a'.isupper()\n"
   ]
  },
  {
   "cell_type": "code",
   "execution_count": 8,
   "metadata": {},
   "outputs": [
    {
     "data": {
      "text/plain": [
       "'b'"
      ]
     },
     "execution_count": 8,
     "metadata": {},
     "output_type": "execute_result"
    }
   ],
   "source": [
    "chr(98)"
   ]
  },
  {
   "cell_type": "code",
   "execution_count": 14,
   "metadata": {},
   "outputs": [
    {
     "data": {
      "text/plain": [
       "{'1': 'a',\n",
       " '2': 'b',\n",
       " '3': 'c',\n",
       " '4': 'd',\n",
       " '5': 'e',\n",
       " '6': 'f',\n",
       " '7': 'g',\n",
       " '8': 'h',\n",
       " '9': 'i',\n",
       " '10#': 'j',\n",
       " '11#': 'k',\n",
       " '12#': 'l',\n",
       " '13#': 'm',\n",
       " '14#': 'n',\n",
       " '15#': 'o',\n",
       " '16#': 'p',\n",
       " '17#': 'q',\n",
       " '18#': 'r',\n",
       " '19#': 's',\n",
       " '20#': 't',\n",
       " '21#': 'u',\n",
       " '22#': 'v',\n",
       " '23#': 'w',\n",
       " '24#': 'x',\n",
       " '25#': 'y',\n",
       " '26#': 'z'}"
      ]
     },
     "execution_count": 14,
     "metadata": {},
     "output_type": "execute_result"
    }
   ],
   "source": [
    "d= {}\n",
    "for i in range(97, 97+26):\n",
    "    # print(chr(i))\n",
    "    if i<106:\n",
    "        d[str(i-96)] =  chr(i)\n",
    "    else:\n",
    "        d[str(i-96) + '#'] = chr(i)\n",
    "\n",
    "d"
   ]
  },
  {
   "cell_type": "code",
   "execution_count": 22,
   "metadata": {},
   "outputs": [],
   "source": [
    "\n",
    "def freqAlphabets(s: str) -> str:\n",
    "    d = {}\n",
    "    for i in range(97, 97+26):\n",
    "        # print(chr(i))\n",
    "        if i < 106:\n",
    "            d[str(i-96)] = chr(i)\n",
    "        else:\n",
    "            d[str(i-96) + '#'] = chr(i)\n",
    "    ans = ''\n",
    "    i = 0\n",
    "    l = len(s)\n",
    "    while(i < l):\n",
    "        if i+2 < l and s[i+2] == '#':\n",
    "            ans += d[s[i:i+3]]\n",
    "            i += 3\n",
    "        else:\n",
    "            ans += d[s[i]]\n",
    "            i += 1\n",
    "    return ans"
   ]
  },
  {
   "cell_type": "code",
   "execution_count": 24,
   "metadata": {},
   "outputs": [
    {
     "data": {
      "text/plain": [
       "'jkab'"
      ]
     },
     "execution_count": 24,
     "metadata": {},
     "output_type": "execute_result"
    }
   ],
   "source": [
    "s = \"10#11#12\"\n",
    "freqAlphabets(s)"
   ]
  },
  {
   "cell_type": "code",
   "execution_count": 1,
   "metadata": {},
   "outputs": [],
   "source": [
    "words = [\"word\",\"world\",\"row\"]\n",
    "order = \"worldabcefghijkmnpqstuvxyz\""
   ]
  },
  {
   "cell_type": "code",
   "execution_count": 4,
   "metadata": {},
   "outputs": [
    {
     "data": {
      "text/plain": [
       "['world', 'word', 'row']"
      ]
     },
     "execution_count": 4,
     "metadata": {},
     "output_type": "execute_result"
    }
   ],
   "source": [
    "m= sorted(words, key= lambda x: [order.index(c) for c in x])\n",
    "m"
   ]
  },
  {
   "cell_type": "code",
   "execution_count": 5,
   "metadata": {},
   "outputs": [
    {
     "data": {
      "text/plain": [
       "False"
      ]
     },
     "execution_count": 5,
     "metadata": {},
     "output_type": "execute_result"
    }
   ],
   "source": [
    "m==words"
   ]
  },
  {
   "cell_type": "code",
   "execution_count": null,
   "metadata": {},
   "outputs": [],
   "source": []
  }
 ],
 "metadata": {
  "interpreter": {
   "hash": "2de7a550c8703f0832775f874bc3af5823a8bb93047a291348bf91f81b8d769e"
  },
  "kernelspec": {
   "display_name": "Python 3.9.9 64-bit",
   "language": "python",
   "name": "python3"
  },
  "language_info": {
   "codemirror_mode": {
    "name": "ipython",
    "version": 3
   },
   "file_extension": ".py",
   "mimetype": "text/x-python",
   "name": "python",
   "nbconvert_exporter": "python",
   "pygments_lexer": "ipython3",
   "version": "3.9.9"
  },
  "orig_nbformat": 4
 },
 "nbformat": 4,
 "nbformat_minor": 2
}
