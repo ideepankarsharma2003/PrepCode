{
 "cells": [
  {
   "cell_type": "code",
   "execution_count": 7,
   "metadata": {},
   "outputs": [
    {
     "name": "stdout",
     "output_type": "stream",
     "text": [
      "True\n"
     ]
    }
   ],
   "source": [
    "s1 = \"kelb\"\n",
    "s2 = \"kelb\"\n",
    "\n",
    "\n",
    "count = 0\n",
    "st1 = set()\n",
    "st2 = set()\n",
    "l= len(s1)\n",
    "for i in range(l):\n",
    "    if s1[i]!=s2[i]:\n",
    "        count+=1\n",
    "        st1.add(s1[i])\n",
    "        st2.add(s2[i])\n",
    "\n",
    "if count==0 or count==2:\n",
    "    if st1== st2:\n",
    "        print(True)\n",
    "else:\n",
    "    print(False)\n",
    "\n"
   ]
  },
  {
   "cell_type": "code",
   "execution_count": 11,
   "metadata": {},
   "outputs": [],
   "source": [
    "def isHappy(n):\n",
    "    l = [int(i) for i in str(n)]\n",
    "    s = sum([i**2 for i in l])\n",
    "    if len(l)>1:\n",
    "        while(len(l) > 1):\n",
    "            s = sum([i**2 for i in l])\n",
    "            l = [int(i) for i in str(s)]\n",
    "            # print(l)\n",
    "        if s == 1:\n",
    "            return True\n",
    "        else:\n",
    "            return False\n",
    "    else:\n",
    "        i=100\n",
    "        m= []\n",
    "        while i > 0:\n",
    "            i -= 1\n",
    "            s = sum([i**2 for i in l])\n",
    "            if s in m:\n",
    "                if 1 in m:\n",
    "                    return True\n",
    "                else:\n",
    "                    return False\n",
    "            m.append(s)\n",
    "            l = [int(i) for i in str(s)]\n",
    "            # print(s)\n"
   ]
  },
  {
   "cell_type": "code",
   "execution_count": 14,
   "metadata": {},
   "outputs": [
    {
     "name": "stdout",
     "output_type": "stream",
     "text": [
      "[7]\n"
     ]
    },
    {
     "data": {
      "text/plain": [
       "False"
      ]
     },
     "execution_count": 14,
     "metadata": {},
     "output_type": "execute_result"
    }
   ],
   "source": [
    "isHappy(1111111)\n"
   ]
  },
  {
   "cell_type": "code",
   "execution_count": 10,
   "metadata": {},
   "outputs": [
    {
     "name": "stdout",
     "output_type": "stream",
     "text": [
      "4\n",
      "16\n",
      "37\n",
      "58\n",
      "89\n",
      "145\n",
      "42\n",
      "20\n",
      "4\n",
      "16\n",
      "37\n",
      "58\n",
      "89\n",
      "145\n",
      "42\n",
      "20\n",
      "4\n",
      "16\n",
      "37\n",
      "58\n",
      "89\n",
      "145\n",
      "42\n",
      "20\n",
      "4\n",
      "16\n",
      "37\n",
      "58\n",
      "89\n",
      "145\n",
      "42\n",
      "20\n",
      "4\n",
      "16\n",
      "37\n",
      "58\n",
      "89\n",
      "145\n",
      "42\n",
      "20\n",
      "4\n",
      "16\n",
      "37\n",
      "58\n",
      "89\n",
      "145\n",
      "42\n",
      "20\n",
      "4\n",
      "16\n",
      "37\n",
      "58\n",
      "89\n",
      "145\n",
      "42\n",
      "20\n",
      "4\n",
      "16\n",
      "37\n",
      "58\n",
      "89\n",
      "145\n",
      "42\n",
      "20\n",
      "4\n",
      "16\n",
      "37\n",
      "58\n",
      "89\n",
      "145\n",
      "42\n",
      "20\n",
      "4\n",
      "16\n",
      "37\n",
      "58\n",
      "89\n",
      "145\n",
      "42\n",
      "20\n",
      "4\n",
      "16\n",
      "37\n",
      "58\n",
      "89\n",
      "145\n",
      "42\n",
      "20\n",
      "4\n",
      "16\n",
      "37\n",
      "58\n",
      "89\n",
      "145\n",
      "42\n",
      "20\n",
      "4\n",
      "16\n",
      "37\n",
      "58\n"
     ]
    }
   ],
   "source": [
    "i= 100\n",
    "l= [int(i) for i in str(2)]\n",
    "# s = sum([i**2 for i in l])\n",
    "while i>0:\n",
    "    i-=1\n",
    "    s = sum([i**2 for i in l])\n",
    "    l = [int(i) for i in str(s)]\n",
    "    print(s)\n",
    "    "
   ]
  },
  {
   "cell_type": "code",
   "execution_count": 15,
   "metadata": {},
   "outputs": [],
   "source": [
    "def isHappy(n):\n",
    "    l = [int(i) for i in str(n)]\n",
    "    s = sum([i**2 for i in l])\n",
    "    while(len(l) > 1):\n",
    "        s = sum([i**2 for i in l])\n",
    "        l = [int(i) for i in str(s)]\n",
    "        # print(l)\n",
    "    if s==1:\n",
    "        return True\n",
    "    i = 100\n",
    "    m = []\n",
    "    while i > 0:\n",
    "        i -= 1\n",
    "        s = sum([i**2 for i in l])\n",
    "        if s in m:\n",
    "            if 1 in m:\n",
    "                return True\n",
    "            else:\n",
    "                return False\n",
    "        m.append(s)\n",
    "        l = [int(i) for i in str(s)]\n",
    "        # print(s)\n"
   ]
  },
  {
   "cell_type": "code",
   "execution_count": 19,
   "metadata": {},
   "outputs": [
    {
     "data": {
      "text/plain": [
       "False"
      ]
     },
     "execution_count": 19,
     "metadata": {},
     "output_type": "execute_result"
    }
   ],
   "source": [
    "\n"
   ]
  },
  {
   "cell_type": "code",
   "execution_count": null,
   "metadata": {},
   "outputs": [],
   "source": []
  }
 ],
 "metadata": {
  "interpreter": {
   "hash": "2de7a550c8703f0832775f874bc3af5823a8bb93047a291348bf91f81b8d769e"
  },
  "kernelspec": {
   "display_name": "Python 3.9.9 64-bit",
   "language": "python",
   "name": "python3"
  },
  "language_info": {
   "codemirror_mode": {
    "name": "ipython",
    "version": 3
   },
   "file_extension": ".py",
   "mimetype": "text/x-python",
   "name": "python",
   "nbconvert_exporter": "python",
   "pygments_lexer": "ipython3",
   "version": "3.9.9"
  },
  "orig_nbformat": 4
 },
 "nbformat": 4,
 "nbformat_minor": 2
}
