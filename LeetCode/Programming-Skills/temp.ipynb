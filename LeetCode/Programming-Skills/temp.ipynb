{
 "cells": [
  {
   "cell_type": "code",
   "execution_count": 7,
   "metadata": {},
   "outputs": [
    {
     "name": "stdout",
     "output_type": "stream",
     "text": [
      "True\n"
     ]
    }
   ],
   "source": [
    "s1 = \"kelb\"\n",
    "s2 = \"kelb\"\n",
    "\n",
    "\n",
    "count = 0\n",
    "st1 = set()\n",
    "st2 = set()\n",
    "l= len(s1)\n",
    "for i in range(l):\n",
    "    if s1[i]!=s2[i]:\n",
    "        count+=1\n",
    "        st1.add(s1[i])\n",
    "        st2.add(s2[i])\n",
    "\n",
    "if count==0 or count==2:\n",
    "    if st1== st2:\n",
    "        print(True)\n",
    "else:\n",
    "    print(False)\n",
    "\n"
   ]
  },
  {
   "cell_type": "code",
   "execution_count": null,
   "metadata": {},
   "outputs": [],
   "source": []
  }
 ],
 "metadata": {
  "interpreter": {
   "hash": "2de7a550c8703f0832775f874bc3af5823a8bb93047a291348bf91f81b8d769e"
  },
  "kernelspec": {
   "display_name": "Python 3.9.9 64-bit",
   "language": "python",
   "name": "python3"
  },
  "language_info": {
   "codemirror_mode": {
    "name": "ipython",
    "version": 3
   },
   "file_extension": ".py",
   "mimetype": "text/x-python",
   "name": "python",
   "nbconvert_exporter": "python",
   "pygments_lexer": "ipython3",
   "version": "3.9.9"
  },
  "orig_nbformat": 4
 },
 "nbformat": 4,
 "nbformat_minor": 2
}
