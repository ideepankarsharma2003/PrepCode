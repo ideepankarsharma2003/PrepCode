{
 "cells": [
  {
   "cell_type": "code",
   "execution_count": 14,
   "metadata": {},
   "outputs": [],
   "source": [
    "def findMaxConsecutiveOnes(nums):\n",
    "    l = []\n",
    "    count = 0\n",
    "    for i in nums:\n",
    "        if i == 1:\n",
    "            # print(f'i= {i}')\n",
    "            count += 1\n",
    "        else:\n",
    "            # print(f'count= {count}')\n",
    "            l.append(count)\n",
    "            count = 0\n",
    "    l.append(count)\n",
    "    # print(l)\n",
    "    return max(l)\n"
   ]
  },
  {
   "cell_type": "code",
   "execution_count": 15,
   "metadata": {},
   "outputs": [
    {
     "data": {
      "text/plain": [
       "3"
      ]
     },
     "execution_count": 15,
     "metadata": {},
     "output_type": "execute_result"
    }
   ],
   "source": [
    "nums = [1, 1, 0, 1, 1, 1]\n",
    "findMaxConsecutiveOnes(nums)"
   ]
  },
  {
   "cell_type": "code",
   "execution_count": 16,
   "metadata": {},
   "outputs": [
    {
     "data": {
      "text/plain": [
       "5"
      ]
     },
     "execution_count": 16,
     "metadata": {},
     "output_type": "execute_result"
    }
   ],
   "source": []
  },
  {
   "cell_type": "code",
   "execution_count": 45,
   "metadata": {},
   "outputs": [],
   "source": [
    "def duplicateZeros(arr):\n",
    "    \"\"\"\n",
    "    Do not return anything, modify arr in-place instead.\n",
    "    \"\"\"\n",
    "    count= arr.count(0)\n",
    "    l= len(arr)\n",
    "    i=0\n",
    "    print(f'l= {l}')\n",
    "    while i<l:\n",
    "        # print(i)\n",
    "        if arr[i]==0:\n",
    "            arr.insert(i+1, 0)\n",
    "            i+=2\n",
    "        else:\n",
    "            i+=1\n",
    "    # arr= arr[:l]\n",
    "    i= len(arr)\n",
    "    print(f'i= {i}')\n",
    "    while i>l:\n",
    "        arr.pop()\n",
    "        i-=1\n",
    "\n",
    "    print(arr)"
   ]
  },
  {
   "cell_type": "code",
   "execution_count": 48,
   "metadata": {},
   "outputs": [
    {
     "name": "stdout",
     "output_type": "stream",
     "text": [
      "l= 8\n",
      "i= 10\n",
      "[1, 0, 0, 2, 3, 0, 0, 4]\n"
     ]
    }
   ],
   "source": [
    "nums = [1, 0, 2, 3, 0, 4, 5, 0]\n",
    "duplicateZeros(nums)\n"
   ]
  },
  {
   "cell_type": "code",
   "execution_count": null,
   "metadata": {},
   "outputs": [],
   "source": []
  },
  {
   "cell_type": "code",
   "execution_count": 53,
   "metadata": {},
   "outputs": [],
   "source": [
    "def removeDuplicates(nums):\n",
    "    d = {}\n",
    "    for i in nums:\n",
    "        if i not in d:\n",
    "          d[i] = 1\n",
    "        else:\n",
    "          d[i] += 1\n",
    "    l = list(d.keys())\n",
    "    # print(f'l= {l}')\n",
    "    for i in l:\n",
    "        while d[i] > 1:\n",
    "            nums.remove(i)\n",
    "            d[i]-=1\n",
    "    \n",
    "    print(nums)"
   ]
  },
  {
   "cell_type": "code",
   "execution_count": 54,
   "metadata": {},
   "outputs": [
    {
     "name": "stdout",
     "output_type": "stream",
     "text": [
      "l= [0, 1, 2, 3, 4]\n",
      "[0, 1, 2, 3, 4]\n"
     ]
    }
   ],
   "source": [
    "nums= [0,0,1,1,1,2,2,3,3,4]\n",
    "removeDuplicates(nums)"
   ]
  },
  {
   "cell_type": "code",
   "execution_count": null,
   "metadata": {},
   "outputs": [],
   "source": []
  },
  {
   "cell_type": "code",
   "execution_count": 16,
   "metadata": {},
   "outputs": [],
   "source": [
    "def checkIfExist(arr):\n",
    "    for i in range(len(arr)):\n",
    "        for j in range(len(arr)):\n",
    "            if arr[j] == 2*arr[i] and i!=j:\n",
    "                # print(i, j)\n",
    "                return True\n",
    "            \n",
    "        # print()\n",
    "\n",
    "    return False\n"
   ]
  },
  {
   "cell_type": "code",
   "execution_count": 17,
   "metadata": {},
   "outputs": [
    {
     "name": "stdout",
     "output_type": "stream",
     "text": [
      "False\n"
     ]
    }
   ],
   "source": [
    "arr = [-2, 0, 10, -19, 4, 6, -8]\n",
    "print(checkIfExist(arr))"
   ]
  },
  {
   "cell_type": "code",
   "execution_count": 43,
   "metadata": {},
   "outputs": [],
   "source": [
    "def validMountainArray(arr):\n",
    "    inc = 0\n",
    "    if len(arr)<3:\n",
    "        return False\n",
    "    idx = 0\n",
    "    for i in range(1, len(arr)-1):\n",
    "        # print(arr[i])\n",
    "        if arr[i] > arr[i-1] and arr[i] > arr[i+1]:\n",
    "            inc += 1\n",
    "            idx=i\n",
    "        # elif arr[i] >= arr[i-1]:\n",
    "        #     inc += 1\n",
    "        #     # idx=i\n",
    "\n",
    "\n",
    "    if inc == 1:\n",
    "        prev= arr[0]\n",
    "        for i in arr[1:idx+1]:\n",
    "            # print(i)\n",
    "            if i<=prev:\n",
    "                return False\n",
    "            prev= i\n",
    "\n",
    "        for i in arr[idx+1:]:\n",
    "            if i>=prev:\n",
    "                return False\n",
    "            prev= i\n",
    "\n",
    "        return True\n",
    "    return False\n"
   ]
  },
  {
   "cell_type": "code",
   "execution_count": 44,
   "metadata": {},
   "outputs": [
    {
     "name": "stdout",
     "output_type": "stream",
     "text": [
      "True\n"
     ]
    }
   ],
   "source": [
    "arr = [0, 1, 2, 4, 2, 1]\n",
    "print(validMountainArray(arr))\n"
   ]
  },
  {
   "cell_type": "code",
   "execution_count": 23,
   "metadata": {},
   "outputs": [],
   "source": [
    "def findMaxConsecutiveOnes(nums):\n",
    "    l=[]\n",
    "    mxS= []\n",
    "    count= 0\n",
    "    for i in nums:\n",
    "        if i==1:\n",
    "            count+=1\n",
    "        elif i==0:\n",
    "            l.append(count)\n",
    "            count = 0\n",
    "    l.append(count)\n",
    "    \n",
    "    print(f'l = {l}')\n",
    "    # prev= l[0]\n",
    "    for i in range(len(l)):\n",
    "        mxS.append(l[i]+l[i-1])\n",
    "            \n",
    "    print(f'mxS = {mxS}')\n",
    "\n",
    "    return max(mxS)+1\n"
   ]
  },
  {
   "cell_type": "code",
   "execution_count": 24,
   "metadata": {},
   "outputs": [
    {
     "name": "stdout",
     "output_type": "stream",
     "text": [
      "l = [3]\n",
      "mxS = []\n"
     ]
    },
    {
     "ename": "ValueError",
     "evalue": "max() arg is an empty sequence",
     "output_type": "error",
     "traceback": [
      "\u001b[1;31m---------------------------------------------------------------------------\u001b[0m",
      "\u001b[1;31mValueError\u001b[0m                                Traceback (most recent call last)",
      "\u001b[1;32me:\\Placement-Prep\\LeetCode\\array-101\\temp.ipynb Cell 15'\u001b[0m in \u001b[0;36m<cell line: 2>\u001b[1;34m()\u001b[0m\n\u001b[0;32m      <a href='vscode-notebook-cell:/e%3A/Placement-Prep/LeetCode/array-101/temp.ipynb#ch0000014?line=0'>1</a>\u001b[0m nums \u001b[39m=\u001b[39m [\u001b[39m1\u001b[39m, \u001b[39m1\u001b[39m, \u001b[39m1\u001b[39m]\n\u001b[1;32m----> <a href='vscode-notebook-cell:/e%3A/Placement-Prep/LeetCode/array-101/temp.ipynb#ch0000014?line=1'>2</a>\u001b[0m \u001b[39mprint\u001b[39m(findMaxConsecutiveOnes(nums))\n",
      "\u001b[1;32me:\\Placement-Prep\\LeetCode\\array-101\\temp.ipynb Cell 14'\u001b[0m in \u001b[0;36mfindMaxConsecutiveOnes\u001b[1;34m(nums)\u001b[0m\n\u001b[0;32m     <a href='vscode-notebook-cell:/e%3A/Placement-Prep/LeetCode/array-101/temp.ipynb#ch0000013?line=14'>15</a>\u001b[0m     mxS\u001b[39m.\u001b[39mappend(l[i]\u001b[39m+\u001b[39ml[i\u001b[39m-\u001b[39m\u001b[39m1\u001b[39m])\n\u001b[0;32m     <a href='vscode-notebook-cell:/e%3A/Placement-Prep/LeetCode/array-101/temp.ipynb#ch0000013?line=16'>17</a>\u001b[0m \u001b[39mprint\u001b[39m(\u001b[39mf\u001b[39m\u001b[39m'\u001b[39m\u001b[39mmxS = \u001b[39m\u001b[39m{\u001b[39;00mmxS\u001b[39m}\u001b[39;00m\u001b[39m'\u001b[39m)\n\u001b[1;32m---> <a href='vscode-notebook-cell:/e%3A/Placement-Prep/LeetCode/array-101/temp.ipynb#ch0000013?line=18'>19</a>\u001b[0m \u001b[39mreturn\u001b[39;00m \u001b[39mmax\u001b[39;49m(mxS)\u001b[39m+\u001b[39m\u001b[39m1\u001b[39m\n",
      "\u001b[1;31mValueError\u001b[0m: max() arg is an empty sequence"
     ]
    }
   ],
   "source": [
    "nums = [1, 1, 1]\n",
    "print(findMaxConsecutiveOnes(nums))"
   ]
  },
  {
   "cell_type": "code",
   "execution_count": null,
   "metadata": {},
   "outputs": [],
   "source": []
  }
 ],
 "metadata": {
  "interpreter": {
   "hash": "2de7a550c8703f0832775f874bc3af5823a8bb93047a291348bf91f81b8d769e"
  },
  "kernelspec": {
   "display_name": "Python 3.9.9 64-bit",
   "language": "python",
   "name": "python3"
  },
  "language_info": {
   "codemirror_mode": {
    "name": "ipython",
    "version": 3
   },
   "file_extension": ".py",
   "mimetype": "text/x-python",
   "name": "python",
   "nbconvert_exporter": "python",
   "pygments_lexer": "ipython3",
   "version": "3.9.9"
  },
  "orig_nbformat": 4
 },
 "nbformat": 4,
 "nbformat_minor": 2
}
