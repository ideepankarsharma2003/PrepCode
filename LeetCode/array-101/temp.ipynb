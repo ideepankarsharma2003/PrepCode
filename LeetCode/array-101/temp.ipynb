{
 "cells": [
  {
   "cell_type": "code",
   "execution_count": 14,
   "metadata": {},
   "outputs": [],
   "source": [
    "def findMaxConsecutiveOnes(nums):\n",
    "    l = []\n",
    "    count = 0\n",
    "    for i in nums:\n",
    "        if i == 1:\n",
    "            # print(f'i= {i}')\n",
    "            count += 1\n",
    "        else:\n",
    "            # print(f'count= {count}')\n",
    "            l.append(count)\n",
    "            count = 0\n",
    "    l.append(count)\n",
    "    # print(l)\n",
    "    return max(l)\n"
   ]
  },
  {
   "cell_type": "code",
   "execution_count": 15,
   "metadata": {},
   "outputs": [
    {
     "data": {
      "text/plain": [
       "3"
      ]
     },
     "execution_count": 15,
     "metadata": {},
     "output_type": "execute_result"
    }
   ],
   "source": [
    "nums = [1, 1, 0, 1, 1, 1]\n",
    "findMaxConsecutiveOnes(nums)"
   ]
  },
  {
   "cell_type": "code",
   "execution_count": 16,
   "metadata": {},
   "outputs": [
    {
     "data": {
      "text/plain": [
       "5"
      ]
     },
     "execution_count": 16,
     "metadata": {},
     "output_type": "execute_result"
    }
   ],
   "source": []
  },
  {
   "cell_type": "code",
   "execution_count": 45,
   "metadata": {},
   "outputs": [],
   "source": [
    "def duplicateZeros(arr):\n",
    "    \"\"\"\n",
    "    Do not return anything, modify arr in-place instead.\n",
    "    \"\"\"\n",
    "    count= arr.count(0)\n",
    "    l= len(arr)\n",
    "    i=0\n",
    "    print(f'l= {l}')\n",
    "    while i<l:\n",
    "        # print(i)\n",
    "        if arr[i]==0:\n",
    "            arr.insert(i+1, 0)\n",
    "            i+=2\n",
    "        else:\n",
    "            i+=1\n",
    "    # arr= arr[:l]\n",
    "    i= len(arr)\n",
    "    print(f'i= {i}')\n",
    "    while i>l:\n",
    "        arr.pop()\n",
    "        i-=1\n",
    "\n",
    "    print(arr)"
   ]
  },
  {
   "cell_type": "code",
   "execution_count": 48,
   "metadata": {},
   "outputs": [
    {
     "name": "stdout",
     "output_type": "stream",
     "text": [
      "l= 8\n",
      "i= 10\n",
      "[1, 0, 0, 2, 3, 0, 0, 4]\n"
     ]
    }
   ],
   "source": [
    "nums = [1, 0, 2, 3, 0, 4, 5, 0]\n",
    "duplicateZeros(nums)\n"
   ]
  },
  {
   "cell_type": "code",
   "execution_count": null,
   "metadata": {},
   "outputs": [],
   "source": []
  },
  {
   "cell_type": "code",
   "execution_count": 53,
   "metadata": {},
   "outputs": [],
   "source": [
    "def removeDuplicates(nums):\n",
    "    d = {}\n",
    "    for i in nums:\n",
    "        if i not in d:\n",
    "          d[i] = 1\n",
    "        else:\n",
    "          d[i] += 1\n",
    "    l = list(d.keys())\n",
    "    # print(f'l= {l}')\n",
    "    for i in l:\n",
    "        while d[i] > 1:\n",
    "            nums.remove(i)\n",
    "            d[i]-=1\n",
    "    \n",
    "    print(nums)"
   ]
  },
  {
   "cell_type": "code",
   "execution_count": 54,
   "metadata": {},
   "outputs": [
    {
     "name": "stdout",
     "output_type": "stream",
     "text": [
      "l= [0, 1, 2, 3, 4]\n",
      "[0, 1, 2, 3, 4]\n"
     ]
    }
   ],
   "source": [
    "nums= [0,0,1,1,1,2,2,3,3,4]\n",
    "removeDuplicates(nums)"
   ]
  },
  {
   "cell_type": "code",
   "execution_count": null,
   "metadata": {},
   "outputs": [],
   "source": []
  }
 ],
 "metadata": {
  "interpreter": {
   "hash": "2de7a550c8703f0832775f874bc3af5823a8bb93047a291348bf91f81b8d769e"
  },
  "kernelspec": {
   "display_name": "Python 3.9.9 64-bit",
   "language": "python",
   "name": "python3"
  },
  "language_info": {
   "codemirror_mode": {
    "name": "ipython",
    "version": 3
   },
   "file_extension": ".py",
   "mimetype": "text/x-python",
   "name": "python",
   "nbconvert_exporter": "python",
   "pygments_lexer": "ipython3",
   "version": "3.9.9"
  },
  "orig_nbformat": 4
 },
 "nbformat": 4,
 "nbformat_minor": 2
}
