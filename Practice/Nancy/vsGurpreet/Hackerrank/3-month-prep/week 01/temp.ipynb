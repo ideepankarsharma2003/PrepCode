{
 "cells": [
  {
   "cell_type": "code",
   "execution_count": 1,
   "metadata": {},
   "outputs": [],
   "source": [
    "def plusMinus(arr):\n",
    "    # Write your code here\n",
    "    p=0\n",
    "    n=0\n",
    "    z=0\n",
    "    l= len(arr)\n",
    "    x= []\n",
    "    for i in arr:\n",
    "        if i>0:\n",
    "            p+=1\n",
    "        elif i<0:\n",
    "            n+=1\n",
    "        else:\n",
    "            z+=1\n",
    "    x.append(p/l)\n",
    "    x.append(n/l)\n",
    "    x.append(z/l)\n",
    "    return x"
   ]
  },
  {
   "cell_type": "code",
   "execution_count": 2,
   "metadata": {},
   "outputs": [
    {
     "data": {
      "text/plain": [
       "[0.5, 0.3333333333333333, 0.16666666666666666]"
      ]
     },
     "execution_count": 2,
     "metadata": {},
     "output_type": "execute_result"
    }
   ],
   "source": [
    "plusMinus([-4, 3, -9, 0, 4, 1])"
   ]
  },
  {
   "cell_type": "code",
   "execution_count": 3,
   "metadata": {},
   "outputs": [
    {
     "data": {
      "text/plain": [
       "24"
      ]
     },
     "execution_count": 3,
     "metadata": {},
     "output_type": "execute_result"
    }
   ],
   "source": [
    "arr= [1, 3, 5, 7, 9]\n",
    "sum(arr[1:5])"
   ]
  },
  {
   "cell_type": "code",
   "execution_count": 4,
   "metadata": {},
   "outputs": [
    {
     "data": {
      "text/plain": [
       "[1, 3, 7, 9]"
      ]
     },
     "execution_count": 4,
     "metadata": {},
     "output_type": "execute_result"
    }
   ],
   "source": [
    "arr.pop(2)\n",
    "arr"
   ]
  },
  {
   "cell_type": "code",
   "execution_count": 5,
   "metadata": {},
   "outputs": [
    {
     "data": {
      "text/plain": [
       "9"
      ]
     },
     "execution_count": 5,
     "metadata": {},
     "output_type": "execute_result"
    }
   ],
   "source": [
    "max(arr)"
   ]
  },
  {
   "cell_type": "code",
   "execution_count": 6,
   "metadata": {},
   "outputs": [
    {
     "name": "stdout",
     "output_type": "stream",
     "text": [
      "10 14\n"
     ]
    }
   ],
   "source": [
    "arr= [1, 2, 3, 4, 5]\n",
    "sumi = []\n",
    "for i in range(len(arr)):\n",
    "     x= arr.copy()\n",
    "     (x.pop(i))\n",
    "     s = 0\n",
    "     for j in x:\n",
    "         s += j\n",
    "     sumi.append(s)\n",
    "print(min(sumi), max(sumi))\n"
   ]
  },
  {
   "cell_type": "code",
   "execution_count": null,
   "metadata": {},
   "outputs": [],
   "source": []
  },
  {
   "cell_type": "code",
   "execution_count": 7,
   "metadata": {},
   "outputs": [],
   "source": [
    "def timeConversion(s):\n",
    "    # Write your code here\n",
    "    h = (s[:2])\n",
    "    x = s[-2:]\n",
    "    date = s[:-2]\n",
    "\n",
    "    if x[0]=='A':\n",
    "        if h=='12':\n",
    "            h='00'\n",
    "    elif x[0]=='P':\n",
    "\n",
    "        h= int(h)\n",
    "        if h != 12:\n",
    "            h+=12\n",
    "        h= str(h)\n",
    "        if h=='24':\n",
    "            h='00'\n",
    "    \n",
    "    date= h+date[2:]\n",
    "\n",
    "    return date\n"
   ]
  },
  {
   "cell_type": "code",
   "execution_count": 8,
   "metadata": {},
   "outputs": [
    {
     "data": {
      "text/plain": [
       "'12:00:00'"
      ]
     },
     "execution_count": 8,
     "metadata": {},
     "output_type": "execute_result"
    }
   ],
   "source": [
    "date = '12:00:00PM'\n",
    "timeConversion(date)\n"
   ]
  },
  {
   "cell_type": "code",
   "execution_count": 9,
   "metadata": {},
   "outputs": [
    {
     "name": "stdout",
     "output_type": "stream",
     "text": [
      "[0, 1, 2, 3, 4, 5, 6]\n"
     ]
    }
   ],
   "source": [
    "arr = [\n",
    "    0,  1,  2,  4 , 6,  5,  3]\n",
    "arr.sort()\n",
    "print(arr)"
   ]
  },
  {
   "cell_type": "code",
   "execution_count": 10,
   "metadata": {},
   "outputs": [
    {
     "data": {
      "text/plain": [
       "3"
      ]
     },
     "execution_count": 10,
     "metadata": {},
     "output_type": "execute_result"
    }
   ],
   "source": [
    "7//2"
   ]
  },
  {
   "cell_type": "code",
   "execution_count": 11,
   "metadata": {},
   "outputs": [
    {
     "data": {
      "text/plain": [
       "'SSHJ'"
      ]
     },
     "execution_count": 11,
     "metadata": {},
     "output_type": "execute_result"
    }
   ],
   "source": [
    "a= \"sshj\"\n",
    "a.upper()"
   ]
  },
  {
   "cell_type": "code",
   "execution_count": 1,
   "metadata": {},
   "outputs": [
    {
     "name": "stdout",
     "output_type": "stream",
     "text": [
      "hello\n",
      "x\n"
     ]
    }
   ],
   "source": [
    "print('hello')\n",
    "\n",
    "print('x')"
   ]
  },
  {
   "cell_type": "code",
   "execution_count": null,
   "metadata": {},
   "outputs": [],
   "source": []
  }
 ],
 "metadata": {
  "interpreter": {
   "hash": "77f5994a4f4792d583b9cbc73831833bb02c0cfbb77bcb905ea66f174f635c79"
  },
  "kernelspec": {
   "display_name": "Python 3.9.9 64-bit",
   "language": "python",
   "name": "python3"
  },
  "language_info": {
   "codemirror_mode": {
    "name": "ipython",
    "version": 3
   },
   "file_extension": ".py",
   "mimetype": "text/x-python",
   "name": "python",
   "nbconvert_exporter": "python",
   "pygments_lexer": "ipython3",
   "version": "3.9.9"
  },
  "orig_nbformat": 4
 },
 "nbformat": 4,
 "nbformat_minor": 2
}
