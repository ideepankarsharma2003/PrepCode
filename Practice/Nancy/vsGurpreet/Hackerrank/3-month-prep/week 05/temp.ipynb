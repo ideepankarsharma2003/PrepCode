{
 "cells": [
  {
   "cell_type": "code",
   "execution_count": 1,
   "metadata": {},
   "outputs": [],
   "source": [
    "str= 'abd'"
   ]
  },
  {
   "cell_type": "code",
   "execution_count": 4,
   "metadata": {},
   "outputs": [
    {
     "name": "stdout",
     "output_type": "stream",
     "text": [
      "97\n",
      "a\n",
      "b\n"
     ]
    }
   ],
   "source": [
    "print(ord(str[0]))\n",
    "print(str[0])\n",
    "print(chr(98))"
   ]
  },
  {
   "cell_type": "code",
   "execution_count": 6,
   "metadata": {},
   "outputs": [
    {
     "data": {
      "text/plain": [
       "'ABD'"
      ]
     },
     "execution_count": 6,
     "metadata": {},
     "output_type": "execute_result"
    }
   ],
   "source": [
    "str.upper()"
   ]
  },
  {
   "cell_type": "code",
   "execution_count": 10,
   "metadata": {},
   "outputs": [],
   "source": [
    "def gridChallenge(grid):\n",
    "    # Write your code here\n",
    "    s = \"YES\"\n",
    "    gDash = []\n",
    "    for gr in grid:\n",
    "        gr = gr.lower()\n",
    "        l = [ord(x) for x in gr]\n",
    "        l.sort()\n",
    "        gDash.append(l)\n",
    "\n",
    "    print(gDash)\n",
    "\n",
    "    p = gDash[0][0]\n",
    "    for i in gDash:\n",
    "        if i[0] >= p:\n",
    "            p = i[0]\n",
    "        else:\n",
    "            return 'NO'\n",
    "\n",
    "    return s\n"
   ]
  },
  {
   "cell_type": "code",
   "execution_count": 13,
   "metadata": {},
   "outputs": [
    {
     "name": "stdout",
     "output_type": "stream",
     "text": [
      "[[102, 117, 120], [102, 111, 118], [104, 109, 112]]\n"
     ]
    },
    {
     "data": {
      "text/plain": [
       "'YES'"
      ]
     },
     "execution_count": 13,
     "metadata": {},
     "output_type": "execute_result"
    }
   ],
   "source": [
    "grid = ['uxf',\n",
    "        'vof',\n",
    "        'hmp',\n",
    "]\n",
    "\n",
    "\n",
    "gridChallenge(grid)\n"
   ]
  },
  {
   "cell_type": "code",
   "execution_count": 21,
   "metadata": {},
   "outputs": [],
   "source": [
    "def gridChallenge(grid):\n",
    "    # Write your code here\n",
    "    s = \"YES\"\n",
    "    gDash = []\n",
    "    for gr in grid:\n",
    "        gr = gr.lower()\n",
    "        l = [ord(x) for x in gr]\n",
    "        l.sort()\n",
    "        gDash.append(l)\n",
    "\n",
    "    # print(gDash)\n",
    "\n",
    "    p= [-1]*len(gDash[0])\n",
    "    for i in range(len(gDash)):\n",
    "        # p = gDash[i-1]\n",
    "        # print(f'p= {p}')\n",
    "        for j in range(len(gDash[i])):\n",
    "            if gDash[i][j] >= p[j]:\n",
    "                p[j] = gDash[i][j]\n",
    "            else:\n",
    "                return 'NO'\n",
    "\n",
    "    return s\n"
   ]
  },
  {
   "cell_type": "code",
   "execution_count": 22,
   "metadata": {},
   "outputs": [
    {
     "name": "stdout",
     "output_type": "stream",
     "text": [
      "[[102, 117, 120], [102, 111, 118], [104, 109, 112]]\n",
      "p= [-1, -1, -1]\n",
      "p= [102, 117, 120]\n"
     ]
    },
    {
     "data": {
      "text/plain": [
       "'NO'"
      ]
     },
     "execution_count": 22,
     "metadata": {},
     "output_type": "execute_result"
    }
   ],
   "source": [
    "grid = ['uxf',\n",
    "        'vof',\n",
    "        'hmp',\n",
    "        ]\n",
    "\n",
    "\n",
    "gridChallenge(grid)\n"
   ]
  },
  {
   "cell_type": "code",
   "execution_count": 23,
   "metadata": {},
   "outputs": [
    {
     "name": "stdout",
     "output_type": "stream",
     "text": [
      "[[97, 98, 99, 100, 101], [102, 103, 104, 105, 106], [107, 108, 109, 110, 111], [112, 113, 114, 115, 116], [117, 118, 119, 120, 121]]\n",
      "p= [-1, -1, -1, -1, -1]\n",
      "p= [97, 98, 99, 100, 101]\n",
      "p= [102, 103, 104, 105, 106]\n",
      "p= [107, 108, 109, 110, 111]\n",
      "p= [112, 113, 114, 115, 116]\n"
     ]
    },
    {
     "data": {
      "text/plain": [
       "'YES'"
      ]
     },
     "execution_count": 23,
     "metadata": {},
     "output_type": "execute_result"
    }
   ],
   "source": [
    "grid = ['eabcd',\n",
    "        'fghij',\n",
    "        'olkmn',\n",
    "        'trpqs',\n",
    "        'xywuv',\n",
    "        ]\n",
    "\n",
    "\n",
    "gridChallenge(grid)\n"
   ]
  },
  {
   "cell_type": "code",
   "execution_count": 1,
   "metadata": {},
   "outputs": [
    {
     "data": {
      "text/plain": [
       "5"
      ]
     },
     "execution_count": 1,
     "metadata": {},
     "output_type": "execute_result"
    }
   ],
   "source": [
    "5^0"
   ]
  },
  {
   "cell_type": "code",
   "execution_count": 17,
   "metadata": {},
   "outputs": [],
   "source": [
    "def sansaXor(arr):\n",
    "    # Write your code here\n",
    "    res = 0\n",
    "    l = len(arr)\n",
    "    for i in range(l):\n",
    "        for j in range(l):\n",
    "            if j+i+1>l:\n",
    "                break\n",
    "            temp = arr[j: j+i+1]\n",
    "            # print(temp)\n",
    "            for m in temp:\n",
    "                res = res ^ m\n",
    "            \n",
    "            \n",
    "            # if arr[-1] in temp:\n",
    "            #     break\n",
    "\n",
    "    return res\n"
   ]
  },
  {
   "cell_type": "code",
   "execution_count": 24,
   "metadata": {},
   "outputs": [],
   "source": [
    "def sansaXor(arr):\n",
    "    # Write your code here\n",
    "    res = 0\n",
    "    l = len(arr)\n",
    "    if l%2==0:\n",
    "        return 0\n",
    "    else:   \n",
    "        for i in range(0, l, 2):\n",
    "            res= res^arr[i]\n",
    "\n",
    "    return res\n"
   ]
  },
  {
   "cell_type": "code",
   "execution_count": 27,
   "metadata": {},
   "outputs": [
    {
     "name": "stdout",
     "output_type": "stream",
     "text": [
      "2\n"
     ]
    }
   ],
   "source": [
    "arr= [1, 2, 3]\n",
    "# arr= [4, 5, 7, 5]\n",
    "print(sansaXor(arr))\n"
   ]
  },
  {
   "cell_type": "code",
   "execution_count": 26,
   "metadata": {},
   "outputs": [
    {
     "data": {
      "text/plain": [
       "0"
      ]
     },
     "execution_count": 26,
     "metadata": {},
     "output_type": "execute_result"
    }
   ],
   "source": [
    "x= 1^2^3^(1^2^3)\n",
    "x"
   ]
  },
  {
   "cell_type": "code",
   "execution_count": 37,
   "metadata": {},
   "outputs": [],
   "source": [
    "def fibonacciModified(t1, t2, n):\n",
    "    # Write your code here\n",
    "    f = t1\n",
    "    s = t2\n",
    "    t = 0\n",
    "    for i in range(n-2):\n",
    "        t = f + s**2\n",
    "        # print(t)\n",
    "        f = s\n",
    "        s = t\n",
    "        # n = n-1\n",
    "    return t\n"
   ]
  },
  {
   "cell_type": "code",
   "execution_count": 38,
   "metadata": {},
   "outputs": [
    {
     "name": "stdout",
     "output_type": "stream",
     "text": [
      "1\n",
      "2\n",
      "5\n"
     ]
    },
    {
     "data": {
      "text/plain": [
       "5"
      ]
     },
     "execution_count": 38,
     "metadata": {},
     "output_type": "execute_result"
    }
   ],
   "source": [
    "fibonacciModified(0, 1, 5)"
   ]
  },
  {
   "cell_type": "code",
   "execution_count": null,
   "metadata": {},
   "outputs": [],
   "source": []
  }
 ],
 "metadata": {
  "interpreter": {
   "hash": "2de7a550c8703f0832775f874bc3af5823a8bb93047a291348bf91f81b8d769e"
  },
  "kernelspec": {
   "display_name": "Python 3.9.9 64-bit",
   "language": "python",
   "name": "python3"
  },
  "language_info": {
   "codemirror_mode": {
    "name": "ipython",
    "version": 3
   },
   "file_extension": ".py",
   "mimetype": "text/x-python",
   "name": "python",
   "nbconvert_exporter": "python",
   "pygments_lexer": "ipython3",
   "version": "3.9.9"
  },
  "orig_nbformat": 4
 },
 "nbformat": 4,
 "nbformat_minor": 2
}
