{
 "cells": [
  {
   "cell_type": "code",
   "execution_count": 11,
   "metadata": {},
   "outputs": [],
   "source": [
    "def check_stable(num):\n",
    "    num= str(num)\n",
    "    d= {}\n",
    "\n",
    "    for i in num:\n",
    "        if i not in d.keys():\n",
    "            d[i]= 1\n",
    "        else:\n",
    "            d[i]+= 1 \n",
    "\n",
    "    # print(d)\n",
    "    x = num[0]\n",
    "    x = d[x]\n",
    "    for i in d.values():\n",
    "        if i!=x:\n",
    "            return False\n",
    "    return True\n"
   ]
  },
  {
   "cell_type": "code",
   "execution_count": 12,
   "metadata": {},
   "outputs": [],
   "source": [
    "def password(a, b, c, d, e):\n",
    "    arr= [a, b, c, d, e]\n",
    "    ns=0 # count of stable\n",
    "    nu=0 # count of unstable\n",
    "\n",
    "    for i in arr:\n",
    "        if check_stable(i):\n",
    "            ns+=1\n",
    "        else:\n",
    "            nu+=1\n",
    "\n",
    "    return (ns*10)+nu"
   ]
  },
  {
   "cell_type": "code",
   "execution_count": 13,
   "metadata": {},
   "outputs": [
    {
     "data": {
      "text/plain": [
       "32"
      ]
     },
     "execution_count": 13,
     "metadata": {},
     "output_type": "execute_result"
    }
   ],
   "source": [
    "password(12, 1313, 122, 678, 898)"
   ]
  },
  {
   "cell_type": "code",
   "execution_count": null,
   "metadata": {},
   "outputs": [],
   "source": []
  }
 ],
 "metadata": {
  "kernelspec": {
   "display_name": "Python 3.9.7 64-bit",
   "language": "python",
   "name": "python3"
  },
  "language_info": {
   "codemirror_mode": {
    "name": "ipython",
    "version": 3
   },
   "file_extension": ".py",
   "mimetype": "text/x-python",
   "name": "python",
   "nbconvert_exporter": "python",
   "pygments_lexer": "ipython3",
   "version": "3.9.7"
  },
  "orig_nbformat": 4,
  "vscode": {
   "interpreter": {
    "hash": "2e61b4e68d91170e6a828addbb12c998be56a3b087bfc9988ada4585bf499f3e"
   }
  }
 },
 "nbformat": 4,
 "nbformat_minor": 2
}
