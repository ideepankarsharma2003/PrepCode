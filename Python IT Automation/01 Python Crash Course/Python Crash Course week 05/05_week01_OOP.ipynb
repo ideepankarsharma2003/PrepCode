{
 "cells": [
  {
   "cell_type": "markdown",
   "source": [
    "# OBJECT ORIENTED PROGRAMMING"
   ],
   "metadata": {}
  },
  {
   "cell_type": "code",
   "execution_count": null,
   "source": [
    "obj=[1, 2, 'hello']\r\n",
    "dir(obj) # all the methods and attributes of an object obj"
   ],
   "outputs": [],
   "metadata": {}
  },
  {
   "cell_type": "code",
   "execution_count": null,
   "source": [
    "var = 9.6\r\n",
    "help(var) # all the documentation on the attributes and methods of the class of var\r\n",
    "help(var) # all the documentation on the attributes and methods of the class int"
   ],
   "outputs": [],
   "metadata": {}
  },
  {
   "cell_type": "code",
   "execution_count": 11,
   "source": [
    "# defining the class\r\n",
    "class Apple:\r\n",
    "    color=''\r\n",
    "    flavor=''\r\n",
    "\r\n",
    "jonagold = Apple() # create an instance of class\r\n",
    "jonagold.color='Red' \r\n",
    "jonagold.flavor='Sweet'\r\n",
    "\r\n",
    "\r\n",
    "print(jonagold.color)\r\n",
    "print(jonagold.flavor)"
   ],
   "outputs": [
    {
     "output_type": "stream",
     "name": "stdout",
     "text": [
      "Red\n",
      "Sweet\n"
     ]
    }
   ],
   "metadata": {}
  },
  {
   "cell_type": "markdown",
   "source": [
    "2.\r\n",
    "Question 2\r\n",
    "Creating new instances of class objects can be a great way to keep track of values using attributes associated with the object. The values of these attributes can be easily changed at the object level.  The following code illustrates a famous quote by George Bernard Shaw, using objects to represent people. Fill in the blanks to make the code satisfy the behavior described in the quote. "
   ],
   "metadata": {}
  },
  {
   "cell_type": "code",
   "execution_count": 26,
   "source": [
    "# “If you have an apple and I have an apple and we exchange these apples then\r\n",
    "# you and I will still each have one apple. But if you have an idea and I have\r\n",
    "# an idea and we exchange these ideas, then each of us will have two ideas.”\r\n",
    "# George Bernard Shaw\r\n",
    "\r\n",
    "class Person:\r\n",
    "    apples = 0\r\n",
    "    ideas = 0\r\n",
    "\r\n",
    "\r\n",
    "johanna = Person()\r\n",
    "johanna.apples = 1\r\n",
    "johanna.ideas = 1\r\n",
    "\r\n",
    "martin = Person()\r\n",
    "martin.apples = 2\r\n",
    "martin.ideas = 1\r\n",
    "\r\n",
    "\r\n",
    "def exchange_apples(you, me):\r\n",
    "    you.apples, me.apples = me.apples, you.apples\r\n",
    "    return (you.apples, me.apples)\r\n",
    "\r\n",
    "\r\n",
    "def exchange_ideas(you, me):\r\n",
    "    #\"you\" and \"me\" will share our ideas with one another.\r\n",
    "    #What operations need to be performed, so that each object receives\r\n",
    "    #the shared number of ideas?\r\n",
    "    #Hint: how would you assign the total number of ideas to\r\n",
    "    #each idea attribute? Do you need a temporary variable to store\r\n",
    "    #the sum of ideas, or can you find another way?\r\n",
    "    #Use as many lines of code as you need here.\r\n",
    "    you.ideas += me.ideas\r\n",
    "    me.ideas = you.ideas\r\n",
    "    return you.ideas, me.ideas\r\n",
    "\r\n",
    "\r\n",
    "exchange_apples(johanna, martin)\r\n",
    "print(\"Johanna has {} apples and Martin has {} apples\".format(\r\n",
    "    johanna.apples, martin.apples))\r\n",
    "exchange_ideas(johanna, martin)\r\n",
    "print(\"Johanna has {} ideas and Martin has {} ideas\".format(\r\n",
    "    johanna.ideas, martin.ideas))\r\n"
   ],
   "outputs": [
    {
     "output_type": "stream",
     "name": "stdout",
     "text": [
      "Johanna has 2 apples and Martin has 1 apples\n",
      "Johanna has 2 ideas and Martin has 2 ideas\n"
     ]
    }
   ],
   "metadata": {}
  },
  {
   "cell_type": "markdown",
   "source": [
    "3.\r\n",
    "Question 3\r\n",
    "The City class has the following attributes: name, country (where the city is located), elevation (measured in meters), and population (approximate, according to recent statistics). Fill in the blanks of the max_elevation_city function to return the name of the city and its country (separated by a comma), when comparing the 3 defined instances for a specified minimal population. For example, calling the function for a minimum population of 1 million: max_elevation_city(1000000) should return \"Sofia, Bulgaria\". "
   ],
   "metadata": {}
  },
  {
   "cell_type": "code",
   "execution_count": null,
   "source": [
    "# define a basic city class\r\n",
    "class City:\r\n",
    "\tname = \"\"\r\n",
    "\tcountry = \"\"\r\n",
    "\televation = 0\r\n",
    "\tpopulation = 0\r\n",
    "\r\n",
    "\r\n",
    "# create a new instance of the City class and\r\n",
    "# define each attribute\r\n",
    "city1 = City()\r\n",
    "city1.name = \"Cusco\"\r\n",
    "city1.country = \"Peru\"\r\n",
    "city1.elevation = 3399\r\n",
    "city1.population = 358052\r\n",
    "\r\n",
    "# create a new instance of the City class and\r\n",
    "# define each attribute\r\n",
    "city2 = City()\r\n",
    "city2.name = \"Sofia\"\r\n",
    "city2.country = \"Bulgaria\"\r\n",
    "city2.elevation = 2290\r\n",
    "city2.population = 1241675\r\n",
    "\r\n",
    "# create a new instance of the City class and\r\n",
    "# define each attribute\r\n",
    "city3 = City()\r\n",
    "city3.name = \"Seoul\"\r\n",
    "city3.country = \"South Korea\"\r\n",
    "city3.elevation = 38\r\n",
    "city3.population = 9733509\r\n",
    "\r\n",
    "\r\n",
    "def max_elevation_city(min_population):\r\n",
    "\t# Initialize the variable that will hold\r\n",
    "\t# the information of the city with\r\n",
    "\t# the highest elevation\r\n",
    "\r\n",
    "\treturn_city = City()\r\n",
    "\televation = 0\r\n",
    "\r\n",
    "\t# Evaluate the 1st instance to meet the requirements:\r\n",
    "\t# does city #1 have at least min_population and\r\n",
    "\t# is its elevation the highest evaluated so far?\r\n",
    "\tif min_population <= city1.population:\r\n",
    "\t\treturn_city = city1\r\n",
    "\t\televation = city1.elevation\r\n",
    "\t# Evaluate the 2nd instance to meet the requirements:\r\n",
    "\t# does city #2 have at least min_population and\r\n",
    "\t# is its elevation the highest evaluated so far?\r\n",
    "\tif min_population <= city2.population and city2.elevation > elevation:\r\n",
    "\t\treturn_city = city2\r\n",
    "\t\televation = city2.elevation\r\n",
    "\t# Evaluate the 3rd instance to meet the requirements:\r\n",
    "\t# does city #3 have at least min_population and\r\n",
    "\t# is its elevation the highest evaluated so far?\r\n",
    "\tif min_population <= city3.population and city3.elevation > elevation:\r\n",
    "\t\treturn_city = city3\r\n",
    "\t\televation = city3.elevation\r\n",
    "\r\n",
    "\t#Format the return string\r\n",
    "\tif return_city.name:\r\n",
    "\t\treturn '{}, {}'.format(return_city.name, return_city.country)\r\n",
    "\telse:\r\n",
    "\t\treturn \"\"\r\n",
    "\r\n",
    "\r\n",
    "print(max_elevation_city(100000))  # Should print \"Cusco, Peru\"\r\n",
    "print(max_elevation_city(1000000))  # Should print \"Sofia, Bulgaria\"\r\n",
    "print(max_elevation_city(10000000))  # Should print \"\"\r\n"
   ],
   "outputs": [],
   "metadata": {}
  },
  {
   "cell_type": "markdown",
   "source": [
    "5.\r\n",
    "Question 5\r\n",
    "We have two pieces of furniture: a brown wood table and a red leather couch. Fill in the blanks following the creation of each Furniture class instance, so that the describe_furniture function can format a sentence that describes these pieces as follows: \"This piece of furniture is made of {color} {material}\"\r\n",
    "\r\n"
   ],
   "metadata": {}
  },
  {
   "cell_type": "code",
   "execution_count": null,
   "source": [
    "class Furniture:\r\n",
    "\tcolor = \"\"\r\n",
    "\tmaterial = \"\"\r\n",
    "\r\n",
    "\r\n",
    "table = Furniture()\r\n",
    "table.color='brown'\r\n",
    "table.material='wood'\r\n",
    "\r\n",
    "couch = Furniture()\r\n",
    "couch.color='red'\r\n",
    "couch.material='leather'\r\n",
    "\r\n",
    "\r\n",
    "def describe_furniture(piece):\r\n",
    "\treturn (\"This piece of furniture is made of {} {}\".format(piece.color, piece.material))\r\n",
    "\r\n",
    "\r\n",
    "print(describe_furniture(table))\r\n",
    "# Should be \"This piece of furniture is made of brown wood\"\r\n",
    "print(describe_furniture(couch))\r\n",
    "# Should be \"This piece of furniture is made of red leather\"\r\n"
   ],
   "outputs": [],
   "metadata": {}
  },
  {
   "cell_type": "code",
   "execution_count": null,
   "source": [],
   "outputs": [],
   "metadata": {}
  }
 ],
 "metadata": {
  "orig_nbformat": 4,
  "language_info": {
   "name": "python",
   "version": "3.9.6",
   "mimetype": "text/x-python",
   "codemirror_mode": {
    "name": "ipython",
    "version": 3
   },
   "pygments_lexer": "ipython3",
   "nbconvert_exporter": "python",
   "file_extension": ".py"
  },
  "kernelspec": {
   "name": "python3",
   "display_name": "Python 3.9.6 64-bit"
  },
  "interpreter": {
   "hash": "6bea1d8ff66504a0e6b074007282c7755a91039a5750500feedce32a0acf9d3a"
  }
 },
 "nbformat": 4,
 "nbformat_minor": 2
}