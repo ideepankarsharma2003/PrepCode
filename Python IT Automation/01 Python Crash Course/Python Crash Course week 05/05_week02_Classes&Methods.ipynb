{
 "cells": [
  {
   "cell_type": "markdown",
   "source": [
    "# CLASSES AND METHODS"
   ],
   "metadata": {}
  },
  {
   "cell_type": "code",
   "execution_count": 1,
   "source": [
    "# INSTANCE METHODS\r\n",
    "\r\n",
    "class Piglet:\r\n",
    "    name='piglet'\r\n",
    "    years=0\r\n",
    "    \r\n",
    "    def pigYears(self):\r\n",
    "        return self.years*18\r\n",
    "\r\n",
    "    def speak(self):\r\n",
    "        print(f'''oink! I'm {self.name}! oink!''')\r\n",
    "\r\n",
    "hamlet = Piglet()\r\n",
    "hamlet.name='Hamlet'\r\n",
    "hamlet.years=2\r\n",
    "hamlet.speak()\r\n",
    "print(f'The age of {hamlet.name} is {hamlet.pigYears()}')"
   ],
   "outputs": [
    {
     "output_type": "stream",
     "name": "stdout",
     "text": [
      "oink! I'm Hamlet! oink!\n",
      "The age of Hamlet is 36\n"
     ]
    }
   ],
   "metadata": {}
  },
  {
   "cell_type": "code",
   "execution_count": 4,
   "source": [
    "# CONSTRUCTORS AND OTHER SPECIAL METHODS\r\n",
    "\r\n",
    "class Apple:\r\n",
    "    \r\n",
    "    def __init__(self, color, flavour):\r\n",
    "        self.color = color\r\n",
    "        self.flavour = flavour\r\n",
    "\r\n",
    "    def __str__(self):\r\n",
    "        '''This method allows us to define how an instance of an object will be printed when it’s passed to the print() function'''\r\n",
    "        return f'This apple is {self.color} and its flavour is {self.flavour}'\r\n",
    "    \r\n",
    "\r\n",
    "\r\n",
    "jonagold = Apple('red', 'sweet')\r\n",
    "print(jonagold.color)\r\n",
    "\r\n",
    "print(jonagold) # using the special method __str__"
   ],
   "outputs": [
    {
     "output_type": "stream",
     "name": "stdout",
     "text": [
      "red\n",
      "This apple is red and its flavour is sweet\n"
     ]
    }
   ],
   "metadata": {}
  },
  {
   "cell_type": "code",
   "execution_count": 5,
   "source": [
    "# DOCUMENTING CLASSES , METHODS, AND FUNCTION \r\n",
    "\r\n",
    "# CONSTRUCTORS AND OTHER SPECIAL METHODS\r\n",
    "\r\n",
    "class Apple:\r\n",
    "    \r\n",
    "    def __init__(self, color, flavour):\r\n",
    "        '''Initializes the variable'''\r\n",
    "        self.color = color\r\n",
    "        self.flavour = flavour\r\n",
    "\r\n",
    "    def __str__(self):\r\n",
    "        '''This method allows us to define how an instance of an object will be printed when it’s passed to the print() function'''\r\n",
    "        return f'This apple is {self.color} and its flavour is {self.flavour}'\r\n",
    "\r\n"
   ],
   "outputs": [],
   "metadata": {}
  },
  {
   "cell_type": "code",
   "execution_count": null,
   "source": [
    "help(Apple)"
   ],
   "outputs": [],
   "metadata": {}
  },
  {
   "cell_type": "code",
   "execution_count": null,
   "source": [],
   "outputs": [],
   "metadata": {}
  }
 ],
 "metadata": {
  "orig_nbformat": 4,
  "language_info": {
   "name": "python",
   "version": "3.9.6",
   "mimetype": "text/x-python",
   "codemirror_mode": {
    "name": "ipython",
    "version": 3
   },
   "pygments_lexer": "ipython3",
   "nbconvert_exporter": "python",
   "file_extension": ".py"
  },
  "kernelspec": {
   "name": "python3",
   "display_name": "Python 3.9.6 64-bit"
  },
  "interpreter": {
   "hash": "6bea1d8ff66504a0e6b074007282c7755a91039a5750500feedce32a0acf9d3a"
  }
 },
 "nbformat": 4,
 "nbformat_minor": 2
}