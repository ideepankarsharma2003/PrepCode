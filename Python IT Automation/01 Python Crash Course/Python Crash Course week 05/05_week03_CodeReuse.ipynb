{
 "cells": [
  {
   "cell_type": "markdown",
   "source": [
    "# CODE REUSE"
   ],
   "metadata": {}
  },
  {
   "cell_type": "code",
   "execution_count": 3,
   "source": [
    "# INHERITANCE\r\n",
    "\r\n",
    "class Fruit:\r\n",
    "\r\n",
    "    def __init__(self, color, flavour):\r\n",
    "        self.color = color\r\n",
    "        self.flavour = flavour\r\n",
    "\r\n",
    "class Apple(Fruit):\r\n",
    "    pass\r\n",
    "\r\n",
    "class Grapes(Fruit):\r\n",
    "    pass\r\n",
    "\r\n",
    "grannySmith = Apple('green', 'tart')\r\n",
    "carnelian = Grapes('purple', 'sweet')\r\n",
    "\r\n",
    "print(grannySmith.flavour)\r\n",
    "print(carnelian.color)"
   ],
   "outputs": [
    {
     "output_type": "stream",
     "name": "stdout",
     "text": [
      "tart\n",
      "purple\n"
     ]
    }
   ],
   "metadata": {}
  },
  {
   "cell_type": "code",
   "execution_count": 6,
   "source": [
    "class Animal:\r\n",
    "    sound=''\r\n",
    "\r\n",
    "    def __init__(self, name):\r\n",
    "        self.name = name\r\n",
    "    \r\n",
    "    def speak(self):\r\n",
    "        print(f'''{self.sound} I'm {self.name} {self.sound}''')\r\n",
    "\r\n",
    "class Piglet(Animal):\r\n",
    "    sound='oink!!'\r\n",
    "\r\n",
    "\r\n",
    "hamlet = Piglet(\"Hamlet\")\r\n",
    "hamlet.speak()\r\n",
    "\r\n",
    "\r\n",
    "\r\n",
    "class Cow(Animal):\r\n",
    "    sound='moooooo!!'\r\n",
    "\r\n",
    "\r\n",
    "milky = Cow(\"Milky\")\r\n",
    "milky.speak()\r\n"
   ],
   "outputs": [
    {
     "output_type": "stream",
     "name": "stdout",
     "text": [
      "oink!! I'm Hamlet oink!!\n",
      "moooooo!! I'm Milky moooooo!!\n"
     ]
    }
   ],
   "metadata": {}
  },
  {
   "cell_type": "code",
   "execution_count": 7,
   "source": [
    "# COMPOSITION\r\n",
    "# 'is a' relationship\r\n",
    "\r\n",
    "class Repository:\r\n",
    "    def __init__(self):\r\n",
    "        self.packages = {}\r\n",
    "\r\n",
    "    def addPackage(self, package):\r\n",
    "        self.packages[package.name]=package\r\n",
    "    \r\n",
    "    def totalSize(self):\r\n",
    "        result=0\r\n",
    "        for package in self.package.values():\r\n",
    "            result+=package.size()\r\n",
    "        return result"
   ],
   "outputs": [],
   "metadata": {}
  },
  {
   "cell_type": "code",
   "execution_count": 9,
   "source": [
    "# MODULES\r\n",
    "# organize functions , classes and other data together in a structured way\r\n",
    "\r\n",
    "import random\r\n",
    "random.randint(1, 10)\r\n",
    "random.randint(1, 10)\r\n",
    "random.randint(1, 10)"
   ],
   "outputs": [
    {
     "output_type": "execute_result",
     "data": {
      "text/plain": [
       "3"
      ]
     },
     "metadata": {},
     "execution_count": 9
    }
   ],
   "metadata": {}
  },
  {
   "cell_type": "code",
   "execution_count": 11,
   "source": [
    "import datetime\r\n",
    "now = datetime.datetime.now()\r\n",
    "print(now)\r\n",
    "type(now)"
   ],
   "outputs": [
    {
     "output_type": "stream",
     "name": "stdout",
     "text": [
      "2021-08-01 12:10:49.405002\n"
     ]
    },
    {
     "output_type": "execute_result",
     "data": {
      "text/plain": [
       "datetime.datetime"
      ]
     },
     "metadata": {},
     "execution_count": 11
    }
   ],
   "metadata": {}
  },
  {
   "cell_type": "code",
   "execution_count": 13,
   "source": [
    "now.year"
   ],
   "outputs": [
    {
     "output_type": "execute_result",
     "data": {
      "text/plain": [
       "2021"
      ]
     },
     "metadata": {},
     "execution_count": 13
    }
   ],
   "metadata": {}
  },
  {
   "cell_type": "code",
   "execution_count": 14,
   "source": [
    "print(now+datetime.timedelta(days=25))"
   ],
   "outputs": [
    {
     "output_type": "stream",
     "name": "stdout",
     "text": [
      "2021-08-26 12:10:49.405002\n"
     ]
    }
   ],
   "metadata": {}
  },
  {
   "cell_type": "code",
   "execution_count": null,
   "source": [],
   "outputs": [],
   "metadata": {}
  }
 ],
 "metadata": {
  "orig_nbformat": 4,
  "language_info": {
   "name": "python",
   "version": "3.9.6",
   "mimetype": "text/x-python",
   "codemirror_mode": {
    "name": "ipython",
    "version": 3
   },
   "pygments_lexer": "ipython3",
   "nbconvert_exporter": "python",
   "file_extension": ".py"
  },
  "kernelspec": {
   "name": "python3",
   "display_name": "Python 3.9.6 64-bit"
  },
  "interpreter": {
   "hash": "6bea1d8ff66504a0e6b074007282c7755a91039a5750500feedce32a0acf9d3a"
  }
 },
 "nbformat": 4,
 "nbformat_minor": 2
}