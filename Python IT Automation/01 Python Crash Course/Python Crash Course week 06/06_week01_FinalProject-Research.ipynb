{
 "cells": [
  {
   "cell_type": "markdown",
   "source": [
    "# Research"
   ],
   "metadata": {}
  },
  {
   "cell_type": "code",
   "execution_count": 1,
   "source": [
    "# list.sort() ----> sorts the original list \r\n",
    "l1=[4, 8, 9, 34, 67, 1, 45]\r\n",
    "l1.sort()\r\n",
    "print(l1)"
   ],
   "outputs": [
    {
     "output_type": "stream",
     "name": "stdout",
     "text": [
      "[1, 4, 8, 9, 34, 45, 67]\n"
     ]
    }
   ],
   "metadata": {}
  },
  {
   "cell_type": "code",
   "execution_count": null,
   "source": [
    "names= ['Kelly', 'Abhi', 'Sam', 'Dean', 'Jack']\r\n",
    "names.sort()\r\n",
    "print(names) # sorts the list alphabetically\r\n",
    "names.sort(key=len)\r\n",
    "print(names) # sorts the list by length of string"
   ],
   "outputs": [],
   "metadata": {}
  },
  {
   "cell_type": "code",
   "execution_count": 2,
   "source": [
    "# sorted(list) ----> returns a sorted list \r\n",
    "l2=[4, 8, 9, 34, 67, 1, 45]\r\n",
    "print(sorted(l2))\r\n",
    "print(l2)"
   ],
   "outputs": [
    {
     "output_type": "stream",
     "name": "stdout",
     "text": [
      "[1, 4, 8, 9, 34, 45, 67]\n",
      "[4, 8, 9, 34, 67, 1, 45]\n"
     ]
    }
   ],
   "metadata": {}
  },
  {
   "cell_type": "code",
   "execution_count": 5,
   "source": [
    "names= ['Kelly', 'Abhi', 'Sam', 'Dean', 'Jack']\r\n",
    "print(sorted(names)) # returns a new list {names sorted alphabetically}\r\n",
    "print(sorted(names, key=len)) # returns a new list {names sorted by length of string}"
   ],
   "outputs": [
    {
     "output_type": "stream",
     "name": "stdout",
     "text": [
      "['Abhi', 'Dean', 'Jack', 'Kelly', 'Sam']\n",
      "['Sam', 'Abhi', 'Dean', 'Jack', 'Kelly']\n"
     ]
    }
   ],
   "metadata": {}
  },
  {
   "cell_type": "code",
   "execution_count": null,
   "source": [],
   "outputs": [],
   "metadata": {}
  }
 ],
 "metadata": {
  "orig_nbformat": 4,
  "language_info": {
   "name": "python",
   "version": "3.9.6",
   "mimetype": "text/x-python",
   "codemirror_mode": {
    "name": "ipython",
    "version": 3
   },
   "pygments_lexer": "ipython3",
   "nbconvert_exporter": "python",
   "file_extension": ".py"
  },
  "kernelspec": {
   "name": "python3",
   "display_name": "Python 3.9.6 64-bit"
  },
  "interpreter": {
   "hash": "6bea1d8ff66504a0e6b074007282c7755a91039a5750500feedce32a0acf9d3a"
  }
 },
 "nbformat": 4,
 "nbformat_minor": 2
}