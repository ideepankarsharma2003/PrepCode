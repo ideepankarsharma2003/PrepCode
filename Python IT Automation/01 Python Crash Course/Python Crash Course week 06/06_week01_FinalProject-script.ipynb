{
 "cells": [
  {
   "cell_type": "markdown",
   "source": [
    "# Script"
   ],
   "metadata": {}
  },
  {
   "cell_type": "code",
   "execution_count": 1,
   "source": [
    "# returns the date of the event \r\n",
    "def get_event_date(event):\r\n",
    "    return event.date"
   ],
   "outputs": [],
   "metadata": {}
  },
  {
   "cell_type": "code",
   "execution_count": 12,
   "source": [
    "def current_users(events):\r\n",
    "    events.sort(key=get_event_date)\r\n",
    "    machines={}\r\n",
    "    for event in events:\r\n",
    "        if event.machine not in machines:\r\n",
    "            machines[event.machine]=set()\r\n",
    "        if event.type=='login':\r\n",
    "            machines[event.machine].add(event.user)\r\n",
    "        # if event.type =='logout':    # a user who logged out without logging in \r\n",
    "        elif event.user in machines and event.type == \"logout\":\r\n",
    "            machines[event.machine].remove(event.user)\r\n",
    "    return machines\r\n"
   ],
   "outputs": [],
   "metadata": {}
  },
  {
   "cell_type": "code",
   "execution_count": 13,
   "source": [
    "def generate_report(machines):\r\n",
    "    for machine, users in machines.items():\r\n",
    "        if len(users)>0:\r\n",
    "            user_list=','.join(users)\r\n",
    "            print(f'{machine}: {user_list}')"
   ],
   "outputs": [],
   "metadata": {}
  },
  {
   "cell_type": "code",
   "execution_count": 14,
   "source": [
    "class Event:\r\n",
    "  def __init__(self, event_date, event_type, machine_name, user):\r\n",
    "    self.date = event_date\r\n",
    "    self.type = event_type\r\n",
    "    self.machine = machine_name\r\n",
    "    self.user = user"
   ],
   "outputs": [],
   "metadata": {}
  },
  {
   "cell_type": "code",
   "execution_count": 15,
   "source": [
    "events = [\r\n",
    "    Event('2020-01-21 12:45:56', 'login', 'myworkstation.local', 'jordan'),\r\n",
    "    Event('2020-01-22 15:53:42', 'logout', 'webserver.local', 'jordan'),\r\n",
    "    Event('2020-01-21 18:53:21', 'login', 'webserver.local', 'lane'),\r\n",
    "    Event('2020-01-22 10:25:34', 'logout', 'myworkstation.local', 'jordan'),\r\n",
    "    Event('2020-01-21 08:20:01', 'login', 'webserver.local', 'jordan'),\r\n",
    "    Event('2020-01-23 11:24:35', 'logout', 'mailserver.local', 'chris'),\r\n",
    "]"
   ],
   "outputs": [],
   "metadata": {}
  },
  {
   "cell_type": "code",
   "execution_count": 17,
   "source": [
    "users = current_users(events)\r\n",
    "print(users)\r\n",
    "\r\n",
    "generate_report(users)\r\n"
   ],
   "outputs": [
    {
     "output_type": "stream",
     "name": "stdout",
     "text": [
      "{'webserver.local': {'jordan', 'lane'}, 'myworkstation.local': {'jordan'}, 'mailserver.local': set()}\n",
      "webserver.local: jordan,lane\n",
      "myworkstation.local: jordan\n"
     ]
    }
   ],
   "metadata": {}
  },
  {
   "cell_type": "code",
   "execution_count": null,
   "source": [],
   "outputs": [],
   "metadata": {}
  }
 ],
 "metadata": {
  "orig_nbformat": 4,
  "language_info": {
   "name": "python",
   "version": "3.9.6",
   "mimetype": "text/x-python",
   "codemirror_mode": {
    "name": "ipython",
    "version": 3
   },
   "pygments_lexer": "ipython3",
   "nbconvert_exporter": "python",
   "file_extension": ".py"
  },
  "kernelspec": {
   "name": "python3",
   "display_name": "Python 3.9.6 64-bit"
  },
  "interpreter": {
   "hash": "6bea1d8ff66504a0e6b074007282c7755a91039a5750500feedce32a0acf9d3a"
  }
 },
 "nbformat": 4,
 "nbformat_minor": 2
}