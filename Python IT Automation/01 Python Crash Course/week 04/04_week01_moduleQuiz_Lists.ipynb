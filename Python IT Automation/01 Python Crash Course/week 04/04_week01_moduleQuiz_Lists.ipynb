{
 "cells": [
  {
   "cell_type": "markdown",
   "source": [
    "# LISTS"
   ],
   "metadata": {}
  },
  {
   "cell_type": "markdown",
   "source": [
    "1.\r\n",
    "Question 1\r\n",
    "Given a list of filenames, we want to rename all the files with extension hpp to the extension h. To do this, we would like to generate a new list called newfilenames, consisting of the new filenames. Fill in the blanks in the code using any of the methods you’ve learned thus far, like a for loop or a list comprehension."
   ],
   "metadata": {}
  },
  {
   "cell_type": "code",
   "execution_count": 1,
   "source": [
    "filenames = [\"program.c\", \"stdio.hpp\", \"sample.hpp\", \"a.out\", \"math.hpp\", \"hpp.out\"]\r\n",
    "# Generate newfilenames as a list containing the new filenames\r\n",
    "# using as many lines of code as your chosen method requires.\r\n",
    "newfilenames=[]\r\n",
    "for i in filenames:\r\n",
    "    if i.endswith('.hpp'):\r\n",
    "        j=i.replace('.hpp', '.h')\r\n",
    "        newfilenames.append(j)\r\n",
    "    else:\r\n",
    "        newfilenames.append(i)\r\n",
    "\r\n",
    "print(newfilenames) \r\n",
    "# Should be [\"program.c\", \"stdio.h\", \"sample.h\", \"a.out\", \"math.h\", \"hpp.out\"]"
   ],
   "outputs": [
    {
     "output_type": "stream",
     "name": "stdout",
     "text": [
      "['program.c', 'stdio.h', 'sample.h', 'a.out', 'math.h', 'hpp.out']\n"
     ]
    }
   ],
   "metadata": {}
  },
  {
   "cell_type": "markdown",
   "source": [
    "2.\r\n",
    "Question 2\r\n",
    "Let's create a function that turns text into pig latin: a simple text transformation that modifies each word moving the first character to the end and appending \"ay\" to the end. For example, python ends up as ythonpay."
   ],
   "metadata": {}
  },
  {
   "cell_type": "code",
   "execution_count": null,
   "source": [
    "def pig_latin(text):\r\n",
    "  say = \"\"\r\n",
    "  Lat=[]\r\n",
    "  # Separate the text into words\r\n",
    "  words = text.split()\r\n",
    "  for word in words:\r\n",
    "    # Create the pig latin word and add it to the list\r\n",
    "    word=word[1:len(word)]+ word[0]+ 'ay'\r\n",
    "    # print(word)\r\n",
    "    Lat.append(word)\r\n",
    "    # Turn the list back into a phrase\r\n",
    "    pigLat= ' '.join(Lat)\r\n",
    "  return pigLat\r\n",
    "\t\t\r\n",
    "print(pig_latin(\"hello how are you\")) # Should be \"ellohay owhay reaay ouyay\"\r\n",
    "print(pig_latin(\"programming in python is fun\")) # Should be \"rogrammingpay niay ythonpay siay unfay\""
   ],
   "outputs": [],
   "metadata": {}
  },
  {
   "cell_type": "markdown",
   "source": [
    "3.\r\n",
    "Question 3\r\n",
    "The permissions of a file in a Linux system are split into three sets of three permissions: read, write, and execute for the owner, group, and others. Each of the three values can be expressed as an octal number summing each permission, with 4 corresponding to read, 2 to write, and 1 to execute. Or it can be written with a string using the letters r, w, and x or - when the permission is not granted.\r\n",
    "For example: \r\n",
    "640 is read/write for the owner, read for the group, and no permissions for the others; converted to a string, it would be: \"rw-r-----\"\r\n",
    "755 is read/write/execute for the owner, and read/execute for group and others; converted to a string, it would be: \"rwxr-xr-x\"\r\n",
    "Fill in the blanks to make the code convert a permission in octal format into a string format."
   ],
   "metadata": {}
  },
  {
   "cell_type": "code",
   "execution_count": null,
   "source": [
    "def octal_to_string(octal):\r\n",
    "    result = \"\"\r\n",
    "    value_letters = [(4, \"r\"), (2, \"w\"), (1, \"x\")]\r\n",
    "    # Iterate over each of the digits in octal\r\n",
    "    for i in [int(n) for n in str(octal)]:\r\n",
    "        # Check for each of the permissions values\r\n",
    "        for value, letter in value_letters:\r\n",
    "            if i >= value:\r\n",
    "                result += letter\r\n",
    "                i -= value\r\n",
    "            else:\r\n",
    "                result+='-'\r\n",
    "    return result\r\n",
    "\r\n",
    "\r\n",
    "print(octal_to_string(755))  # Should be rwxr-xr-x\r\n",
    "print(octal_to_string(644))  # Should be rw-r--r--\r\n",
    "print(octal_to_string(750))  # Should be rwxr-x---\r\n",
    "print(octal_to_string(600))  # Should be rw-------\r\n"
   ],
   "outputs": [],
   "metadata": {}
  },
  {
   "cell_type": "markdown",
   "source": [
    "5.\r\n",
    "Question 5\r\n",
    "The group_list function accepts a group name and a list of members, and returns a string with the format: group_name: member1, member2, … For example, group_list(\"g\", [\"a\",\"b\",\"c\"]) returns \"g: a, b, c\". Fill in the gaps in this function to do that."
   ],
   "metadata": {}
  },
  {
   "cell_type": "code",
   "execution_count": null,
   "source": [
    "def group_list(group, users):\r\n",
    "  members = ''\r\n",
    "  members+=group+': '\r\n",
    "  if users=='':\r\n",
    "      return members[:len(members)-1]\r\n",
    "  for i in users:\r\n",
    "      members+=i+', '\r\n",
    "  return members[:len(members)-2]\r\n",
    "\r\n",
    "\r\n",
    "# Should be \"Marketing: Mike, Karen, Jake, Tasha\"\r\n",
    "print(group_list(\"Marketing\", [\"Mike\", \"Karen\", \"Jake\", \"Tasha\"]))\r\n",
    "# Should be \"Engineering: Kim, Jay, Tom\"\r\n",
    "print(group_list(\"Engineering\", [\"Kim\", \"Jay\", \"Tom\"]))\r\n",
    "print(group_list(\"Users\", \"\"))  # Should be \"Users:\""
   ],
   "outputs": [],
   "metadata": {}
  },
  {
   "cell_type": "markdown",
   "source": [
    "6.\r\n",
    "Question 6\r\n",
    "The guest_list function reads in a list of tuples with the name, age, and profession of each party guest, and prints the sentence \"Guest is X years old and works as __.\" for each one. For example, guest_list(('Ken', 30, \"Chef\"), (\"Pat\", 35, 'Lawyer'), ('Amanda', 25, \"Engineer\")) should print out: Ken is 30 years old and works as Chef. Pat is 35 years old and works as Lawyer. Amanda is 25 years old and works as Engineer. Fill in the gaps in this function to do that. "
   ],
   "metadata": {}
  },
  {
   "cell_type": "code",
   "execution_count": null,
   "source": [
    "def guest_list(guests):\r\n",
    "\tfor i in guests:\r\n",
    "\t\t\r\n",
    "\t\tprint(\"{} is {} years old and works as {}\".format(i[0], i[1], i[2]))\r\n",
    "\r\n",
    "\r\n",
    "guest_list([('Ken', 30, \"Chef\"), (\"Pat\", 35, 'Lawyer'),\r\n",
    "           ('Amanda', 25, \"Engineer\")])\r\n",
    "\r\n",
    "#Click Run to submit code\r\n",
    "\"\"\"\r\n",
    "Output should match:\r\n",
    "Ken is 30 years old and works as Chef\r\n",
    "Pat is 35 years old and works as Lawyer\r\n",
    "Amanda is 25 years old and works as Engineer\r\n",
    "\"\"\"\r\n"
   ],
   "outputs": [],
   "metadata": {}
  }
 ],
 "metadata": {
  "orig_nbformat": 4,
  "language_info": {
   "name": "python",
   "version": "3.9.6",
   "mimetype": "text/x-python",
   "codemirror_mode": {
    "name": "ipython",
    "version": 3
   },
   "pygments_lexer": "ipython3",
   "nbconvert_exporter": "python",
   "file_extension": ".py"
  },
  "kernelspec": {
   "name": "python3",
   "display_name": "Python 3.9.6 64-bit"
  },
  "interpreter": {
   "hash": "6bea1d8ff66504a0e6b074007282c7755a91039a5750500feedce32a0acf9d3a"
  }
 },
 "nbformat": 4,
 "nbformat_minor": 2
}