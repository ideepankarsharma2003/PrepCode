{
 "cells": [
  {
   "cell_type": "markdown",
   "source": [
    "# Strings"
   ],
   "metadata": {}
  },
  {
   "cell_type": "markdown",
   "source": [
    "1.\r\n",
    "Question 1\r\n",
    "The is_palindrome function checks if a string is a palindrome. A palindrome is a string that can be equally read from left to right or right to left, omitting blank spaces, and ignoring capitalization. Examples of palindromes are words like kayak and radar, and phrases like \"Never Odd or Even\". Fill in the blanks in this function to return True if the passed string is a palindrome, False if not.\r\n"
   ],
   "metadata": {}
  },
  {
   "cell_type": "code",
   "execution_count": 55,
   "source": [
    "def is_palindrome(input_string):\r\n",
    "\tinput_string= input_string.lower()\r\n",
    "\tinput_string=input_string.replace(' ', '')\r\n",
    "\trevStr = ''\r\n",
    "\tnewStr = ''\r\n",
    "\tfor i in range(-1, 0-len(input_string)-1, -1):\r\n",
    "\t\t# print(input_string[i], end='')\r\n",
    "\t\tif i != ' ':\r\n",
    "\t\t\trevStr += input_string[i]\r\n",
    "\t# print()\r\n",
    "\tfor i in range(len(input_string)):\r\n",
    "\t\t# print(input_string[i], end='')\r\n",
    "\t\tif i != ' ':\r\n",
    "\t\t\tnewStr += input_string[i]\r\n",
    "\t# print()\r\n",
    "\tif (newStr == revStr):\r\n",
    "\t\treturn True\r\n",
    "\treturn False\r\n",
    "\t\r\n",
    "\r\n",
    "\t\r\n",
    "\r\n",
    "\r\n",
    "print(is_palindrome(\"Never Odd or Even\"))  # Should be True\r\n",
    "print(is_palindrome(\"abc\"))  # Should be False\r\n",
    "print(is_palindrome(\"kayak\"))  # Should be True\r\n"
   ],
   "outputs": [
    {
     "output_type": "stream",
     "name": "stdout",
     "text": [
      "True\n",
      "False\n",
      "True\n"
     ]
    }
   ],
   "metadata": {}
  },
  {
   "cell_type": "markdown",
   "source": [
    "2.\r\n",
    "Question 2\r\n",
    "Using the format method, fill in the gaps in the convert_distance function so that it returns the phrase \"X miles equals Y km\", with Y having only 1 decimal place. For example, convert_distance(12) should return \"12 miles equals 19.2 km\".\r\n"
   ],
   "metadata": {}
  },
  {
   "cell_type": "code",
   "execution_count": 56,
   "source": [
    "def convert_distance(miles):\r\n",
    "\tkm = miles * 1.6\r\n",
    "\tresult = \"{} miles equals {:.1f} km\".format(miles, km)\r\n",
    "\treturn result\r\n",
    "\r\n",
    "\r\n",
    "print(convert_distance(12))  # Should be: 12 miles equals 19.2 km\r\n",
    "print(convert_distance(5.5))  # Should be: 5.5 miles equals 8.8 km\r\n",
    "print(convert_distance(11))  # Should be: 11 miles equals 17.6 km\r\n"
   ],
   "outputs": [
    {
     "output_type": "stream",
     "name": "stdout",
     "text": [
      "12 miles equals 19.2 km\n",
      "5.5 miles equals 8.8 km\n",
      "11 miles equals 17.6 km\n"
     ]
    }
   ],
   "metadata": {}
  },
  {
   "cell_type": "markdown",
   "source": [
    "4.\r\n",
    "Question 4\r\n",
    "Fill in the gaps in the nametag function so that it uses the format method to return first_name and the first initial of last_name followed by a period. For example, nametag(\"Jane\", \"Smith\") should return \"Jane S.\""
   ],
   "metadata": {}
  },
  {
   "cell_type": "code",
   "execution_count": 57,
   "source": [
    "def nametag(first_name, last_name):\r\n",
    "\treturn(\"{}.\".format(first_name+' '+ last_name[0]))\r\n",
    "\r\n",
    "\r\n",
    "print(nametag(\"Jane\", \"Smith\"))\r\n",
    "# Should display \"Jane S.\"\r\n",
    "print(nametag(\"Francesco\", \"Rinaldi\"))\r\n",
    "# Should display \"Francesco R.\"\r\n",
    "print(nametag(\"Jean-Luc\", \"Grand-Pierre\"))\r\n",
    "# Should display \"Jean-Luc G.\"\r\n"
   ],
   "outputs": [
    {
     "output_type": "stream",
     "name": "stdout",
     "text": [
      "Jane S.\n",
      "Francesco R.\n",
      "Jean-Luc G.\n"
     ]
    }
   ],
   "metadata": {}
  },
  {
   "cell_type": "markdown",
   "source": [
    "5.\r\n",
    "Question 5\r\n",
    "The replace_ending function replaces the old string in a sentence with the new string, but only if the sentence ends with the old string. If there is more than one occurrence of the old string in the sentence, only the one at the end is replaced, not all of them. For example, replace_ending(\"abcabc\", \"abc\", \"xyz\") should return abcxyz, not xyzxyz or xyzabc. The string comparison is case-sensitive, so replace_ending(\"abcabc\", \"ABC\", \"xyz\") should return abcabc (no changes made). "
   ],
   "metadata": {}
  },
  {
   "cell_type": "code",
   "execution_count": 58,
   "source": [
    "def replace_ending(sentence, old, new):\r\n",
    "    i=0\r\n",
    "    new_sentence=sentence\r\n",
    "    # Check if the old string is at the end of the sentence\r\n",
    "    if sentence.endswith(old):\r\n",
    "        i = sentence.split(' ')\r\n",
    "        i[-1]=new\r\n",
    "        # print(i)\r\n",
    "        new_sentence=\" \".join(i)\r\n",
    "    # print(i)\r\n",
    "    return new_sentence\r\n",
    "\r\n",
    "print(replace_ending(\"It's raining cats and cats\", \"cats\", \"dogs\"))\r\n",
    "# Should display \"It's raining cats and dogs\"\r\n",
    "print(replace_ending(\"She sells seashells by the seashore\", \"seashells\", \"donuts\"))\r\n",
    "# Should display \"She sells seashells by the seashore\"\r\n",
    "print(replace_ending(\"The weather is nice in May\", \"may\", \"april\"))\r\n",
    "# Should display \"The weather is nice in May\"\r\n",
    "print(replace_ending(\"The weather is nice in May\", \"May\", \"April\"))\r\n",
    "# Should display \"The weather is nice in April\""
   ],
   "outputs": [
    {
     "output_type": "stream",
     "name": "stdout",
     "text": [
      "It's raining cats and dogs\n",
      "She sells seashells by the seashore\n",
      "The weather is nice in May\n",
      "The weather is nice in April\n"
     ]
    }
   ],
   "metadata": {}
  }
 ],
 "metadata": {
  "orig_nbformat": 4,
  "language_info": {
   "name": "python",
   "version": "3.9.6",
   "mimetype": "text/x-python",
   "codemirror_mode": {
    "name": "ipython",
    "version": 3
   },
   "pygments_lexer": "ipython3",
   "nbconvert_exporter": "python",
   "file_extension": ".py"
  },
  "kernelspec": {
   "name": "python3",
   "display_name": "Python 3.9.6 64-bit"
  },
  "interpreter": {
   "hash": "6bea1d8ff66504a0e6b074007282c7755a91039a5750500feedce32a0acf9d3a"
  }
 },
 "nbformat": 4,
 "nbformat_minor": 2
}