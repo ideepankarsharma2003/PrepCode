{
 "cells": [
  {
   "cell_type": "markdown",
   "source": [
    "# DICTIONARIES"
   ],
   "metadata": {}
  },
  {
   "cell_type": "code",
   "execution_count": 4,
   "source": [
    "# iterating over the items of the dictionary\r\n",
    "my_dict= {'jpg': 10, 'txt': 14}\r\n",
    "for extension in my_dict:\r\n",
    "    print(extension)\r\n",
    "    # print the keys\r\n",
    "    print(my_dict[extension])\r\n",
    "    # print the extension"
   ],
   "outputs": [
    {
     "output_type": "stream",
     "name": "stdout",
     "text": [
      "jpg\n",
      "10\n",
      "txt\n",
      "14\n"
     ]
    }
   ],
   "metadata": {}
  },
  {
   "cell_type": "code",
   "execution_count": 7,
   "source": [
    "# items() returns key-value pair as tuple\r\n",
    "for ext, amount in my_dict.items():\r\n",
    "    print('There are {} files with {} extension. '.format(amount, ext))"
   ],
   "outputs": [
    {
     "output_type": "stream",
     "name": "stdout",
     "text": [
      "There are 10 files with jpg extension. \n",
      "There are 14 files with txt extension. \n"
     ]
    }
   ],
   "metadata": {}
  },
  {
   "cell_type": "markdown",
   "source": [
    "1.\r\n",
    "Question 1\r\n",
    "The email_list function receives a dictionary, which contains domain names as keys, and a list of users as values. Fill in the blanks to generate a list that contains complete email addresses (e.g. diana.prince@gmail.com)."
   ],
   "metadata": {}
  },
  {
   "cell_type": "code",
   "execution_count": 32,
   "source": [
    "def email_list(domains):\r\n",
    "    emails=[]\r\n",
    "    for i in domains:\r\n",
    "        users= domains[i]\r\n",
    "        for user in users:\r\n",
    "            x=''\r\n",
    "            x+=user+'@'+i\r\n",
    "            # print(x)\r\n",
    "            emails.append(x)\r\n",
    "\r\n",
    "    return emails\r\n",
    "\r\n",
    "print(email_list({\"gmail.com\": [\"clark.kent\", \"diana.prince\", \"peter.parker\"], \"yahoo.com\": [\"barbara.gordon\", \"jean.grey\"], \"hotmail.com\": [\"bruce.wayne\"]}))"
   ],
   "outputs": [
    {
     "output_type": "stream",
     "name": "stdout",
     "text": [
      "['clark.kent@gmail.com', 'diana.prince@gmail.com', 'peter.parker@gmail.com', 'barbara.gordon@yahoo.com', 'jean.grey@yahoo.com', 'bruce.wayne@hotmail.com']\n"
     ]
    }
   ],
   "metadata": {}
  },
  {
   "cell_type": "markdown",
   "source": [
    "2.\r\n",
    "Question 2\r\n",
    "The groups_per_user function receives a dictionary, which contains group names with the list of users. Users can belong to multiple groups. Fill in the blanks to return a dictionary with the users as keys and a list of their groups as values. "
   ],
   "metadata": {}
  },
  {
   "cell_type": "code",
   "execution_count": 16,
   "source": [
    "def groups_per_user(group_dictionary):\r\n",
    "\tuser_groups = {}\r\n",
    "\t# Go through group_dictionary\r\n",
    "\tfor group,users in group_dictionary.items():\r\n",
    "\t\t# Now go through the users in the group\r\n",
    "\t\tfor user in users:\r\n",
    "\t\t\tl1=[]\r\n",
    "\t\t\tif user in user_groups.keys():\r\n",
    "\t\t\t\tl1=user_groups[user]\r\n",
    "\t\t\tl1.append(group)\r\n",
    "\t\t\tuser_groups.update({user: l1})\r\n",
    "\t\t\t# Now add the group to the the list of\r\n",
    "\t\t\t# groups for this user, creating the entry\r\n",
    "\t\t\t# in the dictionary if necessary\r\n",
    "\r\n",
    "\treturn(user_groups)\r\n",
    "\r\n",
    "\r\n",
    "print(groups_per_user({\"local\": [\"admin\", \"userA\"],\r\n",
    "                       \"public\":  [\"admin\", \"userB\"],\r\n",
    "                       \"administrator\": [\"admin\"]}))\r\n"
   ],
   "outputs": [
    {
     "output_type": "stream",
     "name": "stdout",
     "text": [
      "{'admin': ['administrator'], 'userA': ['local'], 'userB': ['public']}\n"
     ]
    }
   ],
   "metadata": {}
  },
  {
   "cell_type": "markdown",
   "source": [
    "5.\r\n",
    "Question 5\r\n",
    "The add_prices function returns the total price of all of the groceries in the  dictionary. Fill in the blanks to complete this function."
   ],
   "metadata": {}
  },
  {
   "cell_type": "code",
   "execution_count": null,
   "source": [
    "def add_prices(basket):\r\n",
    "\t# Initialize the variable that will be used for the calculation\r\n",
    "\ttotal = 0\r\n",
    "\t# Iterate through the dictionary items\r\n",
    "\tfor i in basket:\r\n",
    "\t\t# Add each price to the total calculation\r\n",
    "\t\t# Hint: how do you access the values of\r\n",
    "\t\t# dictionary items?\r\n",
    "\t\ttotal += basket[i]\r\n",
    "\t# Limit the return value to 2 decimal places\r\n",
    "\treturn round(total, 2)  \r\n",
    "\r\n",
    "groceries = {\"bananas\": 1.56, \"apples\": 2.50, \"oranges\": 0.99, \"bread\": 4.59, \r\n",
    "\t\"coffee\": 6.99, \"milk\": 3.39, \"eggs\": 2.98, \"cheese\": 5.44}\r\n",
    "\r\n",
    "print(add_prices(groceries)) # Should print 28.44\r\n"
   ],
   "outputs": [
    {
     "output_type": "stream",
     "name": "stdout",
     "text": [
      "28.44\n"
     ]
    }
   ],
   "metadata": {}
  },
  {
   "cell_type": "code",
   "execution_count": null,
   "source": [],
   "outputs": [],
   "metadata": {}
  }
 ],
 "metadata": {
  "orig_nbformat": 4,
  "language_info": {
   "name": "python",
   "version": "3.9.6",
   "mimetype": "text/x-python",
   "codemirror_mode": {
    "name": "ipython",
    "version": 3
   },
   "pygments_lexer": "ipython3",
   "nbconvert_exporter": "python",
   "file_extension": ".py"
  },
  "kernelspec": {
   "name": "python3",
   "display_name": "Python 3.9.6 64-bit"
  },
  "interpreter": {
   "hash": "6bea1d8ff66504a0e6b074007282c7755a91039a5750500feedce32a0acf9d3a"
  }
 },
 "nbformat": 4,
 "nbformat_minor": 2
}