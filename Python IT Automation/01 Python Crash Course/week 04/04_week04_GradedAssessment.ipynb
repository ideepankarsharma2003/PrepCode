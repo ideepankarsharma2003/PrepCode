{
 "cells": [
  {
   "cell_type": "markdown",
   "source": [
    "1.\r\n",
    "Question 1\r\n",
    "\r\n",
    "The format_address function separates out parts of the address string into new strings: house_number and street_name, and returns: \"house number X on street named Y\". The format of the input string is: numeric house number, followed by the street name which may contain numbers, but never by themselves, and could be several words long. For example, \"123 Main Street\", \"1001 1st Ave\", or \"55 North Center Drive\". Fill in the gaps to complete this function."
   ],
   "metadata": {}
  },
  {
   "cell_type": "code",
   "execution_count": 1,
   "source": [
    "def format_address(address_string):\r\n",
    "  # Declare variables\r\n",
    "  gapIndex = address_string.index(' ')\r\n",
    "  houseNo = address_string[0:gapIndex]\r\n",
    "  houseAdd = address_string[gapIndex+1:]\r\n",
    "\r\n",
    "  # Separate the address string into parts\r\n",
    "\r\n",
    "  # Traverse through the address parts\r\n",
    "#   for __:\r\n",
    "  # Determine if the address part is the\r\n",
    "  # house number or part of the street name\r\n",
    "\r\n",
    "  # Does anything else need to be done\r\n",
    "  # before returning the result?\r\n",
    "\r\n",
    "  # Return the formatted string\r\n",
    "  return \"house number {} on street named {}\".format(houseNo, houseAdd)\r\n",
    "\r\n",
    "\r\n",
    "print(format_address(\"123 Main Street\"))\r\n",
    "# Should print: \"house number 123 on street named Main Street\"\r\n",
    "\r\n",
    "print(format_address(\"1001 1st Ave\"))\r\n",
    "# Should print: \"house number 1001 on street named 1st Ave\"\r\n",
    "\r\n",
    "print(format_address(\"55 North Center Drive\"))\r\n",
    "# Should print \"house number 55 on street named North Center Drive\"\r\n"
   ],
   "outputs": [
    {
     "output_type": "stream",
     "name": "stdout",
     "text": [
      "house number 123 on street named Main Street\n",
      "house number 1001 on street named 1st Ave\n",
      "house number 55 on street named North Center Drive\n"
     ]
    }
   ],
   "metadata": {}
  },
  {
   "cell_type": "markdown",
   "source": [
    "2.\r\n",
    "Question 2\r\n",
    "The highlight_word function changes the given word in a sentence to its upper-case version. For example, highlight_word(\"Have a nice day\", \"nice\") returns \"Have a NICE day\". Can you write this function in just one line?"
   ],
   "metadata": {}
  },
  {
   "cell_type": "code",
   "execution_count": 5,
   "source": [
    "def highlight_word(sentence, word):\r\n",
    "\treturn(sentence.replace(word, word.upper()))\r\n",
    "\r\n",
    "\r\n",
    "print(highlight_word(\"Have a nice day\", \"nice\"))\r\n",
    "print(highlight_word(\"Shhh, don't be so loud!\", \"loud\"))\r\n",
    "print(highlight_word(\"Automating with Python is fun\", \"fun\"))\r\n"
   ],
   "outputs": [
    {
     "output_type": "stream",
     "name": "stdout",
     "text": [
      "Have a NICE day\n",
      "Shhh, don't be so LOUD!\n",
      "Automating with Python is FUN\n"
     ]
    }
   ],
   "metadata": {}
  },
  {
   "cell_type": "markdown",
   "source": [
    "3.\r\n",
    "Question 3\r\n",
    "A professor with two assistants, Jamie and Drew, wants an attendance list of the students, in the order that they arrived in the classroom. Drew was the first one to note which students arrived, and then Jamie took over. After the class, they each entered their lists into the computer and emailed them to the professor, who needs to combine them into one, in the order of each student's arrival. Jamie emailed a follow-up, saying that her list is in reverse order. Complete the steps to combine them into one list as follows: the contents of Drew's list, followed by Jamie's list in reverse order, to get an accurate list of the students as they arrived."
   ],
   "metadata": {}
  },
  {
   "cell_type": "code",
   "execution_count": 12,
   "source": [
    "def combine_lists(list1, list2):\r\n",
    "  # Generate a new list containing the elements of list2\r\n",
    "  list1.reverse()\r\n",
    "  for i in list1:\r\n",
    "    list2.append(i)\r\n",
    "  # Followed by the elements of list1 in reverse order\r\n",
    "  return list2\r\n",
    "  \r\n",
    "\t\r\n",
    "Jamies_list = [\"Alice\", \"Cindy\", \"Bobby\", \"Jan\", \"Peter\"]\r\n",
    "Drews_list = [\"Mike\", \"Carol\", \"Greg\", \"Marcia\"]\r\n",
    "\r\n",
    "print(combine_lists(Jamies_list, Drews_list))"
   ],
   "outputs": [
    {
     "output_type": "stream",
     "name": "stdout",
     "text": [
      "['Mike', 'Carol', 'Greg', 'Marcia', 'Peter', 'Jan', 'Bobby', 'Cindy', 'Alice']\n"
     ]
    }
   ],
   "metadata": {}
  },
  {
   "cell_type": "markdown",
   "source": [
    "4.\r\n",
    "Question 4\r\n",
    "Use a list comprehension to create a list of squared numbers (n*n). The function receives the variables start and end, and returns a list of squares of consecutive numbers between start and end inclusively.\r\n",
    "For example, squares(2, 3) should return [4, 9]."
   ],
   "metadata": {}
  },
  {
   "cell_type": "code",
   "execution_count": 17,
   "source": [
    "def squares(start, end):\r\n",
    "    list1=[]\r\n",
    "    for i in range(start, end+1):\r\n",
    "        list1.append(i**2)\r\n",
    "    return list1\r\n",
    "\r\n",
    "print(squares(2, 3)) # Should be [4, 9]\r\n",
    "print(squares(1, 5)) # Should be [1, 4, 9, 16, 25]\r\n",
    "print(squares(0, 10)) # Should be [0, 1, 4, 9, 16, 25, 36, 49, 64, 81, 100]"
   ],
   "outputs": [
    {
     "output_type": "stream",
     "name": "stdout",
     "text": [
      "[4, 9]\n",
      "[1, 4, 9, 16, 25]\n",
      "[0, 1, 4, 9, 16, 25, 36, 49, 64, 81, 100]\n"
     ]
    }
   ],
   "metadata": {}
  },
  {
   "cell_type": "markdown",
   "source": [
    "5.\r\n",
    "Question 5\r\n",
    "Complete the code to iterate through the keys and values of the car_prices dictionary, printing out some information about each one."
   ],
   "metadata": {}
  },
  {
   "cell_type": "code",
   "execution_count": 22,
   "source": [
    "def car_listing(car_prices):\r\n",
    "  result = \"\"\r\n",
    "  for i in car_prices:\r\n",
    "    result += \"{} costs {} dollars\".format(i, car_prices[i]) + \"\\n\"\r\n",
    "  return result\r\n",
    "\r\n",
    "print(car_listing({\"Kia Soul\":19000, \"Lamborghini Diablo\":55000, \"Ford Fiesta\":13000, \"Toyota Prius\":24000}))"
   ],
   "outputs": [
    {
     "output_type": "stream",
     "name": "stdout",
     "text": [
      "Kia Soul costs 19000 dollars\n",
      "Lamborghini Diablo costs 55000 dollars\n",
      "Ford Fiesta costs 13000 dollars\n",
      "Toyota Prius costs 24000 dollars\n",
      "\n"
     ]
    }
   ],
   "metadata": {}
  },
  {
   "cell_type": "markdown",
   "source": [
    "6.\r\n",
    "Question 6\r\n",
    "Taylor and Rory are hosting a party. They sent out invitations, and each one collected responses into dictionaries, with names of their friends and how many guests each friend is bringing. Each dictionary is a partial list, but Rory's list has more current information about the number of guests. Fill in the blanks to combine both dictionaries into one, with each friend listed only once, and the number of guests from Rory's dictionary taking precedence, if a name is included in both dictionaries. Then print the resulting dictionary."
   ],
   "metadata": {}
  },
  {
   "cell_type": "code",
   "execution_count": 28,
   "source": [
    "def combine_guests(guests1, guests2):\r\n",
    "  # Combine both dictionaries into one, with each key listed \r\n",
    "  # only once, and the value from guests1 taking precedence\r\n",
    "  guests2.update(guests1)\r\n",
    "  return guests2\r\n",
    "\r\n",
    "Rorys_guests = { \"Adam\":2, \"Brenda\":3, \"David\":1, \"Jose\":3, \"Charlotte\":2, \"Terry\":1, \"Robert\":4}\r\n",
    "Taylors_guests = { \"David\":4, \"Nancy\":1, \"Robert\":2, \"Adam\":1, \"Samantha\":3, \"Chris\":5}\r\n",
    "\r\n",
    "print(combine_guests(Rorys_guests, Taylors_guests))"
   ],
   "outputs": [
    {
     "output_type": "stream",
     "name": "stdout",
     "text": [
      "{'David': 1, 'Nancy': 1, 'Robert': 4, 'Adam': 2, 'Samantha': 3, 'Chris': 5, 'Brenda': 3, 'Jose': 3, 'Charlotte': 2, 'Terry': 1}\n"
     ]
    }
   ],
   "metadata": {}
  },
  {
   "cell_type": "markdown",
   "source": [
    "7.\r\n",
    "Question 7\r\n",
    "Use a dictionary to count the frequency of letters in the input string. Only letters should be counted, not blank spaces, numbers, or punctuation. Upper case should be considered the same as lower case. For example, count_letters(\"This is a sentence.\") should return {'t': 2, 'h': 1, 'i': 2, 's': 3, 'a': 1, 'e': 3, 'n': 2, 'c': 1}."
   ],
   "metadata": {}
  },
  {
   "cell_type": "code",
   "execution_count": 2,
   "source": [
    "def count_letters(text):\r\n",
    "    result = {}\r\n",
    "    # text=text.lower()\r\n",
    "  # Go through each letter in the text\r\n",
    "    for letter in text:\r\n",
    "        letter=letter.lower()\r\n",
    "        if letter.isalpha():\r\n",
    "            if letter in result:\r\n",
    "                result[letter] += 1\r\n",
    "            else:\r\n",
    "                result[letter] = 1\r\n",
    "    # Check if the letter needs to be counted or not\r\n",
    "    # ___\r\n",
    "    # Add or increment the value in the dictionary\r\n",
    "    # ___\r\n",
    "    return result\r\n",
    "  \r\n",
    "\r\n",
    "print(count_letters(\"AaBbCc\"))\r\n",
    "# Should be {'a': 2, 'b': 2, 'c': 2}\r\n",
    "\r\n",
    "print(count_letters(\"Math is fun! 2+2=4\"))\r\n",
    "# Should be {'m': 1, 'a': 1, 't': 1, 'h': 1, 'i': 1, 's': 1, 'f': 1, 'u': 1, 'n': 1}\r\n",
    "\r\n",
    "print(count_letters(\"This is a sentence.\"))\r\n",
    "# Should be {'t': 2, 'h': 1, 'i': 2, 's': 3, 'a': 1, 'e': 3, 'n': 2, 'c': 1}\r\n"
   ],
   "outputs": [
    {
     "output_type": "stream",
     "name": "stdout",
     "text": [
      "{'a': 2, 'b': 2, 'c': 2}\n",
      "{'m': 1, 'a': 1, 't': 1, 'h': 1, ' ': 3, 'i': 1, 's': 1, 'f': 1, 'u': 1, 'n': 1, '!': 1, '2': 2, '+': 1, '=': 1, '4': 1}\n",
      "{'t': 2, 'h': 1, 'i': 2, 's': 3, ' ': 3, 'a': 1, 'e': 3, 'n': 2, 'c': 1, '.': 1}\n"
     ]
    }
   ],
   "metadata": {}
  },
  {
   "cell_type": "code",
   "execution_count": null,
   "source": [],
   "outputs": [],
   "metadata": {}
  }
 ],
 "metadata": {
  "orig_nbformat": 4,
  "language_info": {
   "name": "python",
   "version": "3.9.6",
   "mimetype": "text/x-python",
   "codemirror_mode": {
    "name": "ipython",
    "version": 3
   },
   "pygments_lexer": "ipython3",
   "nbconvert_exporter": "python",
   "file_extension": ".py"
  },
  "kernelspec": {
   "name": "python3",
   "display_name": "Python 3.9.6 64-bit"
  },
  "interpreter": {
   "hash": "6bea1d8ff66504a0e6b074007282c7755a91039a5750500feedce32a0acf9d3a"
  }
 },
 "nbformat": 4,
 "nbformat_minor": 2
}