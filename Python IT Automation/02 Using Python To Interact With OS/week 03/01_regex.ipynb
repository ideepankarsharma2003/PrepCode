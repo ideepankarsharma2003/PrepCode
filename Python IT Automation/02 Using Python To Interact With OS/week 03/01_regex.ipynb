{
 "cells": [
  {
   "cell_type": "markdown",
   "metadata": {},
   "source": [
    "# REGEX"
   ]
  },
  {
   "cell_type": "code",
   "execution_count": 1,
   "metadata": {},
   "outputs": [
    {
     "name": "stdout",
     "output_type": "stream",
     "text": [
      "2.2.1\n"
     ]
    }
   ],
   "source": [
    "import re\n",
    "print(re.__version__)"
   ]
  },
  {
   "cell_type": "code",
   "execution_count": 2,
   "metadata": {},
   "outputs": [
    {
     "name": "stdout",
     "output_type": "stream",
     "text": [
      "12345\n"
     ]
    }
   ],
   "source": [
    "log = 'July 31 07:51:48 mycomputer bad_process[12345]: ERROR Performing package upgrade'\n",
    "index= log.index('[')\n",
    "print(log[index+1: index+6])"
   ]
  },
  {
   "cell_type": "code",
   "execution_count": 3,
   "metadata": {},
   "outputs": [
    {
     "name": "stdout",
     "output_type": "stream",
     "text": [
      "12345\n"
     ]
    }
   ],
   "source": [
    "import re\n",
    "\n",
    "log = 'July 31 07:51:48 mycomputer bad_process[12345]: ERROR Performing package upgrade'\n",
    "regex= r'\\[(\\d+)\\]'\n",
    "result = re.search(regex, log)\n",
    "\n",
    "print(result[1])"
   ]
  },
  {
   "cell_type": "markdown",
   "metadata": {},
   "source": [
    "# Basic Matching with grep"
   ]
  },
  {
   "cell_type": "markdown",
   "metadata": {},
   "source": [
    "`grep thon <path>` ----> all words that contain 'thon' **case sensitive** "
   ]
  },
  {
   "cell_type": "markdown",
   "metadata": {},
   "source": [
    "`grep -i thon <path>` ----> all words that contain 'thon' **regardless of case**\n"
   ]
  },
  {
   "cell_type": "markdown",
   "metadata": {},
   "source": [
    "## `.` ----> wilcard matches any character\n",
    "\n",
    "\n",
    "## `^` ----> beginning of the line not strings\n",
    "\n",
    "\n",
    "## `$` ----> end of the line not strings"
   ]
  },
  {
   "cell_type": "markdown",
   "metadata": {},
   "source": [
    "# Basic Regular Expressions"
   ]
  },
  {
   "cell_type": "markdown",
   "metadata": {},
   "source": [
    "## Simple Matching in Python"
   ]
  },
  {
   "cell_type": "code",
   "execution_count": 4,
   "metadata": {},
   "outputs": [
    {
     "name": "stdout",
     "output_type": "stream",
     "text": [
      "<re.Match object; span=(2, 5), match='aza'>\n"
     ]
    }
   ],
   "source": [
    "import re\n",
    "#  r'string' ----> interpreter shouldn't scan any special character in the string , and pass it as it is \n",
    "result=re.search(r'aza', 'plaza') # raw string for regular expression\n",
    "\n",
    "print(result) # match object"
   ]
  },
  {
   "cell_type": "code",
   "execution_count": 5,
   "metadata": {},
   "outputs": [
    {
     "name": "stdout",
     "output_type": "stream",
     "text": [
      "<re.Match object; span=(1, 4), match='aza'>\n"
     ]
    }
   ],
   "source": [
    "import re\n",
    "result = re.search(r'aza', 'bazaar')  # raw string for regular expression\n",
    "\n",
    "print(result)  # match object"
   ]
  },
  {
   "cell_type": "code",
   "execution_count": 6,
   "metadata": {},
   "outputs": [
    {
     "name": "stdout",
     "output_type": "stream",
     "text": [
      "None\n"
     ]
    }
   ],
   "source": [
    "import re\n",
    "result = re.search(r'aza', 'ma')  # raw string for regular expression\n",
    "\n",
    "print(result)"
   ]
  },
  {
   "cell_type": "markdown",
   "metadata": {},
   "source": [
    "## search for begining of line **'`^`'**"
   ]
  },
  {
   "cell_type": "code",
   "execution_count": 7,
   "metadata": {},
   "outputs": [
    {
     "name": "stdout",
     "output_type": "stream",
     "text": [
      "<re.Match object; span=(0, 1), match='x'>\n",
      "<re.Match object; span=(0, 1), match='x'>\n",
      "None\n"
     ]
    }
   ],
   "source": [
    "import re\n",
    "result = re.search(r'^x', 'xenon is gas')  # search for begining of line\n",
    "print(result)\n",
    "result = re.search(r'^x', 'xerox')  # search for begining of line\n",
    "print(result)\n",
    "result = re.search(r'^x', 'oe')  # search for begining of line\n",
    "print(result)\n"
   ]
  },
  {
   "cell_type": "markdown",
   "metadata": {},
   "source": [
    "## search for any character **'`.`'**"
   ]
  },
  {
   "cell_type": "code",
   "execution_count": 8,
   "metadata": {},
   "outputs": [
    {
     "name": "stdout",
     "output_type": "stream",
     "text": [
      "<re.Match object; span=(0, 4), match='peng'>\n",
      "<re.Match object; span=(0, 4), match='ping'>\n",
      "None\n",
      "None\n",
      "<re.Match object; span=(0, 4), match='Peng'>\n"
     ]
    }
   ],
   "source": [
    "import re\n",
    "result = re.search(r'p.ng', 'penguin')  # search for any character\n",
    "print(result)\n",
    "result = re.search(r'p.ng', 'ping')  # search for any character\n",
    "print(result)\n",
    "result = re.search(r'p.ng', 'pen')  # search for any character\n",
    "print(result)\n",
    "result = re.search(r'p.ng', 'Penguin')  # search for any character\n",
    "print(result)\n",
    "result = re.search(r'p.ng', 'Penguin', re.IGNORECASE)  # to ignore the case of the parameter to be searched\n",
    "print(result)"
   ]
  },
  {
   "cell_type": "markdown",
   "metadata": {},
   "source": [
    "## search for end of the string **'`$`'**\n"
   ]
  },
  {
   "cell_type": "code",
   "execution_count": 9,
   "metadata": {},
   "outputs": [
    {
     "name": "stdout",
     "output_type": "stream",
     "text": [
      "<re.Match object; span=(13, 16), match='man'>\n",
      "<re.Match object; span=(6, 9), match='man'>\n",
      "None\n"
     ]
    }
   ],
   "source": [
    "import re\n",
    "result = re.search(r'man$', 'xenon is gas man')  # search for end of line\n",
    "print(result)\n",
    "result = re.search(r'man$', 'xerox man')  # search for end of line\n",
    "print(result)\n",
    "result = re.search(r'man$', 'oe')  # search for end of line\n",
    "print(result)"
   ]
  },
  {
   "cell_type": "markdown",
   "metadata": {},
   "source": [
    "## Wildcards and Character Classes\n"
   ]
  },
  {
   "cell_type": "code",
   "execution_count": 10,
   "metadata": {},
   "outputs": [
    {
     "name": "stdout",
     "output_type": "stream",
     "text": [
      "<re.Match object; span=(0, 6), match='Python'>\n",
      "<re.Match object; span=(0, 6), match='python'>\n",
      "None\n",
      "<re.Match object; span=(28, 34), match='Python'>\n"
     ]
    }
   ],
   "source": [
    "print(re.search(r'[Pp]ython', \"Python\")) # match word python for both P and p\n",
    "print(re.search(r'[Pp]ython', \"python\")) # match word python for both P and p\n",
    "print(re.search(r'[Pp]ython', \"ython is a good language !!!\")) # match word python for both P and p\n",
    "print(re.search(r'[Pp]ython', \"It is a good thing to learn Python !!!\")) # match word python for both P and p"
   ]
  },
  {
   "cell_type": "code",
   "execution_count": 11,
   "metadata": {},
   "outputs": [
    {
     "name": "stdout",
     "output_type": "stream",
     "text": [
      "<re.Match object; span=(17, 21), match='hway'>\n",
      "None\n",
      "<re.Match object; span=(2, 6), match='cway'>\n",
      "<re.Match object; span=(0, 4), match='9way'>\n",
      "<re.Match object; span=(0, 4), match='Away'>\n",
      "None\n",
      "None\n",
      "<re.Match object; span=(5, 9), match=' way'>\n"
     ]
    }
   ],
   "source": [
    "print(re.search(r'[a-z]way', \"Python is the highway of future Programming\"))  # match word <a-z>way as it can match any a-z character with 'way'\n",
    "print(re.search(r'[a-z]way', \"This is not the only way\"))  # match word <a-z>way as it can match any a-z character with 'way'\n",
    "print(re.search(r'[a-z]way', \"sycway is muway\"))  # match word <a-z>way as it can match any a-z character with 'way'\n",
    "\n",
    "\n",
    "\n",
    "print(re.search(r'[a-zA-Z0-9]way', \"9ways to run\"))  # match word <a-zA-Z0-9>way as it can match any a-zA-Z0-9 character with 'way'\n",
    "print(re.search(r'[a-zA-Z0-9]way', \"Awayttttt\"))  # match word <a-zA-Z0-9>way as it can match any a-zA-Z0-9 character with 'way'\n",
    "print(re.search(r'[a-zA-Z0-9]way', \"whey\"))  # match word <a-zA-Z0-9>way as it can match any a-zA-Z0-9 character with 'way'\n",
    "\n",
    "\n",
    "print(re.search(r'[a-zA-Z0-9]way', \"On my way!!\"))  # match word <a-zA-Z0-9>way as it can match any a-zA-Z0-9 character with 'way'\n",
    "print(re.search(r'[a-zA-Z0-9 ]way', \"On my way!!!\"))  # match word <a-zA-Z0-9>way as it can match any a-zA-Z0-9 character with 'way' and also ' ' space in this one\n"
   ]
  },
  {
   "cell_type": "code",
   "execution_count": 12,
   "metadata": {},
   "outputs": [
    {
     "name": "stdout",
     "output_type": "stream",
     "text": [
      "<re.Match object; span=(4, 5), match=' '>\n",
      "<re.Match object; span=(10, 11), match='!'>\n"
     ]
    }
   ],
   "source": [
    "# list of characters that you don't wanna match\n",
    "print(re.search(r'[^a-zA-Z0-9]', \"This is a sentence with spaces.\"))  # match string which do not match <a-zA-Z0-9>\n",
    "print(re.search(r'[^a-zA-Z0-9 ]', \"On my way !!!\"))  # match string which do not match <a-zA-Z0-9> and there's a space too"
   ]
  },
  {
   "cell_type": "code",
   "execution_count": 13,
   "metadata": {},
   "outputs": [
    {
     "name": "stdout",
     "output_type": "stream",
     "text": [
      "<re.Match object; span=(7, 10), match='Cat'>\n",
      "<re.Match object; span=(7, 10), match='Dog'>\n",
      "None\n"
     ]
    }
   ],
   "source": [
    "# '|' acts as OR\n",
    "print(re.search(r\"cat|dog\", \"I like Cats.\", re.IGNORECASE)) # matches for substring \"cat\" OR \"dog\" with case ignored\n",
    "print(re.search(r\"cat|dog\", \"I like Dogs.\", re.IGNORECASE)) # matches for substring \"cat\" OR \"dog\" with case ignored\n",
    "print(re.search(r\"cat|dog\", \"I like Elephants.\", re.IGNORECASE)) # matches for substring \"cat\" OR \"dog\" with case ignored"
   ]
  },
  {
   "cell_type": "code",
   "execution_count": 14,
   "metadata": {},
   "outputs": [
    {
     "name": "stdout",
     "output_type": "stream",
     "text": [
      "<re.Match object; span=(7, 10), match='Dog'>\n",
      "['Dog', 'cat', 'dog', 'Cat']\n"
     ]
    }
   ],
   "source": [
    "# re.findall() to find all\n",
    "print(re.search(r\"cat|dog\", \"I like Dogs and cats.\", re.IGNORECASE)) # matches for substring \"cat\" OR \"dog\" with case ignored and returns the first match.\n",
    "print(re.findall(r\"cat|dog\", \"I like Dogs and cats. But the dogs are more cute than Cats.\", re.IGNORECASE)) # matches for substring \"cat\" OR \"dog\" with case ignored and gives list of all."
   ]
  },
  {
   "cell_type": "markdown",
   "metadata": {},
   "source": [
    "## Repetition Qualifiers"
   ]
  },
  {
   "cell_type": "code",
   "execution_count": 15,
   "metadata": {},
   "outputs": [
    {
     "name": "stdout",
     "output_type": "stream",
     "text": [
      "<re.Match object; span=(0, 9), match='Pygnalion'>\n",
      "<re.Match object; span=(0, 17), match='Python Programmin'>\n",
      "<re.Match object; span=(0, 25), match='Python Programming is fun'>\n",
      "<re.Match object; span=(0, 28), match='Python Programming is fun an'>\n",
      "<re.Match object; span=(0, 6), match='Python'>\n"
     ]
    }
   ],
   "source": [
    "# Repeated matches\n",
    "print(re.search(r\"Py.*n\", \"Pygnalion\")) # match 'Py'  followed by any number of character then 'n'\n",
    "print(re.search(r\"Py.*n\", \"Python Programming \")) # match 'Py'  followed by any number of character then 'n'\n",
    "#  It is greedy because '*' takes as many characters as possible\n",
    "print(re.search(r\"Py.*n\", \"Python Programming is fun\")) # match 'Py'  followed by any number of character then 'n'\n",
    "print(re.search(r\"Py.*n\", \"Python Programming is fun and awesome\")) # match 'Py'  followed by any number of character then 'n'\n",
    "\n",
    "print(re.search(r\"Py[a-zA-Z]*n\", \"Python Programming is fun and awesome\")) # match 'Py'  followed by any 'alphabets' then 'n'"
   ]
  },
  {
   "cell_type": "code",
   "execution_count": 16,
   "metadata": {},
   "outputs": [
    {
     "name": "stdout",
     "output_type": "stream",
     "text": [
      "<re.Match object; span=(1, 3), match='ol'>\n",
      "<re.Match object; span=(1, 4), match='oll'>\n",
      "<re.Match object; span=(1, 6), match='oooll'>\n",
      "<re.Match object; span=(1, 4), match='oil'>\n",
      "None\n"
     ]
    }
   ],
   "source": [
    "# egrep command ----> '+' and '?' \n",
    "# '+' character matches one or more occurances of the character that comes before it \n",
    "\n",
    "print(re.search(r\"o+l+\", \"goldfish\"))\n",
    "print(re.search(r\"o+l+\", \"wolly\"))\n",
    "print(re.search(r\"o+l+\", \"wooolly\"))\n",
    "print(re.search(r\"oi+l+\", \"coil\"))\n",
    "print(re.search(r\"o+l+\", \"boil\"))"
   ]
  },
  {
   "cell_type": "code",
   "execution_count": 17,
   "metadata": {},
   "outputs": [
    {
     "name": "stdout",
     "output_type": "stream",
     "text": [
      "<re.Match object; span=(3, 7), match='each'>\n",
      "<re.Match object; span=(7, 12), match='peach'>\n",
      "['each', 'peach']\n"
     ]
    }
   ],
   "source": [
    "# '?' ---> zero or one occurance of the character before it\n",
    "\n",
    "print(re.search(r\"p?each\", \"To each their own\")) # 'p' was not present --> zero occurance\n",
    "print(re.search(r\"p?each\", \"I like peaches\")) # 'p' was present --> one occurance\n",
    "print(re.findall(r\"p?each\", \"We loved each of those peaches\")) # all occurances"
   ]
  },
  {
   "cell_type": "markdown",
   "metadata": {},
   "source": [
    "## Escaping Characters"
   ]
  },
  {
   "cell_type": "code",
   "execution_count": 18,
   "metadata": {},
   "outputs": [
    {
     "name": "stdout",
     "output_type": "stream",
     "text": [
      "<re.Match object; span=(2, 6), match='lcom'>\n",
      "None\n",
      "<re.Match object; span=(6, 10), match='.com'>\n"
     ]
    }
   ],
   "source": [
    "print(re.search(r\".com\", \"welcome\")) # we want to match the '.com' where '.' is just an ordinary character not a wildcard character\n",
    "print(re.search(r\"\\.com\", \"welcome\")) # we want to match the '.com' where '.' is just an ordinary character not a wildcard character\n",
    "print(re.search(r\"\\.com\", \"google.com\")) # we want to match the '.com' where '.' is just an ordinary character not a wildcard character\n"
   ]
  },
  {
   "cell_type": "code",
   "execution_count": 19,
   "metadata": {},
   "outputs": [
    {
     "name": "stdout",
     "output_type": "stream",
     "text": [
      "<re.Match object; span=(0, 4), match='This'>\n",
      "<re.Match object; span=(0, 25), match='This_is_a_normal_sentence'>\n",
      "['This', '', '56is', '', '56a', '', '56normal', '', '56sentence', '', '']\n"
     ]
    }
   ],
   "source": [
    "# '\\w' to search for alphanumeric ----> alphabets/numerical/underscores\n",
    "\n",
    "print(re.search(r\"\\w*\", \"This is a normal sentence.\"))\n",
    "print(re.search(r\"\\w*\", \"This_is_a_normal_sentence.\"))\n",
    "print(re.findall(r\"\\w*\", \"This 56is 56a 56normal 56sentence.\"))"
   ]
  },
  {
   "cell_type": "markdown",
   "metadata": {},
   "source": [
    "## Regular expressions in action"
   ]
  },
  {
   "cell_type": "code",
   "execution_count": 20,
   "metadata": {},
   "outputs": [
    {
     "name": "stdout",
     "output_type": "stream",
     "text": [
      "<re.Match object; span=(0, 9), match='Argentina'>\n",
      "<re.Match object; span=(0, 9), match='AUSTRALIA'>\n",
      "<re.Match object; span=(0, 7), match='austria'>\n",
      "None\n"
     ]
    }
   ],
   "source": [
    "# names of countries starting and ending in 'A'\n",
    "\n",
    "print(re.search(r\"^A.*a$\", \"Argentina\", re.IGNORECASE))\n",
    "print(re.search(r\"^A.*a$\", \"AUSTRALIA\", re.IGNORECASE))\n",
    "print(re.search(r\"^A.*a$\", \"austria\", re.IGNORECASE))\n",
    "print(re.search(r\"^A.*a$\", \"India\", re.IGNORECASE))"
   ]
  },
  {
   "cell_type": "code",
   "execution_count": 21,
   "metadata": {},
   "outputs": [
    {
     "name": "stdout",
     "output_type": "stream",
     "text": [
      "<re.Match object; span=(0, 4), match='This'>\n",
      "<re.Match object; span=(0, 7), match='_90_675'>\n",
      "<re.Match object; span=(0, 13), match='This_is_valid'>\n",
      "None\n"
     ]
    }
   ],
   "source": [
    "# to validate if a string is a valid python variable\n",
    "\n",
    "pattern = r\"^[a-zA-Z_][a-zA-Z_0-9]*$\"\n",
    "print(re.search(pattern, \"This\"))\n",
    "print(re.search(pattern, \"_90_675\"))\n",
    "print(re.search(pattern, \"This_is_valid\"))\n",
    "print(re.search(pattern, \"This is not valid\"))\n"
   ]
  },
  {
   "cell_type": "markdown",
   "metadata": {},
   "source": [
    "# **practice problems**"
   ]
  },
  {
   "cell_type": "code",
   "execution_count": 22,
   "metadata": {},
   "outputs": [
    {
     "name": "stdout",
     "output_type": "stream",
     "text": [
      "gmail.com :  <re.Match object; span=(0, 9), match='gmail.com'>\n",
      "True\n",
      "www@google :  None\n",
      "False\n",
      "www.Coursera.org :  <re.Match object; span=(0, 16), match='www.Coursera.org'>\n",
      "True\n",
      "web-address.com/homepage :  None\n",
      "False\n",
      "My_Favorite-Blog.US :  <re.Match object; span=(0, 19), match='My_Favorite-Blog.US'>\n",
      "True\n"
     ]
    }
   ],
   "source": [
    "import re\n",
    "\n",
    "\n",
    "def check_web_address(text):\n",
    "  pattern = r\"^[A-Za-z_0-9-.]*\\.[A-Za-z]*$\"\n",
    "  result = re.search(pattern, text)\n",
    "  print(text, \": \", result)\n",
    "  return result != None\n",
    "\n",
    "\n",
    "print(check_web_address(\"gmail.com\"))  # True\n",
    "print(check_web_address(\"www@google\"))  # False\n",
    "print(check_web_address(\"www.Coursera.org\"))  # True\n",
    "print(check_web_address(\"web-address.com/homepage\"))  # False\n",
    "print(check_web_address(\"My_Favorite-Blog.US\"))  # True\n"
   ]
  },
  {
   "cell_type": "code",
   "execution_count": 23,
   "metadata": {},
   "outputs": [
    {
     "name": "stdout",
     "output_type": "stream",
     "text": [
      "True\n",
      "True\n",
      "False\n",
      "False\n",
      "False\n"
     ]
    }
   ],
   "source": [
    "import re\n",
    "\n",
    "\n",
    "def check_time(text):\n",
    "  pattern = r'^[0-9]*:[0-5][0-9][ap]m*$|^[0-9]*:[0-5][0-9] [ap]m*$'\n",
    "  result = re.search(pattern, text, re.IGNORECASE)\n",
    "  return result != None\n",
    "\n",
    "\n",
    "print(check_time(\"12:45pm\"))  # True\n",
    "print(check_time(\"9:59 AM\"))  # True\n",
    "print(check_time(\"6:60am\"))  # False\n",
    "print(check_time(\"6:02km\"))  # False\n",
    "print(check_time(\"five o'clock\"))  # False\n"
   ]
  },
  {
   "cell_type": "code",
   "execution_count": 24,
   "metadata": {},
   "outputs": [
    {
     "name": "stdout",
     "output_type": "stream",
     "text": [
      "True\n",
      "True\n",
      "False\n",
      "True\n",
      "True\n"
     ]
    }
   ],
   "source": [
    "import re\n",
    "\n",
    "\n",
    "def contains_acronym(text):\n",
    "  pattern = r'\\([A-Z0-9][A-Za-z0-9]*\\)'\n",
    "  result = re.search(pattern, text)\n",
    "  return result != None\n",
    "\n",
    "\n",
    "print(contains_acronym(\n",
    "    \"Instant messaging (IM) is a set of communication technologies used for text-based communication\"))  # True\n",
    "print(contains_acronym(\"American Standard Code for Information Interchange (ASCII) is a character encoding standard for electronic communication\"))  # True\n",
    "print(contains_acronym(\"Please do NOT enter without permission!\"))  # False\n",
    "print(contains_acronym(\n",
    "    \"PostScript is a fourth-generation programming language (4GL)\"))  # True\n",
    "print(contains_acronym(\n",
    "    \"Have fun using a self-contained underwater breathing apparatus (Scuba)!\"))  # True\n"
   ]
  },
  {
   "cell_type": "code",
   "execution_count": 25,
   "metadata": {},
   "outputs": [
    {
     "name": "stdout",
     "output_type": "stream",
     "text": [
      "True\n",
      "False\n",
      "True\n",
      "False\n"
     ]
    }
   ],
   "source": [
    "import re\n",
    "\n",
    "\n",
    "def check_zip_code(text):\n",
    "  result = re.search(\n",
    "      r\" [0-9][0-9][0-9][0-9][0-9]| [0-9][0-9][0-9][0-9][0-9]-[0-9][0-9][0-9][0-9]\", text)\n",
    "  return result != None\n",
    "\n",
    "\n",
    "print(check_zip_code(\"The zip codes for New York are 10001 thru 11104.\"))  # True\n",
    "print(check_zip_code(\"90210 is a TV show\"))  # False\n",
    "print(check_zip_code(\n",
    "    \"Their address is: 123 Main Street, Anytown, AZ 85258-0001.\"))  # True\n",
    "print(check_zip_code(\n",
    "    \"The Parliament of Canada is at 111 Wellington St, Ottawa, ON K1A0A9.\"))  # False\n"
   ]
  },
  {
   "cell_type": "markdown",
   "metadata": {},
   "source": [
    "# Advanced Regular Expressions"
   ]
  },
  {
   "cell_type": "markdown",
   "metadata": {},
   "source": [
    "## Capturing Groups"
   ]
  },
  {
   "cell_type": "code",
   "execution_count": 26,
   "metadata": {},
   "outputs": [
    {
     "name": "stdout",
     "output_type": "stream",
     "text": [
      "<re.Match object; span=(0, 13), match='Lovelace, Adu'>\n",
      "('Lovelace', 'Adu')\n",
      "Lovelace, Adu\n",
      "Lovelace\n",
      "Adu\n",
      "Adu Lovelace\n"
     ]
    }
   ],
   "source": [
    "result= re.search(r\"^(\\w*), (\\w*)\", \"Lovelace, Adu\") # result is an object of re.match class\n",
    "print(result)\n",
    "\n",
    "print(result.groups()) # return the tuples of groups\n",
    "\n",
    "# Indexing \n",
    "print(result[0]) # whole string \n",
    "print(result[1]) # index 1 string \n",
    "print(result[2]) # index 2 string \n",
    "\n",
    "print(f'{result[2]} {result[1]}')"
   ]
  },
  {
   "cell_type": "code",
   "execution_count": 27,
   "metadata": {},
   "outputs": [
    {
     "name": "stdout",
     "output_type": "stream",
     "text": [
      "Ada Lovelace\n",
      "Dennis Rithie\n",
      "Deepankar Sharma\n",
      "Lady Joyce Flor\n",
      "Grace M. Hopper\n"
     ]
    }
   ],
   "source": [
    "def rearrange_name(name):\n",
    "    result = re.search(r\"^([\\w .-]*), ([\\w .-]*)$\", name)\n",
    "    if result is None:\n",
    "        print(name)\n",
    "    \n",
    "    print (f\"{result[2]} {result[1]}\")\n",
    "\n",
    "\n",
    "\n",
    "rearrange_name(\"Lovelace, Ada\")\n",
    "rearrange_name(\"Rithie, Dennis\")\n",
    "rearrange_name(\"Sharma, Deepankar\")\n",
    "rearrange_name(\"Flor, Lady Joyce\")\n",
    "rearrange_name(\"Hopper, Grace M.\")"
   ]
  },
  {
   "cell_type": "markdown",
   "metadata": {},
   "source": [
    "## More on Repetition Qualifiers"
   ]
  },
  {
   "cell_type": "code",
   "execution_count": 28,
   "metadata": {},
   "outputs": [
    {
     "name": "stdout",
     "output_type": "stream",
     "text": [
      "<re.Match object; span=(11, 16), match='Lucky'>\n",
      "['scary', 'ghost', 'appea']\n",
      "['scary', 'ghost']\n",
      "['really', 'strawberri']\n",
      "['sometimes', 'strawberries']\n"
     ]
    }
   ],
   "source": [
    "print(re.search(r\"[a-zA-Z]{5}\", \"My name is Lucky.\")) # string of letters that repeated 5 times\n",
    "\n",
    "\n",
    "print(re.findall(r\"[a-zA-Z]{5}\", \"A scary ghost appeared.\")) # list of words that have 5 letters\n",
    "print(re.findall(r\"\\b[a-zA-Z]{5}\\b\", \"A scary ghost appeared.\")) # list of full-words that have exactly 5 letters\n",
    "\n",
    "print(re.findall(r\"\\w{5,10}\", \"I really like strawberries\")) # list of strings that have 5 to 10 letters\n",
    "\n",
    "print(re.findall(r\"s\\w{,20}\", \"I sometimes really like strawberries\")) # list of strings that start with 's' and followed by upto 20 alphanumeric characters"
   ]
  },
  {
   "cell_type": "markdown",
   "metadata": {},
   "source": [
    "## Extracting a PID using regexes in Python"
   ]
  },
  {
   "cell_type": "code",
   "execution_count": 29,
   "metadata": {},
   "outputs": [
    {
     "name": "stdout",
     "output_type": "stream",
     "text": [
      "12345\n"
     ]
    }
   ],
   "source": [
    "import re\n",
    "\n",
    "log = 'July 31 07:51:48 mycomputer bad_process[12345]: ERROR Performing package upgrade'\n",
    "regex = r'\\[(\\d+)\\]'\n",
    "result = re.search(regex, log)\n",
    "\n",
    "print(result[1])"
   ]
  },
  {
   "cell_type": "code",
   "execution_count": 30,
   "metadata": {},
   "outputs": [
    {
     "name": "stdout",
     "output_type": "stream",
     "text": [
      "12345\n",
      "\n",
      "89013455\n"
     ]
    }
   ],
   "source": [
    "def extract_pid(log_line):\n",
    "    regex= r\"\\[(\\d+)\\]\"\n",
    "    result= re.search(regex, log_line)\n",
    "    if result is None:\n",
    "        print('')\n",
    "        return('')\n",
    "    print(result[1])\n",
    "\n",
    "extract_pid(\"July 31 07:51:48 mycomputer bad_process[12345]: ERROR Performing package upgrade\")\n",
    "extract_pid(\"99 elephants in a [row]\")\n",
    "extract_pid(\"99 elephants in a [89013455]\")\n"
   ]
  },
  {
   "cell_type": "markdown",
   "metadata": {},
   "source": [
    "## Splitting and Replacing"
   ]
  },
  {
   "cell_type": "code",
   "execution_count": 31,
   "metadata": {},
   "outputs": [
    {
     "name": "stdout",
     "output_type": "stream",
     "text": [
      "['One sentence', ' Another One', ' And the last one', '']\n",
      "['One sentence', '.', ' Another One', '?', ' And the last one', '!', '']\n",
      "Received an email from [Mr.X] for [Mr.X]\n",
      "Deepankar Sharma\n",
      "Lady Joyce Forniz\n"
     ]
    }
   ],
   "source": [
    "# split \n",
    "print(re.split(r\"[.?!]\", \"One sentence. Another One? And the last one!\")) # separate sentences\n",
    "print(re.split(r\"([.?!])\", \"One sentence. Another One? And the last one!\")) # separate sentences along with the punctuation marks using matching parentheses\n",
    "\n",
    "# sub\n",
    "print(re.sub(r\"[\\w.%+-]+@[\\w.-]+\", \"[Mr.X]\", \"Received an email from go_nuts@gehu.ac.in for DEEPANKARSHARMA.20041299@gehu.ac.in\")) # replacing the email addresses with Mr.X\n",
    "\n",
    "print(re.sub(r\"^([\\w .-]*), ([\\w .-]*)$\", r\"\\2 \\1\", \"Sharma, Deepankar\")) # replace the matched expression with \\2 ---> second captured group and \\1 ----> first captured group respectively\n",
    "print(re.sub(r\"^([\\w .-]*), ([\\w .-]*)$\", r\"\\2 \\1\", \"Joyce Forniz, Lady\")) # replace the matched expression with \\2 ---> second captured group and \\1 ----> first captured group respectively\n"
   ]
  },
  {
   "cell_type": "markdown",
   "metadata": {},
   "source": [
    "# **practice problems**\n"
   ]
  },
  {
   "cell_type": "code",
   "execution_count": 32,
   "metadata": {},
   "outputs": [
    {
     "name": "stdout",
     "output_type": "stream",
     "text": [
      "Sabrina Green,+1-802-867-5309,System Administrator\n",
      "Eli Jones,+1-684-3481127,IT specialist\n",
      "Melody Daniels,+1-846-687-7436,Programmer\n",
      "Charlie Rivera,+1-698-746-3357,Web Developer\n"
     ]
    }
   ],
   "source": [
    "import re\n",
    "\n",
    "def transform_record(record):\n",
    "  new_record = re.sub(r\"([0-9-]+)\", r\"+1-\\1\", record )\n",
    "  return new_record\n",
    "\n",
    "\n",
    "print(transform_record(\"Sabrina Green,802-867-5309,System Administrator\"))\n",
    "# Sabrina Green,+1-802-867-5309,System Administrator\n",
    "\n",
    "print(transform_record(\"Eli Jones,684-3481127,IT specialist\"))\n",
    "# Eli Jones,+1-684-3481127,IT specialist\n",
    "\n",
    "print(transform_record(\"Melody Daniels,846-687-7436,Programmer\"))\n",
    "# Melody Daniels,+1-846-687-7436,Programmer\n",
    "\n",
    "print(transform_record(\"Charlie Rivera,698-746-3357,Web Developer\"))\n",
    "# Charlie Rivera,+1-698-746-3357,Web Developer\n"
   ]
  },
  {
   "cell_type": "code",
   "execution_count": 33,
   "metadata": {},
   "outputs": [
    {
     "name": "stdout",
     "output_type": "stream",
     "text": [
      "['beautiful']\n",
      "['Obviously', 'queen', 'courageous', 'gracious']\n",
      "['rambunctious', 'quietly', 'delicious']\n"
     ]
    }
   ],
   "source": [
    "import re\n",
    "\n",
    "\n",
    "def multi_vowel_words(text):\n",
    "  pattern = r\"[a-zA-Z]+[aeiou]{3,}[a-z]+\"\n",
    "  result = re.findall(pattern, text)\n",
    "  return result\n",
    "\n",
    "\n",
    "print(multi_vowel_words(\"Life is beautiful\"))\n",
    "# ['beautiful']\n",
    "\n",
    "print(multi_vowel_words(\"Obviously, the queen is courageous and gracious.\"))\n",
    "# ['Obviously', 'queen', 'courageous', 'gracious']\n",
    "\n",
    "print(multi_vowel_words(\n",
    "    \"The rambunctious children had to sit quietly and await their delicious dinner.\"))\n",
    "# ['rambunctious', 'quietly', 'delicious']"
   ]
  },
  {
   "cell_type": "code",
   "execution_count": 34,
   "metadata": {},
   "outputs": [
    {
     "name": "stdout",
     "output_type": "stream",
     "text": [
      "// Start of program\n",
      "  number = 0   // Initialize the variable\n",
      "  number += 1   // Increment the variable\n",
      "  return(number)\n"
     ]
    }
   ],
   "source": [
    "import re\n",
    "\n",
    "\n",
    "def transform_comments(line_of_code):\n",
    "  result = re.sub(r\"#+\", r\"//\", line_of_code)\n",
    "  return result\n",
    "\n",
    "\n",
    "print(transform_comments(\"### Start of program\"))\n",
    "# Should be \"// Start of program\"\n",
    "print(transform_comments(\"  number = 0   ## Initialize the variable\"))\n",
    "# Should be \"  number = 0   // Initialize the variable\"\n",
    "print(transform_comments(\"  number += 1   # Increment the variable\"))\n",
    "# Should be \"  number += 1   // Increment the variable\"\n",
    "print(transform_comments(\"  return(number)\"))\n",
    "# Should be \"  return(number)\"\n"
   ]
  },
  {
   "cell_type": "code",
   "execution_count": 35,
   "metadata": {},
   "outputs": [
    {
     "name": "stdout",
     "output_type": "stream",
     "text": [
      "My number is (212) 345-9999.\n",
      "Please call (888) 555-1234\n",
      "123-123-12345\n",
      "Phone number of Buckingham Palace is +44 303 123 7300\n"
     ]
    }
   ],
   "source": [
    "import re\n",
    "def convert_phone_number(phone):\n",
    "  result = re.sub(r\"(\\b[0-9]{3}\\b)-(\\b[0-9]{3}\\b)-(\\b[0-9]{4}\\b)\", r\"(\\1) \\2-\\3\", phone)\n",
    "  return result\n",
    "\n",
    "print(convert_phone_number(\"My number is 212-345-9999.\")) # My number is (212) 345-9999.\n",
    "print(convert_phone_number(\"Please call 888-555-1234\")) # Please call (888) 555-1234\n",
    "print(convert_phone_number(\"123-123-12345\")) # 123-123-12345\n",
    "print(convert_phone_number(\"Phone number of Buckingham Palace is +44 303 123 7300\")) # Phone number of Buckingham Palace is +44 303 123 7300\n"
   ]
  },
  {
   "cell_type": "code",
   "execution_count": null,
   "metadata": {},
   "outputs": [],
   "source": []
  }
 ],
 "metadata": {
  "interpreter": {
   "hash": "6bea1d8ff66504a0e6b074007282c7755a91039a5750500feedce32a0acf9d3a"
  },
  "kernelspec": {
   "display_name": "Python 3.9.7 64-bit",
   "name": "python3"
  },
  "language_info": {
   "codemirror_mode": {
    "name": "ipython",
    "version": 3
   },
   "file_extension": ".py",
   "mimetype": "text/x-python",
   "name": "python",
   "nbconvert_exporter": "python",
   "pygments_lexer": "ipython3",
   "version": "3.9.7"
  },
  "orig_nbformat": 4
 },
 "nbformat": 4,
 "nbformat_minor": 2
}
