{
 "metadata": {
  "language_info": {
   "codemirror_mode": {
    "name": "ipython",
    "version": 3
   },
   "file_extension": ".py",
   "mimetype": "text/x-python",
   "name": "python",
   "nbconvert_exporter": "python",
   "pygments_lexer": "ipython3",
   "version": "3.9.6"
  },
  "orig_nbformat": 4,
  "kernelspec": {
   "name": "python3",
   "display_name": "Python 3.9.6 64-bit"
  },
  "interpreter": {
   "hash": "6bea1d8ff66504a0e6b074007282c7755a91039a5750500feedce32a0acf9d3a"
  }
 },
 "nbformat": 4,
 "nbformat_minor": 2,
 "cells": [
  {
   "cell_type": "code",
   "execution_count": 1,
   "source": [
    "# AIRTHEMETIC OPERATORS\r\n",
    "\r\n",
    "x = 15\r\n",
    "y = 4\r\n",
    "\r\n",
    "# addition\r\n",
    "# Output: x + y = 19\r\n",
    "print('x + y =', x+y)\r\n",
    "\r\n",
    "# subtraction\r\n",
    "# Output: x - y = 11\r\n",
    "print('x - y =', x-y)\r\n",
    "\r\n",
    "# multiplication\r\n",
    "# Output: x * y = 60\r\n",
    "print('x * y =', x*y)\r\n",
    "\r\n",
    "# division\r\n",
    "# Output: x / y = 3.75\r\n",
    "print('x / y =', x/y)\r\n",
    "\r\n",
    "# floor division\r\n",
    "# Output: x // y = 3\r\n",
    "print('x // y =',x//y)\r\n",
    "\r\n",
    "# modulo\r\n",
    "# Output: x % y = 3\r\n",
    "print('x % y =',x//y)\r\n",
    "\r\n",
    "# exponentiation\r\n",
    "# Output: x ** y = 50625\r\n",
    "print('x ** y =',x**y)"
   ],
   "outputs": [
    {
     "output_type": "stream",
     "name": "stdout",
     "text": [
      "x + y = 19\n",
      "x - y = 11\n",
      "x * y = 60\n",
      "x / y = 3.75\n",
      "x // y = 3\n",
      "x % y = 3\n",
      "x ** y = 50625\n"
     ]
    }
   ],
   "metadata": {}
  },
  {
   "cell_type": "code",
   "execution_count": 2,
   "source": [
    "# COMPARISION OPERATORS\r\n",
    "\r\n",
    "x = 10\r\n",
    "y = 12\r\n",
    "\r\n",
    "# Output: x > y is False\r\n",
    "print('x > y is',x>y)\r\n",
    "\r\n",
    "# Output: x < y is True\r\n",
    "print('x < y is',x<y)\r\n",
    "\r\n",
    "# Output: x == y is False\r\n",
    "print('x == y is',x==y)\r\n",
    "\r\n",
    "# Output: x != y is True\r\n",
    "print('x != y is',x!=y)\r\n",
    "\r\n",
    "# Output: x >= y is False\r\n",
    "print('x >= y is',x>=y)\r\n",
    "\r\n",
    "# Output: x <= y is True\r\n",
    "print('x <= y is',x<=y)"
   ],
   "outputs": [
    {
     "output_type": "stream",
     "name": "stdout",
     "text": [
      "x > y is False\n",
      "x < y is True\n",
      "x == y is False\n",
      "x != y is True\n",
      "x >= y is False\n",
      "x <= y is True\n"
     ]
    }
   ],
   "metadata": {}
  },
  {
   "cell_type": "code",
   "execution_count": 3,
   "source": [
    "# LOGICAL OPERATORS\r\n",
    "\r\n",
    "x = True\r\n",
    "y = False\r\n",
    "\r\n",
    "print('x and y is', x and y)\r\n",
    "\r\n",
    "print('x or y is', x or y)\r\n",
    "\r\n",
    "print('not x is', not x)"
   ],
   "outputs": [
    {
     "output_type": "stream",
     "name": "stdout",
     "text": [
      "x and y is False\n",
      "x or y is True\n",
      "not x is False\n"
     ]
    }
   ],
   "metadata": {}
  },
  {
   "cell_type": "code",
   "execution_count": 16,
   "source": [
    "# IDENTITY OPERATORS\r\n",
    "\r\n",
    "x1 = 5\r\n",
    "y1 = 5\r\n",
    "x2 = 'Hello'\r\n",
    "y2 = 'Hello'\r\n",
    "x3 = [1,2,3]\r\n",
    "y3 = [1,2,3]\r\n",
    "x4 = (1,2,3)\r\n",
    "y4 = (1,2,3)\r\n",
    "\r\n",
    "# Output: False\r\n",
    "print('x1 is not y1: ', x1 is not y1) # x1 and y1 are integers of the same values, so they are equal as well as identical\r\n",
    "\r\n",
    "# Output: True\r\n",
    "print('x2 is y2: ', x2 is y2) # x2 and y2 are strings of the same values, so they are equal as well as identical\r\n",
    "\r\n",
    "# Output: False\r\n",
    "print('x3 is y3 ',x3 is y3) # x3 and y3 are lists. They are equal but not identical. It is because the interpreter locates them separately in memory although they are equal\r\n",
    "\r\n",
    "\r\n",
    "# Output: False\r\n",
    "print('x4 is y4 ',x4 is y4) # x3 and y3 are tuples. They are equal but not identical. It is because the interpreter locates them separately in memory although they are equal"
   ],
   "outputs": [
    {
     "output_type": "stream",
     "name": "stdout",
     "text": [
      "x1 is not y1:  False\n",
      "x2 is y2:  True\n",
      "x3 is y3  False\n",
      "x4 is y4  False\n"
     ]
    }
   ],
   "metadata": {}
  },
  {
   "cell_type": "code",
   "execution_count": 14,
   "source": [
    "# MEMBERSHIP OPERATORS\r\n",
    "\r\n",
    "x = 'Hello world'\r\n",
    "y = {1:'a',2:'b'}\r\n",
    "\r\n",
    "# Output: True\r\n",
    "print('H' in x)\r\n",
    "\r\n",
    "# Output: True\r\n",
    "print('hello' not in x)\r\n",
    "\r\n",
    "# Output: True\r\n",
    "print(1 in y)\r\n",
    "\r\n",
    "# Output: False\r\n",
    "print('a' in y)\r\n",
    "\r\n",
    "# Output: True\r\n",
    "print('a' in y.values())"
   ],
   "outputs": [
    {
     "output_type": "stream",
     "name": "stdout",
     "text": [
      "True\n",
      "True\n",
      "True\n",
      "False\n",
      "True\n"
     ]
    }
   ],
   "metadata": {}
  },
  {
   "cell_type": "code",
   "execution_count": 23,
   "source": [
    "n=int(input())\r\n",
    "for j in range(n):\r\n",
    "    num=int(input())\r\n",
    "    sum=0\r\n",
    "    for i in range(1, num):\r\n",
    "        if(num%i==0):\r\n",
    "            # print(i)\r\n",
    "            sum+=i\r\n",
    "    if(sum==num):\r\n",
    "        print('YES')\r\n",
    "    else:\r\n",
    "        print('NO')\r\n"
   ],
   "outputs": [
    {
     "output_type": "stream",
     "name": "stdout",
     "text": [
      "1\n",
      "2\n",
      "NO\n",
      "1\n",
      "NO\n",
      "1\n",
      "2\n",
      "3\n",
      "YES\n"
     ]
    }
   ],
   "metadata": {}
  },
  {
   "cell_type": "code",
   "execution_count": 3,
   "source": [],
   "outputs": [
    {
     "output_type": "stream",
     "name": "stdout",
     "text": [
      "Counting up: 1,2,3,4,5,6,7,8,9,10\n",
      "Counting down: 2,1\n",
      "Counting up: 5\n"
     ]
    }
   ],
   "metadata": {}
  },
  {
   "cell_type": "code",
   "execution_count": 4,
   "source": [],
   "outputs": [
    {
     "output_type": "stream",
     "name": "stdout",
     "text": [
      "2 4 6\n",
      "2 4 6 8 10\n",
      "\n",
      "2\n",
      "\n"
     ]
    }
   ],
   "metadata": {}
  },
  {
   "cell_type": "code",
   "execution_count": 6,
   "source": [
    "def decade_counter():\r\n",
    "\twhile year < 50:\r\n",
    "\t\tyear += 10\r\n",
    "\treturn year"
   ],
   "outputs": [],
   "metadata": {}
  },
  {
   "cell_type": "code",
   "execution_count": 7,
   "source": [
    "for x in range(1, 10, 3):\r\n",
    "    print(x)\r\n",
    "\r\n",
    "print(x)"
   ],
   "outputs": [
    {
     "output_type": "stream",
     "name": "stdout",
     "text": [
      "1\n",
      "4\n",
      "7\n"
     ]
    }
   ],
   "metadata": {}
  },
  {
   "cell_type": "code",
   "execution_count": null,
   "source": [
    "for x in range(10):\r\n",
    "    for y in range(x):\r\n",
    "        print(y)"
   ],
   "outputs": [],
   "metadata": {}
  },
  {
   "cell_type": "code",
   "execution_count": 5,
   "source": [
    "\r\n",
    "str='My main career goal is to learn every day. I really want to learn and to progress in my career. Programming requires constant learning and improving. Taking this course will help me to learn and study this Data Science and also to implement it. It can help me advance in my knowledge. This course will help me in defining Data Science, understanding how Python could potentially impact our business and industry, to write a thought leadership piece regarding use cases and industry potential of Data Science, explain Data Science to clients, friends, joining a community of economists, business leaders, entrepreneurs, and technologists that are shaping this technology as we speak. Identifying which aspects of Data Science seem most important and relevant to us, Walking away with a strong foundation in where Data Science is going, what it does, and how to prepare for it. Data Science course will help me achieve it to learn. Courses on Coursera helped me to greatly increase my programming knowledge in the past.'\r\n",
    "str=str.replace('Data Science', 'IT')\r\n",
    "print(str)"
   ],
   "outputs": [
    {
     "output_type": "stream",
     "name": "stdout",
     "text": [
      "My main career goal is to learn every day. I really want to learn and to progress in my career. Programming requires constant learning and improving. Taking this course will help me to learn and study this IT and also to implement it. It can help me advance in my knowledge. This course will help me in defining IT, understanding how Python could potentially impact our business and industry, to write a thought leadership piece regarding use cases and industry potential of IT, explain IT to clients, friends, joining a community of economists, business leaders, entrepreneurs, and technologists that are shaping this technology as we speak. Identifying which aspects of IT seem most important and relevant to us, Walking away with a strong foundation in where IT is going, what it does, and how to prepare for it. IT course will help me achieve it to learn. Courses on Coursera helped me to greatly increase my programming knowledge in the past.\n"
     ]
    }
   ],
   "metadata": {}
  },
  {
   "cell_type": "code",
   "execution_count": 1,
   "source": [
    "print('hello')"
   ],
   "outputs": [
    {
     "output_type": "stream",
     "name": "stdout",
     "text": [
      "hello\n"
     ]
    }
   ],
   "metadata": {}
  },
  {
   "cell_type": "code",
   "execution_count": 2,
   "source": [
    "\r\n"
   ],
   "outputs": [
    {
     "output_type": "stream",
     "name": "stdout",
     "text": [
      "house number 123 on street named  Main Street\n",
      "house number 1001 on street named  1st Ave\n",
      "house number 55 on street named  North Center Drive\n"
     ]
    }
   ],
   "metadata": {}
  },
  {
   "cell_type": "code",
   "execution_count": null,
   "source": [],
   "outputs": [],
   "metadata": {}
  }
 ]
}