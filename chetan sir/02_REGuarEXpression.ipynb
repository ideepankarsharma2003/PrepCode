{
 "metadata": {
  "language_info": {
   "codemirror_mode": {
    "name": "ipython",
    "version": 3
   },
   "file_extension": ".py",
   "mimetype": "text/x-python",
   "name": "python",
   "nbconvert_exporter": "python",
   "pygments_lexer": "ipython3",
   "version": "3.9.2"
  },
  "orig_nbformat": 4,
  "kernelspec": {
   "name": "python3",
   "display_name": "Python 3.9.2 64-bit"
  },
  "interpreter": {
   "hash": "2f0c04edf02add2f409fc4cf5e9af5ab3b2644f9cc08cf5d748622478ceb7e6e"
  }
 },
 "nbformat": 4,
 "nbformat_minor": 2,
 "cells": [
  {
   "cell_type": "code",
   "execution_count": 1,
   "metadata": {},
   "outputs": [],
   "source": [
    "# REGULAR EXPRESSIONS\n",
    "# sequence of character that defines a search pattern\n",
    "# A pattern defined using RegEx can be used to match against a string.\n",
    "\n",
    "# ^a...s$     -----> This pattern defines 'any five letter string starting with a and ending with s'\n"
   ]
  },
  {
   "cell_type": "code",
   "execution_count": 3,
   "metadata": {},
   "outputs": [
    {
     "output_type": "stream",
     "name": "stdout",
     "text": [
      "Search successful.\n"
     ]
    }
   ],
   "source": [
    "# Module to work with regular expressions\n",
    "import re\n",
    "\n",
    "pattern = '^a...s$'\n",
    "test_string = input('Enter some string: ')\n",
    "result = re.match(pattern, test_string) # check if pattern is present in test_string\n",
    "\n",
    "if result:\n",
    "  print(\"Search successful.\")\n",
    "else:\n",
    "  print(\"Search unsuccessful.\")\t"
   ]
  },
  {
   "cell_type": "code",
   "execution_count": 4,
   "metadata": {},
   "outputs": [],
   "source": [
    "# To specify regular expressions , metacharacters are used\n",
    "\n",
    "# METACHARACTERS\n",
    "# Metacharacters are characters that are interpreted in a special way by a RegEx engine.\n"
   ]
  },
  {
   "cell_type": "code",
   "execution_count": 7,
   "metadata": {},
   "outputs": [],
   "source": [
    "# [] -----> specifies a set of characters you wish to match.\n",
    "\n",
    "# [ae]     -------> check if 'a' and 'c' are present in the expression\n",
    "# [a-e]    -------> is the same as [abcde]\n",
    "# [1-4]    -------> is the same as [1234]\n",
    "# [0-39]   -------> is the same as [01239]\n",
    "# [^abc]   -------> means any character except a or b or c\n",
    "# [^0-9]   -------> means any non-digit character"
   ]
  },
  {
   "cell_type": "code",
   "execution_count": null,
   "metadata": {},
   "outputs": [],
   "source": []
  }
 ]
}