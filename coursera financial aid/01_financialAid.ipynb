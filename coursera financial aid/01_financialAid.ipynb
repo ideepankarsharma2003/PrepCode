{
 "cells": [
  {
   "cell_type": "code",
   "execution_count": 1,
   "metadata": {},
   "outputs": [
    {
     "name": "stdout",
     "output_type": "stream",
     "text": [
      "I’m a student from India and want to learn Data Analysis. I think it will be beneficial for my work. But I’ve no job of my own to carry the expenses to pay for the certificate of this course. I live only for my scholarship, it is very much difficult for me to gather such amount of money for the certificate. Financial Aid will help me take this course without any adverse impact on my monthly essential needs. So I’m badly in need of this financial aid. I want to take this course as I want to learn. This course will boost my job prospects after graduation from my institute. It will help perform better in understanding and learning this technology and give me an edge over my competitors. A verified certificate will attach credibility to the certificate I receive from this course. I plan to complete all assignments on or before time as I have done in previous Signature Track Courses. Also, I intend to participate in Discussion Forums, which I have found to supplement my learning immensely in the other online courses I have taken on Coursera. I also plan to grade assignments that are to peer-reviewed which I believe will an invaluable learning opportunity.\n"
     ]
    }
   ],
   "source": [
    "str = 'I’m a student from India and want to learn Data Science. I think it will be beneficial for my work. But I’ve no job of my own to carry the expenses to pay for the certificate of this course. I live only for my scholarship, it is very much difficult for me to gather such amount of money for the certificate. Financial Aid will help me take this course without any adverse impact on my monthly essential needs. So I’m badly in need of this financial aid. I want to take this course as I want to learn. This course will boost my job prospects after graduation from my institute. It will help perform better in understanding and learning this technology and give me an edge over my competitors. A verified certificate will attach credibility to the certificate I receive from this course. I plan to complete all assignments on or before time as I have done in previous Signature Track Courses. Also, I intend to participate in Discussion Forums, which I have found to supplement my learning immensely in the other online courses I have taken on Coursera. I also plan to grade assignments that are to peer-reviewed which I believe will an invaluable learning opportunity.'\n",
    "\n",
    "p = 'Data Analysis'\n",
    "\n",
    "str=str.replace('Data Science', p)\n",
    "\n",
    "print(str)\n"
   ]
  },
  {
   "cell_type": "code",
   "execution_count": 2,
   "metadata": {},
   "outputs": [
    {
     "name": "stdout",
     "output_type": "stream",
     "text": [
      "My main career goal is to learn every day. I really want to learn and to progress in my career. Programming requires constant learning and improving. Taking this course will help me to learn and study this Data Analysis and also to implement it. It can help me advance in my knowledge. This course will help me in defining Data Analysis, understanding how Python could potentially impact our business and industry, to write a thought leadership piece regarding use cases and industry potential of Data Analysis, explain Data Analysis to clients, friends, joining a community of economists, business leaders, entrepreneurs, and technologists that are shaping this technology as we speak. Identifying which aspects of Data Analysis seem most important and relevant to us, Walking away with a strong foundation in where Data Analysis is going, what it does, and how to prepare for it. Data Analysis course will help me achieve it to learn. Courses on Coursera helped me to greatly increase my programming knowledge in the past.\n"
     ]
    }
   ],
   "source": [
    "str = 'My main career goal is to learn every day. I really want to learn and to progress in my career. Programming requires constant learning and improving. Taking this course will help me to learn and study this Data Science and also to implement it. It can help me advance in my knowledge. This course will help me in defining Data Science, understanding how Python could potentially impact our business and industry, to write a thought leadership piece regarding use cases and industry potential of Data Science, explain Data Science to clients, friends, joining a community of economists, business leaders, entrepreneurs, and technologists that are shaping this technology as we speak. Identifying which aspects of Data Science seem most important and relevant to us, Walking away with a strong foundation in where Data Science is going, what it does, and how to prepare for it. Data Science course will help me achieve it to learn. Courses on Coursera helped me to greatly increase my programming knowledge in the past.'\n",
    "\n",
    "\n",
    "str = str.replace('Data Science', p)\n",
    "\n",
    "print(str)"
   ]
  },
  {
   "cell_type": "code",
   "execution_count": 3,
   "metadata": {},
   "outputs": [
    {
     "name": "stdout",
     "output_type": "stream",
     "text": [
      " I don’t have enough money to invest in my education, I can invest only my time now.\n"
     ]
    }
   ],
   "source": [
    "c=' I don’t have enough money to invest in my education, I can invest only my time now.'\n",
    "print(c)"
   ]
  },
  {
   "cell_type": "code",
   "execution_count": null,
   "metadata": {},
   "outputs": [],
   "source": []
  }
 ],
 "metadata": {
  "kernelspec": {
   "display_name": "Python 3",
   "language": "python",
   "name": "python3"
  },
  "language_info": {
   "codemirror_mode": {
    "name": "ipython",
    "version": 3
   },
   "file_extension": ".py",
   "mimetype": "text/x-python",
   "name": "python",
   "nbconvert_exporter": "python",
   "pygments_lexer": "ipython3",
   "version": "3.9.6"
  },
  "orig_nbformat": 4,
  "vscode": {
   "interpreter": {
    "hash": "c0a3c91513ce8330cc510c252bd0d2b8c5edf3f02855cf0373cb264a8e18d0f0"
   }
  }
 },
 "nbformat": 4,
 "nbformat_minor": 2
}
