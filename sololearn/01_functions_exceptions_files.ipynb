{
 "metadata": {
  "language_info": {
   "codemirror_mode": {
    "name": "ipython",
    "version": 3
   },
   "file_extension": ".py",
   "mimetype": "text/x-python",
   "name": "python",
   "nbconvert_exporter": "python",
   "pygments_lexer": "ipython3",
   "version": "3.9.6"
  },
  "orig_nbformat": 2,
  "kernelspec": {
   "name": "python3",
   "display_name": "Python 3.9.6 64-bit"
  },
  "interpreter": {
   "hash": "6bea1d8ff66504a0e6b074007282c7755a91039a5750500feedce32a0acf9d3a"
  }
 },
 "nbformat": 4,
 "nbformat_minor": 2,
 "cells": [
  {
   "cell_type": "markdown",
   "source": [
    "# DRY principle ----> DON'T REPEAT PRINCIPLE\r\n",
    "# WET principle ----> WE ENJOY TYPING or WRITE EVERYTHING TWICE"
   ],
   "metadata": {}
  },
  {
   "cell_type": "code",
   "execution_count": 1,
   "source": [
    "# functions\r\n",
    "def say():\r\n",
    "    print('Hi there !!!')\r\n",
    "\r\n",
    "say()"
   ],
   "outputs": [
    {
     "output_type": "stream",
     "name": "stdout",
     "text": [
      "Hi there !!!\n"
     ]
    }
   ],
   "metadata": {}
  },
  {
   "cell_type": "code",
   "execution_count": 2,
   "source": [
    "# functions with argument\r\n",
    "def greet(word):\r\n",
    "    print(f'Good morning {word} !!!')\r\n",
    "\r\n",
    "greet('ram')\r\n",
    "greet('lucky')\r\n",
    "greet(2)"
   ],
   "outputs": [
    {
     "output_type": "stream",
     "name": "stdout",
     "text": [
      "Good morning ram !!!\n",
      "Good morning lucky !!!\n",
      "Good morning 2 !!!\n"
     ]
    }
   ],
   "metadata": {}
  },
  {
   "cell_type": "code",
   "execution_count": 3,
   "source": [
    "# functions with return statements\r\n",
    "def max(x, y):\r\n",
    "    if x>y:\r\n",
    "        return x\r\n",
    "    else:\r\n",
    "        return y\r\n",
    "\r\n",
    "a = 156\r\n",
    "b = 78\r\n",
    "print(f'The maximum of {a} and {b} is {max(a,b)}.')"
   ],
   "outputs": [
    {
     "output_type": "stream",
     "name": "stdout",
     "text": [
      "The maximum of 156 and 78 is 156.\n"
     ]
    }
   ],
   "metadata": {}
  },
  {
   "cell_type": "markdown",
   "source": [
    "'''\r\n",
    "     single line comments are given using octothorpe sign ----> '#'\r\n",
    "     do not have multiline commpents\r\n",
    "'''\r\n",
    "\r\n"
   ],
   "metadata": {}
  },
  {
   "cell_type": "code",
   "execution_count": 5,
   "source": [
    "# comments in python\r\n"
   ],
   "outputs": [],
   "metadata": {}
  },
  {
   "cell_type": "markdown",
   "source": [
    "'''\r\n",
    "    Unlike conventional comments, docstrings are retained throughout the runtime of the program. This allows the programmer to inspect these comments at run time. \r\n",
    "'''"
   ],
   "metadata": {}
  },
  {
   "cell_type": "code",
   "execution_count": 6,
   "source": [
    "# docstrings ---> ''' bla bla bla '''"
   ],
   "outputs": [],
   "metadata": {}
  },
  {
   "cell_type": "code",
   "execution_count": 7,
   "source": [
    "# passing the function as an argument to another function\r\n",
    "def add(x, y):\r\n",
    "    print('Function add() is called !!!')\r\n",
    "    print(f'x={x} & y={y}\\n')\r\n",
    "    return x + y\r\n",
    "\r\n",
    "def do_twice(func, x, y):\r\n",
    "    print('Function do_twice() is called !!!')\r\n",
    "    print(f'x={x} & y={y}\\n\\n\\n')\r\n",
    "    return func(func(x, y), func(x, y))\r\n",
    "\r\n",
    "a = 5\r\n",
    "b = 10\r\n",
    "\r\n",
    "print(do_twice(add, a, b))"
   ],
   "outputs": [
    {
     "output_type": "stream",
     "name": "stdout",
     "text": [
      "Function do_twice() is called !!!\n",
      "x=5 & y=10\n",
      "\n",
      "\n",
      "\n",
      "Function add() is called !!!\n",
      "x=5 & y=10\n",
      "\n",
      "Function add() is called !!!\n",
      "x=5 & y=10\n",
      "\n",
      "Function add() is called !!!\n",
      "x=15 & y=15\n",
      "\n",
      "30\n"
     ]
    }
   ],
   "metadata": {}
  },
  {
   "cell_type": "code",
   "execution_count": 8,
   "source": [
    "# Modules ------> peices of code written by other people\r\n",
    "# if module not present ImportError\r\n",
    "\r\n",
    "# importing random module\r\n",
    "import random\r\n",
    "\r\n",
    "for i in range(1,6):\r\n",
    "    value = random.randint(1, 6)\r\n",
    "    print(value)"
   ],
   "outputs": [
    {
     "output_type": "stream",
     "name": "stdout",
     "text": [
      "5\n",
      "5\n",
      "2\n",
      "6\n",
      "5\n"
     ]
    }
   ],
   "metadata": {}
  },
  {
   "cell_type": "code",
   "execution_count": 9,
   "source": [
    "from math import pi # import specific things from a module\r\n",
    "print(pi)"
   ],
   "outputs": [
    {
     "output_type": "stream",
     "name": "stdout",
     "text": [
      "3.141592653589793\n"
     ]
    }
   ],
   "metadata": {}
  },
  {
   "cell_type": "code",
   "execution_count": 10,
   "source": [
    "import math as m \r\n",
    "print(m.sqrt(25))"
   ],
   "outputs": [
    {
     "output_type": "stream",
     "name": "stdout",
     "text": [
      "5.0\n"
     ]
    }
   ],
   "metadata": {}
  },
  {
   "cell_type": "markdown",
   "source": [
    "# The Standard Library ----> preinstalled modules\r\n",
    "\"\"\"\r\n",
    "   contains many useful modules. Some of the standard library's useful modules include string, re, datetime, math, random, os, multiprocessing, subprocess, socket, email, json, doctest, unittest, pdb, argparse and sys.\r\n",
    "\"\"\"\r\n",
    "   \r\n",
    "\"\"\"\r\n",
    "   Some of the modules in the standard library are written in Python, and some are written in C.\r\n",
    "Most are available on all platforms, but some are Windows or Unix specific.\r\n",
    "\"\"\""
   ],
   "metadata": {}
  },
  {
   "cell_type": "code",
   "execution_count": 12,
   "source": [
    "# celcius to fahrenheit\r\n",
    "celsius = int(input())\r\n",
    "\r\n",
    "def conv(c):\r\n",
    "    # 9/5 * celsius + 32\r\n",
    "    fah = 9/5\r\n",
    "    fah*=c\r\n",
    "    fah+=32\r\n",
    "    return fah\r\n",
    "    \r\n",
    "    \r\n",
    "\r\n",
    "fahrenheit = conv(celsius)\r\n",
    "print(fahrenheit)"
   ],
   "outputs": [
    {
     "output_type": "stream",
     "name": "stdout",
     "text": [
      "93.2\n"
     ]
    }
   ],
   "metadata": {}
  },
  {
   "cell_type": "markdown",
   "source": [
    "# Exceptions ---> They occur when something goes wrong, due to incorrect code or input. When an exception occurs, the program immediately stops.\r\n"
   ],
   "metadata": {}
  },
  {
   "cell_type": "code",
   "execution_count": 14,
   "source": [
    "# Exception Handling\r\n",
    "try:\r\n",
    "    num1 = int(input('Enter the number 1:  '))\r\n",
    "    num2 = int(input('Enter the number 2:  '))\r\n",
    "    print (num1 / num2)\r\n",
    "    print(\"Done calculation\")\r\n",
    "    \r\n",
    "except ZeroDivisionError:\r\n",
    "    print(\"An error occurred\")\r\n",
    "    print(\"due to zero division\")"
   ],
   "outputs": [
    {
     "output_type": "stream",
     "name": "stdout",
     "text": [
      "An error occurred\n",
      "due to zero division\n"
     ]
    }
   ],
   "metadata": {}
  },
  {
   "cell_type": "code",
   "execution_count": 15,
   "source": [
    "try:\r\n",
    "    num1 = int(input('Enter the number 1:  '))\r\n",
    "    num2 = int(input('Enter the number 2:  '))\r\n",
    "    num3 = (input('Enter the number 3:  '))\r\n",
    "    print (num1 / num2)\r\n",
    "    print (num1 / num3)\r\n",
    "    print(\"Done calculation\")\r\n",
    "except ZeroDivisionError:\r\n",
    "    print(\"Divided by zero\")\r\n",
    "except (ValueError, TypeError):\r\n",
    "    print(\"Error occurred\")"
   ],
   "outputs": [
    {
     "output_type": "stream",
     "name": "stdout",
     "text": [
      "Error occurred\n"
     ]
    }
   ],
   "metadata": {}
  },
  {
   "cell_type": "code",
   "execution_count": 18,
   "source": [
    "try:\r\n",
    "  meaning = 42\r\n",
    "  print(meaning / 'ram')\r\n",
    "  print(\"the meaning of life\")\r\n",
    "except (ValueError, TypeError):\r\n",
    "  print(\"ValueError or TypeError occurred\")\r\n",
    "except ZeroDivisionError:\r\n",
    "  print(\"Divided by zero\")\r\n"
   ],
   "outputs": [
    {
     "output_type": "stream",
     "name": "stdout",
     "text": [
      "ValueError or TypeError occurred\n"
     ]
    }
   ],
   "metadata": {}
  },
  {
   "cell_type": "code",
   "execution_count": 16,
   "source": [
    "# An except statement without any exception specified will catch all errors.\r\n",
    "try:\r\n",
    "    word = \"spam\"\r\n",
    "    print(word / 0)\r\n",
    "except:\r\n",
    "    print(\"An error occurred\")"
   ],
   "outputs": [
    {
     "output_type": "stream",
     "name": "stdout",
     "text": [
      "An error occurred\n"
     ]
    }
   ],
   "metadata": {}
  },
  {
   "cell_type": "code",
   "execution_count": 17,
   "source": [
    "# finally\r\n",
    "try:\r\n",
    "    num1 = int(input('Enter the number 1:  '))\r\n",
    "    num2 = int(input('Enter the number 2:  '))\r\n",
    "    print (num1 / num2)\r\n",
    "    print(\"Done calculation\")\r\n",
    "    \r\n",
    "except ZeroDivisionError:\r\n",
    "    print(\"An error occurred\")\r\n",
    "    print(\"due to zero division\")\r\n",
    "finally:\r\n",
    "    print(\"This code will run no matter what\")"
   ],
   "outputs": [
    {
     "output_type": "stream",
     "name": "stdout",
     "text": [
      "10.757575757575758\n",
      "Done calculation\n",
      "This code will run no matter what\n"
     ]
    }
   ],
   "metadata": {}
  },
  {
   "cell_type": "code",
   "execution_count": 18,
   "source": [
    "# finally runs even if there's some uncaught exception\r\n",
    "try:\r\n",
    "    print(1)\r\n",
    "    print(10 / 0)\r\n",
    "except ZeroDivisionError:\r\n",
    "    print(unknown_var)  # throws error\r\n",
    "finally:\r\n",
    "    print(\"This is executed last\") # still executes"
   ],
   "outputs": [
    {
     "output_type": "stream",
     "name": "stdout",
     "text": [
      "1\n",
      "This is executed last\n"
     ]
    },
    {
     "output_type": "error",
     "ename": "NameError",
     "evalue": "name 'unknown_var' is not defined",
     "traceback": [
      "\u001b[1;31m---------------------------------------------------------------------------\u001b[0m",
      "\u001b[1;31mZeroDivisionError\u001b[0m                         Traceback (most recent call last)",
      "\u001b[1;32m~\\AppData\\Local\\Temp/ipykernel_6988/1049990161.py\u001b[0m in \u001b[0;36m<module>\u001b[1;34m\u001b[0m\n\u001b[0;32m      3\u001b[0m     \u001b[0mprint\u001b[0m\u001b[1;33m(\u001b[0m\u001b[1;36m1\u001b[0m\u001b[1;33m)\u001b[0m\u001b[1;33m\u001b[0m\u001b[1;33m\u001b[0m\u001b[0m\n\u001b[1;32m----> 4\u001b[1;33m     \u001b[0mprint\u001b[0m\u001b[1;33m(\u001b[0m\u001b[1;36m10\u001b[0m \u001b[1;33m/\u001b[0m \u001b[1;36m0\u001b[0m\u001b[1;33m)\u001b[0m\u001b[1;33m\u001b[0m\u001b[1;33m\u001b[0m\u001b[0m\n\u001b[0m\u001b[0;32m      5\u001b[0m \u001b[1;32mexcept\u001b[0m \u001b[0mZeroDivisionError\u001b[0m\u001b[1;33m:\u001b[0m\u001b[1;33m\u001b[0m\u001b[1;33m\u001b[0m\u001b[0m\n",
      "\u001b[1;31mZeroDivisionError\u001b[0m: division by zero",
      "\nDuring handling of the above exception, another exception occurred:\n",
      "\u001b[1;31mNameError\u001b[0m                                 Traceback (most recent call last)",
      "\u001b[1;32m~\\AppData\\Local\\Temp/ipykernel_6988/1049990161.py\u001b[0m in \u001b[0;36m<module>\u001b[1;34m\u001b[0m\n\u001b[0;32m      4\u001b[0m     \u001b[0mprint\u001b[0m\u001b[1;33m(\u001b[0m\u001b[1;36m10\u001b[0m \u001b[1;33m/\u001b[0m \u001b[1;36m0\u001b[0m\u001b[1;33m)\u001b[0m\u001b[1;33m\u001b[0m\u001b[1;33m\u001b[0m\u001b[0m\n\u001b[0;32m      5\u001b[0m \u001b[1;32mexcept\u001b[0m \u001b[0mZeroDivisionError\u001b[0m\u001b[1;33m:\u001b[0m\u001b[1;33m\u001b[0m\u001b[1;33m\u001b[0m\u001b[0m\n\u001b[1;32m----> 6\u001b[1;33m     \u001b[0mprint\u001b[0m\u001b[1;33m(\u001b[0m\u001b[0munknown_var\u001b[0m\u001b[1;33m)\u001b[0m  \u001b[1;31m# throws error\u001b[0m\u001b[1;33m\u001b[0m\u001b[1;33m\u001b[0m\u001b[0m\n\u001b[0m\u001b[0;32m      7\u001b[0m \u001b[1;32mfinally\u001b[0m\u001b[1;33m:\u001b[0m\u001b[1;33m\u001b[0m\u001b[1;33m\u001b[0m\u001b[0m\n\u001b[0;32m      8\u001b[0m     \u001b[0mprint\u001b[0m\u001b[1;33m(\u001b[0m\u001b[1;34m\"This is executed last\"\u001b[0m\u001b[1;33m)\u001b[0m \u001b[1;31m# still executes\u001b[0m\u001b[1;33m\u001b[0m\u001b[1;33m\u001b[0m\u001b[0m\n",
      "\u001b[1;31mNameError\u001b[0m: name 'unknown_var' is not defined"
     ]
    }
   ],
   "metadata": {}
  },
  {
   "cell_type": "code",
   "execution_count": 22,
   "source": [
    "# raise -----> to raise exception\r\n",
    "print(1)\r\n",
    "raise ValueError # value error raised\r\n",
    "print(2) # not executed"
   ],
   "outputs": [
    {
     "output_type": "stream",
     "name": "stdout",
     "text": [
      "1\n"
     ]
    },
    {
     "output_type": "error",
     "ename": "ValueError",
     "evalue": "",
     "traceback": [
      "\u001b[1;31m---------------------------------------------------------------------------\u001b[0m",
      "\u001b[1;31mValueError\u001b[0m                                Traceback (most recent call last)",
      "\u001b[1;32m<ipython-input-22-311193f3ecda>\u001b[0m in \u001b[0;36m<module>\u001b[1;34m\u001b[0m\n\u001b[0;32m      1\u001b[0m \u001b[1;31m# raise -----> to raise exception\u001b[0m\u001b[1;33m\u001b[0m\u001b[1;33m\u001b[0m\u001b[1;33m\u001b[0m\u001b[0m\n\u001b[0;32m      2\u001b[0m \u001b[0mprint\u001b[0m\u001b[1;33m(\u001b[0m\u001b[1;36m1\u001b[0m\u001b[1;33m)\u001b[0m\u001b[1;33m\u001b[0m\u001b[1;33m\u001b[0m\u001b[0m\n\u001b[1;32m----> 3\u001b[1;33m \u001b[1;32mraise\u001b[0m \u001b[0mValueError\u001b[0m \u001b[1;31m# value error raised\u001b[0m\u001b[1;33m\u001b[0m\u001b[1;33m\u001b[0m\u001b[0m\n\u001b[0m\u001b[0;32m      4\u001b[0m \u001b[0mprint\u001b[0m\u001b[1;33m(\u001b[0m\u001b[1;36m2\u001b[0m\u001b[1;33m)\u001b[0m \u001b[1;31m# not executed\u001b[0m\u001b[1;33m\u001b[0m\u001b[1;33m\u001b[0m\u001b[0m\n",
      "\u001b[1;31mValueError\u001b[0m: "
     ]
    }
   ],
   "metadata": {}
  },
  {
   "cell_type": "markdown",
   "source": [
    "# Assertions\r\n",
    "''' Assertions are the sanity checks that you can turn on or turn off when you have finished testing the program.'''"
   ],
   "metadata": {}
  },
  {
   "cell_type": "code",
   "execution_count": 19,
   "source": [
    "print(1)\r\n",
    "assert 2 + 2 == 4\r\n",
    "print(2)\r\n",
    "assert 1 + 1 == 3 # This will give an AssertionError\r\n",
    "print(3) "
   ],
   "outputs": [
    {
     "output_type": "stream",
     "name": "stdout",
     "text": [
      "1\n",
      "2\n"
     ]
    },
    {
     "output_type": "error",
     "ename": "AssertionError",
     "evalue": "",
     "traceback": [
      "\u001b[1;31m---------------------------------------------------------------------------\u001b[0m",
      "\u001b[1;31mAssertionError\u001b[0m                            Traceback (most recent call last)",
      "\u001b[1;32m~\\AppData\\Local\\Temp/ipykernel_6988/1389791741.py\u001b[0m in \u001b[0;36m<module>\u001b[1;34m\u001b[0m\n\u001b[0;32m      2\u001b[0m \u001b[1;32massert\u001b[0m \u001b[1;36m2\u001b[0m \u001b[1;33m+\u001b[0m \u001b[1;36m2\u001b[0m \u001b[1;33m==\u001b[0m \u001b[1;36m4\u001b[0m\u001b[1;33m\u001b[0m\u001b[1;33m\u001b[0m\u001b[0m\n\u001b[0;32m      3\u001b[0m \u001b[0mprint\u001b[0m\u001b[1;33m(\u001b[0m\u001b[1;36m2\u001b[0m\u001b[1;33m)\u001b[0m\u001b[1;33m\u001b[0m\u001b[1;33m\u001b[0m\u001b[0m\n\u001b[1;32m----> 4\u001b[1;33m \u001b[1;32massert\u001b[0m \u001b[1;36m1\u001b[0m \u001b[1;33m+\u001b[0m \u001b[1;36m1\u001b[0m \u001b[1;33m==\u001b[0m \u001b[1;36m3\u001b[0m \u001b[1;31m# This will give an AssertionError\u001b[0m\u001b[1;33m\u001b[0m\u001b[1;33m\u001b[0m\u001b[0m\n\u001b[0m\u001b[0;32m      5\u001b[0m \u001b[0mprint\u001b[0m\u001b[1;33m(\u001b[0m\u001b[1;36m3\u001b[0m\u001b[1;33m)\u001b[0m\u001b[1;33m\u001b[0m\u001b[1;33m\u001b[0m\u001b[0m\n",
      "\u001b[1;31mAssertionError\u001b[0m: "
     ]
    }
   ],
   "metadata": {}
  },
  {
   "cell_type": "code",
   "execution_count": 4,
   "source": [
    "'''The assert can take a second argument that is passed to the AssertionError raised if the assertion fails.'''\r\n",
    "temp = -10\r\n",
    "assert (temp >= 0), \"Colder than absolute zero!\" # ----> This raises the error"
   ],
   "outputs": [
    {
     "output_type": "error",
     "ename": "AssertionError",
     "evalue": "Colder than absolute zero!",
     "traceback": [
      "\u001b[1;31m---------------------------------------------------------------------------\u001b[0m",
      "\u001b[1;31mAssertionError\u001b[0m                            Traceback (most recent call last)",
      "\u001b[1;32m<ipython-input-4-965de9e64742>\u001b[0m in \u001b[0;36m<module>\u001b[1;34m\u001b[0m\n\u001b[0;32m      1\u001b[0m \u001b[1;34m'''The assert can take a second argument that is passed to the AssertionError raised if the assertion fails.'''\u001b[0m\u001b[1;33m\u001b[0m\u001b[1;33m\u001b[0m\u001b[0m\n\u001b[0;32m      2\u001b[0m \u001b[0mtemp\u001b[0m \u001b[1;33m=\u001b[0m \u001b[1;33m-\u001b[0m\u001b[1;36m10\u001b[0m\u001b[1;33m\u001b[0m\u001b[1;33m\u001b[0m\u001b[0m\n\u001b[1;32m----> 3\u001b[1;33m \u001b[1;32massert\u001b[0m \u001b[1;33m(\u001b[0m\u001b[0mtemp\u001b[0m \u001b[1;33m>=\u001b[0m \u001b[1;36m0\u001b[0m\u001b[1;33m)\u001b[0m\u001b[1;33m,\u001b[0m \u001b[1;34m\"Colder than absolute zero!\"\u001b[0m\u001b[1;33m\u001b[0m\u001b[1;33m\u001b[0m\u001b[0m\n\u001b[0m",
      "\u001b[1;31mAssertionError\u001b[0m: Colder than absolute zero!"
     ]
    }
   ],
   "metadata": {}
  },
  {
   "cell_type": "markdown",
   "source": [
    "# opening files\r\n",
    "# myfile = open('myfilename.txt')\r\n",
    "# opens file but since file is not present hence it shows error"
   ],
   "metadata": {}
  },
  {
   "cell_type": "code",
   "execution_count": 6,
   "source": [
    "# FILE MODES\r\n",
    "\r\n",
    "# write mode -----> opens file in write mode\r\n",
    "open(\"filename.txt\", \"w\")\r\n",
    "\r\n",
    "# read mode ----> opens file in read mode\r\n",
    "open(\"filename.txt\", \"r\")\r\n",
    "open(\"filename.txt\")\r\n",
    "\r\n",
    "# binary write mode ------> opens file in write mode\r\n",
    "open(\"filename.bin\", \"wb\")\r\n",
    "\r\n",
    "# write mode -----> opens file in read & write mode\r\n",
    "open(\"filename.txt\", \"r+\")\r\n",
    "\r\n",
    "\r\n"
   ],
   "outputs": [
    {
     "output_type": "execute_result",
     "data": {
      "text/plain": [
       "<_io.TextIOWrapper name='filename.txt' mode='r+' encoding='cp1252'>"
      ]
     },
     "metadata": {},
     "execution_count": 6
    }
   ],
   "metadata": {}
  },
  {
   "cell_type": "code",
   "execution_count": 1,
   "source": [
    "# Closing file\r\n",
    "\r\n",
    "myFile = open('myFile.txt', 'w')\r\n",
    "# do stuffs\r\n",
    "myFile.close() # closes myFile"
   ],
   "outputs": [],
   "metadata": {}
  },
  {
   "cell_type": "code",
   "execution_count": 3,
   "source": [
    "# Reading files\r\n",
    "\r\n",
    "file = open(\"filename.txt\", \"r\")\r\n",
    "cont = file.read() # reads and prints all the content of the file\r\n",
    "print(cont)\r\n",
    "file.close()"
   ],
   "outputs": [
    {
     "output_type": "stream",
     "name": "stdout",
     "text": [
      "tfwjekjelkkflkewf\n"
     ]
    }
   ],
   "metadata": {}
  },
  {
   "cell_type": "code",
   "execution_count": 6,
   "source": [
    "file = open(\"filename.txt\", \"r\")\r\n",
    "print('\\nthe content in the file is : \\n',file.read(16)) # reads 16 bytes from the file\r\n",
    "print('\\nthe content in the file is : \\n',file.read(4))  # reads 4 bytes from the file\r\n",
    "print('\\nthe content in the file is : \\n',file.read(4))  # reads 4 bytes from the file\r\n",
    "print('\\nthe content in the file is : \\n',file.read())   # reads all bytes from the file\r\n",
    "file.close()"
   ],
   "outputs": [
    {
     "output_type": "stream",
     "name": "stdout",
     "text": [
      "\n",
      "the content in the file is : \n",
      " Reading Files\n",
      "Af\n",
      "\n",
      "the content in the file is : \n",
      " ter \n",
      "\n",
      "the content in the file is : \n",
      " all \n",
      "\n",
      "the content in the file is : \n",
      " contents in a file have been read, any attempts to read further from that file will return an empty string, because you are trying to read from the end of the file.\n"
     ]
    }
   ],
   "metadata": {}
  },
  {
   "cell_type": "code",
   "execution_count": 11,
   "source": [
    "file = open(\"filename.txt\", \"r\")\r\n",
    "file.read() # read whole file\r\n",
    "print(\"Re-reading\")\r\n",
    "print(\"We've got the empty string: \",file.read(), \"-----> EOF\") # prints an empty string , because file has reached EOF\r\n",
    "print(\"Finished\")\r\n",
    "file.close()"
   ],
   "outputs": [
    {
     "output_type": "stream",
     "name": "stdout",
     "text": [
      "Re-reading\n",
      "We've got the empty string:   -----> EOF\n",
      "Finished\n"
     ]
    }
   ],
   "metadata": {}
  },
  {
   "cell_type": "code",
   "execution_count": 14,
   "source": [
    "file = open(\"filename.txt\", \"r\")\r\n",
    "lines = file.readlines() # reads file and gives a list where each element is the line of the file\r\n",
    "print(lines)\r\n",
    "file.close()\r\n",
    "\r\n",
    "for line in lines:\r\n",
    "    print(line)"
   ],
   "outputs": [
    {
     "output_type": "stream",
     "name": "stdout",
     "text": [
      "['deepankar\\n', 'sharma\\n', 'is \\n', 'a good \\n', 'boy']\n",
      "deepankar\n",
      "\n",
      "sharma\n",
      "\n",
      "is \n",
      "\n",
      "a good \n",
      "\n",
      "boy\n"
     ]
    }
   ],
   "metadata": {}
  },
  {
   "cell_type": "code",
   "execution_count": 20,
   "source": [
    "file = open(\"filename.txt\", \"r\")\r\n",
    "print(file.readline()) # reads on line at a time\r\n",
    "print(file.readline()) # reads on line at a time\r\n",
    "print(file.readline()) # reads on line at a time\r\n",
    "file.close()"
   ],
   "outputs": [
    {
     "output_type": "stream",
     "name": "stdout",
     "text": [
      "deepankar\n",
      "\n",
      "sharma\n",
      "\n",
      "is \n",
      "\n"
     ]
    }
   ],
   "metadata": {}
  },
  {
   "cell_type": "code",
   "execution_count": 21,
   "source": [
    "# Writing files\r\n",
    "\r\n",
    "file = open(\"newfile.txt\", \"w\")\r\n",
    "file.write(\"This has been written to a file\")\r\n",
    "file.close()\r\n",
    "\r\n",
    "file = open(\"newfile.txt\", \"r\")\r\n",
    "print(file.read())\r\n",
    "file.close()"
   ],
   "outputs": [
    {
     "output_type": "stream",
     "name": "stdout",
     "text": [
      "This has been written to a file\n"
     ]
    }
   ],
   "metadata": {}
  },
  {
   "cell_type": "code",
   "execution_count": 22,
   "source": [
    "# When a file is opened in write mode, the file's existing content is deleted.\r\n",
    "\r\n",
    "file = open(\"newfile.txt\", \"w\")\r\n",
    "file.write(\"Some new text\")\r\n",
    "file.close()\r\n",
    "\r\n",
    "file = open(\"newfile.txt\", \"r\")\r\n",
    "print(\"Reading new contents\")\r\n",
    "print(file.read())\r\n",
    "print(\"Finished\")\r\n",
    "file.close()"
   ],
   "outputs": [
    {
     "output_type": "stream",
     "name": "stdout",
     "text": [
      "Reading new contents\n",
      "Some new text\n",
      "Finished\n"
     ]
    }
   ],
   "metadata": {}
  },
  {
   "cell_type": "code",
   "execution_count": 23,
   "source": [
    "msg = \"Hello world!\"\r\n",
    "file = open(\"newfile.txt\", \"w\")\r\n",
    "amount_written = file.write(msg) # returns amount of character written\r\n",
    "print(amount_written)\r\n",
    "file.close()"
   ],
   "outputs": [
    {
     "output_type": "stream",
     "name": "stdout",
     "text": [
      "12\n"
     ]
    }
   ],
   "metadata": {}
  },
  {
   "cell_type": "code",
   "execution_count": 29,
   "source": [
    "#  Ensuring that file is closed even if some error occurs\r\n",
    "\r\n",
    "try:\r\n",
    "   f = open(\"dj.txt\")\r\n",
    "   print(f.read())\r\n",
    "finally:\r\n",
    "    f.close()\r\n",
    "    print('closing the file')"
   ],
   "outputs": [
    {
     "output_type": "stream",
     "name": "stdout",
     "text": [
      "closing the file\n"
     ]
    },
    {
     "output_type": "error",
     "ename": "FileNotFoundError",
     "evalue": "[Errno 2] No such file or directory: 'dj.txt'",
     "traceback": [
      "\u001b[1;31m---------------------------------------------------------------------------\u001b[0m",
      "\u001b[1;31mFileNotFoundError\u001b[0m                         Traceback (most recent call last)",
      "\u001b[1;32m<ipython-input-29-44fba7cf997e>\u001b[0m in \u001b[0;36m<module>\u001b[1;34m\u001b[0m\n\u001b[0;32m      2\u001b[0m \u001b[1;33m\u001b[0m\u001b[0m\n\u001b[0;32m      3\u001b[0m \u001b[1;32mtry\u001b[0m\u001b[1;33m:\u001b[0m\u001b[1;33m\u001b[0m\u001b[1;33m\u001b[0m\u001b[0m\n\u001b[1;32m----> 4\u001b[1;33m    \u001b[0mf\u001b[0m \u001b[1;33m=\u001b[0m \u001b[0mopen\u001b[0m\u001b[1;33m(\u001b[0m\u001b[1;34m\"dj.txt\"\u001b[0m\u001b[1;33m)\u001b[0m\u001b[1;33m\u001b[0m\u001b[1;33m\u001b[0m\u001b[0m\n\u001b[0m\u001b[0;32m      5\u001b[0m    \u001b[0mprint\u001b[0m\u001b[1;33m(\u001b[0m\u001b[0mf\u001b[0m\u001b[1;33m.\u001b[0m\u001b[0mread\u001b[0m\u001b[1;33m(\u001b[0m\u001b[1;33m)\u001b[0m\u001b[1;33m)\u001b[0m\u001b[1;33m\u001b[0m\u001b[1;33m\u001b[0m\u001b[0m\n\u001b[0;32m      6\u001b[0m \u001b[1;32mfinally\u001b[0m\u001b[1;33m:\u001b[0m\u001b[1;33m\u001b[0m\u001b[1;33m\u001b[0m\u001b[0m\n",
      "\u001b[1;31mFileNotFoundError\u001b[0m: [Errno 2] No such file or directory: 'dj.txt'"
     ]
    }
   ],
   "metadata": {}
  },
  {
   "cell_type": "code",
   "execution_count": 30,
   "source": [
    "with open(\"filename.txt\") as f:\r\n",
    "   print(f.read())\r\n",
    "# The file is automatically closed at the end of the with statement, even if exceptions occur within it."
   ],
   "outputs": [
    {
     "output_type": "stream",
     "name": "stdout",
     "text": [
      "deepankar\n",
      "sharma\n",
      "is \n",
      "a good \n",
      "boy\n"
     ]
    }
   ],
   "metadata": {}
  }
 ]
}