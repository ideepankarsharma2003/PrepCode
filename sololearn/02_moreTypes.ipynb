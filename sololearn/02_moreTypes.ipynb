{
 "metadata": {
  "language_info": {
   "codemirror_mode": {
    "name": "ipython",
    "version": 3
   },
   "file_extension": ".py",
   "mimetype": "text/x-python",
   "name": "python",
   "nbconvert_exporter": "python",
   "pygments_lexer": "ipython3",
   "version": "3.9.2"
  },
  "orig_nbformat": 4,
  "kernelspec": {
   "name": "python3",
   "display_name": "Python 3.9.2 64-bit"
  },
  "interpreter": {
   "hash": "2f0c04edf02add2f409fc4cf5e9af5ab3b2644f9cc08cf5d748622478ceb7e6e"
  }
 },
 "nbformat": 4,
 "nbformat_minor": 2,
 "cells": [
  {
   "cell_type": "code",
   "execution_count": 1,
   "metadata": {},
   "outputs": [
    {
     "output_type": "stream",
     "name": "stdout",
     "text": [
      "True\n"
     ]
    }
   ],
   "source": [
    "# None -----> absence of values\n",
    "print(None == None)"
   ]
  },
  {
   "cell_type": "code",
   "execution_count": 2,
   "metadata": {},
   "outputs": [
    {
     "output_type": "stream",
     "name": "stdout",
     "text": [
      "Hi!\nNone\n"
     ]
    }
   ],
   "source": [
    "# function that doesn't return anything returns None\n",
    "def some_func():\n",
    "    print(\"Hi!\")\n",
    "\n",
    "var = some_func()\n",
    "print(var)"
   ]
  },
  {
   "cell_type": "code",
   "execution_count": 3,
   "metadata": {},
   "outputs": [
    {
     "output_type": "stream",
     "name": "stdout",
     "text": [
      "24\n42\n"
     ]
    }
   ],
   "source": [
    "# Dictionaries\n",
    "\n",
    "ages = {\n",
    "    \"Dave\": 24, \n",
    "    \"Mary\": 42, \n",
    "    \"John\": 58\n",
    "}\n",
    "\n",
    "print(ages[\"Dave\"])\n",
    "print(ages[\"Mary\"])"
   ]
  },
  {
   "cell_type": "code",
   "execution_count": 8,
   "metadata": {},
   "outputs": [
    {
     "output_type": "stream",
     "name": "stdout",
     "text": [
      "[255, 0, 0]\n'yellow'\n"
     ]
    }
   ],
   "source": [
    "try:\n",
    "    primary = {\n",
    "        \"red\": [255, 0, 0], \n",
    "        \"green\": [0, 255, 0], \n",
    "        \"blue\": [0, 0, 255], \n",
    "    }\n",
    "\n",
    "    print(primary[\"red\"])\n",
    "    print(primary[\"yellow\"]) # produces the KeyError\n",
    "\n",
    "except Exception as e:\n",
    "    print(e)"
   ]
  },
  {
   "cell_type": "code",
   "execution_count": null,
   "metadata": {},
   "outputs": [],
   "source": []
  }
 ]
}