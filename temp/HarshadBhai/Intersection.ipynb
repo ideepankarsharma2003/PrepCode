{
 "cells": [
  {
   "cell_type": "code",
   "execution_count": null,
   "metadata": {},
   "outputs": [],
   "source": [
    "import cv2\n",
    "import numpy as np\n",
    "\n",
    "def find_maximum_intersection_area(image):\n",
    "  _, threshold = cv2.threshold(image, 127, 255, cv2.THRESH_BINARY)\n",
    "\n",
    "  contours, _ = cv2.findContours(threshold, cv2.RETR_EXTERNAL, cv2.CHAIN_APPROX_SIMPLE)\n",
    "\n",
    "\n",
    "  print(f'No of countours: {len(contours)}')\n",
    "\n",
    "  # Initialize the maximum intersection area to 0.\n",
    "  max_intersection_area = 0\n",
    "  max_intersection_mask = None\n",
    "\n",
    "  i=0\n",
    "  # Iterate over the contours and find the maximum intersection area.\n",
    "  for contour in contours:\n",
    "\n",
    "    if i == 0:\n",
    "      i = 1\n",
    "      continue\n",
    "\n",
    "    # Create a mask for the contour.\n",
    "    mask = np.zeros_like(image, dtype=np.uint8)\n",
    "    cv2.drawContours(mask, [contour], -1, (255, 255, 255), -1)\n",
    "\n",
    "    # Find the intersection of the mask and the image.\n",
    "    intersection_mask = mask & image\n",
    "\n",
    "    # Calculate the intersection area.\n",
    "    intersection_area = np.sum(intersection_mask)\n",
    "\n",
    "    # If the intersection area is greater than the maximum intersection area, update the maximum intersection area.\n",
    "    if intersection_area > max_intersection_area:\n",
    "      max_intersection_area = intersection_area\n",
    "      max_intersection_mask = intersection_mask\n",
    "\n",
    "  # Highlight the maximum intersection area in black.\n",
    "  image[max_intersection_mask > 0] = 0\n",
    "\n",
    "  return image\n"
   ]
  },
  {
   "cell_type": "code",
   "execution_count": null,
   "metadata": {},
   "outputs": [],
   "source": [
    "import matplotlib.pyplot as plt"
   ]
  },
  {
   "cell_type": "code",
   "execution_count": null,
   "metadata": {},
   "outputs": [],
   "source": [
    "image = cv2.imread(\"Input-1.jpg\")\n",
    "plt.imshow(image)"
   ]
  },
  {
   "cell_type": "code",
   "execution_count": null,
   "metadata": {},
   "outputs": [],
   "source": [
    "image_gray = cv2.cvtColor(image, cv2.COLOR_BGR2GRAY)\n",
    "plt.imshow(image_gray)"
   ]
  },
  {
   "cell_type": "code",
   "execution_count": null,
   "metadata": {},
   "outputs": [],
   "source": [
    "# image = find_maximum_intersection_area(image_gray)\n",
    "# image= cv2.cvtColor(image, cv2.COLOR_BGR2RGB)\n",
    "# plt.imshow(image)"
   ]
  },
  {
   "cell_type": "code",
   "execution_count": null,
   "metadata": {},
   "outputs": [],
   "source": [
    "_, threshold = cv2.threshold(image_gray, 127, 255, cv2.THRESH_TRIANGLE)\n",
    "\n",
    "plt.imshow(threshold)"
   ]
  },
  {
   "cell_type": "code",
   "execution_count": null,
   "metadata": {},
   "outputs": [],
   "source": [
    "# using a findContours() function\n",
    "contours, _ = cv2.findContours(\n",
    "\tthreshold, cv2.RETR_TREE, cv2.CHAIN_APPROX_SIMPLE)"
   ]
  },
  {
   "cell_type": "code",
   "execution_count": null,
   "metadata": {},
   "outputs": [],
   "source": [
    "print(f'no of countours is: {len(contours)}')"
   ]
  },
  {
   "cell_type": "code",
   "execution_count": null,
   "metadata": {},
   "outputs": [],
   "source": [
    "new_image= image.copy()"
   ]
  },
  {
   "cell_type": "code",
   "execution_count": null,
   "metadata": {},
   "outputs": [],
   "source": [
    "max_intersection_area = 0\n",
    "max_intersection_mask = None\n",
    "i=0\n",
    "# Iterate over the contours and find the maximum intersection area.\n",
    "for contour in contours:\n",
    "  if i == 0:\n",
    "    i = 1\n",
    "    continue\n",
    "  # Create a mask for the contour.\n",
    "  mask = np.zeros_like(image, dtype=np.uint8)\n",
    "  cv2.drawContours(mask, [contour], -1, (255, 255, 255), -1)\n",
    "  # Find the intersection of the mask and the image.\n",
    "  intersection_mask = mask & image\n",
    "  # Calculate the intersection area.\n",
    "  intersection_area = np.sum(intersection_mask)\n",
    "  # If the intersection area is greater than the maximum intersection area, update the maximum intersection area.\n",
    "  if intersection_area > max_intersection_area:\n",
    "    max_intersection_area = intersection_area\n",
    "    max_intersection_mask = intersection_mask\n",
    "# Highlight the maximum intersection area in black.\n",
    "image[max_intersection_mask > 0] = 0"
   ]
  },
  {
   "cell_type": "code",
   "execution_count": null,
   "metadata": {},
   "outputs": [],
   "source": [
    "plt.imshow(image)"
   ]
  },
  {
   "cell_type": "code",
   "execution_count": null,
   "metadata": {},
   "outputs": [],
   "source": [
    "# reading image\n",
    "img = cv2.imread('Input-1.jpg')\n",
    "\n",
    "# converting image into grayscale image\n",
    "gray = cv2.cvtColor(img, cv2.COLOR_BGR2GRAY)\n",
    "\n",
    "# setting threshold of gray image\n",
    "_, threshold = cv2.threshold(gray, 127, 255, cv2.THRESH_TRIANGLE)\n",
    "\n",
    "# using a findContours() function\n",
    "# contours, _ = cv2.findContours(\n",
    "\t# threshold, cv2.RETR_EXTERNAL, cv2.CHAIN_APPROX_SIMPLE)\n",
    "contours, _ = cv2.findContours(\n",
    "\tthreshold, cv2.RETR_TREE, cv2.CHAIN_APPROX_SIMPLE)\n",
    "\n",
    "i = 0\n",
    "shape= img.shape\n",
    "img_copy= np.zeros(shape=shape)\n",
    "\n",
    "# list for storing names of shapes\n",
    "for contour in contours:\n",
    "\n",
    "\t# here we are ignoring first counter because\n",
    "\t# findcontour function detects whole image as shape\n",
    "\tif i == 0:\n",
    "\t\ti = 1\n",
    "\t\tcontinue\n",
    "\n",
    "\t# cv2.approxPloyDP() function to approximate the shape\n",
    "\tapprox = cv2.approxPolyDP(\n",
    "\t\tcontour, 0.01 * cv2.arcLength(contour, True), True)\n",
    "\t\n",
    "\t\n",
    "\t\n",
    "\t# using drawContours() function\n",
    "\tcv2.drawContours(img, [contour], 0, (0, 0, 255), 5)\n",
    "\tcv2.drawContours(img_copy, [contour], 0, (0, 0, 255), 5)\n",
    "\n",
    "\n",
    "\t\n",
    "\n",
    "\t\n"
   ]
  },
  {
   "cell_type": "code",
   "execution_count": null,
   "metadata": {},
   "outputs": [],
   "source": [
    "plt.imshow(img)"
   ]
  },
  {
   "cell_type": "code",
   "execution_count": null,
   "metadata": {},
   "outputs": [],
   "source": [
    "img.shape"
   ]
  },
  {
   "cell_type": "code",
   "execution_count": null,
   "metadata": {},
   "outputs": [],
   "source": [
    "plt.imshow(img)"
   ]
  },
  {
   "cell_type": "code",
   "execution_count": null,
   "metadata": {},
   "outputs": [],
   "source": []
  },
  {
   "cell_type": "code",
   "execution_count": null,
   "metadata": {},
   "outputs": [],
   "source": [
    "plt.imshow(img_copy)"
   ]
  },
  {
   "cell_type": "code",
   "execution_count": null,
   "metadata": {},
   "outputs": [],
   "source": []
  },
  {
   "cell_type": "code",
   "execution_count": null,
   "metadata": {},
   "outputs": [],
   "source": []
  },
  {
   "cell_type": "code",
   "execution_count": null,
   "metadata": {},
   "outputs": [],
   "source": []
  },
  {
   "cell_type": "code",
   "execution_count": null,
   "metadata": {},
   "outputs": [],
   "source": [
    "foog = cv2.createBackgroundSubtractorMOG2(\n",
    "    detectShadows=False, varThreshold= 100, history=100)"
   ]
  },
  {
   "cell_type": "code",
   "execution_count": null,
   "metadata": {},
   "outputs": [],
   "source": [
    "frame= cv2.imread('Input-1.jpg')\n",
    "plt.imshow(frame)"
   ]
  },
  {
   "cell_type": "code",
   "execution_count": null,
   "metadata": {},
   "outputs": [],
   "source": [
    "fgmask = foog.apply(frame)\n",
    "\n",
    "# ret, fgmask = cv2.threshold(fgmask, 250, 255, cv2.THRESH_BINARY)"
   ]
  },
  {
   "cell_type": "code",
   "execution_count": null,
   "metadata": {},
   "outputs": [],
   "source": [
    "plt.imshow(fgmask)"
   ]
  },
  {
   "cell_type": "code",
   "execution_count": null,
   "metadata": {},
   "outputs": [],
   "source": []
  },
  {
   "cell_type": "code",
   "execution_count": null,
   "metadata": {},
   "outputs": [],
   "source": []
  },
  {
   "cell_type": "code",
   "execution_count": null,
   "metadata": {},
   "outputs": [],
   "source": []
  },
  {
   "cell_type": "markdown",
   "metadata": {},
   "source": [
    "# **GFG**"
   ]
  },
  {
   "cell_type": "code",
   "execution_count": null,
   "metadata": {},
   "outputs": [],
   "source": [
    "import cv2\n",
    "import numpy as np\n",
    "from matplotlib import pyplot as plt\n",
    "\n",
    "# reading image\n",
    "img = cv2.imread('shapes.png')\n",
    "\n",
    "# converting image into grayscale image\n",
    "gray = cv2.cvtColor(img, cv2.COLOR_BGR2GRAY)\n",
    "\n",
    "# setting threshold of gray image\n",
    "_, threshold = cv2.threshold(gray, 127, 255, cv2.THRESH_BINARY)\n",
    "\n",
    "# using a findContours() function\n",
    "contours, _ = cv2.findContours(\n",
    "\tthreshold, cv2.RETR_TREE, cv2.CHAIN_APPROX_SIMPLE)\n",
    "\n",
    "i = 0\n",
    "\n",
    "# list for storing names of shapes\n",
    "for contour in contours:\n",
    "\n",
    "\t# here we are ignoring first counter because\n",
    "\t# findcontour function detects whole image as shape\n",
    "\tif i == 0:\n",
    "\t\ti = 1\n",
    "\t\tcontinue\n",
    "\n",
    "\t# cv2.approxPloyDP() function to approximate the shape\n",
    "\tapprox = cv2.approxPolyDP(\n",
    "\t\tcontour, 0.01 * cv2.arcLength(contour, True), True)\n",
    "\t\n",
    "\t# using drawContours() function\n",
    "\tcv2.drawContours(img, [contour], 0, (0, 0, 255), 5)\n",
    "\n",
    "\t# finding center point of shape\n",
    "\tM = cv2.moments(contour)\n",
    "\tif M['m00'] != 0.0:\n",
    "\t\tx = int(M['m10']/M['m00'])\n",
    "\t\ty = int(M['m01']/M['m00'])\n",
    "\n",
    "\t# putting shape name at center of each shape\n",
    "\tif len(approx) == 3:\n",
    "\t\tcv2.putText(img, 'Triangle', (x, y),\n",
    "\t\t\t\t\tcv2.FONT_HERSHEY_SIMPLEX, 0.6, (255, 0, 255), 2)\n",
    "\n",
    "\telif len(approx) == 4:\n",
    "\t\tcv2.putText(img, 'Quadrilateral', (x, y),\n",
    "\t\t\t\t\tcv2.FONT_HERSHEY_SIMPLEX, 0.6, (255, 0, 255), 2)\n",
    "\n",
    "\telif len(approx) == 5:\n",
    "\t\tcv2.putText(img, 'Pentagon', (x, y),\n",
    "\t\t\t\t\tcv2.FONT_HERSHEY_SIMPLEX, 0.6, (255, 0, 255), 2)\n",
    "\n",
    "\telif len(approx) == 6:\n",
    "\t\tcv2.putText(img, 'Hexagon', (x, y),\n",
    "\t\t\t\t\tcv2.FONT_HERSHEY_SIMPLEX, 0.6, (255, 0, 255), 2)\n",
    "\n",
    "\telse:\n",
    "\t\tcv2.putText(img, 'circle', (x, y),\n",
    "\t\t\t\t\tcv2.FONT_HERSHEY_SIMPLEX, 0.6, (255, 0, 255), 2)\n",
    "\n",
    "# displaying the image after drawing contours\n",
    "plt.imshow(img)\n"
   ]
  },
  {
   "cell_type": "code",
   "execution_count": null,
   "metadata": {},
   "outputs": [],
   "source": [
    "import cv2\n",
    "import numpy as np\n",
    "from matplotlib import pyplot as plt\n",
    "\n",
    "# reading image\n",
    "img = cv2.imread('Input.jpg')\n",
    "\n",
    "# converting image into grayscale image\n",
    "gray = cv2.cvtColor(img, cv2.COLOR_BGR2GRAY)\n",
    "ret,thresh = cv2.threshold(gray,127,255,1)\n",
    "\n",
    "contours,h = cv2.findContours(thresh,1,2)\n",
    "\n",
    "for cnt in contours:\n",
    "    approx = cv2.approxPolyDP(cnt,0.01*cv2.arcLength(cnt,True),True)\n",
    "    print (len(approx))\n",
    "    if len(approx)==5:\n",
    "        print (\"pentagon\")\n",
    "        cv2.drawContours(img,[cnt],0,255,-1)\n",
    "    elif len(approx)==3:\n",
    "        print (\"triangle\")\n",
    "        cv2.drawContours(img,[cnt],0,(0,255,0),-1)\n",
    "    elif len(approx)==4:\n",
    "        print (\"square\")\n",
    "        cv2.drawContours(img,[cnt],0,(0,0,255),-1)\n",
    "    elif len(approx) == 9:\n",
    "        mask = np.zeros_like(img, dtype=np.uint8)\n",
    "        cv2.drawContours(mask, [cnt], -1, (255, 255, 255), -1)\n",
    "        # Find the intersection of the mask and the image.\n",
    "        intersection_mask = mask & img\n",
    "        print (\"half-circle\")\n",
    "        cv2.drawContours(img,[cnt],0,(255,255,0),-1)\n",
    "        intersection_area = np.sum(intersection_mask)\n",
    "\n",
    "    elif len(approx) > 15:\n",
    "        print (\"circle\")\n",
    "        cv2.drawContours(img,[cnt],0,(0,255,255),-1)\n",
    "\n",
    "# displaying the image after drawing contours\n",
    "plt.imshow(img)\n"
   ]
  },
  {
   "cell_type": "code",
   "execution_count": null,
   "metadata": {},
   "outputs": [],
   "source": [
    "img[intersection_mask < 0] = 0\n",
    "\n",
    "plt.imshow(intersection_mask)"
   ]
  },
  {
   "cell_type": "code",
   "execution_count": null,
   "metadata": {},
   "outputs": [],
   "source": []
  },
  {
   "cell_type": "code",
   "execution_count": null,
   "metadata": {},
   "outputs": [],
   "source": []
  },
  {
   "cell_type": "code",
   "execution_count": null,
   "metadata": {},
   "outputs": [],
   "source": []
  },
  {
   "cell_type": "code",
   "execution_count": null,
   "metadata": {},
   "outputs": [],
   "source": []
  },
  {
   "cell_type": "code",
   "execution_count": null,
   "metadata": {},
   "outputs": [],
   "source": [
    "import numpy as np\n",
    "import cv2 "
   ]
  },
  {
   "cell_type": "code",
   "execution_count": null,
   "metadata": {},
   "outputs": [],
   "source": [
    "img = cv2.imread('Input.jpg')\n",
    "imgGry = cv2.cvtColor(img, cv2.COLOR_BGR2GRAY)\n",
    "\n",
    "_, thrash = cv2.threshold(imgGry, 240 , 255, cv2.CHAIN_APPROX_NONE)\n",
    "contours , _ = cv2.findContours(thrash, cv2.RETR_TREE, cv2.CHAIN_APPROX_NONE)"
   ]
  },
  {
   "cell_type": "code",
   "execution_count": null,
   "metadata": {},
   "outputs": [],
   "source": [
    "print(f'No of countours: {len(contours)}')\n",
    "# Initialize the maximum intersection area to 0.\n",
    "max_intersection_area = 0\n",
    "max_intersection_mask = None\n",
    "\n",
    "i=0\n",
    "\n",
    "\n",
    "\n",
    " "
   ]
  },
  {
   "cell_type": "code",
   "execution_count": null,
   "metadata": {},
   "outputs": [],
   "source": [
    "\n",
    "for contour in contours:\n",
    "\n",
    "    if i <50:\n",
    "        i+=1\n",
    "        continue\n",
    "    approx = cv2.approxPolyDP(contour, 0.01* cv2.arcLength(contour, True), True)\n",
    "    cv2.drawContours(img, [approx], 0, (0, 0, 0), 5)\n",
    "    x = approx.ravel()[0]\n",
    "    y = approx.ravel()[1] - 5\n",
    "\n",
    "\n",
    "\n",
    "    mask = np.zeros_like(img, dtype=np.uint8)\n",
    "    cv2.drawContours(mask, [contour], -1, (255, 255, 255), -1)\n",
    "\n",
    "\n",
    "    intersection_mask = mask & img\n",
    "\n",
    "    # Calculate the intersection area.\n",
    "    intersection_area = np.sum(intersection_mask)\n",
    "\n",
    "    # If the intersection area is greater than the maximum intersection area, update the maximum intersection area.\n",
    "    if intersection_area > max_intersection_area:\n",
    "      max_intersection_area = intersection_area\n",
    "      max_intersection_mask = intersection_mask\n",
    "\n",
    "\n",
    "    if len(approx) == 3:\n",
    "        pass\n",
    "        # cv2.putText( img, \"Triangle\", (x, y), cv2.FONT_HERSHEY_COMPLEX, 0.5, (0, 0, 0) )\n",
    "    elif len(approx) == 4 :\n",
    "        # pass\n",
    "        x, y , w, h = cv2.boundingRect(approx)\n",
    "        # aspectRatio = float(w)/h\n",
    "        # print(aspectRatio)\n",
    "        # if aspectRatio >= 0.95 and aspectRatio < 1.05:\n",
    "            # cv2.putText(img, \"square\", (x, y), cv2.FONT_HERSHEY_COMPLEX, 0.5, (0, 0, 0))\n",
    "\n",
    "        # else:\n",
    "            # cv2.putText(img, \"rectangle\", (x, y), cv2.FONT_HERSHEY_COMPLEX, 0.5, (0, 0, 0))\n",
    "\n",
    "    elif len(approx) == 5 :\n",
    "        pass\n",
    "        # cv2.putText(img, \"pentagon\", (x, y), cv2.FONT_HERSHEY_COMPLEX, 0.5, (0, 0, 0))\n",
    "    elif len(approx) == 10 :\n",
    "        pass\n",
    "        # cv2.putText(img, \"star\", (x, y), cv2.FONT_HERSHEY_COMPLEX, 0.5, (0, 0, 0))\n",
    "    # else:\n",
    "    #     cv2.putText(img, \"circle\", (x, y), cv2.FONT_HERSHEY_COMPLEX, 0.5, (0, 0, 0))"
   ]
  },
  {
   "cell_type": "code",
   "execution_count": null,
   "metadata": {},
   "outputs": [],
   "source": [
    "plt.imshow(img)"
   ]
  },
  {
   "cell_type": "code",
   "execution_count": null,
   "metadata": {},
   "outputs": [],
   "source": [
    "img[max_intersection_mask > 0] = 0\n",
    "\n",
    "max_intersection_mask2= max_intersection_mask\n"
   ]
  },
  {
   "cell_type": "code",
   "execution_count": null,
   "metadata": {},
   "outputs": [],
   "source": []
  },
  {
   "cell_type": "code",
   "execution_count": null,
   "metadata": {},
   "outputs": [],
   "source": [
    "plt.imshow(img)"
   ]
  },
  {
   "cell_type": "code",
   "execution_count": null,
   "metadata": {},
   "outputs": [],
   "source": [
    "rectangle_intersection= img.copy()\n",
    "plt.imshow(rectangle_intersection)"
   ]
  },
  {
   "cell_type": "code",
   "execution_count": 1,
   "metadata": {},
   "outputs": [
    {
     "data": {
      "text/plain": [
       "'4.7.0'"
      ]
     },
     "execution_count": 1,
     "metadata": {},
     "output_type": "execute_result"
    }
   ],
   "source": [
    "import cv2\n",
    "cv2.__version__"
   ]
  },
  {
   "cell_type": "code",
   "execution_count": 2,
   "metadata": {},
   "outputs": [],
   "source": [
    "\n",
    "\n",
    "import numpy as np\n",
    "import matplotlib.pyplot as plt\n",
    "\n",
    " "
   ]
  },
  {
   "cell_type": "code",
   "execution_count": 3,
   "metadata": {},
   "outputs": [
    {
     "name": "stdout",
     "output_type": "stream",
     "text": [
      "No of countours: 32\n"
     ]
    }
   ],
   "source": [
    "img = cv2.imread('Input.jpg')\n",
    "imgGry = cv2.cvtColor(img, cv2.COLOR_BGR2GRAY)\n",
    "\n",
    "# _, thrash = cv2.threshold(imgGry, 240 , 255, cv2.CHAIN_APPROX_NONE)\n",
    "_, thrash = cv2.threshold(imgGry, 127 , 255, cv2.THRESH_BINARY)\n",
    "contours , _ = cv2.findContours(thrash, cv2.RETR_TREE, cv2.CHAIN_APPROX_NONE)\n",
    "\n",
    "\n",
    "print(f'No of countours: {len(contours)}')\n",
    "# Initialize the maximum intersection area to 0.\n",
    "max_intersection_area = 0\n",
    "max_intersection_mask = None\n",
    "\n",
    "i=0\n",
    "\n",
    "\n",
    "\n",
    "for contour in contours:\n",
    "\n",
    "    if i <24:\n",
    "        i+=1\n",
    "        continue\n",
    "    approx = cv2.approxPolyDP(contour, 0.01* cv2.arcLength(contour, True), True)\n",
    "    cv2.drawContours(img, [approx], 0, (0, 0, 0), 5)\n",
    "    x = approx.ravel()[0]\n",
    "    y = approx.ravel()[1] - 5\n",
    "\n",
    "\n",
    "\n",
    "    mask = np.zeros_like(img, dtype=np.uint8)\n",
    "    cv2.drawContours(mask, [contour], -1, (255, 255, 255), -1)\n",
    "\n",
    "\n",
    "    intersection_mask = mask & img\n",
    "\n",
    "    # Calculate the intersection area.\n",
    "    intersection_area = np.sum(intersection_mask)\n",
    "\n",
    "    # If the intersection area is greater than the maximum intersection area, update the maximum intersection area.\n",
    "    if intersection_area > max_intersection_area:\n",
    "      max_intersection_area = intersection_area\n",
    "      max_intersection_mask = intersection_mask\n",
    "\n",
    "\n",
    "    if len(approx) == 3:\n",
    "        pass\n",
    "        # cv2.putText( img, \"Triangle\", (x, y), cv2.FONT_HERSHEY_COMPLEX, 0.5, (0, 0, 0) )\n",
    "    elif len(approx) == 4 :\n",
    "        # pass\n",
    "        x, y , w, h = cv2.boundingRect(approx)\n",
    "        # aspectRatio = float(w)/h\n",
    "        # print(aspectRatio)\n",
    "        # if aspectRatio >= 0.95 and aspectRatio < 1.05:\n",
    "            # cv2.putText(img, \"square\", (x, y), cv2.FONT_HERSHEY_COMPLEX, 0.5, (0, 0, 0))\n",
    "\n",
    "        # else:\n",
    "            # cv2.putText(img, \"rectangle\", (x, y), cv2.FONT_HERSHEY_COMPLEX, 0.5, (0, 0, 0))\n",
    "\n",
    "    elif len(approx) == 5 :\n",
    "        pass\n",
    "        # cv2.putText(img, \"pentagon\", (x, y), cv2.FONT_HERSHEY_COMPLEX, 0.5, (0, 0, 0))\n",
    "    elif len(approx) == 10 :\n",
    "        pass\n",
    "        # cv2.putText(img, \"star\", (x, y), cv2.FONT_HERSHEY_COMPLEX, 0.5, (0, 0, 0))\n",
    "    # else:\n",
    "    #     cv2.putText(img, \"circle\", (x, y), cv2.FONT_HERSHEY_COMPLEX, 0.5, (0, 0, 0))\n",
    "\n",
    "\n",
    "max_intersection_mask1= max_intersection_mask\n",
    "img[max_intersection_mask > 0] = 0\n"
   ]
  },
  {
   "cell_type": "code",
   "execution_count": 4,
   "metadata": {},
   "outputs": [
    {
     "data": {
      "text/plain": [
       "array([[[0, 0, 0],\n",
       "        [0, 0, 0],\n",
       "        [0, 0, 0],\n",
       "        ...,\n",
       "        [0, 0, 0],\n",
       "        [0, 0, 0],\n",
       "        [0, 0, 0]],\n",
       "\n",
       "       [[0, 0, 0],\n",
       "        [0, 0, 0],\n",
       "        [0, 0, 0],\n",
       "        ...,\n",
       "        [0, 0, 0],\n",
       "        [0, 0, 0],\n",
       "        [0, 0, 0]],\n",
       "\n",
       "       [[0, 0, 0],\n",
       "        [0, 0, 0],\n",
       "        [0, 0, 0],\n",
       "        ...,\n",
       "        [0, 0, 0],\n",
       "        [0, 0, 0],\n",
       "        [0, 0, 0]],\n",
       "\n",
       "       ...,\n",
       "\n",
       "       [[0, 0, 0],\n",
       "        [0, 0, 0],\n",
       "        [0, 0, 0],\n",
       "        ...,\n",
       "        [0, 0, 0],\n",
       "        [0, 0, 0],\n",
       "        [0, 0, 0]],\n",
       "\n",
       "       [[0, 0, 0],\n",
       "        [0, 0, 0],\n",
       "        [0, 0, 0],\n",
       "        ...,\n",
       "        [0, 0, 0],\n",
       "        [0, 0, 0],\n",
       "        [0, 0, 0]],\n",
       "\n",
       "       [[0, 0, 0],\n",
       "        [0, 0, 0],\n",
       "        [0, 0, 0],\n",
       "        ...,\n",
       "        [0, 0, 0],\n",
       "        [0, 0, 0],\n",
       "        [0, 0, 0]]], dtype=uint8)"
      ]
     },
     "execution_count": 4,
     "metadata": {},
     "output_type": "execute_result"
    }
   ],
   "source": [
    "max_intersection_mask1"
   ]
  },
  {
   "cell_type": "code",
   "execution_count": 5,
   "metadata": {},
   "outputs": [
    {
     "data": {
      "text/plain": [
       "<matplotlib.image.AxesImage at 0x219683da220>"
      ]
     },
     "execution_count": 5,
     "metadata": {},
     "output_type": "execute_result"
    },
    {
     "data": {
      "image/png": "[encoded data removed]",
      "text/plain": [
       "<Figure size 432x288 with 1 Axes>"
      ]
     },
     "metadata": {},
     "output_type": "display_data"
    }
   ],
   "source": [
    "full_intersection= img.copy()\n",
    "plt.imshow(img)"
   ]
  },
  {
   "cell_type": "code",
   "execution_count": 6,
   "metadata": {},
   "outputs": [
    {
     "name": "stdout",
     "output_type": "stream",
     "text": [
      "No of countours: 124\n"
     ]
    }
   ],
   "source": [
    "img = cv2.imread('Input.jpg')\n",
    "imgGry = cv2.cvtColor(img, cv2.COLOR_BGR2GRAY)\n",
    "\n",
    "_, thrash = cv2.threshold(imgGry, 240 , 255, cv2.CHAIN_APPROX_NONE)\n",
    "# _, thrash = cv2.threshold(imgGry, 127 , 255, cv2.THRESH_BINARY)\n",
    "contours , _ = cv2.findContours(thrash, cv2.RETR_TREE, cv2.CHAIN_APPROX_NONE)\n",
    "\n",
    "\n",
    "print(f'No of countours: {len(contours)}')\n",
    "# Initialize the maximum intersection area to 0.\n",
    "max_intersection_area = 0\n",
    "max_intersection_mask = None\n",
    "\n",
    "i=0\n",
    "\n",
    "\n",
    "\n",
    "for contour in contours:\n",
    "\n",
    "    if i <12:\n",
    "        i+=1\n",
    "        continue\n",
    "    approx = cv2.approxPolyDP(contour, 0.01* cv2.arcLength(contour, True), True)\n",
    "    cv2.drawContours(img, [approx], 0, (0, 0, 0), 5)\n",
    "    x = approx.ravel()[0]\n",
    "    y = approx.ravel()[1] - 5\n",
    "\n",
    "\n",
    "\n",
    "    mask = np.zeros_like(img, dtype=np.uint8)\n",
    "    cv2.drawContours(mask, [contour], -1, (255, 255, 255), -1)\n",
    "\n",
    "\n",
    "    intersection_mask = mask & img\n",
    "\n",
    "    # Calculate the intersection area.\n",
    "    intersection_area = np.sum(intersection_mask)\n",
    "\n",
    "    # If the intersection area is greater than the maximum intersection area, update the maximum intersection area.\n",
    "    if intersection_area > max_intersection_area:\n",
    "      max_intersection_area = intersection_area\n",
    "      max_intersection_mask = intersection_mask\n",
    "\n",
    "\n",
    "    if len(approx) == 3:\n",
    "        pass\n",
    "        # cv2.putText( img, \"Triangle\", (x, y), cv2.FONT_HERSHEY_COMPLEX, 0.5, (0, 0, 0) )\n",
    "    elif len(approx) == 4 :\n",
    "        # pass\n",
    "        x, y , w, h = cv2.boundingRect(approx)\n",
    "        # aspectRatio = float(w)/h\n",
    "        # print(aspectRatio)\n",
    "        # if aspectRatio >= 0.95 and aspectRatio < 1.05:\n",
    "            # cv2.putText(img, \"square\", (x, y), cv2.FONT_HERSHEY_COMPLEX, 0.5, (0, 0, 0))\n",
    "\n",
    "        # else:\n",
    "            # cv2.putText(img, \"rectangle\", (x, y), cv2.FONT_HERSHEY_COMPLEX, 0.5, (0, 0, 0))\n",
    "\n",
    "    elif len(approx) == 5 :\n",
    "        pass\n",
    "        # cv2.putText(img, \"pentagon\", (x, y), cv2.FONT_HERSHEY_COMPLEX, 0.5, (0, 0, 0))\n",
    "    elif len(approx) == 10 :\n",
    "        pass\n",
    "        # cv2.putText(img, \"star\", (x, y), cv2.FONT_HERSHEY_COMPLEX, 0.5, (0, 0, 0))\n",
    "    # else:\n",
    "    #     cv2.putText(img, \"circle\", (x, y), cv2.FONT_HERSHEY_COMPLEX, 0.5, (0, 0, 0))\n",
    "\n",
    "\n",
    "max_intersection_mask2= max_intersection_mask\n",
    "img[max_intersection_mask > 0] = 0\n"
   ]
  },
  {
   "cell_type": "code",
   "execution_count": 7,
   "metadata": {},
   "outputs": [
    {
     "data": {
      "text/plain": [
       "array([[[0, 0, 0],\n",
       "        [0, 0, 0],\n",
       "        [0, 0, 0],\n",
       "        ...,\n",
       "        [0, 0, 0],\n",
       "        [0, 0, 0],\n",
       "        [0, 0, 0]],\n",
       "\n",
       "       [[0, 0, 0],\n",
       "        [0, 0, 0],\n",
       "        [0, 0, 0],\n",
       "        ...,\n",
       "        [0, 0, 0],\n",
       "        [0, 0, 0],\n",
       "        [0, 0, 0]],\n",
       "\n",
       "       [[0, 0, 0],\n",
       "        [0, 0, 0],\n",
       "        [0, 0, 0],\n",
       "        ...,\n",
       "        [0, 0, 0],\n",
       "        [0, 0, 0],\n",
       "        [0, 0, 0]],\n",
       "\n",
       "       ...,\n",
       "\n",
       "       [[0, 0, 0],\n",
       "        [0, 0, 0],\n",
       "        [0, 0, 0],\n",
       "        ...,\n",
       "        [0, 0, 0],\n",
       "        [0, 0, 0],\n",
       "        [0, 0, 0]],\n",
       "\n",
       "       [[0, 0, 0],\n",
       "        [0, 0, 0],\n",
       "        [0, 0, 0],\n",
       "        ...,\n",
       "        [0, 0, 0],\n",
       "        [0, 0, 0],\n",
       "        [0, 0, 0]],\n",
       "\n",
       "       [[0, 0, 0],\n",
       "        [0, 0, 0],\n",
       "        [0, 0, 0],\n",
       "        ...,\n",
       "        [0, 0, 0],\n",
       "        [0, 0, 0],\n",
       "        [0, 0, 0]]], dtype=uint8)"
      ]
     },
     "execution_count": 7,
     "metadata": {},
     "output_type": "execute_result"
    }
   ],
   "source": [
    "max_intersection_mask2"
   ]
  },
  {
   "cell_type": "code",
   "execution_count": 8,
   "metadata": {},
   "outputs": [
    {
     "data": {
      "text/plain": [
       "<matplotlib.image.AxesImage at 0x2196b4a04c0>"
      ]
     },
     "execution_count": 8,
     "metadata": {},
     "output_type": "execute_result"
    },
    {
     "data": {
      "image/png": "[encoded data removed]",
      "text/plain": [
       "<Figure size 432x288 with 1 Axes>"
      ]
     },
     "metadata": {},
     "output_type": "display_data"
    }
   ],
   "source": [
    "full_intersection= img.copy()\n",
    "plt.imshow(full_intersection)"
   ]
  },
  {
   "cell_type": "code",
   "execution_count": 10,
   "metadata": {},
   "outputs": [],
   "source": [
    "# desiredimage= rectangle_intersection & full_intersection\n",
    "# plt.imshow(desiredimage)"
   ]
  },
  {
   "cell_type": "code",
   "execution_count": 11,
   "metadata": {},
   "outputs": [
    {
     "data": {
      "text/plain": [
       "<matplotlib.image.AxesImage at 0x2196b5c9880>"
      ]
     },
     "execution_count": 11,
     "metadata": {},
     "output_type": "execute_result"
    },
    {
     "data": {
      "image/png": "[encoded data removed]",
      "text/plain": [
       "<Figure size 432x288 with 1 Axes>"
      ]
     },
     "metadata": {},
     "output_type": "display_data"
    }
   ],
   "source": [
    "img = cv2.imread('Input.jpg')\n",
    "\n",
    "final_mask= max_intersection_mask1&max_intersection_mask2\n",
    "\n",
    "img[final_mask>0]=0\n",
    "plt.imshow(img)"
   ]
  },
  {
   "cell_type": "code",
   "execution_count": null,
   "metadata": {},
   "outputs": [],
   "source": []
  },
  {
   "cell_type": "code",
   "execution_count": null,
   "metadata": {},
   "outputs": [],
   "source": []
  }
 ],
 "metadata": {
  "kernelspec": {
   "display_name": "Python 3",
   "language": "python",
   "name": "python3"
  },
  "language_info": {
   "codemirror_mode": {
    "name": "ipython",
    "version": 3
   },
   "file_extension": ".py",
   "mimetype": "text/x-python",
   "name": "python",
   "nbconvert_exporter": "python",
   "pygments_lexer": "ipython3",
   "version": "3.9.6"
  },
  "orig_nbformat": 4
 },
 "nbformat": 4,
 "nbformat_minor": 2
}
