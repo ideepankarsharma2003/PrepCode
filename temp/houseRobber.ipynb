{
 "cells": [
  {
   "cell_type": "code",
   "execution_count": 1,
   "metadata": {},
   "outputs": [
    {
     "name": "stdout",
     "output_type": "stream",
     "text": [
      "Hello\n"
     ]
    }
   ],
   "source": [
    "print(\"Hello\")"
   ]
  },
  {
   "cell_type": "code",
   "execution_count": 2,
   "metadata": {},
   "outputs": [],
   "source": [
    "from typing import List\n",
    "class Solution:\n",
    "    def rob(self, nums: List[int]) -> int:\n",
    "        n= len(nums)\n",
    "\n",
    "        def solve(l): # recursive function\n",
    "            # base condition \n",
    "            if l==0:\n",
    "                return 0\n",
    "\n",
    "            if l==1:\n",
    "                return nums[0]\n",
    "\n",
    "            # choice \n",
    "            house_robbed= nums[l-1]+ solve(l-2) # because we can't rob adj. neighbour\n",
    "            house_not_robbed= solve(l-1)\n",
    "            return max(house_not_robbed, house_robbed)\n",
    "\n",
    "\n",
    "        return solve(n)\n",
    "\n",
    "s= Solution()"
   ]
  },
  {
   "cell_type": "code",
   "execution_count": 11,
   "metadata": {},
   "outputs": [],
   "source": [
    "from typing import List\n",
    "class Solution:\n",
    "    def rob(self, nums: List[int]) -> int:\n",
    "        n= len(nums)\n",
    "        t= [0 for i in range(n+1)]\n",
    "        t[1]= nums[0]\n",
    "\n",
    "        for i in range(2, n+1):\n",
    "            house_robbed= nums[i-1]+ t[i-2] # because we can't rob adj. neighbour\n",
    "            house_not_robbed= t[i-1]\n",
    "            t[i]= max(house_not_robbed, house_robbed)\n",
    "\n",
    "        return t[-1]\n",
    "\n",
    "        # def solve(l): # recursive function\n",
    "        #     # base condition \n",
    "        #     if l==0:\n",
    "        #         return 0\n",
    "\n",
    "        #     if l==1:\n",
    "        #         return nums[0]\n",
    "\n",
    "        #     if t[l]!=-1:\n",
    "        #         return t[l]\n",
    "\n",
    "        #     # choice \n",
    "        #     house_robbed= nums[l-1]+ solve(l-2) # because we can't rob adj. neighbour\n",
    "        #     house_not_robbed= solve(l-1)\n",
    "        #     t[l]= max(house_not_robbed, house_robbed)\n",
    "        #     return t[l]\n",
    "\n",
    "\n",
    "        return solve(n)\n",
    "\n",
    "s= Solution()"
   ]
  },
  {
   "cell_type": "code",
   "execution_count": 12,
   "metadata": {},
   "outputs": [
    {
     "data": {
      "text/plain": [
       "4"
      ]
     },
     "execution_count": 12,
     "metadata": {},
     "output_type": "execute_result"
    }
   ],
   "source": [
    "nums = [1,2,3,1]\n",
    "# Output: 4\n",
    "s.rob(nums)"
   ]
  },
  {
   "cell_type": "code",
   "execution_count": 13,
   "metadata": {},
   "outputs": [
    {
     "data": {
      "text/plain": [
       "12"
      ]
     },
     "execution_count": 13,
     "metadata": {},
     "output_type": "execute_result"
    }
   ],
   "source": [
    "nums = [2,7,9,3,1]\n",
    "# Output: 12\n",
    "s.rob(nums)"
   ]
  },
  {
   "cell_type": "code",
   "execution_count": null,
   "metadata": {},
   "outputs": [],
   "source": []
  }
 ],
 "metadata": {
  "kernelspec": {
   "display_name": "Python 3",
   "language": "python",
   "name": "python3"
  },
  "language_info": {
   "codemirror_mode": {
    "name": "ipython",
    "version": 3
   },
   "file_extension": ".py",
   "mimetype": "text/x-python",
   "name": "python",
   "nbconvert_exporter": "python",
   "pygments_lexer": "ipython3",
   "version": "3.9.6"
  },
  "orig_nbformat": 4,
  "vscode": {
   "interpreter": {
    "hash": "c0a3c91513ce8330cc510c252bd0d2b8c5edf3f02855cf0373cb264a8e18d0f0"
   }
  }
 },
 "nbformat": 4,
 "nbformat_minor": 2
}
